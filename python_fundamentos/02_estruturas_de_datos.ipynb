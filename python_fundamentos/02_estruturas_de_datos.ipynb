{
 "cells": [
  {
   "cell_type": "markdown",
   "id": "15460d4f",
   "metadata": {},
   "source": [
    "# 02 Estruturas de datos\n",
    "\n",
    "## Contidos\n",
    "-    Conceptos de mutabilidade e orde\n",
    "    - Operadores de identidade: *is* e *not is*\n",
    "-    Estruturas de datos\n",
    "        - Listas\n",
    "            - Creación dunha lista *[ , ]*\n",
    "            - Función *list()*\n",
    "            - Acceso ós elementos dunha lista\n",
    "            - Troceado dunha lista, *slicing*\n",
    "            - Funcións e métodos:\n",
    "                - *len()*\n",
    "                - *index()*\n",
    "                - *insert()*\n",
    "                - *append()*\n",
    "                - *extend()*\n",
    "                - *remove()*\n",
    "                - *count()*\n",
    "                - *reverse()*\n",
    "                - *max()*\n",
    "                - *min()*\n",
    "                - *sort()*\n",
    "                - *sorted()*\n",
    "                - *pop()*\n",
    "                - Operadores *in* e *not in*\n",
    "                - *join()*\n",
    "        - Tuplas\n",
    "            - Creación dunha tupla *( , )* (empaquetado de tuplas)\n",
    "            - Creación dunha tupla baleira e conversión de iterables a tuplas: *tuple()*\n",
    "            - Desempaquetado de tuplas\n",
    "            - Acceso ós elementos dunha tupla.\n",
    "            - Funcións:\n",
    "                - *len()*\n",
    "                - *count()*\n",
    "                - *index()*\n",
    "        - Dicionarios\n",
    "            - Creación dun dicionario *{ : }*\n",
    "            - Acceso ós elementos dun dicionario *[ ]*\n",
    "            - Engadido de novos elementos ó dicionario\n",
    "            - Creación dun dicinario baleiro: *dict()*\n",
    "            - Borrado de elementos dun dicionario: *del*\n",
    "            - Funcións e métodos:\n",
    "                - *list()*\n",
    "                - *sorted()*\n",
    "                - *get()*\n",
    "                - Operadores *in* e *not in*\n",
    "                - *keys()* e *values()*\n",
    "                - *pop()* e *popitem()*\n",
    "                - *clear()*\n",
    "            - Estruturas complexas de dicionarios aniñados\n",
    "        - Conxuntos\n",
    "            - Creación de conxuntos *{ , }*\n",
    "            - *set()*\n",
    "            - Conxunto baleiro\n",
    "            - Funcións e métodos:\n",
    "                - *union()*\n",
    "                - *intersection()*\n",
    "                - *difference()*\n",
    "                -  Operadores *in* e *not in*\n",
    "                - *len()*\n",
    "                - *add()*\n",
    "                - *pop()*\n",
    "                - *remove()*\n",
    "                - *discard()*\n",
    "                - *clear()*\n",
    "  "
   ]
  },
  {
   "cell_type": "markdown",
   "id": "ffc8e579",
   "metadata": {},
   "source": [
    "---"
   ]
  },
  {
   "cell_type": "markdown",
   "id": "ff107a68",
   "metadata": {},
   "source": [
    "## Conceptos de mutabilidade e orde\n",
    "\n",
    "Antes de profundizar nos tipos e estruturas de datos, hai que aclarar dous conceptos básicos fundamentais en Python, o de **mutabilidade** e o de **orde**:\n",
    "\n",
    "- **Inmutable**: non é posible modifica-lo contido dun tipo de dato inmutable, unha vez creado, aínda que como en calquera variable si é posible asignarlle un novo valor. Exemplos de obxectos inmutables son os números, strings e tuplas.\n",
    "\n",
    "- **Mutable**: son todos aqueles obxectos ós que é posible modifica-lo seu contido. Os obxectos mutables más comúns son as listas, dicionarios e conxuntos, que serven para gardar coleccións de datos.\n",
    "\n",
    "\n",
    "| Tipos de datos mutables | Tipos de datos inmutables |\n",
    "| :--- | :--- |\n",
    "| listas | cadeas de texto |\n",
    "| dicionarios | tuplas |\n",
    "| sets | frozenset  |\n",
    "| bytearray | enteiros |\n",
    "| memoryview | float |\n",
    "| *clases definidas polo/a usuario/a* (arrays, pilas, colas,..) | complexos |\n",
    "|  | booleanos |\n",
    "|  | range |\n",
    "|  | bytes |"
   ]
  },
  {
   "cell_type": "code",
   "execution_count": 92,
   "id": "6e58cc65",
   "metadata": {},
   "outputs": [
    {
     "name": "stdout",
     "output_type": "stream",
     "text": [
      "['un', 2, 3, 4, 5]\n"
     ]
    }
   ],
   "source": [
    "lista = [1, 2, 3, 4, 5]  # unha lista é un obxecto mutable\n",
    "lista[0] = 'un'  # pódese modifica-lo seu contido con posterioridade á súa creación\n",
    "print(lista)"
   ]
  },
  {
   "cell_type": "code",
   "execution_count": 93,
   "id": "5ba99c06",
   "metadata": {},
   "outputs": [
    {
     "ename": "TypeError",
     "evalue": "'str' object does not support item assignment",
     "output_type": "error",
     "traceback": [
      "\u001b[0;31m---------------------------------------------------------------------------\u001b[0m",
      "\u001b[0;31mTypeError\u001b[0m                                 Traceback (most recent call last)",
      "Input \u001b[0;32mIn [93]\u001b[0m, in \u001b[0;36m<cell line: 2>\u001b[0;34m()\u001b[0m\n\u001b[1;32m      1\u001b[0m cadea_texto \u001b[38;5;241m=\u001b[39m \u001b[38;5;124m\"\u001b[39m\u001b[38;5;124mOla, Mundo!\u001b[39m\u001b[38;5;124m\"\u001b[39m  \u001b[38;5;66;03m# unha cadea de caracteres (string) é un obxecto inmutable\u001b[39;00m\n\u001b[0;32m----> 2\u001b[0m cadea_texto[\u001b[38;5;241m0\u001b[39m] \u001b[38;5;241m=\u001b[39m \u001b[38;5;124m'\u001b[39m\u001b[38;5;124mo\u001b[39m\u001b[38;5;124m'\u001b[39m\n",
      "\u001b[0;31mTypeError\u001b[0m: 'str' object does not support item assignment"
     ]
    }
   ],
   "source": [
    "cadea_texto = \"Ola, Mundo!\"  # unha cadea de caracteres (string) é un obxecto inmutable\n",
    "cadea_texto[0] = 'o'  # non é posible cambia-lo seu contido logo de ter sido creado"
   ]
  },
  {
   "cell_type": "code",
   "execution_count": 94,
   "id": "dbb6b34a",
   "metadata": {},
   "outputs": [
    {
     "ename": "TypeError",
     "evalue": "'tuple' object does not support item assignment",
     "output_type": "error",
     "traceback": [
      "\u001b[0;31m---------------------------------------------------------------------------\u001b[0m",
      "\u001b[0;31mTypeError\u001b[0m                                 Traceback (most recent call last)",
      "Input \u001b[0;32mIn [94]\u001b[0m, in \u001b[0;36m<cell line: 2>\u001b[0;34m()\u001b[0m\n\u001b[1;32m      1\u001b[0m tupla \u001b[38;5;241m=\u001b[39m (\u001b[38;5;241m1\u001b[39m, \u001b[38;5;241m2\u001b[39m, \u001b[38;5;241m3\u001b[39m, \u001b[38;5;241m4\u001b[39m, \u001b[38;5;241m5\u001b[39m)  \u001b[38;5;66;03m# unha tupla é un obxecto inmutable\u001b[39;00m\n\u001b[0;32m----> 2\u001b[0m tupla[\u001b[38;5;241m0\u001b[39m] \u001b[38;5;241m=\u001b[39m \u001b[38;5;241m0\u001b[39m  \u001b[38;5;66;03m# non é posible cambia-lo seu contido logo de ter sido creado\u001b[39;00m\n\u001b[1;32m      3\u001b[0m \u001b[38;5;28mprint\u001b[39m(tupla)\n",
      "\u001b[0;31mTypeError\u001b[0m: 'tuple' object does not support item assignment"
     ]
    }
   ],
   "source": [
    "tupla = (1, 2, 3, 4, 5)  # unha tupla é un obxecto inmutable\n",
    "tupla[0] = 0  # non é posible cambia-lo seu contido logo de ter sido creado\n",
    "print(tupla)"
   ]
  },
  {
   "cell_type": "markdown",
   "id": "46cc11b4",
   "metadata": {},
   "source": [
    "As principais diferenzas entre tipos mutables e inmutables son as seguintes:\n",
    "\n",
    ". Os **tipos inmutables son xeralmente máis rápidos de acceder** (se non se pensa modificar unha lista, é mellor usar unha tupla).\n",
    "\n",
    ". Os **tipos mutables son os axeitados cando se quere cambia-lo seu contido varias veces**.\n",
    "\n",
    ". Os tipos inmutables son caros de cambiar, xa que o que se fai en realidade é facer unha copia do seu contido nun novo obxecto coas modificacións."
   ]
  },
  {
   "cell_type": "markdown",
   "id": "d0463cbc",
   "metadata": {},
   "source": [
    "Para comprendelo mellor axuda compara-los cos conceptos de **paso por valor** ou **paso por referencia** aplicados ós parámetros pasados como entrada ás funcións, usados noutras linguaxes como *Pascal* ou *C*:\n",
    "\n",
    ". Os tipos **inmutables son pasados por valor**, por tanto dentro da función accédese a unha copia e non ó valor orixinal.\n",
    "\n",
    "    Se se usa un parámetro pasado por valor, créase unha copia local da variable, o que implica que \n",
    "    calquera modificación sobre a mesma non terá efecto sobre a orixinal.\n",
    "\n",
    ". Os tipos **mutables son pasados por referencia** ou como **punteiros**, como é o caso das listas e os dicionarios.\n",
    "\n",
    "    Cunha variable pasada como referencia, actúase directamente sobre a variable pasada, polo que \n",
    "    as modificacións afectarán á variable orixinal."
   ]
  },
  {
   "cell_type": "markdown",
   "id": "47a3733e",
   "metadata": {},
   "source": [
    "A forma máis sinxela de ve-la diferente forma en que Python usa os tipos mutables e inmutables é comparando as listas (mutables) en oposición ás tuplas (inmutables).\n",
    "\n",
    "Unha lista pode ser modificada unha vez creada:"
   ]
  },
  {
   "cell_type": "code",
   "execution_count": 16,
   "id": "48bbb145",
   "metadata": {},
   "outputs": [
    {
     "name": "stdout",
     "output_type": "stream",
     "text": [
      "140373085396608\n",
      "[1, 2, 3, 4, 5]\n",
      "140373085396608\n",
      "[0, 2, 3, 4, 5]\n"
     ]
    }
   ],
   "source": [
    "lista = [1, 2, 3, 4, 5]\n",
    "print(id(lista))  # id() devolve o identificador do obxecto\n",
    "print(lista)\n",
    "lista[0] = 0  # a asignación pódese realizar\n",
    "print(id(lista))  # como o obxecto é mutable o identificador devolto do obxecto non cambiou pese a muda-lo seu contido\n",
    "print(lista)"
   ]
  },
  {
   "cell_type": "markdown",
   "id": "09e20135",
   "metadata": {},
   "source": [
    "A función `id()` devolve un identificador único do obxecto e pódese observar que é o mesmo antes e despois de realiza-la modificación.\n",
    "\n",
    "\n",
    "Pola contra, unha tupla é inmutable, polo que a seguinte asignación dará un erro:"
   ]
  },
  {
   "cell_type": "code",
   "execution_count": 8,
   "id": "be7fb203",
   "metadata": {},
   "outputs": [
    {
     "ename": "TypeError",
     "evalue": "'tuple' object does not support item assignment",
     "output_type": "error",
     "traceback": [
      "\u001b[0;31m---------------------------------------------------------------------------\u001b[0m",
      "\u001b[0;31mTypeError\u001b[0m                                 Traceback (most recent call last)",
      "Input \u001b[0;32mIn [8]\u001b[0m, in \u001b[0;36m<cell line: 2>\u001b[0;34m()\u001b[0m\n\u001b[1;32m      1\u001b[0m tupla \u001b[38;5;241m=\u001b[39m (\u001b[38;5;241m1\u001b[39m, \u001b[38;5;241m2\u001b[39m, \u001b[38;5;241m3\u001b[39m, \u001b[38;5;241m4\u001b[39m, \u001b[38;5;241m5\u001b[39m)\n\u001b[0;32m----> 2\u001b[0m tupla[\u001b[38;5;241m0\u001b[39m] \u001b[38;5;241m=\u001b[39m \u001b[38;5;241m0\u001b[39m\n",
      "\u001b[0;31mTypeError\u001b[0m: 'tuple' object does not support item assignment"
     ]
    }
   ],
   "source": [
    "tupla = (1, 2, 3, 4, 5)\n",
    "tupla[0] = 0  # a asignación non se pode realizar"
   ]
  },
  {
   "cell_type": "markdown",
   "id": "378e4546",
   "metadata": {},
   "source": [
    "Os enteiros tamén son inmutables, pero mediante o seguinte exemplo queda máis claro que este tipo de datos non se pode modificar pese a que aparentemente nolo parecese:\n",
    "\n",
    ". Temos unha variable *x* coa súa id e engadímoslle unha unidade. O resultado é que o identificador cambia, xa que Python non pode cambia-lo número *10* ó se-lo enteiro un tipo inmutable."
   ]
  },
  {
   "cell_type": "code",
   "execution_count": 29,
   "id": "ecd0e8c4",
   "metadata": {},
   "outputs": [
    {
     "name": "stdout",
     "output_type": "stream",
     "text": [
      "10 en  140373777259088\n",
      "x en  140373777259088\n",
      "x =  10\n",
      "x en  140373777259120\n",
      "x =  11\n",
      "11 en  140373777259120\n"
     ]
    }
   ],
   "source": [
    "print('10 en ', id(10))  # 140373777259088 (o número 10 é inmutable e ten un identificador único)\n",
    "x = 10\n",
    "print('x en ', id(x)) # 140373777259088\n",
    "print('x = ', x)\n",
    "x = x + 1\n",
    "print('x en ', id(x)) # 140373777259120 (o id cambiou, xa que en realidade creouse un novo obxecto)\n",
    "print('x = ', x)\n",
    "print('11 en ', id(11))  # 140373777259120 (o número 11 é inmutable e ten un identificador único)"
   ]
  },
  {
   "cell_type": "markdown",
   "id": "cdecfc43",
   "metadata": {},
   "source": [
    "E aínda podemos facer máis probas..."
   ]
  },
  {
   "cell_type": "code",
   "execution_count": 31,
   "id": "2c5590e8",
   "metadata": {},
   "outputs": [
    {
     "name": "stdout",
     "output_type": "stream",
     "text": [
      "y en  140373777259088\n",
      "y =  10\n",
      "z en  140373777259120\n",
      "z =  11\n"
     ]
    }
   ],
   "source": [
    "y = 10\n",
    "print('y en ', id(y)) # 140373777259088 (o id da nova variable segue sendo o mesmo que tiña o obxecto 10)\n",
    "print('y = ', y)\n",
    "z = x\n",
    "print('z en ', id(z)) # 140373777259088  (o id da nova variable segue sendo o mesmo que tiña o obxecto x, cando pasou a conte-lo número 11)\n",
    "print('z = ', z)"
   ]
  },
  {
   "cell_type": "markdown",
   "id": "ac537d4e",
   "metadata": {},
   "source": [
    "Pola contra, se se usa unha lista, que é un tipo mutable, ó tentar modifica-la variable *x*, dita modificación pode ser realizada na mesma variable, polo que o `id()` é o mesmo:"
   ]
  },
  {
   "cell_type": "code",
   "execution_count": 51,
   "id": "3dc202c2",
   "metadata": {},
   "outputs": [
    {
     "name": "stdout",
     "output_type": "stream",
     "text": [
      "[1, 2, 3, 4, 5]\n",
      "140373085508160\n",
      "[1, 2, 3, 4, 5, 6]\n",
      "140373085508160\n"
     ]
    }
   ],
   "source": [
    "x = [1, 2, 3, 4, 5]\n",
    "print(x)\n",
    "print(id(x)) # 4382432768\n",
    "x.append(6)\n",
    "print(x)\n",
    "print(id(x)) # 4382432768 (Non cambia)"
   ]
  },
  {
   "cell_type": "markdown",
   "id": "53ced50c",
   "metadata": {},
   "source": [
    "### Operadores de identidade: *is* e *not is*\n",
    "\n",
    "O operador de identidade `is` indica se dúas variables fan referencia ó mesmo obxecto. Isto implica que se dúas variables distintas teñen o mesmo `id()`, o resultado de aplica-lo operador `is` sobre elas será `True`.\n",
    "\n",
    "| Operador | función |\n",
    "| :--- | :--- |\n",
    "| `is` | Devolve `True` se fan referencia ó mesmo obxecto |\n",
    "| `is not` | Devolve `False` se non fai referencia ó mesmo obxecto |\n",
    "\n",
    "No seguinte exemplo o valor *10* almacénase no mesmo obxecto para ambas variables, e usando a función `id()` pódese comprobar:"
   ]
  },
  {
   "cell_type": "code",
   "execution_count": 36,
   "id": "5c65f5d1",
   "metadata": {},
   "outputs": [
    {
     "name": "stdout",
     "output_type": "stream",
     "text": [
      "True\n",
      "140373777259088\n",
      "140373777259088\n"
     ]
    }
   ],
   "source": [
    "x = 10\n",
    "y = 10\n",
    "print(x is y)  # devolve True porque x e y refírense ó mesmo obxecto\n",
    "print(id(x))  # devolve o mesmo obxecto para ambas variables 140373777259088\n",
    "print(id(y))  # devolve o mesmo obxecto para ambas variables 140373777259088"
   ]
  },
  {
   "cell_type": "markdown",
   "id": "6d5a6849",
   "metadata": {},
   "source": [
    "**Non se deben confundir os operadores de identidade cos de igualdade!** Neste caso pódese ver como ambos valores son iguais co operador relacional `==`, pero nesta ocasión isto é unha simple coincidencia:\n",
    "**Que dous variables teñan o mesmo contido, non implica necesariamente que fagan referencia ó mesmo obxecto**."
   ]
  },
  {
   "cell_type": "code",
   "execution_count": 38,
   "id": "65a0d1b9",
   "metadata": {},
   "outputs": [
    {
     "name": "stdout",
     "output_type": "stream",
     "text": [
      "True\n"
     ]
    }
   ],
   "source": [
    "print(x == y) # devolve True xa que ambas variables teñen o mesmo valor (neste caso é lóxico xa que ambas apuntan ó mesmo obxecto)"
   ]
  },
  {
   "cell_type": "markdown",
   "id": "31aea018",
   "metadata": {},
   "source": [
    "No caso das listas, que é un tipo mutable, pódese comprobar que aínda que dúas listas poidan te-lo mismo valor, non son o mesmo obxecto:"
   ]
  },
  {
   "cell_type": "code",
   "execution_count": 52,
   "id": "7c00d2d7",
   "metadata": {},
   "outputs": [
    {
     "name": "stdout",
     "output_type": "stream",
     "text": [
      "True\n",
      "False\n",
      "True\n",
      "True\n",
      "140373086060992\n",
      "140373085692480\n",
      "140373086060992\n"
     ]
    }
   ],
   "source": [
    "# Python crea dous obxectos diferentes, un para cada lista: as listas son mutables.\n",
    "l1 = [1, 2, 3, 4, 5]\n",
    "l2 = [1, 2, 3, 4 ,5]\n",
    "\n",
    "l3 = l1  # créase unha lista que se refire ó mesmo obxecto (en realidade, deste xeito créase un alias)\n",
    "\n",
    "print(l1 == l2)  # devolve True xa que ambas listas teñen os mesmos elementos, son iguais\n",
    "print(l1 is l2)  # devolve False xa que son 2 obxectos diferentes\n",
    "\n",
    "print(l1 == l3)  # devolve True xa que ambas listas teñen os mesmos elementos, son iguais\n",
    "print(l1 is l3)  # devolve True xa que son o mesmo obxecto\n",
    "\n",
    "print(id(l1))  # devolve 140373085444544\n",
    "print(id(l2))  # devolve un obxecto distinto: 140373085409472\n",
    "\n",
    "print(id(l3))  # devolve o mesmo obxecto que l1: 140373085444544"
   ]
  },
  {
   "cell_type": "code",
   "execution_count": null,
   "id": "1486edd4",
   "metadata": {},
   "outputs": [],
   "source": [
    "O que si se pode e modifica-lo valor dunha tupla e comparar novamente a igualdade ou non:"
   ]
  },
  {
   "cell_type": "code",
   "execution_count": 55,
   "id": "459fbed8",
   "metadata": {},
   "outputs": [
    {
     "name": "stdout",
     "output_type": "stream",
     "text": [
      "False\n",
      "True\n",
      "140373086060992\n",
      "140373085692480\n",
      "140373086060992\n"
     ]
    }
   ],
   "source": [
    "l1[0] = 0\n",
    "print(l1 is l2)  # devolve False xa que son 2 obxectos diferentes\n",
    "print(l1 is l3)  # devolve True xa que son o mesmo obxecto\n",
    "\n",
    "print(id(l1))  # devolve 140373085444544\n",
    "print(id(l2))  # devolve un obxecto distinto: 140373085409472\n",
    "\n",
    "print(id(l3))  # devolve o mesmo obxecto que l1: 140373085444544\n"
   ]
  },
  {
   "cell_type": "markdown",
   "id": "6e62dabc",
   "metadata": {},
   "source": [
    "E no caso da tuplas, que é un tipo inmutable, tamén é posible comprobar se son a mesma, pero non modifica-lo seu valor unha vez creadas:"
   ]
  },
  {
   "cell_type": "code",
   "execution_count": 50,
   "id": "394cc8ed",
   "metadata": {},
   "outputs": [
    {
     "name": "stdout",
     "output_type": "stream",
     "text": [
      "False\n",
      "True\n",
      "False\n",
      "False\n",
      "140373085469568\n",
      "140373085469008\n",
      "140373085469568\n"
     ]
    }
   ],
   "source": [
    "# Python crea un único obxecto para ambas tuplas: as tuplas son inmutables.\n",
    "t1 = (1, 2, 3, 4, 5)\n",
    "t2 = (1, 2, 3, 4, 5)\n",
    "\n",
    "t3 = t1  # créase unha tupla que se refire ó mesmo obxecto (en realidade, deste xeito créase un alias)\n",
    "\n",
    "\n",
    "print(t1 != t2)  # devolve False xa que ambas tuplas teñen os mesmos elementos, son iguais\n",
    "print(t1 is not t2) # devolve True xa que ambas tuplas son obxectos distintos\n",
    "\n",
    "print(t1 != t3)  # devolve False xa que ambas tuplas teñen os mesmos elementos, son iguais\n",
    "print(t1 is not t3) # devolve False xa que ambas tuplas son o mesmo obxecto\n",
    "\n",
    "print(id(t1))  # devolve 140373085482736\n",
    "print(id(t2))  # devolve un obxecto distinto: 140373085491584\n",
    "\n",
    "print(id(t3))  # devolve o mesmo obxecto que t1: 140373085482736"
   ]
  },
  {
   "cell_type": "code",
   "execution_count": 54,
   "id": "0d3d973b",
   "metadata": {},
   "outputs": [
    {
     "name": "stdout",
     "output_type": "stream",
     "text": [
      "False\n"
     ]
    }
   ],
   "source": [
    "t1.add(0)\n",
    "print(t1 is t2) # devolve True xa que ambas tuplas son obxectos distintos\n",
    "print(t1 is t3)  # devolve True xa que son o mesmo obxecto\n",
    "\n",
    "print(id(t1))  # devolve 140373085482736\n",
    "print(id(t2))  # devolve un obxecto distinto: 140373085491584\n",
    "\n",
    "print(id(t3))  # devolve o mesmo obxecto que t1: 140373085482736"
   ]
  },
  {
   "cell_type": "markdown",
   "id": "c54eea3c",
   "metadata": {},
   "source": [
    "- **Ordeado**: refírese a se se pode utiliza-la posición dun elemento dun obxecto para acceder a el. As cadeas, tuplas e listas son tipos ordeados, polo que pódese usa-la orde, os índices, para acceder a partes dos obxectos, ó contrario dos dicionarios e conxuntos, que non son ordeados."
   ]
  },
  {
   "cell_type": "markdown",
   "id": "00131884",
   "metadata": {},
   "source": [
    "\n",
    "| Tipos de datos ordeados | Tipos de datos desordeados |\n",
    "| :--- | :--- |\n",
    "| listas | sets |\n",
    "| cadeas de texto | frozenset |\n",
    "| tuplas | enteiros |\n",
    "| range | float |\n",
    "| dicionarios (nas versións posteriores á Python 3.7) | dicionarios (nas versións anteriores á Python 3.7) |\n",
    "|  | complexos |\n",
    "|  | booleanos |\n",
    "|  | bytes |"
   ]
  },
  {
   "cell_type": "code",
   "execution_count": 3,
   "id": "16071e36",
   "metadata": {},
   "outputs": [
    {
     "name": "stdout",
     "output_type": "stream",
     "text": [
      "un\n",
      "O\n"
     ]
    }
   ],
   "source": [
    "print(lista[0])  # as listas son obxectos ordeados, polo que permiten acceder ós seus elementos mediante a posición que ocupan neles\n",
    "print(cadea_texto[0])  # as cadeas de texto tamén son obxectos ordeados"
   ]
  },
  {
   "cell_type": "markdown",
   "id": "5de4dc0e",
   "metadata": {},
   "source": [
    "## Estruturas de datos\n",
    "Ademais dos tipos de datos básicos (numéricos, de cadea de texto, booleanos e NoneType), Python proporciona outros tipos máis complexos de estruturas de datos, entre os que hai que destaca-los 4 seguintes tipos incorporados (*built-in*):\n",
    "\n",
    "- listas\n",
    "- tuplas\n",
    "- dicionarios\n",
    "- conxuntos"
   ]
  },
  {
   "cell_type": "markdown",
   "id": "5ffc0384",
   "metadata": {},
   "source": [
    "| Tipos de estruturas de datos | Ordeados | Mutables | Construtor | Exemplo |\n",
    "| :--- | :--- | :--- | :--- | :--- |\n",
    "| lista | Si | Si | `[ ]` ou `list()`| [45, 4, 'non', 4] |\n",
    "| tupla | Si | Non | `( )` ou `tuple()` | (45, 4, 'non', 4) |\n",
    "| conxunto | Non | Si | `{ }` ou `set()` | {45, 4, 'non'} |\n",
    "| dicionario | Non | Non | `{}` ou `dict()` | {'luns' : 1, 'martes' : 2, 'mércores' : 3} |\n",
    "\n",
    "*Ollo!*, pódense usa-las chaves `{ }` para definir un conxunto do seguinte xeito: *{1, 2, 3}*, sen embargo se o contido das chaves está baleiro, `{}`, o que se crea é un dicionario baleiro."
   ]
  },
  {
   "cell_type": "markdown",
   "id": "29bd7535",
   "metadata": {},
   "source": [
    "### Listas\n",
    "As listas son as estruturas de datos máis utilizadas en Python. Unha lista é unha estrutura que nos permite ter unha **secuencia ordeada mutable de elementos**, un **conxunto de obxectos separados por comas**.\n",
    "\n",
    "Unha lista está composta por 0 ou máis elementos.\n",
    "\n",
    "Esta estrutura de datos é **mutable**, é dicir, podemos cambia-lo valor dunha lista que creamos, cambiando a orde dos elementos, engadindo, modificando e eliminando seus elementos.\n",
    "\n",
    "Nunha lista poden existir elementos heteroxéneos, é dicir, **elementos con diferentes tipos de datos** ou, mesmo, diferentes estruturas de datos, o que as fai moi versátiles. Con todo, o normal é que todos os elementos dunha lista sexan do mesmo tipo.  \n",
    "\n",
    "- Creación dunha lista\n",
    "\n",
    "Para declarar unha lista, escribimos entre corchetes (`[]`) un conxunto de elementos separados por comas.\n"
   ]
  },
  {
   "cell_type": "code",
   "execution_count": 105,
   "id": "4796b2ad",
   "metadata": {},
   "outputs": [
    {
     "data": {
      "text/plain": [
       "['Ola', 45, True]"
      ]
     },
     "execution_count": 105,
     "metadata": {},
     "output_type": "execute_result"
    }
   ],
   "source": [
    "lista = ['Ola', 45, True]\n",
    "lista  # devolve ['Ola', 45, True]"
   ]
  },
  {
   "cell_type": "code",
   "execution_count": 109,
   "id": "8a1a0685",
   "metadata": {},
   "outputs": [
    {
     "data": {
      "text/plain": [
       "list"
      ]
     },
     "execution_count": 109,
     "metadata": {},
     "output_type": "execute_result"
    }
   ],
   "source": [
    "type(lista)  # devolve list"
   ]
  },
  {
   "cell_type": "markdown",
   "id": "104687a4",
   "metadata": {},
   "source": [
    "- `list()` Pódese crear unha lista baleira usando unicamente os corchetes sen ningún valor dentro ou utilizando a función `list()`:"
   ]
  },
  {
   "cell_type": "code",
   "execution_count": 24,
   "id": "47be0d5e",
   "metadata": {},
   "outputs": [],
   "source": [
    "lista_baleira = []"
   ]
  },
  {
   "cell_type": "code",
   "execution_count": 25,
   "id": "691529a8",
   "metadata": {},
   "outputs": [
    {
     "data": {
      "text/plain": [
       "list"
      ]
     },
     "execution_count": 25,
     "metadata": {},
     "output_type": "execute_result"
    }
   ],
   "source": [
    "type(lista_baleira)"
   ]
  },
  {
   "cell_type": "code",
   "execution_count": 125,
   "id": "190bb64e",
   "metadata": {},
   "outputs": [],
   "source": [
    "lista_baleira = list()  # list() sen argumentos equivale a crear unha lista baleira"
   ]
  },
  {
   "cell_type": "code",
   "execution_count": 126,
   "id": "8f300e08",
   "metadata": {},
   "outputs": [
    {
     "data": {
      "text/plain": [
       "list"
      ]
     },
     "execution_count": 126,
     "metadata": {},
     "output_type": "execute_result"
    }
   ],
   "source": [
    "type(lista_baleira)"
   ]
  },
  {
   "cell_type": "markdown",
   "id": "0b82953d",
   "metadata": {},
   "source": [
    "- Convertir ó tipo lista con `list()`\n",
    "\n",
    "Pódense converter outros tipos de datos nunha lista usando a función `list()` sobre calquera tipo de datos que permita ser iterado."
   ]
  },
  {
   "cell_type": "code",
   "execution_count": 21,
   "id": "dd979a57",
   "metadata": {},
   "outputs": [
    {
     "data": {
      "text/plain": [
       "['O', 'l', 'a', ' ', 'M', 'u', 'n', 'd', 'o']"
      ]
     },
     "execution_count": 21,
     "metadata": {},
     "output_type": "execute_result"
    }
   ],
   "source": [
    "list('Ola Mundo')  # converte unha cadea de texto nunha lista"
   ]
  },
  {
   "cell_type": "code",
   "execution_count": 14,
   "id": "ab23233a",
   "metadata": {},
   "outputs": [
    {
     "name": "stdout",
     "output_type": "stream",
     "text": [
      "0 1 2 3 4 "
     ]
    }
   ],
   "source": [
    "# a función range() permite xerar números enteiros, por exemplo:\n",
    "for i in range(5):  # imprime un rango de 5 números enteiros na mesma liña\n",
    "    print(i, end=\" \")"
   ]
  },
  {
   "cell_type": "code",
   "execution_count": 15,
   "id": "21948949",
   "metadata": {},
   "outputs": [
    {
     "data": {
      "text/plain": [
       "[0, 1, 2, 3, 4, 5, 6, 7, 8, 9]"
      ]
     },
     "execution_count": 15,
     "metadata": {},
     "output_type": "execute_result"
    }
   ],
   "source": [
    "list(range(10))  # converte un rango numérico nunha lista"
   ]
  },
  {
   "cell_type": "markdown",
   "id": "3091eadf",
   "metadata": {},
   "source": [
    "- Acceso ós elementos dunha lista\n",
    "\n",
    "Nunha lista pódense acceder ós distintos elementos da mesma de xeito idéntico ás cadeas de texto. Para iso, só temos que indica-la posición que ocupa o elemento\n",
    "dentro da lista, é dicir, indica-lo **índice** do elemento. \n",
    "\n",
    "Hai que ter en conta que **o primeiro elemento da lista ocupa a posición 0**, e que se se indica un índice anterior ó primeiro, ou posterior ó final obterase un erro."
   ]
  },
  {
   "cell_type": "code",
   "execution_count": 9,
   "id": "6e754206",
   "metadata": {},
   "outputs": [
    {
     "name": "stdout",
     "output_type": "stream",
     "text": [
      "True\n"
     ]
    }
   ],
   "source": [
    "lista = ['Ola', 45, True]\n",
    "lista[2]  # devolve o valor True\n",
    "print(lista[len(lista) - 1])  # devolve o último valor: True"
   ]
  },
  {
   "cell_type": "code",
   "execution_count": 3,
   "id": "94ea9337",
   "metadata": {},
   "outputs": [
    {
     "ename": "IndexError",
     "evalue": "list index out of range",
     "output_type": "error",
     "traceback": [
      "\u001b[0;31m---------------------------------------------------------------------------\u001b[0m",
      "\u001b[0;31mIndexError\u001b[0m                                Traceback (most recent call last)",
      "Input \u001b[0;32mIn [3]\u001b[0m, in \u001b[0;36m<cell line: 1>\u001b[0;34m()\u001b[0m\n\u001b[0;32m----> 1\u001b[0m \u001b[43mlista\u001b[49m\u001b[43m[\u001b[49m\u001b[38;5;241;43m25\u001b[39;49m\u001b[43m]\u001b[49m\n",
      "\u001b[0;31mIndexError\u001b[0m: list index out of range"
     ]
    }
   ],
   "source": [
    "lista[25]  # devolve un erro de índice fóra de rango"
   ]
  },
  {
   "cell_type": "code",
   "execution_count": 10,
   "id": "3a53e04c",
   "metadata": {},
   "outputs": [
    {
     "ename": "IndexError",
     "evalue": "list index out of range",
     "output_type": "error",
     "traceback": [
      "\u001b[0;31m---------------------------------------------------------------------------\u001b[0m",
      "\u001b[0;31mIndexError\u001b[0m                                Traceback (most recent call last)",
      "Input \u001b[0;32mIn [10]\u001b[0m, in \u001b[0;36m<cell line: 1>\u001b[0;34m()\u001b[0m\n\u001b[0;32m----> 1\u001b[0m \u001b[43mlista\u001b[49m\u001b[43m[\u001b[49m\u001b[38;5;28;43mlen\u001b[39;49m\u001b[43m(\u001b[49m\u001b[43mlista\u001b[49m\u001b[43m)\u001b[49m\u001b[43m]\u001b[49m\n",
      "\u001b[0;31mIndexError\u001b[0m: list index out of range"
     ]
    }
   ],
   "source": [
    "lista[len(lista)]  # devolve un erro de índice fóra de rango"
   ]
  },
  {
   "cell_type": "markdown",
   "id": "38b18f66",
   "metadata": {},
   "source": [
    "Permite usar índices negativos para conta-los elementos dende o final da lista"
   ]
  },
  {
   "cell_type": "code",
   "execution_count": 35,
   "id": "aead9d22",
   "metadata": {},
   "outputs": [
    {
     "data": {
      "text/plain": [
       "True"
      ]
     },
     "execution_count": 35,
     "metadata": {},
     "output_type": "execute_result"
    }
   ],
   "source": [
    "lista[-1] # devolve o último valor"
   ]
  },
  {
   "cell_type": "markdown",
   "id": "2e91ebc3",
   "metadata": {},
   "source": [
    "Uns últimos exemplos:"
   ]
  },
  {
   "cell_type": "code",
   "execution_count": 16,
   "id": "4c5248b5",
   "metadata": {},
   "outputs": [
    {
     "name": "stdout",
     "output_type": "stream",
     "text": [
      "xaneiro\n",
      "febreiro\n",
      "novembro\n",
      "decembro\n"
     ]
    },
    {
     "ename": "IndexError",
     "evalue": "list index out of range",
     "output_type": "error",
     "traceback": [
      "\u001b[0;31m---------------------------------------------------------------------------\u001b[0m",
      "\u001b[0;31mIndexError\u001b[0m                                Traceback (most recent call last)",
      "Input \u001b[0;32mIn [16]\u001b[0m, in \u001b[0;36m<cell line: 6>\u001b[0;34m()\u001b[0m\n\u001b[1;32m      4\u001b[0m \u001b[38;5;28mprint\u001b[39m(meses[\u001b[38;5;241m10\u001b[39m])  \u001b[38;5;66;03m# devolve novembro\u001b[39;00m\n\u001b[1;32m      5\u001b[0m \u001b[38;5;28mprint\u001b[39m(meses[\u001b[38;5;241m-\u001b[39m\u001b[38;5;241m1\u001b[39m])  \u001b[38;5;66;03m# devolve decembro\u001b[39;00m\n\u001b[0;32m----> 6\u001b[0m \u001b[38;5;28mprint\u001b[39m(\u001b[43mmeses\u001b[49m\u001b[43m[\u001b[49m\u001b[38;5;241;43m24\u001b[39;49m\u001b[43m]\u001b[49m)\n",
      "\u001b[0;31mIndexError\u001b[0m: list index out of range"
     ]
    }
   ],
   "source": [
    "meses = ['xaneiro', 'febreiro', 'marzo', 'abril', 'maio', 'xuño', 'xullo', 'agosto', 'setembro', 'outubro', 'novembro', 'decembro']\n",
    "print(meses[0])  # devolve xaneiro\n",
    "print(meses[1])  # devolve febreiro\n",
    "print(meses[10])  # devolve novembro\n",
    "print(meses[-1])  # devolve decembro\n",
    "print(meses[24])  # devolve IndexError: list index out of range\n"
   ]
  },
  {
   "cell_type": "code",
   "execution_count": 18,
   "id": "f1880a9f",
   "metadata": {},
   "outputs": [
    {
     "name": "stdout",
     "output_type": "stream",
     "text": [
      "31\n"
     ]
    }
   ],
   "source": [
    "mes = 7  # mes de xullo\n",
    "dias_do_mes = [31,28,31,30,31,30,31,31,30,31,30,31]\n",
    "\n",
    "# usando os índices das listas para determina-lo número de días de cada mes\n",
    "numero_dias = dias_do_mes[mes - 1]  # ollo con que o índice empeza en 0\n",
    "\n",
    "print(numero_dias)  # devolve 31, que é o número de días do 7º mes, xullo "
   ]
  },
  {
   "cell_type": "markdown",
   "id": "d3a384ba",
   "metadata": {},
   "source": [
    "- Troceado dunha lista\n",
    "\n",
    "Tamén pódese acceder a un conxunto de elementos dunha lista usando o símbolo de dous puntos (`:`) dentro dos corchetes: a isto se lle chama un **rango de índices**.\n",
    "\n",
    "Por exemplo, para obte-las x primeiras posicións dunha lista faríase o seguinte: `lista[:x]`"
   ]
  },
  {
   "cell_type": "markdown",
   "id": "f1b689fb",
   "metadata": {},
   "source": [
    "Cando se usan os rangos de **índices, existen uns valores por defecto cando non se indica o seu valor**. \n",
    "\n",
    "O **valor por defecto do primeiro índice é 0** e o **valor por defecto do último índice é a lonxitude da lista**.\n",
    "\n",
    "Así para obte-los *n* primeiros valores dunha lista se indicaría *`[:n]`*"
   ]
  },
  {
   "cell_type": "code",
   "execution_count": 4,
   "id": "ec5b4794",
   "metadata": {},
   "outputs": [
    {
     "data": {
      "text/plain": [
       "['xaneiro', 'febreiro']"
      ]
     },
     "execution_count": 4,
     "metadata": {},
     "output_type": "execute_result"
    }
   ],
   "source": [
    "meses = ['xaneiro', 'febreiro', 'marzo', 'abril', 'maio', 'xuño', 'xullo', 'agosto', 'setembro', 'outubro', 'novembro', 'decembro']\n",
    "meses[:2]  # devolve os 2 primeiros elementos da lista: ['xaneiro', 'febreiro']"
   ]
  },
  {
   "cell_type": "markdown",
   "id": "62a347ff",
   "metadata": {},
   "source": [
    "E para obte-los últimos valores dunha lista, a partir do *n*, pero sen incluír a este, indicaríase *`[n:]`*"
   ]
  },
  {
   "cell_type": "code",
   "execution_count": 56,
   "id": "88766ea7",
   "metadata": {},
   "outputs": [
    {
     "data": {
      "text/plain": [
       "['xullo', 'agosto', 'setembro', 'outubro', 'novembro', 'decembro']"
      ]
     },
     "execution_count": 56,
     "metadata": {},
     "output_type": "execute_result"
    }
   ],
   "source": [
    "meses[6:]  # devolve os últimos elementos da lista, a partir do 6º -non incluído-: ['xullo', 'agosto', 'setembro', 'outubro', 'novembro', 'decembro']"
   ]
  },
  {
   "cell_type": "code",
   "execution_count": 57,
   "id": "6abc8557",
   "metadata": {},
   "outputs": [
    {
     "data": {
      "text/plain": [
       "['febreiro',\n",
       " 'marzo',\n",
       " 'abril',\n",
       " 'maio',\n",
       " 'xuño',\n",
       " 'xullo',\n",
       " 'agosto',\n",
       " 'setembro',\n",
       " 'outubro',\n",
       " 'novembro',\n",
       " 'decembro']"
      ]
     },
     "execution_count": 57,
     "metadata": {},
     "output_type": "execute_result"
    }
   ],
   "source": [
    "meses[1:]  # devolve os elementos da lista, a partir do 1º: ['febreiro', 'marzo', 'abril', 'maio', 'xuño', 'xullo', 'agosto', 'setembro', 'outubro', 'novembro', 'decembro']"
   ]
  },
  {
   "cell_type": "markdown",
   "id": "d0ad0a58",
   "metadata": {},
   "source": [
    "Cando se usa o rango de índices, ***slicing***, **o índice inicial está incluído pero o final queda excluído**; os dous puntos `:` indican que debemos ir dende o valor inicial da esquerda dos dous puntos ata, pero sen incluír, o elemento da dereita.\n",
    "\n",
    "Así, por exemplo, para obte-los 3 meses do 2º trimestre:"
   ]
  },
  {
   "cell_type": "code",
   "execution_count": 54,
   "id": "b285cc8c",
   "metadata": {},
   "outputs": [
    {
     "data": {
      "text/plain": [
       "['abril', 'maio', 'xuño']"
      ]
     },
     "execution_count": 54,
     "metadata": {},
     "output_type": "execute_result"
    }
   ],
   "source": [
    "meses[3:6]  # devolve os meses do segundo trimestre"
   ]
  },
  {
   "cell_type": "markdown",
   "id": "e03f0da5",
   "metadata": {},
   "source": [
    "Ademais, dentro dos índices das listas, xa sexa un só índice ou un rango, podemos usar **valores negativos**. Neses casos Python devolve os elementos contando a súa posición dende a dereita, é dicir contando dende o último cara ó primeiro."
   ]
  },
  {
   "cell_type": "code",
   "execution_count": 21,
   "id": "a4ce5e25",
   "metadata": {},
   "outputs": [
    {
     "data": {
      "text/plain": [
       "'decembro'"
      ]
     },
     "execution_count": 21,
     "metadata": {},
     "output_type": "execute_result"
    }
   ],
   "source": [
    "meses[-1]  # devolve 'decembro'"
   ]
  },
  {
   "cell_type": "code",
   "execution_count": 32,
   "id": "ea418d55",
   "metadata": {},
   "outputs": [
    {
     "data": {
      "text/plain": [
       "['novembro', 'decembro']"
      ]
     },
     "execution_count": 32,
     "metadata": {},
     "output_type": "execute_result"
    }
   ],
   "source": [
    "meses[-2:]  # devolve ['novembro', 'decembro']"
   ]
  },
  {
   "cell_type": "markdown",
   "id": "1ea4131f",
   "metadata": {},
   "source": [
    "No troceado de listas, a diferencia do que ocurre ó obter elementos, non debemos preocuparnos por acceder a índices inválidos (fóra de rango) xa que Python os restrinxirá ós límites da lista."
   ]
  },
  {
   "cell_type": "code",
   "execution_count": 33,
   "id": "52851891",
   "metadata": {},
   "outputs": [
    {
     "data": {
      "text/plain": [
       "[]"
      ]
     },
     "execution_count": 33,
     "metadata": {},
     "output_type": "execute_result"
    }
   ],
   "source": [
    "meses[14:]  # non dá erro, só devolve unha lista baleira"
   ]
  },
  {
   "cell_type": "code",
   "execution_count": 46,
   "id": "a9325201",
   "metadata": {},
   "outputs": [
    {
     "data": {
      "text/plain": [
       "['xaneiro', 'febreiro']"
      ]
     },
     "execution_count": 46,
     "metadata": {},
     "output_type": "execute_result"
    }
   ],
   "source": [
    "meses[-15:2]  # non dá erro, simplemente comeza a conta dende o primeiro valor existente"
   ]
  },
  {
   "cell_type": "code",
   "execution_count": 53,
   "id": "b09bbf85",
   "metadata": {},
   "outputs": [
    {
     "data": {
      "text/plain": [
       "['marzo',\n",
       " 'abril',\n",
       " 'maio',\n",
       " 'xuño',\n",
       " 'xullo',\n",
       " 'agosto',\n",
       " 'setembro',\n",
       " 'outubro',\n",
       " 'novembro',\n",
       " 'decembro']"
      ]
     },
     "execution_count": 53,
     "metadata": {},
     "output_type": "execute_result"
    }
   ],
   "source": [
    "meses[2:15]  # non dá erro, simplemente remata a conta no último valor existente"
   ]
  },
  {
   "cell_type": "markdown",
   "id": "677e129e",
   "metadata": {},
   "source": [
    "Tamén é posible tomar valores \"salteados\" da lista, indicando un valor de *salto* co formato `lista(inicio:fin:salto)`; o terceiro argumento é o número de saltos que se avanza en cada corte.\n",
    "\n",
    "**Ollo!**, entende-los parámetros desta función con *salto* dá para unha enciclopedia ;-D https://www.learnbyexample.org/python-list-slicing/\n"
   ]
  },
  {
   "cell_type": "code",
   "execution_count": 60,
   "id": "0e8f50a5",
   "metadata": {},
   "outputs": [
    {
     "data": {
      "text/plain": [
       "['xaneiro', 'marzo', 'maio', 'xullo', 'setembro', 'novembro']"
      ]
     },
     "execution_count": 60,
     "metadata": {},
     "output_type": "execute_result"
    }
   ],
   "source": [
    "meses[0:12:2]  # devolve os datos que e atopan nas posicións impares"
   ]
  },
  {
   "cell_type": "code",
   "execution_count": 62,
   "id": "1c6f2b7e",
   "metadata": {},
   "outputs": [
    {
     "data": {
      "text/plain": [
       "['decembro', 'outubro', 'agosto', 'xuño', 'abril', 'febreiro']"
      ]
     },
     "execution_count": 62,
     "metadata": {},
     "output_type": "execute_result"
    }
   ],
   "source": [
    "meses[-1:-12:-2]  # devolve os datos que e atopan nas posicións impares, pero empezando a contar polo final"
   ]
  },
  {
   "cell_type": "markdown",
   "id": "d36f81e5",
   "metadata": {},
   "source": [
    "Pódese usa-lo troceado, slicing, para cambiar simultaneamente varios valores dunha lista:"
   ]
  },
  {
   "cell_type": "code",
   "execution_count": 28,
   "id": "7574c4ba",
   "metadata": {},
   "outputs": [
    {
     "name": "stdout",
     "output_type": "stream",
     "text": [
      "['San Martiño', 'Nadal']\n",
      "['xaneiro', 'febreiro', 'marzo', 'abril', 'maio', 'xuño', 'xullo', 'agosto', 'setembro', 'outubro', 'San Martiño', 'Nadal']\n"
     ]
    }
   ],
   "source": [
    "meses[10:12] = [\"San Martiño\", \"Nadal\"]  # modifica os 2 últimos valores da lista dos meses\n",
    "print(meses[10:12])  # devolve os nomes dos 2 últimos meses (ollo con que o índice comeza en 0!)\n",
    "print(meses)"
   ]
  },
  {
   "cell_type": "markdown",
   "id": "66f1dd5c",
   "metadata": {},
   "source": [
    "Un último exemplo:"
   ]
  },
  {
   "cell_type": "code",
   "execution_count": 25,
   "id": "3487b838",
   "metadata": {},
   "outputs": [
    {
     "name": "stdout",
     "output_type": "stream",
     "text": [
      "['26, xuño, 2016', '28, abril, 2019', '10, novembro, 2019']\n"
     ]
    }
   ],
   "source": [
    "datas_eleccions_xerais = ['15, xuño, 1977', '01, marzo, 1979', '28, outubro, 1982', '22, xuño, 1986', '29, outubro, 1989',\n",
    "                 '06, xuño, 1993', '03, marzo, 1996', '12, marzo, 2000', '14, marzo, 2004', '09, marzo, 2008',\n",
    "                  '20, novembro, 2011', '20, decembro, 2015', '26, xuño, 2016', '28, abril, 2019', '10, novembro, 2019']\n",
    "                 \n",
    "print(datas_eleccions_xerais[-3:])  # devolve os 3 últimos elementos da lista"
   ]
  },
  {
   "cell_type": "markdown",
   "id": "21076a19",
   "metadata": {},
   "source": [
    "#### Funcións aplicables ás listas"
   ]
  },
  {
   "cell_type": "markdown",
   "id": "5205e698",
   "metadata": {},
   "source": [
    "- `len()`: devolve a lonxitude dunha lista, é dicir, o número de elementos incluídos nunha lista."
   ]
  },
  {
   "cell_type": "code",
   "execution_count": 63,
   "id": "5b102ece",
   "metadata": {},
   "outputs": [
    {
     "data": {
      "text/plain": [
       "12"
      ]
     },
     "execution_count": 63,
     "metadata": {},
     "output_type": "execute_result"
    }
   ],
   "source": [
    "len(meses) # devolve 3"
   ]
  },
  {
   "cell_type": "markdown",
   "id": "27f26d60",
   "metadata": {},
   "source": [
    "- `index()`: devolve a posición que ocupa un elemento dentro dunha lista. En caso de que o elemento estea repetido, devolverá a primeira posición onde aparece o obxecto. Se non o atopase, daría un erro."
   ]
  },
  {
   "cell_type": "code",
   "execution_count": 65,
   "id": "7b5e1f96",
   "metadata": {},
   "outputs": [
    {
     "data": {
      "text/plain": [
       "0"
      ]
     },
     "execution_count": 65,
     "metadata": {},
     "output_type": "execute_result"
    }
   ],
   "source": [
    "meses.index('xaneiro') # devolve 0"
   ]
  },
  {
   "cell_type": "markdown",
   "id": "7f92239b",
   "metadata": {},
   "source": [
    "- `insert()`: insire un elemento dentro dunha lista na posición que lle indicamos."
   ]
  },
  {
   "cell_type": "code",
   "execution_count": 79,
   "id": "c164d2b1",
   "metadata": {},
   "outputs": [
    {
     "data": {
      "text/plain": [
       "['Ola', 'Adeus', 45, True]"
      ]
     },
     "execution_count": 79,
     "metadata": {},
     "output_type": "execute_result"
    }
   ],
   "source": [
    "lista = ['Ola', 45, True]\n",
    "lista.insert(1, 'Adeus')\n",
    "lista # amosa ['Ola', 'Adeus', 45, True]"
   ]
  },
  {
   "cell_type": "markdown",
   "id": "a6e4fbd0",
   "metadata": {},
   "source": [
    "- `append()`: insire un elemento ó final da lista. No caso de que poñamos unha lista de elementos, a función insireo como un elemento único."
   ]
  },
  {
   "cell_type": "code",
   "execution_count": 83,
   "id": "8874d51d",
   "metadata": {},
   "outputs": [
    {
     "data": {
      "text/plain": [
       "['Ola', 45, True, [30, 70]]"
      ]
     },
     "execution_count": 83,
     "metadata": {},
     "output_type": "execute_result"
    }
   ],
   "source": [
    "lista = ['Ola', 45, True]\n",
    "lista.append([30, 70])\n",
    "lista # amosa ['Ola', 45, True, [30, 70]]"
   ]
  },
  {
   "cell_type": "markdown",
   "id": "1a0223c3",
   "metadata": {},
   "source": [
    "- `extend()`: permite agregar un conxunto de elementos nunha lista. A diferenza do\n",
    "método anterior, se incluímos unha lista de elementos, agregaranse cada un dos\n",
    "elementos á lista."
   ]
  },
  {
   "cell_type": "code",
   "execution_count": 86,
   "id": "1f580404",
   "metadata": {},
   "outputs": [
    {
     "data": {
      "text/plain": [
       "['Ola', 45, True, 30, 70]"
      ]
     },
     "execution_count": 86,
     "metadata": {},
     "output_type": "execute_result"
    }
   ],
   "source": [
    "lista = ['Ola', 45, True]\n",
    "lista.extend([30, 70])\n",
    "lista # amosa ['Ola', 45, True, 30, 70]"
   ]
  },
  {
   "cell_type": "markdown",
   "id": "9efc81f0",
   "metadata": {},
   "source": [
    "- `remove()`: elimina o elemento que pasamos como parámetro da lista. No caso de que este elemento estivese repetido, só se elimina a primeira copia."
   ]
  },
  {
   "cell_type": "code",
   "execution_count": 88,
   "id": "ada8a178",
   "metadata": {},
   "outputs": [
    {
     "data": {
      "text/plain": [
       "[45, True, 'Ola']"
      ]
     },
     "execution_count": 88,
     "metadata": {},
     "output_type": "execute_result"
    }
   ],
   "source": [
    "lista = ['Ola', 45, True, 'Ola']\n",
    "lista.remove('Ola')\n",
    "lista # Mostraranos [45, True, 'Ola']"
   ]
  },
  {
   "cell_type": "markdown",
   "id": "438b4956",
   "metadata": {},
   "source": [
    "- `count()`: devolve o número de veces que se atopa un elemento nunha lista."
   ]
  },
  {
   "cell_type": "code",
   "execution_count": 89,
   "id": "6008cbf6",
   "metadata": {},
   "outputs": [
    {
     "data": {
      "text/plain": [
       "2"
      ]
     },
     "execution_count": 89,
     "metadata": {},
     "output_type": "execute_result"
    }
   ],
   "source": [
    "lista = ['Ola', 45, True, 'Ola']\n",
    "lista.count('Ola') # devolve 2"
   ]
  },
  {
   "cell_type": "markdown",
   "id": "906acc78",
   "metadata": {},
   "source": [
    "- `reverse()`: este método inverte a posición de tódo-los elementos da lista."
   ]
  },
  {
   "cell_type": "code",
   "execution_count": 91,
   "id": "d3031d69",
   "metadata": {},
   "outputs": [
    {
     "data": {
      "text/plain": [
       "[True, 45, 'Ola']"
      ]
     },
     "execution_count": 91,
     "metadata": {},
     "output_type": "execute_result"
    }
   ],
   "source": [
    "lista = ['Ola', 45, True]\n",
    "lista.reverse()\n",
    "lista # amosa [True, 45, 'Ola']"
   ]
  },
  {
   "cell_type": "code",
   "execution_count": 91,
   "id": "d37382cc",
   "metadata": {},
   "outputs": [
    {
     "data": {
      "text/plain": [
       "[True, 45, 'Ola']"
      ]
     },
     "execution_count": 91,
     "metadata": {},
     "output_type": "execute_result"
    }
   ],
   "source": [
    "lista = ['Ola', 45, True]\n",
    "lista.reverse()\n",
    "lista # amosa [True, 45, 'Ola']"
   ]
  },
  {
   "cell_type": "markdown",
   "id": "686a99b0",
   "metadata": {},
   "source": [
    "- `max()`: devolve o maior elemento da lista. Como se determina o maior elemento depende do tipo de obxectos que estean na lista:\n",
    "    - O elemento *max* nunha lista de números é o número máis grande\n",
    "    - O elemento *max* dunha lista de cadeas é o elemento que aparecería en último lugar se a lista estivese ordeada alfabeticamente. \n",
    "\n",
    "Isto funciona porque a función `max()` está definida en termos do operador de comparación *maior que*, `>`. \n",
    "\n",
    "A función `max()` non está definida para listas que conteñen elementos de tipos diferentes e incomparables."
   ]
  },
  {
   "cell_type": "code",
   "execution_count": 5,
   "id": "7f48cd33",
   "metadata": {},
   "outputs": [
    {
     "data": {
      "text/plain": [
       "'xuño'"
      ]
     },
     "execution_count": 5,
     "metadata": {},
     "output_type": "execute_result"
    }
   ],
   "source": [
    "meses = ['xaneiro', 'febreiro', 'marzo', 'abril', 'maio', 'xuño', 'xullo', 'agosto', 'setembro', 'outubro', 'novembro', 'decembro']\n",
    "max(meses)  # sobre unha lista de cadeas de texto devolve a que estaría en último lugar en orde alfabético: xuño"
   ]
  },
  {
   "cell_type": "code",
   "execution_count": 6,
   "id": "5037256c",
   "metadata": {},
   "outputs": [
    {
     "data": {
      "text/plain": [
       "31"
      ]
     },
     "execution_count": 6,
     "metadata": {},
     "output_type": "execute_result"
    }
   ],
   "source": [
    "dias_do_mes = [31,28,31,30,31,30,31,31,30,31,30,31]\n",
    "max(dias_do_mes)  # sobre unha lista de números devolve o valor máis grande: 31"
   ]
  },
  {
   "cell_type": "code",
   "execution_count": 7,
   "id": "ccb0308c",
   "metadata": {},
   "outputs": [
    {
     "ename": "TypeError",
     "evalue": "'>' not supported between instances of 'int' and 'str'",
     "output_type": "error",
     "traceback": [
      "\u001b[0;31m---------------------------------------------------------------------------\u001b[0m",
      "\u001b[0;31mTypeError\u001b[0m                                 Traceback (most recent call last)",
      "Input \u001b[0;32mIn [7]\u001b[0m, in \u001b[0;36m<cell line: 2>\u001b[0;34m()\u001b[0m\n\u001b[1;32m      1\u001b[0m lista \u001b[38;5;241m=\u001b[39m [\u001b[38;5;124m'\u001b[39m\u001b[38;5;124mOla\u001b[39m\u001b[38;5;124m'\u001b[39m, \u001b[38;5;241m45\u001b[39m, \u001b[38;5;28;01mTrue\u001b[39;00m]\n\u001b[0;32m----> 2\u001b[0m \u001b[38;5;28;43mmax\u001b[39;49m\u001b[43m(\u001b[49m\u001b[43mlista\u001b[49m\u001b[43m)\u001b[49m\n",
      "\u001b[0;31mTypeError\u001b[0m: '>' not supported between instances of 'int' and 'str'"
     ]
    }
   ],
   "source": [
    "lista = ['Ola', 45, True]\n",
    "max(lista)  # sobre unha lista de tipos incomparables, por ser distintos, devolve un erro"
   ]
  },
  {
   "cell_type": "code",
   "execution_count": 22,
   "id": "090d6f9e",
   "metadata": {},
   "outputs": [
    {
     "data": {
      "text/plain": [
       "123000000.0"
      ]
     },
     "execution_count": 22,
     "metadata": {},
     "output_type": "execute_result"
    }
   ],
   "source": [
    "lista2 = [0.32, 45, 123e6]\n",
    "max(lista2)  # sobre unha lista de tipos comparables, aínda que sexan de tipos distintos, devolve o maior valor: 123 * 10^6"
   ]
  },
  {
   "cell_type": "markdown",
   "id": "8405cd0a",
   "metadata": {},
   "source": [
    "- `min()` é a función contraria a `max()`, devolve o elemento menor da lista."
   ]
  },
  {
   "cell_type": "code",
   "execution_count": 23,
   "id": "b304056c",
   "metadata": {},
   "outputs": [
    {
     "data": {
      "text/plain": [
       "'abril'"
      ]
     },
     "execution_count": 23,
     "metadata": {},
     "output_type": "execute_result"
    }
   ],
   "source": [
    "min(meses)  # sobre unha lista de cadeas de texto devolve a que estaría en primeiro lugar en orde alfabético: abril"
   ]
  },
  {
   "cell_type": "code",
   "execution_count": 25,
   "id": "61a7bf45",
   "metadata": {},
   "outputs": [
    {
     "data": {
      "text/plain": [
       "28"
      ]
     },
     "execution_count": 25,
     "metadata": {},
     "output_type": "execute_result"
    }
   ],
   "source": [
    "min(dias_do_mes)  # sobre unha lista de números devolve o valor máis pequeno: 28"
   ]
  },
  {
   "cell_type": "code",
   "execution_count": 27,
   "id": "612e97fc",
   "metadata": {},
   "outputs": [
    {
     "data": {
      "text/plain": [
       "0.32"
      ]
     },
     "execution_count": 27,
     "metadata": {},
     "output_type": "execute_result"
    }
   ],
   "source": [
    "min(lista2)  # sobre unha lista de tipos comparables, aínda que sexan de tipos distintos, devolve o menor valor: 0.32"
   ]
  },
  {
   "cell_type": "markdown",
   "id": "f6802a34",
   "metadata": {},
   "source": [
    "- `sort()`: método que ordea os elementos dunha lista. Por defecto, este método ordénaos en orde crecente. Para ordealo de forma decrecente, hai que incluí-lo parámetro (`reverse=True`). Ollo!, a lista debe conter elementos do mesmo tipo."
   ]
  },
  {
   "cell_type": "code",
   "execution_count": 57,
   "id": "51009c32",
   "metadata": {},
   "outputs": [],
   "source": [
    "lista = [16, 34, 3, 8, 1, 6, 2]"
   ]
  },
  {
   "cell_type": "code",
   "execution_count": 58,
   "id": "23006681",
   "metadata": {},
   "outputs": [
    {
     "data": {
      "text/plain": [
       "[1, 2, 3, 6, 8, 16, 34]"
      ]
     },
     "execution_count": 58,
     "metadata": {},
     "output_type": "execute_result"
    }
   ],
   "source": [
    "lista.sort()\n",
    "lista # amosa [1, 2, 3, 6, 8, 16, 34]"
   ]
  },
  {
   "cell_type": "code",
   "execution_count": 59,
   "id": "132cb86d",
   "metadata": {},
   "outputs": [
    {
     "data": {
      "text/plain": [
       "[34, 16, 8, 6, 3, 2, 1]"
      ]
     },
     "execution_count": 59,
     "metadata": {},
     "output_type": "execute_result"
    }
   ],
   "source": [
    "lista.sort(reverse=True)\n",
    "lista # amosa [34, 16, 8, 6, 3, 2, 1]"
   ]
  },
  {
   "cell_type": "markdown",
   "id": "23cf9019",
   "metadata": {},
   "source": [
    "- `sorted()`: esta función tamén ordea a lista que se lle pasa como parámetro, sen embargo, a diferencia do anterior método, devolve os valores ordeados pero sen modifica-lo obxecto orixinal."
   ]
  },
  {
   "cell_type": "code",
   "execution_count": 60,
   "id": "dd94124a",
   "metadata": {},
   "outputs": [
    {
     "name": "stdout",
     "output_type": "stream",
     "text": [
      "[34, 16, 8, 6, 3, 2, 1]\n",
      "[1, 2, 3, 6, 8, 16, 34]\n",
      "[34, 16, 8, 6, 3, 2, 1]\n"
     ]
    }
   ],
   "source": [
    "print(lista)  # devolve os valores da lista\n",
    "print(sorted(lista))  # devolve os valores ordeados da lista, pero sen modifica-la lista orixinal\n",
    "print(lista)  # devolve os valores da lista orixinal"
   ]
  },
  {
   "cell_type": "markdown",
   "id": "851a54db",
   "metadata": {},
   "source": [
    "- `pop()`: elimina e devolve o elemento que se atopa na posición que se pasa como parámetro. No caso de que non se pase ningún valor por parámetro, eliminará e devolverá o último elemento da lista."
   ]
  },
  {
   "cell_type": "code",
   "execution_count": 71,
   "id": "edf1532c",
   "metadata": {},
   "outputs": [
    {
     "data": {
      "text/plain": [
       "34"
      ]
     },
     "execution_count": 71,
     "metadata": {},
     "output_type": "execute_result"
    }
   ],
   "source": [
    "lista = [16, 34, 3, 8, 1, 6, 2]\n",
    "lista.pop(1) # devolve 34"
   ]
  },
  {
   "cell_type": "code",
   "execution_count": 72,
   "id": "76aecccb",
   "metadata": {},
   "outputs": [
    {
     "data": {
      "text/plain": [
       "[16, 3, 8, 1, 6, 2]"
      ]
     },
     "execution_count": 72,
     "metadata": {},
     "output_type": "execute_result"
    }
   ],
   "source": [
    "lista # amosa [16, 3, 8, 1, 6, 2]"
   ]
  },
  {
   "cell_type": "markdown",
   "id": "2414e314",
   "metadata": {},
   "source": [
    "- Os operadores `in` e `not in`: devolven un valor booleano indicando se un elemento se atopa ou non, respectivamente, nunha lista."
   ]
  },
  {
   "cell_type": "code",
   "execution_count": 74,
   "id": "897dd311",
   "metadata": {},
   "outputs": [
    {
     "data": {
      "text/plain": [
       "True"
      ]
     },
     "execution_count": 74,
     "metadata": {},
     "output_type": "execute_result"
    }
   ],
   "source": [
    "16 in lista"
   ]
  },
  {
   "cell_type": "code",
   "execution_count": 77,
   "id": "2fc36342",
   "metadata": {},
   "outputs": [
    {
     "data": {
      "text/plain": [
       "False"
      ]
     },
     "execution_count": 77,
     "metadata": {},
     "output_type": "execute_result"
    }
   ],
   "source": [
    "8 not in [16, 3, 8, 1, 6, 2]"
   ]
  },
  {
   "cell_type": "markdown",
   "id": "9024df46",
   "metadata": {},
   "source": [
    "- `join():` Este é un método de cadeas de caracteres que toma unha lista de cadeas como argumento e devolve unha cadea formada polos elementos da lista unidos por unha cadea separadora."
   ]
  },
  {
   "cell_type": "code",
   "execution_count": 64,
   "id": "a7fceea3",
   "metadata": {},
   "outputs": [
    {
     "name": "stdout",
     "output_type": "stream",
     "text": [
      "primavera-verán-outono-inverno\n",
      "primavera\n",
      "verán\n",
      "outono\n",
      "inverno\n"
     ]
    }
   ],
   "source": [
    "estacions = \"-\".join([\"primavera\", \"verán\", \"outono\", \"inverno\"])\n",
    "print(estacions)\n",
    "estacions_separadas_en_linhas = \"\\n\".join([\"primavera\", \"verán\", \"outono\", \"inverno\"])\n",
    "print(estacions_separadas_en_linhas)"
   ]
  },
  {
   "cell_type": "markdown",
   "id": "51cf0e3a",
   "metadata": {},
   "source": [
    "Ollo!, a lista ten que ser só de cadeas, do contrario devolverá un erro."
   ]
  },
  {
   "cell_type": "code",
   "execution_count": 67,
   "id": "bfc3361c",
   "metadata": {},
   "outputs": [
    {
     "ename": "TypeError",
     "evalue": "sequence item 4: expected str instance, int found",
     "output_type": "error",
     "traceback": [
      "\u001b[0;31m---------------------------------------------------------------------------\u001b[0m",
      "\u001b[0;31mTypeError\u001b[0m                                 Traceback (most recent call last)",
      "Input \u001b[0;32mIn [67]\u001b[0m, in \u001b[0;36m<cell line: 1>\u001b[0;34m()\u001b[0m\n\u001b[0;32m----> 1\u001b[0m estacions_con_e \u001b[38;5;241m=\u001b[39m \u001b[38;5;124;43m\"\u001b[39;49m\u001b[38;5;124;43m e \u001b[39;49m\u001b[38;5;124;43m\"\u001b[39;49m\u001b[38;5;241;43m.\u001b[39;49m\u001b[43mjoin\u001b[49m\u001b[43m(\u001b[49m\u001b[43m[\u001b[49m\u001b[38;5;124;43m\"\u001b[39;49m\u001b[38;5;124;43mprimavera\u001b[39;49m\u001b[38;5;124;43m\"\u001b[39;49m\u001b[43m,\u001b[49m\u001b[43m \u001b[49m\u001b[38;5;124;43m\"\u001b[39;49m\u001b[38;5;124;43mverán\u001b[39;49m\u001b[38;5;124;43m\"\u001b[39;49m\u001b[43m,\u001b[49m\u001b[43m \u001b[49m\u001b[38;5;124;43m\"\u001b[39;49m\u001b[38;5;124;43moutono\u001b[39;49m\u001b[38;5;124;43m\"\u001b[39;49m\u001b[43m,\u001b[49m\u001b[43m \u001b[49m\u001b[38;5;124;43m\"\u001b[39;49m\u001b[38;5;124;43minverno\u001b[39;49m\u001b[38;5;124;43m\"\u001b[39;49m\u001b[43m,\u001b[49m\u001b[43m \u001b[49m\u001b[38;5;241;43m6\u001b[39;49m\u001b[43m]\u001b[49m\u001b[43m)\u001b[49m\n\u001b[1;32m      2\u001b[0m \u001b[38;5;28mprint\u001b[39m(estacions_con_e)\n",
      "\u001b[0;31mTypeError\u001b[0m: sequence item 4: expected str instance, int found"
     ]
    }
   ],
   "source": [
    "estacions_con_e = \" e \".join([\"primavera\", \"verán\", \"outono\", \"inverno\", 6])\n",
    "print(estacions_con_e)"
   ]
  },
  {
   "cell_type": "markdown",
   "id": "4c8f44d7",
   "metadata": {},
   "source": [
    "Ollo!, as cadeas de texto da lista teñen que estar separadas con comas, xa que do contrario o resultado é inesperado."
   ]
  },
  {
   "cell_type": "code",
   "execution_count": 68,
   "id": "9399f578",
   "metadata": {},
   "outputs": [
    {
     "name": "stdout",
     "output_type": "stream",
     "text": [
      "primaveraveránoutonoinverno\n"
     ]
    }
   ],
   "source": [
    "estacions_con_e = \" e \".join([\"primavera\" \"verán\" \"outono\" \"inverno\"])\n",
    "print(estacions_con_e)"
   ]
  },
  {
   "cell_type": "markdown",
   "id": "6f9a60e7",
   "metadata": {},
   "source": [
    "Uns últimos exemplos:"
   ]
  },
  {
   "cell_type": "code",
   "execution_count": 70,
   "id": "8ff3b45c",
   "metadata": {},
   "outputs": [
    {
     "name": "stdout",
     "output_type": "stream",
     "text": [
      "Cristina e Isaac e Juan e Ricardo e Sancho\n",
      "['Juan', 'Isaac', 'Ricardo', 'Cristina', 'Sancho']\n"
     ]
    }
   ],
   "source": [
    "nomes = [\"Juan\", \"Isaac\", \"Ricardo\", \"Cristina\", \"Sancho\"]\n",
    "print(\" e \".join(sorted(nomes)))\n",
    "print(nomes)"
   ]
  },
  {
   "cell_type": "code",
   "execution_count": 73,
   "id": "a3c5edc0",
   "metadata": {},
   "outputs": [
    {
     "name": "stdout",
     "output_type": "stream",
     "text": [
      "['Juan', 'Isaac', 'Ricardo', 'Cristina', 'Sancho', 'Relevo']\n",
      "['Cristina', 'Isaac', 'Juan', 'Relevo', 'Ricardo', 'Sancho']\n"
     ]
    }
   ],
   "source": [
    "names = [\"Juan\", \"Isaac\", \"Ricardo\", \"Cristina\", \"Sancho\"]\n",
    "names.append(\"Relevo\")\n",
    "print(names)\n",
    "print(sorted(names))"
   ]
  },
  {
   "cell_type": "markdown",
   "id": "f6f4551b",
   "metadata": {},
   "source": [
    "As listas facilitan entender mellor a diferencia entre utiliza-los operadores de identidade `is` e `not is`, ou os operadores de igualdade `==` e `not =`.\n",
    "\n",
    "No seguinte exemplo, a lista *lista_a* e a lista *lista_b* son iguais e idénticas. A lista *lista_c* é igual á *lista_a* (e á *lista_b*) xa que teñen o mesmo contido. Pero a *lista_a* e a *lista_c* (e de novo para este caso, a *lista_b*) **apuntan a dous obxectos diferentes, é dicir, non son obxectos idénticos. Esa é a diferenza entre comproba-la igualdade e a identidade**.\n"
   ]
  },
  {
   "cell_type": "code",
   "execution_count": 82,
   "id": "1c262f52",
   "metadata": {},
   "outputs": [
    {
     "name": "stdout",
     "output_type": "stream",
     "text": [
      "True\n",
      "True\n",
      "True\n",
      "False\n"
     ]
    }
   ],
   "source": [
    "lista_a = [1, 2, 3]\n",
    "lista_b = lista_a\n",
    "lista_c = [1, 2, 3]\n",
    "\n",
    "print(lista_a == lista_b)  # devolve True\n",
    "print(lista_a is lista_b)  # devolve True\n",
    "print(lista_a == lista_c)  # devolve True\n",
    "print(lista_a is lista_c)  # devolve False\n",
    "# devolve True"
   ]
  },
  {
   "cell_type": "markdown",
   "id": "a2bb99ab",
   "metadata": {},
   "source": [
    "### Tuplas\n",
    "As tuplas son similares ás listas xa que almacenan unha colección **ordenada** de obxectos separados por comas, á que se pode acceder mediante os seus índices; non obstante, a diferenza das listas, as tuplas son **inmutables**: non se poden engadir ou eliminar elementos das tuplas, nin ordealas, unha vez creadas.\n",
    "\n",
    "Aínda que poidan parecer estruturas de datos moi similares, as tuplas, ó ser inmutables, carecen de certas operacións, especialmente as que teñen que ver coa modificación dos seus valores. Pero aínda que as listas son máis flexibles e potentes, as tuplas teñen tamén certas vantaxes fronte ás listas:\n",
    "\n",
    "-- As tuplas ocupan menos espazo en memoria.\n",
    "\n",
    "-- Nas tuplas existe protección fronte a cambios indesexados.\n",
    "\n",
    "-- As tuplas pódense usar como chaves de dicionarios (son *hashables*).\n",
    "\n",
    "-- As *namedtuples* son unha alternativa sinxela ós obxectos."
   ]
  },
  {
   "cell_type": "markdown",
   "id": "d6777007",
   "metadata": {},
   "source": [
    "Unha tupla é un tipo de datos para **secuencias ordenadas de elementos inmutables**. Adoitan usarse para almacenar información relacionada."
   ]
  },
  {
   "cell_type": "markdown",
   "id": "c4e34f4e",
   "metadata": {},
   "source": [
    "- Creación dunha tupla (*empaquetado de tuplas*)\n",
    "\n",
    "Unha tupla créase a partir dunha secuencia de valores separados por comas. \n",
    "O resultado é unha tupla que contén todos estes elementos.\n",
    "A esta operación denomínaselle **empaquetado de tuplas**.\n",
    "\n",
    "Os **parénteses son opcionais cando se definen tuplas**, e adoitan omitirse cando os parénteses non aclaran o código."
   ]
  },
  {
   "cell_type": "code",
   "execution_count": 13,
   "id": "8e2661df",
   "metadata": {},
   "outputs": [
    {
     "name": "stdout",
     "output_type": "stream",
     "text": [
      "Latitude: 42.25140716742148\n",
      "Lonxitude: -8.690057920707702\n",
      "(42.25140716742148, -8.690057920707702)\n"
     ]
    }
   ],
   "source": [
    "coordenadas_gps_grados_decimais = (42.25140716742148, -8.690057920707702)\n",
    "print(\"Latitude:\", localización[0])\n",
    "print(\"Lonxitude:\", localización[1])\n",
    "print(coordenadas_gps_grados_decimais)"
   ]
  },
  {
   "cell_type": "markdown",
   "id": "224d5169",
   "metadata": {},
   "source": [
    "As tuplas tamén se poden usar para asignar varias variables dun xeito compacto.\n",
    "Na segunda liña do seguinte exemplo, asígnanse tres variables a partir do contido das dimensións da tupla; a isto chámaselle **desempaquetado de tuplas**. Pódese usa-lo desempaquetado de tuplas para asigna-la información dunha tupla a varias variables sen ter que acceder a elas unha por unha e facer varias instrucións de asignación."
   ]
  },
  {
   "cell_type": "code",
   "execution_count": 14,
   "id": "c8d593df",
   "metadata": {},
   "outputs": [
    {
     "name": "stdout",
     "output_type": "stream",
     "text": [
      "As dimensións da caixa do PC son de 100 x 315 x 410, para o Taller 7\n"
     ]
    }
   ],
   "source": [
    "dimensions = 100, 315, 410  # empaquetado de tupla\n",
    "ancho, alto, fondo = dimensions  # desempaquetado de tupla\n",
    "print(\"As dimensións da caixa do PC son de {} x {} x {}, para o Taller 7\".format(ancho, alto, fondo))"
   ]
  },
  {
   "cell_type": "markdown",
   "id": "17dec825",
   "metadata": {},
   "source": [
    "Se non se necesitase usar dimensións directamente, poderíanse acurtar esas dúas liñas de código nunha única liña que asigne tres variables dunha soa vez, a partir dunha tupla. **O que realmente constrúe unha tupla e a coma separando os seus elementos, non os parénteses** -que lembremos que son opcionais, excepto no caso da tupla baleira, ou cando se necesitan para evitar una ambigüidade sintáctica-."
   ]
  },
  {
   "cell_type": "code",
   "execution_count": 15,
   "id": "121bfa4b",
   "metadata": {},
   "outputs": [
    {
     "name": "stdout",
     "output_type": "stream",
     "text": [
      "As dimensións son 100 x 315 x 410\n"
     ]
    }
   ],
   "source": [
    "ancho, alto, fondo = 100, 315, 410\n",
    "print(\"As dimensións son {} x {} x {}\".format(ancho, alto, fondo))"
   ]
  },
  {
   "cell_type": "markdown",
   "id": "7ff31d68",
   "metadata": {},
   "source": [
    "Os elementos contidos nunha tupla non teñen porqué ser do mesmo tipo."
   ]
  },
  {
   "cell_type": "code",
   "execution_count": 11,
   "id": "d1e6bf80",
   "metadata": {},
   "outputs": [
    {
     "data": {
      "text/plain": [
       "('Ola', 4.5, True, 'Ola')"
      ]
     },
     "execution_count": 11,
     "metadata": {},
     "output_type": "execute_result"
    }
   ],
   "source": [
    "tupla = 'Ola', 4.5, True, 'Ola'\n",
    "tupla # devolve ('Ola', 4.5, True, 'Ola')"
   ]
  },
  {
   "cell_type": "code",
   "execution_count": 12,
   "id": "8636ba28",
   "metadata": {},
   "outputs": [
    {
     "data": {
      "text/plain": [
       "tuple"
      ]
     },
     "execution_count": 12,
     "metadata": {},
     "output_type": "execute_result"
    }
   ],
   "source": [
    "type(tupla) # devolve tuple"
   ]
  },
  {
   "cell_type": "markdown",
   "id": "6a8b1107",
   "metadata": {},
   "source": [
    "- `tuple()` Pódese crear unha tupla baleira usando unicamente os parénteses sen ningún valor dentro ou utilizando a función `tuple()`:"
   ]
  },
  {
   "cell_type": "code",
   "execution_count": 122,
   "id": "bdff6b40",
   "metadata": {},
   "outputs": [],
   "source": [
    "tupla_baleira = tuple() # tuple() sen argumentos equivale a crear unha tupla baleira"
   ]
  },
  {
   "cell_type": "code",
   "execution_count": 123,
   "id": "ccee3c7d",
   "metadata": {},
   "outputs": [
    {
     "data": {
      "text/plain": [
       "tuple"
      ]
     },
     "execution_count": 123,
     "metadata": {},
     "output_type": "execute_result"
    }
   ],
   "source": [
    "type(tupla_baleira)"
   ]
  },
  {
   "cell_type": "code",
   "execution_count": 124,
   "id": "9f3b683b",
   "metadata": {},
   "outputs": [
    {
     "data": {
      "text/plain": [
       "tuple"
      ]
     },
     "execution_count": 124,
     "metadata": {},
     "output_type": "execute_result"
    }
   ],
   "source": [
    "tupla_baleira = ()\n",
    "type(tupla_baleira)"
   ]
  },
  {
   "cell_type": "markdown",
   "id": "09ee01c1",
   "metadata": {},
   "source": [
    "Asemade, pódense converter a tipo tupla outros tipos de datos, sempre e cando eses datos sexan *iterables* (cadeas de caracteres, dicionarios, conxuntos,...), usando a función `tuple()`"
   ]
  },
  {
   "cell_type": "code",
   "execution_count": 135,
   "id": "ff5be72e",
   "metadata": {},
   "outputs": [
    {
     "data": {
      "text/plain": [
       "['Ola', 45, True]"
      ]
     },
     "execution_count": 135,
     "metadata": {},
     "output_type": "execute_result"
    }
   ],
   "source": [
    "lista = ['Ola', 45, True]\n",
    "lista"
   ]
  },
  {
   "cell_type": "code",
   "execution_count": 136,
   "id": "d3ca61d8",
   "metadata": {},
   "outputs": [
    {
     "data": {
      "text/plain": [
       "('Ola', 45, True)"
      ]
     },
     "execution_count": 136,
     "metadata": {},
     "output_type": "execute_result"
    }
   ],
   "source": [
    "tupla = tuple(lista) # converte unha lista nunha tupla\n",
    "tupla"
   ]
  },
  {
   "cell_type": "code",
   "execution_count": 141,
   "id": "bfc0a760",
   "metadata": {},
   "outputs": [
    {
     "data": {
      "text/plain": [
       "tuple"
      ]
     },
     "execution_count": 141,
     "metadata": {},
     "output_type": "execute_result"
    }
   ],
   "source": [
    "type(tupla)"
   ]
  },
  {
   "cell_type": "code",
   "execution_count": 142,
   "id": "da9b2abc",
   "metadata": {},
   "outputs": [
    {
     "data": {
      "text/plain": [
       "('O', 'l', 'a', ',', ' ', 'M', 'u', 'n', 'd', 'o', '!')"
      ]
     },
     "execution_count": 142,
     "metadata": {},
     "output_type": "execute_result"
    }
   ],
   "source": [
    "tupla = tuple('Ola, Mundo!') # converte unha lista nunha tupla\n",
    "tupla"
   ]
  },
  {
   "cell_type": "code",
   "execution_count": 143,
   "id": "31a9b7a2",
   "metadata": {},
   "outputs": [
    {
     "data": {
      "text/plain": [
       "tuple"
      ]
     },
     "execution_count": 143,
     "metadata": {},
     "output_type": "execute_result"
    }
   ],
   "source": [
    "type(tupla)"
   ]
  },
  {
   "cell_type": "markdown",
   "id": "34ba147c",
   "metadata": {},
   "source": [
    "- Desempaquetado de tuplas"
   ]
  },
  {
   "cell_type": "markdown",
   "id": "2e13f8a4",
   "metadata": {},
   "source": [
    "Tamén existe o método inverso ó empaquetado: se a unha tupla de lonxitud *n* lle asignamos *n* variables, cada unha das variables terá un dos compoñentes da tupla. A esta operación se lle chama **desempaquetado de tuplas**."
   ]
  },
  {
   "cell_type": "code",
   "execution_count": 145,
   "id": "021aa37a",
   "metadata": {},
   "outputs": [
    {
     "data": {
      "text/plain": [
       "('Ola', 4.5, True, 'Ola')"
      ]
     },
     "execution_count": 145,
     "metadata": {},
     "output_type": "execute_result"
    }
   ],
   "source": [
    "tupla = 'Ola', 4.5, True, 'Ola'\n",
    "tupla # amosa que o contido da tupla é ('Ola', 4.5, True, 'Ola')"
   ]
  },
  {
   "cell_type": "code",
   "execution_count": 146,
   "id": "f6fc429b",
   "metadata": {},
   "outputs": [],
   "source": [
    "w, x, y, z = tupla # devolve cada un dos valores da tupla a cadansúa variable: w = 'Ola', x = 4.5, y = True, z = 'Ola'"
   ]
  },
  {
   "cell_type": "code",
   "execution_count": 147,
   "id": "fc1c17cb",
   "metadata": {},
   "outputs": [
    {
     "name": "stdout",
     "output_type": "stream",
     "text": [
      "Ola 4.5 True Ola\n"
     ]
    }
   ],
   "source": [
    "print (w, x, y, z)"
   ]
  },
  {
   "attachments": {
    "tuple-unpacking.jpg": {
     "image/jpeg": "[encoded data removed]"
    }
   },
   "cell_type": "markdown",
   "id": "3a6e32c3",
   "metadata": {},
   "source": [
    "![tuple-unpacking.jpg](attachment:tuple-unpacking.jpg)"
   ]
  },
  {
   "cell_type": "markdown",
   "id": "3dcf6e0d",
   "metadata": {},
   "source": [
    "- Acceso ós elementos dunha tupla\n",
    "\n",
    "Para acceder ós elementos dunha tupla, faise do mesmo xeito que coas listas."
   ]
  },
  {
   "cell_type": "code",
   "execution_count": 150,
   "id": "7479d21d",
   "metadata": {},
   "outputs": [
    {
     "data": {
      "text/plain": [
       "4.5"
      ]
     },
     "execution_count": 150,
     "metadata": {},
     "output_type": "execute_result"
    }
   ],
   "source": [
    "tupla[1] # amosa 4.5"
   ]
  },
  {
   "cell_type": "code",
   "execution_count": 149,
   "id": "f6425f92",
   "metadata": {},
   "outputs": [
    {
     "data": {
      "text/plain": [
       "(4.5, True, 'Ola')"
      ]
     },
     "execution_count": 149,
     "metadata": {},
     "output_type": "execute_result"
    }
   ],
   "source": [
    "tupla[1:] # ammosa (4.5, True, 'Ola')"
   ]
  },
  {
   "cell_type": "markdown",
   "id": "1f48e3cb",
   "metadata": {},
   "source": [
    "#### Funcións aplicables ás tuplas"
   ]
  },
  {
   "cell_type": "markdown",
   "id": "d7fb07b2",
   "metadata": {},
   "source": [
    "- `len()`: método que devolve a lonxitude da tupla."
   ]
  },
  {
   "cell_type": "code",
   "execution_count": 153,
   "id": "f671c9cc",
   "metadata": {},
   "outputs": [
    {
     "data": {
      "text/plain": [
       "4"
      ]
     },
     "execution_count": 153,
     "metadata": {},
     "output_type": "execute_result"
    }
   ],
   "source": [
    "tupla = 'Ola', 4.5, True, 'Ola'\n",
    "len(tupla) # devolve 4"
   ]
  },
  {
   "cell_type": "markdown",
   "id": "2a8ef6ed",
   "metadata": {},
   "source": [
    "- `count()`: número de veces que se atopa un elemento nunha tupla."
   ]
  },
  {
   "cell_type": "code",
   "execution_count": 156,
   "id": "06bdbde8",
   "metadata": {},
   "outputs": [
    {
     "data": {
      "text/plain": [
       "2"
      ]
     },
     "execution_count": 156,
     "metadata": {},
     "output_type": "execute_result"
    }
   ],
   "source": [
    "tupla.count('Ola') # devolve 2"
   ]
  },
  {
   "cell_type": "markdown",
   "id": "e0f9403b",
   "metadata": {},
   "source": [
    "- `index()`: devolve a posición que ocupa un elemento dentro dunha tupla. En caso de que o elemento estea repetido, devolverá a primeira posición onde aparece o obxecto. Se non o atopase, daría un erro."
   ]
  },
  {
   "cell_type": "code",
   "execution_count": 164,
   "id": "d951abe7",
   "metadata": {},
   "outputs": [
    {
     "data": {
      "text/plain": [
       "0"
      ]
     },
     "execution_count": 164,
     "metadata": {},
     "output_type": "execute_result"
    }
   ],
   "source": [
    "tupla.index('Ola') # Devolverá 0"
   ]
  },
  {
   "cell_type": "markdown",
   "id": "1b3b92d1",
   "metadata": {},
   "source": [
    "Un último exemplo con tuplas:"
   ]
  },
  {
   "cell_type": "code",
   "execution_count": 17,
   "id": "0de03e1a",
   "metadata": {},
   "outputs": [
    {
     "name": "stdout",
     "output_type": "stream",
     "text": [
      "True\n",
      "2\n"
     ]
    }
   ],
   "source": [
    "tupla_a = 1, 2\n",
    "tupla_b = (1, 2)\n",
    "\n",
    "print(tupla_a == tupla_b)  # devolve True porque as parénteses son opcionais ó defini-las tuplas\n",
    "print(tupla_a[1])  # devolve 2, porque o índice empeza a contar dende o 0, polo tanto o 2º elemento da tupla ten o índice [1]"
   ]
  },
  {
   "cell_type": "markdown",
   "id": "3dd46fb8",
   "metadata": {},
   "source": [
    "### Dicionarios"
   ]
  },
  {
   "cell_type": "markdown",
   "id": "16d083a3",
   "metadata": {},
   "source": [
    "Un dicionario é un tipo de datos **mutable** que almacena asignacións de **chaves únicas** a valores.\n",
    "\n",
    "Os dicionarios conforman unha estrutura que enlaza os elementos almacenados con chaves (*keys*) en vez de índices, como ocorría coas estruturas anteriores. É dicir, para acceder a un obxecto é necesario facelo a través da súa chave.\n",
    "\n",
    "A mellor maneira de comprender un dicionario é velo como **un conxunto de pares (chave, valor), onde as chaves son únicas, é dicir, non están repetidas, e permítennos acceder ó obxecto almacenado**. \n",
    "\n",
    "Os dicionarios en Python teñen as seguintes características:\n",
    "\n",
    "-- Manteñen a orde no que se insiren as chaves, pero **non é unha estrutura ordeada**.\n",
    "\n",
    "-- Son ***mutables***, co que admiten engadir, borrar e modifica-los seus elementos.\n",
    "\n",
    "-- As **chaves deben ser únicas**. A miúdo utilízanse as cadeas de texto como chaves, pero en realidade podería ser calquera tipo de datos inmutable, enteiros, flotantes, tuplas (entre outros), xa que esas chaves úsanse para indexa-los valores. \n",
    "\n",
    "-- Teñen un acceso moi rápido ós seus elementos, debido á forma na que están implementados internamente.\n",
    "\n",
    "\n",
    "- Para crear un dicionario definiremos un conxunto de elementos *chave : valor* delimitados por chaves (`{ : }`)."
   ]
  },
  {
   "cell_type": "code",
   "execution_count": 80,
   "id": "b3c62105",
   "metadata": {},
   "outputs": [
    {
     "name": "stdout",
     "output_type": "stream",
     "text": [
      "{'chave1': 'O meu primeiro valor', 'chave3': 'O terceiro valor', 'chave2': 'Este é o meu segundo valor'}\n"
     ]
    },
    {
     "data": {
      "text/plain": [
       "dict"
      ]
     },
     "execution_count": 80,
     "metadata": {},
     "output_type": "execute_result"
    }
   ],
   "source": [
    "dicionario = {\n",
    "'chave1': 'O meu primeiro valor',\n",
    "'chave3': 'O terceiro valor',\n",
    "'chave2': 'Este é o meu segundo valor'\n",
    "}\n",
    "print(dicionario)\n",
    "type(dicionario)"
   ]
  },
  {
   "cell_type": "markdown",
   "id": "c43c259a",
   "metadata": {},
   "source": [
    "- Para acceder a un dos seus valores, necesitamos coñece-la súa chave e a poremos entre corchetes (`[]`) (logo veremo-lo método `get()`)"
   ]
  },
  {
   "cell_type": "code",
   "execution_count": 54,
   "id": "5f6c77a6",
   "metadata": {},
   "outputs": [
    {
     "data": {
      "text/plain": [
       "'O meu primeiro valor'"
      ]
     },
     "execution_count": 54,
     "metadata": {},
     "output_type": "execute_result"
    }
   ],
   "source": [
    "dicionario['chave1']  # devolve 'O meu primeiro valor'"
   ]
  },
  {
   "cell_type": "markdown",
   "id": "8cfce20c",
   "metadata": {},
   "source": [
    "- Para crear novos elementos nos dicionarios, ou modifica-los valores de chaves xa existentes, úsase a mesma forma de acceso a un elemento, corchetes pechando a chave, pero asignando un novo valor:"
   ]
  },
  {
   "cell_type": "code",
   "execution_count": 55,
   "id": "167c2871",
   "metadata": {},
   "outputs": [
    {
     "name": "stdout",
     "output_type": "stream",
     "text": [
      "{'chave1': 'O meu primeiro valor', 'chave3': 'O terceiro valor', 'chave2': 'Este é o meu segundo valor', 'chave_nova': 'Novo valor'}\n"
     ]
    }
   ],
   "source": [
    "dicionario['chave_nova'] = 'Novo valor'  # engade o novo par ó final do dicionario\n",
    "dicionario['chave_nova']  # devolve 'Novo valor'\n",
    "print(dicionario)"
   ]
  },
  {
   "cell_type": "code",
   "execution_count": 56,
   "id": "886086fb",
   "metadata": {},
   "outputs": [
    {
     "name": "stdout",
     "output_type": "stream",
     "text": [
      "{'chave1': 'O meu primeiro valor', 'chave3': 'O terceiro valor', 'chave2': 'Este é o meu segundo valor', 'chave_nova': 'Novísimo valor'}\n"
     ]
    }
   ],
   "source": [
    "dicionario['chave_nova'] = 'Novísimo valor'  # se a chave xa existe, modifica o seu valor\n",
    "print(dicionario)"
   ]
  },
  {
   "cell_type": "markdown",
   "id": "1e1d5b67",
   "metadata": {},
   "source": [
    "- Podemos crear dicionarios baleiros usando as chaves, pero sen inserir ningún elemento, ou usando a función `dict()` :"
   ]
  },
  {
   "cell_type": "code",
   "execution_count": 57,
   "id": "a3a43093",
   "metadata": {},
   "outputs": [
    {
     "data": {
      "text/plain": [
       "dict"
      ]
     },
     "execution_count": 57,
     "metadata": {},
     "output_type": "execute_result"
    }
   ],
   "source": [
    "dicionario2 = dict()  # crea o dicionario baleiro\n",
    "type(dicionario2)"
   ]
  },
  {
   "cell_type": "code",
   "execution_count": 58,
   "id": "cef9e06c",
   "metadata": {},
   "outputs": [
    {
     "data": {
      "text/plain": [
       "dict"
      ]
     },
     "execution_count": 58,
     "metadata": {},
     "output_type": "execute_result"
    }
   ],
   "source": [
    "dicionario3 = {}  # crea o dicionario baleiro\n",
    "type(dicionario3)"
   ]
  },
  {
   "cell_type": "markdown",
   "id": "ad8ea440",
   "metadata": {},
   "source": [
    "- Podemos eliminar un elemento do dicionario usando a instrución `del` e indicando que elemento do dicionario queremos eliminar."
   ]
  },
  {
   "cell_type": "code",
   "execution_count": 59,
   "id": "b048942c",
   "metadata": {},
   "outputs": [
    {
     "ename": "KeyError",
     "evalue": "'chave1'",
     "output_type": "error",
     "traceback": [
      "\u001b[0;31m---------------------------------------------------------------------------\u001b[0m",
      "\u001b[0;31mKeyError\u001b[0m                                  Traceback (most recent call last)",
      "Input \u001b[0;32mIn [59]\u001b[0m, in \u001b[0;36m<cell line: 2>\u001b[0;34m()\u001b[0m\n\u001b[1;32m      1\u001b[0m \u001b[38;5;28;01mdel\u001b[39;00m dicionario[\u001b[38;5;124m'\u001b[39m\u001b[38;5;124mchave1\u001b[39m\u001b[38;5;124m'\u001b[39m]  \u001b[38;5;66;03m# elimina o elemento con chave 'chave1'\u001b[39;00m\n\u001b[0;32m----> 2\u001b[0m \u001b[43mdicionario\u001b[49m\u001b[43m[\u001b[49m\u001b[38;5;124;43m'\u001b[39;49m\u001b[38;5;124;43mchave1\u001b[39;49m\u001b[38;5;124;43m'\u001b[39;49m\u001b[43m]\u001b[49m\n",
      "\u001b[0;31mKeyError\u001b[0m: 'chave1'"
     ]
    }
   ],
   "source": [
    "del dicionario['chave1']  # elimina o elemento con chave 'chave1'\n",
    "dicionario['chave1']  # devolve un erro ó xa non existir 'chave1'"
   ]
  },
  {
   "cell_type": "markdown",
   "id": "81f0498e",
   "metadata": {},
   "source": [
    "- Os dicionarios poden ter chaves de calquera tipo inmutable, como enteiros ou tuplas, non só cadeas; nin sequera é necesario que cada chave teña o mesmo tipo!... sen embargo o normal é que os datos teñan coherencia de tipos.\n",
    "\n",
    "No seguinte exemplo as chaves son de tipo `string` e os valores son de tipo `list`."
   ]
  },
  {
   "cell_type": "code",
   "execution_count": 87,
   "id": "ca866297",
   "metadata": {},
   "outputs": [
    {
     "name": "stdout",
     "output_type": "stream",
     "text": [
      "[50, 100, 36, 67, 2, 0]\n",
      "36\n",
      "[0.6, 0.9, 0, 3, 2]\n"
     ]
    },
    {
     "ename": "KeyError",
     "evalue": "1",
     "output_type": "error",
     "traceback": [
      "\u001b[0;31m---------------------------------------------------------------------------\u001b[0m",
      "\u001b[0;31mKeyError\u001b[0m                                  Traceback (most recent call last)",
      "Input \u001b[0;32mIn [87]\u001b[0m, in \u001b[0;36m<cell line: 9>\u001b[0;34m()\u001b[0m\n\u001b[1;32m      7\u001b[0m \u001b[38;5;28mprint\u001b[39m(animais[\u001b[38;5;124m'\u001b[39m\u001b[38;5;124mcans\u001b[39m\u001b[38;5;124m'\u001b[39m][\u001b[38;5;241m2\u001b[39m])  \u001b[38;5;66;03m# devolve 36\u001b[39;00m\n\u001b[1;32m      8\u001b[0m \u001b[38;5;28mprint\u001b[39m(animais[\u001b[38;5;124m'\u001b[39m\u001b[38;5;124mcarrachas\u001b[39m\u001b[38;5;124m'\u001b[39m])  \u001b[38;5;66;03m# devolve [0.6, 0.9, 0, 3, 2]\u001b[39;00m\n\u001b[0;32m----> 9\u001b[0m \u001b[38;5;28mprint\u001b[39m(\u001b[43manimais\u001b[49m\u001b[43m[\u001b[49m\u001b[38;5;241;43m1\u001b[39;49m\u001b[43m]\u001b[49m)\n",
      "\u001b[0;31mKeyError\u001b[0m: 1"
     ]
    }
   ],
   "source": [
    "animais = {'cans': [50, 100, 36, 67, 2, 0], \n",
    " 'gatos': [5, 6, 3, 1, 9], \n",
    " 'ratos': [1, 2, 3, 4], \n",
    " 'carrachas': [0.6, 0.9, 0, 3, 2]}\n",
    "\n",
    "print(animais['cans'])  # devolve [50, 100, 36, 67, 2, 0]\n",
    "print(animais['cans'][2])  # devolve 36\n",
    "print(animais['carrachas'])  # devolve [0.6, 0.9, 0, 3, 2]\n",
    "print(animais[1])  # devolve un erro de execución\n"
   ]
  },
  {
   "cell_type": "markdown",
   "id": "7876246b",
   "metadata": {},
   "source": [
    "#### Funcións aplicables a dicionarios\n",
    "\n",
    "As funcións máis utilizadas nos dicionarios son as seguintes:"
   ]
  },
  {
   "cell_type": "markdown",
   "id": "5ee66349",
   "metadata": {},
   "source": [
    "- `list()`: devolve unha lista de tóda-las chaves incluídas nun dicionario."
   ]
  },
  {
   "cell_type": "code",
   "execution_count": 60,
   "id": "8159dae6",
   "metadata": {},
   "outputs": [
    {
     "data": {
      "text/plain": [
       "['chave3', 'chave2', 'chave_nova']"
      ]
     },
     "execution_count": 60,
     "metadata": {},
     "output_type": "execute_result"
    }
   ],
   "source": [
    "list(dicionario)  # devolve ['chave3', 'chave2', 'chave_nova']"
   ]
  },
  {
   "cell_type": "markdown",
   "id": "50e94f83",
   "metadata": {},
   "source": [
    " - `sorted()`: se se quere a lista ordeada, úsase a función `sorted()` en lugar de `list()`."
   ]
  },
  {
   "cell_type": "code",
   "execution_count": 61,
   "id": "d5a222db",
   "metadata": {},
   "outputs": [
    {
     "data": {
      "text/plain": [
       "['chave2', 'chave3', 'chave_nova']"
      ]
     },
     "execution_count": 61,
     "metadata": {},
     "output_type": "execute_result"
    }
   ],
   "source": [
    "sorted(dicionario)  # devolve ['chave2', 'chave3', 'chave_nova']"
   ]
  },
  {
   "cell_type": "markdown",
   "id": "8fd10b9b",
   "metadata": {},
   "source": [
    "- `get()`:  este método busca nas chaves nun dicionario, pero a diferenza dos corchetes, `get()` devolve `None` (ou un valor predeterminado que se indique) se non se atopa a chave, polo que é un xeito mellor de acceso ós valores evitando que o programa *rompa*, como sucedería no caso de usar simplemente o formato de chaves con índice `[ ]`."
   ]
  },
  {
   "cell_type": "code",
   "execution_count": 81,
   "id": "4d2e97d6",
   "metadata": {},
   "outputs": [
    {
     "name": "stdout",
     "output_type": "stream",
     "text": [
      "O terceiro valor\n",
      "O terceiro valor\n",
      "None\n",
      "Non existe ese elemento\n"
     ]
    },
    {
     "ename": "KeyError",
     "evalue": "'chaveN'",
     "output_type": "error",
     "traceback": [
      "\u001b[0;31m---------------------------------------------------------------------------\u001b[0m",
      "\u001b[0;31mKeyError\u001b[0m                                  Traceback (most recent call last)",
      "Input \u001b[0;32mIn [81]\u001b[0m, in \u001b[0;36m<cell line: 5>\u001b[0;34m()\u001b[0m\n\u001b[1;32m      3\u001b[0m \u001b[38;5;28mprint\u001b[39m(dicionario\u001b[38;5;241m.\u001b[39mget(\u001b[38;5;124m'\u001b[39m\u001b[38;5;124mchaveN\u001b[39m\u001b[38;5;124m'\u001b[39m))  \u001b[38;5;66;03m# devolve None xa que non atopa a chave indicada\u001b[39;00m\n\u001b[1;32m      4\u001b[0m \u001b[38;5;28mprint\u001b[39m(dicionario\u001b[38;5;241m.\u001b[39mget(\u001b[38;5;124m'\u001b[39m\u001b[38;5;124mchaveN\u001b[39m\u001b[38;5;124m'\u001b[39m, \u001b[38;5;124m'\u001b[39m\u001b[38;5;124mNon existe ese elemento\u001b[39m\u001b[38;5;124m'\u001b[39m))   \u001b[38;5;66;03m# devolve o valor indicado como por defecto xa que non atopa a chave indicada\u001b[39;00m\n\u001b[0;32m----> 5\u001b[0m \u001b[38;5;28mprint\u001b[39m(\u001b[43mdicionario\u001b[49m\u001b[43m[\u001b[49m\u001b[38;5;124;43m'\u001b[39;49m\u001b[38;5;124;43mchaveN\u001b[39;49m\u001b[38;5;124;43m'\u001b[39;49m\u001b[43m]\u001b[49m)\n",
      "\u001b[0;31mKeyError\u001b[0m: 'chaveN'"
     ]
    }
   ],
   "source": [
    "print(dicionario['chave3'])  # devolve 'O terceiro valor'\n",
    "print(dicionario.get('chave3'))  # devolve o valor correspondente á chave\n",
    "print(dicionario.get('chaveN'))  # devolve None xa que non atopa a chave indicada\n",
    "print(dicionario.get('chaveN', 'Non existe ese elemento'))   # devolve o valor indicado como por defecto xa que non atopa a chave indicada\n",
    "print(dicionario['chaveN'])  # causa un erro que provoca a detención do programa"
   ]
  },
  {
   "cell_type": "markdown",
   "id": "de1ae1f6",
   "metadata": {},
   "source": [
    "Agora sería posible utiliza-los operadores de identidade `is` e `not is`, ou os operadores de igualdade `==` e `not =` para comprobar se un valor está no dicionario ou non."
   ]
  },
  {
   "cell_type": "code",
   "execution_count": 64,
   "id": "47aba6a8",
   "metadata": {},
   "outputs": [
    {
     "name": "stdout",
     "output_type": "stream",
     "text": [
      "False\n",
      "O terceiro valor\n"
     ]
    }
   ],
   "source": [
    "elemento = dicionario.get('chave3')\n",
    "valor_nulo = elemento is None\n",
    "print(valor_nulo)\n",
    "if not valor_nulo:\n",
    "    print(elemento)"
   ]
  },
  {
   "cell_type": "code",
   "execution_count": 65,
   "id": "e383bc2f",
   "metadata": {},
   "outputs": [
    {
     "name": "stdout",
     "output_type": "stream",
     "text": [
      "True\n"
     ]
    }
   ],
   "source": [
    "elemento = dicionario.get('chave4')\n",
    "valor_nulo = elemento == None\n",
    "print(valor_nulo)\n",
    "if not valor_nulo:\n",
    "    print(elemento)"
   ]
  },
  {
   "cell_type": "markdown",
   "id": "e21da58f",
   "metadata": {},
   "source": [
    "- `in` e `not in`: comproba se unha chave se atopa, ou non, no dicionario."
   ]
  },
  {
   "cell_type": "code",
   "execution_count": 66,
   "id": "dc5dd115",
   "metadata": {},
   "outputs": [
    {
     "data": {
      "text/plain": [
       "True"
      ]
     },
     "execution_count": 66,
     "metadata": {},
     "output_type": "execute_result"
    }
   ],
   "source": [
    "'chave3' in dicionario  # devolve True"
   ]
  },
  {
   "cell_type": "code",
   "execution_count": 67,
   "id": "555d677e",
   "metadata": {},
   "outputs": [
    {
     "data": {
      "text/plain": [
       "False"
      ]
     },
     "execution_count": 67,
     "metadata": {},
     "output_type": "execute_result"
    }
   ],
   "source": [
    "'chave1' in dicionario  # devolve False"
   ]
  },
  {
   "cell_type": "markdown",
   "id": "927e4e24",
   "metadata": {},
   "source": [
    "- Existen outros dous métodos interesantes nos dicionarios: `keys()` que devolve as chaves dun dicionario, mentras que `values()` devolve os valores do dicionario."
   ]
  },
  {
   "cell_type": "code",
   "execution_count": 68,
   "id": "d41cd908",
   "metadata": {},
   "outputs": [
    {
     "data": {
      "text/plain": [
       "dict_keys(['chave3', 'chave2', 'chave_nova'])"
      ]
     },
     "execution_count": 68,
     "metadata": {},
     "output_type": "execute_result"
    }
   ],
   "source": [
    "dicionario.keys()"
   ]
  },
  {
   "cell_type": "code",
   "execution_count": 69,
   "id": "74ab4d90",
   "metadata": {},
   "outputs": [
    {
     "data": {
      "text/plain": [
       "dict_values(['O terceiro valor', 'Este é o meu segundo valor', 'Novísimo valor'])"
      ]
     },
     "execution_count": 69,
     "metadata": {},
     "output_type": "execute_result"
    }
   ],
   "source": [
    "dicionario.values()"
   ]
  },
  {
   "cell_type": "markdown",
   "id": "f2b6df84",
   "metadata": {},
   "source": [
    "- Para borrar elementos dun dicionario existen os métodos `pop()` e `popitem()`.\n",
    "\n",
    "Con `pop()` indicando a chave do elemento que se quere eliminar devolverá o valor asociado a esa chave."
   ]
  },
  {
   "cell_type": "code",
   "execution_count": 70,
   "id": "9cbcfd51",
   "metadata": {},
   "outputs": [
    {
     "name": "stdout",
     "output_type": "stream",
     "text": [
      "{'chave2': 'Este é o meu segundo valor', 'chave_nova': 'Novísimo valor'}\n"
     ]
    }
   ],
   "source": [
    "dicionario.pop('chave3')\n",
    "print(dicionario)"
   ]
  },
  {
   "cell_type": "markdown",
   "id": "ce90a6fd",
   "metadata": {},
   "source": [
    "No caso de tentar eliminar un elemento que non se atope no dicionario devolverá un erro, a menos que se indique un valor por defecto:"
   ]
  },
  {
   "cell_type": "code",
   "execution_count": 75,
   "id": "eafd31b4",
   "metadata": {},
   "outputs": [
    {
     "ename": "KeyError",
     "evalue": "'chave3'",
     "output_type": "error",
     "traceback": [
      "\u001b[0;31m---------------------------------------------------------------------------\u001b[0m",
      "\u001b[0;31mKeyError\u001b[0m                                  Traceback (most recent call last)",
      "Input \u001b[0;32mIn [75]\u001b[0m, in \u001b[0;36m<cell line: 1>\u001b[0;34m()\u001b[0m\n\u001b[0;32m----> 1\u001b[0m \u001b[43mdicionario\u001b[49m\u001b[38;5;241;43m.\u001b[39;49m\u001b[43mpop\u001b[49m\u001b[43m(\u001b[49m\u001b[38;5;124;43m'\u001b[39;49m\u001b[38;5;124;43mchave3\u001b[39;49m\u001b[38;5;124;43m'\u001b[39;49m\u001b[43m)\u001b[49m\n",
      "\u001b[0;31mKeyError\u001b[0m: 'chave3'"
     ]
    }
   ],
   "source": [
    "dicionario.pop('chave3')"
   ]
  },
  {
   "cell_type": "code",
   "execution_count": 76,
   "id": "1d56b2be",
   "metadata": {},
   "outputs": [
    {
     "data": {
      "text/plain": [
       "'erro'"
      ]
     },
     "execution_count": 76,
     "metadata": {},
     "output_type": "execute_result"
    }
   ],
   "source": [
    "dicionario.pop('chave3', 'erro')"
   ]
  },
  {
   "cell_type": "markdown",
   "id": "dbc985e0",
   "metadata": {},
   "source": [
    "Co método `popitem()` quítase o último elemento que se atope no dicionario, devolvendo unha tupla que contén *chave valor*:"
   ]
  },
  {
   "cell_type": "code",
   "execution_count": 77,
   "id": "abf3cb69",
   "metadata": {},
   "outputs": [
    {
     "data": {
      "text/plain": [
       "('chave_nova', 'Novísimo valor')"
      ]
     },
     "execution_count": 77,
     "metadata": {},
     "output_type": "execute_result"
    }
   ],
   "source": [
    "print(dicionario)\n",
    "dicionario.popitem()\n",
    "print(dicionario)"
   ]
  },
  {
   "cell_type": "markdown",
   "id": "8acddd05",
   "metadata": {},
   "source": [
    "- `clear()`: este método borra tódolos elementos dun dicionario."
   ]
  },
  {
   "cell_type": "code",
   "execution_count": 79,
   "id": "ca8f15aa",
   "metadata": {},
   "outputs": [
    {
     "name": "stdout",
     "output_type": "stream",
     "text": [
      "{'chave2': 'Este é o meu segundo valor'}\n",
      "{}\n"
     ]
    }
   ],
   "source": [
    "print(dicionario)  # devolve tódolos elementos do dicionario\n",
    "dicionario.clear()  # borra o dicionario\n",
    "print(dicionario)  # devolve un dicionario baleiro"
   ]
  },
  {
   "cell_type": "markdown",
   "id": "e570e4a1",
   "metadata": {},
   "source": [
    "#### Estruturas complexas de dicionarios aniñados\n",
    "Pódense incluír contedores noutros contedores para crear estruturas de datos compostos. \n",
    "\n",
    "Por exemplo, este dicionario asigna chaves a valores que tamén son dicionarios:"
   ]
  },
  {
   "cell_type": "code",
   "execution_count": 57,
   "id": "b8949f8a",
   "metadata": {},
   "outputs": [
    {
     "name": "stdout",
     "output_type": "stream",
     "text": [
      "{'hidróxeno': {'número': 1, 'peso': 1.00794, 'símbolo': 'H'}, 'helio': {'número': 2, 'peso': 4.002602, 'símbolo': 'He'}}\n"
     ]
    }
   ],
   "source": [
    "elementos = {\"hidróxeno\": {\"número\": 1,\n",
    "                         \"peso\": 1.00794,\n",
    "                         \"símbolo\": \"H\"},\n",
    "              \"helio\": {\"número\": 2,\n",
    "                         \"peso\": 4.002602,\n",
    "                         \"símbolo\": \"He\"}}\n",
    "print(elementos)"
   ]
  },
  {
   "cell_type": "markdown",
   "id": "661435fb",
   "metadata": {},
   "source": [
    "Podemos acceder a elementos deste dicionario aniñado do seguinte xeito:"
   ]
  },
  {
   "cell_type": "code",
   "execution_count": 60,
   "id": "bbcee1bb",
   "metadata": {},
   "outputs": [
    {
     "name": "stdout",
     "output_type": "stream",
     "text": [
      "{'número': 2, 'peso': 4.002602, 'símbolo': 'He'}\n",
      "1.00794\n"
     ]
    }
   ],
   "source": [
    "helio = elementos[\"helio\"] # obtén o dicionario de helio\n",
    "print(helio)\n",
    "hidroxeno_peso = elementos[\"hidróxeno\"][\"peso\"] # obtén o peso do hidróxeno\n",
    "print(hidroxeno_peso)"
   ]
  },
  {
   "cell_type": "markdown",
   "id": "abe7a51d",
   "metadata": {},
   "source": [
    "Tamén pódese engadir unha nova chave ó dicionario de elementos."
   ]
  },
  {
   "cell_type": "code",
   "execution_count": 63,
   "id": "5d2a2d2e",
   "metadata": {},
   "outputs": [
    {
     "name": "stdout",
     "output_type": "stream",
     "text": [
      "elementos =  {'hidróxeno': {'número': 1, 'peso': 1.00794, 'símbolo': 'H', 'é_gas_noble': False}, 'helio': {'número': 2, 'peso': 4.002602, 'símbolo': 'He', 'é_gas_noble': True}, 'osíxeno': {'número': 8, 'peso': 15.999, 'símbolo': 'O'}}\n"
     ]
    }
   ],
   "source": [
    "osixeno = {\"número\":8,\"peso\":15.999,\"símbolo\":\"O\"} # crea un novo dicionario de osíxeno\n",
    "elementos[\"osíxeno\"] = osixeno # asigna 'osíxeno' como chave para o dicionario de elementos\n",
    "print('elementos = ', elementos)"
   ]
  },
  {
   "cell_type": "markdown",
   "id": "e4e8c77c",
   "metadata": {},
   "source": [
    "A saída é:\n",
    "\n",
    "    elementos = {\"hidróxeno\": {\"número\": 1,\n",
    "                          \"peso\": 1,00794,\n",
    "                          \"símbolo\": 'H'},\n",
    "               \"helio\": {\"número\": 2,\n",
    "                          \"peso\": 4.002602,\n",
    "                          \"símbolo\": \"He\"},\n",
    "               \"osíxeno\": {\"número\": 8,\n",
    "                          \"peso\": 15.999,\n",
    "                          \"símbolo\": \"O\"}}"
   ]
  },
  {
   "cell_type": "markdown",
   "id": "43c1cc21",
   "metadata": {},
   "source": [
    "Naturalmente pódense engadir novos valores a tódalas chaves do dicionario:"
   ]
  },
  {
   "cell_type": "code",
   "execution_count": 64,
   "id": "90521803",
   "metadata": {},
   "outputs": [
    {
     "name": "stdout",
     "output_type": "stream",
     "text": [
      "elementos =  {'hidróxeno': {'número': 1, 'peso': 1.00794, 'símbolo': 'H', 'é_gas_noble': False}, 'helio': {'número': 2, 'peso': 4.002602, 'símbolo': 'He', 'é_gas_noble': True}, 'osíxeno': {'número': 8, 'peso': 15.999, 'símbolo': 'O', 'é_gas_noble': False}}\n"
     ]
    }
   ],
   "source": [
    "elementos['osíxeno']['é_gas_noble'] = False\n",
    "elementos['hidróxeno']['é_gas_noble'] = False\n",
    "elementos['helio']['é_gas_noble'] = True\n",
    "print('elementos = ', elementos)"
   ]
  },
  {
   "cell_type": "markdown",
   "id": "ae784691",
   "metadata": {},
   "source": [
    "### Conxuntos\n",
    "Os conxuntos son coleccións **non ordenadas** de elementos.\n",
    "Os conxuntos son **mutables** e **non conteñen elementos repetidos**, é dicir, elimínanse tódo-los elementos duplicados. \n",
    "\n",
    "Dado que os conxuntos son un tipo de datos para **coleccións de elementos únicos mutables e sen orde**, unha aplicación típica deles é para eliminar duplicados dunha lista.\n",
    "\n",
    "- Para crear un conxunto podemos indicar un conxunto de obxectos separados por comas e delimitados por chaves `{}`."
   ]
  },
  {
   "cell_type": "code",
   "execution_count": 62,
   "id": "904c421d",
   "metadata": {},
   "outputs": [
    {
     "data": {
      "text/plain": [
       "{'audi', 'ferrari', 'mercedes', 'renault', 'seat'}"
      ]
     },
     "execution_count": 62,
     "metadata": {},
     "output_type": "execute_result"
    }
   ],
   "source": [
    "coches = {'audi', 'mercedes', 'seat', 'ferrari', 'ferrari', 'renault'} # os elementos repetidos elimínanse\n",
    "coches # devolve o contido do conxunto {'audi', 'ferrari', 'mercedes', 'renault', 'seat'}"
   ]
  },
  {
   "cell_type": "code",
   "execution_count": 63,
   "id": "f722abe6",
   "metadata": {},
   "outputs": [
    {
     "name": "stdout",
     "output_type": "stream",
     "text": [
      "{8, 1, 2, 6}\n"
     ]
    }
   ],
   "source": [
    "numeros_con_repetidos = [1, 2, 6, 2, 8, 6, 8]  # lista con números repetidos\n",
    "numeros_unicos = set(numeros_con_repetidos)  # ó pasar unha lista a un conxunto, elimínanse os elementos repetidos\n",
    "print(numeros_unicos)  # devolve os números sen repetilos: {8, 1, 2, 6}"
   ]
  },
  {
   "cell_type": "markdown",
   "id": "9bb541e5",
   "metadata": {},
   "source": [
    "- `set()`: tamén pódeselle pasar como argumento un obxecto iterable (como unha lista, unha tupla, unha cadea …)"
   ]
  },
  {
   "cell_type": "code",
   "execution_count": 64,
   "id": "6628344f",
   "metadata": {},
   "outputs": [
    {
     "data": {
      "text/plain": [
       "{' ', '!', ',', 'A', 'M', 'c', 'd', 'e', 'l', 'n', 'o', 'r', 's', 'u'}"
      ]
     },
     "execution_count": 64,
     "metadata": {},
     "output_type": "execute_result"
    }
   ],
   "source": [
    "conxunto = set('Adeus, Mundo cruel!') # crea un conxunto a través dun string\n",
    "conxunto # devolve os caracteres ordeados e sen repeticións {' ', '!', ',', 'A', 'M', 'c', 'd', 'e', 'l', 'n', 'o', 'r', 's', 'u'}"
   ]
  },
  {
   "cell_type": "code",
   "execution_count": 65,
   "id": "97d9bfda",
   "metadata": {},
   "outputs": [
    {
     "data": {
      "text/plain": [
       "{1, 3, 5, 6}"
      ]
     },
     "execution_count": 65,
     "metadata": {},
     "output_type": "execute_result"
    }
   ],
   "source": [
    "conxunto = set([3, 5, 6, 1, 5]) # crea un conxunto a partir dunha lista\n",
    "conxunto  # devolve os caracteres ordeados e sen repeticións {1, 3, 5, 6}"
   ]
  },
  {
   "cell_type": "markdown",
   "id": "eebf33fe",
   "metadata": {},
   "source": [
    "- Para crear un **conxunto baleiro** podemos crealo sen inserir ningún valor (ollo, con non usa-las chaves `{}`) ou utilizando a función `set()`."
   ]
  },
  {
   "cell_type": "code",
   "execution_count": 66,
   "id": "4f476c09",
   "metadata": {},
   "outputs": [
    {
     "data": {
      "text/plain": [
       "set()"
      ]
     },
     "execution_count": 66,
     "metadata": {},
     "output_type": "execute_result"
    }
   ],
   "source": [
    "conxunto = set() # crea un conxunto baleiro\n",
    "conxunto # devolve set() para indicar que o conxunto está baleiro"
   ]
  },
  {
   "cell_type": "code",
   "execution_count": 67,
   "id": "355b4899",
   "metadata": {},
   "outputs": [
    {
     "data": {
      "text/plain": [
       "set"
      ]
     },
     "execution_count": 67,
     "metadata": {},
     "output_type": "execute_result"
    }
   ],
   "source": [
    "type(conxunto)"
   ]
  },
  {
   "cell_type": "markdown",
   "id": "5be7d9c3",
   "metadata": {},
   "source": [
    "Ollo! `conxunto = {}` non crea un conxunto baleiro, senón un dicionario"
   ]
  },
  {
   "cell_type": "code",
   "execution_count": 68,
   "id": "8f4a5a93",
   "metadata": {},
   "outputs": [
    {
     "data": {
      "text/plain": [
       "{}"
      ]
     },
     "execution_count": 68,
     "metadata": {},
     "output_type": "execute_result"
    }
   ],
   "source": [
    "dicionario = {} # crea un dicionario baleiro\n",
    "dicionario # devolve {} para indicar que é un conxunto baleiro"
   ]
  },
  {
   "cell_type": "code",
   "execution_count": 69,
   "id": "e95a77d1",
   "metadata": {},
   "outputs": [
    {
     "data": {
      "text/plain": [
       "dict"
      ]
     },
     "execution_count": 69,
     "metadata": {},
     "output_type": "execute_result"
    }
   ],
   "source": [
    "type(dicionario)"
   ]
  },
  {
   "cell_type": "markdown",
   "id": "88ee1a0c",
   "metadata": {},
   "source": [
    " \n",
    "Dado que os conxuntos son coleccións desordeadas, neles non se garda a posición na que son insertados os elementos como ocorre nos tipos *list* ou *tuple*; por elo non se pode acceder ós elementos a través dun índice e tentar facelo devolveranos un erro de tipo.\n",
    "\n",
    "Sen embargo, si se pode acceder e/ou percorrer tódo-los elementos dun conxunto usando un bucle `for`."
   ]
  },
  {
   "cell_type": "code",
   "execution_count": 70,
   "id": "1079752e",
   "metadata": {},
   "outputs": [
    {
     "name": "stdout",
     "output_type": "stream",
     "text": [
      "valor1\n",
      "valor2\n",
      "valor3\n"
     ]
    }
   ],
   "source": [
    "conxunto = {\"valor1\", \"valor2\", \"valor3\"}\n",
    "for elemento in conxunto:\n",
    "    print(elemento)"
   ]
  },
  {
   "cell_type": "markdown",
   "id": "4aea3219",
   "metadata": {},
   "source": [
    "#### Funcións aplicables a conxuntos\n",
    "As principais operacións soportadas polos conxuntos de Python.\n",
    "\n",
    "- `union()`: operación matemática para obte-la unión de dous conxuntos."
   ]
  },
  {
   "cell_type": "code",
   "execution_count": 41,
   "id": "8d2fee90",
   "metadata": {},
   "outputs": [
    {
     "data": {
      "text/plain": [
       "{1, 2, 3, 4, 5}"
      ]
     },
     "execution_count": 41,
     "metadata": {},
     "output_type": "execute_result"
    }
   ],
   "source": [
    "conxunto1 = {1, 2, 3}\n",
    "conxunto2 = {3, 4, 5}\n",
    "conxunto1.union(conxunto2) # devolve {1, 2, 3, 4, 5}"
   ]
  },
  {
   "cell_type": "markdown",
   "id": "721eee69",
   "metadata": {},
   "source": [
    "- `intersection()`: operación matemática para obte-la intersección de dous conxuntos."
   ]
  },
  {
   "cell_type": "code",
   "execution_count": 42,
   "id": "72d44902",
   "metadata": {},
   "outputs": [
    {
     "data": {
      "text/plain": [
       "{3}"
      ]
     },
     "execution_count": 42,
     "metadata": {},
     "output_type": "execute_result"
    }
   ],
   "source": [
    "conxunto1 = {1, 2, 3}\n",
    "conxunto2 = {3, 4, 5}\n",
    "conxunto1.intersection(conxunto2) # devolve {3}"
   ]
  },
  {
   "cell_type": "markdown",
   "id": "90084174",
   "metadata": {},
   "source": [
    "- `difference()`: operación matemática para obte-la diferenza do conxunto orixinal con respecto ó conxunto que se pasa por parámetro, é dicir, os elementos do primeiro conxunto que non están no segundo."
   ]
  },
  {
   "cell_type": "code",
   "execution_count": 44,
   "id": "269829ad",
   "metadata": {},
   "outputs": [
    {
     "data": {
      "text/plain": [
       "{1, 2}"
      ]
     },
     "execution_count": 44,
     "metadata": {},
     "output_type": "execute_result"
    }
   ],
   "source": [
    "conxunto1 = {1, 2, 3}\n",
    "conxunto2 = {3, 4, 5}\n",
    "conxunto1.difference(conxunto2) # devolve {1, 2}"
   ]
  },
  {
   "cell_type": "markdown",
   "id": "d4fa2dff",
   "metadata": {},
   "source": [
    "- Os operadores `in` e `not in` devolven un valor booleano indicando se un elemento se atopa ou non, respectivamente, dentro dun conxunto."
   ]
  },
  {
   "cell_type": "code",
   "execution_count": 8,
   "id": "6db5d7bb",
   "metadata": {},
   "outputs": [
    {
     "data": {
      "text/plain": [
       "True"
      ]
     },
     "execution_count": 8,
     "metadata": {},
     "output_type": "execute_result"
    }
   ],
   "source": [
    "1 in conxunto1 # devolve True"
   ]
  },
  {
   "cell_type": "code",
   "execution_count": 4,
   "id": "6df6c3c2",
   "metadata": {},
   "outputs": [
    {
     "data": {
      "text/plain": [
       "True"
      ]
     },
     "execution_count": 4,
     "metadata": {},
     "output_type": "execute_result"
    }
   ],
   "source": [
    "0 not in conxunto1 # devolve True"
   ]
  },
  {
   "cell_type": "markdown",
   "id": "e1a305c5",
   "metadata": {},
   "source": [
    "- `len()`: devolve o número de elementos do conxunto."
   ]
  },
  {
   "cell_type": "code",
   "execution_count": 10,
   "id": "7acd7f5a",
   "metadata": {},
   "outputs": [
    {
     "data": {
      "text/plain": [
       "3"
      ]
     },
     "execution_count": 10,
     "metadata": {},
     "output_type": "execute_result"
    }
   ],
   "source": [
    "len(conxunto1) # devolve 3"
   ]
  },
  {
   "cell_type": "markdown",
   "id": "cca8706f",
   "metadata": {},
   "source": [
    "- `add()`: este método permite engadir un elemento ó conxunto."
   ]
  },
  {
   "cell_type": "code",
   "execution_count": 59,
   "id": "db7639ce",
   "metadata": {},
   "outputs": [
    {
     "name": "stdout",
     "output_type": "stream",
     "text": [
      "{1, 2, 3, 4, 5}\n",
      "{1, 2, 3, 4, 5, 10}\n",
      "{1, 2, 3, 4, 5, 10}\n"
     ]
    }
   ],
   "source": [
    "conxunto_total = conxunto1.union(conxunto2) # crea un conxunto, sen repetidos, cos elementos de ambos subconxuntos\n",
    "print(conxunto_total)\n",
    "conxunto_total.add(10)  # engade un novo elemento ó conxunto, se este no existe xa nel\n",
    "print(conxunto_total)\n",
    "conxunto_total.add(1)  # engade un novo elemento ó conxunto, se este no existe xa nel\n",
    "print(conxunto_total)"
   ]
  },
  {
   "cell_type": "markdown",
   "id": "7335c3cf",
   "metadata": {},
   "source": [
    "- `pop()`: este método devolve un elemento do conxunto que se retira del, pero non se pode escoller, polo que é retirado ó chou (lémbrese que o conxunto é unha colección desordeada, polo que non hai nin primer, nin último elemento). Que non nos despiste o feito de que `print()` devolva os elementos ordeados e que aparentemente os estea eliminando dende o principio, non hai orde tampouco para a eliminación!\n",
    "\n",
    "Se se tenta eliminar un elemento dun conxunto baleiro, provócase un erro: *KeyError: 'pop from an empty set'*"
   ]
  },
  {
   "cell_type": "code",
   "execution_count": 60,
   "id": "d1a0e2c0",
   "metadata": {},
   "outputs": [
    {
     "name": "stdout",
     "output_type": "stream",
     "text": [
      "{1, 2, 3, 4, 5, 10}\n",
      "{2, 3, 4, 5, 10}\n",
      "2\n",
      "{3, 4, 5, 10}\n"
     ]
    }
   ],
   "source": [
    "print(conxunto_total)\n",
    "conxunto_total.pop()  # quita un elemento ó chou do conxunto\n",
    "print(conxunto_total)\n",
    "print(conxunto_total.pop())  # quita un elemento ó chou do conxunto e o amosa\n",
    "print(conxunto_total)"
   ]
  },
  {
   "cell_type": "markdown",
   "id": "2e30efe7",
   "metadata": {},
   "source": [
    "- `remove()`: elimina do conxunto o elemento especificado. Se o elemento non estivese incluído no conxunto  provócase un erro: *KeyError*"
   ]
  },
  {
   "cell_type": "code",
   "execution_count": 73,
   "id": "87cd4063",
   "metadata": {},
   "outputs": [
    {
     "name": "stdout",
     "output_type": "stream",
     "text": [
      "{3, 4, 10}\n"
     ]
    },
    {
     "ename": "KeyError",
     "evalue": "5",
     "output_type": "error",
     "traceback": [
      "\u001b[0;31m---------------------------------------------------------------------------\u001b[0m",
      "\u001b[0;31mKeyError\u001b[0m                                  Traceback (most recent call last)",
      "Input \u001b[0;32mIn [73]\u001b[0m, in \u001b[0;36m<cell line: 2>\u001b[0;34m()\u001b[0m\n\u001b[1;32m      1\u001b[0m \u001b[38;5;28mprint\u001b[39m(conxunto_total)\n\u001b[0;32m----> 2\u001b[0m \u001b[43mconxunto_total\u001b[49m\u001b[38;5;241;43m.\u001b[39;49m\u001b[43mremove\u001b[49m\u001b[43m(\u001b[49m\u001b[38;5;241;43m5\u001b[39;49m\u001b[43m)\u001b[49m  \u001b[38;5;66;03m# quita un elemento ó chou do conxunto\u001b[39;00m\n\u001b[1;32m      3\u001b[0m \u001b[38;5;28mprint\u001b[39m(conxunto_total)\n\u001b[1;32m      4\u001b[0m conxunto_total\u001b[38;5;241m.\u001b[39mremove(\u001b[38;5;241m5\u001b[39m)\n",
      "\u001b[0;31mKeyError\u001b[0m: 5"
     ]
    }
   ],
   "source": [
    "print(conxunto_total)\n",
    "conxunto_total.remove(5)  # quita o elemento especificado do conxunto\n",
    "print(conxunto_total)\n",
    "conxunto_total.remove(5)  # se o elemento especificado non existe no conxunto provócase un erro"
   ]
  },
  {
   "cell_type": "markdown",
   "id": "76f1bb3a",
   "metadata": {},
   "source": [
    "- `discard()`: elimina do conxunto o elemento especificado, pero a diferencia de `remove()`, se o elemento non estivese incluído no conxunto non devolve un erro. "
   ]
  },
  {
   "cell_type": "code",
   "execution_count": 76,
   "id": "98031d90",
   "metadata": {},
   "outputs": [
    {
     "name": "stdout",
     "output_type": "stream",
     "text": [
      "{3, 4, 10}\n"
     ]
    }
   ],
   "source": [
    "print(conxunto_total)\n",
    "conxunto_total.discard(5)  # se o elemento especificado non existe no conxunto non se xera ningún erro"
   ]
  },
  {
   "cell_type": "markdown",
   "id": "55cef5f1",
   "metadata": {},
   "source": [
    "- `clear()`: borra tódolos elementos dun conxunto."
   ]
  },
  {
   "cell_type": "code",
   "execution_count": 78,
   "id": "a90bcff7",
   "metadata": {},
   "outputs": [
    {
     "name": "stdout",
     "output_type": "stream",
     "text": [
      "{3, 4, 10}\n",
      "set()\n"
     ]
    }
   ],
   "source": [
    "print(conxunto_total)\n",
    "conxunto_total.clear()\n",
    "print(conxunto_total)"
   ]
  },
  {
   "cell_type": "markdown",
   "id": "494c6035",
   "metadata": {},
   "source": [
    "Un últimos exemplos con conxuntos."
   ]
  },
  {
   "cell_type": "code",
   "execution_count": 84,
   "id": "5224d3bd",
   "metadata": {},
   "outputs": [
    {
     "name": "stdout",
     "output_type": "stream",
     "text": [
      "245\n",
      "244\n",
      "244\n"
     ]
    }
   ],
   "source": [
    "# Nas tuplas pode haber elementos repetidos, pero non nos conxuntos \n",
    "paises_tupla = ('Abkhazia', 'Abkhazia', 'Acerbaixán', 'Afganistán', 'Akrotiri e Dhekelia', 'Albania', 'Alemaña', 'Alxeria', 'Andorra', 'Angola', 'Anguila', 'Antiga e Barbuda', 'Arabia Saudita', 'Armenia', 'Artsakh', 'Arxentina', 'Aruba', 'Australia', 'Austria', 'Bahamas', 'Bahrain', 'Bangladesh', 'Barbados', 'Belarús', 'Bélxica', 'Belize', 'Benín', 'Bermudas', 'Bolivia', 'Bosnia e Hercegovina', 'Botswana', 'Brasil', 'Brunei', 'Bulgaria', 'Burkina Faso', 'Burundi', 'Bután', 'Cabo Verde', 'Illas Caimán', 'Camboxa', 'Camerún', 'Canadá', 'Casaquistán', 'República Centroafricana', 'Chad', 'República Checa', 'Chile', 'China', 'Chipre', 'Chipre do Norte', 'Cimbabue', 'Illas Cocos', 'Colombia', 'Comores', 'República do Congo', 'R.D. do Congo', 'Illas Cook', 'Corea do Norte', 'Corea do Sur', 'Costa do Marfil', 'Costa Rica', 'Croacia', 'Cuba', 'Curaçao', 'Dinamarca', 'Djibuti', 'Dominica', 'República Dominicana', 'Ecuador', 'Exipto', 'O Salvador', 'Emiratos Árabes Unidos', 'Eritrea', 'Eslovaquia', 'Eslovenia', 'España', 'Estados Unidos', 'Estonia', 'Eswatini', 'Etiopía', 'Illas Feroe', 'Fidxi', 'Filipinas', 'Finlandia', 'Francia', 'Gabón', 'Gambia', 'Ghana', 'Granada', 'Grecia', 'Groenlandia', 'Guam', 'Guatemala', 'Guernsey', 'Guinea', 'Guinea-Bissau', 'Guinea Ecuatorial', 'Güiana', 'Haití', 'Honduras', 'Hong Kong', 'Hungría', 'Iemen', 'India', 'Indonesia', 'Iraq', 'Irán', 'Irlanda', 'Islandia', 'Israel', 'Italia', 'Illa de Jersey', 'Kenya', 'Kirguizistán', 'Kiribati', 'Kosovo', 'Kuwait', 'Laos', 'Lesoto', 'Letonia', 'Líbano', 'Liberia', 'Libia', 'Liechtenstein', 'Lituania', 'Luxemburgo', 'Macau', 'Macedonia do Norte', 'Madagascar', 'Malaisia', 'Malaui', 'Maldivas', 'Malí', 'Malta', 'Illas Malvinas', 'Illa de Man', 'Illas Marianas do Norte', 'Marrocos', 'Illas Marshall', 'Mauricio', 'Mauritania', 'México', 'Micronesia', 'Moldavia', 'Mónaco', 'Mongolia', 'Montenegro', 'Montserrat', 'Mozambique', 'Myanmar', 'Illa de Nadal', 'Namibia', 'Nauru', 'Nepal', 'Nicaragua', 'Níxer', 'Nixeria', 'Niue', 'Illa Norfolk', 'Noruega', 'Nova Caledonia', 'Nova Rusia', 'Nova Zelandia', 'Omán', 'Osetia do Sur', 'Países Baixos', 'Paquistán', 'Palau', 'Palestina', 'Panamá', 'Papúa Nova Guinea', 'Paraguai', 'Perú', 'Illas Pitcairn', 'Polinesia Francesa', 'Polonia', 'Portugal', 'Porto Rico', 'Qatar', 'Reino Unido', 'Ruanda', 'Romanía', 'Rusia', 'Sáhara Occidental', 'Illas Salomón', 'Samoa', 'Samoa Americana', 'Saint-Barthélemy', 'Saint Kitts e Nevis', 'San Marino', 'San Martiño', 'Sint Maarten', 'Saint-Pierre-et-Miquelon', 'San Vicente e as Granadinas', 'Santa Helena', 'Santa Lucía', 'San Tomé e Príncipe', 'Senegal', 'Serbia', 'Seychelles', 'Serra Leoa', 'Singapur', 'Siria', 'Somalia', 'Somalilandia', 'Sri Lanka', 'Suráfrica', 'Sudán', 'Sudán do Sur', 'Suecia', 'Suíza', 'Suriname', 'Svalbard', 'Tailandia', 'Taiwán', 'Tanzania', 'Taxiquistán', 'Timor Leste', 'Togo', 'Tokelau', 'Tonga', 'Transnistria', 'Trinidad e Tobago', 'Tunisia', 'Turks e Caicos', 'Turkmenistán', 'Turquía', 'Tuvalu', 'Ucraína', 'Uganda', 'Uruguai', 'Uzbekistán', 'Vanuatu', 'Cidade do Vaticano', 'Venezuela', 'Vietnam', 'Illas Virxes Británicas', 'Illas Virxes Estadounidenses', 'Wallis e Futuna', 'Xamaica', 'Xapón', 'Xeorxia', 'Xibraltar', 'Xordania', 'Zambia')\n",
    "print(len(paises_tupla))  # nunha tupla pode haber elementos repetidos\n",
    "\n",
    "paises_conxunto2 = set(paises_tupla)\n",
    "print(len(paises_conxunto2))  # nun conxunto non pode haber elementos repetidos\n",
    "\n",
    "paises_conxunto = {'Abkhazia', 'Abkhazia', 'Acerbaixán', 'Afganistán', 'Akrotiri e Dhekelia', 'Albania', 'Alemaña', 'Alxeria', 'Andorra', 'Angola', 'Anguila', 'Antiga e Barbuda', 'Arabia Saudita', 'Armenia', 'Artsakh', 'Arxentina', 'Aruba', 'Australia', 'Austria', 'Bahamas', 'Bahrain', 'Bangladesh', 'Barbados', 'Belarús', 'Bélxica', 'Belize', 'Benín', 'Bermudas', 'Bolivia', 'Bosnia e Hercegovina', 'Botswana', 'Brasil', 'Brunei', 'Bulgaria', 'Burkina Faso', 'Burundi', 'Bután', 'Cabo Verde', 'Illas Caimán', 'Camboxa', 'Camerún', 'Canadá', 'Casaquistán', 'República Centroafricana', 'Chad', 'República Checa', 'Chile', 'China', 'Chipre', 'Chipre do Norte', 'Cimbabue', 'Illas Cocos', 'Colombia', 'Comores', 'República do Congo', 'R.D. do Congo', 'Illas Cook', 'Corea do Norte', 'Corea do Sur', 'Costa do Marfil', 'Costa Rica', 'Croacia', 'Cuba', 'Curaçao', 'Dinamarca', 'Djibuti', 'Dominica', 'República Dominicana', 'Ecuador', 'Exipto', 'O Salvador', 'Emiratos Árabes Unidos', 'Eritrea', 'Eslovaquia', 'Eslovenia', 'España', 'Estados Unidos', 'Estonia', 'Eswatini', 'Etiopía', 'Illas Feroe', 'Fidxi', 'Filipinas', 'Finlandia', 'Francia', 'Gabón', 'Gambia', 'Ghana', 'Granada', 'Grecia', 'Groenlandia', 'Guam', 'Guatemala', 'Guernsey', 'Guinea', 'Guinea-Bissau', 'Guinea Ecuatorial', 'Güiana', 'Haití', 'Honduras', 'Hong Kong', 'Hungría', 'Iemen', 'India', 'Indonesia', 'Iraq', 'Irán', 'Irlanda', 'Islandia', 'Israel', 'Italia', 'Illa de Jersey', 'Kenya', 'Kirguizistán', 'Kiribati', 'Kosovo', 'Kuwait', 'Laos', 'Lesoto', 'Letonia', 'Líbano', 'Liberia', 'Libia', 'Liechtenstein', 'Lituania', 'Luxemburgo', 'Macau', 'Macedonia do Norte', 'Madagascar', 'Malaisia', 'Malaui', 'Maldivas', 'Malí', 'Malta', 'Illas Malvinas', 'Illa de Man', 'Illas Marianas do Norte', 'Marrocos', 'Illas Marshall', 'Mauricio', 'Mauritania', 'México', 'Micronesia', 'Moldavia', 'Mónaco', 'Mongolia', 'Montenegro', 'Montserrat', 'Mozambique', 'Myanmar', 'Illa de Nadal', 'Namibia', 'Nauru', 'Nepal', 'Nicaragua', 'Níxer', 'Nixeria', 'Niue', 'Illa Norfolk', 'Noruega', 'Nova Caledonia', 'Nova Rusia', 'Nova Zelandia', 'Omán', 'Osetia do Sur', 'Países Baixos', 'Paquistán', 'Palau', 'Palestina', 'Panamá', 'Papúa Nova Guinea', 'Paraguai', 'Perú', 'Illas Pitcairn', 'Polinesia Francesa', 'Polonia', 'Portugal', 'Porto Rico', 'Qatar', 'Reino Unido', 'Ruanda', 'Romanía', 'Rusia', 'Sáhara Occidental', 'Illas Salomón', 'Samoa', 'Samoa Americana', 'Saint-Barthélemy', 'Saint Kitts e Nevis', 'San Marino', 'San Martiño', 'Sint Maarten', 'Saint-Pierre-et-Miquelon', 'San Vicente e as Granadinas', 'Santa Helena', 'Santa Lucía', 'San Tomé e Príncipe', 'Senegal', 'Serbia', 'Seychelles', 'Serra Leoa', 'Singapur', 'Siria', 'Somalia', 'Somalilandia', 'Sri Lanka', 'Suráfrica', 'Sudán', 'Sudán do Sur', 'Suecia', 'Suíza', 'Suriname', 'Svalbard', 'Tailandia', 'Taiwán', 'Tanzania', 'Taxiquistán', 'Timor Leste', 'Togo', 'Tokelau', 'Tonga', 'Transnistria', 'Trinidad e Tobago', 'Tunisia', 'Turks e Caicos', 'Turkmenistán', 'Turquía', 'Tuvalu', 'Ucraína', 'Uganda', 'Uruguai', 'Uzbekistán', 'Vanuatu', 'Cidade do Vaticano', 'Venezuela', 'Vietnam', 'Illas Virxes Británicas', 'Illas Virxes Estadounidenses', 'Wallis e Futuna', 'Xamaica', 'Xapón', 'Xeorxia', 'Xibraltar', 'Xordania', 'Zambia'}\n",
    "print(len(paises_conxunto))  # nun conxunto non pode haber elementos repetidos"
   ]
  },
  {
   "cell_type": "code",
   "execution_count": 91,
   "id": "b50a0b7e",
   "metadata": {},
   "outputs": [
    {
     "name": "stdout",
     "output_type": "stream",
     "text": [
      "A cantidade de números da lista orixinal é de:  10\n",
      "A cantidade de números distintos é de:  4\n",
      "A cantidade de repeticións de números é de:  6\n"
     ]
    }
   ],
   "source": [
    "# Nas listas pode haber elementos repetidos, pero non nos conxuntos \n",
    "lista_numeros = [1, 2, 2, 3, 3, 3, 4, 4, 4, 4]\n",
    "conxunto_numeros = set(lista_numeros)\n",
    "print('A cantidade de números da lista orixinal é de: ', len(lista_numeros))   # nunha lista pode haber elementos repetidos\n",
    "print('A cantidade de números distintos é de: ', len(conxunto_numeros))  # nun conxunto non pode haber elementos repetidos\n",
    "print('A cantidade de repeticións de números é de: ', len(lista_numeros) - len(conxunto_numeros))"
   ]
  },
  {
   "cell_type": "markdown",
   "id": "ac1b1ff1",
   "metadata": {},
   "source": [
    "---"
   ]
  },
  {
   "cell_type": "markdown",
   "id": "d57d6957",
   "metadata": {},
   "source": [
    "Para os seguintes exemplos usaremos un texto máis grande extraído do comezo da fermosa novela \"Memorias dun Neno Labrego\", de Xosé Neira Vilas, publicada no 1961 por Follas Novas en Arxentina (fonte: https://www.edu.xunta.gal/espazoAbalar/sites/espazoAbalar/files/datos/1390304363/contido/251_memorias_dun_neno_labrego.html):"
   ]
  },
  {
   "cell_type": "markdown",
   "id": "fbb4d5d7",
   "metadata": {},
   "source": [
    "Eu son... BALBINO. Un rapaz da aldea. Coma quen dis, un ninguén. E ademáis, probe. Porque da aldea tamén é Manolito, e non hai quen lle tusa, a pesares do que lle aconteceu por causa miña.\n",
    "No vrao ando descalzo. O pó quente dos camiños faime alancar. Magóanme as areas e nunca falta algunha brocha pra espetárseme nos pés. Érgome con noite pecha, ás dúas ou tres da mañán, pra ir co gando, restrevar ou xuntar monllos. Cando amañece xa me doi o lombo e as pernas. Pero o día comenza. Sede, sol, moxardos.\n",
    "No inverno, frío. Ganas de estar arreo ó pé do lume. Muíños apeados. Faladurías de neves e lobos. Os brazos son como espeteiras pra colgar farrapos. Murnas, fridas, dedos sin tentos.\n",
    "¡Qué saben desto os nenos da vila!"
   ]
  },
  {
   "cell_type": "code",
   "execution_count": 66,
   "id": "442dcb53",
   "metadata": {},
   "outputs": [
    {
     "name": "stdout",
     "output_type": "stream",
     "text": [
      "Eu son... BALBINO. Un rapaz da aldea. Coma quen dis, un ninguén. E ademáis, probe. Porque da aldea tamén é Manolito, e non hai quen lle tusa, a pesares do que lle aconteceu por causa miña.\n",
      "\n",
      "No vrao ando descalzo. O pó quente dos camiños faime alancar. Magóanme as areas e nunca falta algunha brocha pra espetárseme nos pés. Érgome con noite pecha, ás dúas ou tres da mañán, pra ir co gando, restrevar ou xuntar monllos. Cando amañece xa me doi o lombo e as pernas. Pero o día comenza. Sede, sol, moxardos.\n",
      "\n",
      "No inverno, frío. Ganas de estar arreo ó pé do lume. Muíños apeados. Faladurías de neves e lobos. Os brazos son como espeteiras pra colgar farrapos. Murnas, fridas, dedos sin tentos.\n",
      "\n",
      "¡Qué saben desto os nenos da vila! \n",
      "\n"
     ]
    }
   ],
   "source": [
    "texto = \"\"\"Eu son... BALBINO. Un rapaz da aldea. Coma quen dis, un ninguén. E ademáis, probe. Porque da aldea tamén é Manolito, e non hai quen lle tusa, a pesares do que lle aconteceu por causa miña.\n",
    "\n",
    "No vrao ando descalzo. O pó quente dos camiños faime alancar. Magóanme as areas e nunca falta algunha brocha pra espetárseme nos pés. Érgome con noite pecha, ás dúas ou tres da mañán, pra ir co gando, restrevar ou xuntar monllos. Cando amañece xa me doi o lombo e as pernas. Pero o día comenza. Sede, sol, moxardos.\n",
    "\n",
    "No inverno, frío. Ganas de estar arreo ó pé do lume. Muíños apeados. Faladurías de neves e lobos. Os brazos son como espeteiras pra colgar farrapos. Murnas, fridas, dedos sin tentos.\n",
    "\n",
    "¡Qué saben desto os nenos da vila!\"\"\"\n",
    "\n",
    "print(texto, '\\n')"
   ]
  },
  {
   "cell_type": "markdown",
   "id": "6108364d",
   "metadata": {},
   "source": [
    "## Exercicio de exemplo de conta-lo número de palabras diferentes existentes nun texto\n",
    "O seguinte código calcula o número de palabras distintas existentes no texto:"
   ]
  },
  {
   "cell_type": "code",
   "execution_count": 71,
   "id": "55e954b7",
   "metadata": {},
   "outputs": [
    {
     "name": "stdout",
     "output_type": "stream",
     "text": [
      "Palabras separadas incluíndo as repeticións: \n",
      " ['Eu', 'son...', 'BALBINO.', 'Un', 'rapaz', 'da', 'aldea.', 'Coma', 'quen', 'dis,', 'un', 'ninguén.', 'E', 'ademáis,', 'probe.', 'Porque', 'da', 'aldea', 'tamén', 'é', 'Manolito,', 'e', 'non', 'hai', 'quen', 'lle', 'tusa,', 'a', 'pesares', 'do', 'que', 'lle', 'aconteceu', 'por', 'causa', 'miña.', 'No', 'vrao', 'ando', 'descalzo.', 'O', 'pó', 'quente', 'dos', 'camiños', 'faime', 'alancar.', 'Magóanme', 'as', 'areas', 'e', 'nunca', 'falta', 'algunha', 'brocha', 'pra', 'espetárseme', 'nos', 'pés.', 'Érgome', 'con', 'noite', 'pecha,', 'ás', 'dúas', 'ou', 'tres', 'da', 'mañán,', 'pra', 'ir', 'co', 'gando,', 'restrevar', 'ou', 'xuntar', 'monllos.', 'Cando', 'amañece', 'xa', 'me', 'doi', 'o', 'lombo', 'e', 'as', 'pernas.', 'Pero', 'o', 'día', 'comenza.', 'Sede,', 'sol,', 'moxardos.', 'No', 'inverno,', 'frío.', 'Ganas', 'de', 'estar', 'arreo', 'ó', 'pé', 'do', 'lume.', 'Muíños', 'apeados.', 'Faladurías', 'de', 'neves', 'e', 'lobos.', 'Os', 'brazos', 'son', 'como', 'espeteiras', 'pra', 'colgar', 'farrapos.', 'Murnas,', 'fridas,', 'dedos', 'sin', 'tentos.', '¡Qué', 'saben', 'desto', 'os', 'nenos', 'da', 'vila!'] \n",
      "\n",
      "Palabras sen repetilas: \n",
      " {'doi', 'lombo', 'Faladurías', 'pé', 'ás', 'que', 'son...', 'as', 'desto', 'dúas', 'os', 'alancar.', 'pesares', 'causa', 'O', 'lobos.', 'día', 'dis,', 'aldea.', 'Muíños', 'restrevar', 'a', 'do', 'Sede,', 'nunca', 'pés.', 'No', 'como', 'dos', 'co', 'colgar', 'tamén', 'Manolito,', 'descalzo.', 'pecha,', 'aconteceu', 'moxardos.', 'lle', 'ou', 'areas', 'dedos', 'da', 'por', 'neves', 'Magóanme', 'Murnas,', 'lume.', 'pó', 'xa', 'noite', 'ir', 'sol,', 'ó', 'son', 'fridas,', 'xuntar', 'brocha', 'me', 'tentos.', 'rapaz', 'aldea', 'vila!', 'arreo', 'non', 'ademáis,', 'Porque', 'camiños', 'vrao', 'espeteiras', 'o', 'con', 'quen', 'e', 'probe.', 'un', 'BALBINO.', 'nos', 'inverno,', 'estar', 'sin', 'ando', 'brazos', 'amañece', '¡Qué', 'ninguén.', 'pra', 'algunha', 'espetárseme', 'pernas.', 'mañán,', 'Coma', 'monllos.', 'falta', 'Ganas', 'miña.', 'Cando', 'Pero', 'farrapos.', 'E', 'apeados.', 'de', 'hai', 'tusa,', 'Eu', 'tres', 'quente', 'faime', 'gando,', 'Un', 'comenza.', 'nenos', 'saben', 'é', 'Érgome', 'Os', 'frío.'} \n",
      "\n",
      "Número de palabras distintas:  116 \n",
      "\n"
     ]
    }
   ],
   "source": [
    "# troceado do texto nunha lista de palabras\n",
    "lista_texto = texto.split()\n",
    "print('Palabras separadas incluíndo as repeticións: \\n', lista_texto, '\\n')\n",
    "\n",
    "# converte-la lista nunha estrutura de datos que só almacene elementos únicos\n",
    "conxunto_texto = set(lista_texto)\n",
    "print('Palabras sen repetilas: \\n', conxunto_texto, '\\n')\n",
    "\n",
    "# amosa o número de palabras distintas existentes no texto\n",
    "numero_palabras_distintas = len(conxunto_texto)\n",
    "print('Número de palabras distintas: ', numero_palabras_distintas, '\\n')"
   ]
  },
  {
   "cell_type": "markdown",
   "id": "2b6589ec",
   "metadata": {},
   "source": [
    "\n",
    "## Exercicio de exemplo de conta-lo número de repeticións de cada palabra existente nun texto\n",
    "\n",
    "O seguinte código crea un dicionario que contén a cantidade de veces que cada palabra aparece no texto: cada palabra será unha chave e o número de veces que aparecen no texto será o seu correspondente valor.\n",
    "\n",
    "*Nota: neste exemplo básico engádese o eliminado dos signos de puntuación, pero non que non distinga que unha palabra en maiúsculas ou minúsculas sexa a mesma.*\n"
   ]
  },
  {
   "cell_type": "code",
   "execution_count": 83,
   "id": "89fa789f",
   "metadata": {},
   "outputs": [
    {
     "name": "stdout",
     "output_type": "stream",
     "text": [
      "!\"#$%&'()*+,-./:;<=>?@[\\]^_`{|}~\n",
      "Eu son BALBINO Un rapaz da aldea Coma quen dis un ninguén E ademáis probe Porque da aldea tamén é Manolito e non hai quen lle tusa a pesares do que lle aconteceu por causa miña\n",
      "\n",
      "No vrao ando descalzo O pó quente dos camiños faime alancar Magóanme as areas e nunca falta algunha brocha pra espetárseme nos pés Érgome con noite pecha ás dúas ou tres da mañán pra ir co gando restrevar ou xuntar monllos Cando amañece xa me doi o lombo e as pernas Pero o día comenza Sede sol moxardos\n",
      "\n",
      "No inverno frío Ganas de estar arreo ó pé do lume Muíños apeados Faladurías de neves e lobos Os brazos son como espeteiras pra colgar farrapos Murnas fridas dedos sin tentos\n",
      "\n",
      "Qué saben desto os nenos da vila \n",
      "\n",
      "Palabras separadas incluíndo as repeticións: \n",
      " ['Eu', 'son', 'BALBINO', 'Un', 'rapaz', 'da', 'aldea', 'Coma', 'quen', 'dis', 'un', 'ninguén', 'E', 'ademáis', 'probe', 'Porque', 'da', 'aldea', 'tamén', 'é', 'Manolito', 'e', 'non', 'hai', 'quen', 'lle', 'tusa', 'a', 'pesares', 'do', 'que', 'lle', 'aconteceu', 'por', 'causa', 'miña', 'No', 'vrao', 'ando', 'descalzo', 'O', 'pó', 'quente', 'dos', 'camiños', 'faime', 'alancar', 'Magóanme', 'as', 'areas', 'e', 'nunca', 'falta', 'algunha', 'brocha', 'pra', 'espetárseme', 'nos', 'pés', 'Érgome', 'con', 'noite', 'pecha', 'ás', 'dúas', 'ou', 'tres', 'da', 'mañán', 'pra', 'ir', 'co', 'gando', 'restrevar', 'ou', 'xuntar', 'monllos', 'Cando', 'amañece', 'xa', 'me', 'doi', 'o', 'lombo', 'e', 'as', 'pernas', 'Pero', 'o', 'día', 'comenza', 'Sede', 'sol', 'moxardos', 'No', 'inverno', 'frío', 'Ganas', 'de', 'estar', 'arreo', 'ó', 'pé', 'do', 'lume', 'Muíños', 'apeados', 'Faladurías', 'de', 'neves', 'e', 'lobos', 'Os', 'brazos', 'son', 'como', 'espeteiras', 'pra', 'colgar', 'farrapos', 'Murnas', 'fridas', 'dedos', 'sin', 'tentos', 'Qué', 'saben', 'desto', 'os', 'nenos', 'da', 'vila'] \n",
      "\n",
      "{'Eu': 1, 'son': 2, 'BALBINO': 1, 'Un': 1, 'rapaz': 1, 'da': 4, 'aldea': 2, 'Coma': 1, 'quen': 2, 'dis': 1, 'un': 1, 'ninguén': 1, 'E': 1, 'ademáis': 1, 'probe': 1, 'Porque': 1, 'tamén': 1, 'é': 1, 'Manolito': 1, 'e': 4, 'non': 1, 'hai': 1, 'lle': 2, 'tusa': 1, 'a': 1, 'pesares': 1, 'do': 2, 'que': 1, 'aconteceu': 1, 'por': 1, 'causa': 1, 'miña': 1, 'No': 2, 'vrao': 1, 'ando': 1, 'descalzo': 1, 'O': 1, 'pó': 1, 'quente': 1, 'dos': 1, 'camiños': 1, 'faime': 1, 'alancar': 1, 'Magóanme': 1, 'as': 2, 'areas': 1, 'nunca': 1, 'falta': 1, 'algunha': 1, 'brocha': 1, 'pra': 3, 'espetárseme': 1, 'nos': 1, 'pés': 1, 'Érgome': 1, 'con': 1, 'noite': 1, 'pecha': 1, 'ás': 1, 'dúas': 1, 'ou': 2, 'tres': 1, 'mañán': 1, 'ir': 1, 'co': 1, 'gando': 1, 'restrevar': 1, 'xuntar': 1, 'monllos': 1, 'Cando': 1, 'amañece': 1, 'xa': 1, 'me': 1, 'doi': 1, 'o': 2, 'lombo': 1, 'pernas': 1, 'Pero': 1, 'día': 1, 'comenza': 1, 'Sede': 1, 'sol': 1, 'moxardos': 1, 'inverno': 1, 'frío': 1, 'Ganas': 1, 'de': 2, 'estar': 1, 'arreo': 1, 'ó': 1, 'pé': 1, 'lume': 1, 'Muíños': 1, 'apeados': 1, 'Faladurías': 1, 'neves': 1, 'lobos': 1, 'Os': 1, 'brazos': 1, 'como': 1, 'espeteiras': 1, 'colgar': 1, 'farrapos': 1, 'Murnas': 1, 'fridas': 1, 'dedos': 1, 'sin': 1, 'tentos': 1, 'Qué': 1, 'saben': 1, 'desto': 1, 'os': 1, 'nenos': 1, 'vila': 1}\n"
     ]
    }
   ],
   "source": [
    "import string  # para poder utiliza-los métodos maketrans e translate\n",
    "print(string.punctuation)  # devolve os signos de puntuación a eliminar\n",
    "\n",
    "signos_puntuacion = string.punctuation + '¿¡'  # engadimos un par de signos usados en España, que non estaban incluídos\n",
    "\n",
    "# o método .maketrans() con 3 argumentos (os 2 primeiros son cadeas baleiras, e o 3º é a lista de signos de puntuación a borrar)\n",
    "# crea unha táboa de tradución cos caracteres a modificar (neste caso os signos de puntuación a eliminar)\n",
    "taboa_traducion = texto.maketrans('', '', signos_puntuacion)\n",
    "\n",
    "# Utiliza-la táboa de tradución para elimina-los signos de puntuación da cadea de texto\n",
    "texto_sen_signos = texto.translate(taboa_traducion)\n",
    "\n",
    "print(texto_sen_signos, '\\n')\n",
    "\n",
    "\n",
    "# troceado do texto nunha lista de palabras\n",
    "lista_texto = texto_sen_signos.split()\n",
    "print('Palabras separadas incluíndo as repeticións: \\n', lista_texto, '\\n')\n",
    "\n",
    "# creación dun dicionario para conta-las repeticións de cada palabra\n",
    "contaxe_palabras = {}\n",
    "\n",
    "# percorrido da lista de palabras aumentando o contador para cada palabra\n",
    "for palabra in lista_texto:\n",
    "    if palabra in contaxe_palabras:\n",
    "        contaxe_palabras[palabra] = contaxe_palabras[palabra] + 1\n",
    "    else:\n",
    "        contaxe_palabras[palabra] = 1\n",
    "\n",
    "# devolve-lo resultado\n",
    "print(contaxe_palabras)\n"
   ]
  },
  {
   "cell_type": "markdown",
   "id": "0914a57e",
   "metadata": {},
   "source": [
    "Agora é posible responder facilmente a algunhas cuestións sobre as palabras do texto:"
   ]
  },
  {
   "cell_type": "code",
   "execution_count": 91,
   "id": "ffc9c63d",
   "metadata": {},
   "outputs": [
    {
     "name": "stdout",
     "output_type": "stream",
     "text": [
      "114\n",
      "True\n",
      "1\n",
      "['BALBINO', 'Cando', 'Coma', 'E', 'Eu', 'Faladurías', 'Ganas', 'Magóanme', 'Manolito', 'Murnas', 'Muíños', 'No', 'O', 'Os', 'Pero', 'Porque', 'Qué', 'Sede', 'Un', 'a', 'aconteceu', 'ademáis', 'alancar', 'aldea', 'algunha', 'amañece', 'ando', 'apeados', 'areas', 'arreo', 'as', 'brazos', 'brocha', 'camiños', 'causa', 'co', 'colgar', 'comenza', 'como', 'con', 'da', 'de', 'dedos', 'descalzo', 'desto', 'dis', 'do', 'doi', 'dos', 'día', 'dúas', 'e', 'espeteiras', 'espetárseme', 'estar', 'faime', 'falta', 'farrapos', 'fridas', 'frío', 'gando', 'hai', 'inverno', 'ir', 'lle', 'lobos', 'lombo', 'lume', 'mañán', 'me', 'miña', 'monllos', 'moxardos', 'nenos', 'neves', 'ninguén', 'noite', 'non', 'nos', 'nunca', 'o', 'os', 'ou', 'pecha', 'pernas', 'pesares', 'por', 'pra', 'probe', 'pé', 'pés', 'pó', 'que', 'quen', 'quente', 'rapaz', 'restrevar', 'saben', 'sin', 'sol', 'son', 'tamén', 'tentos', 'tres', 'tusa', 'un', 'vila', 'vrao', 'xa', 'xuntar', 'Érgome', 'ás', 'é', 'ó']\n",
      "BALBINO\n",
      "ó\n",
      "ó\n"
     ]
    }
   ],
   "source": [
    "# Calcula-lo número de chaves únicas do dicionario\n",
    "numero_chaves = len(contaxe_palabras.keys())\n",
    "print(numero_chaves)\n",
    "\n",
    "# Atopar se a palabra 'lobos' é unha das chaves do dicionario\n",
    "conten_lobos = \"lobos\" in contaxe_palabras\n",
    "print(conten_lobos)\n",
    "\n",
    "# Se a palabra 'farrapos' é unha das chaves do dicionario devolve-lo seu número de repeticións no texto\n",
    "conten_farrapo = contaxe_palabras.get('farrapos')\n",
    "print(conten_farrapo)\n",
    "\n",
    "# Crear e ordear unha lista de chaves do dicionario\n",
    "chaves_ordeadas = sorted(contaxe_palabras.keys())\n",
    "print(chaves_ordeadas)\n",
    "\n",
    "# Obte-lo primeiro elemento da lista ordeada de chaves\n",
    "print(chaves_ordeadas[0])\n",
    "\n",
    "# Obte-lo último elemento da lista ordeada de chaves\n",
    "print(chaves_ordeadas[-1])\n",
    " \n",
    "# O último elemento da lista ordeada de chaves coincide co valor máximo\n",
    "print(max(chaves_ordeadas)) "
   ]
  },
  {
   "cell_type": "code",
   "execution_count": null,
   "id": "3ebbbfd4",
   "metadata": {},
   "outputs": [],
   "source": []
  }
 ],
 "metadata": {
  "kernelspec": {
   "display_name": "Python 3 (ipykernel)",
   "language": "python",
   "name": "python3"
  },
  "language_info": {
   "codemirror_mode": {
    "name": "ipython",
    "version": 3
   },
   "file_extension": ".py",
   "mimetype": "text/x-python",
   "name": "python",
   "nbconvert_exporter": "python",
   "pygments_lexer": "ipython3",
   "version": "3.9.12"
  }
 },
 "nbformat": 4,
 "nbformat_minor": 5
}
