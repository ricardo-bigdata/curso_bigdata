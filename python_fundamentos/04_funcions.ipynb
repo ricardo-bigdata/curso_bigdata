{
 "cells": [
  {
   "cell_type": "markdown",
   "id": "bbca4bd0",
   "metadata": {},
   "source": [
    "# 04 Funcións\n",
    "## Contidos\n",
    "\n",
    "- Definición de funcións\n",
    "    - Sentenza def\n",
    "    - Parámetros\n",
    "    - Argumentos\n",
    "    - Retorno de valores\n",
    "- Librarías estándar incluídas en Python\n",
    "    - math\n",
    "    - sys\n",
    "    - os\n",
    "    - random\n",
    "- Funcións anónimas\n",
    "    - Expresións lambda\n",
    "    - Función filter\n",
    "    - Función map"
   ]
  },
  {
   "cell_type": "markdown",
   "id": "e6ca43ec",
   "metadata": {},
   "source": [
    "## Definición de funcións\n",
    "\n",
    "As funcións permítennos encapsular un bloque de instrucións para que poidamos utilizalo varias veces dentro dos nosos programas. Para facer isto, é necesario identificar ese bloque de instrucións usando a sintaxe de funcións que inclúe Python. \n",
    "\n",
    "As funcións defínense coa sentenza `def`. Esta palabra chave indica a Python que imos crear un obxecto executable que poderá ser chamado máis adiante durante a execución do programa. \n",
    "\n",
    "O formato para definir unha función en Python é:\n",
    "\n",
    "`def nome_función(arg1, arg2,...):\n",
    "    sentenza_1\n",
    "    sentenza_2\n",
    "    ...  \n",
    "    return obxecto_a_devolver`"
   ]
  },
  {
   "cell_type": "markdown",
   "id": "ea4fedc4",
   "metadata": {},
   "source": [
    "A palabra reservada `def`, vai seguida do nome que queiramos darlle á función. Este nome será o identificador que nos permitirá chamar á función máis adiante. \n",
    "\n",
    "A continuación,\n",
    "indicaremos a lista de parámetros que terá a función, separados por comas e\n",
    "entre paréntese. Estes parámetros serán valores ou obxectos que se necesitarán para\n",
    "executar a función. No caso de que a nosa función non necesitase parámetros,\n",
    "deixaremos as parénteses baleiras. Ao final da declaración da función usaremos dous\n",
    "puntos (:) para comezar a escribir as sentenzas que se executarán. O bloque de sentenzas\n",
    "debe ter unha sangría de 4 espazos con respecto á definición da\n",
    "función para que o Python entenda que son instrucións que pertencen á\n",
    "función. No caso de que a función teña que devolver un valor, usaremos a palabra\n",
    "reservada return xunto co identificador ou a expresión que devolverá o valor.\n",
    "Imos ver a definición dunha función a través dun exemplo. \n",
    "\n",
    "Imaxinemos que\n",
    "queremos crear unha función que nos calcule a área dun rectángulo. Para poder\n",
    "calcular a área do rectángulo, a función necesita dous datos: a súa base e a súa altura. Estes dous\n",
    "datos serán os parámetros da función. Por último, devolveremos o resultado\n",
    "do cálculo usando a sentenza return . A función para calcular a área do rectángulo\n",
    "quedaría como se mostra a continuación:"
   ]
  },
  {
   "cell_type": "code",
   "execution_count": 2,
   "id": "133b2c3d",
   "metadata": {},
   "outputs": [],
   "source": [
    "def area_rectangulo(base, altura):\n",
    "    area = (base * altura)\n",
    "    return area"
   ]
  },
  {
   "cell_type": "markdown",
   "id": "d5d80a4c",
   "metadata": {},
   "source": [
    "Para executa-la función só hai que usa-lo nome da función e inserta-los valores da base e a altura:"
   ]
  },
  {
   "cell_type": "code",
   "execution_count": 3,
   "id": "380cf36e",
   "metadata": {},
   "outputs": [
    {
     "data": {
      "text/plain": [
       "30"
      ]
     },
     "execution_count": 3,
     "metadata": {},
     "output_type": "execute_result"
    }
   ],
   "source": [
    "area_rectangulo(6, 5) # devolve 30"
   ]
  },
  {
   "cell_type": "code",
   "execution_count": null,
   "id": "6642b582",
   "metadata": {},
   "outputs": [],
   "source": []
  },
  {
   "cell_type": "code",
   "execution_count": 1,
   "id": "038f7743",
   "metadata": {},
   "outputs": [
    {
     "name": "stdout",
     "output_type": "stream",
     "text": [
      " 01_sintaxe_e_tipos_datos_basicos_de_python.ipynb   imaxes\r\n",
      " 02_estruturas_de_datos.ipynb\t\t\t   'Markdown Cheat Sheet.ipynb'\r\n",
      " 03_sentenzas_condicionais_e_iterativas.ipynb\t    markdown-cheat-sheet.md\r\n",
      " 04_funcions.ipynb\t\t\t\t    __pycache__\r\n",
      " Constantes.py\r\n"
     ]
    }
   ],
   "source": [
    "! ls"
   ]
  },
  {
   "cell_type": "code",
   "execution_count": null,
   "id": "8de909ed",
   "metadata": {},
   "outputs": [],
   "source": []
  }
 ],
 "metadata": {
  "kernelspec": {
   "display_name": "Python 3 (ipykernel)",
   "language": "python",
   "name": "python3"
  },
  "language_info": {
   "codemirror_mode": {
    "name": "ipython",
    "version": 3
   },
   "file_extension": ".py",
   "mimetype": "text/x-python",
   "name": "python",
   "nbconvert_exporter": "python",
   "pygments_lexer": "ipython3",
   "version": "3.9.13"
  }
 },
 "nbformat": 4,
 "nbformat_minor": 5
}
