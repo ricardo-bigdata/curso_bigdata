{
 "cells": [
  {
   "cell_type": "markdown",
   "id": "aa7cfb5d",
   "metadata": {},
   "source": [
    "# 04 Compresión de coleccións\n",
    "\n",
    "## Contidos\n",
    "- Compresión de listas\n",
    "- Compresión de dicionarios\n",
    "- Compresión de conxuntos"
   ]
  },
  {
   "cell_type": "markdown",
   "id": "f8baf0ef",
   "metadata": {},
   "source": [
    "A compresión de listas en Python é un método sintáctico para crear listas (e por extensión tamén outras coleccións) a partir dos elementos doutras listas (ou coleccións) dunha forma rápida de escribir, moi lexible e funcionalmente eficiente.\n",
    "\n",
    "### Compresión de listas\n",
    "\n",
    "A compresión de listas permite crear listas onde cada un dos membros da lista é o resultado dunha operación. \n",
    "\n",
    "Por exemplo, imaxinemos que queremos crear unha lista que almacene o resultado de aplicar o cadrado ós números do 0 a 10. Usando un bucle `for`, fariámolo da seguinte maneira:"
   ]
  },
  {
   "cell_type": "code",
   "execution_count": 8,
   "id": "6c716bcf",
   "metadata": {},
   "outputs": [
    {
     "name": "stdout",
     "output_type": "stream",
     "text": [
      "[]\n",
      "[0, 1, 4, 9, 16, 25, 36, 49, 64, 81, 100]\n"
     ]
    }
   ],
   "source": [
    "lista = []\n",
    "print(lista)\n",
    "for i in range(0, 11):\n",
    "    lista.append(i ** 2)\n",
    "print(lista)"
   ]
  },
  {
   "cell_type": "markdown",
   "id": "f90f7b41",
   "metadata": {},
   "source": [
    "Sen embargo, esta operación pódese realizar dunha forma máis sinxela grazas á compresión de listas. A estrutura dunha compresión de listas é a seguinte:\n",
    "\n",
    "`[operación for ítem in secuencia]`\n",
    "\n",
    "Neste esquema hai tres elementos:\n",
    "- O primeiro deles é **operación**, que será unha expresión que devolve un resultado e cuxo resultado se almacenará na lista resultante. \n",
    "- A continuación, hai un **ítem** da secuencia de elementos que se van a percorrer. Normalmente, os ítems son utilizados nas operacións. \n",
    "- Por último, hai unha **secuencia iterable** que terá tódo-los valores de entrada que queremos percorrer para xera-la lista.\n",
    "\n",
    "No exemplo anterior, cada un dos elementos serían: *i\\*\\*2* (operación), *i* (ítem), *range(0,11)* (secuencia). É dicir, podemos aplicar compresión de listas no exemplo anterior da seguinte maneira, **implementándoo nunha única liña**:"
   ]
  },
  {
   "cell_type": "code",
   "execution_count": 16,
   "id": "3b587949",
   "metadata": {},
   "outputs": [
    {
     "name": "stdout",
     "output_type": "stream",
     "text": [
      "[0, 1, 4, 9, 16, 25, 36, 49, 64, 81, 100]\n"
     ]
    }
   ],
   "source": [
    "lista = [i**2 for i in range(0,11)]\n",
    "print(lista)"
   ]
  },
  {
   "cell_type": "markdown",
   "id": "b5cf34ca",
   "metadata": {},
   "source": [
    "**O uso de compresión de listas fai que o código sexa máis compacto e, sobre todo, que a execución sexa moito máis rápida.**\n",
    "\n",
    "A esta estrutura pódenselle incluír expresións condicionais que se deben cumprir para que un elemento poida ser incluído na lista resultante. \n",
    "\n",
    "O esquema da compresión de listas con expresións condicionais sería o seguinte:\n",
    "\n",
    "`[operación for item in secuencia if condicion]`\n",
    "\n",
    "Por exemplo, podemos facer que unha lista almacene o resultado de aplica-lo cadrado unicamente ós números múltiplos de 3 que existan entre 0 e 10:"
   ]
  },
  {
   "cell_type": "code",
   "execution_count": 17,
   "id": "c4e37f24",
   "metadata": {},
   "outputs": [
    {
     "name": "stdout",
     "output_type": "stream",
     "text": [
      "[0, 9, 36, 81]\n"
     ]
    }
   ],
   "source": [
    "lista = [i**2 for i in range(0,11) if i % 3 == 0]\n",
    "print(lista)"
   ]
  },
  {
   "cell_type": "markdown",
   "id": "a3e13de7",
   "metadata": {},
   "source": [
    "Estas sentenzas permítennos crear novas listas dunha forma moi sinxela."
   ]
  },
  {
   "cell_type": "markdown",
   "id": "76c0c654",
   "metadata": {},
   "source": [
    "### Compresión de dicionarios\n",
    "\n",
    "Para os dicionarios, é necesario que definamo-la chave e o valor de cada elemento que insertemos neles. Por este motivo, a expresión de compresión para diccionarios debe incluír ambos conceptos; o resto da expresión é igual que a anterior:\n",
    "\n",
    "`{chave: valor for item in secuencia if condición}`\n",
    "\n",
    "Por exemplo, para crear un dicionario que almacena o resultado de aplica-lo cadrado ós números pares que hai de 0 a 10, pero onde a clave deses resultados sexa o número co que se calculou o cadrado:"
   ]
  },
  {
   "cell_type": "code",
   "execution_count": 18,
   "id": "6baeb44a",
   "metadata": {},
   "outputs": [
    {
     "name": "stdout",
     "output_type": "stream",
     "text": [
      "{0: 0, 2: 4, 4: 16, 6: 36, 8: 64, 10: 100}\n"
     ]
    }
   ],
   "source": [
    "dicionario = {i: i**2 for i in range(0,11) if i % 2 == 0}\n",
    "print(dicionario)"
   ]
  },
  {
   "cell_type": "markdown",
   "id": "aee6e274",
   "metadata": {},
   "source": [
    "### Compresión de conxuntos\n",
    "\n",
    "Ó igual que cos dicionarios, hai que adapta-la expresión de compresión para que se creen conxuntos; neste caso úsanse os símbolos de creación de conxuntos, seguidos da mesma estrutura de compresión que usabamos coas listas:\n",
    "\n",
    "`{item for item in secuencia if condición}`\n",
    "\n",
    "Por ejemplo, para crear unha secuencia que almacena o resultado de aplica-lo cadrado ós números pares que hai de 0 a 10, aplicaríamo-la seguinte sentenza:"
   ]
  },
  {
   "cell_type": "code",
   "execution_count": 19,
   "id": "6ed443e2",
   "metadata": {},
   "outputs": [
    {
     "name": "stdout",
     "output_type": "stream",
     "text": [
      "{0, 64, 4, 36, 100, 16}\n"
     ]
    }
   ],
   "source": [
    "conxunto = {i**2 for i in range (0,11) if i % 2 == 0}\n",
    "print(conxunto)"
   ]
  },
  {
   "cell_type": "code",
   "execution_count": null,
   "id": "1ec0df67",
   "metadata": {},
   "outputs": [],
   "source": []
  }
 ],
 "metadata": {
  "kernelspec": {
   "display_name": "Python 3 (ipykernel)",
   "language": "python",
   "name": "python3"
  },
  "language_info": {
   "codemirror_mode": {
    "name": "ipython",
    "version": 3
   },
   "file_extension": ".py",
   "mimetype": "text/x-python",
   "name": "python",
   "nbconvert_exporter": "python",
   "pygments_lexer": "ipython3",
   "version": "3.9.12"
  }
 },
 "nbformat": 4,
 "nbformat_minor": 5
}
