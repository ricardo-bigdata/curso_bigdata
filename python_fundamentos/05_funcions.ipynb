{
 "cells": [
  {
   "cell_type": "markdown",
   "id": "bbca4bd0",
   "metadata": {},
   "source": [
    "# 05 Funcións\n",
    "## Contidos\n",
    "\n",
    "- Funcións integradas (*built-in*)\n",
    "- Definición de funcións\n",
    "    - Sentenza def\n",
    "    - Parámetros e argumentos\n",
    "      - Parámetros indeterminados\n",
    "    - Retorno de valores\n",
    "    - Documentar funcións\n",
    "- Librarías estándar incluídas en Python\n",
    "    - math\n",
    "    - sys\n",
    "    - os\n",
    "    - random\n",
    "- Funcións anónimas\n",
    "    - Expresións lambda\n",
    "    - Función filter\n",
    "    - Función map"
   ]
  },
  {
   "cell_type": "markdown",
   "id": "b9239a1d",
   "metadata": {},
   "source": [
    "---"
   ]
  },
  {
   "cell_type": "markdown",
   "id": "a56b1bec",
   "metadata": {},
   "source": [
    "## Funcións integradas (*built-in*)\n",
    "\n",
    "Python conta cunha serie de funcións básicas incluídas que sempre están dispoñibles. De seguido vai unha listaxe das mesmas en orden alfabético, dispoñible na web oficial: https://docs.python.org/es/3.10/library/functions.html\n",
    "\n",
    "- A\n",
    "abs()\n",
    "aiter()\n",
    "all()\n",
    "any()\n",
    "anext()\n",
    "ascii()\n",
    "\n",
    "- B\n",
    "bin()\n",
    "bool()\n",
    "breakpoint()\n",
    "bytearray()\n",
    "bytes()\n",
    "\n",
    "- C\n",
    "callable()\n",
    "chr()\n",
    "classmethod()\n",
    "compile()\n",
    "complex()\n",
    "\n",
    "- D\n",
    "delattr()\n",
    "dict()\n",
    "dir()\n",
    "divmod()\n",
    "\n",
    "\t\n",
    "- E\n",
    "enumerate()\n",
    "eval()\n",
    "exec()\n",
    "\n",
    "- F\n",
    "filter()\n",
    "float()\n",
    "format()\n",
    "frozenset()\n",
    "\n",
    "- G\n",
    "getattr()\n",
    "globals()\n",
    "\n",
    "- H\n",
    "hasattr()\n",
    "hash()\n",
    "help()\n",
    "hex()\n",
    "\n",
    "- I\n",
    "id()\n",
    "input()\n",
    "int()\n",
    "isinstance()\n",
    "issubclass()\n",
    "iter()\n",
    "\t\n",
    "- L\n",
    "len()\n",
    "list()\n",
    "locals()\n",
    "\n",
    "- M\n",
    "map()\n",
    "max()\n",
    "memoryview()\n",
    "min()\n",
    "\n",
    "- N\n",
    "next()\n",
    "\n",
    "- O\n",
    "object()\n",
    "oct()\n",
    "open()\n",
    "ord()\n",
    "\n",
    "- P\n",
    "pow()\n",
    "print()\n",
    "property()\n",
    "\n",
    "- R\n",
    "range()\n",
    "repr()\n",
    "reversed()\n",
    "round()\n",
    "\n",
    "- S\n",
    "set()\n",
    "setattr()\n",
    "slice()\n",
    "sorted()\n",
    "staticmethod()\n",
    "str()\n",
    "sum()\n",
    "super()\n",
    "\n",
    "- T\n",
    "tuple()\n",
    "type()\n",
    "\n",
    "- V\n",
    "vars()\n",
    "\n",
    "- Z\n",
    "zip()\n",
    "\n",
    "- _ \n",
    "\\_\\_import__()\n",
    "\n",
    "Pero non estamos limitados a usar só as funcións existentes, pódemos crea-las nosas propias funcións ou usar funcións definidas por terceiras persoas, importándoas.\n"
   ]
  },
  {
   "cell_type": "markdown",
   "id": "e6ca43ec",
   "metadata": {},
   "source": [
    "## Definición de funcións\n",
    "\n",
    "As funcións permítennos encapsular un bloque de instrucións para que poidamos utilizalo varias veces dentro dos nosos programas. Para facer isto, é necesario identificar ese bloque de instrucións usando a sintaxe de funcións que inclúe Python. \n",
    "\n",
    "### Sentenza def\n",
    "\n",
    "As funcións defínense coa sentenza `def`. Esta palabra chave indica a Python que imos crear un obxecto executable que poderá ser chamado máis adiante durante a execución do programa. \n",
    "\n",
    "O formato para definir unha función en Python é:\n",
    "\n",
    "`def nome_función(arg1, arg2,...):\n",
    "    sentenza_1\n",
    "    sentenza_2\n",
    "    ...  \n",
    "    return obxecto_a_devolver`"
   ]
  },
  {
   "cell_type": "markdown",
   "id": "ea4fedc4",
   "metadata": {},
   "source": [
    "A palabra reservada `def`, vai seguida de\n",
    "\n",
    "- O **nome** que queiramos darlle á función. Este nome será o identificador que nos permitirá chamar á función máis adiante. \n",
    "\n",
    "- A **lista de parámetros** que terá a función, **separados por comas e entre paréntese**. Estes parámetros serán valores ou obxectos que se necesitarán para executa-a función. No caso de que a función non necesitase parámetros, o contido das parénteses estará baleira `()`. \n",
    "\n",
    "- Ó final da declaración da función usaremos **dous puntos (`:`)** para comezar a escribi-las sentenzas que se executarán. \n",
    "\n",
    "- O **bloque de sentenzas debe ter unha sangría de 4 espazos** con respecto á definición da función para que Python entenda que son instrucións que pertencen á función. \n",
    "\n",
    "- No **caso de que a función teña que devolver un valor, usaremos a palabra reservada `return` xunto co identificador ou a expresión que devolverá o valor**.\n",
    " \n",
    "\n",
    "Por exemplo, unha función que calcule a área dun rectángulo necesita dous datos, a súa base e a súa altura, estes dous datos serán os parámetros da función; e para devolve-lo resultado do cálculo úsase a sentenza `return`."
   ]
  },
  {
   "cell_type": "code",
   "execution_count": 1,
   "id": "133b2c3d",
   "metadata": {},
   "outputs": [],
   "source": [
    "def area_rectangulo(base, altura):\n",
    "    area = (base * altura)\n",
    "    return area"
   ]
  },
  {
   "cell_type": "markdown",
   "id": "d5d80a4c",
   "metadata": {},
   "source": [
    "Para executa-la función só hai que usa-lo nome da función e inserta-los valores da base e a altura:"
   ]
  },
  {
   "cell_type": "code",
   "execution_count": 2,
   "id": "380cf36e",
   "metadata": {},
   "outputs": [
    {
     "data": {
      "text/plain": [
       "30"
      ]
     },
     "execution_count": 2,
     "metadata": {},
     "output_type": "execute_result"
    }
   ],
   "source": [
    "area_rectangulo(6, 5) # devolve 30"
   ]
  },
  {
   "cell_type": "markdown",
   "id": "57054f11",
   "metadata": {},
   "source": [
    "### Parámetros e argumentos\n",
    "Pode haber funcións sen parámetros, pero polo xeral necesítase introducir información ás funcións para que poidan realiza-la acción desexada. \n",
    "\n",
    "Conceptualmente hai que diferenciar entre os ***parámetros***, que son os valores que se definen nunha función,\n",
    "e os ***argumentos***, que son os valores que se pasan á función no momento da execución.\n",
    "\n",
    "No exemplo anterior, cando declaramos a función *area_rectangulo*, os elementos *base* e *altura* eran os parámetros. Lopgo, cando indicamos que a base era *6* e a altura *5*, eses valores son os argumentos da función.\n",
    "\n",
    "Cando se chama a unha función existen dúas formas de pasarlle os argumentos:\n",
    "\n",
    "- ***Argumentos por posición***: os argumentos envíanse na mesma orde na que se definiron os parámetros. Esta é a forma usada para chamar á función *area_rectangulo* no exemplo anterior.\n",
    "\n",
    "\n",
    "- ***Argumentos por nome***: os argumentos envíanse utilizando os nomes dos parámetros que se asignaron na función. Para iso, úsase o nome do parámetro, seguido do símbolo igual (`=`) e do argumento. No exemplo anterior sería da seguinte forma:"
   ]
  },
  {
   "cell_type": "code",
   "execution_count": 5,
   "id": "d4e60fdc",
   "metadata": {},
   "outputs": [
    {
     "data": {
      "text/plain": [
       "30"
      ]
     },
     "execution_count": 5,
     "metadata": {},
     "output_type": "execute_result"
    }
   ],
   "source": [
    "area_rectangulo(base=6, altura=5) # devolve 30"
   ]
  },
  {
   "cell_type": "markdown",
   "id": "2a302565",
   "metadata": {},
   "source": [
    "Cando unha función ten definidos uns parámetros, é obrigatorio á hora de chamala, que a función reciba o mesmo número de argumentos; no caso de que non recibise algún deses argumentos, Python devolvería un erro de tipo. \n",
    "\n",
    "Asemade, no momento de declarar unha función, pódese asignar un **valor por defecto a cada parámetro**. Este valor por defecto **usarase só se non se indicou un argumento no parámetro correspondente**.\n",
    "\n",
    "Para asignar un valor por defecto a un parámetro, defínese o nome do parámetro, seguido polo símbolo `=` e o valor por defecto que se lle queira dar. "
   ]
  },
  {
   "cell_type": "code",
   "execution_count": 7,
   "id": "c88d300e",
   "metadata": {},
   "outputs": [],
   "source": [
    "# definición dunha función con 2 parámetros por defecto\n",
    "def area_rectangulo(base=4, altura=2):\n",
    "    area = (base * altura)\n",
    "    return area"
   ]
  },
  {
   "cell_type": "markdown",
   "id": "8de317e6",
   "metadata": {},
   "source": [
    "Se se chamase á función *area_rectangulo* sen ningún argumento, usaría os valores por defecto que se predefiniron para calcula-la área."
   ]
  },
  {
   "cell_type": "code",
   "execution_count": 19,
   "id": "bae0ab35",
   "metadata": {},
   "outputs": [
    {
     "data": {
      "text/plain": [
       "8"
      ]
     },
     "execution_count": 19,
     "metadata": {},
     "output_type": "execute_result"
    }
   ],
   "source": [
    "area_rectangulo() # devolve 8"
   ]
  },
  {
   "cell_type": "markdown",
   "id": "836d2c89",
   "metadata": {},
   "source": [
    "Tamén podemos indicar unicamente un dos parámetros. \n",
    "\n",
    "No caso de que o fagamos por posición, recoñecerá que ese argumento é o do primeiro parámetro, *base*; en cambio, se utilizamos os argumentos por nome, podemos aplicalo a calquera dos\n",
    "dous parámetros."
   ]
  },
  {
   "cell_type": "code",
   "execution_count": 17,
   "id": "5aa6a8ab",
   "metadata": {},
   "outputs": [
    {
     "data": {
      "text/plain": [
       "4"
      ]
     },
     "execution_count": 17,
     "metadata": {},
     "output_type": "execute_result"
    }
   ],
   "source": [
    "area_rectangulo(2) # devolve 4"
   ]
  },
  {
   "cell_type": "code",
   "execution_count": 18,
   "id": "b3b803e7",
   "metadata": {},
   "outputs": [
    {
     "data": {
      "text/plain": [
       "12"
      ]
     },
     "execution_count": 18,
     "metadata": {},
     "output_type": "execute_result"
    }
   ],
   "source": [
    "area_rectangulo(altura=3) # devolve 12"
   ]
  },
  {
   "cell_type": "markdown",
   "id": "9526d044",
   "metadata": {},
   "source": [
    "Moitas das funcións que existen en Python teñen parámetros con valores por defecto, polo que é importante revisa-la documentación dunha función para saber como van se-los argumentos da función antes de usala."
   ]
  },
  {
   "cell_type": "markdown",
   "id": "5260a954",
   "metadata": {},
   "source": [
    "#### Parámetros indeterminados\n",
    "\n",
    "Pódese ter que definir unha **función que necesite un número variable de argumentos**. Para estes casos Python permite usar **parámetros indeterminados nas funcións**. \n",
    "\n",
    "Estes parámetros permiten incluír tantos argumentos como se queira no momento da execución da función.\n",
    "\n",
    "Ó igual que cos parámetros normais, existen dúas maneiras de asigna-los argumentos:\n",
    "\n",
    "- **Argumentos por posición**: débense defini-los parámetros como unha lista dinámica. Para iso, á hora de defini-lo parámetro, inclúese un asterisco (`*`) antes do nome do parámetro. Os parámetros indeterminados recibiranse por posición. A estes parámetros pódeselles pasar calquera tipo de dato en cada función."
   ]
  },
  {
   "cell_type": "code",
   "execution_count": 42,
   "id": "9ab602ab",
   "metadata": {},
   "outputs": [
    {
     "name": "stdout",
     "output_type": "stream",
     "text": [
      "1\n",
      "5\n",
      "15\n",
      "65\n"
     ]
    }
   ],
   "source": [
    "def imprime_numeros(*args):\n",
    "    for numero in args:\n",
    "        print(numero)\n",
    "        \n",
    "imprime_numeros(1, 5, 15, 65)      "
   ]
  },
  {
   "cell_type": "markdown",
   "id": "9ea8f497",
   "metadata": {},
   "source": [
    "- **Argumentos por nome**: para recibir varios argumentos por nome, sen sabe-la cantidade, é necesario defini-los parámetros como un dicionario dinámico. Para iso úsase dous asteriscos (`**`) antes do nome do parámetro."
   ]
  },
  {
   "cell_type": "code",
   "execution_count": 43,
   "id": "fb33fa96",
   "metadata": {},
   "outputs": [
    {
     "name": "stdout",
     "output_type": "stream",
     "text": [
      "argumento1 => Ola\n",
      "argumento2 => 365\n",
      "argumento3 => [1, 2, 3, 4, 5]\n",
      "argumento4 => 15.67\n"
     ]
    }
   ],
   "source": [
    "def imprime_valores(**args):\n",
    "    for argumento in args:\n",
    "        print(argumento, '=>', args[argumento])\n",
    "        \n",
    "imprime_valores(argumento1='Ola', argumento2=365, argumento3=[1,2,3,4,5], argumento4=15.67)"
   ]
  },
  {
   "cell_type": "markdown",
   "id": "40ca4ab0",
   "metadata": {},
   "source": [
    "Incluso é posible combina-las dúas formas de declarar parámetros normais coas formas de declarar parámetros indeterminados, á hora de declarar unha función."
   ]
  },
  {
   "cell_type": "code",
   "execution_count": 44,
   "id": "1a1d4ac0",
   "metadata": {},
   "outputs": [
    {
     "name": "stdout",
     "output_type": "stream",
     "text": [
      "A  Marianico  gústalle o seguinte: \n",
      " can\n",
      "doces\n",
      "camiñar a estopa\n",
      "['caldo', 'marisco', 'orellas']\n"
     ]
    }
   ],
   "source": [
    "def imprime_gustos(nome_persoa, animal, **args):\n",
    "    print('A ',nome_persoa, ' gústalle o seguinte: \\n', animal)\n",
    "    for argumento in args:\n",
    "        print(args[argumento])\n",
    "        \n",
    "imprime_gustos('Marianico', 'can', argumento1='doces', argumento2='camiñar a estopa', argumento3=['caldo','marisco','orellas'])"
   ]
  },
  {
   "cell_type": "markdown",
   "id": "83dec314",
   "metadata": {},
   "source": [
    "### Retorno de valores"
   ]
  },
  {
   "cell_type": "markdown",
   "id": "01da9e26",
   "metadata": {},
   "source": [
    "Para devolver un ou varios valores, as funcións utilizan a sentenza `return`."
   ]
  },
  {
   "cell_type": "code",
   "execution_count": 45,
   "id": "b6f48846",
   "metadata": {},
   "outputs": [
    {
     "data": {
      "text/plain": [
       "16"
      ]
     },
     "execution_count": 45,
     "metadata": {},
     "output_type": "execute_result"
    }
   ],
   "source": [
    "# Cálculo da potencia entre dous números.\n",
    "def potencia(base, exponente):\n",
    "    return base ** exponente\n",
    "\n",
    "potencia (2,4) # devolve 16"
   ]
  },
  {
   "cell_type": "markdown",
   "id": "d649bee1",
   "metadata": {},
   "source": [
    "Hai que ter en conta que **a instrución `return` debe sé-la última instrución en executarse, xa que nese momento Python sae da función**.\n",
    "\n",
    "En Python, **as funcións poden devolver máis dun valor á vez**; para facer isto, só hai que separar con comas tódo-los valores que se queiran devolver despois da sentenza `return`"
   ]
  },
  {
   "cell_type": "code",
   "execution_count": 46,
   "id": "b6f85ce4",
   "metadata": {},
   "outputs": [
    {
     "name": "stdout",
     "output_type": "stream",
     "text": [
      "('Ola', 365, ['Brais', 'Manolo', 'Uxía', 'Xonxa'])\n"
     ]
    }
   ],
   "source": [
    "# función que devolve tres obxectos de diferentes tipos\n",
    "def exemplo():\n",
    "    return \"Ola\", 365, ['Brais','Manolo','Uxía', 'Xonxa']\n",
    "\n",
    "print(exemplo())"
   ]
  },
  {
   "cell_type": "markdown",
   "id": "fb1f3367",
   "metadata": {},
   "source": [
    "Cando se devolve máis dun valor nunha función, o que se obtén é unha tupla con tódo-los valores. Por este motivo, se se quere que cada un dos resultados estea nunha variable distinta, é necesario facer un desempaquetado da tupla. "
   ]
  },
  {
   "cell_type": "code",
   "execution_count": 52,
   "id": "fd10bacd",
   "metadata": {},
   "outputs": [
    {
     "name": "stdout",
     "output_type": "stream",
     "text": [
      "var1 =  Ola \n",
      "var2 =  365 \n",
      "var3 =  ['Brais', 'Manolo', 'Uxía', 'Xonxa']\n"
     ]
    }
   ],
   "source": [
    "var1, var2, var3 = exemplo() # devolve var1 = “Ola”, var2 = 365, var3 = ['Brais', 'Manolo', 'Uxía', 'Xonxa']\n",
    "\n",
    "print('var1 = ', var1, '\\nvar2 = ', var2, '\\nvar3 = ', var3)"
   ]
  },
  {
   "cell_type": "markdown",
   "id": "629f4643",
   "metadata": {},
   "source": [
    "### Documentar funcións"
   ]
  },
  {
   "cell_type": "markdown",
   "id": "c3b9e05a",
   "metadata": {},
   "source": [
    "As funcións encapsulan un comportamento dentro dun identificador e outros/as usuarios/as non terían porqué acceder ó código dunha función para saber que é o que se quere facer. Para poder documenta-las funcións utilízanse os `docstring`.\n",
    "\n",
    "En Python tódo-los obxectos contan cunha variable por defecto chamada `doc`, que nos permite acceder á documentación do obxecto correspondente. \n",
    "\n",
    "Para documentar unha función usando os `docstring`, unicamente hai que incluír un comentario inmediatamente despois da cabeceira da función."
   ]
  },
  {
   "cell_type": "code",
   "execution_count": 3,
   "id": "e3daa6e7",
   "metadata": {},
   "outputs": [],
   "source": [
    "def potencia(base, exponente):\n",
    "    \"\"\"\n",
    "    Función que calcula a potencia de dous números.\n",
    "    \n",
    "    Argumentos:\n",
    "        base ‐‐ base da operación.\n",
    "        exponente ‐‐ expoñente da operación.\n",
    "    \"\"\"\n",
    "    return base ** exponente"
   ]
  },
  {
   "cell_type": "code",
   "execution_count": 4,
   "id": "316a82da",
   "metadata": {},
   "outputs": [
    {
     "data": {
      "text/plain": [
       "8"
      ]
     },
     "execution_count": 4,
     "metadata": {},
     "output_type": "execute_result"
    }
   ],
   "source": [
    "potencia(2,3)"
   ]
  },
  {
   "cell_type": "markdown",
   "id": "2c63104b",
   "metadata": {},
   "source": [
    "Documentando desta forma as funcións, pódese usa-la sentenza `help()` co nome da función para ver que documentación ten."
   ]
  },
  {
   "cell_type": "code",
   "execution_count": 5,
   "id": "b63b07d2",
   "metadata": {},
   "outputs": [
    {
     "name": "stdout",
     "output_type": "stream",
     "text": [
      "Help on function potencia in module __main__:\n",
      "\n",
      "potencia(base, exponente)\n",
      "    Función que calcula a potencia de dous números.\n",
      "    \n",
      "    Argumentos:\n",
      "        base ‐‐ base da operación.\n",
      "        exponente ‐‐ expoñente da operación.\n",
      "\n"
     ]
    }
   ],
   "source": [
    "help(potencia)"
   ]
  },
  {
   "cell_type": "markdown",
   "id": "4a4185da",
   "metadata": {},
   "source": [
    "Na guía de estilos oficial de Python (PEP8), hai varias regras e consellos para documentar correctamente o código usando os `docstring`: https://peps.python.org/pep-0008/"
   ]
  },
  {
   "cell_type": "markdown",
   "id": "63a35fc1",
   "metadata": {},
   "source": [
    "## Librarías estándar incluídas en Python\n",
    "Python conta con múltiples módulos que inclúen diferentes funcións que completan as básicas.\n",
    "Para utilizar estas funcións é necesario importar, ó principio do código, o módulo correspondente no que se atope a función desexada, usando a sentenza `import`.\n",
    "\n",
    "Hai unha chea de librarías (tamén chamadas módulos) dispoñibles para Python: https://docs.python.org/es/3/py-modindex.html\n"
   ]
  },
  {
   "cell_type": "markdown",
   "id": "5d8652d9",
   "metadata": {},
   "source": [
    "- Módulos da libraría estándar máis importantes. Python vén cunha biblioteca de módulos predefinidos que non necesitan instalarse; algúns dos máis utilizados son:\n",
    "\n",
    "  -  sys: Funcións e parámetros específicos do sistema operativo.\n",
    "  -  os: Interface co sistema operativo.\n",
    "  -  os.path: Funcións de acceso ás rutas do sistema.\n",
    "  -  io: Funcións para manexo de fluxos de datos e ficheiros.\n",
    "  -  string: Funcións con cadeas de caracteres.\n",
    "  -  datetime: Funcións para datas e tempos.\n",
    "  -  math: Funcións e constantes matemáticas.\n",
    "  -  statistics: Funcións estatísticas.\n",
    "  -  random: Xeración de números pseudo-aleatorios.\n",
    "\n",
    "- Outras librarías imprescindibles. Estas librarías non veñen na distribución estándar de Python e necesitan instalarse; tamén pode optarse pola distribución Anaconda que incorpora a maioría destas librarías.\n",
    "\n",
    "  -  NumPy: Funcións matemáticas avanzadas e arrays.\n",
    "  -  SciPy: Máis funcións matemáticas para aplicacións científicas.\n",
    "  -  matplotlib: Análise e representación gráfica de datos.\n",
    "  -  Pandas: Funcións para o manexo e análise de estruturas de datos.\n",
    "  -  Request: Acceso a internet por http.\n"
   ]
  },
  {
   "cell_type": "markdown",
   "id": "b9bcc5bd",
   "metadata": {},
   "source": [
    "### módulo math\n",
    "O módulo `math` é un **módulo matemático** que inclúe numerosas funcións matemáticas. \n",
    "\n",
    "Por suposto, para utilizar estas funcións é necesario importa-lo módulo `math` ó principio do código usando a ***sentenza `import`***"
   ]
  },
  {
   "cell_type": "markdown",
   "id": "ef11a63b",
   "metadata": {},
   "source": [
    "Se non se importase o módulo que contén a función, cando esta se invocase obteríase un erro de tipo *NameError*:\n",
    "\n",
    "`NameError: name 'math' is not defined`"
   ]
  },
  {
   "cell_type": "code",
   "execution_count": 107,
   "id": "e4f9efb5",
   "metadata": {},
   "outputs": [
    {
     "data": {
      "text/plain": [
       "145"
      ]
     },
     "execution_count": 107,
     "metadata": {},
     "output_type": "execute_result"
    }
   ],
   "source": [
    "math.trunc(145.173845) # devolve un errro se antes non se importou a libraría \"math\""
   ]
  },
  {
   "cell_type": "code",
   "execution_count": 108,
   "id": "3fd46ec5",
   "metadata": {},
   "outputs": [],
   "source": [
    "import math  # importa o módulo math"
   ]
  },
  {
   "cell_type": "markdown",
   "id": "ab4f1ed3",
   "metadata": {},
   "source": [
    "Ademais, o módulo math conta con dous valores constantes que nos poden ser de utilidade:"
   ]
  },
  {
   "cell_type": "markdown",
   "id": "dbf394c1",
   "metadata": {},
   "source": [
    "- O número **pi**: valor do número *pi*."
   ]
  },
  {
   "cell_type": "code",
   "execution_count": 109,
   "id": "95bfa9a4",
   "metadata": {},
   "outputs": [
    {
     "data": {
      "text/plain": [
       "3.141592653589793"
      ]
     },
     "execution_count": 109,
     "metadata": {},
     "output_type": "execute_result"
    }
   ],
   "source": [
    "math.pi # devolve 3.141592653589793"
   ]
  },
  {
   "cell_type": "markdown",
   "id": "fdcbb6c5",
   "metadata": {},
   "source": [
    "- O número **e**: valor do número *e*."
   ]
  },
  {
   "cell_type": "code",
   "execution_count": 110,
   "id": "a98da360",
   "metadata": {},
   "outputs": [
    {
     "data": {
      "text/plain": [
       "2.718281828459045"
      ]
     },
     "execution_count": 110,
     "metadata": {},
     "output_type": "execute_result"
    }
   ],
   "source": [
    "math.e # devolve 2.718281828459045"
   ]
  },
  {
   "cell_type": "markdown",
   "id": "8bd21dc2",
   "metadata": {},
   "source": [
    "As principias funcións deste módulo, agrupadas por tipos son as seguintes:\n",
    "\n",
    "- Funcións aritméticas\n",
    "Operacións aritméticas como calcula-los valores superiores ou inferiores dun número, cálculos factoriais ou o máximo común divisor.\n",
    "\n",
    "As funcións máis importantes son:"
   ]
  },
  {
   "cell_type": "markdown",
   "id": "ceffb1de",
   "metadata": {},
   "source": [
    "**trunc(n)**: devolve a parte enteira do número *n*."
   ]
  },
  {
   "cell_type": "code",
   "execution_count": 111,
   "id": "4e64cd78",
   "metadata": {},
   "outputs": [
    {
     "data": {
      "text/plain": [
       "9"
      ]
     },
     "execution_count": 111,
     "metadata": {},
     "output_type": "execute_result"
    }
   ],
   "source": [
    "math.trunc(09.987) # devolve 9"
   ]
  },
  {
   "cell_type": "markdown",
   "id": "ae9993ca",
   "metadata": {},
   "source": [
    "**fabs(n)**: devolve o valor absoluto, como número real (float), do valor *n*."
   ]
  },
  {
   "cell_type": "code",
   "execution_count": 112,
   "id": "c76421d2",
   "metadata": {},
   "outputs": [
    {
     "data": {
      "text/plain": [
       "1234.0"
      ]
     },
     "execution_count": 112,
     "metadata": {},
     "output_type": "execute_result"
    }
   ],
   "source": [
    "math.fabs(-1234) # devolve 1234.0"
   ]
  },
  {
   "cell_type": "code",
   "execution_count": 113,
   "id": "46566853",
   "metadata": {},
   "outputs": [
    {
     "data": {
      "text/plain": [
       "1234.567"
      ]
     },
     "execution_count": 113,
     "metadata": {},
     "output_type": "execute_result"
    }
   ],
   "source": [
    "math.fabs(-1234.567) # devolve 1234.567"
   ]
  },
  {
   "cell_type": "markdown",
   "id": "d427ed3e",
   "metadata": {},
   "source": [
    "**gcd(n1,n2)**: devolve o máximo común divisor de dous valores *n1* e *n2*."
   ]
  },
  {
   "cell_type": "code",
   "execution_count": 67,
   "id": "7fc8387d",
   "metadata": {},
   "outputs": [
    {
     "data": {
      "text/plain": [
       "8"
      ]
     },
     "execution_count": 67,
     "metadata": {},
     "output_type": "execute_result"
    }
   ],
   "source": [
    "math.gcd(56, 88) # devolve 8"
   ]
  },
  {
   "cell_type": "markdown",
   "id": "3b4eedb1",
   "metadata": {},
   "source": [
    "**floor(n)**: devolve o valor enteiro máis grande que sexa menor ou igual que *n*."
   ]
  },
  {
   "cell_type": "code",
   "execution_count": 68,
   "id": "cdb053c7",
   "metadata": {},
   "outputs": [
    {
     "data": {
      "text/plain": [
       "299"
      ]
     },
     "execution_count": 68,
     "metadata": {},
     "output_type": "execute_result"
    }
   ],
   "source": [
    "math.floor(299.989) # devolve 299"
   ]
  },
  {
   "cell_type": "markdown",
   "id": "db9b7966",
   "metadata": {},
   "source": [
    "**ceil(n)**: devolve o valor enteiro máis pequeno que sexa maior ou igual que *n*."
   ]
  },
  {
   "cell_type": "code",
   "execution_count": 69,
   "id": "7d077464",
   "metadata": {},
   "outputs": [
    {
     "data": {
      "text/plain": [
       "300"
      ]
     },
     "execution_count": 69,
     "metadata": {},
     "output_type": "execute_result"
    }
   ],
   "source": [
    "math.ceil(299.989) # devolve 300"
   ]
  },
  {
   "cell_type": "markdown",
   "id": "b30e6e95",
   "metadata": {},
   "source": [
    "**factorial(n)**: calcula o factorial do número *n*."
   ]
  },
  {
   "cell_type": "code",
   "execution_count": 70,
   "id": "3654a0c4",
   "metadata": {},
   "outputs": [
    {
     "data": {
      "text/plain": [
       "6"
      ]
     },
     "execution_count": 70,
     "metadata": {},
     "output_type": "execute_result"
    }
   ],
   "source": [
    "math.factorial(3) # devolve 6"
   ]
  },
  {
   "cell_type": "markdown",
   "id": "26eb01cd",
   "metadata": {},
   "source": [
    "- Funcións trigonométricas\n",
    "\n",
    "Permiten facer cálculos trigonométricos que relacionan os lados dos triángulos cos seus ángulos. En todas estas funcións hai que ter en conta que se traballa cos ángulos en radiáns.\n",
    "\n",
    "As funcións máis importantes son:"
   ]
  },
  {
   "cell_type": "markdown",
   "id": "f818f5ca",
   "metadata": {},
   "source": [
    "**sin(x)**: devolve o valor do seno do ángulo *x* en radiáns."
   ]
  },
  {
   "cell_type": "code",
   "execution_count": 72,
   "id": "28f8fecf",
   "metadata": {},
   "outputs": [
    {
     "data": {
      "text/plain": [
       "0.7071067811865475"
      ]
     },
     "execution_count": 72,
     "metadata": {},
     "output_type": "execute_result"
    }
   ],
   "source": [
    "math.sin(math.pi/4) # devolve 0.7071067811865475"
   ]
  },
  {
   "cell_type": "markdown",
   "id": "790e92a1",
   "metadata": {},
   "source": [
    "**cos(x)**: devolve o valor do coseno do ángulo x en radiáns."
   ]
  },
  {
   "cell_type": "code",
   "execution_count": 75,
   "id": "82521469",
   "metadata": {},
   "outputs": [
    {
     "data": {
      "text/plain": [
       "-1.0"
      ]
     },
     "execution_count": 75,
     "metadata": {},
     "output_type": "execute_result"
    }
   ],
   "source": [
    "math.cos(math.pi) # devolve ‐1.0"
   ]
  },
  {
   "cell_type": "markdown",
   "id": "67af6363",
   "metadata": {},
   "source": [
    "**tan(x)**: devolve o valor da tanxente do ángulo *x* en radiáns."
   ]
  },
  {
   "cell_type": "code",
   "execution_count": 82,
   "id": "184ad26f",
   "metadata": {},
   "outputs": [
    {
     "data": {
      "text/plain": [
       "1.633123935319537e+16"
      ]
     },
     "execution_count": 82,
     "metadata": {},
     "output_type": "execute_result"
    }
   ],
   "source": [
    "math.tan(math.pi/2) # devolve 1.633123935319537e+16"
   ]
  },
  {
   "cell_type": "markdown",
   "id": "d8907b20",
   "metadata": {},
   "source": [
    "**asin(x)**: calcula o valor do ángulo para que o seu seno sexa *x*."
   ]
  },
  {
   "cell_type": "code",
   "execution_count": 92,
   "id": "0ff616f2",
   "metadata": {},
   "outputs": [
    {
     "data": {
      "text/plain": [
       "0.0"
      ]
     },
     "execution_count": 92,
     "metadata": {},
     "output_type": "execute_result"
    }
   ],
   "source": [
    "math.asin(0) # devolve 0.0"
   ]
  },
  {
   "cell_type": "markdown",
   "id": "fae6e211",
   "metadata": {},
   "source": [
    "**acos(x)**: calcula o valor do ángulo para que o seu coseno sexa *x*."
   ]
  },
  {
   "cell_type": "code",
   "execution_count": 93,
   "id": "f766ffab",
   "metadata": {},
   "outputs": [
    {
     "data": {
      "text/plain": [
       "1.5707963267948966"
      ]
     },
     "execution_count": 93,
     "metadata": {},
     "output_type": "execute_result"
    }
   ],
   "source": [
    "math.acos(0) # devolve 1.5707963267948966"
   ]
  },
  {
   "cell_type": "markdown",
   "id": "42a462ac",
   "metadata": {},
   "source": [
    "**atan(x)**: calcula o valor do ángulo para que a súa tanxente sexa *x*."
   ]
  },
  {
   "cell_type": "code",
   "execution_count": 94,
   "id": "89e99940",
   "metadata": {},
   "outputs": [
    {
     "data": {
      "text/plain": [
       "0.7853981633974483"
      ]
     },
     "execution_count": 94,
     "metadata": {},
     "output_type": "execute_result"
    }
   ],
   "source": [
    "math.atan(1) # devolve 0.7853981633974483"
   ]
  },
  {
   "cell_type": "markdown",
   "id": "beace6bc",
   "metadata": {},
   "source": [
    "**hypot(x, e)**: calcula a lonxitude da hipotenusa dun triángulo rectángulo a partir dos valores dos dous catetos *(x, y)*. "
   ]
  },
  {
   "cell_type": "code",
   "execution_count": 95,
   "id": "a0e7f019",
   "metadata": {},
   "outputs": [
    {
     "data": {
      "text/plain": [
       "12.206555615733702"
      ]
     },
     "execution_count": 95,
     "metadata": {},
     "output_type": "execute_result"
    }
   ],
   "source": [
    "math.hypot(10, 7) # devolve 12.206555615733702"
   ]
  },
  {
   "cell_type": "markdown",
   "id": "17f85cdf",
   "metadata": {},
   "source": [
    "- Funcións exponenciais e logarítmicas\n",
    "\n",
    "Permiten facer cálculos sinxelos de valores exponenciais ou logarítmicos. \n",
    "\n",
    "As funcións máis importantes son:"
   ]
  },
  {
   "cell_type": "markdown",
   "id": "ea4d9cd5",
   "metadata": {},
   "source": [
    "**log(x,\\[base\\])**: permite calcula-lo logaritmo de *x*. Pódese especificar a base do algoritmo, aínda que este argumento non é obrigatorio e por defecto calcúlase sobre base *e*."
   ]
  },
  {
   "cell_type": "code",
   "execution_count": 96,
   "id": "c26990e7",
   "metadata": {},
   "outputs": [
    {
     "data": {
      "text/plain": [
       "5.0"
      ]
     },
     "execution_count": 96,
     "metadata": {},
     "output_type": "execute_result"
    }
   ],
   "source": [
    "math.log(148.41315910257657) # devolve 5.0"
   ]
  },
  {
   "cell_type": "code",
   "execution_count": 97,
   "id": "79792c33",
   "metadata": {},
   "outputs": [
    {
     "data": {
      "text/plain": [
       "7.213475204444817"
      ]
     },
     "execution_count": 97,
     "metadata": {},
     "output_type": "execute_result"
    }
   ],
   "source": [
    "math.log(148.41315910257657, 2) # devolve 7.213475204444817"
   ]
  },
  {
   "cell_type": "code",
   "execution_count": 114,
   "id": "3b1514a1",
   "metadata": {},
   "outputs": [
    {
     "data": {
      "text/plain": [
       "2.1714724095162588"
      ]
     },
     "execution_count": 114,
     "metadata": {},
     "output_type": "execute_result"
    }
   ],
   "source": [
    "math.log(148.41315910257657, 10) # devolve 2.1714724095162588"
   ]
  },
  {
   "cell_type": "markdown",
   "id": "6ecddc4f",
   "metadata": {},
   "source": [
    "**log2(x)**: permite calcula-lo logaritmo de *x* con base 2. Devolve un resultado máis preciso que usando a función `log(x, 2)`."
   ]
  },
  {
   "cell_type": "code",
   "execution_count": 118,
   "id": "d7fe1d2b",
   "metadata": {},
   "outputs": [
    {
     "data": {
      "text/plain": [
       "7.2134752044448165"
      ]
     },
     "execution_count": 118,
     "metadata": {},
     "output_type": "execute_result"
    }
   ],
   "source": [
    "math.log2(148.41315910257657) # devolve 7.2134752044448165"
   ]
  },
  {
   "cell_type": "markdown",
   "id": "0d07db49",
   "metadata": {},
   "source": [
    "**log10(x)**: permite calcula-lo logaritmo de *x* con base 10. Devolve un resultado máis preciso que usando a función `log(x, 10)`."
   ]
  },
  {
   "cell_type": "code",
   "execution_count": 120,
   "id": "01793436",
   "metadata": {},
   "outputs": [
    {
     "data": {
      "text/plain": [
       "2.171472409516259"
      ]
     },
     "execution_count": 120,
     "metadata": {},
     "output_type": "execute_result"
    }
   ],
   "source": [
    "math.log10(148.41315910257657) # devolve 2.171472409516259"
   ]
  },
  {
   "cell_type": "markdown",
   "id": "1d725c06",
   "metadata": {},
   "source": [
    "**pow(b, e)**: calcula o valor de *b* elevado á potencia *e*."
   ]
  },
  {
   "cell_type": "code",
   "execution_count": 123,
   "id": "5db20cb9",
   "metadata": {},
   "outputs": [
    {
     "data": {
      "text/plain": [
       "9.0"
      ]
     },
     "execution_count": 123,
     "metadata": {},
     "output_type": "execute_result"
    }
   ],
   "source": [
    "math.pow(3, 2) # devolve 9.0"
   ]
  },
  {
   "cell_type": "markdown",
   "id": "e9deec4b",
   "metadata": {},
   "source": [
    "**sqrt(x)**: calcula a raíz cadrada do valor *x*."
   ]
  },
  {
   "cell_type": "code",
   "execution_count": 124,
   "id": "f630c4cd",
   "metadata": {},
   "outputs": [
    {
     "data": {
      "text/plain": [
       "16.0"
      ]
     },
     "execution_count": 124,
     "metadata": {},
     "output_type": "execute_result"
    }
   ],
   "source": [
    "math.sqrt(256) # devolve 2.171472409516259 # devolve 16.0"
   ]
  },
  {
   "cell_type": "markdown",
   "id": "ebab1af5",
   "metadata": {},
   "source": [
    "### módulo sys\n",
    "O módulo `sys` proporciona variables e métodos relacionados directamente co intérprete de Python."
   ]
  },
  {
   "cell_type": "markdown",
   "id": "f148935e",
   "metadata": {},
   "source": [
    "Para poder utilizalos hai que carga-lo módulo no script dende o que se queiran utilizar con:\n",
    "`import sys`"
   ]
  },
  {
   "cell_type": "markdown",
   "id": "bee422d6",
   "metadata": {},
   "source": [
    "- Algunhas das **variables** máis destacadas deste módulo son as seguintes:\n",
    "\n",
    "**argv**: devolve unha lista con tódo-los argumentos que se pasaron por liña de comandos ó executa-lo script.\n",
    "\n",
    "**executable**: devolve a ruta absoluta do intérprete Python que executou o script que se invocou dende a liña de comandos.\n",
    "\n",
    "**version**: devolve a versión de Python do intérprete que se está a executar.\n",
    "\n",
    "**platform**: devolve a plataforma (sistema operativo) sobre a que se está a executa-lo intérprete de Python.\n",
    "\n",
    "**path**: devolve a ruta (os directorios) na que o intérprete de Python busca os módulos a usar.\n",
    "\n",
    "\n",
    "- E tamén conta con métodos como:\n",
    "**getdefaultenconding()**: devolve o sistema de codificación usado por defecto.\n",
    "\n",
    "**exit()**: remata a execución do intérprete de Python.\n",
    "\n",
    "sys.exit() # Cerrará el intérprete de Python\n",
    "\n",
    "Por exemplo, se executasemo-lo seguinte script na nosa consola de comandos:\n",
    "\n",
    "`import sys\n",
    "print('Este é un script de proba das variables e métodos do módulo sys')\n",
    "print(sys.argv)\n",
    "print(sys.executable)\n",
    "print(sys.version)\n",
    "print(sys.platform)\n",
    "print(sys.path)\n",
    "print(sys.getdefaultencoding())\n",
    "exit()`"
   ]
  },
  {
   "cell_type": "code",
   "execution_count": 3,
   "id": "a859d599",
   "metadata": {},
   "outputs": [
    {
     "name": "stdout",
     "output_type": "stream",
     "text": [
      "#!/usr/bin/python\r\n",
      "# -*- coding: utf-8 -*-\r\n",
      "# configurado que use o xogo de caracteres latino, con tiles, eñe, €,...\r\n",
      "# Módulo de proba test-sys.py\r\n",
      "\r\n",
      "import sys\r\n",
      "print('Este é un script de proba das variables e métodos do módulo sys', '\\n')\r\n",
      "\r\n",
      "\"\"\" Para que dende o propio script se poida obte-la información\r\n",
      "hai que lanza-lo script dende consola, por exemplo con:\r\n",
      "python ./test-sys.py Ola miña raiña x 365\r\n",
      "invocando ó script con varios parámetros de exemplo\"\"\"\r\n",
      "\r\n",
      "print('\\033[1m','sys.argv','\\033[0m','devolve a lista de argumentos que se pasaron por liña de comandos ó script: ')\r\n",
      "print(sys.argv,'\\n')\r\n",
      "\r\n",
      "print('\\033[1m','sys.executable','\\033[0m','devolve a ruta absoluta do intérprete python que executou o script invocado por liña de comandos: ')\r\n",
      "print(sys.executable,'\\n')\r\n",
      "\r\n",
      "print('\\033[1m','sys.version','\\033[0m','devolve a versión de Python do intérprete que se está a executar: ')\r\n",
      "print(sys.version,'\\n')\r\n",
      "\r\n",
      "print('\\033[1m','sys.platform','\\033[0m','devolve a plataforma (sistema operativo) sobre a que se está a executa-lo intérprete de Python: ')\r\n",
      "print(sys.platform,'\\n')\r\n",
      "\r\n",
      "print('\\033[1m','sys.executable','\\033[0m','devolve as rutas nas que o intérprete python busca os módulos dos que cargar funcións, variables,... a usar: ')\r\n",
      "print(sys.path,'\\n')\r\n",
      "\r\n",
      "print('\\033[1m','sys.getdefaultencoding()','\\033[0m','devolve o sistema de codificación usado por defecto: ')\r\n",
      "print(sys.getdefaultencoding(),'\\n')\r\n",
      "\r\n",
      "print('\\033[1m','exit()','\\033[0m','remata a execución do intérprete de comandos: ')\r\n",
      "exit()\r\n",
      "\r\n",
      "# Logo dun exit() xa non se executaría o restante código do script,\r\n",
      "# polo tanto o seguinte print() non se amosaría por pantalla\r\n",
      "print('adeus')\r\n",
      "\r\n",
      "def foo():\r\n",
      "   return('foo')\r\n",
      "\r\n",
      "def bar():\r\n",
      "   return('bar')\r\n"
     ]
    }
   ],
   "source": [
    "! cat ./codigo/04/test-sys.py"
   ]
  },
  {
   "cell_type": "code",
   "execution_count": 4,
   "id": "b613cfdc",
   "metadata": {},
   "outputs": [
    {
     "name": "stdout",
     "output_type": "stream",
     "text": [
      "Este é un script de proba das variables e métodos do módulo sys \r\n",
      "\r\n",
      "\u001b[1m sys.argv \u001b[0m devolve a lista de argumentos que se pasaron por liña de comandos ó script: \r\n",
      "['./codigo/04/test-sys.py', 'Ola', '365'] \r\n",
      "\r\n",
      "\u001b[1m sys.executable \u001b[0m devolve a ruta absoluta do intérprete python que executou o script invocado por liña de comandos: \r\n",
      "/home/ricardo/anaconda3/bin/python \r\n",
      "\r\n",
      "\u001b[1m sys.version \u001b[0m devolve a versión de Python do intérprete que se está a executar: \r\n",
      "3.9.12 (main, Apr  5 2022, 06:56:58) \r\n",
      "[GCC 7.5.0] \r\n",
      "\r\n",
      "\u001b[1m sys.platform \u001b[0m devolve a plataforma (sistema operativo) sobre a que se está a executa-lo intérprete de Python: \r\n",
      "linux \r\n",
      "\r\n",
      "\u001b[1m sys.executable \u001b[0m devolve as rutas nas que o intérprete python busca os módulos dos que cargar funcións, variables,... a usar: \r\n",
      "['/home/ricardo/MEGA/MEGAsync/repositoriogithub/bigdata/python_fundamentos/codigo/04', '/home/ricardo/anaconda3/lib/python39.zip', '/home/ricardo/anaconda3/lib/python3.9', '/home/ricardo/anaconda3/lib/python3.9/lib-dynload', '/home/ricardo/anaconda3/lib/python3.9/site-packages'] \r\n",
      "\r\n",
      "\u001b[1m sys.getdefaultencoding() \u001b[0m devolve o sistema de codificación usado por defecto: \r\n",
      "utf-8 \r\n",
      "\r\n",
      "\u001b[1m exit() \u001b[0m remata a execución do intérprete de comandos: \r\n"
     ]
    }
   ],
   "source": [
    "! python ./codigo/04/test-sys.py Ola 365"
   ]
  },
  {
   "cell_type": "markdown",
   "id": "694765ee",
   "metadata": {},
   "source": [
    "Para que dende o propio script se poida obter cales foron os argumentos que se lle pasaron ó invoca-lo script úsase o método `argv`:"
   ]
  },
  {
   "cell_type": "markdown",
   "id": "5c520313",
   "metadata": {},
   "source": [
    "### módulo os\n",
    "O módulo `os` proporciona acceso a variables e funcións que interactúan directamente co sistema operativo"
   ]
  },
  {
   "cell_type": "markdown",
   "id": "765f77e5",
   "metadata": {},
   "source": [
    "Para poder utilizalos hai que carga-lo módulo con:\n",
    "`import os`"
   ]
  },
  {
   "cell_type": "code",
   "execution_count": 17,
   "id": "d6f5589e",
   "metadata": {},
   "outputs": [],
   "source": [
    "import os  # importa o módulo os"
   ]
  },
  {
   "cell_type": "markdown",
   "id": "eb958183",
   "metadata": {},
   "source": [
    "**getcwd()** : devolve a ruta do directorio no que nos atopamos."
   ]
  },
  {
   "cell_type": "code",
   "execution_count": 18,
   "id": "25b8aa28",
   "metadata": {},
   "outputs": [
    {
     "data": {
      "text/plain": [
       "'/home/ricardo/repos-github/curso_bigdata/python_fundamentos'"
      ]
     },
     "execution_count": 18,
     "metadata": {},
     "output_type": "execute_result"
    }
   ],
   "source": [
    "os.getcwd() # devolve /home/conta-de-usuario-a/cartafolprobas (por exemplo)"
   ]
  },
  {
   "cell_type": "markdown",
   "id": "8ef59c6c",
   "metadata": {},
   "source": [
    "**mkdir(path)**: crea un novo directorio no roteiro que se especificou no argumento."
   ]
  },
  {
   "cell_type": "code",
   "execution_count": 24,
   "id": "32f7e8c2",
   "metadata": {},
   "outputs": [
    {
     "name": "stdout",
     "output_type": "stream",
     "text": [
      " 01_sintaxe_e_tipos_datos_basicos_de_python.ipynb   imaxes\r\n",
      " 02_estruturas_de_datos.ipynb\t\t\t   'Markdown Cheat Sheet.ipynb'\r\n",
      " 03_sentenzas_condicionais_e_iterativas.ipynb\t    markdown-cheat-sheet.md\r\n",
      " 04_funcions.ipynb\t\t\t\t    novocartafol\r\n",
      " codigo\t\t\t\t\t\t    __pycache__\r\n"
     ]
    }
   ],
   "source": [
    "os.mkdir('./novocartafol') # crea un cartafol no directorio activo\n",
    "! ls"
   ]
  },
  {
   "cell_type": "markdown",
   "id": "3c10f1f8",
   "metadata": {},
   "source": [
    "**rmdir(path)**: elimina o directorio da ruta que se especificou no argumento."
   ]
  },
  {
   "cell_type": "code",
   "execution_count": 32,
   "id": "c73ba732",
   "metadata": {},
   "outputs": [
    {
     "ename": "OSError",
     "evalue": "[Errno 39] Directory not empty: './novocartafol'",
     "output_type": "error",
     "traceback": [
      "\u001b[0;31m---------------------------------------------------------------------------\u001b[0m",
      "\u001b[0;31mOSError\u001b[0m                                   Traceback (most recent call last)",
      "Input \u001b[0;32mIn [32]\u001b[0m, in \u001b[0;36m<cell line: 1>\u001b[0;34m()\u001b[0m\n\u001b[0;32m----> 1\u001b[0m \u001b[43mos\u001b[49m\u001b[38;5;241;43m.\u001b[39;49m\u001b[43mrmdir\u001b[49m\u001b[43m(\u001b[49m\u001b[38;5;124;43m'\u001b[39;49m\u001b[38;5;124;43m./novocartafol\u001b[39;49m\u001b[38;5;124;43m'\u001b[39;49m\u001b[43m)\u001b[49m \u001b[38;5;66;03m# elimina o cartafol ./novocartafol\u001b[39;00m\n\u001b[1;32m      2\u001b[0m get_ipython()\u001b[38;5;241m.\u001b[39msystem(\u001b[38;5;124m'\u001b[39m\u001b[38;5;124m ls\u001b[39m\u001b[38;5;124m'\u001b[39m)\n",
      "\u001b[0;31mOSError\u001b[0m: [Errno 39] Directory not empty: './novocartafol'"
     ]
    }
   ],
   "source": [
    "os.rmdir('./novocartafol') # elimina o cartafol ./novocartafol\n",
    "! ls"
   ]
  },
  {
   "cell_type": "markdown",
   "id": "078a4580",
   "metadata": {},
   "source": [
    "**remove(path)**: elimina o ficheiro da ruta que se especificou no argumento."
   ]
  },
  {
   "cell_type": "code",
   "execution_count": 43,
   "id": "16f1845e",
   "metadata": {},
   "outputs": [
    {
     "name": "stdout",
     "output_type": "stream",
     "text": [
      " 01_sintaxe_e_tipos_datos_basicos_de_python.ipynb   imaxes\n",
      " 02_estruturas_de_datos.ipynb\t\t\t   'Markdown Cheat Sheet.ipynb'\n",
      " 03_sentenzas_condicionais_e_iterativas.ipynb\t    markdown-cheat-sheet.md\n",
      " 04_funcions.ipynb\t\t\t\t    novocartafol\n",
      " codigo\t\t\t\t\t\t    __pycache__\n",
      "--- o cartafol está creado ---\n",
      "ficheiro2.txt  ficheiro.txt\n",
      "--- os ficheiros están creados ---\n",
      "--- un dos ficheiros está eliminado ---\n",
      "ficheiro2.txt\n"
     ]
    }
   ],
   "source": [
    "os.mkdir('./novocartafol') # crea un cartafol no directorio activo\n",
    "! ls\n",
    "print('--- o cartafol está creado ---')\n",
    "! touch ./novocartafol/ficheiro.txt\n",
    "! touch ./novocartafol/ficheiro2.txt\n",
    "! ls ./novocartafol\n",
    "print('--- os ficheiros están creados ---')\n",
    "os.remove('./novocartafol/ficheiro.txt') # elimina o arquivo /novocartafol/ficheiro.txt\n",
    "! ls ./novocartafol\n",
    "print('--- un dos ficheiros está eliminado ---')"
   ]
  },
  {
   "cell_type": "markdown",
   "id": "82279cc0",
   "metadata": {},
   "source": [
    "**rename(nome1, nome2)**: renomea o ficheiro con nome *nome1* por *nome2*."
   ]
  },
  {
   "cell_type": "code",
   "execution_count": 44,
   "id": "6b67e710",
   "metadata": {},
   "outputs": [
    {
     "name": "stdout",
     "output_type": "stream",
     "text": [
      "ficheiro2.txt\n",
      "--- o ficheiros está co seu nome orixinal ---\n"
     ]
    }
   ],
   "source": [
    "! ls ./novocartafol\n",
    "print('--- o ficheiros está co seu nome orixinal ---')"
   ]
  },
  {
   "cell_type": "code",
   "execution_count": 45,
   "id": "35fe30cc",
   "metadata": {},
   "outputs": [],
   "source": [
    "os.rename('./novocartafol/ficheiro2.txt', './novocartafol/ficheirorenomeado.txt') # modificará o nome de ficheiro2.txt por ficheirorenomeado.txt\n",
    "! ls ./novocartafol\n",
    "print('--- o ficheiro está renomeado ---')"
   ]
  },
  {
   "cell_type": "markdown",
   "id": "bb6a9a80",
   "metadata": {},
   "source": [
    "O módulo `os` inclúe outro módulo chamado `path` que permite acceder a métodos asociados ós nomes dos ficheiros e as súas rutas. Para usalo hai que importa-lo módulo `os.path` con `import os.path`."
   ]
  },
  {
   "cell_type": "code",
   "execution_count": 50,
   "id": "d2b48591",
   "metadata": {},
   "outputs": [],
   "source": [
    "import os.path  # importa o módulo os.path"
   ]
  },
  {
   "cell_type": "markdown",
   "id": "c243c7ca",
   "metadata": {},
   "source": [
    "Os métodos máis importantes son:\n",
    "\n",
    "**abspath(ruta)**: devolve a ruta absoluta dunha ruta calquera que se lle pase como parámetro (non ten porqué existir)."
   ]
  },
  {
   "cell_type": "code",
   "execution_count": 61,
   "id": "605b54a3",
   "metadata": {},
   "outputs": [
    {
     "data": {
      "text/plain": [
       "'/home/ricardo/repos-github/curso_bigdata/python_fundamentos/ficheiroinventado.txt'"
      ]
     },
     "execution_count": 61,
     "metadata": {},
     "output_type": "execute_result"
    }
   ],
   "source": [
    "os.path.abspath('./ficheiroinventado.txt') # devolve a ruta absoluta ata, neste caso ./ (o directorio activo)"
   ]
  },
  {
   "cell_type": "markdown",
   "id": "ca84cd30",
   "metadata": {},
   "source": [
    "E iso que nin sequera existe o ficheiro *ficheiroinventado.txt*!!!"
   ]
  },
  {
   "cell_type": "code",
   "execution_count": 62,
   "id": "98b117f5",
   "metadata": {},
   "outputs": [
    {
     "name": "stdout",
     "output_type": "stream",
     "text": [
      "/home/ricardo/repos-github/curso_bigdata/python_fundamentos\n",
      " 01_sintaxe_e_tipos_datos_basicos_de_python.ipynb   imaxes\n",
      " 02_estruturas_de_datos.ipynb\t\t\t   'Markdown Cheat Sheet.ipynb'\n",
      " 03_sentenzas_condicionais_e_iterativas.ipynb\t    markdown-cheat-sheet.md\n",
      " 04_funcions.ipynb\t\t\t\t    novocartafol\n",
      " codigo\t\t\t\t\t\t    __pycache__\n"
     ]
    }
   ],
   "source": [
    "! pwd\n",
    "! ls ./"
   ]
  },
  {
   "cell_type": "markdown",
   "id": "8a82b6df",
   "metadata": {},
   "source": [
    "**basename(ruta)**: devolve o último compoñente da ruta que se pasa por parámetro."
   ]
  },
  {
   "cell_type": "code",
   "execution_count": 64,
   "id": "1231e928",
   "metadata": {},
   "outputs": [
    {
     "data": {
      "text/plain": [
       "'ficheiro.txt'"
      ]
     },
     "execution_count": 64,
     "metadata": {},
     "output_type": "execute_result"
    }
   ],
   "source": [
    "os.path.basename('./novocartafol/ficheiro.txt') # devolve ficheiro.txt"
   ]
  },
  {
   "cell_type": "markdown",
   "id": "00074673",
   "metadata": {},
   "source": [
    "**exists(ruta)**: comproba se un directorio existe na ruta especificada."
   ]
  },
  {
   "cell_type": "code",
   "execution_count": 65,
   "id": "e4c9b412",
   "metadata": {},
   "outputs": [
    {
     "data": {
      "text/plain": [
       "False"
      ]
     },
     "execution_count": 65,
     "metadata": {},
     "output_type": "execute_result"
    }
   ],
   "source": [
    "os.path.exists('./novocartafol/ficheiro.txt') # devolve True se existe"
   ]
  },
  {
   "cell_type": "markdown",
   "id": "074ae271",
   "metadata": {},
   "source": [
    "**isfile(ruta)**: comproba se a ruta especificada corresponde a un ficheiro."
   ]
  },
  {
   "cell_type": "code",
   "execution_count": 66,
   "id": "ad0435d2",
   "metadata": {},
   "outputs": [
    {
     "data": {
      "text/plain": [
       "True"
      ]
     },
     "execution_count": 66,
     "metadata": {},
     "output_type": "execute_result"
    }
   ],
   "source": [
    "os.path.isfile('./novocartafol/ficheirorenomeado.txt') # devolve True se existe o ficheiro"
   ]
  },
  {
   "cell_type": "markdown",
   "id": "022893b9",
   "metadata": {},
   "source": [
    "**isdir(ruta)**: comproba se a ruta especificada corresponde a un directorio."
   ]
  },
  {
   "cell_type": "code",
   "execution_count": 68,
   "id": "ab65a220",
   "metadata": {},
   "outputs": [
    {
     "data": {
      "text/plain": [
       "True"
      ]
     },
     "execution_count": 68,
     "metadata": {},
     "output_type": "execute_result"
    }
   ],
   "source": [
    "os.path.isdir('./novocartafol') # devolve True se existe o cartafol"
   ]
  },
  {
   "cell_type": "markdown",
   "id": "a7de5396",
   "metadata": {},
   "source": [
    "---"
   ]
  },
  {
   "cell_type": "code",
   "execution_count": 75,
   "id": "63eddae7",
   "metadata": {},
   "outputs": [
    {
     "name": "stdout",
     "output_type": "stream",
     "text": [
      "--- elimínase o ficheiro das probas ---\n",
      "--- o ficheiro está eliminado ---\n",
      "--- elimínase o cartafol das probas ---\n",
      "ls: non se pode acceder a \"'./novocartafol'\": Non hai tal ficheiro ou directorio\n",
      "--- o cartafol está eliminado ---\n"
     ]
    }
   ],
   "source": [
    "print('--- elimínase o ficheiro das probas ---')\n",
    "os.remove('./novocartafol/ficheirorenomeado.txt') # elimina o arquivo ./novocartafol/ficheirorenomeado.txt\n",
    "! ls ./novocartafol\n",
    "print('--- o ficheiro está eliminado ---')\n",
    "print('--- elimínase o cartafol das probas ---')\n",
    "os.rmdir('./novocartafol') # elimina o cartafol ./novocartafol\n",
    "! ls ./novocartafol\n",
    "print('--- o cartafol está eliminado ---')\n",
    "! ls"
   ]
  },
  {
   "cell_type": "markdown",
   "id": "da93f3f5",
   "metadata": {},
   "source": [
    "Localización do cartafol activo e do script usado para as probas:"
   ]
  },
  {
   "cell_type": "code",
   "execution_count": 21,
   "id": "038f7743",
   "metadata": {},
   "outputs": [
    {
     "name": "stdout",
     "output_type": "stream",
     "text": [
      "/home/ricardo/repos-github/curso_bigdata/python_fundamentos\r\n",
      "test-sys.py\r\n"
     ]
    }
   ],
   "source": [
    "! pwd; ls ./codigo/04"
   ]
  },
  {
   "cell_type": "markdown",
   "id": "34a0ebc7",
   "metadata": {},
   "source": [
    "---"
   ]
  },
  {
   "cell_type": "markdown",
   "id": "b3e20f9a",
   "metadata": {},
   "source": [
    "### Módulo random\n",
    "Este módulo proporciona métodos para obter valores aleatorios; entre os métodos destacables atópanse os seguintes:\n",
    "**randint(x, y)**: devolve un número aleatorio entre *x* e *y*."
   ]
  },
  {
   "cell_type": "markdown",
   "id": "e4e74e73",
   "metadata": {},
   "source": [
    "Para poder utilizalos hai que carga-lo módulo con: `import random`"
   ]
  },
  {
   "cell_type": "code",
   "execution_count": 71,
   "id": "647f020f",
   "metadata": {},
   "outputs": [],
   "source": [
    "import random  # importa o módulo random"
   ]
  },
  {
   "cell_type": "code",
   "execution_count": 74,
   "id": "447c9fb6",
   "metadata": {},
   "outputs": [
    {
     "data": {
      "text/plain": [
       "10"
      ]
     },
     "execution_count": 74,
     "metadata": {},
     "output_type": "execute_result"
    }
   ],
   "source": [
    "random.randint(1,10) # devolve un número ó chou, por exemplo, 4"
   ]
  },
  {
   "cell_type": "markdown",
   "id": "4cd41ea4",
   "metadata": {},
   "source": [
    "**choice(secuencia)**: devolve un dato aleatorio dos datos da secuencia."
   ]
  },
  {
   "cell_type": "code",
   "execution_count": 78,
   "id": "386e2515",
   "metadata": {},
   "outputs": [
    {
     "data": {
      "text/plain": [
       "False"
      ]
     },
     "execution_count": 78,
     "metadata": {},
     "output_type": "execute_result"
    }
   ],
   "source": [
    "random.choice([\"Ola\", False, 365, ['Brais','Manolo','Uxía', 'Xonxa']]) # devolve un elemento ó chou, por exemplo, False"
   ]
  },
  {
   "cell_type": "markdown",
   "id": "86df1ba8",
   "metadata": {},
   "source": [
    "**shuffle(secuencia)** permuta os elementos dunha secuencia de forma aleatoria."
   ]
  },
  {
   "cell_type": "code",
   "execution_count": 79,
   "id": "09781ded",
   "metadata": {},
   "outputs": [
    {
     "data": {
      "text/plain": [
       "[365, 'Ola', False, ['Brais', 'Manolo', 'Uxía', 'Xonxa']]"
      ]
     },
     "execution_count": 79,
     "metadata": {},
     "output_type": "execute_result"
    }
   ],
   "source": [
    "lista = [\"Ola\", False, 365, ['Brais','Manolo','Uxía', 'Xonxa']]\n",
    "random.shuffle(lista)\n",
    "lista # amosa, por exemplo, [365, 'Ola', False, ['Brais', 'Manolo', 'Uxía', 'Xonxa']]"
   ]
  },
  {
   "cell_type": "markdown",
   "id": "124071bc",
   "metadata": {},
   "source": [
    "**sample(secuencia, n)**: devolve n elementos aleatorios dunha secuencia."
   ]
  },
  {
   "cell_type": "code",
   "execution_count": 81,
   "id": "4b96b7ce",
   "metadata": {},
   "outputs": [
    {
     "data": {
      "text/plain": [
       "[False, ['Brais', 'Manolo', 'Uxía', 'Xonxa']]"
      ]
     },
     "execution_count": 81,
     "metadata": {},
     "output_type": "execute_result"
    }
   ],
   "source": [
    "lista = [365, 'Ola', False, ['Brais', 'Manolo', 'Uxía', 'Xonxa']]\n",
    "random.sample(lista, 2) # devolve, por exemplo, [False, ['Brais', 'Manolo', 'Uxía', 'Xonxa']]"
   ]
  },
  {
   "cell_type": "markdown",
   "id": "1c63b618",
   "metadata": {},
   "source": [
    "## Funcións anónimas\n",
    "As funcións anónimas son funcións ás que non lles asignamos un identificador para executalas. É dicir, non usaremo-la cabeceira `def nome_función` para definilas. \n",
    "\n",
    "O obxectivo destas funcións é o mesmo que o das funcións normais, coa diferenza de que **estas funcións só teñen unha única expresión, non poden incluír un bloque de código**.\n",
    "\n",
    "Para implementa-las funcións anónimas en Python, usaremo-las ***expresións lambda***. Estas expresións son moi potentes, aínda que algo confusas, sobre todo cando se empezan a utilizar."
   ]
  },
  {
   "cell_type": "markdown",
   "id": "6b08c93a",
   "metadata": {},
   "source": [
    "### Expresións lambda\n",
    "\n",
    "Para explicar unha función lambda usaremos un exemplo; imaxinando unha función normal que recibe un número e devolve o seu valor ó cadrado:\n",
    "`def cadrado(x):\n",
    "    resultado = x ** 2\n",
    "    return resultado`\n",
    "\n",
    "Ó executa esta función devolverá o cadrado do número que se lle introduza:\n",
    "`cadrado(4) # devolve 16`"
   ]
  },
  {
   "cell_type": "code",
   "execution_count": 2,
   "id": "deba22f1",
   "metadata": {},
   "outputs": [
    {
     "data": {
      "text/plain": [
       "16"
      ]
     },
     "execution_count": 2,
     "metadata": {},
     "output_type": "execute_result"
    }
   ],
   "source": [
    "def cadrado(x):\n",
    "    resultado = x ** 2\n",
    "    return(resultado)\n",
    "\n",
    "cadrado(4) # devolve 16"
   ]
  },
  {
   "cell_type": "markdown",
   "id": "e998e839",
   "metadata": {},
   "source": [
    "Para converter unha función normal como esta nunha función anónima, hai que reducila a unha única expresión. Neste exemplo, a expresión que calcula o cadrado é `x ** 2`. \n",
    "Con esta expresión poderiamos converte-la función nunha expresión lambda. Para iso seguimos este esquema:\n",
    "\n",
    "`lambda parámetro_1, parámetro_2: expresión`\n",
    "\n",
    "En primeiro lugar, utilizamos a palabra reservada `lambda` seguida dos *parámetros que terá a función, todos eles separados por comas*. \n",
    "\n",
    "A continuación, póñense dous puntos `:` e a expresión que queremos avaliar. \n",
    "\n",
    "Para o exemplo de calcula lo cadrado dun número, a expresión lambda sería a seguinte:\n",
    "`lambda x: x ** 2`\n",
    "\n",
    "Esta expresión devólvenos un obxecto `function`, que se pode asignar a unha variable e utilizalo máis adiante:\n",
    "\n",
    "`cadrado = lambda x: x ** 2`\n",
    "\n",
    "`cadrado(4) # devolve 16`"
   ]
  },
  {
   "cell_type": "code",
   "execution_count": 7,
   "id": "98122e33",
   "metadata": {},
   "outputs": [
    {
     "name": "stdout",
     "output_type": "stream",
     "text": [
      "<class 'function'>\n",
      "<class 'function'>\n"
     ]
    },
    {
     "data": {
      "text/plain": [
       "16"
      ]
     },
     "execution_count": 7,
     "metadata": {},
     "output_type": "execute_result"
    }
   ],
   "source": [
    "print(type(lambda x: x ** 2))\n",
    "cadrado = lambda x: x ** 2\n",
    "\n",
    "print(type(cadrado)) # devolve o tipo da variable que é unha function\n",
    "\n",
    "cadrado(4) # devolve 16"
   ]
  },
  {
   "cell_type": "markdown",
   "id": "cb8e39da",
   "metadata": {},
   "source": [
    "A principal vantaxe de utilizar este tipo de funcións é combinándoo coas funcións `filter()` ou `map()`. "
   ]
  },
  {
   "cell_type": "markdown",
   "id": "e7f931f8",
   "metadata": {},
   "source": [
    "### Función filter\n",
    "A función `filter()` permítenos que filtremos elementos dunha secuencia se cumpren unha condición. Esta función debe recibir dous argumentos, o primeiro deles, unha función *de decisión* dun só parámetro que devolva o valor `True` ou `False`, e o segundo, un único obxecto de tipo secuencia (`list`, `tuple`, ou `set`):\n",
    "\n",
    "`filter(function, iterable)`\n",
    "\n",
    "Como exemplo usaremo-la función `filter` para busca-los números pares dunha lista:"
   ]
  },
  {
   "cell_type": "code",
   "execution_count": 8,
   "id": "95906ab9",
   "metadata": {},
   "outputs": [
    {
     "data": {
      "text/plain": [
       "[2, 4, 6, 8, 10]"
      ]
     },
     "execution_count": 8,
     "metadata": {},
     "output_type": "execute_result"
    }
   ],
   "source": [
    "# Definimo-la lista cos números que imos analizar.\n",
    "lista = [1,2,3,4,5,6,7,8,9,10]\n",
    "# Definimo-la expresión lambda que analiza se un número é par ou non.\n",
    "é_par = lambda numero: numero % 2 == 0\n",
    "# Aplicamo-lo filtro para obte-los números pares. \n",
    "# Temos que inserilo nunha lista para te-lo resultado en formato lista.\n",
    "list(filter(é_par, lista)) # devolve [2, 4, 6, 8, 10]"
   ]
  },
  {
   "cell_type": "code",
   "execution_count": 15,
   "id": "0375a2af",
   "metadata": {},
   "outputs": [
    {
     "data": {
      "text/plain": [
       "[1, 2, 3, 4, 5, 6, 7, 8, 9, 10]"
      ]
     },
     "execution_count": 15,
     "metadata": {},
     "output_type": "execute_result"
    }
   ],
   "source": [
    " # Tamén pódese usar directamente a función lambda\n",
    " # e garda-los resultados do filtrado nunha lista\n",
    "numeros_positivos = filter(lambda n: n > 0, [-10,-9,-8,-7,-6,-5,-3,-2,-1,0,1,2,3,4,5,6,7,8,9,10])\n",
    "list(numeros_positivos) # devolve [1, 2, 3, 4, 5, 6, 7, 8, 9, 10]"
   ]
  },
  {
   "cell_type": "markdown",
   "id": "0134e47a",
   "metadata": {},
   "source": [
    "### Función map\n",
    "A función `map()` permite transformar cada elemento que se lle pase, aplicando unha función a tódo-los elementos dunha secuencia; ten como argumentos da función `map()`, en primeiro lugar, a función que queremos aplicar e, logo, o obxecto cos elementos ós que se lles quere aplica-la función. \n",
    "\n",
    "`map(function, iterable[, iterable1, ..., iterableN])`\n",
    "\n",
    "\n",
    "Como exemplo, usaremo-la función `map` para aplica-la función cadrado a unha lista:"
   ]
  },
  {
   "cell_type": "code",
   "execution_count": 17,
   "id": "982d4369",
   "metadata": {},
   "outputs": [
    {
     "data": {
      "text/plain": [
       "[1, 4, 9, 16, 25, 36, 49, 64, 81, 100]"
      ]
     },
     "execution_count": 17,
     "metadata": {},
     "output_type": "execute_result"
    }
   ],
   "source": [
    "# Definimo-la lista cos números que imos analizar.\n",
    "lista = [1,2,3,4,5,6,7,8,9,10]\n",
    "# Aplicamo-lo filtro para obte-los números pares. Temos que inserilo nunha lista para te-lo resultado en formato lista.\n",
    "list(map(cadrado, lista)) # Devolveranos [1, 4, 9, 16, 25, 36, 49, 64, 81, 100]"
   ]
  }
 ],
 "metadata": {
  "kernelspec": {
   "display_name": "Python 3 (ipykernel)",
   "language": "python",
   "name": "python3"
  },
  "language_info": {
   "codemirror_mode": {
    "name": "ipython",
    "version": 3
   },
   "file_extension": ".py",
   "mimetype": "text/x-python",
   "name": "python",
   "nbconvert_exporter": "python",
   "pygments_lexer": "ipython3",
   "version": "3.9.13"
  }
 },
 "nbformat": 4,
 "nbformat_minor": 5
}
