{
 "cells": [
  {
   "cell_type": "markdown",
   "id": "7ccfb399",
   "metadata": {},
   "source": [
    "# Sintaxe\n"
   ]
  },
  {
   "cell_type": "markdown",
   "id": "020b712f",
   "metadata": {},
   "source": [
    "Documentación oficial de Python en: https://www.python.org/doc/\n",
    "\n",
    "Pero, antes de nada, un saúdo... Ola Mundo!"
   ]
  },
  {
   "cell_type": "code",
   "execution_count": 3,
   "id": "1274dbae",
   "metadata": {},
   "outputs": [
    {
     "name": "stdout",
     "output_type": "stream",
     "text": [
      "Ola Mundo!\n"
     ]
    }
   ],
   "source": [
    "# para imprimir por pantalla unha cadea de texto úsase a función print()\n",
    "print('Ola Mundo!')"
   ]
  },
  {
   "cell_type": "markdown",
   "id": "edbc9209",
   "metadata": {},
   "source": [
    "## Identificadores\n",
    "\n",
    "Os identificadores son nomes que asignaremos a elementos, como funcións, variables, etc., para facerlles referencia máis adiante no código. \n",
    "Os identificadores seguen as seguintes regras:\n",
    "- Poden ser unha combinación de números (0-9), letras maiúsculas (A-Z), letras minúsculas (a-z) e o símbolo de guion baixo (_).\n",
    "- Non poden comezar por un díxito.\n",
    "- Non poden utilizarse símbolos especiais: @, !, #, etc.\n",
    "- Poden ter calquera lonxitude.\n",
    "\n",
    "Python distingue as maiúsculas das minúsculas, polo tanto, se tivesemos os identificadores identificador e IDENTIFICADOR, Python consideraríaos identificadores diferentes"
   ]
  },
  {
   "cell_type": "code",
   "execution_count": 12,
   "id": "8309c320",
   "metadata": {},
   "outputs": [
    {
     "name": "stdout",
     "output_type": "stream",
     "text": [
      "variable:  1\n",
      "outra_variable:  Otra\n",
      "_maisvariables:  [1, 3, 4]\n",
      "Variable_2:  True\n"
     ]
    }
   ],
   "source": [
    "# Identificadores correctos\n",
    "variable = 1\n",
    "print(\"variable: \", variable)\n",
    "outra_variable = 'Otra'\n",
    "print(\"outra_variable: \", outra_variable)\n",
    "_mais_variables = [1, 3, 4]\n",
    "print(\"_maisvariables: \", _mais_variables)\n",
    "Variable_2 = True\n",
    "print(\"Variable_2: \", Variable_2)"
   ]
  },
  {
   "cell_type": "code",
   "execution_count": 8,
   "id": "28614542",
   "metadata": {},
   "outputs": [
    {
     "ename": "SyntaxError",
     "evalue": "invalid decimal literal (1295555892.py, line 2)",
     "output_type": "error",
     "traceback": [
      "\u001b[0;36m  Input \u001b[0;32mIn [8]\u001b[0;36m\u001b[0m\n\u001b[0;31m    1_variable = 'Está mal'\u001b[0m\n\u001b[0m     ^\u001b[0m\n\u001b[0;31mSyntaxError\u001b[0m\u001b[0;31m:\u001b[0m invalid decimal literal\n"
     ]
    }
   ],
   "source": [
    "# Identificadores incorrectos\n",
    "1_variable = 'Está mal'"
   ]
  },
  {
   "cell_type": "code",
   "execution_count": 9,
   "id": "52ebe3a6",
   "metadata": {},
   "outputs": [
    {
     "ename": "SyntaxError",
     "evalue": "cannot assign to operator (948236249.py, line 1)",
     "output_type": "error",
     "traceback": [
      "\u001b[0;36m  Input \u001b[0;32mIn [9]\u001b[0;36m\u001b[0m\n\u001b[0;31m    variable-s = 12\u001b[0m\n\u001b[0m    ^\u001b[0m\n\u001b[0;31mSyntaxError\u001b[0m\u001b[0;31m:\u001b[0m cannot assign to operator\n"
     ]
    }
   ],
   "source": [
    "variable-s = 12"
   ]
  },
  {
   "cell_type": "markdown",
   "id": "c422887d",
   "metadata": {},
   "source": [
    "## Palabras reservadas\n",
    "Python, como todas as linguaxes de programación, ten un conxunto de palabras reservadas que non se poden utilizar como identificadores. Esta lista de palabras reservadas é a seguinte:\n",
    "and, assert, break, class, continue, def, del, elif, else, except, exec, finally, for, from, global, if, import, in, is, lambda, not, or, pass, print, raise, return, try, while, with, yield\n"
   ]
  },
  {
   "cell_type": "code",
   "execution_count": 1,
   "id": "69e5c8e4",
   "metadata": {},
   "outputs": [
    {
     "name": "stdout",
     "output_type": "stream",
     "text": [
      "\n",
      "Here is a list of the Python keywords.  Enter any keyword to get more help.\n",
      "\n",
      "False               break               for                 not\n",
      "None                class               from                or\n",
      "True                continue            global              pass\n",
      "__peg_parser__      def                 if                  raise\n",
      "and                 del                 import              return\n",
      "as                  elif                in                  try\n",
      "assert              else                is                  while\n",
      "async               except              lambda              with\n",
      "await               finally             nonlocal            yield\n",
      "\n"
     ]
    }
   ],
   "source": [
    "help(\"keywords\")"
   ]
  },
  {
   "cell_type": "markdown",
   "id": "e3a36c33",
   "metadata": {},
   "source": [
    "## Comentarios\n",
    "\n",
    "Os comentarios son partes do código que o intérprete de Python non executa usados para escribir aclaracións no código.\n",
    "En Python hai dúas sintaxe diferente para escribi-los comentarios:\n",
    "- Comentarios de liña: para aqueles comentarios que só ocupen unha liña utilízase o símbolo `#` ó principio da mesma.\n",
    "- Comentarios de bloque: para os comentarios que ocupen máis dunha liña utilízanse  triplas comiñas (simples ou dobres) ó principio e ó final do comentario."
   ]
  },
  {
   "cell_type": "code",
   "execution_count": 1,
   "id": "8ed1a911",
   "metadata": {},
   "outputs": [
    {
     "name": "stdout",
     "output_type": "stream",
     "text": [
      "un comentario tras a almofadiña #\n",
      "outro comentario logo de triples comiñas \"\"\"\n",
      "Con comiñas simples ''' tamén se poden facer comentarios multiliña\n",
      "Et voilà, up\n"
     ]
    }
   ],
   "source": [
    "# Exemplo de comentario de liña.\n",
    "print(\"un comentario tras a almofadiña #\")\n",
    "\n",
    "\"\"\"Exemplo de comentario multiliña. \n",
    "Tódalas liñas pertencen ó comentario.\n",
    "\"\"\"\n",
    "print(\"outro comentario logo de triples comiñas \\\"\\\"\\\"\")\n",
    "\n",
    "'''Pide al usuario que ingrese el primer nombre de un estudiante en clase\n",
    "    hasta que se ingrese una string vacía. Luego la función imprime el número \n",
    "    de estudiantes con cada nombre que se ingresó.\n",
    "'''\n",
    "print(\"Con comiñas simples \\'\\'\\' tamén se poden facer comentarios multiliña\")\n",
    "'''\n",
    "Outro exemplo\n",
    "de comentario de bloque\n",
    "'''\n",
    "print('Et voilà, up')"
   ]
  },
  {
   "cell_type": "markdown",
   "id": "ac9bda53",
   "metadata": {},
   "source": [
    "## Sangría\n",
    "Python a diferencia doutras linguaxes, como C ou Java, non utiliza chaves ({,}) para diferenciar bloques de código.\n",
    "En Python utilízase a sangría de bloques, é dicir, facer unha separación cara á dereita do código que pertence a un bloque. Esta **sangría está determinada por 4 espazos** segundo a guía de estilos PEP 8 https://peps.python.org/pep-0008/.\n",
    "\n",
    "Esta forma de definir os bloques de código fai que o código sexa máis lexible. Con todo, ó ser obrigatorio, pode levar a erros de execución se non se fixo a sangría correctamente. \n",
    "\n",
    "A continuación, vemos un exemplo de como funciona a\n",
    "sangría dentro dun bloque if.\n",
    "\n"
   ]
  },
  {
   "cell_type": "code",
   "execution_count": 22,
   "id": "93e0c231",
   "metadata": {},
   "outputs": [
    {
     "name": "stdout",
     "output_type": "stream",
     "text": [
      "Aquí vai o código a executar, \n",
      "que, por suposto, ten unha sangría de 4 espazos, \n",
      "para que non dea un erro durante a execución.\n"
     ]
    }
   ],
   "source": [
    "# Exemplo dunha sangría nun bloque if:\n",
    "variable = 1\n",
    "if (variable == 1):\n",
    "    print(\"Aquí vai o código a executar, \")\n",
    "    print(\"que, por suposto, ten unha sangría de 4 espazos, \")\n",
    "    print(\"para que non dea un erro durante a execución.\")"
   ]
  },
  {
   "cell_type": "markdown",
   "id": "faa96356",
   "metadata": {},
   "source": [
    "## Almacenamento de valores: variables e constantes\n",
    "En calquera linguaxe de programación son necesarios elementos que nos permitan almacenar valores para usalos máis\n",
    "adiante no programa."
   ]
  },
  {
   "cell_type": "markdown",
   "id": "137e9723",
   "metadata": {},
   "source": [
    "### Variables\n",
    "Unha variable é un identificador ó que lle asignaremos un valor e, máis tarde, chamando a ese identificador poderase consulta-lo valor.\n",
    "En Python a creación dunha variable faise a través dunha asignación. A asignación faixe escribindo o nome dun identificador, seguido do símbolo `=` e o valor que desexamos almacenar na variable:\n",
    "\n",
    "`identificador = valor`\n",
    "\n",
    "A diferenza doutras linguaxes, non é necesario definir o tipo de dato que almacenará a variable, porque Python infere este tipo no momento de executa-la asignación e asignaralle o tipo de dato que mellor se adapte ó valor que\n",
    "asignasemos. \n",
    "\n",
    "Por exemplo, se asignamos a unha variable o valor ‘Ola mundo!’, esta variable será de tipo cadea de texto. \n",
    "\n",
    "Ademais, unha mesma variable pode almacenar diferentes tipos de datos durante a execución.\n",
    "\n",
    "Para preguntar que tipo de dato almacenou unha variable, usaremos a función `type()`"
   ]
  },
  {
   "cell_type": "code",
   "execution_count": 5,
   "id": "ed4b1dba",
   "metadata": {},
   "outputs": [
    {
     "data": {
      "text/plain": [
       "int"
      ]
     },
     "execution_count": 5,
     "metadata": {},
     "output_type": "execute_result"
    }
   ],
   "source": [
    "# Exemplo de variable\n",
    "num = 52\n",
    "type(num) # Devolve int"
   ]
  },
  {
   "cell_type": "code",
   "execution_count": 6,
   "id": "c92a6d56",
   "metadata": {},
   "outputs": [
    {
     "data": {
      "text/plain": [
       "str"
      ]
     },
     "execution_count": 6,
     "metadata": {},
     "output_type": "execute_result"
    }
   ],
   "source": [
    "# Exemplo de variable\n",
    "saudo = 'Ola! Que-ase?'\n",
    "type(saudo) # Devolve str"
   ]
  },
  {
   "cell_type": "markdown",
   "id": "43bd4ffe",
   "metadata": {},
   "source": [
    "### Constantes\n",
    "Unha constante é un tipo de variable cuxo valor non pode ser modificado durante toda a execución do programa. \n",
    "Adóitase utilizar para almacenar valores que necesitaremos ter dispoñibles ó longo da execución.\n",
    "\n",
    "En Python non existe ningunha palabra reservada que nos permita definir unha constante. Con todo, existen dúas posibles solucións para declarar constantes.\n",
    "\n",
    "Unha delas é utilizar unha variable, escribindo o identificador en maiúsculas para que saibamos que esa variable non pode ser modificada. \n",
    "Esta solución refírese ós estilos e teremos que estar pendentes de que esa constante nunca cambia de valor.\n"
   ]
  },
  {
   "cell_type": "code",
   "execution_count": 1,
   "id": "ee4c03cf",
   "metadata": {},
   "outputs": [
    {
     "name": "stdout",
     "output_type": "stream",
     "text": [
      "O prezo total é: 302.5\n"
     ]
    }
   ],
   "source": [
    "# Exemplo de constantes:\n",
    "IVA = 0.21\n",
    "prezo = 250\n",
    "prezo_total = prezo + (prezo * IVA)\n",
    "print(\"O prezo total é:\", prezo_total)"
   ]
  },
  {
   "cell_type": "markdown",
   "id": "bdd32d5c",
   "metadata": {},
   "source": [
    "Outra solución moi usada é crear un script de Python, accesible dende o noso proxecto, onde se almacenen tóda-las constantes, de seguido importamos ese script coa instrución `import` para poder chamar a esas constantes.\n",
    "Ollo, aínda que **o arquivo debe chamarse coa extensión *.py***, cando se invoca con import, **non se pon a extensión**!"
   ]
  },
  {
   "cell_type": "code",
   "execution_count": 2,
   "id": "c7ca871b",
   "metadata": {},
   "outputs": [
    {
     "name": "stdout",
     "output_type": "stream",
     "text": [
      "O prezo total é: 302.5\n"
     ]
    }
   ],
   "source": [
    "# Importamo-lo ficheiro de constantes, que se atopa no mesmo cartalfol que este notebook e que se chama Constantes.py.\n",
    "import Constantes\n",
    "prezo = 250\n",
    "prezo_total = prezo + (prezo * Constantes.IVA)\n",
    "print(\"O prezo total é:\", prezo_total)"
   ]
  },
  {
   "cell_type": "markdown",
   "id": "c3da8330",
   "metadata": {},
   "source": [
    "# Tipos de datos e operadores\n",
    "\n",
    "Cando declaramos un elemento para almacenar un valor en Python,xa sexa unha variable ou unha constante, non necesitamos defini-lo tipo de dato que terá. \n",
    "\n",
    "Pero debemos coñece-los tipos de datos existentes para saber que operadores podemos aplicar. "
   ]
  },
  {
   "cell_type": "markdown",
   "id": "f7f8e956",
   "metadata": {},
   "source": [
    "## Datos numéricos\n",
    "Dentro dos tipos numéricos hai tipos máis específicos:\n",
    "- Enteiros ( int ): 26 , 0b1101 (base binaria), 0x3f4a (base hexadecimal).\n",
    "- Flotante ( float ): 3.14 , 5. , -67.763\n",
    "- Complexos ( complex ): 0.117j\n",
    "\n",
    "Con estes tipos de datos, úsanse os seguintes tipos de operadores:\n",
    "operadores aritméticos, operadores de asignación e operadores de bits."
   ]
  },
  {
   "cell_type": "markdown",
   "id": "e769ee6f",
   "metadata": {},
   "source": [
    "### Operadores aritméticos\n",
    "Estes operadores inclúen as operacións matemáticas básicas:\n",
    "\n",
    "- Suma (+): devolve como resultado a suma de dous números."
   ]
  },
  {
   "cell_type": "code",
   "execution_count": 19,
   "id": "2cedd2a4",
   "metadata": {},
   "outputs": [
    {
     "data": {
      "text/plain": [
       "18.14"
      ]
     },
     "execution_count": 19,
     "metadata": {},
     "output_type": "execute_result"
    }
   ],
   "source": [
    "8.14 + 10 # Devolve 18.14"
   ]
  },
  {
   "cell_type": "markdown",
   "id": "0a0295ca",
   "metadata": {},
   "source": [
    "- Resta (`-`): devolve como resultado a resta de dous números."
   ]
  },
  {
   "cell_type": "code",
   "execution_count": 27,
   "id": "693e9042",
   "metadata": {},
   "outputs": [
    {
     "data": {
      "text/plain": [
       "-3.8599999999999994"
      ]
     },
     "execution_count": 27,
     "metadata": {},
     "output_type": "execute_result"
    }
   ],
   "source": [
    "8.14 - 12 # Devolve -3.85"
   ]
  },
  {
   "cell_type": "markdown",
   "id": "bbfff215",
   "metadata": {},
   "source": [
    "- Multiplicación (`*`): devolve como resultado a multiplicación de dous números."
   ]
  },
  {
   "cell_type": "code",
   "execution_count": 28,
   "id": "2b5ced5e",
   "metadata": {},
   "outputs": [
    {
     "data": {
      "text/plain": [
       "81.4"
      ]
     },
     "execution_count": 28,
     "metadata": {},
     "output_type": "execute_result"
    }
   ],
   "source": [
    "8.14 * 10 # Devolve 8.14"
   ]
  },
  {
   "cell_type": "markdown",
   "id": "0a7e746d",
   "metadata": {},
   "source": [
    "- División (`/`): devolve como resultado a división de dous números."
   ]
  },
  {
   "cell_type": "code",
   "execution_count": 2,
   "id": "10a9ba03",
   "metadata": {},
   "outputs": [
    {
     "data": {
      "text/plain": [
       "0.8140000000000001"
      ]
     },
     "execution_count": 2,
     "metadata": {},
     "output_type": "execute_result"
    }
   ],
   "source": [
    "8.14 / 10 # Devolve 0.814"
   ]
  },
  {
   "cell_type": "markdown",
   "id": "36cb3981",
   "metadata": {},
   "source": [
    "- División enteira (`//`): devolve como resultado a división enteira de dous números. É dicir, o resultado será só a parte enteira da división."
   ]
  },
  {
   "cell_type": "code",
   "execution_count": 3,
   "id": "f9f41dae",
   "metadata": {},
   "outputs": [
    {
     "data": {
      "text/plain": [
       "0"
      ]
     },
     "execution_count": 3,
     "metadata": {},
     "output_type": "execute_result"
    }
   ],
   "source": [
    "8 // 10 # Devolve 0"
   ]
  },
  {
   "cell_type": "markdown",
   "id": "f375334f",
   "metadata": {},
   "source": [
    "- Módulo (`%`): devolve como resultado o valor do resto obtido da división enteira entre dous números."
   ]
  },
  {
   "cell_type": "code",
   "execution_count": 4,
   "id": "af3138a9",
   "metadata": {},
   "outputs": [
    {
     "data": {
      "text/plain": [
       "8"
      ]
     },
     "execution_count": 4,
     "metadata": {},
     "output_type": "execute_result"
    }
   ],
   "source": [
    "8 % 10 # Devolve 8"
   ]
  },
  {
   "cell_type": "markdown",
   "id": "01a54267",
   "metadata": {},
   "source": [
    "- Expoñente (`**`): devolve como resultado o valor exponencial dunha base con respecto ó expoñente:"
   ]
  },
  {
   "cell_type": "code",
   "execution_count": 5,
   "id": "3612ec49",
   "metadata": {},
   "outputs": [
    {
     "data": {
      "text/plain": [
       "64"
      ]
     },
     "execution_count": 5,
     "metadata": {},
     "output_type": "execute_result"
    }
   ],
   "source": [
    "8 ** 2 # Devolve 64"
   ]
  },
  {
   "cell_type": "markdown",
   "id": "4d00a10d",
   "metadata": {},
   "source": [
    "### Operadores de asignación\n",
    "Os operadores de asignación permiten asigna-lo resultado da operación a unha variable incluíndo o símbolo `=` no operador. Estes permítennos modifica-lo valor dunha variable sen ter que definila na parte dereita da asignación. A lista de operadores de asignación é a seguinte:"
   ]
  },
  {
   "cell_type": "markdown",
   "id": "29f78d5c",
   "metadata": {},
   "source": [
    "- Asignación simple (`=`): asigna á variable do lado esquerdo o valor definido na parte dereita."
   ]
  },
  {
   "cell_type": "code",
   "execution_count": 27,
   "id": "0d4ab2d8",
   "metadata": {},
   "outputs": [
    {
     "name": "stdout",
     "output_type": "stream",
     "text": [
      "10\n"
     ]
    }
   ],
   "source": [
    "resultado = 10 # resultado vale 10\n",
    "print(resultado)"
   ]
  },
  {
   "cell_type": "markdown",
   "id": "28e9ccd8",
   "metadata": {},
   "source": [
    "- Suma e asignación (`+=`): o operador suma, ó valor da variable, o valor definido no lado dereito:"
   ]
  },
  {
   "cell_type": "code",
   "execution_count": 28,
   "id": "eeddd361",
   "metadata": {},
   "outputs": [
    {
     "name": "stdout",
     "output_type": "stream",
     "text": [
      "10\n",
      "20\n"
     ]
    }
   ],
   "source": [
    "resultado = 10 # resultado vale 10\n",
    "print(resultado)\n",
    "resultado += 10 # resultado vale 20\n",
    "print(resultado)"
   ]
  },
  {
   "cell_type": "markdown",
   "id": "302d6514",
   "metadata": {},
   "source": [
    "- Resta e asignación (`-=`): o operador resta, ó valor da variable, o valor definido no lado dereito:"
   ]
  },
  {
   "cell_type": "code",
   "execution_count": 29,
   "id": "9b1fc379",
   "metadata": {},
   "outputs": [
    {
     "name": "stdout",
     "output_type": "stream",
     "text": [
      "10\n",
      "0\n"
     ]
    }
   ],
   "source": [
    "resultado = 10 # resultado vale 10\n",
    "print(resultado)\n",
    "resultado -= 10 # resultado vale 0\n",
    "print(resultado)"
   ]
  },
  {
   "cell_type": "markdown",
   "id": "39c00dbd",
   "metadata": {},
   "source": [
    "- Multiplicación e asignación (`*=`): o operador multiplica, ó valor da variable, o valor definido no lado dereito:"
   ]
  },
  {
   "cell_type": "code",
   "execution_count": 30,
   "id": "c3d5a5cd",
   "metadata": {},
   "outputs": [
    {
     "name": "stdout",
     "output_type": "stream",
     "text": [
      "10\n",
      "100\n"
     ]
    }
   ],
   "source": [
    "resultado = 10 # resultado vale 10\n",
    "print(resultado)\n",
    "resultado *= 10 # resultado vale 100\n",
    "print(resultado)"
   ]
  },
  {
   "cell_type": "markdown",
   "id": "95221989",
   "metadata": {},
   "source": [
    "- División e asignación (`/=`): o operador divide, ó valor da variable, o valor definido no lado dereito:"
   ]
  },
  {
   "cell_type": "code",
   "execution_count": 31,
   "id": "eaf78f5d",
   "metadata": {},
   "outputs": [
    {
     "name": "stdout",
     "output_type": "stream",
     "text": [
      "10\n",
      "1.0\n"
     ]
    }
   ],
   "source": [
    "resultado = 10 # resultado vale 10\n",
    "print(resultado)\n",
    "resultado /= 10 # resultado vale 1\n",
    "print(resultado)"
   ]
  },
  {
   "cell_type": "markdown",
   "id": "048b44a3",
   "metadata": {},
   "source": [
    "- División enteira e asignación (`//=`): o operador realiza a división enteira ó valor da variable con respecto ó valor definido no lado dereito:"
   ]
  },
  {
   "cell_type": "code",
   "execution_count": 33,
   "id": "e579f215",
   "metadata": {},
   "outputs": [
    {
     "name": "stdout",
     "output_type": "stream",
     "text": [
      "18\n",
      "1\n"
     ]
    }
   ],
   "source": [
    "resultado = 18 # resultado vale 18\n",
    "print(resultado)\n",
    "resultado //= 10 # resultado vale 1\n",
    "print(resultado)"
   ]
  },
  {
   "cell_type": "markdown",
   "id": "021a6afd",
   "metadata": {},
   "source": [
    "- Módulo e asignación (`%=`): o operador asigna á variable o resto da división enteira entre o valor da variable e o valor definido no lado dereito da operación:"
   ]
  },
  {
   "cell_type": "code",
   "execution_count": 36,
   "id": "565fb877",
   "metadata": {},
   "outputs": [
    {
     "name": "stdout",
     "output_type": "stream",
     "text": [
      "18\n",
      "8\n"
     ]
    }
   ],
   "source": [
    "resultado = 18 # resultado vale 18\n",
    "print(resultado)\n",
    "resultado %= 10 # resultado vale 8\n",
    "print(resultado)"
   ]
  },
  {
   "cell_type": "markdown",
   "id": "0aed46d2",
   "metadata": {},
   "source": [
    "- Expoñente e asignación (`**=`): o operador asigna á variable o resultado do expoñente entre o valor da variable e o valor da dereita da operación:"
   ]
  },
  {
   "cell_type": "code",
   "execution_count": 39,
   "id": "a3d7aceb",
   "metadata": {},
   "outputs": [
    {
     "name": "stdout",
     "output_type": "stream",
     "text": [
      "2\n",
      "8\n"
     ]
    }
   ],
   "source": [
    "resultado = 2 # resultado vale 2\n",
    "print(resultado)\n",
    "resultado **= 3 # resultado vale 8\n",
    "print(resultado)"
   ]
  },
  {
   "cell_type": "markdown",
   "id": "d8e4f75f",
   "metadata": {},
   "source": [
    "### Operadores de bits"
   ]
  },
  {
   "cell_type": "markdown",
   "id": "0cd7389a",
   "metadata": {},
   "source": [
    "## Datos booleanos\n",
    "\n",
    "### Operadores lóxicos\n",
    "\n",
    "### Operadores de comparación"
   ]
  },
  {
   "cell_type": "markdown",
   "id": "1af1a407",
   "metadata": {},
   "source": [
    "## Cadea de caracteres\n",
    "\n",
    "### Operadores de cadeas de texto"
   ]
  },
  {
   "cell_type": "markdown",
   "id": "79d82fe3",
   "metadata": {},
   "source": [
    "## Tipo None\n",
    "\n",
    "### Transformación de datos"
   ]
  },
  {
   "cell_type": "code",
   "execution_count": 6,
   "id": "81066a74",
   "metadata": {},
   "outputs": [
    {
     "name": "stdout",
     "output_type": "stream",
     "text": [
      " 01_sintaxe_de_python.ipynb  'Markdown Cheat Sheet.ipynb'   __pycache__\r\n",
      " Constantes.py\t\t      markdown-cheat-sheet.md\t    untitled\r\n"
     ]
    }
   ],
   "source": [
    "! ls"
   ]
  },
  {
   "cell_type": "code",
   "execution_count": null,
   "id": "5540b87d",
   "metadata": {},
   "outputs": [],
   "source": []
  }
 ],
 "metadata": {
  "kernelspec": {
   "display_name": "Python 3 (ipykernel)",
   "language": "python",
   "name": "python3"
  },
  "language_info": {
   "codemirror_mode": {
    "name": "ipython",
    "version": 3
   },
   "file_extension": ".py",
   "mimetype": "text/x-python",
   "name": "python",
   "nbconvert_exporter": "python",
   "pygments_lexer": "ipython3",
   "version": "3.9.13"
  }
 },
 "nbformat": 4,
 "nbformat_minor": 5
}
