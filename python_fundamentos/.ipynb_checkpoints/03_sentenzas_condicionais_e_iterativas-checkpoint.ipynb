{
 "cells": [
  {
   "cell_type": "markdown",
   "id": "b843e99b",
   "metadata": {},
   "source": [
    "# 03 Expresións condicionais e sentenzas de iteración\n",
    "## Contidos\n",
    "\n",
    "- Expresións condicionais\n",
    "    - Expresión if\n",
    "    - Expresión else\n",
    "    - Expresión elif\n",
    "- Sentenzas de iteración\n",
    "    - Bucle while\n",
    "    - Bucle for\n",
    "    - Sentenzas extra: break e continue\n",
    "    - iteradores: iter e next\n",
    "\n"
   ]
  },
  {
   "cell_type": "markdown",
   "id": "31ce4a1e",
   "metadata": {},
   "source": [
    "## Expresións condicionais\n",
    "\n",
    "Os programas non sempre teñen unha execución lineal, na maioría haberá bifurcacións dependendo do resultado que se obteña dalgunha avaliación. Para poder facer estas bifurcacións na execución do programa é necesario utilizar expresións condicionais."
   ]
  },
  {
   "cell_type": "markdown",
   "id": "1c7472cc",
   "metadata": {},
   "source": [
    "### Expresión if\n",
    "As expresiones `if` permiten executar un bloque de instrucións unicamente se a expresión lóxica que teñamos posta devolve `True`. Para escribir unha sentenza `if` séguese a seguinte estrutura (***ollo con respeta-la indentación das sentenzas dentro do bloque condicional!***):\n",
    "\n",
    "`if (expresión_lóxica):  \n",
    "    sentenza_1  \n",
    "    sentenza_2  \n",
    "    ...`\n",
    "    \n",
    "A palabra reservada `if`, vai seguida da condición. \n",
    "\n",
    "A condición pode avaliar se a declaración é verdadeira ou falsa (`True` ou `False`).\n",
    "\n",
    "As parénteses na condición son opcionais, con todo, axudan a mellora-la lexibilidade do código cando hai máis dunha condición no `if`.\n",
    "\n",
    "A función dos dous puntos `:` é separa-la condición da declaración de execución seguinte."
   ]
  },
  {
   "cell_type": "markdown",
   "id": "ac2c532a",
   "metadata": {},
   "source": [
    "Exemplo de uso dunha instrución `if`, na que se lle pide á usuaria que introduza un valor entre 1 e 10. A continuación, comproba se o número é maior que 5 e, de ser así, amosa unha mensaxe:"
   ]
  },
  {
   "cell_type": "code",
   "execution_count": null,
   "id": "0ffe920f",
   "metadata": {},
   "outputs": [
    {
     "name": "stdout",
     "output_type": "stream",
     "text": [
      "Introduce un número do 1 ó 10\n"
     ]
    }
   ],
   "source": [
    "print('Introduce un número do 1 ó 10')\n",
    "numero = int(input())\n",
    "if numero > 5:\n",
    "    print(\"A cifra introducida é maior que 5!\")"
   ]
  },
  {
   "cell_type": "markdown",
   "id": "25985573",
   "metadata": {},
   "source": [
    "### Expresión else\n",
    "Se se quere executar outro bloque de instrucións cando non se cumpre a condición do `if`, úsase a expresión `else`. Esta expresión debe ir sempre despois do bloque de instrucións do `if`:\n",
    "\n",
    "`if (expresión_lóxica):\n",
    "    sentenza_1  \n",
    "    sentenza_2  \n",
    "...\n",
    "else:\n",
    "    sentenza_1  \n",
    "    sentenza_2  \n",
    "...`"
   ]
  },
  {
   "cell_type": "markdown",
   "id": "4c22b82e",
   "metadata": {},
   "source": [
    "Ampliando o anterior exemplo para que no caso de que o número non sexa maior que 5, se amose outra mensaxe á usuaria, engadiríase un bloque `else` despois do bloque `if`:"
   ]
  },
  {
   "cell_type": "code",
   "execution_count": null,
   "id": "3c09ef4c",
   "metadata": {},
   "outputs": [],
   "source": [
    "print('Introduce un número do 1 ó 10')\n",
    "numero = int(input())\n",
    "if (numero > 5):\n",
    "    print(\"A cifra introducida é maior que 5!\")\n",
    "else:\n",
    "    print(\"A cifra introducida é menor ou igual que 5!\")"
   ]
  },
  {
   "cell_type": "markdown",
   "id": "da5f7eec",
   "metadata": {},
   "source": [
    "### Expresión elif\n",
    "A expresión `elif` permitenos avaliar máis condicións dentro dun `if` para así poder executar outros bloques de instrucións. \n",
    "\n",
    "Se incluímos un bloque `else`, as instrucións deste bloque só se executan se tóda-las expresións lóxicas dos bloques `if` e `elif` devolveron `False`. \n",
    "\n",
    "Pódese engadir máis dun bloque `elif` e estes bloques deben ir despois do bloque `if` e antes do bloque `else`:\n",
    "\n",
    "`if (expresión_lóxica):\n",
    "    sentenza_1\n",
    "    sentenza_2\n",
    "    ...\n",
    "elif (expresión_lóxica_2):\n",
    "    sentenza_1\n",
    "    sentenza_2\n",
    "    ...\n",
    "elif (expresión_lóxica_3):\n",
    "    sentenza_1\n",
    "    sentenza_2\n",
    "    ...\n",
    "else:\n",
    "    sentenza_1\n",
    "    sentenza_2\n",
    "    ...`"
   ]
  },
  {
   "cell_type": "markdown",
   "id": "e50ff479",
   "metadata": {},
   "source": [
    "Ampliando o anterior exemplo para aplicar esta expresión, comprobaremos tamén se o valor introducido é 5 e, se é así, amosaremos outra mensaxe:"
   ]
  },
  {
   "cell_type": "code",
   "execution_count": 1,
   "id": "8c93d03e",
   "metadata": {},
   "outputs": [
    {
     "name": "stdout",
     "output_type": "stream",
     "text": [
      "Introduce un número do 1 ó 10\n",
      "5\n",
      "A cifra introducida é o número 5!\n"
     ]
    }
   ],
   "source": [
    "print('Introduce un número do 1 ó 10')\n",
    "numero = int(input())\n",
    "if (numero > 5):\n",
    "    print(\"A cifra introducida é maior que 5!\")\n",
    "elif (numero == 5):\n",
    "    print(\"A cifra introducida é o número 5!\")\n",
    "else:\n",
    "    print(\"A cifra introducida é menor que 5!\")"
   ]
  },
  {
   "cell_type": "markdown",
   "id": "3d86f838",
   "metadata": {},
   "source": [
    "## Sentenzas de iteración\n",
    "`while` e `for` son as dúas expresións existentes en Python para executar varias veces un conxunto de instrucións.\n",
    "\n",
    "Ademais, hai outras dúas sentenzas, `break` e `continue` que se poden utilizar nos bucles para modifica-lo fluxo de execución.\n",
    "\n",
    "Por último, é posible usar iteradores, `iter` e `next`, para percorrer tódo-los elementos de obxectos como se fai coas listas."
   ]
  },
  {
   "cell_type": "markdown",
   "id": "7cc91425",
   "metadata": {},
   "source": [
    "### Bucle while\n",
    "Normalmente, a instrución `while` utilízase para facer buscas de elementos ou executar un conxunto de accións ata que ocorre un evento. En ambos casos, non se sabe exactamente cantas execucións hai que facer e depende da avaliación dunha expresión lóxica.\n",
    "\n",
    "Esta instrución repite un bloque de código mentres se cumpra unha condición definida nela. Esa condición, do mesmo xeito que pasaba con `if`, vén dada en forma de expresión lóxica. \n",
    "\n",
    "O bloque de instrucións da instrución `while` deixará de executarse cando esa expresión lóxica devolva un `False`. \n",
    "\n",
    "O formato de escritura de `while` é o seguinte:\n",
    "\n",
    "`while (expresión_lóxica):\n",
    "sentenza_1\n",
    "sentenza_2\n",
    "...`\n",
    "\n",
    "Por exemplo, para imprimir unha secuencia de números desde o número 5 ata o número 1, poderíase facer cun bloque `while` que, mentres o número que se está a comprobar sexa maior que 0, se imprima e de seguido se lle reste unha unidade:"
   ]
  },
  {
   "cell_type": "code",
   "execution_count": 4,
   "id": "868289dc",
   "metadata": {},
   "outputs": [
    {
     "name": "stdout",
     "output_type": "stream",
     "text": [
      "5\n",
      "4\n",
      "3\n",
      "2\n",
      "1\n"
     ]
    }
   ],
   "source": [
    "numero = 5\n",
    "fin = 0\n",
    "while (numero > fin):\n",
    "    print(numero)\n",
    "    numero -= 1"
   ]
  },
  {
   "cell_type": "markdown",
   "id": "c7c33135",
   "metadata": {},
   "source": [
    "Á instrución `while` pódeselle incluír a sentenza `else`, pero a diferenza das execucións condicionais, o bloque de instrucións da sentenza `else` executarase sempre cando acaben de executarse as iteracións en while.\n",
    "\n",
    "A sentenza `else` escríbese a continuación das instrucións do bloque `while`.\n",
    "\n",
    "while (expresión_lóxica):\n",
    "    sentenza_1\n",
    "    sentenza_2\n",
    "    ...\n",
    "else:\n",
    "    sentenza_1\n",
    "    sentenza_2\n",
    "    ...\n",
    "\n",
    "Continuando co anterior exemplo, pódese imprimir unha mensaxe que indique que se rematou de impprimi-los números. Para iso, inclúese un bloque `else` despois do bloque `while` coa instrución que imprimirá a mensaxe:"
   ]
  },
  {
   "cell_type": "code",
   "execution_count": 7,
   "id": "b96ef894",
   "metadata": {},
   "outputs": [
    {
     "name": "stdout",
     "output_type": "stream",
     "text": [
      "5\n",
      "4\n",
      "3\n",
      "2\n",
      "1\n",
      "Rematada a impresión dos números!\n"
     ]
    }
   ],
   "source": [
    "numero = 5\n",
    "fin = 0\n",
    "while (numero > fin):\n",
    "    print(numero)\n",
    "    numero -= 1\n",
    "else:\n",
    "    print(\"Rematada a impresión dos números!\")"
   ]
  },
  {
   "cell_type": "markdown",
   "id": "b69ea17d",
   "metadata": {},
   "source": [
    "### Bucle for\n",
    "Esta sentenza permite percorrer un conxunto de elementos (por exemplo, listas) en calquera sentido e con calquera paso. A forma xeral de crear unha sentenza `for` é a seguinte:\n",
    "\n",
    "`for variable in obxecto:\n",
    "    sentenza_1\n",
    "    sentenza_2\n",
    "    ...\n",
    "else:\n",
    "    sentenza_1\n",
    "    sentenza_2\n",
    "    ...`\n",
    "    \n",
    "Na instrución `for` declárase unha variable á que, en cada iteración do bucle, asignaráselle o valor dun dos elementos contidos en *obxecto*. \n",
    "\n",
    "Como pasaba na sentenza `while`, pódese incluír unha sentenza `else` que executará as súas instrucións cando finalizasen todas as iteracións do bucle `for`.\n",
    "\n",
    "Para face-lo mesmo exemplo que na sentenza `while` de antes, creamos unha lista cos números que queremos imprimir. Coa instrución `for` percorremos cada un deses números e imprimímolos e, ó final, amosaremos unha mensaxe indicando\n",
    "que rematamos:"
   ]
  },
  {
   "cell_type": "code",
   "execution_count": 9,
   "id": "5b9d7e03",
   "metadata": {},
   "outputs": [
    {
     "name": "stdout",
     "output_type": "stream",
     "text": [
      "5\n",
      "4\n",
      "3\n",
      "2\n",
      "1\n",
      "Rematada a impresión dos números!\n"
     ]
    }
   ],
   "source": [
    "numeros = [5, 4, 3, 2, 1]\n",
    "for numero in numeros:\n",
    "    print(numero)\n",
    "else:\n",
    "    print(\"Rematada a impresión dos números!\")"
   ]
  },
  {
   "cell_type": "markdown",
   "id": "78883f4e",
   "metadata": {},
   "source": [
    "Esta forma de asignación tamén pódese facer con cadeas de texto. Neste caso, á variable se lle irá asignando cada un dos caracteres da cadea en cada paso do bucle:"
   ]
  },
  {
   "cell_type": "code",
   "execution_count": 10,
   "id": "0cfb1f58",
   "metadata": {},
   "outputs": [
    {
     "name": "stdout",
     "output_type": "stream",
     "text": [
      "O\n",
      "l\n",
      "a\n",
      " \n",
      "m\n",
      "u\n",
      "n\n",
      "d\n",
      "o\n",
      "!\n"
     ]
    }
   ],
   "source": [
    "texto = 'Ola mundo!'\n",
    "for caracter in texto:\n",
    "    print(caracter)"
   ]
  },
  {
   "cell_type": "markdown",
   "id": "a94e7eb3",
   "metadata": {},
   "source": [
    "Ademáis, como é lóxico, a variable pode ter un tipo de dato diferente en cada volta do bucle."
   ]
  },
  {
   "cell_type": "code",
   "execution_count": 12,
   "id": "4886eea7",
   "metadata": {},
   "outputs": [
    {
     "name": "stdout",
     "output_type": "stream",
     "text": [
      "texto\n",
      "15\n",
      "(3, 48)\n",
      "a\n"
     ]
    }
   ],
   "source": [
    "letra = 'a'\n",
    "lista = ['texto', 15, (3, 48),letra]\n",
    "for elemento in lista:\n",
    "    print(elemento)"
   ]
  },
  {
   "cell_type": "markdown",
   "id": "63d9d397",
   "metadata": {},
   "source": [
    "Nas sentenzas `for`, unha forma de percorrer un obxecto, como unha lista, é a través dos seus índices. O obxectivo é que a variable teña como valor en cada paso a posición da lista que se está repasando. \n",
    "Para poder facer isto utilízase a instrución `range`. Esta instrución devolve un rango de números dende un número inicial ata un final, e coa separación entre números que se indique. A súa estrutura é unha das seguintes:"
   ]
  },
  {
   "cell_type": "markdown",
   "id": "3c5f4573",
   "metadata": {},
   "source": [
    "`\\# Secuencia de números de 0 a numero_final con paso 1\n",
    "range(numero_final)`\n",
    "\n",
    "`\\# Secuencia de números de numero_inicial a numero_final con paso 1\n",
    "range(numero_inicial, numero_final)`\n",
    "\n",
    "`\\# Secuencia de números de numero_inicial a numero_final con invervalo paso\n",
    "range(numero_inicial, numero_final, paso)`"
   ]
  },
  {
   "cell_type": "markdown",
   "id": "b1d91c06",
   "metadata": {},
   "source": [
    "Os rangos pódense utilizar directamente como obxecto no bucle `for`. Sen embargo, para poder imprimir tódo-los índices que xerou un rango, é necesario encapsula-lo rango nunha lista.\n",
    "\n",
    "No seguinte exemplo só amósanse os caracteres que ocupan unha posición par na cadea \"Ola mundo!\":"
   ]
  },
  {
   "cell_type": "code",
   "execution_count": 14,
   "id": "18a543e8",
   "metadata": {},
   "outputs": [
    {
     "name": "stdout",
     "output_type": "stream",
     "text": [
      "O\n",
      "a\n",
      "m\n",
      "n\n",
      "o\n"
     ]
    }
   ],
   "source": [
    "cadea = 'Ola mundo!'\n",
    "\n",
    "# Comezamos en 0, ata a lonxitude da cadea e con paso = 2\n",
    "for i in range(0, len(cadea), 2):\n",
    "    print(cadea[i])"
   ]
  },
  {
   "cell_type": "markdown",
   "id": "f600ac5f",
   "metadata": {},
   "source": [
    "## Sentenzas extra: break e continue\n",
    "Hai un par de sentenzas que permiten modifica-la execución dos bucles. Estas sentencias pódense utilizar\n",
    "tanto nos bucles `while` como nos bucles `for`."
   ]
  },
  {
   "cell_type": "code",
   "execution_count": null,
   "id": "57b79b10",
   "metadata": {},
   "outputs": [],
   "source": [
    "### break :\n",
    "esta sentencia rompe la ejecución del bucle en el momento en que se\n",
    "ejecute."
   ]
  },
  {
   "cell_type": "code",
   "execution_count": null,
   "id": "bfa83a61",
   "metadata": {},
   "outputs": [],
   "source": [
    "numeros = list(range(10))\n",
    "for n in numeros:\n",
    "if (n == 5):\n",
    "print('Rompemos el bucle!')\n",
    "break\n",
    "print(n)\n",
    "# La secuencia de ejecución sería: 0, 1, 2, 3, 4, Rompemos el bucle!"
   ]
  },
  {
   "cell_type": "code",
   "execution_count": null,
   "id": "cf68f514",
   "metadata": {},
   "outputs": [],
   "source": [
    "### Continue :\n",
    "esta instrucción permite saltarnos una iteración del bucle sin que se\n",
    "rompa la ejecución final."
   ]
  },
  {
   "cell_type": "code",
   "execution_count": null,
   "id": "48b2361a",
   "metadata": {},
   "outputs": [],
   "source": [
    "numeros = list(range(10))\n",
    "for n in numeros:\n",
    "if (n == 5):\n",
    "print('Me salto una vuelta')\n",
    "continue\n",
    "print(n)\n",
    "# La secuencia de ejecución sería: 0, 1, 2, 3, 4, Me salto una vuelta,\n",
    "6, 7, 8, 9"
   ]
  },
  {
   "cell_type": "markdown",
   "id": "ed23bba7",
   "metadata": {},
   "source": [
    "## Iteradores\n",
    "Otra forma de recorrer los elementos de un objeto en Python es utilizando\n",
    "iteradores. Un iterador es un objeto que, al aplicarlo sobre otro objeto iterable, como\n",
    "son las cadenas de texto o los conjuntos, nos permite obtener el siguiente elemento\n",
    "por visitar.\n",
    "Para crear un iterador sobre un objeto usamos la instrucción iter(OBJETO) y se lo\n",
    "asignamos a una variable. Una vez creado, podemos visitar los elementos del OBJETO\n",
    "con la función next() y pasando por parámetro el identificador del iterador. Veremos\n",
    "esto en un ejemplo."
   ]
  },
  {
   "cell_type": "code",
   "execution_count": 16,
   "id": "a4d64975",
   "metadata": {},
   "outputs": [
    {
     "data": {
      "text/plain": [
       "'M'"
      ]
     },
     "execution_count": 16,
     "metadata": {},
     "output_type": "execute_result"
    }
   ],
   "source": [
    "cadea = 'Ola Mundo!'\n",
    "iterador = iter(cadea)\n",
    "next(iterador) # Devolverá 'O'\n",
    "next(iterador) # Devolverá 'l'\n",
    "next(iterador)\n",
    "next(iterador)\n",
    "next(iterador)\n"
   ]
  },
  {
   "cell_type": "code",
   "execution_count": null,
   "id": "c6e2e23d",
   "metadata": {},
   "outputs": [],
   "source": [
    "! ls"
   ]
  }
 ],
 "metadata": {
  "kernelspec": {
   "display_name": "Python 3 (ipykernel)",
   "language": "python",
   "name": "python3"
  },
  "language_info": {
   "codemirror_mode": {
    "name": "ipython",
    "version": 3
   },
   "file_extension": ".py",
   "mimetype": "text/x-python",
   "name": "python",
   "nbconvert_exporter": "python",
   "pygments_lexer": "ipython3",
   "version": "3.9.13"
  }
 },
 "nbformat": 4,
 "nbformat_minor": 5
}
