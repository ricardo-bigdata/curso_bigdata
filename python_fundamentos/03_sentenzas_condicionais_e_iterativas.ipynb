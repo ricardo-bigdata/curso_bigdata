{
 "cells": [
  {
   "cell_type": "markdown",
   "id": "b843e99b",
   "metadata": {},
   "source": [
    "# 03 Expresións condicionais e sentenzas de iteración\n",
    "## Contidos\n",
    "\n",
    "- Expresións condicionais\n",
    "    - Expresión if\n",
    "    - Expresión else\n",
    "    - Expresión elif\n",
    "- Sentenzas de iteración\n",
    "    - Bucle while\n",
    "    - Bucle for\n",
    "    - Sentenzas extra\n",
    "    - iteradores\n",
    "\n"
   ]
  },
  {
   "cell_type": "markdown",
   "id": "31ce4a1e",
   "metadata": {},
   "source": [
    "## Expresións condicionais\n",
    "\n",
    "Os programas non sempre teñen unha execución lineal, na maioría haberá bifurcacións dependendo do resultado que se obteña dalgunha avaliación. Para poder facer estas bifurcacións na execución do programa é necesario utilizar expresións condicionais."
   ]
  },
  {
   "cell_type": "markdown",
   "id": "1c7472cc",
   "metadata": {},
   "source": [
    "### Expresión if\n",
    "As expresiones `if` permiten executar un bloque de instrucións unicamente se a expresión lóxica que teñamos posta devolve `True`. Para escribir unha sentenza `if` séguese a seguinte estrutura (**ollo con respeta-la indentación das sentenzas dentro do bloque condicional!**):\n",
    "\n",
    "`if (expresión_lóxica):  \n",
    "    sentenza_1  \n",
    "    sentenza_2  \n",
    "    ...`"
   ]
  },
  {
   "cell_type": "markdown",
   "id": "ac2c532a",
   "metadata": {},
   "source": [
    "Exemplo de uso dunha instrución `if`, na que se lle pide á usuaria que introduza un valor entre 1 e 10. A continuación, comproba se o número é maior que 5 e, de ser así, amosa unha mensaxe:"
   ]
  },
  {
   "cell_type": "code",
   "execution_count": null,
   "id": "0ffe920f",
   "metadata": {},
   "outputs": [],
   "source": [
    "print('Introduce un número do 1 ó 10')\n",
    "número = int(input())\n",
    "if (número > 5):\n",
    "    print(\"son maior que 5!\")"
   ]
  },
  {
   "cell_type": "code",
   "execution_count": null,
   "id": "736f9339",
   "metadata": {},
   "outputs": [],
   "source": []
  },
  {
   "cell_type": "code",
   "execution_count": null,
   "id": "50f5dec2",
   "metadata": {},
   "outputs": [],
   "source": []
  },
  {
   "cell_type": "code",
   "execution_count": null,
   "id": "3c09ef4c",
   "metadata": {},
   "outputs": [],
   "source": []
  },
  {
   "cell_type": "code",
   "execution_count": null,
   "id": "c6e2e23d",
   "metadata": {},
   "outputs": [],
   "source": [
    "! ls"
   ]
  }
 ],
 "metadata": {
  "kernelspec": {
   "display_name": "Python 3 (ipykernel)",
   "language": "python",
   "name": "python3"
  },
  "language_info": {
   "codemirror_mode": {
    "name": "ipython",
    "version": 3
   },
   "file_extension": ".py",
   "mimetype": "text/x-python",
   "name": "python",
   "nbconvert_exporter": "python",
   "pygments_lexer": "ipython3",
   "version": "3.9.13"
  }
 },
 "nbformat": 4,
 "nbformat_minor": 5
}
