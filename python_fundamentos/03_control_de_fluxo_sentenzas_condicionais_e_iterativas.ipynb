{
 "cells": [
  {
   "cell_type": "markdown",
   "id": "b843e99b",
   "metadata": {},
   "source": [
    "# 03 Control de fluxo: expresións condicionais e sentenzas de iteración\n",
    "## Contidos\n",
    "\n",
    "- Expresións condicionais\n",
    "    - Expresión *if*\n",
    "    - Expresión *else*\n",
    "    - Expresión *elif*\n",
    "- Expresións booleanas para condicións\n",
    "    - Valor *True* ou *False* de obxectos non booleanos\n",
    "- Sentenzas de iteración\n",
    "    - Bucle *for*\n",
    "        - A función *range()*\n",
    "    - Bucle *while*\n",
    "    - Sentenzas extra: *break* e *continue*\n",
    "    - iteradores: *iter* e *next*\n",
    "\n"
   ]
  },
  {
   "cell_type": "markdown",
   "id": "d1d49613",
   "metadata": {},
   "source": [
    "---"
   ]
  },
  {
   "cell_type": "markdown",
   "id": "f4968083",
   "metadata": {},
   "source": [
    "Python ofrece varias ferramentas par controla-lo fluxo de execución do código:\n",
    "- Expresións condicionais\n",
    "- Expresións booleanas\n",
    "- Bucles *for* e *while*\n",
    "- Sentenzas *break* e *continue*\n",
    "- Iteradores *iter* e *next*\n",
    "- Iteradores *zip* e *enumerate*\n",
    "- Comprensión de coleccións"
   ]
  },
  {
   "cell_type": "markdown",
   "id": "31ce4a1e",
   "metadata": {},
   "source": [
    "## Expresións condicionais\n",
    "\n",
    "Os programas non sempre teñen unha execución lineal, na maioría haberá bifurcacións dependendo do resultado que se obteña dalgunha avaliación. Para poder facer estas bifurcacións na execución do programa é necesario utilizar expresións condicionais."
   ]
  },
  {
   "cell_type": "markdown",
   "id": "1c7472cc",
   "metadata": {},
   "source": [
    "### Expresión *if*\n",
    "As expresiones `if` permiten executar un bloque de instrucións unicamente se a expresión lóxica que teñamos posta devolve `True`. Para escribir unha sentenza `if` séguese a seguinte estrutura (***ollo con respeta-la indentación das sentenzas dentro do bloque condicional!***):\n",
    "\n",
    "`if (expresión_lóxica):  \n",
    "    sentenza_1  \n",
    "    sentenza_2  \n",
    "    ...`\n",
    "    \n",
    "- A palabra reservada `if`, vai seguida da condición. \n",
    "\n",
    "- A condición pode avaliar se a declaración é verdadeira ou falsa (`True` ou `False`).\n",
    "\n",
    "- As parénteses na condición son opcionais, con todo, axudan a mellora-la lexibilidade do código cando hai máis dunha condición no `if`.\n",
    "\n",
    "- A función dos dous puntos `:` é separa-la condición da declaración de execución conseguinte.\n",
    "\n",
    "- A **indentación** é o mecanismo usado en Python para **pechar bloques de código**.\n",
    "\n",
    "- Logo da liña da sentenza condicional o bloque de código indentado executarase só no caso de que a condición avaliada resulte ser `True`; en caso contrario o bloque indentado simplemente sáltase."
   ]
  },
  {
   "cell_type": "markdown",
   "id": "ac2c532a",
   "metadata": {},
   "source": [
    "Exemplo de uso dunha instrución `if`, na que se lle pide á usuaria que introduza un valor entre 1 e 10; a continuación, comproba se o número é maior que 5 e, de ser así, amosa unha mensaxe:"
   ]
  },
  {
   "cell_type": "code",
   "execution_count": 1,
   "id": "0ffe920f",
   "metadata": {},
   "outputs": [
    {
     "name": "stdout",
     "output_type": "stream",
     "text": [
      "Introduce un número do 1 ó 10\n",
      "8\n",
      "A cifra introducida é maior que 5!\n",
      "Era visto que moito che gustaban os números altos...\n",
      "Dame ingual que metera-lo número  8 , ou calquera outro!\n"
     ]
    }
   ],
   "source": [
    "print('Introduce un número do 1 ó 10')\n",
    "numero = int(input())\n",
    "if numero > 5:  # a condición if avalía unha expresión booleana cun operador de comparación: numero > 5\n",
    "    print(\"A cifra introducida é maior que 5!\")\n",
    "    print(\"Era visto que moito che gustaban os números altos...\")"
   ]
  },
  {
   "cell_type": "markdown",
   "id": "25985573",
   "metadata": {},
   "source": [
    "### Expresión *else*\n",
    "Se se quere executar outro bloque de instrucións cando non se cumpre a condición do `if`, úsase a expresión `else`. Esta expresión debe ir sempre despois do bloque de instrucións do `if`:\n",
    "\n",
    "`if (expresión_lóxica):\n",
    "    sentenza_1  \n",
    "    sentenza_2  \n",
    "...\n",
    "else:\n",
    "    sentenza_1  \n",
    "    sentenza_2  \n",
    "...`"
   ]
  },
  {
   "cell_type": "markdown",
   "id": "4c22b82e",
   "metadata": {},
   "source": [
    "Ampliando o anterior exemplo para que no caso de que o número non sexa maior que 5, se amose outra mensaxe á usuaria, engadiríase un bloque `else` despois do bloque `if`:"
   ]
  },
  {
   "cell_type": "code",
   "execution_count": 5,
   "id": "3c09ef4c",
   "metadata": {},
   "outputs": [
    {
     "name": "stdout",
     "output_type": "stream",
     "text": [
      "Introduce un número do 1 ó 10\n",
      "2\n",
      "\n",
      "A cifra introducida é menor ou igual que 5!\n",
      "Era visto que moito che gustaban os números baixos...\n",
      "\n",
      " Dame ingual que sexa o número  2 , ou calquera outro!\n"
     ]
    }
   ],
   "source": [
    "print('Introduce un número do 1 ó 10')\n",
    "numero = int(input())\n",
    "if (numero > 5):\n",
    "    print(\"\\nA cifra introducida é maior que 5!\")\n",
    "    print(\"Era visto que moito che gustaban os números altos...\")\n",
    "else:\n",
    "    print(\"\\nA cifra introducida é menor ou igual que 5!\")\n",
    "    print(\"Era visto que moito che gustaban os números baixos...\")\n",
    "# as sentenzas dentro de cada bloque indentado son as que corresponden ó cumprimento da condición ou non, respectivamente\n",
    "# as sentenzas fóra dos bloques indentados xa non están asociadas ó cumprimento ou non da condición\n",
    "print('\\n Dame ingual que sexa o número ', numero, ', ou calquera outro!')  # esta sentenza execútase sempre, independentemente da condición"
   ]
  },
  {
   "cell_type": "markdown",
   "id": "daf50d4b",
   "metadata": {},
   "source": [
    "Tamén poderíase usar unha condición para distingui-los números pares e impares, por exemplo:"
   ]
  },
  {
   "cell_type": "code",
   "execution_count": 2,
   "id": "15538070",
   "metadata": {},
   "outputs": [
    {
     "name": "stdout",
     "output_type": "stream",
     "text": [
      "Introduce un número do 1 ó 10\n",
      "3\n",
      "A cifra introducida é impar.\n"
     ]
    }
   ],
   "source": [
    "print('Introduce un número do 1 ó 10')\n",
    "numero = int(input())\n",
    "if (numero % 2 == 0):\n",
    "    print(\"A cifra introducida é par.\")\n",
    "else:\n",
    "    print(\"A cifra introducida é impar.\")"
   ]
  },
  {
   "cell_type": "markdown",
   "id": "da5f7eec",
   "metadata": {},
   "source": [
    "### Expresión *elif*\n",
    "A expresión `elif` é a abreviatura de \"***else if***\" e permitenos avaliar máis condicións dentro dun `if` para así poder executar outros bloques de instrucións, cando se avaliase como `False` a condición previa do `if`. \n",
    "\n",
    "Se incluímos un bloque `else`, as instrucións deste bloque só se executan se tóda-las expresións lóxicas dos bloques `if` e `elif` devolveron `False`. Polo tanto só pode haber unha sentenza `else` que, se a hai, sería a última da sentenza `if`, e xa non require levar condición ningunha.\n",
    "\n",
    "Pódese engadir máis dun bloque `elif` e estes bloques deben ir despois do bloque `if` e antes do bloque `else`:\n",
    "\n",
    "`if (expresión_lóxica):\n",
    "    sentenza_1\n",
    "    sentenza_2\n",
    "    ...\n",
    "elif (expresión_lóxica_2):\n",
    "    sentenza_1\n",
    "    sentenza_2\n",
    "    ...\n",
    "elif (expresión_lóxica_3):\n",
    "    sentenza_1\n",
    "    sentenza_2\n",
    "    ...\n",
    "else:\n",
    "    sentenza_1\n",
    "    sentenza_2\n",
    "    ...`"
   ]
  },
  {
   "cell_type": "markdown",
   "id": "e50ff479",
   "metadata": {},
   "source": [
    "Ampliando o anterior exemplo para aplicar esta expresión, comprobaremos tamén se o valor introducido é 5 e, se é así, amosaremos outra mensaxe:"
   ]
  },
  {
   "cell_type": "code",
   "execution_count": 3,
   "id": "8c93d03e",
   "metadata": {},
   "outputs": [
    {
     "name": "stdout",
     "output_type": "stream",
     "text": [
      "Introduce un número do 1 ó 10\n",
      "3\n",
      "A cifra introducida é menor que 5!\n"
     ]
    }
   ],
   "source": [
    "print('Introduce un número do 1 ó 10')\n",
    "numero = int(input())\n",
    "if (numero > 5):\n",
    "    print(\"A cifra introducida é maior que 5!\")\n",
    "elif (numero == 5):\n",
    "    print(\"A cifra introducida é o número 5!\")\n",
    "else:\n",
    "    print(\"A cifra introducida é menor que 5!\")"
   ]
  },
  {
   "cell_type": "markdown",
   "id": "a553084e",
   "metadata": {},
   "source": [
    "Uns exemplos máis combinando estas sentenzas:"
   ]
  },
  {
   "cell_type": "code",
   "execution_count": 2,
   "id": "08cd3742",
   "metadata": {},
   "outputs": [
    {
     "name": "stdout",
     "output_type": "stream",
     "text": [
      "Teclea unha das estacións do ano (primavera, verán, outono ou inverno):\n",
      "sd\n",
      "Non escribiches ben a estación!\n"
     ]
    }
   ],
   "source": [
    "print('Teclea unha das estacións do ano (primavera, verán, outono ou inverno):')\n",
    "estacion = str(input())\n",
    "if estacion == 'primavera':\n",
    "    print('planta a horta!')\n",
    "elif estacion == 'verán':\n",
    "    print('rega a horta!')\n",
    "elif estacion == 'outono':\n",
    "    print('sacha a horta!')\n",
    "elif estacion == 'inverno':\n",
    "    print('acende a cheminea!')\n",
    "else:\n",
    "    print('Non escribiches ben a estación!')"
   ]
  },
  {
   "cell_type": "code",
   "execution_count": 6,
   "id": "58fe223b",
   "metadata": {},
   "outputs": [
    {
     "name": "stdout",
     "output_type": "stream",
     "text": [
      "Dado que es de GAL, o importe total é de 21000.0.\n"
     ]
    }
   ],
   "source": [
    "comunidade_autonoma = 'GAL'\n",
    "importe = 20000.00    # datos de exemplo dunha Comunidade e o importe sobre o que suma-lo imposto\n",
    "\n",
    "if comunidade_autonoma == 'GAL':\n",
    "    taxa = .05\n",
    "    total = importe*(1+taxa)\n",
    "\n",
    "elif comunidade_autonoma == 'AND':\n",
    "    taxa = .08\n",
    "    total = importe*(1+taxa)\n",
    "\n",
    "elif comunidade_autonoma == 'CAN':\n",
    "    taxa = .03\n",
    "    total = importe*(1+taxa)\n",
    "\n",
    "resultado = \"Dado que es de {}, o importe total é de {}.\".format(comunidade_autonoma, total)\n",
    "print(resultado)"
   ]
  },
  {
   "cell_type": "code",
   "execution_count": 3,
   "id": "b9359ffd",
   "metadata": {},
   "outputs": [
    {
     "name": "stdout",
     "output_type": "stream",
     "text": [
      "Introduce a túa idade\n",
      "45\n",
      "Cos teus 45 anos pagarás 0.62€ por usa-lo autobús.\n"
     ]
    }
   ],
   "source": [
    "print('Introduce a túa idade')\n",
    "idade = int(input())\n",
    "\n",
    "# límites de idade para as distintas tarifas do bus\n",
    "idade_gratis = 4\n",
    "idade_cativada = 18\n",
    "idade_xubilacion = 65\n",
    "\n",
    "# tarifas existentes do bus\n",
    "billete_base = 0.47\n",
    "billete_adultas = 0.62\n",
    "\n",
    "# asignación da tarifa en función da idade\n",
    "if idade <= idade_gratis:\n",
    "    prezo_billete = 0\n",
    "elif idade <= idade_cativada:\n",
    "    prezo_billete = billete_base\n",
    "elif idade >= idade_xubilacion:\n",
    "    prezo_billete = billete_base\n",
    "else:\n",
    "    prezo_billete = billete_adultas\n",
    "\n",
    "texto = \"Cos teus {} anos pagarás {}€ por usa-lo autobús.\".format(idade, prezo_billete)\n",
    "print(texto)"
   ]
  },
  {
   "cell_type": "markdown",
   "id": "4b81ba23",
   "metadata": {},
   "source": [
    "## Expresións booleanas para condicións\n",
    "\n",
    "As expresións condicionais ás veces usan expresións booleanas máis complicadas, puidendo conter varios operadores de comparación, operadores lóxicos e mesmo cálculos:"
   ]
  },
  {
   "cell_type": "code",
   "execution_count": 11,
   "id": "bd737fa7",
   "metadata": {},
   "outputs": [
    {
     "name": "stdout",
     "output_type": "stream",
     "text": [
      "O Ìndice de Masa Corporal considérase 'normal'\n"
     ]
    }
   ],
   "source": [
    "peso = 60  # peso en kilogramos\n",
    "altura = 1.68  # altura en metros\n",
    "\n",
    "if 18.5 <= peso/altura**2 < 25:  # múltiples operadores de comparación\n",
    "    print(\"O Índice de Masa Corporal considérase 'normal'\")\n",
    "else:\n",
    "    print(\"O Índice de Masa Corporal considérase 'anormal'\")\n"
   ]
  },
  {
   "cell_type": "code",
   "execution_count": 14,
   "id": "e9c9f603",
   "metadata": {},
   "outputs": [
    {
     "name": "stdout",
     "output_type": "stream",
     "text": [
      "Temos un arco da vella?\n"
     ]
    }
   ],
   "source": [
    "chove = True\n",
    "fai_sol = True\n",
    "\n",
    "if chove and fai_sol:  # operadores booleanos\n",
    "    print(\"Temos un arco da vella?\")\n",
    "else:\n",
    "    print(\"Non está chovendo e facendo sol simultaneamente!\")"
   ]
  },
  {
   "cell_type": "markdown",
   "id": "aeb684af",
   "metadata": {},
   "source": [
    "Para condicións realmente complicadas, onde se necesite combinar algúns `and`, `or` e `not`, usar parénteses permite aclara-las combinacións."
   ]
  },
  {
   "cell_type": "code",
   "execution_count": 16,
   "id": "1626d8cb",
   "metadata": {},
   "outputs": [
    {
     "name": "stdout",
     "output_type": "stream",
     "text": [
      "enviar correo electrónico!\n"
     ]
    }
   ],
   "source": [
    "sen_subscricion = False\n",
    "comunidade = 'Canarias'\n",
    "\n",
    "# expresión booleana complexa\n",
    "if (not sen_subscricion) and (comunidade == \"Canarias\" or comunidade == \"Ceuta\" or Comunidade == \"Melilla\"):\n",
    "    print(\"enviar correo electrónico!\")"
   ]
  },
  {
   "cell_type": "markdown",
   "id": "c10bc674",
   "metadata": {},
   "source": [
    "Por simple ou complexa que sexa, a condición nunha instrución `if` debe ser unha expresión booleana que se avalía como `True` ou `False` e é este valor o que decide se o bloque con sangría dunha instrución `if` se executa ou non."
   ]
  },
  {
   "cell_type": "markdown",
   "id": "f8174647",
   "metadata": {},
   "source": [
    "### Valor `True` ou `False` de obxectos non booleáns\n",
    "\n",
    "Se se usa un obxecto non booleán como condición nunha instrución `if` en lugar da expresión booleana, Python comprobará o seu \"*valor de verdade*\" e utilizará isto para decidir se executa ou non o código indentado. Por defecto, o \"*valor de verdade*\" dun obxecto en Python considérase `True` a menos que se especifique como `False` na documentación.\n",
    "\n",
    "Os seguintes son a maioría dos obxectos integrados que se consideran `False` en Python:\n",
    "\n",
    "- Constantes definidas como falsas: `None` e `False`.\n",
    "- Cero de calquera tipo numérico: 0, 0,0, 0j, Decimal(0), Fraction(0, 1)\n",
    "- Secuencias e coleccións baleiras: '', \"\", (), [], {}, set(), range(0)\n",
    "\n",
    "\n",
    "O xeguinte exemplo de código, aproveita esta característica para amosar de forma sinxela se se produciron ou non erros combinando a condición cunha sentenza `if`:\n",
    "\n",
    "*erros* ten o \"*valor de verdade*\" `True` porque é un número distinto de cero, polo que se imprime a mensaxe de erro."
   ]
  },
  {
   "cell_type": "code",
   "execution_count": 27,
   "id": "7d4e835b",
   "metadata": {},
   "outputs": [
    {
     "name": "stdout",
     "output_type": "stream",
     "text": [
      "Tes 2 erros que corrixir!\n"
     ]
    }
   ],
   "source": [
    "erros = 2\n",
    "if erros:\n",
    "    print(\"Tes {} erros que corrixir!\".format(erros))\n",
    "else:\n",
    "    print(\"Non hai erros que corrixir!\")"
   ]
  },
  {
   "cell_type": "code",
   "execution_count": null,
   "id": "46c47c01",
   "metadata": {},
   "outputs": [],
   "source": [
    "Xa que falamos de funcións con números decimais, aproveito para comentar como poder usalas:"
   ]
  },
  {
   "cell_type": "code",
   "execution_count": 28,
   "id": "5eb246a0",
   "metadata": {},
   "outputs": [
    {
     "name": "stdout",
     "output_type": "stream",
     "text": [
      "0\n",
      "0\n"
     ]
    }
   ],
   "source": [
    "# Para poder usa-las funcións Decimal() e Fraction() hai que importalas das librarías correspondentes\n",
    "from decimal import Decimal\n",
    "from fractions import Fraction\n",
    "print(Decimal(0))\n",
    "print(Fraction(0, 1))"
   ]
  },
  {
   "cell_type": "markdown",
   "id": "ffe6cfb9",
   "metadata": {},
   "source": [
    "E volvendo ó tema de utilizar obxectos non booleáns como expresións condicionais, no seguinte exemplo, cando *premio* teña calquera valor (calquera cadea non baleira), entón a condición do *premio* é verdadeira!\n",
    "\n",
    "No exemplo amósase unha mensaxe indicando o premio que se leva unha participante en base ó número de puntos acadados (un número entre 1 e 200).\n",
    "\n",
    "    Puntos      Premio\n",
    "    1   - 50    perrito piloto\n",
    "    51  - 150   sen premio\n",
    "    151 - 180   osiño de peluche\n",
    "    181 - 200   chaveiro\n"
   ]
  },
  {
   "cell_type": "code",
   "execution_count": 8,
   "id": "ca097cea",
   "metadata": {},
   "outputs": [
    {
     "name": "stdout",
     "output_type": "stream",
     "text": [
      "Ohhhhh, que pena, desta xeira no levaches ningún premio.\n"
     ]
    }
   ],
   "source": [
    "puntos = 82  # indica os puntos acadados por unha persoa, que ten que ser un valor enteiro entre 1 e 200\n",
    "\n",
    "# inicicialízase o valor por defecto de premio a None\n",
    "premio = None\n",
    "\n",
    "# úsase o valor dos puntos para asina-los premios\n",
    "if puntos <= 50:\n",
    "    premio = 'perrito piloto'\n",
    "elif 151 <= puntos <= 180:\n",
    "    premio = 'osiño de peluche'\n",
    "elif puntos >= 181:\n",
    "    premio = 'chaveiro'\n",
    "\n",
    "# úsase o valor de verdade de premio para asignalo premio correcto á mensaxe de resultado\n",
    "\n",
    "if premio:\n",
    "    resultado = \"Parabéns! Gañaches un estupendo {}!\".format(premio)\n",
    "else:\n",
    "    resultado = \"Ohhhhh, que pena, desta xeira no levaches ningún premio.\"\n",
    "print(resultado)"
   ]
  },
  {
   "cell_type": "markdown",
   "id": "3d86f838",
   "metadata": {},
   "source": [
    "## Sentenzas de iteración\n",
    "Python ten dous tipos de bucles (expresións para executar varias veces un conxunto de instrucións), `while` e `for`.\n",
    "\n",
    "Os bucles `for` son un exemplo de \"**iteración definida**\", o que significa que o corpo do bucle execútase un número predefinido de veces; isto difire da \"**iteración indefinida**\", que é cando un bucle se repite un número descoñecido de veces e remata cando se cumpre algunha condición, que é o que ocorre nun bucle `while`.\n",
    "\n",
    "Ademais, hai outras dúas sentenzas, `break` e `continue` que se poden utilizar nos bucles para modifica-lo fluxo de execución.\n",
    "\n",
    "Por último, é posible usar iteradores, `iter` e `next`, para percorrer tódo-los elementos de obxectos como se fai coas listas."
   ]
  },
  {
   "cell_type": "markdown",
   "id": "e856f510",
   "metadata": {},
   "source": [
    "### Bucle *for*\n",
    "\n",
    "Un bucle `for` úsase para \"iterar\", ou facer algo repetidamente, sobre un iterable. Un **iterable** é un obxecto que pode devolver cada un dos seus elementos por separado, un de cada vez; isto pode incluír tipos de secuencias, como cadeas, listas e tuplas, así como tipos que non sexan secuencias, como dicionarios e ficheiros. \n",
    "\n",
    "Esta sentenza permite percorrer un conxunto de elementos (por exemplo, listas) en calquera sentido e con calquera intervalo. A forma xeral de crear unha sentenza `for` é a seguinte:\n",
    "\n",
    "`for variable in obxecto:\n",
    "    sentenza_1\n",
    "    sentenza_2\n",
    "    ...\n",
    "else:\n",
    "    sentenza_1\n",
    "    sentenza_2\n",
    "    ...`\n",
    "    \n",
    "- A primeira liña do bucle comeza coa palabra reservada `for` para indicar que se trata deste tipo de bucle.\n",
    "- De seguido declárase unha variable de iteración seguida da palabra reservada `in` e do obxecto iterable. Á variable, en cada iteración do bucle, asignaráselle o valor dun dos elementos contidos no obxecto.\n",
    "- A liña de encabezado do bucle sempre remata co signo de puntuación *dous puntos*, `:`.\n",
    "- Despois do encabezado do bucle `for` hai un bloque de código indentado, o corpo do bucle, que se executará en cada iteración deste bucle.\n",
    "- Pódese incluír unha sentenza `else` que, a diferenza das execucións condicionais, executará o seu bloque de instrucións cando finalicen tódalas iteracións do bucle `for`.\n",
    "\n",
    "Pódense nomea-las variables de iteración como se queira, pero unha convención habitual é dar á variable de iteración e ó iterable os mesmos nomes, excepto as versións en singular e plural respectivamente (por exemplo, \"numero\" e \"numeros\").\n",
    "\n",
    "No seguinte exemplo, para imprimir unha secuencia de números desde o número 5 ata o número 1, créase unha lista cos números que se queren imprimir, e coa instrución `for` percórrese cada un deses números, imprímense e, ó final, amósase unha mensaxe indicando que rematou:"
   ]
  },
  {
   "cell_type": "code",
   "execution_count": 6,
   "id": "c5a9f96a",
   "metadata": {},
   "outputs": [
    {
     "name": "stdout",
     "output_type": "stream",
     "text": [
      "5\n",
      "4\n",
      "3\n",
      "2\n",
      "1\n",
      "Rematada a impresión dos números!\n"
     ]
    }
   ],
   "source": [
    "numeros = [5, 4, 3, 2, 1]\n",
    "for numero in numeros:\n",
    "    print(numero)\n",
    "else:\n",
    "    print(\"Rematada a impresión dos números!\")"
   ]
  },
  {
   "cell_type": "markdown",
   "id": "5de1f202",
   "metadata": {},
   "source": [
    "Esta forma de asignación tamén pódese facer con cadeas de texto. Neste caso, á variable se lle irá asignando cada un dos caracteres da cadea en cada paso do bucle:"
   ]
  },
  {
   "cell_type": "code",
   "execution_count": 7,
   "id": "1044cadb",
   "metadata": {},
   "outputs": [
    {
     "name": "stdout",
     "output_type": "stream",
     "text": [
      "O\n",
      "l\n",
      "a\n",
      " \n",
      "m\n",
      "u\n",
      "n\n",
      "d\n",
      "o\n",
      "!\n"
     ]
    }
   ],
   "source": [
    "texto = 'Ola mundo!'\n",
    "for caracter in texto:\n",
    "    print(caracter)"
   ]
  },
  {
   "cell_type": "markdown",
   "id": "0b95647e",
   "metadata": {},
   "source": [
    "Ademáis, como é lóxico, a variable pode ter un tipo de dato diferente en cada volta do bucle."
   ]
  },
  {
   "cell_type": "code",
   "execution_count": 8,
   "id": "3a74c68c",
   "metadata": {},
   "outputs": [
    {
     "name": "stdout",
     "output_type": "stream",
     "text": [
      "texto\n",
      "15\n",
      "(3, 48)\n",
      "a\n"
     ]
    }
   ],
   "source": [
    "letra = 'a'\n",
    "lista = ['texto', 15, (3, 48),letra]\n",
    "for elemento in lista:\n",
    "    print(elemento)"
   ]
  },
  {
   "cell_type": "markdown",
   "id": "dcfec557",
   "metadata": {},
   "source": [
    "#### A función *range()*\n",
    "Nas sentenzas `for`, unha forma de percorrer un obxecto, como unha lista, é a través dos seus índices. O obxectivo é que a variable teña como valor en cada paso a posición da lista que se está repasando. \n",
    "\n",
    "Para poder facer isto utilízase a función `range()`. Esta función devolve un rango de números dende un número inicial ata un final, e coa separación entre números que se indique. Pode levar ata 3 argumentos, dos que o primeiro e o último son opcionais e, en caso de faltar, toman un valor predefinido por defecto:\n",
    "\n",
    "`range(numero_inicial=0, numero_final, paso=1)`\n",
    "\n",
    "- O argumento \"numero_inicial\" é o primeiro número da secuencia; se non se especifica, **o seu valor por defecto é 0**.\n",
    "- O argumento \"numero_final\" é **un valor máis que o último número da secuencia (último número da secuencia +1)**; este argumento debe especificarse.    \n",
    "     [***numero_inicial***, , , , , , , , , ***numero_final - 1***]\n",
    "\n",
    "- O argumento \"paso\" é a diferenza entre cada número da secuencia; se non se especifica, **o seu valor por defecto é 1**.\n",
    "\n",
    "\n",
    "Os rangos pódense utilizar directamente como obxecto no bucle `for`. Sen embargo, **para poder imprimir tódo-los índices que xerou un rango, é necesario encapsula-lo rango nunha lista**:\n",
    "\n",
    "`print(range(5)) # devolve range(0, 5)`\n",
    "\n",
    "`print(list(range(5)))  # devolve [0, 1, 2, 3, 4]`\n",
    "\n",
    "Outra posibilidade de ve-los elementos dun rango é percorrela cun bucle `for`:\n",
    "\n",
    "`for numero in range(5):  # devolve 0 1 2 3 4\n",
    "    print(numero)`\n",
    "\n",
    "\n",
    "Notas sobre o uso de `range()`:\n",
    "\n",
    "- Se se especifica só un número enteiro dentro das parénteses, úsase como valor para \"numero_final\" e os valores predeterminados úsanse para os outros dous.\n",
    "    p.e. - range(5) devolve 0, 1, 2, 3, 4"
   ]
  },
  {
   "cell_type": "code",
   "execution_count": 19,
   "id": "e71bdb40",
   "metadata": {},
   "outputs": [
    {
     "data": {
      "text/plain": [
       "range(0, 5)"
      ]
     },
     "execution_count": 19,
     "metadata": {},
     "output_type": "execute_result"
    }
   ],
   "source": [
    "range(5)"
   ]
  },
  {
   "cell_type": "code",
   "execution_count": 20,
   "id": "f04e3360",
   "metadata": {},
   "outputs": [
    {
     "name": "stdout",
     "output_type": "stream",
     "text": [
      "[0, 1, 2, 3, 4]\n"
     ]
    }
   ],
   "source": [
    "print(list(range(5)))"
   ]
  },
  {
   "cell_type": "markdown",
   "id": "3a47c318",
   "metadata": {},
   "source": [
    "- Se se especifican dous enteiros dentro das parénteses, utilízanse para \"numero_inicial\" e \"numero_final\", e o predeterminado úsase para \"paso\".\n",
    "    p.e. - range(2, 8) devolve 2, 3, 4, 5, 6, 7"
   ]
  },
  {
   "cell_type": "code",
   "execution_count": 11,
   "id": "b2747f07",
   "metadata": {},
   "outputs": [
    {
     "data": {
      "text/plain": [
       "range(2, 8)"
      ]
     },
     "execution_count": 11,
     "metadata": {},
     "output_type": "execute_result"
    }
   ],
   "source": [
    "range(2, 8)"
   ]
  },
  {
   "cell_type": "code",
   "execution_count": 12,
   "id": "0580666a",
   "metadata": {},
   "outputs": [
    {
     "name": "stdout",
     "output_type": "stream",
     "text": [
      "[2, 3, 4, 5, 6, 7]\n"
     ]
    }
   ],
   "source": [
    "print(list(range(2, 8)))"
   ]
  },
  {
   "cell_type": "markdown",
   "id": "dc9b93a2",
   "metadata": {},
   "source": [
    "- Se se especifican os tres enteiros torresponden a \"numero_inicial\", \"numero_final\" e \"paso\".\n",
    "    p.e. - range(1, 10, 2) devolve 1, 3, 5, 7, 9"
   ]
  },
  {
   "cell_type": "code",
   "execution_count": null,
   "id": "df3ba9c0",
   "metadata": {},
   "outputs": [],
   "source": [
    "range(1, 10, 2)"
   ]
  },
  {
   "cell_type": "code",
   "execution_count": 14,
   "id": "dbdac01d",
   "metadata": {},
   "outputs": [
    {
     "name": "stdout",
     "output_type": "stream",
     "text": [
      "[1, 3, 5, 7, 9]\n"
     ]
    }
   ],
   "source": [
    "print(list(range(1, 10, 2)))"
   ]
  },
  {
   "cell_type": "markdown",
   "id": "3a38b99d",
   "metadata": {},
   "source": [
    "Algúns exemplos:"
   ]
  },
  {
   "cell_type": "code",
   "execution_count": 15,
   "id": "4f5cb96a",
   "metadata": {},
   "outputs": [
    {
     "name": "stdout",
     "output_type": "stream",
     "text": [
      "0\n",
      "1\n",
      "2\n",
      "3\n",
      "4\n"
     ]
    }
   ],
   "source": [
    "# Secuencia de números de 0 a numero_final con intervalo 1\n",
    "# range(numero_final)\n",
    "for numero in range(5):\n",
    "    print(numero)"
   ]
  },
  {
   "cell_type": "code",
   "execution_count": 10,
   "id": "6aceedae",
   "metadata": {},
   "outputs": [
    {
     "name": "stdout",
     "output_type": "stream",
     "text": [
      "1\n",
      "2\n",
      "3\n",
      "4\n"
     ]
    }
   ],
   "source": [
    "# Secuencia de números de numero_inicial a numero_final con intervalo 1\n",
    "# range(numero_inicial, numero_final)`\n",
    "for numero in range(1,5):\n",
    "    print(numero)"
   ]
  },
  {
   "cell_type": "code",
   "execution_count": 31,
   "id": "f8038dd4",
   "metadata": {},
   "outputs": [
    {
     "name": "stdout",
     "output_type": "stream",
     "text": [
      "[2, 1, 0, -1, -2, -3, -4]\n"
     ]
    }
   ],
   "source": [
    "# Tamén son posibles secuencias de números negativos\n",
    "print(list(range(2,-5, -1)))"
   ]
  },
  {
   "cell_type": "code",
   "execution_count": 34,
   "id": "e9909985",
   "metadata": {},
   "outputs": [
    {
     "name": "stdout",
     "output_type": "stream",
     "text": [
      "[-10, -9, -8, -7, -6]\n"
     ]
    }
   ],
   "source": [
    "print(list(range(-10,-5))) # devolve [-10, -9, -8, -7, -6]"
   ]
  },
  {
   "cell_type": "code",
   "execution_count": 32,
   "id": "62df48f9",
   "metadata": {},
   "outputs": [
    {
     "name": "stdout",
     "output_type": "stream",
     "text": [
      "[]\n"
     ]
    }
   ],
   "source": [
    "# Ollo, con indica-lo paso se é necesario\n",
    "print(list(range(0,-5)))  # non devolve un erro, senón unha lista baleira []"
   ]
  },
  {
   "cell_type": "code",
   "execution_count": 16,
   "id": "0f150b4f",
   "metadata": {},
   "outputs": [
    {
     "name": "stdout",
     "output_type": "stream",
     "text": [
      "1\n",
      "3\n"
     ]
    }
   ],
   "source": [
    "# Secuencia de números de numero_inicial a numero_final con invervalo \"paso\"\n",
    "# range(numero_inicial, numero_final, paso)\n",
    "for numero in range(1,5,2):\n",
    "    print(numero)"
   ]
  },
  {
   "cell_type": "markdown",
   "id": "9d69b274",
   "metadata": {},
   "source": [
    "No seguinte exemplo só amósanse os caracteres que ocupan unha posición par na cadea \"Ola mundo!\":"
   ]
  },
  {
   "cell_type": "code",
   "execution_count": 12,
   "id": "fe3c43bc",
   "metadata": {},
   "outputs": [
    {
     "name": "stdout",
     "output_type": "stream",
     "text": [
      "O\n",
      "a\n",
      "m\n",
      "n\n",
      "o\n"
     ]
    }
   ],
   "source": [
    "cadea = 'Ola mundo!'\n",
    "\n",
    "# Comezamos en 0, ata a lonxitude da cadea e con intervalo = 2\n",
    "for i in range(0, len(cadea), 2):\n",
    "    print(cadea[i])"
   ]
  },
  {
   "cell_type": "markdown",
   "id": "1adfe5c8",
   "metadata": {},
   "source": [
    "O seguinte é un bonito exemplo (incluído no curso de Udacity \"Introduction to Python Programming\": https://learn.udacity.com/courses/ud1110) de uso do bucle `for` e a función `range()` para modifica-los elementos dunha lista."
   ]
  },
  {
   "cell_type": "code",
   "execution_count": 17,
   "id": "a3b26cc5",
   "metadata": {},
   "outputs": [
    {
     "name": "stdout",
     "output_type": "stream",
     "text": [
      "['vigo', 'a coruña', 'lugo', 'ourense', 'pontevedra', 'santiago de compostela', 'ferrol']\n",
      "['Vigo', 'A Coruña', 'Lugo', 'Ourense', 'Pontevedra', 'Santiago De Compostela', 'Ferrol']\n"
     ]
    }
   ],
   "source": [
    "# Creación de listas\n",
    "# Ademais de extraer información das listas, como fixemos nos exemplos anteriores, tamén pódense \n",
    "# crear listas con bucles for engadindo a unha nova lista en cada iteración do bucle\n",
    "\n",
    "# Creando unha nova lista\n",
    "cidades = ['vigo', 'a coruña', 'lugo', 'ourense', 'pontevedra', 'santiago de compostela', 'ferrol']\n",
    "cidades_maiusculas = []\n",
    "\n",
    "for cidade in cidades:\n",
    "    cidades_maiusculas.append(cidade.title())\n",
    "    \n",
    "print(cidades)\n",
    "print(cidades_maiusculas)"
   ]
  },
  {
   "cell_type": "code",
   "execution_count": 18,
   "id": "653453d9",
   "metadata": {},
   "outputs": [
    {
     "name": "stdout",
     "output_type": "stream",
     "text": [
      "['vigo', 'a coruña', 'lugo', 'ourense', 'pontevedra', 'santiago de compostela', 'ferrol']\n",
      "['Vigo', 'A Coruña', 'Lugo', 'Ourense', 'Pontevedra', 'Santiago De Compostela', 'Ferrol']\n"
     ]
    }
   ],
   "source": [
    "# Modificación de listas\n",
    "# Modificar unha lista require o uso da función range()\n",
    "# Con range() xéranse os índices para cada valor da lista de cidades; \n",
    "# isto permítenos acceder ós elementos da lista con cidades[indice] para modifica-los valores da lista de cidades existente.\n",
    "\n",
    "cidades = ['vigo', 'a coruña', 'lugo', 'ourense', 'pontevedra', 'santiago de compostela', 'ferrol']\n",
    "print(cidades)\n",
    "\n",
    "\n",
    "for indice in range(len(cidades)):\n",
    "    cidades[indice] = cidades[indice].title()\n",
    "    \n",
    "print(cidades)"
   ]
  },
  {
   "cell_type": "markdown",
   "id": "cc4ba915",
   "metadata": {},
   "source": [
    "No seguinte exemplo modifícase directamente unha lista de nomes para convertilos en nomes válidos de conta de usuario/a, convertendo as maiúsculas en minúsculas e substituíndo os espazos en branco polo guión baixo, _."
   ]
  },
  {
   "cell_type": "code",
   "execution_count": 22,
   "id": "6627bb9a",
   "metadata": {},
   "outputs": [
    {
     "name": "stdout",
     "output_type": "stream",
     "text": [
      "['joey_tribbiani', 'monica_geller', 'chandler_bing', 'phoebe_buffay']\n"
     ]
    }
   ],
   "source": [
    "usernames = [\"Joey Tribbiani\", \"Monica Geller\", \"Chandler Bing\", \"Phoebe Buffay\"]\n",
    "\n",
    "# write your for loop here\n",
    "for indice in range(0, len(usernames)):\n",
    "    usernames[indice] = usernames[indice].lower().replace(' ', '_')\n",
    "print(usernames)\n"
   ]
  },
  {
   "cell_type": "markdown",
   "id": "2f5ee2aa",
   "metadata": {},
   "source": [
    "Neste exemplo créase unha lista en linguaxe HTML a partir dunha lista de cadeas de texto; por exemplo, se a lista fose *['primeira cadea', 'segunda cadea', 'terceira cadea']*, debería obterse unha cadea de texto que comezase cunha etiqueta `<ul>` na primeira liña, seguida dunha nova liña para cada elemento da lista orixinal pechada entre as etiquetas `<li>` e `</li>`. Por último, a liña final da cadea debe te-la etiqueta de peche `</ul>`.\n",
    "\n",
    "    <ul>\n",
    "    <li>primeira cadea</li>\n",
    "    <li>segunda cadea</li>\n",
    "    <li>terceira cadea</li>\n",
    "    </ul>"
   ]
  },
  {
   "cell_type": "code",
   "execution_count": 53,
   "id": "b8a93310",
   "metadata": {},
   "outputs": [
    {
     "name": "stdout",
     "output_type": "stream",
     "text": [
      "<ul>\n",
      "<li>primeira cadea</li>\n",
      "<li>segunda cadea</li>\n",
      "<li>terceira cadea</li>\n",
      "</ul>\n"
     ]
    }
   ],
   "source": [
    "items = ['primeira cadea', 'segunda cadea', 'terceira cadea']\n",
    "cadea_html = \"<ul>\\n\"  # \"\\n\" ó final da liña provoca que os caracteres que se engadan despois estean nunha seguinte liña\n",
    "for item in items:\n",
    "    cadea_html = cadea_html + \"<li>\" + item +\"</li>\\n\"\n",
    "    # cadea_html += \"<li>{}</li>\\n\".format(item)  # unha forma alternativa de ir compoñendo cada liña do html\n",
    "cadea_html = cadea_html + \"</ul>\"\n",
    "\n",
    "print(cadea_html)"
   ]
  },
  {
   "cell_type": "markdown",
   "id": "13ae6a2d",
   "metadata": {},
   "source": [
    "O seguinte exemplo é dun contador de etiquetas XML.\n",
    "\n",
    "XML é unha linguaxe de datos semellante a HTML, na que calquera etiqueta XML comeza cun símbolo \"`<`\" e remata cun símbolo \"`>`\". \n",
    "\n",
    "Mediante un bucle `for` que itera sobre unha lista de cadeas, conta cantas delas son etiquetas XML.\n",
    "\n",
    "Para este caso, considérase que a lista de cadeas non conterá cadeas baleiras."
   ]
  },
  {
   "cell_type": "code",
   "execution_count": 29,
   "id": "6649e219",
   "metadata": {},
   "outputs": [
    {
     "name": "stdout",
     "output_type": "stream",
     "text": [
      "2\n"
     ]
    }
   ],
   "source": [
    "tokens = ['<saudo>', 'Ola, Mundo!', '</saudo>']\n",
    "contador = 0\n",
    "\n",
    "for token in tokens:\n",
    "    if token[0] == '<' and token[-1] == '>':\n",
    "        contador = contador + 1\n",
    "\n",
    "print(contador)"
   ]
  },
  {
   "cell_type": "markdown",
   "id": "0c0c631b",
   "metadata": {},
   "source": [
    "- Un último exemplo de uso de *for*, neste caso para **iterar a través de dicionarios**.\n",
    "Por exemplo, pódese crear un dicionario, *contador_palabras*, que fai un seguimento do reconto total de cada palabra nunha cadea.\n",
    "\n",
    "Neste caso vanse conta-las palabras usadas nos títulos dunha serie de libros"
   ]
  },
  {
   "cell_type": "code",
   "execution_count": 49,
   "id": "69a1e1f4",
   "metadata": {},
   "outputs": [
    {
     "name": "stdout",
     "output_type": "stream",
     "text": [
      "['Don', 'Quixote', 'da', 'Mancha', 'Romeo', 'e', 'Xulieta', 'Cen', 'anos', 'de', 'soidade', 'Crimen', 'e', 'Castigo', 'O', 'principiño', 'Matar', 'a', 'un', 'reiseñor', 'Cumes', 'Borrascosas', 'Os', 'miserables', 'O', 'alquimista', 'Un', 'mundo', 'feliz', 'A', 'divina', 'comedia', 'O', 'retrato', 'de', 'Dorian', 'Grey']\n",
      "{'Don': 1, 'Quixote': 1, 'da': 1, 'Mancha': 1, 'Romeo': 1, 'e': 2, 'Xulieta': 1, 'Cen': 1, 'anos': 1, 'de': 2, 'soidade': 1, 'Crimen': 1, 'Castigo': 1, 'O': 3, 'principiño': 1, 'Matar': 1, 'a': 1, 'un': 1, 'reiseñor': 1, 'Cumes': 1, 'Borrascosas': 1, 'Os': 1, 'miserables': 1, 'alquimista': 1, 'Un': 1, 'mundo': 1, 'feliz': 1, 'A': 1, 'divina': 1, 'comedia': 1, 'retrato': 1, 'Dorian': 1, 'Grey': 1}\n"
     ]
    }
   ],
   "source": [
    "titulos_libros = \"Don Quixote da Mancha, Romeo e Xulieta, Cen anos de soidade, Crimen e Castigo, O principiño, Matar a un reiseñor, Cumes Borrascosas, Os miserables, O alquimista, Un mundo feliz, A divina comedia, O retrato de Dorian Grey\"\n",
    "palabras_titulos = titulos_libros.replace(',','').split()  # extráense as palabras dos títulos e elimínanse as comas\n",
    "print(palabras_titulos)\n",
    "\n",
    "conta_palabras = {}  # créase un dicionario de palabras para leva-la súa contaxe\n",
    "\n",
    "for palabra in palabras_titulos:\n",
    "    if palabra in conta_palabras:  # compróbase se a palabra collida dos títulos está xa no dicionario\n",
    "        conta_palabras[palabra] = conta_palabras[palabra] + 1  # se a palabra está auméntase en 1 a conta no dicionario desa palabra\n",
    "    else:\n",
    "        conta_palabras[palabra] = 1  # se a palabra non está engádese ó dicionario co valor 1\n",
    "        \n",
    "print(conta_palabras)\n",
    "    "
   ]
  },
  {
   "cell_type": "markdown",
   "id": "7e0db6d7",
   "metadata": {},
   "source": [
    "Unha solución máis elegante sería utiliza-lo método `.get()`\n",
    "\n",
    "    conta_palabras[palabra] = conta_palabras.get(palabra, 0) + 1\n",
    "\n",
    "O método `.get()` devolve `None` (ou o valor que se indique, neste caso 0) se non se atopa a chave,"
   ]
  },
  {
   "cell_type": "code",
   "execution_count": 50,
   "id": "d20dd77f",
   "metadata": {},
   "outputs": [
    {
     "name": "stdout",
     "output_type": "stream",
     "text": [
      "['Don', 'Quixote', 'da', 'Mancha', 'Romeo', 'e', 'Xulieta', 'Cen', 'anos', 'de', 'soidade', 'Crimen', 'e', 'Castigo', 'O', 'principiño', 'Matar', 'a', 'un', 'reiseñor', 'Cumes', 'Borrascosas', 'Os', 'miserables', 'O', 'alquimista', 'Un', 'mundo', 'feliz', 'A', 'divina', 'comedia', 'O', 'retrato', 'de', 'Dorian', 'Grey']\n",
      "{'Don': 1, 'Quixote': 1, 'da': 1, 'Mancha': 1, 'Romeo': 1, 'e': 2, 'Xulieta': 1, 'Cen': 1, 'anos': 1, 'de': 2, 'soidade': 1, 'Crimen': 1, 'Castigo': 1, 'O': 3, 'principiño': 1, 'Matar': 1, 'a': 1, 'un': 1, 'reiseñor': 1, 'Cumes': 1, 'Borrascosas': 1, 'Os': 1, 'miserables': 1, 'alquimista': 1, 'Un': 1, 'mundo': 1, 'feliz': 1, 'A': 1, 'divina': 1, 'comedia': 1, 'retrato': 1, 'Dorian': 1, 'Grey': 1}\n"
     ]
    }
   ],
   "source": [
    "titulos_libros = \"Don Quixote da Mancha, Romeo e Xulieta, Cen anos de soidade, Crimen e Castigo, O principiño, Matar a un reiseñor, Cumes Borrascosas, Os miserables, O alquimista, Un mundo feliz, A divina comedia, O retrato de Dorian Grey\"\n",
    "palabras_titulos = titulos_libros.replace(',','').split()  # extráense as palabras dos títulos e elimínanse as comas\n",
    "print(palabras_titulos)\n",
    "\n",
    "conta_palabras = {}  # créase un dicionario de palabras para leva-la súa contaxe\n",
    "\n",
    "for palabra in palabras_titulos:\n",
    "    conta_palabras[palabra] = conta_palabras.get(palabra, 0) + 1        \n",
    "print(conta_palabras)"
   ]
  },
  {
   "cell_type": "markdown",
   "id": "7520c450",
   "metadata": {},
   "source": [
    "No seguinte exemplo preténdese conta-lo número de froitas da cesta da compra, pero non se queren conta-los demais artigos da cesta. Para facelo, tense un dicionario e unha lista de froitas. "
   ]
  },
  {
   "cell_type": "code",
   "execution_count": 63,
   "id": "0b022778",
   "metadata": {},
   "outputs": [
    {
     "name": "stdout",
     "output_type": "stream",
     "text": [
      "Hai 23 froitas na cesta da compra.\n"
     ]
    }
   ],
   "source": [
    "resultado = 0\n",
    "cesta_compra = {'mazás': 4, 'laranxas': 19, 'biscoitos': 3, 'bocadillos': 8}\n",
    "froitas = ['mazás', 'laranxas', 'peras', 'melocotóns', 'kiwis', 'bananas']\n",
    "\n",
    "# iterar pola lista de froitas\n",
    "for froita in froitas:\n",
    "    # se a froita está na cesta da compra, engádese o seu valor (número de unidades) ó resultado\n",
    "    if froita in cesta_compra:\n",
    "        resultado = resultado + cesta_compra[froita]\n",
    "        \n",
    "print(\"Hai {} froitas na cesta da compra.\".format(resultado))"
   ]
  },
  {
   "cell_type": "markdown",
   "id": "26df2f1a",
   "metadata": {},
   "source": [
    "No caso de quere contar tamén o número de artigos da cesta da compra que non son froitas, a adaptación resulta moi sinxela:"
   ]
  },
  {
   "cell_type": "code",
   "execution_count": 69,
   "id": "35f7b49b",
   "metadata": {},
   "outputs": [
    {
     "name": "stdout",
     "output_type": "stream",
     "text": [
      "Hai 23 froitas e 11 cousas que non son froita na cesta da compra\n"
     ]
    }
   ],
   "source": [
    "conta_froitas, conta_non_froitas = 0, 0\n",
    "cesta_compra = {'mazás': 4, 'laranxas': 19, 'biscoitos': 3, 'bocadillos': 8}\n",
    "froitas = ['mazás', 'laranxas', 'peras', 'melocotóns', 'kiwis', 'bananas']\n",
    "\n",
    "# iterar a través do dicionario\n",
    "for item in cesta_compra:\n",
    "    # se o item está na lista de froitas, engádese o valor (número de unidades) que ten na cesta á conta de froitas\n",
    "    if item in froitas:\n",
    "        conta_froitas = conta_froitas + cesta_compra[item]\n",
    "    # en caso contrario, non se trata dunha froita engádese o valor (número de unidades) que ten na cesta á conta de non-froitas\n",
    "    else:\n",
    "        conta_non_froitas = conta_non_froitas + cesta_compra[item]\n",
    "\n",
    "print(\"Hai {} froitas e {} cousas que non son froita na cesta da compra\".format(conta_froitas, conta_non_froitas))"
   ]
  },
  {
   "cell_type": "markdown",
   "id": "6aa57163",
   "metadata": {},
   "source": [
    "- Pero non só é posible iterar a través das chaves dun dicionario usando o bucle `for`, senón que **tamén se pode iterar nun dicionario a través das chaves e valores**.\n",
    "\n",
    "Para elo é necesario o método `.items()` do dicionario que devolve unha tupla por cada par *chave:valor*.\n",
    "\n",
    "A tupla obtida sepárase nun par de variables, neste caso *chave* e *valor*.\n",
    "\n",
    "O bucle `for` permite percorrer tódolos elementos do dicionario."
   ]
  },
  {
   "cell_type": "code",
   "execution_count": 52,
   "id": "c4f89789",
   "metadata": {},
   "outputs": [
    {
     "name": "stdout",
     "output_type": "stream",
     "text": [
      "Iterando a través das chaves:\n",
      "Jerry Seinfeld\n",
      "Julia Louis-Dreyfus\n",
      "Jason Alexander\n",
      "Michael Richards\n",
      "\n",
      "Iterando a través das chaves e valores\n",
      "Actor/Actriz: Jerry Seinfeld    Rol: Jerry Seinfeld\n",
      "Actor/Actriz: Julia Louis-Dreyfus    Rol: Elaine Benes\n",
      "Actor/Actriz: Jason Alexander    Rol: George Costanza\n",
      "Actor/Actriz: Michael Richards    Rol: Cosmo Kramer\n"
     ]
    }
   ],
   "source": [
    "reparto = {\n",
    "           \"Jerry Seinfeld\": \"Jerry Seinfeld\",\n",
    "           \"Julia Louis-Dreyfus\": \"Elaine Benes\",\n",
    "           \"Jason Alexander\": \"George Costanza\",\n",
    "           \"Michael Richards\": \"Cosmo Kramer\"\n",
    "       }\n",
    "\n",
    "print(\"Iterando a través das chaves:\")\n",
    "for chave in reparto:\n",
    "    print(chave)\n",
    "\n",
    "print(\"\\nIterando a través das chaves e valores\")\n",
    "for chave, valor in reparto.items():\n",
    "    print(\"Actor/Actriz: {}    Rol: {}\".format(chave, valor))"
   ]
  },
  {
   "cell_type": "markdown",
   "id": "afe2be02",
   "metadata": {},
   "source": [
    "Aproveitando esta posibilidade de iterar no dicionario a través de chaves e valores para o anterior exemplo de contaxe das froitas da cesta da compra, pódese modifica-lo seu código para aproveitar esta opción:"
   ]
  },
  {
   "cell_type": "code",
   "execution_count": 71,
   "id": "fcb9e24e",
   "metadata": {},
   "outputs": [
    {
     "name": "stdout",
     "output_type": "stream",
     "text": [
      "Hai 23 froitas na cesta da compra.\n"
     ]
    }
   ],
   "source": [
    "resultado = 0\n",
    "cesta_compra = {'mazás': 4, 'laranxas': 19, 'biscoitos': 3, 'bocadillos': 8}\n",
    "froitas = ['mazás', 'laranxas', 'peras', 'melocotóns', 'kiwis', 'bananas']\n",
    "\n",
    "# iterar polo dicionario tomando o elemento e a súa conta\n",
    "for item, conta in cesta_compra.items():\n",
    "    # se o elemento do dicionario está na lista de froitas, engádese o seu valor (número de unidades) ó resultado\n",
    "    if item in froitas:\n",
    "        resultado = resultado + conta\n",
    "\n",
    "print(\"Hai {} froitas na cesta da compra.\".format(resultado))"
   ]
  },
  {
   "cell_type": "markdown",
   "id": "6d520ed7",
   "metadata": {},
   "source": [
    "Por suposto tamén pódese usar esta función par contar tamén o número de artigos da cesta da compra que non son froitas:"
   ]
  },
  {
   "cell_type": "code",
   "execution_count": 73,
   "id": "a57c3e11",
   "metadata": {},
   "outputs": [
    {
     "name": "stdout",
     "output_type": "stream",
     "text": [
      "Hai 23 froitas e 11 cousas que non son froita na cesta da compra\n"
     ]
    }
   ],
   "source": [
    "conta_froitas, conta_non_froitas = 0, 0\n",
    "cesta_compra = {'mazás': 4, 'laranxas': 19, 'biscoitos': 3, 'bocadillos': 8}\n",
    "froitas = ['mazás', 'laranxas', 'peras', 'melocotóns', 'kiwis', 'bananas']\n",
    "\n",
    "# iterar polo dicionario tomando o elemento e a súa conta\n",
    "for item, conta in cesta_compra.items():\n",
    "    # se o elemento do dicionario está na lista de froitas, engádese o seu valor (número de unidades) ó resultado\n",
    "    if item in froitas:\n",
    "        conta_froitas = conta_froitas + conta\n",
    "    # en caso contrario, non se trata dunha froita engádese o valor (número de unidades) que ten na cesta á conta de non-froitas\n",
    "    else:\n",
    "        conta_non_froitas = conta_non_froitas + conta\n",
    "\n",
    "print(\"Hai {} froitas e {} cousas que non son froita na cesta da compra\".format(conta_froitas, conta_non_froitas))"
   ]
  },
  {
   "cell_type": "markdown",
   "id": "7cc91425",
   "metadata": {},
   "source": [
    "### Bucle *while*\n",
    "Os bucles `for` son un exemplo de \"iteración definida\", o que significa que o corpo do bucle execútase un número predefinido de veces. En cambio, un bucle `while` é de \"**iteración indefinida**\". que é cando un bucle se repite un número descoñecido de veces e remata cando se cumpre algunha condición.\n",
    "\n",
    "Normalmente, a instrución `while` utilízase para facer buscas de elementos ou executar un conxunto de accións ata que ocorre un evento. En ambos casos, non se sabe exactamente cantas execucións hai que facer e depende da avaliación dunha expresión lóxica.\n",
    "\n",
    "Esta instrución repite un bloque de código mentres se cumpra unha condición definida nela. Esa condición, do mesmo xeito que pasaba con `if`, vén dada en forma de expresión lóxica. \n",
    "\n",
    "O bloque de instrucións da instrución `while` deixará de executarse cando esa expresión lóxica devolva un `False`. \n",
    "\n",
    "O formato de escritura de `while` é o seguinte:\n",
    "\n",
    "`while (expresión_lóxica):\n",
    "    sentenza_1\n",
    "    sentenza_2\n",
    "    ...`\n",
    "\n",
    "Para face-lo mesmo exemplo que na sentenza `for` de antes\n",
    "\n",
    "Por exemplo, para imprimir unha secuencia de números desde o número 5 ata o número 1, poderíase facer cun bloque `while` que, mentres o número que se está a comprobar sexa maior que 0, se imprima e de seguido se lle reste unha unidade:"
   ]
  },
  {
   "cell_type": "code",
   "execution_count": 4,
   "id": "868289dc",
   "metadata": {
    "scrolled": true
   },
   "outputs": [
    {
     "name": "stdout",
     "output_type": "stream",
     "text": [
      "5\n",
      "4\n",
      "3\n",
      "2\n",
      "1\n"
     ]
    }
   ],
   "source": [
    "numero = 5\n",
    "fin = 0\n",
    "while (numero > fin):\n",
    "    print(numero)\n",
    "    numero -= 1"
   ]
  },
  {
   "cell_type": "markdown",
   "id": "856f0262",
   "metadata": {},
   "source": [
    "Ó igual que na sentenza `for`, pódese incluír unha sentenza `else` que, a diferenza das execucións condicionais, o bloque de instrucións da sentenza `else` executarase sempre cando acaben de executarse as iteracións en while.\n",
    "\n",
    "A sentenza `else` escríbese a continuación das instrucións do bloque `while`.\n",
    "\n",
    "`while (expresión_lóxica):\n",
    "    sentenza_1\n",
    "    sentenza_2\n",
    "    ...\n",
    "else:\n",
    "    sentenza_1\n",
    "    sentenza_2\n",
    "    ...`\n",
    "\n",
    "Continuando co anterior exemplo, pódese imprimir unha mensaxe que indique que se rematou de impprimi-los números. Para iso, inclúese un bloque `else` despois do bloque `while` coa instrución que imprimirá a mensaxe:"
   ]
  },
  {
   "cell_type": "code",
   "execution_count": 5,
   "id": "b96ef894",
   "metadata": {},
   "outputs": [
    {
     "name": "stdout",
     "output_type": "stream",
     "text": [
      "5\n",
      "4\n",
      "3\n",
      "2\n",
      "1\n",
      "Rematada a impresión dos números!\n"
     ]
    }
   ],
   "source": [
    "numero = 5\n",
    "fin = 0\n",
    "while (numero > fin):\n",
    "    print(numero)\n",
    "    numero -= 1\n",
    "else:\n",
    "    print(\"Rematada a impresión dos números!\")"
   ]
  },
  {
   "cell_type": "markdown",
   "id": "fc6396a4",
   "metadata": {},
   "source": [
    "## Sentenzas extra: *break* e *continue*\n",
    "Hai un par de sentenzas que permiten modifica-la execución dos bucles. Estas sentencias pódense utilizar\n",
    "tanto nos bucles `while` como nos bucles `for`."
   ]
  },
  {
   "cell_type": "markdown",
   "id": "56f52f73",
   "metadata": {},
   "source": [
    "### break\n",
    "Esta sentenza rompe a execución do bucle no momento en que se execute."
   ]
  },
  {
   "cell_type": "code",
   "execution_count": 13,
   "id": "d15f2030",
   "metadata": {},
   "outputs": [
    {
     "name": "stdout",
     "output_type": "stream",
     "text": [
      "0\n",
      "1\n",
      "2\n",
      "3\n",
      "4\n",
      "Rotura do bucle!\n"
     ]
    }
   ],
   "source": [
    "numeros = list(range(10))\n",
    "for n in numeros:\n",
    "    if (n == 5):\n",
    "        print('Rotura do bucle!')\n",
    "        break\n",
    "    print(n)\n",
    "# A secuencia de execución sería: 0, 1, 2, 3, 4, Rotura do bucle!"
   ]
  },
  {
   "cell_type": "markdown",
   "id": "cb204beb",
   "metadata": {},
   "source": [
    "### Continue\n",
    "Esta sentenza permite saltarnos unha iteración do bucle sen que se rompa a execución final."
   ]
  },
  {
   "cell_type": "code",
   "execution_count": 14,
   "id": "44ce413e",
   "metadata": {},
   "outputs": [
    {
     "name": "stdout",
     "output_type": "stream",
     "text": [
      "0\n",
      "1\n",
      "2\n",
      "3\n",
      "4\n",
      "Saltámonos unha volta!\n",
      "6\n",
      "7\n",
      "8\n",
      "9\n"
     ]
    }
   ],
   "source": [
    "numeros = list(range(10))\n",
    "for n in numeros:\n",
    "    if (n == 5):\n",
    "        print('Saltámonos unha volta!')\n",
    "        continue\n",
    "    print(n)\n",
    "# A secuencia de execución sería: 0, 1, 2, 3, 4, Saltámonos unha volta!,6, 7, 8, 9"
   ]
  },
  {
   "cell_type": "markdown",
   "id": "6e5ba5da",
   "metadata": {},
   "source": [
    "## Iteradores\n",
    "Outra forma de percorre-los elementos dun obxecto en Python é utilizando iteradores. Un iterador é un obxecto que, ó aplicalo sobre outro obxecto iterable, como son as cadenas de texto ou os conxuntos, permítenos obte-lo seguiente elemento por visitar.\n",
    "\n",
    "Para crear un iterador sobre un obxecto usamo-la instrución `iter(obxecto)` e llo asignamos a unha variable. \n",
    "\n",
    "Unha vez creado, podemos visita-los elementos do *obxecto* coa función `next()` e pasando por parámetro o identificador do iterador."
   ]
  },
  {
   "cell_type": "code",
   "execution_count": 15,
   "id": "fa905e31",
   "metadata": {},
   "outputs": [
    {
     "data": {
      "text/plain": [
       "'O'"
      ]
     },
     "execution_count": 15,
     "metadata": {},
     "output_type": "execute_result"
    }
   ],
   "source": [
    "cadea = 'Ola Mundo!'\n",
    "iterador = iter(cadea)\n",
    "next(iterador) # devolve 'O'"
   ]
  },
  {
   "cell_type": "code",
   "execution_count": 16,
   "id": "4e1cd183",
   "metadata": {},
   "outputs": [
    {
     "data": {
      "text/plain": [
       "'l'"
      ]
     },
     "execution_count": 16,
     "metadata": {},
     "output_type": "execute_result"
    }
   ],
   "source": [
    "next(iterador) # devolve 'l'"
   ]
  },
  {
   "cell_type": "code",
   "execution_count": 17,
   "id": "30ad1471",
   "metadata": {},
   "outputs": [
    {
     "data": {
      "text/plain": [
       "'!'"
      ]
     },
     "execution_count": 17,
     "metadata": {},
     "output_type": "execute_result"
    }
   ],
   "source": [
    "next(iterador) # devolve 'a'\n",
    "next(iterador) # devolve ' '\n",
    "next(iterador) # devolve 'M'\n",
    "next(iterador) # devolve 'u'\n",
    "next(iterador) # devolve 'n'\n",
    "next(iterador) # devolve 'd'\n",
    "next(iterador) # devolve 'o'\n",
    "next(iterador) # devolve '!'"
   ]
  },
  {
   "cell_type": "code",
   "execution_count": 18,
   "id": "a9d8bd63",
   "metadata": {},
   "outputs": [
    {
     "ename": "StopIteration",
     "evalue": "",
     "output_type": "error",
     "traceback": [
      "\u001b[0;31m---------------------------------------------------------------------------\u001b[0m",
      "\u001b[0;31mStopIteration\u001b[0m                             Traceback (most recent call last)",
      "Input \u001b[0;32mIn [18]\u001b[0m, in \u001b[0;36m<cell line: 1>\u001b[0;34m()\u001b[0m\n\u001b[0;32m----> 1\u001b[0m \u001b[38;5;28;43mnext\u001b[39;49m\u001b[43m(\u001b[49m\u001b[43miterador\u001b[49m\u001b[43m)\u001b[49m\n",
      "\u001b[0;31mStopIteration\u001b[0m: "
     ]
    }
   ],
   "source": [
    "next(iterador) # devolve erro unha vez agotados os elementos"
   ]
  }
 ],
 "metadata": {
  "kernelspec": {
   "display_name": "Python 3 (ipykernel)",
   "language": "python",
   "name": "python3"
  },
  "language_info": {
   "codemirror_mode": {
    "name": "ipython",
    "version": 3
   },
   "file_extension": ".py",
   "mimetype": "text/x-python",
   "name": "python",
   "nbconvert_exporter": "python",
   "pygments_lexer": "ipython3",
   "version": "3.9.12"
  }
 },
 "nbformat": 4,
 "nbformat_minor": 5
}
