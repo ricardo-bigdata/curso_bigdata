{
 "cells": [
  {
   "cell_type": "markdown",
   "id": "46d66e97",
   "metadata": {},
   "source": [
    "# 07 Erros e excepcións\n",
    "## Contidos\n",
    "\n",
    "- Erros\n",
    "- Excepcións\n",
    "  - Bloque else\n",
    "  - Bloque finally\n",
    "- Lanzar erros"
   ]
  },
  {
   "cell_type": "markdown",
   "id": "20aabee9",
   "metadata": {},
   "source": [
    "## Erros\n",
    "\n",
    "Ó executar un programa, poden ocorrer *erros de execución* que, normalmente, deteñen a execución do programa e amosan unha mensaxe na consola, onde se nos indica o tipo de erro ocorrido e en que parte do código. Hai moitos posibles erros pero os 4 máis habituais son os seguintes."
   ]
  },
  {
   "cell_type": "markdown",
   "id": "61a1fad3",
   "metadata": {},
   "source": [
    "- Erros de tipo de datos\n",
    "\n",
    "Prodúcense cando non se pode realizar unha operación porque o tipo de datos dalgún dos elementos non é válido."
   ]
  },
  {
   "cell_type": "code",
   "execution_count": 5,
   "id": "0e7e0fdb",
   "metadata": {},
   "outputs": [
    {
     "ename": "TypeError",
     "evalue": "can only concatenate str (not \"int\") to str",
     "output_type": "error",
     "traceback": [
      "\u001b[0;31m---------------------------------------------------------------------------\u001b[0m",
      "\u001b[0;31mTypeError\u001b[0m                                 Traceback (most recent call last)",
      "Input \u001b[0;32mIn [5]\u001b[0m, in \u001b[0;36m<cell line: 3>\u001b[0;34m()\u001b[0m\n\u001b[1;32m      1\u001b[0m texto \u001b[38;5;241m=\u001b[39m \u001b[38;5;124m'\u001b[39m\u001b[38;5;124mOla Mundo!\u001b[39m\u001b[38;5;124m'\u001b[39m\n\u001b[1;32m      2\u001b[0m numero \u001b[38;5;241m=\u001b[39m \u001b[38;5;241m1\u001b[39m\n\u001b[0;32m----> 3\u001b[0m \u001b[43mtexto\u001b[49m\u001b[43m \u001b[49m\u001b[38;5;241;43m+\u001b[39;49m\u001b[43m \u001b[49m\u001b[43mnumero\u001b[49m\n",
      "\u001b[0;31mTypeError\u001b[0m: can only concatenate str (not \"int\") to str"
     ]
    }
   ],
   "source": [
    "texto = 'Ola Mundo!'\n",
    "numero = 1\n",
    "texto + numero"
   ]
  },
  {
   "cell_type": "markdown",
   "id": "527be63e",
   "metadata": {},
   "source": [
    "Neste caso, Python devolve un erro de tipo `TypeError` , é dicir, un erro asociado ós tipos de datos. O erro produciuse exactamente na terceira liña e, ademais, amosa unha mensaxe que explica por que se produciu ese erro: que neste caso, Python indica que só se poden concatenar tipos string, non enteiros, que é o que estamos a tentar facer coa instrución."
   ]
  },
  {
   "cell_type": "markdown",
   "id": "756e9208",
   "metadata": {},
   "source": [
    "- Erros de sintaxe\n",
    "\n",
    "Prodúcense cando unha sentenza ou instrución non está ben escrita e Python indica que temos un erro na sintaxe da\n",
    "sentenza devolvendo un erro de tipo `SyntaxError`. Por exemplo, non pechar unha paréntese:"
   ]
  },
  {
   "cell_type": "code",
   "execution_count": 6,
   "id": "7314fe1e",
   "metadata": {},
   "outputs": [
    {
     "ename": "SyntaxError",
     "evalue": "unexpected EOF while parsing (1174991802.py, line 1)",
     "output_type": "error",
     "traceback": [
      "\u001b[0;36m  Input \u001b[0;32mIn [6]\u001b[0;36m\u001b[0m\n\u001b[0;31m    print(texto\u001b[0m\n\u001b[0m               ^\u001b[0m\n\u001b[0;31mSyntaxError\u001b[0m\u001b[0;31m:\u001b[0m unexpected EOF while parsing\n"
     ]
    }
   ],
   "source": [
    "print(texto"
   ]
  },
  {
   "cell_type": "markdown",
   "id": "75c87a7f",
   "metadata": {},
   "source": [
    "- Erros de nome\n",
    "\n",
    "Prodúcense cando chamamos a un identificador que Python non sabe cal é, e devolve un erro de tipo `NameError`. Por exemplo, se escribimos mal un identificador ou introducimos unha función que non declaramos anteriormente:"
   ]
  },
  {
   "cell_type": "code",
   "execution_count": 7,
   "id": "75342e5e",
   "metadata": {},
   "outputs": [
    {
     "ename": "NameError",
     "evalue": "name 'area_rectangulo' is not defined",
     "output_type": "error",
     "traceback": [
      "\u001b[0;31m---------------------------------------------------------------------------\u001b[0m",
      "\u001b[0;31mNameError\u001b[0m                                 Traceback (most recent call last)",
      "Input \u001b[0;32mIn [7]\u001b[0m, in \u001b[0;36m<cell line: 1>\u001b[0;34m()\u001b[0m\n\u001b[0;32m----> 1\u001b[0m \u001b[43marea_rectangulo\u001b[49m(\u001b[38;5;241m4\u001b[39m,\u001b[38;5;241m2\u001b[39m)\n",
      "\u001b[0;31mNameError\u001b[0m: name 'area_rectangulo' is not defined"
     ]
    }
   ],
   "source": [
    "area_rectangulo(4,2)"
   ]
  },
  {
   "cell_type": "markdown",
   "id": "16943b71",
   "metadata": {},
   "source": [
    "- Erros de índice\n",
    "\n",
    "Prodúcense cando traballamos con secuencias, como listas, e tentamos acceder a unha posición que non existe, polo que se devolve un erro de tipo `IndexError`. Por exemplo, se tentamos acceder á primeira posición dunha lista baleira:"
   ]
  },
  {
   "cell_type": "code",
   "execution_count": 8,
   "id": "d43edd1a",
   "metadata": {},
   "outputs": [
    {
     "ename": "IndexError",
     "evalue": "list index out of range",
     "output_type": "error",
     "traceback": [
      "\u001b[0;31m---------------------------------------------------------------------------\u001b[0m",
      "\u001b[0;31mIndexError\u001b[0m                                Traceback (most recent call last)",
      "Input \u001b[0;32mIn [8]\u001b[0m, in \u001b[0;36m<cell line: 2>\u001b[0;34m()\u001b[0m\n\u001b[1;32m      1\u001b[0m listaxe \u001b[38;5;241m=\u001b[39m []\n\u001b[0;32m----> 2\u001b[0m \u001b[43mlistaxe\u001b[49m\u001b[43m[\u001b[49m\u001b[38;5;241;43m2\u001b[39;49m\u001b[43m]\u001b[49m\n",
      "\u001b[0;31mIndexError\u001b[0m: list index out of range"
     ]
    }
   ],
   "source": [
    "listaxe = []\n",
    "listaxe[2]"
   ]
  },
  {
   "cell_type": "markdown",
   "id": "d1c686c3",
   "metadata": {},
   "source": [
    "## Excepcións\n",
    "\n",
    "Para algúns erros é interesante que remate a execución, xa que son erros críticos que imposibilitan continuar co programa, pero, noutras ocasións, pode que un erro de certo tipo ocorra nalgún momento e non queremos que remate a execución do programa. Para poder facer isto utilízanse as excepcións. \n",
    "\n",
    "Unha excepción é un bloque de código que se executará cando se detecte un erro dalgún tipo e, despois, poderase seguir executando o programa. Para poder facer isto, é necesario utiliza-los bloques `try` xunto cos bloques de código `except` . O esquema do código quedaría da seguinte maneira:\n",
    "\n",
    "`try:\n",
    "    bloque_con_posibles_erros\n",
    "except:\n",
    "    bloque_de_excepción`\n",
    "\n",
    "En primeiro lugar, úsase a sentenza `try` e, a continuación, escríbese o bloque de instrucións no que sabemos que pode ocorrer un erro. A continuación, e ca mesma sangría que a sentenza `try`, escribimo-la sentenza `except` seguido do bloque de instrucións que se executará cando ocorra un erro no bloque `try`.\n",
    "\n",
    "No seguinte exemplo observamo-lo seu funcionamento:"
   ]
  },
  {
   "cell_type": "code",
   "execution_count": 15,
   "id": "68128f96",
   "metadata": {},
   "outputs": [
    {
     "name": "stdout",
     "output_type": "stream",
     "text": [
      "Non existe esa posición!!!\n",
      "A execución do programa continúa\n"
     ]
    }
   ],
   "source": [
    "lista = [1, 2, 3, 4, 5]\n",
    "try:\n",
    "    print(lista[10])\n",
    "except:\n",
    "    print(\"Non existe esa posición!!!\")\n",
    "print(\"A execución do programa continúa\")"
   ]
  },
  {
   "cell_type": "markdown",
   "id": "f3022509",
   "metadata": {},
   "source": [
    "No código do exemplo accédese á posición dunha lista, pero quérese executar unha excepción se esa posición non existe: nesa excepción amósase unha mensaxe, pero logo seguirá coa execución do programa. O sistema amosará as\n",
    "seguintes mensaxes ó executarse:\n",
    "\n",
    "`Non existe esa posición\n",
    "Sigo coa execución`\n",
    "\n",
    "Polo tanto como se detectou un erro (neste caso un erro de índice) executouse a instrución que aparece no bloque `except` e a continuación, seguiuse coa execución do programa.\n",
    "\n",
    "\n",
    "É posible crear máis dun bloque `except` para que permitir executar diferentes bloques de código para diferentes tipos de erros; para iso incluirase o tipo de erro. \n",
    "\n",
    "No seguinte exemplo, prepáranse diferentes bloques para diferentes tipos de erros:"
   ]
  },
  {
   "cell_type": "code",
   "execution_count": 14,
   "id": "9ad0d211",
   "metadata": {},
   "outputs": [
    {
     "name": "stdout",
     "output_type": "stream",
     "text": [
      "Non existe esa posición!!\n",
      "A execución do programa continúa\n"
     ]
    }
   ],
   "source": [
    "lista = [1, 2, 3, 4, 5]\n",
    "try:\n",
    "    print(lista[10])\n",
    "except IndexError:\n",
    "    print(\"Non existe esa posición!!\")\n",
    "except TypeError:\n",
    "    print(\"O tipo da operación é erróneo\")\n",
    "except:\n",
    "    print(\"Ocorreu outro erro\")\n",
    "print(\"A execución do programa continúa\")"
   ]
  },
  {
   "cell_type": "markdown",
   "id": "9fc066cf",
   "metadata": {},
   "source": [
    "Neste exemplo inclúese unha sentenza `except` final, sen definir o tipo de erro, cuio bloque executarase se ocorreu un erro, pero non se executou ningún dos outros bloques `except`."
   ]
  },
  {
   "cell_type": "markdown",
   "id": "43038c50",
   "metadata": {},
   "source": [
    "### Bloque else\n",
    "Á estrutura `try - except` pódenselle incluír máis tipos de bloques, como veremos a continuación.\n",
    "Igual que podemos executar bloques cando se detectou un erro, tamén\n",
    "podemos executar outro bloque de código cando non houbo ningún erro. Para iso\n",
    "usamos o bloque else :\n",
    "try:\n",
    "bloque_con_posibles_erros\n",
    "except:\n",
    "bloque_de_excepcion\n",
    "else:\n",
    "bloque_else\n",
    "Imos ampliar o exemplo anterior para que, no caso de que non se detectou\n",
    "ningún erro, móstrese outra mensaxe. Para iso tamén cambiaremos a posición á\n",
    "que accedemos.\n",
    "\n",
    "lista = [2, 3, 4]\n",
    "try:\n",
    "print(lista[2])\n",
    "except:\n",
    "print(\"Non existe esa posición\")\n",
    "else:\n",
    "print(\"Está perfecto\")\n",
    "print(\"Sigo coa execución\")\n",
    "Neste exemplo, a consola de Python devolveranos o seguinte resultado:\n",
    "4\n",
    "Está perfecto\n",
    "Sigo coa execución\n",
    "En primeiro lugar, devólvenos o valor que hai na illa na posición 2. A continuación,\n",
    "como non houbo ningún erro, executa o bloque da sentenza\n",
    "else , que neste caso é unha mensaxe dicindo que está perfecto. Por último, continua\n",
    "coa execución do sistema.\n",
    "Bloque finally\n",
    "Outro tipo de bloque que se pode incluír na estrutura try - except é o bloque\n",
    "finally . Este bloque execútase sempre, houbese ou non un erro no bloque try .\n",
    "A estrutura completa try - except con todos os bloques sería como se mostra a continuación:\n",
    "\n",
    "try:\n",
    "bloque_con_posibles_erros\n",
    "except:\n",
    "bloque_de_excepcion\n",
    "else:\n",
    "bloque_else\n",
    "finally:\n",
    "bloque_finally\n",
    "Ampliaremos o exemplo anterior engadindo un bloque finally que imprima unha\n",
    "mensaxe onde se nos indique que terminamos de executar o bloque try -\n",
    "except :\n",
    "lista = [2, 3, 4]\n",
    "try:\n",
    "print(lista[2])\n",
    "except:\n",
    "print(\"Non existe esa posición\")\n",
    "else:\n",
    "print(\"Está perfecto\")\n",
    "finally:\n",
    "print(\"Terminamos o bloque try-except\")\n",
    "print(\"Sigo coa execución\")\n",
    "O resultado de executar este exemplo será o seguinte:\n",
    "4\n",
    "Está perfecto\n",
    "Terminamos o bloque try-except\n",
    "Sigo coa execución\n",
    "O bloque finally utilízase moito para pechar ficheiros ou conexións a bases de datos,\n",
    "produciuse ou non un erro, para asegurarnos que pechamos dita conexión."
   ]
  },
  {
   "cell_type": "code",
   "execution_count": null,
   "id": "e96dcd79",
   "metadata": {},
   "outputs": [],
   "source": []
  }
 ],
 "metadata": {
  "kernelspec": {
   "display_name": "Python 3 (ipykernel)",
   "language": "python",
   "name": "python3"
  },
  "language_info": {
   "codemirror_mode": {
    "name": "ipython",
    "version": 3
   },
   "file_extension": ".py",
   "mimetype": "text/x-python",
   "name": "python",
   "nbconvert_exporter": "python",
   "pygments_lexer": "ipython3",
   "version": "3.9.13"
  }
 },
 "nbformat": 4,
 "nbformat_minor": 5
}
