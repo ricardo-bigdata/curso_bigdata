{
 "cells": [
  {
   "cell_type": "markdown",
   "id": "7ccfb399",
   "metadata": {},
   "source": [
    "# Sintaxe\n"
   ]
  },
  {
   "cell_type": "markdown",
   "id": "020b712f",
   "metadata": {},
   "source": [
    "Documentación oficial de Python en: https://www.python.org/doc/\n",
    "\n",
    "Pero, antes de nada, un saúdo... Ola Mundo!"
   ]
  },
  {
   "cell_type": "code",
   "execution_count": 3,
   "id": "1274dbae",
   "metadata": {},
   "outputs": [
    {
     "name": "stdout",
     "output_type": "stream",
     "text": [
      "Ola Mundo!\n"
     ]
    }
   ],
   "source": [
    "# para imprimir por pantalla unha cadea de texto úsase a función print()\n",
    "print('Ola Mundo!')"
   ]
  },
  {
   "cell_type": "markdown",
   "id": "edbc9209",
   "metadata": {},
   "source": [
    "## Identificadores\n",
    "\n",
    "Os identificadores son nomes que asignaremos a elementos, como funcións, variables, etc., para facerlles referencia máis adiante no código. \n",
    "Os identificadores seguen as seguintes regras:\n",
    "- Poden ser unha combinación de números (0-9), letras maiúsculas (A-Z), letras minúsculas (a-z) e o símbolo de guion baixo (_).\n",
    "- Non poden comezar por un díxito.\n",
    "- Non poden utilizarse símbolos especiais: @, !, #, etc.\n",
    "- Poden ter calquera lonxitude.\n",
    "\n",
    "Python distingue as maiúsculas das minúsculas, polo tanto, se tivesemos os identificadores identificador e IDENTIFICADOR , Python consideraríaos identificadores diferentes"
   ]
  },
  {
   "cell_type": "code",
   "execution_count": null,
   "id": "8309c320",
   "metadata": {},
   "outputs": [],
   "source": [
    "# Identificadores correctos\n",
    "variable = 1\n",
    "print(\"variable: \", variable)\n",
    "outra_variable = 'Otra'\n",
    "print(\"outra_variable: \", outra_variable)\n",
    "_mais_variables = [1, 3, 4]\n",
    "print(\"_maisvariables: \", _mais_variables)\n",
    "Variable_2 = True\n",
    "print(\"Variable_2: \", Variable_2)"
   ]
  },
  {
   "cell_type": "code",
   "execution_count": 3,
   "id": "28614542",
   "metadata": {},
   "outputs": [
    {
     "ename": "SyntaxError",
     "evalue": "invalid decimal literal (1295555892.py, line 2)",
     "output_type": "error",
     "traceback": [
      "\u001b[0;36m  Input \u001b[0;32mIn [3]\u001b[0;36m\u001b[0m\n\u001b[0;31m    1_variable = 'Está mal'\u001b[0m\n\u001b[0m     ^\u001b[0m\n\u001b[0;31mSyntaxError\u001b[0m\u001b[0;31m:\u001b[0m invalid decimal literal\n"
     ]
    }
   ],
   "source": [
    "# Identificadores incorrectos\n",
    "1_variable = 'Está mal'"
   ]
  },
  {
   "cell_type": "code",
   "execution_count": 4,
   "id": "52ebe3a6",
   "metadata": {},
   "outputs": [
    {
     "ename": "SyntaxError",
     "evalue": "cannot assign to operator (948236249.py, line 1)",
     "output_type": "error",
     "traceback": [
      "\u001b[0;36m  Input \u001b[0;32mIn [4]\u001b[0;36m\u001b[0m\n\u001b[0;31m    variable-s = 12\u001b[0m\n\u001b[0m    ^\u001b[0m\n\u001b[0;31mSyntaxError\u001b[0m\u001b[0;31m:\u001b[0m cannot assign to operator\n"
     ]
    }
   ],
   "source": [
    "variable-s = 12"
   ]
  },
  {
   "cell_type": "markdown",
   "id": "c422887d",
   "metadata": {},
   "source": [
    "## Palabras reservadas\n",
    "Python, como todas as linguaxes de programación, ten un conxunto de palabras reservadas que non se poden utilizar como identificadores. Esta lista de palabras reservadas é a seguinte:\n",
    "and, assert, break, class, continue, def, del, elif, else, except, exec, finally, for, from, global, if, import, in, is, lambda, not, or, pass, print, raise, return, try, while, with, yield\n"
   ]
  },
  {
   "cell_type": "code",
   "execution_count": 1,
   "id": "69e5c8e4",
   "metadata": {},
   "outputs": [
    {
     "name": "stdout",
     "output_type": "stream",
     "text": [
      "\n",
      "Here is a list of the Python keywords.  Enter any keyword to get more help.\n",
      "\n",
      "False               break               for                 not\n",
      "None                class               from                or\n",
      "True                continue            global              pass\n",
      "__peg_parser__      def                 if                  raise\n",
      "and                 del                 import              return\n",
      "as                  elif                in                  try\n",
      "assert              else                is                  while\n",
      "async               except              lambda              with\n",
      "await               finally             nonlocal            yield\n",
      "\n"
     ]
    }
   ],
   "source": [
    "help(\"keywords\")"
   ]
  },
  {
   "cell_type": "markdown",
   "id": "e3a36c33",
   "metadata": {},
   "source": [
    "## Comentarios\n",
    "\n",
    "Os comentarios son partes do código que o intérprete de Python non executa usados para escribir aclaracións no código.\n",
    "En Python hai dúas sintaxe diferente para escribi-los comentarios:\n",
    "- Comentarios de liña: para aqueles comentarios que só ocupen unha liña utilízase o símbolo **#** ó principio da mesma.\n",
    "- Comentarios de bloque: para os comentarios que ocupen máis dunha liña utilízanse  triplas comiñas (simples ou dobres) ó principio e ó final do comentario."
   ]
  },
  {
   "cell_type": "code",
   "execution_count": 17,
   "id": "8ed1a911",
   "metadata": {},
   "outputs": [
    {
     "name": "stdout",
     "output_type": "stream",
     "text": [
      "un comentario tras a almofadiña #\n",
      "outro comentario logo de triples comiñas \"\"\"\n",
      "Con comiñas simples ''' tamén se poden facer comentarios multiliña\n",
      "Et voilà, up\n"
     ]
    }
   ],
   "source": [
    "# Exemplo de comentario de liña.\n",
    "print(\"un comentario tras a almofadiña #\")\n",
    "\n",
    "\"\"\"Exemplo de comentario multiliña. \n",
    "Tódalas liñas pertencen ó comentario.\n",
    "\"\"\"\n",
    "print(\"outro comentario logo de triples comiñas \\\"\\\"\\\"\")\n",
    "\n",
    "'''Pide al usuario que ingrese el primer nombre de un estudiante en clase\n",
    "    hasta que se ingrese una string vacía. Luego la función imprime el número \n",
    "    de estudiantes con cada nombre que se ingresó.\n",
    "'''\n",
    "print(\"Con comiñas simples \\'\\'\\' tamén se poden facer comentarios multiliña\")\n",
    "'''\n",
    "Outro exemplo\n",
    "de comentario de bloque\n",
    "'''\n",
    "print('Et voilà, up')"
   ]
  },
  {
   "cell_type": "markdown",
   "id": "ac9bda53",
   "metadata": {},
   "source": [
    "## Sangría\n",
    "Python a diferencia doutras linguaxes, como C ou Java, non utiliza chaves ({,}) para diferenciar bloques de código.\n",
    "En Python utilízase a sangría de bloques, é dicir, facer unha separación cara á dereita do código que pertence a un bloque. Esta sangría está determinada por 4 espazos segundo a guía de estilos PEP 8 https://peps.python.org/pep-0008/.\n",
    "\n",
    "Esta forma de definir os bloques de código fai que o código sexa máis lexible. Con todo, ó ser obrigatorio, pode levar a erros de execución se non se fixo a sangría correctamente. \n",
    "\n",
    "A continuación, vemos un exemplo de como funciona a\n",
    "sangría dentro dun bloque if.\n",
    "\n"
   ]
  },
  {
   "cell_type": "code",
   "execution_count": 22,
   "id": "93e0c231",
   "metadata": {},
   "outputs": [
    {
     "name": "stdout",
     "output_type": "stream",
     "text": [
      "Aquí vai o código a executar, \n",
      "que, por suposto, ten unha sangría de 4 espazos, \n",
      "para que non dea un erro durante a execución.\n"
     ]
    }
   ],
   "source": [
    "# Exemplo dunha sangría nun bloque if:\n",
    "variable = 1\n",
    "if (variable == 1):\n",
    "    print(\"Aquí vai o código a executar, \")\n",
    "    print(\"que, por suposto, ten unha sangría de 4 espazos, \")\n",
    "    print(\"para que non dea un erro durante a execución.\")"
   ]
  },
  {
   "cell_type": "markdown",
   "id": "faa96356",
   "metadata": {},
   "source": [
    "## Almacenamento de valores: variables e constantes\n",
    "En calquera linguaxe de programación son necesarios elementos que nos permitan almacenar valores para usalos máis\n",
    "adiante no programa."
   ]
  },
  {
   "cell_type": "markdown",
   "id": "137e9723",
   "metadata": {},
   "source": [
    "### Variables\n",
    "Unha variable é un identificador ó que lle asignaremos un valor e, máis tarde, chamando a ese identificador poderase consulta-lo valor.\n",
    "En Python a creación dunha variable faise a través dunha asignación. A asignación faixe escribindo o nome dun identificador, seguido do símbolo **=** e o valor que desexamos almacenar na variable:\n",
    "\n",
    "`identificador = valor`\n",
    "\n",
    "A diferenza doutras linguaxes, non é necesario definir o tipo de dato que almacenará a variable, porque Python infere este tipo no momento de executa-la asignación e asignaralle o tipo de dato que mellor se adapte ó valor que\n",
    "asignasemos. \n",
    "\n",
    "Por exemplo, se asignamos a unha variable o valor ‘Ola mundo!’, esta variable será de tipo cadea de texto. \n",
    "\n",
    "Ademais, unha mesma variable pode almacenar diferentes tipos de datos durante a execución.\n",
    "\n",
    "Para preguntar que tipo de dato almacenou unha variable, usaremos a función `type()`"
   ]
  },
  {
   "cell_type": "code",
   "execution_count": 24,
   "id": "ed4b1dba",
   "metadata": {},
   "outputs": [
    {
     "data": {
      "text/plain": [
       "int"
      ]
     },
     "execution_count": 24,
     "metadata": {},
     "output_type": "execute_result"
    }
   ],
   "source": [
    "# Exemplo de variable\n",
    "num = 52\n",
    "type(num) # Devolve int"
   ]
  },
  {
   "cell_type": "code",
   "execution_count": 25,
   "id": "c92a6d56",
   "metadata": {},
   "outputs": [
    {
     "data": {
      "text/plain": [
       "str"
      ]
     },
     "execution_count": 25,
     "metadata": {},
     "output_type": "execute_result"
    }
   ],
   "source": [
    "# Exemplo de variable\n",
    "saudo = 'Ola! Que-ase?'\n",
    "type(saudo) # Devolve str"
   ]
  },
  {
   "cell_type": "code",
   "execution_count": null,
   "id": "05c73629",
   "metadata": {},
   "outputs": [],
   "source": [
    "### Constantes\n",
    "Unha constante é un tipo de variable cuxo valor non pode ser modificado durante toda a execución do programa. \n",
    "Adóitase utilizar para almacenar valores que necesitaremos ter dispoñibles ó longo da execución.\n",
    "\n",
    "En Python non existe ningunha palabra reservada que nos permita definir unha constante. Con todo, existen dúas posibles solucións para declarar constantes.\n",
    "\n",
    "Unha delas é utilizar unha variable, escribindo o identificador en maiúsculas para que saibamos que esa variable non pode ser modificada. \n",
    "Esta solución refírese ós estilos e teremos que estar pendentes de que esa constante nunca cambia de valor.\n"
   ]
  },
  {
   "cell_type": "code",
   "execution_count": 3,
   "id": "ee4c03cf",
   "metadata": {},
   "outputs": [
    {
     "name": "stdout",
     "output_type": "stream",
     "text": [
      "O prezo total é: 302.5\n"
     ]
    }
   ],
   "source": [
    "# Exemplo de constantes:\n",
    "IVA = 0.21\n",
    "prezo = 250\n",
    "prezo_total = prezo + (prezo * IVA)\n",
    "print(\"O prezo total é:\", prezo_total)"
   ]
  },
  {
   "cell_type": "markdown",
   "id": "bdd32d5c",
   "metadata": {},
   "source": [
    "Outra solución moi usada é crear un script de Python, accesible dende o noso proxecto, onde se almacenen tóda-las constantes, de seguido importamos ese script coa instrución `import` para poder chamar a esas constantes."
   ]
  },
  {
   "cell_type": "code",
   "execution_count": 4,
   "id": "c7ca871b",
   "metadata": {},
   "outputs": [
    {
     "name": "stdout",
     "output_type": "stream",
     "text": [
      "O prezo total é: 302.5\n"
     ]
    }
   ],
   "source": [
    "# Importamo-lo ficheiro de constantes, que se atopa no mesmo cartalfol que este notebook e que se chama Constantes.py.\n",
    "import Constantes\n",
    "prezo = 250\n",
    "prezo_total = prezo + (prezo * Constantes.IVA)\n",
    "print(\"O prezo total é:\", prezo_total)"
   ]
  },
  {
   "cell_type": "markdown",
   "id": "79d82fe3",
   "metadata": {},
   "source": [
    "\n",
    "\n",
    "Tipos de datos e operadores\n",
    "\n",
    "Datos numéricos\n",
    "\n",
    "Operadores aritméticos\n",
    "\n",
    "Operadores de asignación\n",
    "\n",
    "Operadores de bits\n",
    "\n",
    "Datos booleanos\n",
    "\n",
    "Operadores lóxicos\n",
    "\n",
    "Operadores de comparación\n",
    "\n",
    "Cadea de caracteres\n",
    "\n",
    "Operadores de cadeas de texto\n",
    "\n",
    "Tipo None\n",
    "\n",
    "Transformación de datos"
   ]
  }
 ],
 "metadata": {
  "kernelspec": {
   "display_name": "Python 3 (ipykernel)",
   "language": "python",
   "name": "python3"
  },
  "language_info": {
   "codemirror_mode": {
    "name": "ipython",
    "version": 3
   },
   "file_extension": ".py",
   "mimetype": "text/x-python",
   "name": "python",
   "nbconvert_exporter": "python",
   "pygments_lexer": "ipython3",
   "version": "3.9.13"
  }
 },
 "nbformat": 4,
 "nbformat_minor": 5
}
