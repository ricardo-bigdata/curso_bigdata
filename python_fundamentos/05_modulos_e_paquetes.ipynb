{
 "cells": [
  {
   "cell_type": "markdown",
   "id": "f99cbc93",
   "metadata": {},
   "source": [
    "# 05 Módulos e paquetes\n",
    "## Contidos\n",
    "\n",
    "- Módulos\n",
    "    - Creación de módulos\n",
    "    - Importación de módulos\n",
    "- Paquetes\n",
    "    - Creación de paquetes\n",
    "    - Importación de paquetes\n",
    "    - Importación de módulos de paquetes\n",
    "- Documentar módulos e paquetes"
   ]
  },
  {
   "cell_type": "markdown",
   "id": "f2eb3f98",
   "metadata": {},
   "source": [
    "---"
   ]
  },
  {
   "cell_type": "markdown",
   "id": "3082990a",
   "metadata": {},
   "source": [
    "O uso de módulos e paquetes **permite organiza-lo código en diferentes scripts e, ademais, crear unha organización de cartafois para almacenar cada un destes scripts**. \n",
    "\n",
    "En proxectos grandes é necesario dividi-lo código en diferentes scripts para organizalo. O máis normal é organiza-lo código en scripts que teñan funcións ou variables cunha mesma funcionalidade.\n",
    "\n",
    "Os ***módulos*** son cada un dos ficheiros `.py` que creamos nun proxecto. Estes ficheiros conteñen elementos como variables ou funcións, e clases. \n",
    "\n",
    "E un ***paquete*** é, basicamente, un cartafol que contén varios módulos.\n",
    "\n",
    "Dividi-lo código en módulos permítenos organizar un conxunto de elementos pola súa funcionalidade.\n",
    "\n",
    "\n",
    "Outra forma de organización do código é utiliza-la programación orientada a obxectos para encapsula-la información en obxectos e crear diferentes operacións que nos permitan traballar con eles."
   ]
  },
  {
   "cell_type": "markdown",
   "id": "35c15173",
   "metadata": {},
   "source": [
    "## Módulos\n",
    "Traballando dende o intérprete de Python as definicións que se fagan (funcións e variables) pérdense en canto se sae do mesmo e se volve a entrar. Polo tanto, para escribir programas é mellor utilizar un editor de texto para redacta-lo código e executalo con ese arquivo como entrada para o intérprete; a isto chámaselle ***crear un script***. \n",
    "\n",
    "A medida que un programa creza, pode ser necesario separalo en varios arquivos para que o mantemento sexa máis sinxelo. \n",
    "\n",
    "E tamén podería quererse que unha función útil creada por nós, se poida usar en distintos programas sen copiala en cada programa.\n",
    "\n",
    "Para soportar isto, Python ten unha maneira de por definicións nun arquivo e usalos nun script ou nunha instancia do intérprete: este tipo de ficheiros chámase ***módulo***; as definicións dun módulo poden ser importadas a outros módulos ou ó módulo principal (a colección de variables ás que se ten acceso nun script executado no nivel superior e no modo interactivo).\n",
    "\n",
    "Un módulo é un ficheiro contendo definicións e declaracións de Python. O nome de arquivo é o nome do módulo co sufixo `.py` agregado. \n",
    "\n",
    "Dentro dun módulo, o nome do mesmo módulo (como cadea) está dispoñible no valor da variable global `__name__`."
   ]
  },
  {
   "cell_type": "markdown",
   "id": "d752d0db",
   "metadata": {},
   "source": [
    "### Creación de módulos\n",
    "Crear un módulo é tan sinxelo como gardar nun ficheiro con extensión `.py` o código que se queira que o conforme.\n",
    "\n",
    "Imaxinemos que queremos crear un módulo que conteña dúas funcións que nos permiten calcula-lo perímetro dunha circunferencia e a área do círculo contido nunha circunferencia. Para iso, crearemos un script chamado *circunferencia.py* que conterá o seguinte código:"
   ]
  },
  {
   "cell_type": "markdown",
   "id": "09f5038c",
   "metadata": {},
   "source": [
    "`# Módulo circunferencia.py\n",
    "import math\n",
    "def perimetro(radio):\n",
    "    return 2 * math.pi * radio\n",
    "def area(radio):\n",
    "    return math.pi * radio ** 2`"
   ]
  },
  {
   "cell_type": "markdown",
   "id": "470a265d",
   "metadata": {},
   "source": [
    "Este módulo contén as funcións *perímetro()* e *area()* que, a partir do valor do radio, obteñen os valores correspondentes. Para o número `pi`, hai que ua-lo módulo `math` que xa ven incluído con Python."
   ]
  },
  {
   "cell_type": "markdown",
   "id": "510d76d4",
   "metadata": {},
   "source": [
    "### Importación de módulos\n",
    "Para poder utiliza-las funcións incluídas nun módulo é necesario importa-lo devandito módulo. Python ten a sentenza `import` que, seguida do nome do módulo (sen a extensión `.py`), permítenos utilizar todo o código implementado no módulo indicado. \n",
    "\n",
    "É importante ter en conta que o módulo ten que ser accesible polo script que o importe; se non está accesible, devolverá un erro indicando que non sabe onde se atopa:\n",
    "\n",
    "`ModuleNotFoundError: No module named 'circunferencia'`\n",
    "\n",
    "Por exemplo, para importa-lo módulo circunferencia para facer algúns cálculos comezaremo-lo noso código coa seguinte sentenza:\n",
    "\n",
    "`import circunferencia`"
   ]
  },
  {
   "cell_type": "code",
   "execution_count": 6,
   "id": "603e6db5",
   "metadata": {},
   "outputs": [],
   "source": [
    "\"\"\" Como paso previo, dado que neste caso o ficheiro a importar non está no cartafol base, \n",
    "    senón nun subdirectorio \"codigo/05\"\n",
    "    agregaremo-la ruta a ese subdirectorio \"codigo/05\" usando a orde: sys.path.append('codigo/05')\n",
    "A variable de ruta \"path\" contén os directorios nos que o intérprete de Python busca polos módulos que se importan.\"\"\"\n",
    "import sys\n",
    "sys.path.append('codigo/05')\n",
    "\n",
    "import circunferencia"
   ]
  },
  {
   "cell_type": "markdown",
   "id": "5ae3a9d1",
   "metadata": {},
   "source": [
    "Unha vez feito isto, podemos acceder ó código do módulo *circunferencia*, usando o **nome do módulo seguido dun punto** (`.`) para acceder ás funcións.\n",
    "\n",
    "Por exemplo, para calcula-lo perímetro dunha circunferencia cun radio de 2 unidades:"
   ]
  },
  {
   "cell_type": "code",
   "execution_count": 7,
   "id": "0eda8431",
   "metadata": {},
   "outputs": [
    {
     "data": {
      "text/plain": [
       "12.566370614359172"
      ]
     },
     "execution_count": 7,
     "metadata": {},
     "output_type": "execute_result"
    }
   ],
   "source": [
    "circunferencia.perimetro(2) # devolve 12.566370614359172"
   ]
  },
  {
   "cell_type": "markdown",
   "id": "6c376bb8",
   "metadata": {},
   "source": [
    "Esta forma de chamar á función *perimetro* realízase mediante o ***namespace***. O namespace é o nome que se indica despois da instrución `import` e que será a ruta do módulo. \n",
    "\n",
    "Na sentenza `import` podemos incluír máis dun módulo, separándoos con comas:\n",
    "\n",
    "`import modulo1, modulo2, modulo3, …, moduloN`"
   ]
  },
  {
   "cell_type": "code",
   "execution_count": null,
   "id": "f1517822",
   "metadata": {},
   "outputs": [],
   "source": []
  },
  {
   "cell_type": "markdown",
   "id": "d4cbd3b7",
   "metadata": {},
   "source": [
    "Supoñendo que temos outro módulo chamado *rectangulo*, que calcula a área e o perímetro de calquera rectángulo; para poder importa-los dous módulos (o de *circunferencia* e o de *rectangulo*) no noso programa, executariamo-la seguinte sentenza:"
   ]
  },
  {
   "cell_type": "code",
   "execution_count": 8,
   "id": "8844f79d",
   "metadata": {},
   "outputs": [],
   "source": [
    "import circunferencia, rectangulo"
   ]
  },
  {
   "cell_type": "markdown",
   "id": "872c3b48",
   "metadata": {},
   "source": [
    "E para chamar ás funcións dos diferentes módulos deberiamos usa-lo namespace de cada módulo, é dicir, para chamar á función `area()` de cada módulo, deberiamos facelo da seguinte maneira:"
   ]
  },
  {
   "cell_type": "code",
   "execution_count": 9,
   "id": "97ac48da",
   "metadata": {},
   "outputs": [
    {
     "data": {
      "text/plain": [
       "20"
      ]
     },
     "execution_count": 9,
     "metadata": {},
     "output_type": "execute_result"
    }
   ],
   "source": [
    "rectangulo.area(10, 2)"
   ]
  },
  {
   "cell_type": "code",
   "execution_count": 10,
   "id": "6240b456",
   "metadata": {},
   "outputs": [
    {
     "data": {
      "text/plain": [
       "50.26548245743669"
      ]
     },
     "execution_count": 10,
     "metadata": {},
     "output_type": "execute_result"
    }
   ],
   "source": [
    "circunferencia.area(4)"
   ]
  },
  {
   "cell_type": "markdown",
   "id": "dc52ab49",
   "metadata": {},
   "source": [
    "O uso dos namespace ás veces pode ser un pouco tedioso, sobre todo se o nome dos módulos é complexo ou moi longo. Para solucionar isto, **Python permite definir uns *alias* nos nomes dos módulos á hora de importalos**. Así, basta con usa-los alias á hora de chama-los módulos dentro do código.\n",
    "\n",
    "Unha restrición que existe co uso dos alias é que non podemos facer importacións múltiples nunha única sentenza, senón que debemos face-las importacións dunha nunha. \n",
    "\n",
    "Para definir un alias a un módulo importado, úsase a palabra reservada `as` seguida do alias que se queira asignar ó modulo.\n",
    "\n",
    "`import módulo as mod`"
   ]
  },
  {
   "cell_type": "markdown",
   "id": "8d5486ed",
   "metadata": {},
   "source": [
    "De seguido imos importar cun alias os módulos *circunferencia* e *rectangulo* e executaremo-las funcións para calcula-las áreas usando os alias que definamos:"
   ]
  },
  {
   "cell_type": "code",
   "execution_count": 4,
   "id": "7ee3d588",
   "metadata": {},
   "outputs": [],
   "source": [
    "# Como anteriormente xa indicamos que busque os módulos a importar na ruta axeitada, saberá onde localizalos e importalos\n",
    "# import sys\n",
    "# sys.path.append('codigo/05')"
   ]
  },
  {
   "cell_type": "code",
   "execution_count": 6,
   "id": "eccae1d5",
   "metadata": {},
   "outputs": [
    {
     "name": "stdout",
     "output_type": "stream",
     "text": [
      "A área da circunferencia é:  50.26548245743669\n",
      "A área do rectángulo é:  20\n"
     ]
    }
   ],
   "source": [
    "import circunferencia as cir\n",
    "import rectangulo as rec\n",
    "\n",
    "area_circunferencia = cir.area(4)\n",
    "area_rectangulo = rec.area(10, 2)\n",
    "\n",
    "print('A área da circunferencia é: ', area_circunferencia)\n",
    "print('A área do rectángulo é: ', area_rectangulo)"
   ]
  },
  {
   "cell_type": "markdown",
   "id": "801f9fec",
   "metadata": {},
   "source": [
    "Como vemos, isto nos permite que a forma de chamar ós módulos sexa máis sinxela e o código máis lexible."
   ]
  },
  {
   "cell_type": "markdown",
   "id": "c2097224",
   "metadata": {},
   "source": [
    "## Paquetes\n",
    "Un paquete é, basicamente, un cartafol que contén varios módulos.\n",
    "\n",
    "Para proxectos grandes, é necesario agrupar diferentes módulos en cartafoles. Así, pódense cargar varios módulos que teñen funcionalidades similares."
   ]
  },
  {
   "attachments": {
    "estrutura_paquete_python.png": {
     "image/png": "[encoded data removed]"
    }
   },
   "cell_type": "markdown",
   "id": "af607fe1",
   "metadata": {},
   "source": [
    "### Creación de paquetes\n",
    "Todo paquete debe ter un ficheiro Python chamado `__init__.py` que **pode estar baleiro**. Con todo, é aconsellable que o ficheiro `__init__.py` inclúa os `import` de tódo-los módulos que están incluídos no paquete. \n",
    "\n",
    "Un exemplo de estrutura de paquete sería o seguinte:\n",
    "![estrutura_paquete_python.png](attachment:estrutura_paquete_python.png)"
   ]
  },
  {
   "cell_type": "markdown",
   "id": "31e8c60a",
   "metadata": {},
   "source": [
    "### Importación de paquetes"
   ]
  },
  {
   "cell_type": "markdown",
   "id": "d56844ca",
   "metadata": {},
   "source": [
    "Para ese exemplo, o ficheiro `__init__.py` debería incluí-las seguintes instrucións para que con só importa-lo paquete se importen tódolos seus módulos:\n",
    "\n",
    "`import paquete.modulo1`\n",
    "\n",
    "`import paquete.modulo2`"
   ]
  },
  {
   "attachments": {
    "estrutura_paquete_figuras.png": {
     "image/png": "[encoded data removed]"
    }
   },
   "cell_type": "markdown",
   "id": "c70d5910",
   "metadata": {},
   "source": [
    "Para o noso exemplo anterior, de módulos de figuras xeométricas, poderiamos incluí-los módulos *circunferencia* e *rectangulo* nun paquete chamado *figuras*. Para iso, fariamos unha estrutura de ficheiros do seguinte xeito:\n",
    "\n",
    "\n",
    "![estrutura_paquete_figuras.png](attachment:estrutura_paquete_figuras.png)"
   ]
  },
  {
   "cell_type": "code",
   "execution_count": 1,
   "id": "d19e803c",
   "metadata": {},
   "outputs": [
    {
     "name": "stdout",
     "output_type": "stream",
     "text": [
      "\u001b[01;34mfiguras\u001b[00m\r\n",
      "├── __init__.py\r\n",
      "├── circunferencia.py\r\n",
      "└── rectangulo.py\r\n",
      "\r\n",
      "0 directories, 3 files\r\n"
     ]
    }
   ],
   "source": [
    "! cd codigo/05; tree -t figuras; cd ../.."
   ]
  },
  {
   "cell_type": "markdown",
   "id": "6400375a",
   "metadata": {},
   "source": [
    "O ficheiro `__init__.py` podería incluí-la orde de importa-los 2 módulos que temos: *circunferencia* e *rectangulo*:\n",
    "\n",
    "`# __init__.py\n",
    "import circunferencia\n",
    "import rectangulo\n",
    "`"
   ]
  },
  {
   "cell_type": "code",
   "execution_count": 4,
   "id": "6a0e6249",
   "metadata": {},
   "outputs": [
    {
     "name": "stdout",
     "output_type": "stream",
     "text": [
      "# __init__.py\r\n",
      "import circunferencia\r\n",
      "import rectangulo\r\n"
     ]
    }
   ],
   "source": [
    "! cat ./codigo/05/figuras/__init__.py"
   ]
  },
  {
   "cell_type": "markdown",
   "id": "be43ca6e",
   "metadata": {},
   "source": [
    "Para importar un paquete basta con usa-la instrución `import` seguida do nome do paquete ou paquetes (separados por comas) que se queiran importar:\n",
    "\n",
    "`import paquete1, paquete2, ..., paqueteN`\n",
    "\n",
    "Para o noso exemplo podemos importa-lo paquete *figuras* e logo executar algunha das funcións de cálculo definidas nos módulos *circunferencia* ou *rectangulo* que se inclúen no paquete."
   ]
  },
  {
   "cell_type": "code",
   "execution_count": 1,
   "id": "2fbb276f",
   "metadata": {},
   "outputs": [],
   "source": [
    "# Como anteriormente xa indicamos que busque os módulos a importar na ruta axeitada, saberá onde localizalos e importalos\n",
    "# import sys\n",
    "# sys.path.append('codigo/05')\n",
    "import figuras  # impórtase o paquete figuras e como no seu ficheiro __init__.py se importan os módulos, estes están dispoñibles"
   ]
  },
  {
   "cell_type": "markdown",
   "id": "5bab4cdd",
   "metadata": {},
   "source": [
    "Unha vez importado o paquete para executa-las funcións desexadas hai que usa-lo nome do paquete, seguido do nome do módulo e por último a función que se queira executar:"
   ]
  },
  {
   "cell_type": "code",
   "execution_count": 8,
   "id": "f99d0577",
   "metadata": {},
   "outputs": [
    {
     "data": {
      "text/plain": [
       "20"
      ]
     },
     "execution_count": 8,
     "metadata": {},
     "output_type": "execute_result"
    }
   ],
   "source": [
    "figuras.rectangulo.area(10,2)  # tras importa-lo paquete, tamén se importaron seus módulos, polo que as funcións están dispoñibles"
   ]
  },
  {
   "cell_type": "code",
   "execution_count": 9,
   "id": "487b4e8a",
   "metadata": {},
   "outputs": [
    {
     "data": {
      "text/plain": [
       "314.1592653589793"
      ]
     },
     "execution_count": 9,
     "metadata": {},
     "output_type": "execute_result"
    }
   ],
   "source": [
    "figuras.circunferencia.area(10)"
   ]
  },
  {
   "cell_type": "markdown",
   "id": "82e14393",
   "metadata": {},
   "source": [
    "### Importación de módulos de paquetes"
   ]
  },
  {
   "cell_type": "markdown",
   "id": "6bcb7a09",
   "metadata": {},
   "source": [
    "Hai outra forma de importa-los módulos que se atopan incluídos en paquetes que **simplifica a invocación das funcións dos módulos importados**, para que non sexa necesario usa-lo nome do paquete, seguido do nome do módulo e, por último, o nome da función a executar."
   ]
  },
  {
   "cell_type": "markdown",
   "id": "79206150",
   "metadata": {},
   "source": [
    "Unha forma de simplificar isto consiste en usar a palabra reservada `from` na importación para que nos indique onde se atopan os módulos que queremos importar. Para iso usaremos unha das seguintes sintaxes de importación.\n",
    "\n",
    "- `from paquete import modulo1, modulo2, …, moduloN` \n",
    "\n",
    "Permite importar algúns módulos do paquete, para o que basta con po-los nomes dos módulos que queremos importar separados por comas. \n",
    "\n",
    "- `from paquete import *` \n",
    "\n",
    "En vez de concretar módulos, usa o asterisco (`*`) para indicar que importamos tódo.los módulos que existen dentro do paquete."
   ]
  },
  {
   "cell_type": "markdown",
   "id": "b61e3900",
   "metadata": {},
   "source": [
    "Usando calquera destas dúas formas, xa non é necesario usa-lo nome do paquete á hora de executar funcións dos módulos que importemos. \n",
    "\n",
    "Por exemplo, para usa-las funcións do paquete figuras:"
   ]
  },
  {
   "cell_type": "code",
   "execution_count": 7,
   "id": "b25878c1",
   "metadata": {},
   "outputs": [
    {
     "data": {
      "text/plain": [
       "314.1592653589793"
      ]
     },
     "execution_count": 7,
     "metadata": {},
     "output_type": "execute_result"
    }
   ],
   "source": [
    "# Como anteriormente xa indicamos que busque os módulos a importar na ruta axeitada, saberá onde localizalos e importalos\n",
    "# import sys\n",
    "# sys.path.append('codigo/05')\n",
    "from figuras import *\n",
    "circunferencia.area(10)\n"
   ]
  },
  {
   "cell_type": "code",
   "execution_count": 8,
   "id": "b7f3e066",
   "metadata": {},
   "outputs": [
    {
     "data": {
      "text/plain": [
       "20"
      ]
     },
     "execution_count": 8,
     "metadata": {},
     "output_type": "execute_result"
    }
   ],
   "source": [
    "rectangulo.area(10, 2)"
   ]
  },
  {
   "cell_type": "markdown",
   "id": "a488fd23",
   "metadata": {},
   "source": [
    "Tamén pódense usa-los alias nesta estrutura para importar módulos, aínda que habería que importa-los módulos dun nun. Para iso, inclúese a palabra reservada `as` seguida do alias que se queira utilizar para módulo:\n",
    "`from paquete import modulo as mod`"
   ]
  },
  {
   "cell_type": "code",
   "execution_count": 4,
   "id": "7f563f6c",
   "metadata": {},
   "outputs": [
    {
     "data": {
      "text/plain": [
       "314.1592653589793"
      ]
     },
     "execution_count": 4,
     "metadata": {},
     "output_type": "execute_result"
    }
   ],
   "source": [
    "# Como anteriormente xa indicamos que busque os módulos a importar na ruta axeitada, saberá onde localizalos e importalos\n",
    "# import sys\n",
    "# sys.path.append('codigo/05')\n",
    "from figuras import circunferencia as cir\n",
    "from figuras import rectangulo as rec\n",
    "cir.area(10)\n"
   ]
  },
  {
   "cell_type": "code",
   "execution_count": 5,
   "id": "4a65e7ca",
   "metadata": {},
   "outputs": [
    {
     "data": {
      "text/plain": [
       "20"
      ]
     },
     "execution_count": 5,
     "metadata": {},
     "output_type": "execute_result"
    }
   ],
   "source": [
    "rec.area(10, 2)"
   ]
  },
  {
   "cell_type": "markdown",
   "id": "2c590332",
   "metadata": {},
   "source": [
    "É posible crear **paquetes dentro doutros paquetes**. \n",
    "\n",
    "Para importa-los módulos que hai dentro de paquetes incluídos noutros paquetes utilízanse as formas que vimos anteriormente, pero separando os nomes da ruta dos paquetes por puntos(`.`):\n",
    "\n",
    "`from paquete.subpaquete import *`"
   ]
  },
  {
   "cell_type": "markdown",
   "id": "b7d73370",
   "metadata": {},
   "source": [
    "## Documentar módulos e paquetes\n",
    "É posible documenta-los módulos do mesmo xeito que as funcións, usando os *docstring*.\n",
    "\n",
    "O **docstring** dun módulo debe estar na primeira liña deste. Para iso, escribiremos esta documentación usando as dobres comiñas (`“`) tres veces para inicia-a documentación e outras tres veces para pechala. Esta documentación pode ocupar máis dunha liña.\n",
    "Por exemplo, o docstring do módulo circunferencia podería ser deste xeito:\n",
    "\n",
    "`# Módulo cadrado.py\n",
    "\"\"\"Módulo cadrado:\n",
    "Inclúe as funcións que nos permiten obter dun cadrado:\n",
    " o  perímetro \n",
    " a área \n",
    "\"\"\"\n",
    "def perimetro(lado):\n",
    "    return (4 * lado)\n",
    "def area(lado):\n",
    "    return lado**2\n",
    "`"
   ]
  },
  {
   "cell_type": "code",
   "execution_count": 14,
   "id": "9e1272c4",
   "metadata": {},
   "outputs": [
    {
     "name": "stdout",
     "output_type": "stream",
     "text": [
      "# Módulo cadrado.py\r\n",
      "\"\"\"Módulo cadrado:\r\n",
      "Inclúe as funcións que nos permiten obter dun cadrado:\r\n",
      "- o  perímetro \r\n",
      "- a área \r\n",
      "\"\"\"\r\n",
      "def perimetro(lado):\r\n",
      "    return (4 * lado)\r\n",
      "def area(lado):\r\n",
      "    return lado**2\r\n"
     ]
    }
   ],
   "source": [
    "! cat ./codigo/05/cadrado.py\n"
   ]
  },
  {
   "cell_type": "markdown",
   "id": "f5ec242d",
   "metadata": {},
   "source": [
    "A gran vantaxe de utilizar docstring consiste en que podemos consultar esta documentación coa instrución `help()` e incluí-lo nome do módulo do que queremos consulta-la documentación."
   ]
  },
  {
   "cell_type": "code",
   "execution_count": 11,
   "id": "4dd1aaac",
   "metadata": {},
   "outputs": [
    {
     "name": "stdout",
     "output_type": "stream",
     "text": [
      "Help on module cadrado:\n",
      "\n",
      "NAME\n",
      "    cadrado\n",
      "\n",
      "DESCRIPTION\n",
      "    Módulo cadrado:\n",
      "    Inclúe as funcións que nos permiten obter:\n",
      "    o  perímetro \n",
      "    a área \n",
      "    dun cadrado.\n",
      "\n",
      "FUNCTIONS\n",
      "    area(lado)\n",
      "    \n",
      "    perimetro(lado)\n",
      "\n",
      "FILE\n",
      "    /home/ricardo/repos-github/curso_bigdata/python_fundamentos/codigo/05/cadrado.py\n",
      "\n",
      "\n"
     ]
    }
   ],
   "source": [
    "# Como anteriormente xa indicamos que busque os módulos a importar na ruta axeitada, saberá onde localizalos e importalos\n",
    "# import sys\n",
    "# sys.path.append('codigo/05')\n",
    "import cadrado\n",
    "help(cadrado)"
   ]
  },
  {
   "cell_type": "code",
   "execution_count": 12,
   "id": "f3271e04",
   "metadata": {},
   "outputs": [
    {
     "data": {
      "text/plain": [
       "25"
      ]
     },
     "execution_count": 12,
     "metadata": {},
     "output_type": "execute_result"
    }
   ],
   "source": [
    "cadrado.area(5)"
   ]
  },
  {
   "cell_type": "code",
   "execution_count": 13,
   "id": "0d55ad31",
   "metadata": {},
   "outputs": [
    {
     "data": {
      "text/plain": [
       "20"
      ]
     },
     "execution_count": 13,
     "metadata": {},
     "output_type": "execute_result"
    }
   ],
   "source": [
    "cadrado.perimetro(5)"
   ]
  },
  {
   "cell_type": "code",
   "execution_count": null,
   "id": "86ff486f",
   "metadata": {},
   "outputs": [],
   "source": []
  }
 ],
 "metadata": {
  "kernelspec": {
   "display_name": "Python 3 (ipykernel)",
   "language": "python",
   "name": "python3"
  },
  "language_info": {
   "codemirror_mode": {
    "name": "ipython",
    "version": 3
   },
   "file_extension": ".py",
   "mimetype": "text/x-python",
   "name": "python",
   "nbconvert_exporter": "python",
   "pygments_lexer": "ipython3",
   "version": "3.9.13"
  }
 },
 "nbformat": 4,
 "nbformat_minor": 5
}
