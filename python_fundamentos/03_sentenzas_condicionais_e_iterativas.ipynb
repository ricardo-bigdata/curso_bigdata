{
 "cells": [
  {
   "cell_type": "markdown",
   "id": "b843e99b",
   "metadata": {},
   "source": [
    "# 03 Expresións condicionais e sentenzas de iteración\n",
    "## Contidos\n",
    "\n",
    "- Expresións condicionais\n",
    "    - Expresión if\n",
    "    - Expresión else\n",
    "    - Expresión elif\n",
    "- Sentenzas de iteración\n",
    "    - Bucle while\n",
    "    - Bucle for\n",
    "    - Sentenzas extra\n",
    "    - iteradores\n",
    "\n"
   ]
  },
  {
   "cell_type": "code",
   "execution_count": null,
   "id": "661e50da",
   "metadata": {},
   "outputs": [],
   "source": []
  },
  {
   "cell_type": "code",
   "execution_count": null,
   "id": "c6e2e23d",
   "metadata": {},
   "outputs": [],
   "source": []
  }
 ],
 "metadata": {
  "kernelspec": {
   "display_name": "Python 3 (ipykernel)",
   "language": "python",
   "name": "python3"
  },
  "language_info": {
   "codemirror_mode": {
    "name": "ipython",
    "version": 3
   },
   "file_extension": ".py",
   "mimetype": "text/x-python",
   "name": "python",
   "nbconvert_exporter": "python",
   "pygments_lexer": "ipython3",
   "version": "3.9.12"
  }
 },
 "nbformat": 4,
 "nbformat_minor": 5
}
