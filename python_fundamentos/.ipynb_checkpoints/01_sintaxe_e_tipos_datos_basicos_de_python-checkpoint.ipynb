{
 "cells": [
  {
   "cell_type": "markdown",
   "id": "7ccfb399",
   "metadata": {},
   "source": [
    "# 01 Sintaxe e tipos de datos básicos\n",
    "\n",
    "## Contidos\n",
    "-    Identificadores\n",
    "-    Palabras reservadas\n",
    "-    Comentarios  \n",
    "-    Sangría\n",
    "-    Almacenamento de valores  \n",
    "       - Variables  \n",
    "       - Constantes  \n",
    "-    Tipos de datos e operadores\n",
    "        - Datos numéricos: *int*, *float*\n",
    "            - Operadores aritméticos  \n",
    "                - Xerarquía/Orde de operacións\n",
    "            - Operadores de asignación  \n",
    "            - Operadores lóxicos de bits  \n",
    "        - Datos booleanos: *bool*\n",
    "            - Operadores lóxicos\n",
    "            - Operadores de comparación\n",
    "        - Cadea de caracteres: *str*\n",
    "            - Troceado de cadeas de texto\n",
    "            - Operadores de cadeas de texto\n",
    "            - Funcións e métodos\n",
    "        - Tipo None (NoneType)\n",
    "-    Conversión de datos"
   ]
  },
  {
   "cell_type": "markdown",
   "id": "038e278e",
   "metadata": {},
   "source": [
    "---"
   ]
  },
  {
   "cell_type": "markdown",
   "id": "020b712f",
   "metadata": {},
   "source": [
    "Documentación oficial de Python en: https://www.python.org/doc/\n",
    "\n",
    "Pero, antes de nada, un saúdo... Ola Mundo!"
   ]
  },
  {
   "cell_type": "code",
   "execution_count": 87,
   "id": "1274dbae",
   "metadata": {},
   "outputs": [
    {
     "name": "stdout",
     "output_type": "stream",
     "text": [
      "Ola Mundo!\n"
     ]
    }
   ],
   "source": [
    "# para imprimir por pantalla unha cadea de texto úsase a función print()\n",
    "print('Ola Mundo!')"
   ]
  },
  {
   "cell_type": "markdown",
   "id": "edbc9209",
   "metadata": {},
   "source": [
    "## Identificadores\n",
    "\n",
    "Os identificadores son nomes que asignaremos a elementos, como funcións, variables, etc., para facerlles referencia máis adiante no código. \n",
    "Os identificadores seguen as seguintes regras:\n",
    "- Poden ser unha combinación de números (0-9), letras maiúsculas (A-Z), letras minúsculas (a-z) e o símbolo de guion baixo (_).\n",
    "- Non poden comezar por un díxito.\n",
    "- Non poden utilizarse símbolos especiais: @, !, #, etc.\n",
    "- Poden ter calquera lonxitude.\n",
    "\n",
    "Python distingue as maiúsculas das minúsculas, polo tanto, se tivesemos os identificadores identificador e IDENTIFICADOR, Python consideraríaos identificadores diferentes"
   ]
  },
  {
   "cell_type": "code",
   "execution_count": 21,
   "id": "8309c320",
   "metadata": {},
   "outputs": [
    {
     "name": "stdout",
     "output_type": "stream",
     "text": [
      "variable:  1\n",
      "outra_variable:  Outra\n",
      "_maisvariables:  [1, 3, 4]\n",
      "Variable_2:  True\n"
     ]
    }
   ],
   "source": [
    "# Identificadores correctos\n",
    "variable = 1\n",
    "print(\"variable: \", variable)\n",
    "\n",
    "outra_variable = 'Outra'\n",
    "print(\"outra_variable: \", outra_variable)\n",
    "\n",
    "_mais_variables = [1, 3, 4]\n",
    "print(\"_maisvariables: \", _mais_variables)\n",
    "\n",
    "Variable_2 = True\n",
    "print(\"Variable_2: \", Variable_2)"
   ]
  },
  {
   "cell_type": "code",
   "execution_count": 89,
   "id": "28614542",
   "metadata": {},
   "outputs": [
    {
     "ename": "SyntaxError",
     "evalue": "invalid decimal literal (1295555892.py, line 2)",
     "output_type": "error",
     "traceback": [
      "\u001b[0;36m  Input \u001b[0;32mIn [89]\u001b[0;36m\u001b[0m\n\u001b[0;31m    1_variable = 'Está mal'\u001b[0m\n\u001b[0m     ^\u001b[0m\n\u001b[0;31mSyntaxError\u001b[0m\u001b[0;31m:\u001b[0m invalid decimal literal\n"
     ]
    }
   ],
   "source": [
    "# Identificadores incorrectos\n",
    "1_variable = 'Está mal'"
   ]
  },
  {
   "cell_type": "code",
   "execution_count": 90,
   "id": "52ebe3a6",
   "metadata": {},
   "outputs": [
    {
     "ename": "SyntaxError",
     "evalue": "cannot assign to operator (948236249.py, line 1)",
     "output_type": "error",
     "traceback": [
      "\u001b[0;36m  Input \u001b[0;32mIn [90]\u001b[0;36m\u001b[0m\n\u001b[0;31m    variable-s = 12\u001b[0m\n\u001b[0m    ^\u001b[0m\n\u001b[0;31mSyntaxError\u001b[0m\u001b[0;31m:\u001b[0m cannot assign to operator\n"
     ]
    }
   ],
   "source": [
    "variable-s = 12"
   ]
  },
  {
   "cell_type": "markdown",
   "id": "c422887d",
   "metadata": {},
   "source": [
    "## Palabras reservadas\n",
    "Python, como todas as linguaxes de programación, ten un conxunto de palabras reservadas que non se poden utilizar como identificadores. Esta lista de palabras reservadas é a seguinte:\n",
    "\n",
    "and, assert, break, class, continue, def, del, elif, else, except, exec, finally, for, from, global, if, import, in, is, lambda, not, or, pass, print, raise, return, try, while, with, yield\n"
   ]
  },
  {
   "cell_type": "code",
   "execution_count": 91,
   "id": "69e5c8e4",
   "metadata": {},
   "outputs": [
    {
     "name": "stdout",
     "output_type": "stream",
     "text": [
      "\n",
      "Here is a list of the Python keywords.  Enter any keyword to get more help.\n",
      "\n",
      "False               break               for                 not\n",
      "None                class               from                or\n",
      "True                continue            global              pass\n",
      "__peg_parser__      def                 if                  raise\n",
      "and                 del                 import              return\n",
      "as                  elif                in                  try\n",
      "assert              else                is                  while\n",
      "async               except              lambda              with\n",
      "await               finally             nonlocal            yield\n",
      "\n"
     ]
    }
   ],
   "source": [
    "help(\"keywords\")"
   ]
  },
  {
   "cell_type": "markdown",
   "id": "e3a36c33",
   "metadata": {},
   "source": [
    "## Comentarios\n",
    "\n",
    "Os comentarios son partes do código que o intérprete de Python non executa usados para escribir aclaracións no código.\n",
    "En Python hai dúas sintaxe diferente para escribi-los comentarios:\n",
    "- Comentarios de liña: para aqueles comentarios que só ocupen unha liña utilízase o símbolo `#` ó principio da mesma.\n",
    "- Comentarios de bloque: para os comentarios que ocupen máis dunha liña utilízanse  triplas comiñas (simples ou dobres) ó principio e ó final do comentario."
   ]
  },
  {
   "cell_type": "code",
   "execution_count": 92,
   "id": "8ed1a911",
   "metadata": {},
   "outputs": [
    {
     "name": "stdout",
     "output_type": "stream",
     "text": [
      "un comentario tras a almofadiña #\n",
      "outro comentario logo de triples comiñas \"\"\"\n",
      "Con comiñas simples ''' tamén se poden facer comentarios multiliña\n",
      "Et voilà, up\n"
     ]
    }
   ],
   "source": [
    "# Exemplo de comentario de liña.\n",
    "print(\"un comentario tras a almofadiña #\")\n",
    "\n",
    "\"\"\"Exemplo de comentario multiliña. \n",
    "Tódalas liñas pertencen ó comentario.\n",
    "\"\"\"\n",
    "print(\"outro comentario logo de triples comiñas \\\"\\\"\\\"\")\n",
    "\n",
    "'''Pide al usuario que ingrese el primer nombre de un estudiante en clase\n",
    "    hasta que se ingrese una string vacía. Luego la función imprime el número \n",
    "    de estudiantes con cada nombre que se ingresó.\n",
    "'''\n",
    "print(\"Con comiñas simples \\'\\'\\' tamén se poden facer comentarios multiliña\")\n",
    "'''\n",
    "Outro exemplo\n",
    "de comentario de bloque\n",
    "'''\n",
    "print('Et voilà, up')"
   ]
  },
  {
   "cell_type": "markdown",
   "id": "ac9bda53",
   "metadata": {},
   "source": [
    "## Sangría\n",
    "Python a diferencia doutras linguaxes, como C ou Java, non utiliza chaves ({,}) para diferenciar bloques de código.\n",
    "En Python utilízase a sangría de bloques, é dicir, facer unha separación cara á dereita do código que pertence a un bloque. Esta **sangría está determinada por 4 espazos** segundo a **guía de estilos PEP 8** https://peps.python.org/pep-0008/.\n",
    "\n",
    "Esta forma de definir os bloques de código fai que o código sexa máis lexible. Con todo, ó ser obrigatorio, pode levar a erros de execución se non se fixo a sangría correctamente. \n",
    "\n",
    "De seguido, un exemplo de como funciona a sangría dentro dun bloque if."
   ]
  },
  {
   "cell_type": "code",
   "execution_count": 93,
   "id": "93e0c231",
   "metadata": {},
   "outputs": [
    {
     "name": "stdout",
     "output_type": "stream",
     "text": [
      "Aquí vai o código a executar, \n",
      "que, por suposto, ten unha sangría de 4 espazos, \n",
      "para que non dea un erro durante a execución.\n"
     ]
    }
   ],
   "source": [
    "# Exemplo dunha sangría nun bloque if:\n",
    "variable = 1\n",
    "if (variable == 1):\n",
    "    print(\"Aquí vai o código a executar, \")\n",
    "    print(\"que, por suposto, ten unha sangría de 4 espazos, \")\n",
    "    print(\"para que non dea un erro durante a execución.\")"
   ]
  },
  {
   "cell_type": "markdown",
   "id": "e32d8a23",
   "metadata": {},
   "source": [
    "As convencións da **guía de estilos PEP8** pretenden mellora-la lexibilidade do código e facelo consistente: “*Readability counts*”.\n",
    "\n",
    "Aínda que o formato do código non afecta o seu funcionamento, seguir as pautas de estilo estándar fai que o código sexa máis fácil de ler e coherente entre os diferentes desenvolvedores dun equipo.\n",
    "\n",
    "Incluso hai plugins para usa-las recomendacións en contornos de programación como o coñecido editor de texto *Atom* (https://atom.io/): *linter-python-pep8*: https://atom.io/packages/linter-python-pep8"
   ]
  },
  {
   "cell_type": "markdown",
   "id": "faa96356",
   "metadata": {},
   "source": [
    "## Almacenamento de valores: variables e constantes\n",
    "En calquera linguaxe de programación son necesarios elementos que nos permitan almacenar valores para usalos máis\n",
    "adiante no programa."
   ]
  },
  {
   "cell_type": "markdown",
   "id": "137e9723",
   "metadata": {},
   "source": [
    "### Variables\n",
    "Unha variable é un identificador ó que lle asignaremos un valor e, máis tarde, chamando a ese identificador poderase consulta-lo valor.\n",
    "En Python a creación dunha variable faise a través dunha asignación. A asignación faixe escribindo o nome dun identificador, seguido do símbolo `=` e o valor que desexamos almacenar na variable:\n",
    "\n",
    "`identificador = valor`\n",
    "\n",
    "*Variable* é un concepto usado na nomenclatura das linguaxes tradicionais, pero o correcto en Python sería falar de **obxectos**.\n",
    "\n",
    "Python é unha linguaxe de **\"tipado\" dinámico**, é dicir, non é necesario indicar de qué tipo de dato é unha variable no momento de creala, non é necesario defini-lo tipo de dato que almacenará a variable, porque Python infire este tipo no momento de executa-la asignación e asignaralle o tipo de dato que mellor se adapte ó valor que asignasemos. \n",
    "\n",
    "Por exemplo, se asignamos a unha variable o valor *‘Ola mundo!’*, esta variable será de tipo cadea de texto; ademais, unha mesma variable pode almacenar diferentes tipos de datos durante a execución; pode comenzar sendo unha cadea de texto, logo un enteiro, logo un número de coma flotante, etc. \n",
    "\n",
    "Non obstante, tóda-las variables teñen algún **tipo de dato** (en realidade, son instancias de algunha clase) que se pode coñecer coa función incorporada `type()`."
   ]
  },
  {
   "cell_type": "code",
   "execution_count": 94,
   "id": "ed4b1dba",
   "metadata": {},
   "outputs": [
    {
     "data": {
      "text/plain": [
       "int"
      ]
     },
     "execution_count": 94,
     "metadata": {},
     "output_type": "execute_result"
    }
   ],
   "source": [
    "# Exemplo de variable\n",
    "num = 52\n",
    "type(num) # Devolve int"
   ]
  },
  {
   "cell_type": "code",
   "execution_count": 95,
   "id": "c92a6d56",
   "metadata": {},
   "outputs": [
    {
     "data": {
      "text/plain": [
       "str"
      ]
     },
     "execution_count": 95,
     "metadata": {},
     "output_type": "execute_result"
    }
   ],
   "source": [
    "# Exemplo de variable\n",
    "saudo = 'Ola! Que-ase?'\n",
    "type(saudo) # Devolve str"
   ]
  },
  {
   "cell_type": "code",
   "execution_count": 96,
   "id": "0ae66c21",
   "metadata": {},
   "outputs": [
    {
     "data": {
      "text/plain": [
       "float"
      ]
     },
     "execution_count": 96,
     "metadata": {},
     "output_type": "execute_result"
    }
   ],
   "source": [
    "# Exemplo do tipado dinámico das variables\n",
    "saudo = 5.5\n",
    "type(saudo) # Devolve float"
   ]
  },
  {
   "cell_type": "markdown",
   "id": "36c711a5",
   "metadata": {},
   "source": [
    "O ***método pitónico*** de nomear variables é usar letras minúsculas e o carácter *guión baixo* `_` para conecta-las palabras; a isto de usar \"*underscores*\" para xunta-la palabras coñécese ***snake case***."
   ]
  },
  {
   "cell_type": "code",
   "execution_count": 16,
   "id": "6a7d48e1",
   "metadata": {},
   "outputs": [],
   "source": [
    "meu_instituto = 'IES de Teis'"
   ]
  },
  {
   "cell_type": "code",
   "execution_count": 17,
   "id": "a9d92171",
   "metadata": {},
   "outputs": [
    {
     "ename": "SyntaxError",
     "evalue": "invalid syntax (1439536538.py, line 1)",
     "output_type": "error",
     "traceback": [
      "\u001b[0;36m  Input \u001b[0;32mIn [17]\u001b[0;36m\u001b[0m\n\u001b[0;31m    meu peso = 62\u001b[0m\n\u001b[0m        ^\u001b[0m\n\u001b[0;31mSyntaxError\u001b[0m\u001b[0;31m:\u001b[0m invalid syntax\n"
     ]
    }
   ],
   "source": [
    "meu peso = 62  # non se permiten espazos nos nomes das variables"
   ]
  },
  {
   "cell_type": "code",
   "execution_count": 18,
   "id": "ad6ee6ae",
   "metadata": {},
   "outputs": [],
   "source": [
    "MEUPESO = 62  # aínda que sintacticamente correcta, o nome desta variable non seguen o modo pitónico "
   ]
  },
  {
   "cell_type": "code",
   "execution_count": 19,
   "id": "b42946e3",
   "metadata": {},
   "outputs": [],
   "source": [
    "MeuPeso = 62  # aínda que sintacticamente correcta, o nome desta variable non seguen o modo pitónico "
   ]
  },
  {
   "cell_type": "markdown",
   "id": "43bd4ffe",
   "metadata": {},
   "source": [
    "### Constantes\n",
    "Unha constante é un tipo de variable cuxo valor non pode ser modificado durante toda a execución do programa. \n",
    "Adóitase utilizar para almacenar valores que necesitaremos ter dispoñibles ó longo da execución.\n",
    "\n",
    "En Python **non existe ningunha palabra reservada que nos permita definir unha constante**. Con todo, existen dúas posibles solucións para declarar constantes.\n",
    "\n",
    "Unha delas é utilizar unha variable, escribindo o **identificador en maiúsculas para que saibamos que esa variable non debe ser modificada**. \n",
    "Esta solución refírese ós estilos e teremos que estar pendentes de que esa constante nunca cambia de valor.\n"
   ]
  },
  {
   "cell_type": "code",
   "execution_count": 97,
   "id": "ee4c03cf",
   "metadata": {},
   "outputs": [
    {
     "name": "stdout",
     "output_type": "stream",
     "text": [
      "O prezo total é: 302.5\n"
     ]
    }
   ],
   "source": [
    "# Exemplo de constantes:\n",
    "IVA = 0.21\n",
    "prezo = 250\n",
    "prezo_total = prezo + (prezo * IVA)\n",
    "print(\"O prezo total é:\", prezo_total)"
   ]
  },
  {
   "cell_type": "markdown",
   "id": "bdd32d5c",
   "metadata": {},
   "source": [
    "Outra solución moi usada é crear un script de Python, accesible dende o noso proxecto, onde se almacenen tóda-las constantes, de seguido importamos ese script coa instrución `import` para poder chamar a esas constantes.\n",
    "Ollo, aínda que **o arquivo debe chamarse coa extensión *.py***, cando se invoca con import, **non se pon a extensión**!"
   ]
  },
  {
   "cell_type": "code",
   "execution_count": 1,
   "id": "4f7af331",
   "metadata": {},
   "outputs": [],
   "source": [
    "# Como paso previo, dado que neste caso o ficheiro a importar non está no cartafol base, \n",
    "# senón nun subdirectorio \"codigo/01\"\n",
    "# agregaremo-la ruta a ese subdirectorio \"codigo/01\" usando a orde: sys.path.append('codigo/01')\n",
    "# A variable de ruta \"path\" contén os directorios nos que o intérprete de Python busca polos módulos que se importan.\n",
    "import sys\n",
    "\n",
    "sys.path.append('codigo/01')"
   ]
  },
  {
   "cell_type": "code",
   "execution_count": 5,
   "id": "6cb4b86e",
   "metadata": {},
   "outputs": [
    {
     "name": "stdout",
     "output_type": "stream",
     "text": [
      "Constantes.py  __pycache__\n",
      "IVA = 0.21\n"
     ]
    }
   ],
   "source": [
    "! ls ./codigo/01  # amosa o contido do cartafol indicado\n",
    "! cat ./codigo/01/Constantes.py  # amosa o contido do arquivo indicado"
   ]
  },
  {
   "cell_type": "code",
   "execution_count": 2,
   "id": "c7ca871b",
   "metadata": {},
   "outputs": [
    {
     "name": "stdout",
     "output_type": "stream",
     "text": [
      "O prezo total é: 302.5\n"
     ]
    }
   ],
   "source": [
    "# Importamo-lo ficheiro de constantes, que se atopa nun subcartafol, \"codigo\", que este notebook e que se chama 'Constantes.py'.\n",
    "import Constantes\n",
    "prezo = 250\n",
    "prezo_total = prezo + (prezo * Constantes.IVA)\n",
    "print(\"O prezo total é:\", prezo_total)"
   ]
  },
  {
   "cell_type": "markdown",
   "id": "c3da8330",
   "metadata": {},
   "source": [
    "# Tipos de datos e operadores\n",
    "\n",
    "Cando declaramos un elemento para almacenar un valor en Python,xa sexa unha variable ou unha constante, non necesitamos defini-lo tipo de dato que terá. \n",
    "\n",
    "Pero debemos coñece-los tipos de datos existentes para saber que operadores podemos aplicar. \n",
    "\n",
    "Para recoñece-lo tipo dun dato úsase a función `type()`"
   ]
  },
  {
   "cell_type": "code",
   "execution_count": 2,
   "id": "b359b3d5",
   "metadata": {},
   "outputs": [
    {
     "name": "stdout",
     "output_type": "stream",
     "text": [
      "<class 'int'>\n",
      "<class 'str'>\n",
      "<class 'float'>\n",
      "<class 'bool'>\n"
     ]
    }
   ],
   "source": [
    "print(type(999))  # devolve que o tipo de dato é un número enteiro 'int'\n",
    "print(type(\"999\"))  # devolve que o tipo de dato é unha cadea de texto 'str'\n",
    "print(type(999.0))  # devolve que o tipo de dato é un número real 'float'\n",
    "print(type(True))  # devolve que o tipo de dato é un booleano 'bool'"
   ]
  },
  {
   "cell_type": "markdown",
   "id": "67a8fc98",
   "metadata": {},
   "source": [
    "Os seguintes son os tipos de datos básicos.\n",
    "\n",
    "| Tipo de dato | Construtor | Exemplo |\n",
    "| -- | -- | -- |\n",
    "| `int` | `int()` | 6 |\n",
    "| `float` | `float()` | 4,6 |\n",
    "| `string` | `''` ou `\"\"` ou `str()` | \"Isto é unha cadea de texto\" |\n",
    "| `bool` | `bool()` | `True` ou `False` |"
   ]
  },
  {
   "cell_type": "markdown",
   "id": "3f99de8d",
   "metadata": {},
   "source": [
    "## Datos numéricos: *int*, *float*\n",
    "Dentro dos tipos numéricos hai tipos máis específicos:\n",
    "- Enteiros (`int`), para valores enteiros: 26 , 0b1101 (base binaria), 0x3f4a (base hexadecimal).\n",
    "- Flotante (`float`), para números fraccionarios: valores decimais ou en punto flotante: 3.14 , 5. , -67.763\n",
    "- Complexos (`complex`): 0.117j\n",
    "\n",
    "Con números grandes é frecuente utilizar *notación científica*: 31.14e9 equivale a 31.14 * 10 ** 9, ou o que é o mesmo: 31140000000.0"
   ]
  },
  {
   "cell_type": "code",
   "execution_count": 20,
   "id": "e50bb538",
   "metadata": {},
   "outputs": [
    {
     "name": "stdout",
     "output_type": "stream",
     "text": [
      "31140000000.0\n"
     ]
    }
   ],
   "source": [
    "print(31.14e9)"
   ]
  },
  {
   "cell_type": "code",
   "execution_count": null,
   "id": "58e9457f",
   "metadata": {},
   "outputs": [],
   "source": [
    "Para crear un valor especificando o tipo de dato desexado úsase a seguinte sintaxe:"
   ]
  },
  {
   "cell_type": "code",
   "execution_count": 30,
   "id": "6f92d4c0",
   "metadata": {},
   "outputs": [
    {
     "name": "stdout",
     "output_type": "stream",
     "text": [
      "4\n",
      "<class 'int'>\n"
     ]
    }
   ],
   "source": [
    "x = int(4.13)   # x é un valor enteiro: 4\n",
    "print(x)\n",
    "print(type(x))  # devolve 'int', o tipo de dato x"
   ]
  },
  {
   "cell_type": "code",
   "execution_count": 31,
   "id": "3dd8b0a2",
   "metadata": {},
   "outputs": [
    {
     "name": "stdout",
     "output_type": "stream",
     "text": [
      "4.0\n",
      "<class 'float'>\n"
     ]
    }
   ],
   "source": [
    "y = float(4)   # y é un valor de punto flotante: 4.0\n",
    "print(y)\n",
    "print(type(y))  # devolve 'float', o tipo de dato y"
   ]
  },
  {
   "cell_type": "markdown",
   "id": "f82348dc",
   "metadata": {},
   "source": [
    "Ollo coas operacións en punto flotante!: https://docs.python.org/3/tutorial/floatingpoint.html\n",
    "Un número flotante é unha aproximación polo que ten un espazo de memoria limitado para a súa almacenaxe, o que na maioría das ocasións supón unha diferencia irrelevante, pero noutros casos hai que telo en conta:"
   ]
  },
  {
   "cell_type": "code",
   "execution_count": 38,
   "id": "94e9aa5e",
   "metadata": {},
   "outputs": [
    {
     "name": "stdout",
     "output_type": "stream",
     "text": [
      "0.30000000000000004\n"
     ]
    }
   ],
   "source": [
    "print(0.1 + 0.1 + 0.1)  # devolve 0.30000000000000004"
   ]
  },
  {
   "cell_type": "code",
   "execution_count": 39,
   "id": "8e94e59b",
   "metadata": {},
   "outputs": [
    {
     "name": "stdout",
     "output_type": "stream",
     "text": [
      "False\n"
     ]
    }
   ],
   "source": [
    "print(0.1 + 0.1 + 0.1 == 0.3)  # devolve false porque para Python o número en punto flotante, ou aproximación, para 0.1 é en realidade un pouco máis de 0.1, o que entra en conflito coa resposta matematicamente correcta"
   ]
  },
  {
   "cell_type": "markdown",
   "id": "f7f8e956",
   "metadata": {},
   "source": [
    "Con estes tipos de datos, úsanse os seguintes tipos de operadores:\n",
    "operadores aritméticos, operadores de asignación e operadores de bits."
   ]
  },
  {
   "cell_type": "markdown",
   "id": "3e21fec3",
   "metadata": {},
   "source": [
    "### Operadores aritméticos\n",
    "Estes operadores inclúen as operacións matemáticas básicas:\n",
    "\n",
    "`+`  suma  \n",
    "`-`  resta  \n",
    "`*`  multiplicación  \n",
    "`/`  division  \n",
    "`%`  módulo (o resto da división)  \n",
    "`**` exponenciación (ollo que o ^ non fai esta operación como sucede noutras linguaxes)  \n",
    "`//` división arredondando ó enteiro máis próximo por abaixo  \n",
    "\n",
    "Unha operación entre un valor enteiro e un en punto flotante sempre produce un número en punto flotante:"
   ]
  },
  {
   "cell_type": "code",
   "execution_count": 34,
   "id": "b08d5bbc",
   "metadata": {},
   "outputs": [
    {
     "name": "stdout",
     "output_type": "stream",
     "text": [
      "7.1\n"
     ]
    }
   ],
   "source": [
    "print(5 + 2.1)  # devolve 7.1"
   ]
  },
  {
   "cell_type": "markdown",
   "id": "e769ee6f",
   "metadata": {},
   "source": [
    "- Suma (+): devolve como resultado a suma de dous números."
   ]
  },
  {
   "cell_type": "code",
   "execution_count": 99,
   "id": "2cedd2a4",
   "metadata": {},
   "outputs": [
    {
     "data": {
      "text/plain": [
       "18.14"
      ]
     },
     "execution_count": 99,
     "metadata": {},
     "output_type": "execute_result"
    }
   ],
   "source": [
    "8.14 + 10 # devolve 18.14"
   ]
  },
  {
   "cell_type": "markdown",
   "id": "0a0295ca",
   "metadata": {},
   "source": [
    "- Resta (`-`): devolve como resultado a resta de dous números."
   ]
  },
  {
   "cell_type": "code",
   "execution_count": 100,
   "id": "693e9042",
   "metadata": {},
   "outputs": [
    {
     "data": {
      "text/plain": [
       "-3.8599999999999994"
      ]
     },
     "execution_count": 100,
     "metadata": {},
     "output_type": "execute_result"
    }
   ],
   "source": [
    "8.14 - 12 # devolve -3.85"
   ]
  },
  {
   "cell_type": "markdown",
   "id": "bbfff215",
   "metadata": {},
   "source": [
    "- Multiplicación (`*`): devolve como resultado a multiplicación de dous números."
   ]
  },
  {
   "cell_type": "code",
   "execution_count": 101,
   "id": "2b5ced5e",
   "metadata": {},
   "outputs": [
    {
     "data": {
      "text/plain": [
       "81.4"
      ]
     },
     "execution_count": 101,
     "metadata": {},
     "output_type": "execute_result"
    }
   ],
   "source": [
    "8.14 * 10 # devolve 8.14"
   ]
  },
  {
   "cell_type": "markdown",
   "id": "0a7e746d",
   "metadata": {},
   "source": [
    "- División (`/`): devolve como resultado a división de dous números."
   ]
  },
  {
   "cell_type": "code",
   "execution_count": 12,
   "id": "10a9ba03",
   "metadata": {},
   "outputs": [
    {
     "data": {
      "text/plain": [
       "0.8140000000000001"
      ]
     },
     "execution_count": 12,
     "metadata": {},
     "output_type": "execute_result"
    }
   ],
   "source": [
    "8.14 / 10 # devolve 0.814"
   ]
  },
  {
   "cell_type": "markdown",
   "id": "c08aea4d",
   "metadata": {},
   "source": [
    "Lembremos que segundo as regras aritméticas, non é posible dividir un número por cero; iso provocaría un erro:\n",
    "\n",
    "`ZeroDivisionError: division by zero`"
   ]
  },
  {
   "cell_type": "code",
   "execution_count": 4,
   "id": "2cde0ae1",
   "metadata": {},
   "outputs": [
    {
     "data": {
      "text/plain": [
       "0.0"
      ]
     },
     "execution_count": 4,
     "metadata": {},
     "output_type": "execute_result"
    }
   ],
   "source": [
    "0 / 5  # o resultado de dividir 0 entre calquera cifra é cero"
   ]
  },
  {
   "cell_type": "code",
   "execution_count": 5,
   "id": "3fbdcb1b",
   "metadata": {},
   "outputs": [
    {
     "ename": "ZeroDivisionError",
     "evalue": "division by zero",
     "output_type": "error",
     "traceback": [
      "\u001b[0;31m---------------------------------------------------------------------------\u001b[0m",
      "\u001b[0;31mZeroDivisionError\u001b[0m                         Traceback (most recent call last)",
      "Input \u001b[0;32mIn [5]\u001b[0m, in \u001b[0;36m<cell line: 1>\u001b[0;34m()\u001b[0m\n\u001b[0;32m----> 1\u001b[0m \u001b[38;5;241;43m5\u001b[39;49m\u001b[43m \u001b[49m\u001b[38;5;241;43m/\u001b[39;49m\u001b[43m \u001b[49m\u001b[38;5;241;43m0\u001b[39;49m\n",
      "\u001b[0;31mZeroDivisionError\u001b[0m: division by zero"
     ]
    }
   ],
   "source": [
    "5 / 0  # o resultado de dividir calquera cifra entre cero provoca unha excepción "
   ]
  },
  {
   "cell_type": "markdown",
   "id": "36cb3981",
   "metadata": {},
   "source": [
    "- División enteira (`//`): devolve como resultado a división enteira de dous números. É dicir, o resultado será só a parte enteira da división."
   ]
  },
  {
   "cell_type": "code",
   "execution_count": 103,
   "id": "f9f41dae",
   "metadata": {},
   "outputs": [
    {
     "data": {
      "text/plain": [
       "0"
      ]
     },
     "execution_count": 103,
     "metadata": {},
     "output_type": "execute_result"
    }
   ],
   "source": [
    "8 // 10 # devolve 0"
   ]
  },
  {
   "cell_type": "code",
   "execution_count": 14,
   "id": "cbee5bb3",
   "metadata": {},
   "outputs": [
    {
     "data": {
      "text/plain": [
       "-5"
      ]
     },
     "execution_count": 14,
     "metadata": {},
     "output_type": "execute_result"
    }
   ],
   "source": [
    "-13 // 3  # devolve -5"
   ]
  },
  {
   "cell_type": "markdown",
   "id": "f375334f",
   "metadata": {},
   "source": [
    "- Módulo (`%`): devolve como resultado o valor do resto obtido da división enteira entre dous números."
   ]
  },
  {
   "cell_type": "code",
   "execution_count": 104,
   "id": "af3138a9",
   "metadata": {},
   "outputs": [
    {
     "data": {
      "text/plain": [
       "8"
      ]
     },
     "execution_count": 104,
     "metadata": {},
     "output_type": "execute_result"
    }
   ],
   "source": [
    "8 % 10 # devolve 8"
   ]
  },
  {
   "cell_type": "markdown",
   "id": "01a54267",
   "metadata": {},
   "source": [
    "- Expoñente (`**`): devolve como resultado o valor exponencial dunha base con respecto ó expoñente:"
   ]
  },
  {
   "cell_type": "code",
   "execution_count": 105,
   "id": "3612ec49",
   "metadata": {},
   "outputs": [
    {
     "data": {
      "text/plain": [
       "64"
      ]
     },
     "execution_count": 105,
     "metadata": {},
     "output_type": "execute_result"
    }
   ],
   "source": [
    "8 ** 2 # devolve 64"
   ]
  },
  {
   "cell_type": "markdown",
   "id": "f3cad8da",
   "metadata": {},
   "source": [
    "Nota: a raíz cadrada non é unha función básica polo que hai que importala do módulo `math` \n",
    "\n",
    "`math.sqrt(numero)`"
   ]
  },
  {
   "cell_type": "markdown",
   "id": "f4347036",
   "metadata": {},
   "source": [
    "#### Xerarquía/Orde de operacións\n",
    "A *orde das operacións* tamén coñecida como *xerarquía de operacións*, é unha convención que se utiliza para realizar operacións combinadas. En cada operación aritmética que combine máis dunha operación (suma, resta, multiplicación, división, etc.), hai que realizar cada unha desas operacións nunha orde preestablecida:\n",
    "\n",
    "1) Paréntese. En caso de parénteses aniñados, primeiro resólvense os parénteses internos e logo os externos.\n",
    "\n",
    "2) Potencias e raíces\n",
    "\n",
    "3) Multiplicacións e divisións (de esquerda a dereita)\n",
    "\n",
    "4) Sumas e restas (de esquerda a dereita)\n",
    "\n",
    "\n",
    "Naqueles cálculos nos que unha operación se repita, resolverémola de esquerda a dereita.\n",
    "\n",
    "Explicación detallada en: https://www.tutorela.es/matematicas/el_orden_de_las_operaciones#details"
   ]
  },
  {
   "cell_type": "code",
   "execution_count": 1,
   "id": "19ee745e",
   "metadata": {},
   "outputs": [
    {
     "data": {
      "text/plain": [
       "34.0"
      ]
     },
     "execution_count": 1,
     "metadata": {},
     "output_type": "execute_result"
    }
   ],
   "source": [
    "36 - 4 / 2  # devolve 34.0 Primeiro faise a división e logo a resta"
   ]
  },
  {
   "cell_type": "code",
   "execution_count": 2,
   "id": "cda69b00",
   "metadata": {},
   "outputs": [
    {
     "data": {
      "text/plain": [
       "39"
      ]
     },
     "execution_count": 2,
     "metadata": {},
     "output_type": "execute_result"
    }
   ],
   "source": [
    "4 + 5 * 7  # devolve 39 Primeiro faise a multiplicación e logo a suma"
   ]
  },
  {
   "cell_type": "code",
   "execution_count": 3,
   "id": "4a51cccc",
   "metadata": {},
   "outputs": [
    {
     "data": {
      "text/plain": [
       "3"
      ]
     },
     "execution_count": 3,
     "metadata": {},
     "output_type": "execute_result"
    }
   ],
   "source": [
    "4 - 3 + 7 - 5  # devolve 3 Cando só hai un tipo de operación (multiplicacións e divisións ou sumas e restas) resólvense de esquerda a dreita\n"
   ]
  },
  {
   "cell_type": "code",
   "execution_count": 5,
   "id": "6cc2659c",
   "metadata": {},
   "outputs": [
    {
     "data": {
      "text/plain": [
       "24"
      ]
     },
     "execution_count": 5,
     "metadata": {},
     "output_type": "execute_result"
    }
   ],
   "source": [
    "4 * 5 + (7 - 3)  # devolve 24 Primeiro sempre se realizan as operacións dentro das parenteses logo a multiplicación e logo a suma"
   ]
  },
  {
   "cell_type": "code",
   "execution_count": 7,
   "id": "b867fb28",
   "metadata": {},
   "outputs": [
    {
     "data": {
      "text/plain": [
       "9"
      ]
     },
     "execution_count": 7,
     "metadata": {},
     "output_type": "execute_result"
    }
   ],
   "source": [
    "((3 + 2) - 2) * 3  #  devolve 9 Primeiro resólvese a paréntese interna, logo a externa e por último a multiplicación"
   ]
  },
  {
   "cell_type": "code",
   "execution_count": 10,
   "id": "41dfd0b9",
   "metadata": {},
   "outputs": [
    {
     "data": {
      "text/plain": [
       "58"
      ]
     },
     "execution_count": 10,
     "metadata": {},
     "output_type": "execute_result"
    }
   ],
   "source": [
    "4 + 3 * 3**2 * (7 - 5)  # devolve 58 Primeiro faise a operación dentro das parénteses, logo a potencia, logo as multiplicacións (de esquerda a dereita) e por último a suma"
   ]
  },
  {
   "cell_type": "code",
   "execution_count": 11,
   "id": "aae04dce",
   "metadata": {},
   "outputs": [
    {
     "data": {
      "text/plain": [
       "14.0"
      ]
     },
     "execution_count": 11,
     "metadata": {},
     "output_type": "execute_result"
    }
   ],
   "source": [
    "2 - 3 + 5 * 6 / 2  # devolve 14.0 As operacións de multiplicación e división fanse en primeiro lugar, de esquerda a dereita, e logo as de suma e resta, novamente de esquerda a dereita"
   ]
  },
  {
   "cell_type": "markdown",
   "id": "4d00a10d",
   "metadata": {},
   "source": [
    "### Operadores de asignación\n",
    "Os operadores de asignación permiten asigna-lo resultado da operación a unha variable incluíndo o símbolo `=` no operador. Estes permítennos modifica-lo valor dunha variable sen ter que definila na parte dereita da asignación. A lista de operadores de asignación é a seguinte:"
   ]
  },
  {
   "cell_type": "markdown",
   "id": "29f78d5c",
   "metadata": {},
   "source": [
    "- Asignación simple (`=`): asigna á variable do lado esquerdo o valor definido na parte dereita."
   ]
  },
  {
   "cell_type": "code",
   "execution_count": 106,
   "id": "0d4ab2d8",
   "metadata": {},
   "outputs": [
    {
     "name": "stdout",
     "output_type": "stream",
     "text": [
      "10\n"
     ]
    }
   ],
   "source": [
    "resultado = 10 # resultado vale 10\n",
    "print(resultado)"
   ]
  },
  {
   "cell_type": "markdown",
   "id": "77f1a5f0",
   "metadata": {},
   "source": [
    "***Nota: non é recomendable usa-la notación dos operadores aritméticos de asignación de seguido explicados.\n",
    "A razón é que dificultan a comprensión do código, e ademais os intérpretes e compiladores xa optimizan as operacións\n",
    "aritméticas usando os operadores tradicionais.***"
   ]
  },
  {
   "cell_type": "markdown",
   "id": "28e9ccd8",
   "metadata": {},
   "source": [
    "- Suma e asignación (`+=`): o operador suma, ó valor da variable, o valor definido no lado dereito:"
   ]
  },
  {
   "cell_type": "code",
   "execution_count": 107,
   "id": "eeddd361",
   "metadata": {},
   "outputs": [
    {
     "name": "stdout",
     "output_type": "stream",
     "text": [
      "10\n",
      "20\n"
     ]
    }
   ],
   "source": [
    "resultado = 10 # resultado vale 10\n",
    "print(resultado)\n",
    "resultado += 10 # resultado vale 20  equivale a resultado = resultado + 10\n",
    "print(resultado)"
   ]
  },
  {
   "cell_type": "markdown",
   "id": "302d6514",
   "metadata": {},
   "source": [
    "- Resta e asignación (`-=`): o operador resta, ó valor da variable, o valor definido no lado dereito:"
   ]
  },
  {
   "cell_type": "code",
   "execution_count": 108,
   "id": "9b1fc379",
   "metadata": {},
   "outputs": [
    {
     "name": "stdout",
     "output_type": "stream",
     "text": [
      "10\n",
      "0\n"
     ]
    }
   ],
   "source": [
    "resultado = 10 # resultado vale 10\n",
    "print(resultado)\n",
    "resultado -= 10 # resultado vale 0  equivale a resultado = resultado - 10\n",
    "print(resultado)"
   ]
  },
  {
   "cell_type": "markdown",
   "id": "39c00dbd",
   "metadata": {},
   "source": [
    "- Multiplicación e asignación (`*=`): o operador multiplica, ó valor da variable, o valor definido no lado dereito:"
   ]
  },
  {
   "cell_type": "code",
   "execution_count": 109,
   "id": "c3d5a5cd",
   "metadata": {},
   "outputs": [
    {
     "name": "stdout",
     "output_type": "stream",
     "text": [
      "10\n",
      "100\n"
     ]
    }
   ],
   "source": [
    "resultado = 10 # resultado vale 10\n",
    "print(resultado)\n",
    "resultado *= 10 # resultado vale 100\n",
    "print(resultado)"
   ]
  },
  {
   "cell_type": "markdown",
   "id": "95221989",
   "metadata": {},
   "source": [
    "- División e asignación (`/=`): o operador divide, ó valor da variable, o valor definido no lado dereito:"
   ]
  },
  {
   "cell_type": "code",
   "execution_count": 110,
   "id": "eaf78f5d",
   "metadata": {},
   "outputs": [
    {
     "name": "stdout",
     "output_type": "stream",
     "text": [
      "10\n",
      "1.0\n"
     ]
    }
   ],
   "source": [
    "resultado = 10 # resultado vale 10\n",
    "print(resultado)\n",
    "resultado /= 10 # resultado vale 1\n",
    "print(resultado)"
   ]
  },
  {
   "cell_type": "markdown",
   "id": "048b44a3",
   "metadata": {},
   "source": [
    "- División enteira e asignación (`//=`): o operador realiza a división enteira ó valor da variable con respecto ó valor definido no lado dereito:"
   ]
  },
  {
   "cell_type": "code",
   "execution_count": 111,
   "id": "e579f215",
   "metadata": {},
   "outputs": [
    {
     "name": "stdout",
     "output_type": "stream",
     "text": [
      "18\n",
      "1\n"
     ]
    }
   ],
   "source": [
    "resultado = 18 # resultado vale 18\n",
    "print(resultado)\n",
    "resultado //= 10 # resultado vale 1\n",
    "print(resultado)"
   ]
  },
  {
   "cell_type": "markdown",
   "id": "021a6afd",
   "metadata": {},
   "source": [
    "- Módulo e asignación (`%=`): o operador asigna á variable o resto da división enteira entre o valor da variable e o valor definido no lado dereito da operación:"
   ]
  },
  {
   "cell_type": "code",
   "execution_count": 112,
   "id": "565fb877",
   "metadata": {},
   "outputs": [
    {
     "name": "stdout",
     "output_type": "stream",
     "text": [
      "18\n",
      "8\n"
     ]
    }
   ],
   "source": [
    "resultado = 18 # resultado vale 18\n",
    "print(resultado)\n",
    "resultado %= 10 # resultado vale 8\n",
    "print(resultado)"
   ]
  },
  {
   "cell_type": "markdown",
   "id": "0aed46d2",
   "metadata": {},
   "source": [
    "- Expoñente e asignación (`**=`): o operador asigna á variable o resultado do expoñente entre o valor da variable e o valor da dereita da operación:"
   ]
  },
  {
   "cell_type": "code",
   "execution_count": 113,
   "id": "a3d7aceb",
   "metadata": {},
   "outputs": [
    {
     "name": "stdout",
     "output_type": "stream",
     "text": [
      "2\n",
      "8\n"
     ]
    }
   ],
   "source": [
    "resultado = 2 # resultado vale 2\n",
    "print(resultado)\n",
    "resultado **= 3 # resultado vale 8\n",
    "print(resultado)"
   ]
  },
  {
   "cell_type": "code",
   "execution_count": 22,
   "id": "26bfcaef",
   "metadata": {},
   "outputs": [
    {
     "name": "stdout",
     "output_type": "stream",
     "text": [
      "447627500.0\n"
     ]
    }
   ],
   "source": [
    "# Volume actual das reservas de auga (en metros cúbicos)\n",
    "reservoir_volume = 4.445e8\n",
    "# The amount of rainfall from a storm (in cubic metres)\n",
    "rainfall = 5e6\n",
    "\n",
    "# decrease the rainfall variable by 10% to account for runoff\n",
    "rainfall *= .9\n",
    "\n",
    "# add the rainfall variable to the reservoir_volume variable\n",
    "reservoir_volume += rainfall\n",
    "\n",
    "# increase reservoir_volume by 5% to account for stormwater that flows\n",
    "# into the reservoir in the days following the storm\n",
    "reservoir_volume *= 1.05\n",
    "\n",
    "# decrease reservoir_volume by 5% to account for evaporation\n",
    "reservoir_volume *= 0.95\n",
    "\n",
    "# subtract 2.5e5 cubic metres from reservoir_volume to account for water\n",
    "# that's piped to arid regions.\n",
    "reservoir_volume -= 2.5e5 \n",
    "\n",
    "# print the new value of the reservoir_volume variable\n",
    "print(reservoir_volume)"
   ]
  },
  {
   "cell_type": "markdown",
   "id": "d8e4f75f",
   "metadata": {},
   "source": [
    "### Operadores lóxicos de bits"
   ]
  },
  {
   "cell_type": "markdown",
   "id": "7df636aa",
   "metadata": {},
   "source": [
    "As operacións só se poden aplicar a valores enteiros.\n",
    "\n",
    "Por exemplo, operando cos valores: catro=4 (en binario = 100) e cinco=5 (en binario = 101):"
   ]
  },
  {
   "cell_type": "code",
   "execution_count": 114,
   "id": "a14fd6ee",
   "metadata": {},
   "outputs": [],
   "source": [
    "catro=4\n",
    "cinco=5"
   ]
  },
  {
   "cell_type": "markdown",
   "id": "bd4b642d",
   "metadata": {},
   "source": [
    "- AND (`&`): fai a operación \"AND\" a nivel de bits."
   ]
  },
  {
   "cell_type": "code",
   "execution_count": 115,
   "id": "bb638b85",
   "metadata": {},
   "outputs": [
    {
     "data": {
      "text/plain": [
       "4"
      ]
     },
     "execution_count": 115,
     "metadata": {},
     "output_type": "execute_result"
    }
   ],
   "source": [
    "catro & cinco # o resultado é 4 (100 AND 101 = 100)"
   ]
  },
  {
   "cell_type": "markdown",
   "id": "20423814",
   "metadata": {},
   "source": [
    "- OR (`|`): fai a operación \"OR\" a nivel de bits."
   ]
  },
  {
   "cell_type": "code",
   "execution_count": 116,
   "id": "f8a60b16",
   "metadata": {},
   "outputs": [
    {
     "data": {
      "text/plain": [
       "5"
      ]
     },
     "execution_count": 116,
     "metadata": {},
     "output_type": "execute_result"
    }
   ],
   "source": [
    "catro | cinco # o resultado será 5 (100 OR 101 = 101)"
   ]
  },
  {
   "cell_type": "markdown",
   "id": "ffb61e03",
   "metadata": {},
   "source": [
    "- XOR (`^`): fai a operación \"XOR\" a nivel de bits."
   ]
  },
  {
   "cell_type": "code",
   "execution_count": 117,
   "id": "56353007",
   "metadata": {},
   "outputs": [
    {
     "data": {
      "text/plain": [
       "1"
      ]
     },
     "execution_count": 117,
     "metadata": {},
     "output_type": "execute_result"
    }
   ],
   "source": [
    "catro ^ cinco # o resultado será 1 (100 XOR 101 = 001)"
   ]
  },
  {
   "cell_type": "markdown",
   "id": "b188d553",
   "metadata": {},
   "source": [
    "- Mover bits á esquerda (`<<`): operador que move tódo-los bits á esquerda, tantas posicións como se indique no lado dereito do operador."
   ]
  },
  {
   "cell_type": "code",
   "execution_count": 118,
   "id": "dde010fb",
   "metadata": {},
   "outputs": [
    {
     "data": {
      "text/plain": [
       "16"
      ]
     },
     "execution_count": 118,
     "metadata": {},
     "output_type": "execute_result"
    }
   ],
   "source": [
    "catro << 2 # o resultado será 16 (00100 -> 10000) "
   ]
  },
  {
   "cell_type": "markdown",
   "id": "6de926d2",
   "metadata": {},
   "source": [
    "- Mover bits á dereita (`>>`): operador que move tódo-los bits á dereita, tantas posicións como se indique no lado dereito do operador."
   ]
  },
  {
   "cell_type": "code",
   "execution_count": 119,
   "id": "4dce29fb",
   "metadata": {},
   "outputs": [
    {
     "data": {
      "text/plain": [
       "2"
      ]
     },
     "execution_count": 119,
     "metadata": {},
     "output_type": "execute_result"
    }
   ],
   "source": [
    "catro >> 1 # o resultado será 2 (100 -> 10) "
   ]
  },
  {
   "cell_type": "markdown",
   "id": "38cfc2a1",
   "metadata": {},
   "source": [
    "## Datos booleanos: *bool*"
   ]
  },
  {
   "cell_type": "markdown",
   "id": "6c870f46",
   "metadata": {},
   "source": [
    "O tipo de datos booleano é un tipo binario cuxos valores só poden ser `True` ou `False`, que son codificados como `1` e `0`, respectivamente. Este tipo de datos é moi utilizado en expresións de control para diferentes sentenzas como son o `if` ou o `while`.\n",
    "\n",
    "A este tipo de datos pódenselle aplicar operadores lóxicos e operadores de comparación."
   ]
  },
  {
   "cell_type": "markdown",
   "id": "478e5e37",
   "metadata": {},
   "source": [
    "### Operadores lóxicos"
   ]
  },
  {
   "cell_type": "markdown",
   "id": "896efaf3",
   "metadata": {},
   "source": [
    "Hai 3 operadores lóxicos.\n",
    "\n",
    "| Exemplo de uso | Valor booleano | Operación |\n",
    "| -- | -- | -- |\n",
    "| 4 < 2 `and` 4 == 4 | `False` | `and` - avalía se tódalas sentenzas son verdadeiras |\n",
    "| 4 < 2 `or` 4 == 4 | `True` | `or` - avalía se alomenos unha das sentenzas e verdadeira |\n",
    "| `not` 4 < 2 | `True` | `not` - invirte o valor booleano |"
   ]
  },
  {
   "cell_type": "markdown",
   "id": "35a9889f",
   "metadata": {},
   "source": [
    "- AND (`and`): operador lóxico AND."
   ]
  },
  {
   "cell_type": "code",
   "execution_count": 120,
   "id": "c7ee483d",
   "metadata": {},
   "outputs": [
    {
     "data": {
      "text/plain": [
       "False"
      ]
     },
     "execution_count": 120,
     "metadata": {},
     "output_type": "execute_result"
    }
   ],
   "source": [
    "True and False # devolve False"
   ]
  },
  {
   "cell_type": "markdown",
   "id": "da93a522",
   "metadata": {},
   "source": [
    "- OR (`or`): operador lóxico OR."
   ]
  },
  {
   "cell_type": "code",
   "execution_count": 121,
   "id": "ae76c7e3",
   "metadata": {},
   "outputs": [
    {
     "data": {
      "text/plain": [
       "True"
      ]
     },
     "execution_count": 121,
     "metadata": {},
     "output_type": "execute_result"
    }
   ],
   "source": [
    "True or False # devolve True"
   ]
  },
  {
   "cell_type": "markdown",
   "id": "7b5ed1b0",
   "metadata": {},
   "source": [
    "- NOT (`not`): operador de negación lóxica."
   ]
  },
  {
   "cell_type": "code",
   "execution_count": 122,
   "id": "fced85b2",
   "metadata": {},
   "outputs": [
    {
     "data": {
      "text/plain": [
       "False"
      ]
     },
     "execution_count": 122,
     "metadata": {},
     "output_type": "execute_result"
    }
   ],
   "source": [
    "not True # devolve False"
   ]
  },
  {
   "cell_type": "markdown",
   "id": "0cd7389a",
   "metadata": {},
   "source": [
    "### Operadores de comparación"
   ]
  },
  {
   "cell_type": "markdown",
   "id": "63048883",
   "metadata": {},
   "source": [
    "Hai 6 operadores de comparación.\n",
    "\n",
    "| Exemplo de uso | Valor booleano | Operación |\n",
    "| -- | -- | -- |\n",
    "| 4 < 2 | `False` | `Menor que` |\n",
    "| 4 > 2 | `True` | `Maior que` |\n",
    "| 4 <= 2 | `False` | `Menor ou igual que` |\n",
    "| 4 >= 2 | `True` | `Maior ou igual que` |\n",
    "| 4 == 2 | `False` | `Igual que` |\n",
    "| 4 != 2 | `True` | `Non igual a` |"
   ]
  },
  {
   "cell_type": "markdown",
   "id": "0777e57a",
   "metadata": {},
   "source": [
    "- Menor (`<`): operador que devolve `True` se o valor da esquerda é menor que o valor da dereita. En caso contrario devolverá `False`."
   ]
  },
  {
   "cell_type": "code",
   "execution_count": 6,
   "id": "fb66aa83",
   "metadata": {},
   "outputs": [
    {
     "data": {
      "text/plain": [
       "True"
      ]
     },
     "execution_count": 6,
     "metadata": {},
     "output_type": "execute_result"
    }
   ],
   "source": [
    "3 < 5 # devolve True"
   ]
  },
  {
   "cell_type": "markdown",
   "id": "31fe9614",
   "metadata": {},
   "source": [
    "- Menor ou igual (`<=`): operador que devolve `True` se o valor da esquerda é menor ou igual que o valor da dereita. En caso contrario devolverá `False`."
   ]
  },
  {
   "cell_type": "code",
   "execution_count": 7,
   "id": "d30259b4",
   "metadata": {},
   "outputs": [
    {
     "data": {
      "text/plain": [
       "True"
      ]
     },
     "execution_count": 7,
     "metadata": {},
     "output_type": "execute_result"
    }
   ],
   "source": [
    "5 <= 5 # devolve True"
   ]
  },
  {
   "cell_type": "markdown",
   "id": "2d499085",
   "metadata": {},
   "source": [
    "- Maior (`>`): operador que devolve `True` se o valor da esquerda é maior que o valor da dereita. En caso contrario devolverá `False`."
   ]
  },
  {
   "cell_type": "code",
   "execution_count": 8,
   "id": "e776d887",
   "metadata": {},
   "outputs": [
    {
     "data": {
      "text/plain": [
       "False"
      ]
     },
     "execution_count": 8,
     "metadata": {},
     "output_type": "execute_result"
    }
   ],
   "source": [
    "3 > 5 # devolve False"
   ]
  },
  {
   "cell_type": "markdown",
   "id": "a0b75b4e",
   "metadata": {},
   "source": [
    "- Maior ou igual (`>=`): operador que devolve `True` se o valor da esquerda é maior ou igual que o valor da dereita. En caso contrario devolverá `False`."
   ]
  },
  {
   "cell_type": "code",
   "execution_count": 9,
   "id": "62394fc4",
   "metadata": {},
   "outputs": [
    {
     "data": {
      "text/plain": [
       "True"
      ]
     },
     "execution_count": 9,
     "metadata": {},
     "output_type": "execute_result"
    }
   ],
   "source": [
    "5 >= 5 # devolve True"
   ]
  },
  {
   "cell_type": "markdown",
   "id": "9e73ff43",
   "metadata": {},
   "source": [
    "- Igual (`==`): operador que devolve `True` se o valor da esquerda é igual que o valor da dereita. En caso contrario devolverá `False`."
   ]
  },
  {
   "cell_type": "code",
   "execution_count": 10,
   "id": "4f5046c7",
   "metadata": {},
   "outputs": [
    {
     "data": {
      "text/plain": [
       "False"
      ]
     },
     "execution_count": 10,
     "metadata": {},
     "output_type": "execute_result"
    }
   ],
   "source": [
    "3 == 5 # devolve False"
   ]
  },
  {
   "cell_type": "markdown",
   "id": "7b85c910",
   "metadata": {},
   "source": [
    "- Distinto (`!=`): operador que devolve `True` se o valor da esquerda é distinto que o valor da dereita. En caso contrario devolverá `False`."
   ]
  },
  {
   "cell_type": "code",
   "execution_count": 11,
   "id": "19e1fecb",
   "metadata": {},
   "outputs": [
    {
     "data": {
      "text/plain": [
       "False"
      ]
     },
     "execution_count": 11,
     "metadata": {},
     "output_type": "execute_result"
    }
   ],
   "source": [
    "5 != 5 # devolve False"
   ]
  },
  {
   "cell_type": "markdown",
   "id": "1efbdc91",
   "metadata": {},
   "source": [
    "Un último par de exemplos combinando operadores:"
   ]
  },
  {
   "cell_type": "code",
   "execution_count": 14,
   "id": "9b3d0153",
   "metadata": {},
   "outputs": [
    {
     "name": "stdout",
     "output_type": "stream",
     "text": [
      "True\n"
     ]
    }
   ],
   "source": [
    "x = 42 > 43 # False\n",
    "\n",
    "idade = 14\n",
    "is_teen = idade > 13 and idade < 19\n",
    "print(is_teen) # True"
   ]
  },
  {
   "cell_type": "code",
   "execution_count": 24,
   "id": "b8aee387",
   "metadata": {},
   "outputs": [],
   "source": [
    "sf_poblacion, sf_area = 864816, 231.89\n",
    "rio_poblacion, rio_area = 6453682, 486.5\n",
    "\n",
    "san_francisco_poblacion_densidade = sf_poblacion/sf_area\n",
    "rio_de_janeiro_poblacion_densidade = rio_poblacion/rio_area"
   ]
  },
  {
   "cell_type": "code",
   "execution_count": 25,
   "id": "35a310ab",
   "metadata": {},
   "outputs": [
    {
     "name": "stdout",
     "output_type": "stream",
     "text": [
      "False\n"
     ]
    }
   ],
   "source": [
    "# Write code that prints True if San Francisco is denser than Rio, and False otherwise\n",
    "print(san_francisco_poblacion_densidade > rio_de_janeiro_poblacion_densidade)  # alternativa concisa"
   ]
  },
  {
   "cell_type": "code",
   "execution_count": 26,
   "id": "6c8cb59e",
   "metadata": {},
   "outputs": [
    {
     "name": "stdout",
     "output_type": "stream",
     "text": [
      "False\n"
     ]
    }
   ],
   "source": [
    "if (san_francisco_poblacion_densidade > rio_de_janeiro_poblacion_densidade):  # alternativa máis comprensible\n",
    "    print (True)\n",
    "else:\n",
    "    print (False)"
   ]
  },
  {
   "cell_type": "markdown",
   "id": "3a5eef25",
   "metadata": {},
   "source": [
    "## Cadea de caracteres: *str*"
   ]
  },
  {
   "cell_type": "markdown",
   "id": "6864e13f",
   "metadata": {},
   "source": [
    "As cadeas de texto son secuencias de caracteres encapsuladas entre comiñas simples (`''`) ou comiñas dobres (`\"\"`). "
   ]
  },
  {
   "cell_type": "code",
   "execution_count": 18,
   "id": "24b3b9e9",
   "metadata": {},
   "outputs": [
    {
     "name": "stdout",
     "output_type": "stream",
     "text": [
      "Isto é unha cadea de texto\n",
      "Isto tamén é unha cadea de texto\n"
     ]
    }
   ],
   "source": [
    "texto = 'Isto é unha cadea de texto'\n",
    "print(texto)\n",
    "texto2 = \"Isto tamén é unha cadea de texto\"\n",
    "print(texto2)"
   ]
  },
  {
   "cell_type": "markdown",
   "id": "fa8d15d4",
   "metadata": {},
   "source": [
    "Para poder incluír comiñas no interior dunha cadea de texto utilízase a barra inclinada `\\`, precedéndoas:"
   ]
  },
  {
   "cell_type": "code",
   "execution_count": 21,
   "id": "e4d17ed9",
   "metadata": {},
   "outputs": [
    {
     "name": "stdout",
     "output_type": "stream",
     "text": [
      "Os xogos olímpicos de Barcelona'92 celebráronse en Vigo ;-D\n"
     ]
    }
   ],
   "source": [
    "texto = 'Os xogos olímpicos de Barcelona\\'92 celebráronse en Vigo ;-D'\n",
    "print(texto)"
   ]
  },
  {
   "cell_type": "markdown",
   "id": "0d75be12",
   "metadata": {},
   "source": [
    "Tamén é posible incluír comiñas no interior da cadea de texto, usando as comiñas diferentes como delimitadoras da cadea.\n"
   ]
  },
  {
   "cell_type": "code",
   "execution_count": 24,
   "id": "254eeb4b",
   "metadata": {},
   "outputs": [
    {
     "name": "stdout",
     "output_type": "stream",
     "text": [
      "Os xogos olímpicos de Barcelona'92 celebráronse en Vigo ;-D\n"
     ]
    }
   ],
   "source": [
    "texto = \"Os xogos olímpicos de Barcelona'92 celebráronse en Vigo ;-D\"\n",
    "print(texto)"
   ]
  },
  {
   "cell_type": "markdown",
   "id": "44a25c8e",
   "metadata": {},
   "source": [
    "Ás cadeas de texto almacenadas en variables podemos aplicarlle diferentes operadores para acceder a caracteres individuais, pero ó igual que os **números** e as **tuplas**, os **strings** son tipos de datos **inmutables**[^1], é dicir, non podemos modificar un carácter directamente (cando modificamo-lo valor dunha cadea de texto, realmente non estemos transformando a orixinal senón creando un novo obxecto coas modificacións).\n",
    "\n",
    "Partindo dunha variable chamada *texto*, de tipo `str`, vexamo-las diferentes operacións que se lle poden aplicar:"
   ]
  },
  {
   "cell_type": "code",
   "execution_count": 2,
   "id": "f9c63958",
   "metadata": {},
   "outputs": [
    {
     "name": "stdout",
     "output_type": "stream",
     "text": [
      "Ola, Mundo\n",
      "<class 'str'>\n"
     ]
    }
   ],
   "source": [
    "texto = \"Ola, Mundo\"\n",
    "print(texto)\n",
    "print(type(texto))"
   ]
  },
  {
   "cell_type": "markdown",
   "id": "1af1a407",
   "metadata": {},
   "source": [
    "### Troceado de cadeas de texto"
   ]
  },
  {
   "cell_type": "markdown",
   "id": "00a60993",
   "metadata": {},
   "source": [
    "- Obter un ou varios caracteres (`[]`)\n",
    "\n",
    "As cadeas de texto funcionan como unha lista de caracteres, polo tanto, podemos obte-lo carácter que existe nunha posición concreta da cadea. Para iso, aplicamo-lo operador `[]` indicando a posición á que queremos acceder dentro del.\n",
    "\n",
    "Os *strings* están indexados e cada carácter ten a súa propia posición. Nótese que existen **tanto índices positivos como índices negativos** para acceder a cada carácter da cadena de texto, o que resulta moi útil en determinados casos.\n",
    "As posicións con números positivos cóntanse empezando polo lado esquerdo, e se os números son negativos empézase a conta-las posicións dende o lado dereito.\n"
   ]
  },
  {
   "attachments": {
    "string%20python.png": {
     "image/png": "[encoded data removed]"
    }
   },
   "cell_type": "markdown",
   "id": "4b28cb5d",
   "metadata": {},
   "source": [
    "![string_python.png](attachment:string%20python.png)"
   ]
  },
  {
   "cell_type": "code",
   "execution_count": 130,
   "id": "c34bfaca",
   "metadata": {},
   "outputs": [
    {
     "data": {
      "text/plain": [
       "'M'"
      ]
     },
     "execution_count": 130,
     "metadata": {},
     "output_type": "execute_result"
    }
   ],
   "source": [
    "texto[5] # devolve 'M'"
   ]
  },
  {
   "cell_type": "code",
   "execution_count": 131,
   "id": "dbc5bd51",
   "metadata": {},
   "outputs": [
    {
     "data": {
      "text/plain": [
       "'a'"
      ]
     },
     "execution_count": 131,
     "metadata": {},
     "output_type": "execute_result"
    }
   ],
   "source": [
    "texto[-8] # devolve 'a'"
   ]
  },
  {
   "cell_type": "markdown",
   "id": "ad02987e",
   "metadata": {},
   "source": [
    "Este operador non só permite acceder a unha única posición, senón que tamén pódese seleccionar un rango de caracteres. Para iso usamos este operador indicando a posición inicial e a posición final ás que se quere acceder, do seguinte xeito:\n",
    "    \n",
    "`cadea[posición_inicial:posición_final]`"
   ]
  },
  {
   "cell_type": "markdown",
   "id": "f2b2e347",
   "metadata": {},
   "source": [
    "Hai que ter en conta que isto nos devolverá tódo-los caracteres dende a *posición_inicial* **ata a posición anterior** á *posición_final*, é dicir, o índice inicial está incluído, pero o índice final está excluído."
   ]
  },
  {
   "cell_type": "code",
   "execution_count": 132,
   "id": "836dcc52",
   "metadata": {},
   "outputs": [
    {
     "data": {
      "text/plain": [
       "'Ola, Mundo'"
      ]
     },
     "execution_count": 132,
     "metadata": {},
     "output_type": "execute_result"
    }
   ],
   "source": [
    "texto[:] # equivale a extraer dende o principio ó final, devolve a cadea completa: 'Ola, Mundo'"
   ]
  },
  {
   "cell_type": "code",
   "execution_count": 133,
   "id": "dc8b32b1",
   "metadata": {},
   "outputs": [
    {
     "data": {
      "text/plain": [
       "' Mund'"
      ]
     },
     "execution_count": 133,
     "metadata": {},
     "output_type": "execute_result"
    }
   ],
   "source": [
    "texto[4:9] # devolve ' Mund'"
   ]
  },
  {
   "cell_type": "code",
   "execution_count": 134,
   "id": "7b8de133",
   "metadata": {},
   "outputs": [
    {
     "data": {
      "text/plain": [
       "' Mund'"
      ]
     },
     "execution_count": 134,
     "metadata": {},
     "output_type": "execute_result"
    }
   ],
   "source": [
    "texto[-6:-1] # devolve ' Mund'"
   ]
  },
  {
   "cell_type": "markdown",
   "id": "50d5e0c1",
   "metadata": {},
   "source": [
    "`cadea[:posición_final]` Se deixamo-la *posición_inicial* baleira, Python devolverano-los caracteres dende\n",
    "o comezo da cadea ata a *posición_final*."
   ]
  },
  {
   "cell_type": "code",
   "execution_count": 135,
   "id": "574f4516",
   "metadata": {},
   "outputs": [
    {
     "data": {
      "text/plain": [
       "'Ola, Mund'"
      ]
     },
     "execution_count": 135,
     "metadata": {},
     "output_type": "execute_result"
    }
   ],
   "source": [
    "texto[:9] # devolve os primeiros 9 caracteres: 'Ola, Mund'"
   ]
  },
  {
   "cell_type": "code",
   "execution_count": 136,
   "id": "769dd113",
   "metadata": {},
   "outputs": [
    {
     "data": {
      "text/plain": [
       "'Ola, Mun'"
      ]
     },
     "execution_count": 136,
     "metadata": {},
     "output_type": "execute_result"
    }
   ],
   "source": [
    "texto[:-2] # devolve a cadea, agás os 2 últimos caracteres: 'Ola, Mun'"
   ]
  },
  {
   "cell_type": "markdown",
   "id": "802a6520",
   "metadata": {},
   "source": [
    "`cadea[posición_inicial:]`  Se, doutra banda, deixamos baleira a *posición_final*, devolverano-los caracteres dende a *posición_inicial* ata o final da cadea de caracteres."
   ]
  },
  {
   "cell_type": "code",
   "execution_count": 137,
   "id": "063e0a79",
   "metadata": {},
   "outputs": [
    {
     "data": {
      "text/plain": [
       "', Mundo'"
      ]
     },
     "execution_count": 137,
     "metadata": {},
     "output_type": "execute_result"
    }
   ],
   "source": [
    "texto[3:] # devolve a cadea, excepto os 3 primeiros caracteres: ', Mundo'"
   ]
  },
  {
   "cell_type": "code",
   "execution_count": 138,
   "id": "963b92a2",
   "metadata": {},
   "outputs": [
    {
     "data": {
      "text/plain": [
       "', Mundo'"
      ]
     },
     "execution_count": 138,
     "metadata": {},
     "output_type": "execute_result"
    }
   ],
   "source": [
    "texto[-7:] # devolve os últimos 7 caracteres: ', Mundo'"
   ]
  },
  {
   "cell_type": "markdown",
   "id": "4f3caa6b",
   "metadata": {},
   "source": [
    "`cadea[posición_inicial:posición_final:salto]` Extrae dende *posición_inicial* ata *posición_final*, facendo saltos de tamaño *salto*. Se o valor de *salto* é 1, devolvería tódolos caracteres."
   ]
  },
  {
   "cell_type": "code",
   "execution_count": 139,
   "id": "09ef9d0a",
   "metadata": {},
   "outputs": [
    {
     "data": {
      "text/plain": [
       "'Oa ud'"
      ]
     },
     "execution_count": 139,
     "metadata": {},
     "output_type": "execute_result"
    }
   ],
   "source": [
    "'Ola, Mundo'[::2] # devolve caracteres alternos: 'Oa ud'"
   ]
  },
  {
   "cell_type": "code",
   "execution_count": 140,
   "id": "2c6c91f3",
   "metadata": {},
   "outputs": [
    {
     "data": {
      "text/plain": [
       "'txotxo'"
      ]
     },
     "execution_count": 140,
     "metadata": {},
     "output_type": "execute_result"
    }
   ],
   "source": [
    "'texto texto'[::2] # devolve caracteres alternos"
   ]
  },
  {
   "cell_type": "markdown",
   "id": "bd567afe",
   "metadata": {},
   "source": [
    "### Operadores de cadeas de texto"
   ]
  },
  {
   "cell_type": "markdown",
   "id": "4a3669f9",
   "metadata": {},
   "source": [
    "As cadeas de texto usan os mesmos operadores doutros tipos de datos, pero aplicado ó dominio das cadeas de texto.\n",
    "\n",
    "- Concatenar `(+)`: este operador devolve unha cadea de caracteres unindo os caracteres de dúas cadeas."
   ]
  },
  {
   "cell_type": "code",
   "execution_count": 141,
   "id": "e3ad4cf0",
   "metadata": {},
   "outputs": [
    {
     "data": {
      "text/plain": [
       "'Ola, meu amigo'"
      ]
     },
     "execution_count": 141,
     "metadata": {},
     "output_type": "execute_result"
    }
   ],
   "source": [
    "\"Ola, \" + \"meu amigo\" # devolve 'Ola, meu amigo'"
   ]
  },
  {
   "cell_type": "code",
   "execution_count": 23,
   "id": "5bf64bd0",
   "metadata": {},
   "outputs": [
    {
     "name": "stdout",
     "output_type": "stream",
     "text": [
      "Ola meu amigo\n"
     ]
    }
   ],
   "source": [
    "primeira_palabra = 'Ola'\n",
    "segunda_palabra = 'meu amigo'\n",
    "print(primeira_palabra + ' ' + segunda_palabra) # devolve 'Ola meu amigo'"
   ]
  },
  {
   "cell_type": "code",
   "execution_count": 32,
   "id": "b4e30171",
   "metadata": {},
   "outputs": [
    {
     "name": "stdout",
     "output_type": "stream",
     "text": [
      "Mariano accedeu ó site http://deportes.com/resultados/liga/petanca ás 03:58.\n"
     ]
    }
   ],
   "source": [
    "username = \"Mariano\"\n",
    "timestamp = \"03:58\"\n",
    "url = \"http://deportes.com/resultados/liga/petanca\"\n",
    "\n",
    "# imprime unha mensaxe de log usando as anteriores variables.\n",
    "# O formato da mensaxe debe ser similar a:\n",
    "# \"Ricardo accedeu ó site http://deportes.com/resultados/exhibicion/parchis ás 11:50.\"\n",
    "texto_log = username + \" accedeu ó site \" + url + \" ás \" + timestamp + \".\"\n",
    "print(texto_log)"
   ]
  },
  {
   "cell_type": "markdown",
   "id": "eb424a0b",
   "metadata": {},
   "source": [
    "- Multiplicar `(*)`: este operador permítenos repetir unha cadea de caracteres tantas veces como indiquemos na parte dereita do operador."
   ]
  },
  {
   "cell_type": "code",
   "execution_count": 142,
   "id": "2fcf557b",
   "metadata": {},
   "outputs": [
    {
     "data": {
      "text/plain": [
       "'Fai un sol de carallo! Fai un sol de carallo! Fai un sol de carallo! '"
      ]
     },
     "execution_count": 142,
     "metadata": {},
     "output_type": "execute_result"
    }
   ],
   "source": [
    "\"Fai un sol de carallo! \" * 3 # devolve 'Fai un sol de carallo! Fai un sol de carallo! Fai un sol de carallo! '"
   ]
  },
  {
   "attachments": {
    "metodos_strings.png": {
     "image/png": "[encoded data removed]"
    }
   },
   "cell_type": "markdown",
   "id": "920212a2",
   "metadata": {},
   "source": [
    "### Funcións e métodos\n",
    "Ademais de poder acceder a posicións concretas dunha cadea de texto e os operadores vistos, Python proporciona diferentes funcións e métodos para obter información e manipular cadeas de caracteres.\n",
    "\n",
    "As ***funcións*** usan **parénteses** `()` e aceptan un ou máis **argumentos**.\n",
    "\n",
    "Os ***métodos*** son similares ás funcións que xa estivemos usando (`type()`, `print()`,...) pero usando unha ***notación de punto***.\n",
    "\n",
    "Por exemplo, `.lower()` é un método de cadeas de caracteres que podería usarse cunha cadea como \"*texto*\": `texto.lower()`. \n",
    "\n",
    "Os métodos son específicos para o tipo de datos dunha variable en particular, polo tanto, hai algúns métodos incorporados (*built in*) que están dispoñibles para tóda-las cadeas, diferentes métodos dispoñibles para tódolos números enteiros, etc. Os distintos tipos de obxectos teñen métodos específicos para o seu tipo; por exemplo, o método `.islower()` é un atributo dos métodos de cadea `str`, pero non dos números `int`, e os números en coma flotante `float` teñen o método `.is_integer()` que as cadeas `str` non teñen.\n",
    "\n",
    "Pódense consulta-los métodos dispoñibles para, por exemplo, as cadeas de caracteres, na documentación oficial: https://docs.python.org/es/3/library/stdtypes.html#string-methods\n",
    "\n",
    "![metodos_strings.png](attachment:metodos_strings.png)\n",
    "\n",
    "Cada un destes métodos acepta a propia cadea como primeiro argumento do método, compo por exemplo fai o método `.lower()`; non obstante, tamén poderían recibir argumentos adicionais, que se pasan entre parénteses, como sucede por exemplo cos métodos `.count()` e `.find()`.\n",
    "\n",
    "Algunhas das principais funcións e métodos son as seguintes:"
   ]
  },
  {
   "cell_type": "markdown",
   "id": "9dae1639",
   "metadata": {},
   "source": [
    "- `len()`: esta función permítenos obter a lonxitude da cadea de caracteres, é dicir, devólvenos cuantos caracteres están contidos na cadea."
   ]
  },
  {
   "cell_type": "code",
   "execution_count": 143,
   "id": "feba03ce",
   "metadata": {},
   "outputs": [
    {
     "data": {
      "text/plain": [
       "10"
      ]
     },
     "execution_count": 143,
     "metadata": {},
     "output_type": "execute_result"
    }
   ],
   "source": [
    "len(texto) # devolve 10"
   ]
  },
  {
   "cell_type": "code",
   "execution_count": 36,
   "id": "341f2283",
   "metadata": {},
   "outputs": [
    {
     "name": "stdout",
     "output_type": "stream",
     "text": [
      "True\n"
     ]
    }
   ],
   "source": [
    "nome_pila = \"Jordi\"\n",
    "primeiro_apelido = \"Solé\"\n",
    "segundo_apelido = \"Tura\"\n",
    "\n",
    "lonxitude_nome = len(nome_pila + \" \" + primeiro_apelido + \" \" + segundo_apelido) #calcula a lonxitude do nome completo\n",
    "\n",
    "# Comprobación de que o nome colle dentro do límite de caracteres admitido na licenza de condución\n",
    "limite_caracteres_licenza_conducir = 28\n",
    "print(lonxitude_nome <= limite_caracteres_licenza_conducir)"
   ]
  },
  {
   "cell_type": "markdown",
   "id": "caf7779b",
   "metadata": {},
   "source": [
    "- `.find()`: permite obter dentro da cadea de texto orixinal a primeira posición onde se atopa a subcadea que se pasa por parámetro. No caso de que a subcadea non exista dentro da cadea orixinal, devolve -1."
   ]
  },
  {
   "cell_type": "code",
   "execution_count": 144,
   "id": "ceddaeef",
   "metadata": {},
   "outputs": [
    {
     "data": {
      "text/plain": [
       "5"
      ]
     },
     "execution_count": 144,
     "metadata": {},
     "output_type": "execute_result"
    }
   ],
   "source": [
    "texto.find('Mundo') # devolve 5"
   ]
  },
  {
   "cell_type": "code",
   "execution_count": 145,
   "id": "b49407cc",
   "metadata": {},
   "outputs": [
    {
     "data": {
      "text/plain": [
       "-1"
      ]
     },
     "execution_count": 145,
     "metadata": {},
     "output_type": "execute_result"
    }
   ],
   "source": [
    "texto.find('cruel') # devolve -1"
   ]
  },
  {
   "cell_type": "markdown",
   "id": "025f4713",
   "metadata": {},
   "source": [
    "- Os operadores `in` e `not in`: devolven un valor booleano indicando se unha subcadea se atopa ou non, respectivamente, nunha cadea."
   ]
  },
  {
   "cell_type": "code",
   "execution_count": 5,
   "id": "57648111",
   "metadata": {},
   "outputs": [
    {
     "data": {
      "text/plain": [
       "True"
      ]
     },
     "execution_count": 5,
     "metadata": {},
     "output_type": "execute_result"
    }
   ],
   "source": [
    "'Mundo' in texto"
   ]
  },
  {
   "cell_type": "code",
   "execution_count": 6,
   "id": "b028e1d8",
   "metadata": {},
   "outputs": [
    {
     "data": {
      "text/plain": [
       "False"
      ]
     },
     "execution_count": 6,
     "metadata": {},
     "output_type": "execute_result"
    }
   ],
   "source": [
    "'Cruel' in texto"
   ]
  },
  {
   "cell_type": "markdown",
   "id": "ff9a5538",
   "metadata": {},
   "source": [
    "- `.rfind()`: permite obter dentro da cadea de texto orixinal a última posición onde se atopa a subcadea que se pasa por parámetro. No caso de que a subcadea non exista dentro da cadea orixinal, devolve -1."
   ]
  },
  {
   "cell_type": "code",
   "execution_count": 51,
   "id": "6481f390",
   "metadata": {},
   "outputs": [
    {
     "data": {
      "text/plain": [
       "5"
      ]
     },
     "execution_count": 51,
     "metadata": {},
     "output_type": "execute_result"
    }
   ],
   "source": [
    "texto.rfind('Mundo') # devolve 5"
   ]
  },
  {
   "cell_type": "markdown",
   "id": "30116faf",
   "metadata": {},
   "source": [
    "- `.count()`: conta cantas veces se atopa na cadea de texto orixinal, a subcadea que se pasa por parámetro."
   ]
  },
  {
   "cell_type": "code",
   "execution_count": 5,
   "id": "b013fdca",
   "metadata": {},
   "outputs": [
    {
     "data": {
      "text/plain": [
       "0"
      ]
     },
     "execution_count": 5,
     "metadata": {},
     "output_type": "execute_result"
    }
   ],
   "source": [
    "texto.count('mundo') # devolve 0 porque diferencia entre maiúsculas e minúsculas"
   ]
  },
  {
   "cell_type": "code",
   "execution_count": 6,
   "id": "0550099c",
   "metadata": {},
   "outputs": [
    {
     "data": {
      "text/plain": [
       "3"
      ]
     },
     "execution_count": 6,
     "metadata": {},
     "output_type": "execute_result"
    }
   ],
   "source": [
    "(\"Fai un sol de carallo! \" * 3).count('sol')  # devolve 3, o número de veces que aparece sol no texto"
   ]
  },
  {
   "cell_type": "markdown",
   "id": "81d6c010",
   "metadata": {},
   "source": [
    "- `.upper()`: converte tódo-los caracteres da cadea de texto en maiúsculas."
   ]
  },
  {
   "cell_type": "code",
   "execution_count": 146,
   "id": "e64828f5",
   "metadata": {},
   "outputs": [
    {
     "data": {
      "text/plain": [
       "'OLA, MUNDO'"
      ]
     },
     "execution_count": 146,
     "metadata": {},
     "output_type": "execute_result"
    }
   ],
   "source": [
    "texto.upper() # devolve 'OLA, MUNDO'"
   ]
  },
  {
   "cell_type": "markdown",
   "id": "03f577c1",
   "metadata": {},
   "source": [
    "- `.lower()`: converte tódo-los caracteres da cadea de texto en minúsculas."
   ]
  },
  {
   "cell_type": "code",
   "execution_count": 147,
   "id": "df443766",
   "metadata": {},
   "outputs": [
    {
     "data": {
      "text/plain": [
       "'ola, mundo'"
      ]
     },
     "execution_count": 147,
     "metadata": {},
     "output_type": "execute_result"
    }
   ],
   "source": [
    "texto.lower() # devolve 'ola, mundo'"
   ]
  },
  {
   "cell_type": "markdown",
   "id": "3fed590d",
   "metadata": {},
   "source": [
    "- `.replace()`: permite modifica-lo contido da cadea de caracteres;necesita dous parámetros: o primeiro deles contén a subcadena que queremos substituír, e o segundo contén a cadea de texto que substituirá á primeira subcadena (se a primeira subcadena non existe na cadea de texto orixinal, non haberá ningún cambio)."
   ]
  },
  {
   "cell_type": "code",
   "execution_count": 148,
   "id": "91a180fc",
   "metadata": {},
   "outputs": [
    {
     "data": {
      "text/plain": [
       "'Ola, meu amigo'"
      ]
     },
     "execution_count": 148,
     "metadata": {},
     "output_type": "execute_result"
    }
   ],
   "source": [
    "texto.replace(\"Mundo\", \"meu amigo\") # devolve 'Ola, meu amigo'"
   ]
  },
  {
   "cell_type": "code",
   "execution_count": 149,
   "id": "dc8cf6a4",
   "metadata": {},
   "outputs": [
    {
     "data": {
      "text/plain": [
       "'Ola, Mundo'"
      ]
     },
     "execution_count": 149,
     "metadata": {},
     "output_type": "execute_result"
    }
   ],
   "source": [
    "texto.replace(\"Adeus\", \"Vai rañala\") # devolve 'Ola, Mundo' Ollo!!! Lembremos que o tipo string é INMUTABLE!!!"
   ]
  },
  {
   "cell_type": "markdown",
   "id": "78310e67",
   "metadata": {},
   "source": [
    "- `.format()`: as cadeas de formato conteñen \"**campos de substitución**\" rodeados de corchetes `{}`; todo o que non estea entre corchetes considérase texto literal, que se copia sen cambios na saída. \n",
    "O número de pares de corchetes `{}` que se usa dentro da cadea é o mesmo que o número de substitucións que se quere facer usando os valores dentro de `.format()`.\n",
    "Se se precisa incluír un carácter de corchete no texto literal, pódese escapar duplicándoo: `{{` e `}}`."
   ]
  },
  {
   "cell_type": "code",
   "execution_count": 10,
   "id": "6d98d618",
   "metadata": {},
   "outputs": [
    {
     "name": "stdout",
     "output_type": "stream",
     "text": [
      "Adeus Mundo cruel!\n"
     ]
    }
   ],
   "source": [
    "print(\"{} Mundo {}!\".format('Adeus', 'cruel'))  # devolve a cadea orixinal substituíndo os corchetes polos parámetros pasados"
   ]
  },
  {
   "cell_type": "code",
   "execution_count": 15,
   "id": "1dcce4f9",
   "metadata": {},
   "outputs": [
    {
     "name": "stdout",
     "output_type": "stream",
     "text": [
      "O pai da Constitución foi Jordi, de apelidos Solé Tura.\n"
     ]
    }
   ],
   "source": [
    "nome_pila = \"Jordi\"\n",
    "primeiro_apelido = \"Solé\"\n",
    "segundo_apelido = \"Tura\"\n",
    "\n",
    "frase = \"O pai da Constitución foi {}, de apelidos {} {}.\"\n",
    "print(frase.format(nome_pila, primeiro_apelido, segundo_apelido))"
   ]
  },
  {
   "cell_type": "code",
   "execution_count": 38,
   "id": "020f9757",
   "metadata": {},
   "outputs": [
    {
     "name": "stdout",
     "output_type": "stream",
     "text": [
      "O pai da Constitución foi Jordi,\n",
      " de apelidos Solé Tura.\n"
     ]
    }
   ],
   "source": [
    "nome_pila = \"Jordi\"\n",
    "primeiro_apelido = \"Solé\"\n",
    "segundo_apelido = \"Tura\"\n",
    "\n",
    "print('O pai da Constitución foi {},\\n de apelidos {} {}.'.format(nome_pila, primeiro_apelido, segundo_apelido))"
   ]
  },
  {
   "cell_type": "markdown",
   "id": "b8d3225c",
   "metadata": {},
   "source": [
    "- `.split()`: devolve un contedor de datos chamado ***lista***, `list`, que contén as palabras da cadea de entrada. O método `.split()` ten dous argumentos adicionais (***sep*** e ***maxsplit***). \n",
    "\n",
    "O argumento *separador* úsase para identificar como se debe dividi-la cadea (por exemplo, caracter de espazo en branco, tabulación, retorno, nova liña, ou símbolos de puntuación específica como coma, guións,...). Se non se proporciona o argumento *separador*, **o separador predeterminado é o espazo en branco**.\n",
    "\n",
    "O argumento *número máximo de trozos* proporciona o número máximo de divisións. O argumento dá *número máximo de trozos* + 1 número de elementos na nova lista, sendo a cadea restante devolta como o último elemento da lista. **Se non se indica este valor devolve tódolos posibles valores**, e se se indica o valor 0 devolve a cadea orixinal sen trocear. \n",
    "\n",
    "Máis información na documentación oficial de Python: https://docs.python.org/3.6/library/stdtypes.html?highlight=split#str.split\n"
   ]
  },
  {
   "cell_type": "code",
   "execution_count": 43,
   "id": "db42ae05",
   "metadata": {},
   "outputs": [
    {
     "name": "stdout",
     "output_type": "stream",
     "text": [
      "['O', 'pai', 'da', 'Constitución', 'foi', 'Jordi,', 'de', 'apelidos', 'Solé', 'Tura.']\n"
     ]
    }
   ],
   "source": [
    "cadea_texto = \"O pai da Constitución foi Jordi,\\n de apelidos Solé Tura.\"\n",
    "lista = cadea_texto.split()  # devolve a lista de cada palabra existente na cadea\n",
    "print(lista)"
   ]
  },
  {
   "cell_type": "code",
   "execution_count": 44,
   "id": "e3e10d8b",
   "metadata": {},
   "outputs": [
    {
     "data": {
      "text/plain": [
       "['O pai da Constitución foi Jordi', '\\n de apelidos Solé Tura.']"
      ]
     },
     "execution_count": 44,
     "metadata": {},
     "output_type": "execute_result"
    }
   ],
   "source": [
    "cadea_texto.split(',')  # devolve a lista de cada subcadea existente na cadea diferenciadas polo carácter coma \",\""
   ]
  },
  {
   "cell_type": "code",
   "execution_count": 48,
   "id": "c16c99fc",
   "metadata": {},
   "outputs": [
    {
     "data": {
      "text/plain": [
       "['O pai da Constitución foi Jordi,', ' de apelidos Solé Tura.']"
      ]
     },
     "execution_count": 48,
     "metadata": {},
     "output_type": "execute_result"
    }
   ],
   "source": [
    "cadea_texto.split('\\n')  # devolve a lista de cada subcadea existente na cadea diferenciadas polo carácter salto de liña \"\\n\""
   ]
  },
  {
   "cell_type": "code",
   "execution_count": 49,
   "id": "0ef3472c",
   "metadata": {},
   "outputs": [
    {
     "data": {
      "text/plain": [
       "['O', 'pai da Constitución foi Jordi,\\n de apelidos Solé Tura.']"
      ]
     },
     "execution_count": 49,
     "metadata": {},
     "output_type": "execute_result"
    }
   ],
   "source": [
    "cadea_texto.split(None,1)  # devolve a lista composta de 2 elementos: a primeira palabra da cadea e logo o resto da cadea"
   ]
  },
  {
   "cell_type": "code",
   "execution_count": 50,
   "id": "c7fbf27c",
   "metadata": {},
   "outputs": [
    {
     "data": {
      "text/plain": [
       "['O pai da Constitución foi Jordi,\\n de apelidos Solé Tura.']"
      ]
     },
     "execution_count": 50,
     "metadata": {},
     "output_type": "execute_result"
    }
   ],
   "source": [
    "cadea_texto.split(None,0) # devolve a cadea como único elemento da lista resultante"
   ]
  },
  {
   "cell_type": "markdown",
   "id": "5c319f6a",
   "metadata": {},
   "source": [
    "Un último exemplo de uso de métodos e funcións coas cadeas de texto."
   ]
  },
  {
   "cell_type": "code",
   "execution_count": 57,
   "id": "362a4a5f",
   "metadata": {},
   "outputs": [
    {
     "name": "stdout",
     "output_type": "stream",
     "text": [
      "O texto ten unha lonxitude de 184 caracteres.\n",
      "A primeira aparición da palabra 'quen' ocorre na 40ª posición.\n",
      "A última ocorrencia da palabra 'quen' ocorre na 124ª posición.\n",
      "A palabra 'quen' repítese 2 veces no texto.\n"
     ]
    }
   ],
   "source": [
    "memorias = \"Eu son Balbino. Un rapaz da aldea. Como quen dis, un ninguén. E ademais, pobre. Porque da aldea tamén é Manolito, e non hai quen lle tusa, a pesares do que lle aconteceu por causa miña\"\n",
    "mensaxe = \"O texto ten unha lonxitude de {} caracteres.\\nA primeira aparición da palabra \\\n",
    "'quen' ocorre na {}ª posición.\\nA última ocorrencia da palabra 'quen' \\\n",
    "ocorre na {}ª posición.\\nA palabra 'quen' repítese {} veces no texto.\"\n",
    "palabra = 'quen'\n",
    "\n",
    "lonxitude = len(memorias)\n",
    "primeira_ocorrencia = memorias.find(palabra)\n",
    "ultima_ocorrencia = memorias.rfind(palabra)\n",
    "conta = memorias.count(palabra)\n",
    "\n",
    "print(mensaxe.format(lonxitude, primeira_ocorrencia, ultima_ocorrencia, conta))"
   ]
  },
  {
   "cell_type": "markdown",
   "id": "dc216b2e",
   "metadata": {},
   "source": [
    "## Tipo None (NoneType)"
   ]
  },
  {
   "cell_type": "markdown",
   "id": "3e345cfc",
   "metadata": {},
   "source": [
    "Os catro tipos de dato básicos son o **número enteiro** (`int`), o **número de coma flotante** (`float`), a **cadea de caracteres** (`str`) e o **booleano** (`bool`); pero Python incorpora un quinto tipo de dato chamado `NoneType` cuxo único valor posible é **None** (pronunciado en inglés \"nan\").\n",
    "O tipo None utilízase para definir que o valor dunha variable non é nada ou ningunha cousa.\n",
    "\n",
    "Hai que ter coidado con este tipo de datos, xa que é común utilizalo cando queremos declarar unha variable, pero non lle queremos asignar ningún valor; o valor **None** pódeselle asignar a calquer variable."
   ]
  },
  {
   "cell_type": "code",
   "execution_count": 150,
   "id": "4ab98db7",
   "metadata": {},
   "outputs": [],
   "source": [
    "variable = None"
   ]
  },
  {
   "cell_type": "code",
   "execution_count": 151,
   "id": "ab7f66d9",
   "metadata": {},
   "outputs": [
    {
     "data": {
      "text/plain": [
       "NoneType"
      ]
     },
     "execution_count": 151,
     "metadata": {},
     "output_type": "execute_result"
    }
   ],
   "source": [
    "type(variable) # devolve que é de tipo NoneType"
   ]
  },
  {
   "cell_type": "code",
   "execution_count": 152,
   "id": "b740411a",
   "metadata": {},
   "outputs": [
    {
     "data": {
      "text/plain": [
       "str"
      ]
     },
     "execution_count": 152,
     "metadata": {},
     "output_type": "execute_result"
    }
   ],
   "source": [
    "type(texto) # devolve que é de tipo string"
   ]
  },
  {
   "cell_type": "code",
   "execution_count": 153,
   "id": "75c7c44b",
   "metadata": {},
   "outputs": [
    {
     "data": {
      "text/plain": [
       "'Ola, Mundo'"
      ]
     },
     "execution_count": 153,
     "metadata": {},
     "output_type": "execute_result"
    }
   ],
   "source": [
    "texto # devolve o valor na consola interactiva"
   ]
  },
  {
   "cell_type": "code",
   "execution_count": 154,
   "id": "79f894d7",
   "metadata": {},
   "outputs": [
    {
     "data": {
      "text/plain": [
       "NoneType"
      ]
     },
     "execution_count": 154,
     "metadata": {},
     "output_type": "execute_result"
    }
   ],
   "source": [
    "texto=None # non asigna ningún valor á variable\n",
    "type(texto) # devolve que é de tipo NoneType"
   ]
  },
  {
   "cell_type": "code",
   "execution_count": 155,
   "id": "20c601ad",
   "metadata": {},
   "outputs": [],
   "source": [
    "texto # non devolve nada na consola interactiva, porque agora xa non ten nigún valor"
   ]
  },
  {
   "cell_type": "markdown",
   "id": "ca44ac53",
   "metadata": {},
   "source": [
    "É importante saber que `None` é un tipo de dato propio co seu significado e que o debemos diferenciar de valores por defecto doutros tipos como o booleano (**False**) ou numérico (**0**). Nestes casos **None** é un tipo e valor diferente."
   ]
  },
  {
   "cell_type": "code",
   "execution_count": 156,
   "id": "110bdae2",
   "metadata": {},
   "outputs": [
    {
     "data": {
      "text/plain": [
       "False"
      ]
     },
     "execution_count": 156,
     "metadata": {},
     "output_type": "execute_result"
    }
   ],
   "source": [
    "None == False # devolve False"
   ]
  },
  {
   "cell_type": "markdown",
   "id": "79d82fe3",
   "metadata": {},
   "source": [
    "### Conversión de datos"
   ]
  },
  {
   "cell_type": "markdown",
   "id": "6dbe51a2",
   "metadata": {},
   "source": [
    "Ás veces é necesario facer operación con variables de distintos tipos de dato, polo que deben convertirse dun a outro tipo.\n",
    "\n",
    "Obviamente só se realizará a conversión de datos se o contido é compatible, seria ilóxico tentar convertir \"*Barcelona'92*\" a enteiro porque ten caracteres alfabéticos, para algo así teriamos que separar primeiro todo o texto, utilizando outras operacións previas de preparación."
   ]
  },
  {
   "cell_type": "markdown",
   "id": "c8c299bd",
   "metadata": {},
   "source": [
    "- `str()`: converte a cadena de caracteres (`str`) un obxecto que se lle pasa como parámetro."
   ]
  },
  {
   "cell_type": "code",
   "execution_count": 157,
   "id": "048de333",
   "metadata": {},
   "outputs": [
    {
     "data": {
      "text/plain": [
       "'10'"
      ]
     },
     "execution_count": 157,
     "metadata": {},
     "output_type": "execute_result"
    }
   ],
   "source": [
    "valor = 10\n",
    "str(valor) # devolve ‘10’"
   ]
  },
  {
   "cell_type": "code",
   "execution_count": 158,
   "id": "9002b5b3",
   "metadata": {},
   "outputs": [
    {
     "data": {
      "text/plain": [
       "int"
      ]
     },
     "execution_count": 158,
     "metadata": {},
     "output_type": "execute_result"
    }
   ],
   "source": [
    "type(valor) # devolve int porque, ollo!, a variable segue co mesmo tipo"
   ]
  },
  {
   "cell_type": "markdown",
   "id": "69e23084",
   "metadata": {},
   "source": [
    "- `int()`: converte a valor enteiro (`int`) un obxecto que se lle pasa como parámetro.\n",
    "\n",
    "En caso de ser un número fraccionario, devolverá unicamente a parte enteira, despreciando os decimais. \n",
    "\n",
    "Se o obxecto que se pasa non se pode converter a enteiro, devolverá un erro."
   ]
  },
  {
   "cell_type": "code",
   "execution_count": 159,
   "id": "0201eb42",
   "metadata": {},
   "outputs": [],
   "source": [
    "valor1 = 10.78"
   ]
  },
  {
   "cell_type": "code",
   "execution_count": 160,
   "id": "4f1ee2b8",
   "metadata": {},
   "outputs": [
    {
     "data": {
      "text/plain": [
       "10"
      ]
     },
     "execution_count": 160,
     "metadata": {},
     "output_type": "execute_result"
    }
   ],
   "source": [
    "int(valor1) # devolve 10"
   ]
  },
  {
   "cell_type": "code",
   "execution_count": 161,
   "id": "097ea4c2",
   "metadata": {},
   "outputs": [],
   "source": [
    "valor2 = 'Barcelona`92'"
   ]
  },
  {
   "cell_type": "code",
   "execution_count": 162,
   "id": "05986979",
   "metadata": {},
   "outputs": [
    {
     "ename": "ValueError",
     "evalue": "invalid literal for int() with base 10: 'Barcelona`92'",
     "output_type": "error",
     "traceback": [
      "\u001b[0;31m---------------------------------------------------------------------------\u001b[0m",
      "\u001b[0;31mValueError\u001b[0m                                Traceback (most recent call last)",
      "Input \u001b[0;32mIn [162]\u001b[0m, in \u001b[0;36m<cell line: 1>\u001b[0;34m()\u001b[0m\n\u001b[0;32m----> 1\u001b[0m \u001b[38;5;28;43mint\u001b[39;49m\u001b[43m(\u001b[49m\u001b[43mvalor2\u001b[49m\u001b[43m)\u001b[49m\n",
      "\u001b[0;31mValueError\u001b[0m: invalid literal for int() with base 10: 'Barcelona`92'"
     ]
    }
   ],
   "source": [
    "int(valor2) # devolve un erro de tipo ValueError"
   ]
  },
  {
   "cell_type": "markdown",
   "id": "0ed2a1a4",
   "metadata": {},
   "source": [
    "- `float()`: converte a valor flotante (`float`) un obxecto que se lle pasa como parámetro\n",
    "\n",
    "Se o obxecto que se pasa non se puede convertir a enteiro, devolverá un erro."
   ]
  },
  {
   "cell_type": "code",
   "execution_count": 163,
   "id": "1f9b196e",
   "metadata": {},
   "outputs": [
    {
     "data": {
      "text/plain": [
       "30.0"
      ]
     },
     "execution_count": 163,
     "metadata": {},
     "output_type": "execute_result"
    }
   ],
   "source": [
    "valor1 = 30\n",
    "float(valor1) # devolve 30.0"
   ]
  },
  {
   "cell_type": "code",
   "execution_count": 36,
   "id": "ab1307fe",
   "metadata": {},
   "outputs": [
    {
     "data": {
      "text/plain": [
       "4910.0"
      ]
     },
     "execution_count": 36,
     "metadata": {},
     "output_type": "execute_result"
    }
   ],
   "source": [
    "float(4560 + 350)  # devolve 4910.0"
   ]
  },
  {
   "cell_type": "code",
   "execution_count": 164,
   "id": "efd0a386",
   "metadata": {},
   "outputs": [
    {
     "ename": "ValueError",
     "evalue": "could not convert string to float: 'Ola'",
     "output_type": "error",
     "traceback": [
      "\u001b[0;31m---------------------------------------------------------------------------\u001b[0m",
      "\u001b[0;31mValueError\u001b[0m                                Traceback (most recent call last)",
      "Input \u001b[0;32mIn [164]\u001b[0m, in \u001b[0;36m<cell line: 2>\u001b[0;34m()\u001b[0m\n\u001b[1;32m      1\u001b[0m valor2 \u001b[38;5;241m=\u001b[39m \u001b[38;5;124m'\u001b[39m\u001b[38;5;124mOla\u001b[39m\u001b[38;5;124m'\u001b[39m\n\u001b[0;32m----> 2\u001b[0m \u001b[38;5;28;43mfloat\u001b[39;49m\u001b[43m(\u001b[49m\u001b[43mvalor2\u001b[49m\u001b[43m)\u001b[49m\n",
      "\u001b[0;31mValueError\u001b[0m: could not convert string to float: 'Ola'"
     ]
    }
   ],
   "source": [
    "valor2 = 'Ola'\n",
    "float(valor2) # devolve un erro de tipo ValueError"
   ]
  },
  {
   "cell_type": "markdown",
   "id": "7e23cee0",
   "metadata": {},
   "source": [
    "- `complex()`: converte a valor complexo (`complex`) un obxecto que se lle pasa como parámetro.\n",
    "\n",
    "Se o obxecto que se pasa non se pode converter a complexo, devolverá un erro."
   ]
  },
  {
   "cell_type": "code",
   "execution_count": 165,
   "id": "85631390",
   "metadata": {},
   "outputs": [
    {
     "data": {
      "text/plain": [
       "(23.64+0j)"
      ]
     },
     "execution_count": 165,
     "metadata": {},
     "output_type": "execute_result"
    }
   ],
   "source": [
    "valor1 = 23.64\n",
    "complex(valor1) # devolve 23.64 + 0j"
   ]
  },
  {
   "cell_type": "code",
   "execution_count": 166,
   "id": "d084a2c2",
   "metadata": {},
   "outputs": [
    {
     "ename": "ValueError",
     "evalue": "complex() arg is a malformed string",
     "output_type": "error",
     "traceback": [
      "\u001b[0;31m---------------------------------------------------------------------------\u001b[0m",
      "\u001b[0;31mValueError\u001b[0m                                Traceback (most recent call last)",
      "Input \u001b[0;32mIn [166]\u001b[0m, in \u001b[0;36m<cell line: 2>\u001b[0;34m()\u001b[0m\n\u001b[1;32m      1\u001b[0m valor2 \u001b[38;5;241m=\u001b[39m \u001b[38;5;124m'\u001b[39m\u001b[38;5;124mOla\u001b[39m\u001b[38;5;124m'\u001b[39m\n\u001b[0;32m----> 2\u001b[0m \u001b[38;5;28;43mcomplex\u001b[39;49m\u001b[43m(\u001b[49m\u001b[43mvalor2\u001b[49m\u001b[43m)\u001b[49m\n",
      "\u001b[0;31mValueError\u001b[0m: complex() arg is a malformed string"
     ]
    }
   ],
   "source": [
    "valor2 = 'Ola'\n",
    "complex(valor2) # Devolverá un error de tipo ValueError"
   ]
  },
  {
   "cell_type": "markdown",
   "id": "cc091019",
   "metadata": {},
   "source": [
    "- `bool()`: converte a valor booleano (`bool`) un obxecto que se lle pasa como parámetro. O seu funcionamento é o seguinte:\n",
    "\n",
    "Se non se lle pasa ningún parámetro, devolverá `False`.\n",
    "\n",
    "No resto dos casos devolverá `True` excepto:\n",
    "\n",
    ". se o valor do parámetro é `0`,\n",
    "\n",
    ". se é unha secuencia baleira dalgunha estrutura de datos,\n",
    "\n",
    ". se se pasa o tipo `None`,    \n",
    "\n",
    ". se se pasa o valor `False`. "
   ]
  },
  {
   "cell_type": "code",
   "execution_count": 167,
   "id": "8bae2f13",
   "metadata": {},
   "outputs": [
    {
     "data": {
      "text/plain": [
       "True"
      ]
     },
     "execution_count": 167,
     "metadata": {},
     "output_type": "execute_result"
    }
   ],
   "source": [
    "valor1 = 89.45\n",
    "bool(valor1) # devolve True"
   ]
  },
  {
   "cell_type": "code",
   "execution_count": 168,
   "id": "4a72bf3a",
   "metadata": {},
   "outputs": [
    {
     "data": {
      "text/plain": [
       "False"
      ]
     },
     "execution_count": 168,
     "metadata": {},
     "output_type": "execute_result"
    }
   ],
   "source": [
    "valor2 = False\n",
    "bool(valor2) # devolve False"
   ]
  },
  {
   "cell_type": "code",
   "execution_count": 169,
   "id": "ef7eb36b",
   "metadata": {},
   "outputs": [
    {
     "data": {
      "text/plain": [
       "False"
      ]
     },
     "execution_count": 169,
     "metadata": {},
     "output_type": "execute_result"
    }
   ],
   "source": [
    "valor3 = 0\n",
    "bool(valor3) # devolve False"
   ]
  },
  {
   "cell_type": "markdown",
   "id": "5c9e9bdb",
   "metadata": {},
   "source": [
    "Exemplos de conversións de tipos:"
   ]
  },
  {
   "cell_type": "code",
   "execution_count": 19,
   "id": "480bd8b8",
   "metadata": {},
   "outputs": [
    {
     "name": "stdout",
     "output_type": "stream",
     "text": [
      "<class 'int'>\n",
      "Avenida de Galicia 101, Vigo\n"
     ]
    }
   ],
   "source": [
    "numero_enderezo = 101\n",
    "nome_rua_enderezo = \"Avenida de Galicia\"\n",
    "cidade_enderezo = \"Vigo\"\n",
    "print(type(numero_enderezo))  # devolve <class 'int'=\"\">\n",
    "\n",
    "address = nome_rua_enderezo + \" \" + str(numero_enderezo) + \", \" + cidade_enderezo\n",
    "print(address) # devolve Avenida de Galicia 101, Vigo\n"
   ]
  },
  {
   "cell_type": "code",
   "execution_count": 39,
   "id": "f4ce1a08",
   "metadata": {},
   "outputs": [
    {
     "name": "stdout",
     "output_type": "stream",
     "text": [
      "As vendas totais da semán foron de: 5019\n"
     ]
    }
   ],
   "source": [
    "vendas_luns = \"1310\"\n",
    "vendas_martes= \"1101\"\n",
    "vendas_mercores = \"990\"\n",
    "vendas_xoves = \"878\"\n",
    "vendas_venres = \"740\"\n",
    "\n",
    "#Imprime unha cadea co formato: As vendas totais da semán foron de: xxxx\n",
    "vendas_semana = int(vendas_luns) + int(vendas_martes) + int(vendas_mercores) + int(vendas_xoves) + int(vendas_venres)\n",
    "print(\"As vendas totais da semán foron de: \" + str(vendas_semana))"
   ]
  },
  {
   "cell_type": "markdown",
   "id": "d94534fb",
   "metadata": {},
   "source": [
    "---"
   ]
  },
  {
   "cell_type": "markdown",
   "id": "d6762fee",
   "metadata": {},
   "source": [
    "[^1]Explicación detallada do funcionamento dos **obxectos mutables vs inmutables**: https://jarroba.com/mutables-e-inmutables/\n"
   ]
  }
 ],
 "metadata": {
  "kernelspec": {
   "display_name": "Python 3 (ipykernel)",
   "language": "python",
   "name": "python3"
  },
  "language_info": {
   "codemirror_mode": {
    "name": "ipython",
    "version": 3
   },
   "file_extension": ".py",
   "mimetype": "text/x-python",
   "name": "python",
   "nbconvert_exporter": "python",
   "pygments_lexer": "ipython3",
   "version": "3.9.12"
  }
 },
 "nbformat": 4,
 "nbformat_minor": 5
}
