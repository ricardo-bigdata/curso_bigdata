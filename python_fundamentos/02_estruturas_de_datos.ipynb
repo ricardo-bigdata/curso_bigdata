{
 "cells": [
  {
   "cell_type": "markdown",
   "id": "15460d4f",
   "metadata": {},
   "source": [
    "# 02 Estruturas de datos\n",
    "\n",
    "## Contidos\n",
    "-    Estruturas de datos\n",
    "        - Listas\n",
    "        - Tuplas\n",
    "        - Dicionarios\n",
    "        - Conxuntos\n",
    "  "
   ]
  },
  {
   "cell_type": "markdown",
   "id": "c54eea3c",
   "metadata": {},
   "source": [
    "## Estruturas de datos\n",
    "Ademais dos tipos de datos básicos (numéricos, de cadea de texto, booleanos e NoneType), Python proporciona outros tipos máis complexos de estruturas de datos."
   ]
  },
  {
   "cell_type": "markdown",
   "id": "29bd7535",
   "metadata": {},
   "source": [
    "### Listas\n",
    "As listas son as estruturas de datos máis utilizadas en Python. Unha lista é unha estrutura que nos permite ter un **conxunto de obxectos separados por comas**.\n",
    "\n",
    "Unha lista está composta por 0 ou máis elementos.\n",
    "\n",
    "Esta estrutura de datos é **mutable**, é dicir, podemos cambia-lo valor dunha lista que creamos, cambiando a orde dos elementos, engadindo, modificando e eliminando seus elementos.\n",
    "\n",
    "Nunha lista poden existir elementos heteroxéneos, é dicir, elementos con diferentes tipos de datos ou, mesmo, diferentes estruturas de datos, o que as fai moi versátiles. Con todo, o normal é que todos os elementos dunha lista sexan do mesmo tipo.  \n",
    "\n",
    "- Creación dunha lista\n",
    "\n",
    "Para declarar unha lista, escribimos entre corchetes (`[]`) un conxunto de elementos separados por comas.\n"
   ]
  },
  {
   "cell_type": "code",
   "execution_count": 105,
   "id": "4796b2ad",
   "metadata": {},
   "outputs": [
    {
     "data": {
      "text/plain": [
       "['Ola', 45, True]"
      ]
     },
     "execution_count": 105,
     "metadata": {},
     "output_type": "execute_result"
    }
   ],
   "source": [
    "lista = ['Ola', 45, True]\n",
    "lista # devolve ['Ola', 45, True]"
   ]
  },
  {
   "cell_type": "code",
   "execution_count": 109,
   "id": "8a1a0685",
   "metadata": {},
   "outputs": [
    {
     "data": {
      "text/plain": [
       "list"
      ]
     },
     "execution_count": 109,
     "metadata": {},
     "output_type": "execute_result"
    }
   ],
   "source": [
    "type(lista) # devolve list"
   ]
  },
  {
   "cell_type": "markdown",
   "id": "104687a4",
   "metadata": {},
   "source": [
    "- `list()` Pódese crear unha lista baleira usando unicamente os corchetes sen ningún valor dentro ou utilizando a función `list()`:"
   ]
  },
  {
   "cell_type": "code",
   "execution_count": 24,
   "id": "47be0d5e",
   "metadata": {},
   "outputs": [],
   "source": [
    "lista_baleira = []"
   ]
  },
  {
   "cell_type": "code",
   "execution_count": 25,
   "id": "691529a8",
   "metadata": {},
   "outputs": [
    {
     "data": {
      "text/plain": [
       "list"
      ]
     },
     "execution_count": 25,
     "metadata": {},
     "output_type": "execute_result"
    }
   ],
   "source": [
    "type(lista_baleira)"
   ]
  },
  {
   "cell_type": "code",
   "execution_count": 125,
   "id": "190bb64e",
   "metadata": {},
   "outputs": [],
   "source": [
    "lista_baleira = list() # list() sen argumentos equivale a crear unha lista baleira"
   ]
  },
  {
   "cell_type": "code",
   "execution_count": 126,
   "id": "8f300e08",
   "metadata": {},
   "outputs": [
    {
     "data": {
      "text/plain": [
       "list"
      ]
     },
     "execution_count": 126,
     "metadata": {},
     "output_type": "execute_result"
    }
   ],
   "source": [
    "type(lista_baleira)"
   ]
  },
  {
   "cell_type": "markdown",
   "id": "0b82953d",
   "metadata": {},
   "source": [
    "- Convertir ó tipo lista con `list()`\n",
    "\n",
    "Pódense converter outros tipos de datos nunha lista usando a función `list()` sobre calquera tipo de datos que permita ser iterado."
   ]
  },
  {
   "cell_type": "code",
   "execution_count": 21,
   "id": "dd979a57",
   "metadata": {},
   "outputs": [
    {
     "data": {
      "text/plain": [
       "['O', 'l', 'a', ' ', 'M', 'u', 'n', 'd', 'o']"
      ]
     },
     "execution_count": 21,
     "metadata": {},
     "output_type": "execute_result"
    }
   ],
   "source": [
    "list('Ola Mundo') # converte unha cadea de texto nunha lista"
   ]
  },
  {
   "cell_type": "code",
   "execution_count": 14,
   "id": "ab23233a",
   "metadata": {},
   "outputs": [
    {
     "name": "stdout",
     "output_type": "stream",
     "text": [
      "0 1 2 3 4 "
     ]
    }
   ],
   "source": [
    "# a función range() permite xerar números enteiros, por exemplo:\n",
    "for i in range(5): # imprime un rango de 5 números enteiros na mesma liña\n",
    "    print(i, end=\" \")"
   ]
  },
  {
   "cell_type": "code",
   "execution_count": 15,
   "id": "21948949",
   "metadata": {},
   "outputs": [
    {
     "data": {
      "text/plain": [
       "[0, 1, 2, 3, 4, 5, 6, 7, 8, 9]"
      ]
     },
     "execution_count": 15,
     "metadata": {},
     "output_type": "execute_result"
    }
   ],
   "source": [
    "list(range(10)) # converte un rango numérico nunha lista"
   ]
  },
  {
   "cell_type": "markdown",
   "id": "3091eadf",
   "metadata": {},
   "source": [
    "- Acceso ós elementos dunha lista\n",
    "\n",
    "Nunha lista pódense acceder ós distintos elementos da mesma de xeito idéntico ás cadeas de texto. Para iso, só temos que indica-la posición que ocupa o elemento\n",
    "dentro da lista, é dicir, indica-lo índice do elemento. \n",
    "\n",
    "Hai que ter en conta que o primeiro elemento da lista ocupa a posición 0, e que se se indica un índice anterior ó primeiro, ou posterior ó final obterase un erro."
   ]
  },
  {
   "cell_type": "code",
   "execution_count": 102,
   "id": "6e754206",
   "metadata": {},
   "outputs": [
    {
     "data": {
      "text/plain": [
       "['Ola', 45, True]"
      ]
     },
     "execution_count": 102,
     "metadata": {},
     "output_type": "execute_result"
    }
   ],
   "source": [
    "lista = ['Ola', 45, True]\n",
    "lista[2] # devolve o valor True"
   ]
  },
  {
   "cell_type": "markdown",
   "id": "38b18f66",
   "metadata": {},
   "source": [
    "Permite usar índices negativos para conta-los elementos dende o final da lista"
   ]
  },
  {
   "cell_type": "code",
   "execution_count": 35,
   "id": "aead9d22",
   "metadata": {},
   "outputs": [
    {
     "data": {
      "text/plain": [
       "True"
      ]
     },
     "execution_count": 35,
     "metadata": {},
     "output_type": "execute_result"
    }
   ],
   "source": [
    "lista[-1] # devolve o último valor"
   ]
  },
  {
   "cell_type": "markdown",
   "id": "d3a384ba",
   "metadata": {},
   "source": [
    "- Troceado dunha lista\n",
    "\n",
    "Tamén pódese acceder a un conxunto de elementos dunha lista usando o símbolo de dous puntos (`:`) dentro dos corchetes: a isto se lle chama un rango de índices.\n",
    "\n",
    "Por exemplo, para obte-las x primeiras posicións dunha lista faríase o seguinte: `lista[:x]`"
   ]
  },
  {
   "cell_type": "markdown",
   "id": "f1b689fb",
   "metadata": {},
   "source": [
    "Cando se usan os rangos de **índices, existen uns valores por defecto cando non se indica o seu valor**. \n",
    "\n",
    "O **valor por defecto do primeiro índice é 0** e o **valor por defecto do último índice é a lonxitude da lista**."
   ]
  },
  {
   "cell_type": "code",
   "execution_count": 52,
   "id": "ec5b4794",
   "metadata": {},
   "outputs": [
    {
     "data": {
      "text/plain": [
       "['Ola', 45]"
      ]
     },
     "execution_count": 52,
     "metadata": {},
     "output_type": "execute_result"
    }
   ],
   "source": [
    "lista = ['Ola', 45, True]\n",
    "lista[:2] # devolve os 2 primeiros elementos da lista: ['Ola', 45]"
   ]
  },
  {
   "cell_type": "code",
   "execution_count": 45,
   "id": "6abc8557",
   "metadata": {},
   "outputs": [
    {
     "data": {
      "text/plain": [
       "[45, True]"
      ]
     },
     "execution_count": 45,
     "metadata": {},
     "output_type": "execute_result"
    }
   ],
   "source": [
    "lista = ['Ola', 45, True]\n",
    "lista[1:] # devolve os elementos da lista, a partir do 1º: [45, True]"
   ]
  },
  {
   "cell_type": "markdown",
   "id": "e03f0da5",
   "metadata": {},
   "source": [
    "Ademais, dentro dos índices das listas, xa sexa un só índice ou un rango, podemos usar **valores negativos**. Neses casos Python devolve os elementos contando a súa posición dende a dereita."
   ]
  },
  {
   "cell_type": "code",
   "execution_count": 47,
   "id": "a4ce5e25",
   "metadata": {},
   "outputs": [
    {
     "data": {
      "text/plain": [
       "True"
      ]
     },
     "execution_count": 47,
     "metadata": {},
     "output_type": "execute_result"
    }
   ],
   "source": [
    "lista = ['Ola', 45, True]\n",
    "lista[-1] # devolve True"
   ]
  },
  {
   "cell_type": "code",
   "execution_count": 48,
   "id": "ea418d55",
   "metadata": {},
   "outputs": [
    {
     "data": {
      "text/plain": [
       "[45, True]"
      ]
     },
     "execution_count": 48,
     "metadata": {},
     "output_type": "execute_result"
    }
   ],
   "source": [
    "lista[-2:] # devolve [45, True]"
   ]
  },
  {
   "cell_type": "markdown",
   "id": "1ea4131f",
   "metadata": {},
   "source": [
    "No troceado de listas, a diferencia do que ocurre ó obter elementos, non debemos preocuparnos por acceder a índices inválidos (fora de rango) xa que Python os restrinxirá ós límites da lista."
   ]
  },
  {
   "cell_type": "code",
   "execution_count": 53,
   "id": "52851891",
   "metadata": {},
   "outputs": [
    {
     "data": {
      "text/plain": [
       "[]"
      ]
     },
     "execution_count": 53,
     "metadata": {},
     "output_type": "execute_result"
    }
   ],
   "source": [
    "lista = ['Ola', 45, True]\n",
    "lista[10:] # non dá erro, só devolve unha lista baleira"
   ]
  },
  {
   "cell_type": "code",
   "execution_count": 55,
   "id": "a9325201",
   "metadata": {},
   "outputs": [
    {
     "data": {
      "text/plain": [
       "['Ola', 45]"
      ]
     },
     "execution_count": 55,
     "metadata": {},
     "output_type": "execute_result"
    }
   ],
   "source": [
    "lista = ['Ola', 45, True]\n",
    "lista[-10:2] # non dá erro, simplemente comeza a conta dende o primeiro valor existente"
   ]
  },
  {
   "cell_type": "code",
   "execution_count": 56,
   "id": "b09bbf85",
   "metadata": {},
   "outputs": [
    {
     "data": {
      "text/plain": [
       "[True]"
      ]
     },
     "execution_count": 56,
     "metadata": {},
     "output_type": "execute_result"
    }
   ],
   "source": [
    "lista = ['Ola', 45, True]\n",
    "lista[2:10] # non dá erro, simplemente remata a conta no último valor existente"
   ]
  },
  {
   "cell_type": "markdown",
   "id": "677e129e",
   "metadata": {},
   "source": [
    "Tamén é posible tomar valores \"salteados\" da lista, indicando un valor de *salto* co formato `lista(inicio:fin:salto)`; o terceiro argumento é o número de saltos que se avanza en cada corte.\n",
    "\n",
    "**Ollo!**, entende-los parámetros desta función con step dá para unha enciclopedia ;-D https://www.learnbyexample.org/python-list-slicing/\n"
   ]
  },
  {
   "cell_type": "code",
   "execution_count": 72,
   "id": "0e8f50a5",
   "metadata": {},
   "outputs": [
    {
     "data": {
      "text/plain": [
       "['Ola', True]"
      ]
     },
     "execution_count": 72,
     "metadata": {},
     "output_type": "execute_result"
    }
   ],
   "source": [
    "lista = ['Ola', 45, True]\n",
    "lista[0:3:2] # devolve os datos que e atopan nas posicións impares"
   ]
  },
  {
   "cell_type": "code",
   "execution_count": 73,
   "id": "1c6f2b7e",
   "metadata": {},
   "outputs": [
    {
     "data": {
      "text/plain": [
       "[True, 'Ola']"
      ]
     },
     "execution_count": 73,
     "metadata": {},
     "output_type": "execute_result"
    }
   ],
   "source": [
    "lista = ['Ola', 45, True]\n",
    "lista[-1:-4:-2] # devolve os datos que e atopan nas posicións impares, pero empezando a contar polo final"
   ]
  },
  {
   "cell_type": "markdown",
   "id": "21076a19",
   "metadata": {},
   "source": [
    "#### Funcións aplicables ás listas"
   ]
  },
  {
   "cell_type": "markdown",
   "id": "5205e698",
   "metadata": {},
   "source": [
    "- `len()`: devolve a lonxitude dunha lista, é dicir, o número de elementos incluídos nunha lista."
   ]
  },
  {
   "cell_type": "code",
   "execution_count": 77,
   "id": "5b102ece",
   "metadata": {},
   "outputs": [
    {
     "data": {
      "text/plain": [
       "3"
      ]
     },
     "execution_count": 77,
     "metadata": {},
     "output_type": "execute_result"
    }
   ],
   "source": [
    "lista = ['Ola', 45, True]\n",
    "len(lista) # devolve 3"
   ]
  },
  {
   "cell_type": "markdown",
   "id": "27f26d60",
   "metadata": {},
   "source": [
    "- `index()`: devolve a posición que ocupa un elemento dentro dunha lista. En caso de que o elemento estea repetido, devolverá a primeira posición onde aparece o obxecto. Se non o atopase, daría un erro."
   ]
  },
  {
   "cell_type": "code",
   "execution_count": 163,
   "id": "7b5e1f96",
   "metadata": {},
   "outputs": [
    {
     "data": {
      "text/plain": [
       "0"
      ]
     },
     "execution_count": 163,
     "metadata": {},
     "output_type": "execute_result"
    }
   ],
   "source": [
    "lista = ['Ola', 45, True]\n",
    "lista.index('Ola') # devolve 0"
   ]
  },
  {
   "cell_type": "markdown",
   "id": "7f92239b",
   "metadata": {},
   "source": [
    "- `insert()`: insire un elemento dentro dunha lista na posición que lle indicamos."
   ]
  },
  {
   "cell_type": "code",
   "execution_count": 79,
   "id": "c164d2b1",
   "metadata": {},
   "outputs": [
    {
     "data": {
      "text/plain": [
       "['Ola', 'Adeus', 45, True]"
      ]
     },
     "execution_count": 79,
     "metadata": {},
     "output_type": "execute_result"
    }
   ],
   "source": [
    "lista = ['Ola', 45, True]\n",
    "lista.insert(1, 'Adeus')\n",
    "lista # amosa ['Ola', 'Adeus', 45, True]"
   ]
  },
  {
   "cell_type": "markdown",
   "id": "a6e4fbd0",
   "metadata": {},
   "source": [
    "- `append()`: insire un elemento ó final da lista. No caso de que poñamos unha lista de elementos, a función insireo como un elemento único."
   ]
  },
  {
   "cell_type": "code",
   "execution_count": 83,
   "id": "8874d51d",
   "metadata": {},
   "outputs": [
    {
     "data": {
      "text/plain": [
       "['Ola', 45, True, [30, 70]]"
      ]
     },
     "execution_count": 83,
     "metadata": {},
     "output_type": "execute_result"
    }
   ],
   "source": [
    "lista = ['Ola', 45, True]\n",
    "lista.append([30, 70])\n",
    "lista # amosa ['Ola', 45, True, [30, 70]]"
   ]
  },
  {
   "cell_type": "markdown",
   "id": "1a0223c3",
   "metadata": {},
   "source": [
    "- `extend()`: permite agregar un conxunto de elementos nunha lista. A diferenza do\n",
    "método anterior, se incluímos unha lista de elementos, agregaranse cada un dos\n",
    "elementos á lista."
   ]
  },
  {
   "cell_type": "code",
   "execution_count": 86,
   "id": "1f580404",
   "metadata": {},
   "outputs": [
    {
     "data": {
      "text/plain": [
       "['Ola', 45, True, 30, 70]"
      ]
     },
     "execution_count": 86,
     "metadata": {},
     "output_type": "execute_result"
    }
   ],
   "source": [
    "lista = ['Ola', 45, True]\n",
    "lista.extend([30, 70])\n",
    "lista # amosa ['Ola', 45, True, 30, 70]"
   ]
  },
  {
   "cell_type": "markdown",
   "id": "9efc81f0",
   "metadata": {},
   "source": [
    "- `remove()`: elimina o elemento que pasamos como parámetro da lista. No caso de que este elemento estivese repetido, só se elimina a primeira copia."
   ]
  },
  {
   "cell_type": "code",
   "execution_count": 88,
   "id": "ada8a178",
   "metadata": {},
   "outputs": [
    {
     "data": {
      "text/plain": [
       "[45, True, 'Ola']"
      ]
     },
     "execution_count": 88,
     "metadata": {},
     "output_type": "execute_result"
    }
   ],
   "source": [
    "lista = ['Ola', 45, True, 'Ola']\n",
    "lista.remove('Ola')\n",
    "lista # Mostraranos [45, True, 'Ola']"
   ]
  },
  {
   "cell_type": "markdown",
   "id": "438b4956",
   "metadata": {},
   "source": [
    "- `count()`: devolve o número de veces que se atopa un elemento nunha lista."
   ]
  },
  {
   "cell_type": "code",
   "execution_count": 89,
   "id": "6008cbf6",
   "metadata": {},
   "outputs": [
    {
     "data": {
      "text/plain": [
       "2"
      ]
     },
     "execution_count": 89,
     "metadata": {},
     "output_type": "execute_result"
    }
   ],
   "source": [
    "lista = ['Ola', 45, True, 'Ola']\n",
    "lista.count('Ola') # devolve 2"
   ]
  },
  {
   "cell_type": "markdown",
   "id": "906acc78",
   "metadata": {},
   "source": [
    "- `reverse()`: este método inverte a posición de tódo-los elementos da lista."
   ]
  },
  {
   "cell_type": "code",
   "execution_count": 91,
   "id": "d3031d69",
   "metadata": {},
   "outputs": [
    {
     "data": {
      "text/plain": [
       "[True, 45, 'Ola']"
      ]
     },
     "execution_count": 91,
     "metadata": {},
     "output_type": "execute_result"
    }
   ],
   "source": [
    "lista = ['Ola', 45, True]\n",
    "lista.reverse()\n",
    "lista # amosa [True, 45, 'Ola']"
   ]
  },
  {
   "cell_type": "markdown",
   "id": "f6802a34",
   "metadata": {},
   "source": [
    "- `sort()`: ordena os elementos dunha lista. Por defecto, este método ordénaos en orde crecente. Para ordenalo de forma decrecente, hai que incluí-lo parámetro (`reverse=True`). Ollo! A lista debe conter elementos do mesmo tipo."
   ]
  },
  {
   "cell_type": "code",
   "execution_count": 93,
   "id": "23006681",
   "metadata": {},
   "outputs": [
    {
     "data": {
      "text/plain": [
       "[1, 2, 3, 6, 8, 16, 34]"
      ]
     },
     "execution_count": 93,
     "metadata": {},
     "output_type": "execute_result"
    }
   ],
   "source": [
    "lista = [16, 34, 3, 8, 1, 6, 2]\n",
    "lista.sort()\n",
    "lista # amosa [1, 2, 3, 6, 8, 16, 34]"
   ]
  },
  {
   "cell_type": "code",
   "execution_count": 95,
   "id": "132cb86d",
   "metadata": {},
   "outputs": [
    {
     "data": {
      "text/plain": [
       "[34, 16, 8, 6, 3, 2, 1]"
      ]
     },
     "execution_count": 95,
     "metadata": {},
     "output_type": "execute_result"
    }
   ],
   "source": [
    "lista.sort(reverse=True)\n",
    "lista # amosa [34, 16, 8, 6, 3, 2, 1]"
   ]
  },
  {
   "cell_type": "markdown",
   "id": "851a54db",
   "metadata": {},
   "source": [
    "- `pop()`: elimina e devolve o elemento que se atopa na posición que se pasa como parámetro. No caso de que non se pase ningún valor por parámetro, eliminará e devolverá o último elemento da lista."
   ]
  },
  {
   "cell_type": "code",
   "execution_count": 97,
   "id": "edf1532c",
   "metadata": {},
   "outputs": [
    {
     "data": {
      "text/plain": [
       "34"
      ]
     },
     "execution_count": 97,
     "metadata": {},
     "output_type": "execute_result"
    }
   ],
   "source": [
    "lista = [16, 34, 3, 8, 1, 6, 2]\n",
    "lista.pop(1) # devolve 34"
   ]
  },
  {
   "cell_type": "code",
   "execution_count": 99,
   "id": "76aecccb",
   "metadata": {},
   "outputs": [
    {
     "data": {
      "text/plain": [
       "[16, 3, 8, 1, 6, 2]"
      ]
     },
     "execution_count": 99,
     "metadata": {},
     "output_type": "execute_result"
    }
   ],
   "source": [
    "lista # amosa [16, 3, 8, 1, 6, 2]"
   ]
  },
  {
   "cell_type": "markdown",
   "id": "c4e34f4e",
   "metadata": {},
   "source": [
    "### Tuplas\n",
    "Ó igual que as listas, as tuplas son conxuntos de elementos separados por comas, pero, a diferenza das listas, as tuplas son *inmutables*, é dicir, non se poden modificar unha vez creadas.\n",
    "\n",
    "Aínda que poidan parecer estruturas de datos moi similares, as tuplas, ó ser inmutables, carecen de certas operacións, especialmente as que teñen que ver coa modificación dos seus valores. Pero aínda que as listas son máis flexibles e potentes, as tuplas teñen tamén certas vantaxes fronte ás listas:\n",
    "\n",
    "-- As tuplas ocupan menos espazo en memoria.\n",
    "\n",
    "-- Nas tuplas existe protección fronte a cambios indesexados.\n",
    "\n",
    "-- As tuplas pódense usar como claves de dicionarios (son *hashables*).\n",
    "\n",
    "-- As *namedtuples* son unha alternativa sinxela aos obxectos.\n",
    "\n",
    "\n",
    "\n",
    "- Creación dunha tupla (*empaquetado de tuplas*)\n",
    "\n",
    "Unha tupla créase a partir dunha secuencia de valores separados por comas. \n",
    "O resultado é unha tupla que contén todos estes elementos.\n",
    "A esta operación denomínaselle **empaquetado de tuplas**."
   ]
  },
  {
   "cell_type": "code",
   "execution_count": 170,
   "id": "d1e6bf80",
   "metadata": {},
   "outputs": [
    {
     "data": {
      "text/plain": [
       "('Ola', 4.5, True, 'Ola')"
      ]
     },
     "execution_count": 170,
     "metadata": {},
     "output_type": "execute_result"
    }
   ],
   "source": [
    "tupla = 'Ola', 4.5, True, 'Ola'\n",
    "tupla # devolve ('Ola', 4.5, True, 'Ola')"
   ]
  },
  {
   "cell_type": "code",
   "execution_count": 121,
   "id": "8636ba28",
   "metadata": {},
   "outputs": [
    {
     "data": {
      "text/plain": [
       "tuple"
      ]
     },
     "execution_count": 121,
     "metadata": {},
     "output_type": "execute_result"
    }
   ],
   "source": [
    "type(tupla) # devolve tuple"
   ]
  },
  {
   "cell_type": "markdown",
   "id": "6a8b1107",
   "metadata": {},
   "source": [
    "- `tuple()` Pódese crear unha tupla baleira usando unicamente os parénteses sen ningún valor dentro ou utilizando a función `tuple()`:"
   ]
  },
  {
   "cell_type": "code",
   "execution_count": 122,
   "id": "bdff6b40",
   "metadata": {},
   "outputs": [],
   "source": [
    "tupla_baleira = tuple() # tuple() sen argumentos equivale a crear unha tupla baleira"
   ]
  },
  {
   "cell_type": "code",
   "execution_count": 123,
   "id": "ccee3c7d",
   "metadata": {},
   "outputs": [
    {
     "data": {
      "text/plain": [
       "tuple"
      ]
     },
     "execution_count": 123,
     "metadata": {},
     "output_type": "execute_result"
    }
   ],
   "source": [
    "type(tupla_baleira)"
   ]
  },
  {
   "cell_type": "code",
   "execution_count": 124,
   "id": "9f3b683b",
   "metadata": {},
   "outputs": [
    {
     "data": {
      "text/plain": [
       "tuple"
      ]
     },
     "execution_count": 124,
     "metadata": {},
     "output_type": "execute_result"
    }
   ],
   "source": [
    "tupla_baleira = ()\n",
    "type(tupla_baleira)"
   ]
  },
  {
   "cell_type": "markdown",
   "id": "09ee01c1",
   "metadata": {},
   "source": [
    "Asemade, pódense converter a tipo tupla outros tipos de datos, sempre e cando eses datos sexan *iterables* (cadeas de caracteres, dicionarios, conxuntos,...), usando a función `tuple()`"
   ]
  },
  {
   "cell_type": "code",
   "execution_count": 135,
   "id": "ff5be72e",
   "metadata": {},
   "outputs": [
    {
     "data": {
      "text/plain": [
       "['Ola', 45, True]"
      ]
     },
     "execution_count": 135,
     "metadata": {},
     "output_type": "execute_result"
    }
   ],
   "source": [
    "lista = ['Ola', 45, True]\n",
    "lista"
   ]
  },
  {
   "cell_type": "code",
   "execution_count": 136,
   "id": "d3ca61d8",
   "metadata": {},
   "outputs": [
    {
     "data": {
      "text/plain": [
       "('Ola', 45, True)"
      ]
     },
     "execution_count": 136,
     "metadata": {},
     "output_type": "execute_result"
    }
   ],
   "source": [
    "tupla = tuple(lista) # converte unha lista nunha tupla\n",
    "tupla"
   ]
  },
  {
   "cell_type": "code",
   "execution_count": 141,
   "id": "bfc0a760",
   "metadata": {},
   "outputs": [
    {
     "data": {
      "text/plain": [
       "tuple"
      ]
     },
     "execution_count": 141,
     "metadata": {},
     "output_type": "execute_result"
    }
   ],
   "source": [
    "type(tupla)"
   ]
  },
  {
   "cell_type": "code",
   "execution_count": 142,
   "id": "da9b2abc",
   "metadata": {},
   "outputs": [
    {
     "data": {
      "text/plain": [
       "('O', 'l', 'a', ',', ' ', 'M', 'u', 'n', 'd', 'o', '!')"
      ]
     },
     "execution_count": 142,
     "metadata": {},
     "output_type": "execute_result"
    }
   ],
   "source": [
    "tupla = tuple('Ola, Mundo!') # converte unha lista nunha tupla\n",
    "tupla"
   ]
  },
  {
   "cell_type": "code",
   "execution_count": 143,
   "id": "31a9b7a2",
   "metadata": {},
   "outputs": [
    {
     "data": {
      "text/plain": [
       "tuple"
      ]
     },
     "execution_count": 143,
     "metadata": {},
     "output_type": "execute_result"
    }
   ],
   "source": [
    "type(tupla)"
   ]
  },
  {
   "cell_type": "markdown",
   "id": "34ba147c",
   "metadata": {},
   "source": [
    "- Desempaquetado de tuplas"
   ]
  },
  {
   "cell_type": "markdown",
   "id": "2e13f8a4",
   "metadata": {},
   "source": [
    "Tamén existe o método inverso ó empaquetado: se a unha tupla de lonxitud *n* lle asignamos *n* variables, cada unha das variables terá un dos compoñentes da tupla. A esta operación se lle chama *desempaquetado de tuplas*."
   ]
  },
  {
   "cell_type": "code",
   "execution_count": 145,
   "id": "021aa37a",
   "metadata": {},
   "outputs": [
    {
     "data": {
      "text/plain": [
       "('Ola', 4.5, True, 'Ola')"
      ]
     },
     "execution_count": 145,
     "metadata": {},
     "output_type": "execute_result"
    }
   ],
   "source": [
    "tupla = 'Ola', 4.5, True, 'Ola'\n",
    "tupla # amosa que o contido da tupla é ('Ola', 4.5, True, 'Ola')"
   ]
  },
  {
   "cell_type": "code",
   "execution_count": 146,
   "id": "f6fc429b",
   "metadata": {},
   "outputs": [],
   "source": [
    "w, x, y, z = tupla # devolve cada un dos valores da tupla a cadansúa variable: w = 'Ola', x = 4.5, y = True, z = 'Ola'"
   ]
  },
  {
   "cell_type": "code",
   "execution_count": 147,
   "id": "fc1c17cb",
   "metadata": {},
   "outputs": [
    {
     "name": "stdout",
     "output_type": "stream",
     "text": [
      "Ola 4.5 True Ola\n"
     ]
    }
   ],
   "source": [
    "print (w, x, y, z)"
   ]
  },
  {
   "attachments": {
    "tuple-unpacking.jpg": {
     "image/jpeg": "[encoded data removed]"
    }
   },
   "cell_type": "markdown",
   "id": "3a6e32c3",
   "metadata": {},
   "source": [
    "![tuple-unpacking.jpg](attachment:tuple-unpacking.jpg)"
   ]
  },
  {
   "cell_type": "markdown",
   "id": "3dcf6e0d",
   "metadata": {},
   "source": [
    "- Acceso ós elementos dunha tupla\n",
    "\n",
    "Para acceder ós elementos dunha tupla, faise do mesmo xeito que coas listas."
   ]
  },
  {
   "cell_type": "code",
   "execution_count": 150,
   "id": "7479d21d",
   "metadata": {},
   "outputs": [
    {
     "data": {
      "text/plain": [
       "4.5"
      ]
     },
     "execution_count": 150,
     "metadata": {},
     "output_type": "execute_result"
    }
   ],
   "source": [
    "tupla[1] # amosa 4.5"
   ]
  },
  {
   "cell_type": "code",
   "execution_count": 149,
   "id": "f6425f92",
   "metadata": {},
   "outputs": [
    {
     "data": {
      "text/plain": [
       "(4.5, True, 'Ola')"
      ]
     },
     "execution_count": 149,
     "metadata": {},
     "output_type": "execute_result"
    }
   ],
   "source": [
    "tupla[1:] # ammosa (4.5, True, 'Ola')"
   ]
  },
  {
   "cell_type": "markdown",
   "id": "1f48e3cb",
   "metadata": {},
   "source": [
    "#### Funcións aplicables ás tuplas"
   ]
  },
  {
   "cell_type": "markdown",
   "id": "d7fb07b2",
   "metadata": {},
   "source": [
    "- `len()`: método que devolve a lonxitude da tupla."
   ]
  },
  {
   "cell_type": "code",
   "execution_count": 153,
   "id": "f671c9cc",
   "metadata": {},
   "outputs": [
    {
     "data": {
      "text/plain": [
       "4"
      ]
     },
     "execution_count": 153,
     "metadata": {},
     "output_type": "execute_result"
    }
   ],
   "source": [
    "tupla = 'Ola', 4.5, True, 'Ola'\n",
    "len(tupla) # devolve 4"
   ]
  },
  {
   "cell_type": "markdown",
   "id": "2a8ef6ed",
   "metadata": {},
   "source": [
    "- `count()`: número de veces que se atopa un elemento nunha tupla."
   ]
  },
  {
   "cell_type": "code",
   "execution_count": 156,
   "id": "06bdbde8",
   "metadata": {},
   "outputs": [
    {
     "data": {
      "text/plain": [
       "2"
      ]
     },
     "execution_count": 156,
     "metadata": {},
     "output_type": "execute_result"
    }
   ],
   "source": [
    "tupla.count('Ola') # devolve 2"
   ]
  },
  {
   "cell_type": "markdown",
   "id": "e0f9403b",
   "metadata": {},
   "source": [
    "- `index()`: devolve a posición que ocupa un elemento dentro dunha tupla. En caso de que o elemento estea repetido, devolverá a primeira posición onde aparece o obxecto. Se non o atopase, daría un erro."
   ]
  },
  {
   "cell_type": "code",
   "execution_count": 164,
   "id": "d951abe7",
   "metadata": {},
   "outputs": [
    {
     "data": {
      "text/plain": [
       "0"
      ]
     },
     "execution_count": 164,
     "metadata": {},
     "output_type": "execute_result"
    }
   ],
   "source": [
    "tupla.index('Ola') # Devolverá 0"
   ]
  },
  {
   "cell_type": "markdown",
   "id": "3dd46fb8",
   "metadata": {},
   "source": [
    "### Dicionarios"
   ]
  },
  {
   "cell_type": "markdown",
   "id": "16d083a3",
   "metadata": {},
   "source": [
    "Os dicionarios conforman unha estrutura que enlaza os elementos almacenados con chaves (*keys*) en vez de índices, como ocorría coas estruturas anteriores. É dicir, para acceder a un obxecto é necesario facelo a través da súa chave.\n",
    "\n",
    "A mellor maneira de comprender un dicionario é velo como **un conxunto de pares (chave, valor), onde as chaves son únicas, é dicir, non están repetidas, e permítennos acceder ó obxecto almacenado**. \n",
    "\n",
    "Os dicionarios en Python teñen as seguintes características:\n",
    "\n",
    "-- Manteñen a orde no que se insiren as chaves.\n",
    "\n",
    "-- Son ***mutables***, co que admiten engadir, borrar e modifica-los seus elementos.\n",
    "\n",
    "-- As chaves deben ser únicas. A miúdo utilízanse as cadeas de texto como chaves, pero en realidade podería ser calquera tipo de datos inmutable: enteiros, flotantes, tuplas (entre outros).\n",
    "\n",
    "-- Teñen un acceso moi rápido ós seus elementos, debido á forma na que están implementados internamente.\n",
    "\n",
    "\n",
    "Para crear un dicionario definiremos un conxunto de elementos *chave valor* delimitados por chaves (`{}`)."
   ]
  },
  {
   "cell_type": "code",
   "execution_count": 168,
   "id": "b3c62105",
   "metadata": {},
   "outputs": [],
   "source": [
    "dicionario = {\n",
    "'chave1': 'O meu primeiro valor',\n",
    "'chave3': 'O terceiro valor',\n",
    "'chave2': 'Este é o meu segundo valor'\n",
    "}"
   ]
  },
  {
   "cell_type": "markdown",
   "id": "c43c259a",
   "metadata": {},
   "source": [
    "Para acceder a un dos seus valores, necesitamos coñece-la súa chave e a poremos entre corchetes (`[]`)."
   ]
  },
  {
   "cell_type": "code",
   "execution_count": 169,
   "id": "5f6c77a6",
   "metadata": {},
   "outputs": [
    {
     "data": {
      "text/plain": [
       "'O meu primeiro valor'"
      ]
     },
     "execution_count": 169,
     "metadata": {},
     "output_type": "execute_result"
    }
   ],
   "source": [
    "dicionario['chave1'] # devolve 'O meu primeiro valor'"
   ]
  },
  {
   "cell_type": "code",
   "execution_count": null,
   "id": "dc5dd115",
   "metadata": {},
   "outputs": [],
   "source": [
    "Para crear novos elementos nos dicionarios usamos a mesma forma de acceso a un\n",
    "elemento, pero asignando un novo valor:\n",
    "dicionario['clave_nova'] = ‘novo valor’\n",
    "Podemos crear dicionarios baleiros usando as chaves, pero sen inserir ningún\n",
    "elemento, ou usando a función dict() :\n",
    "dicionario = dict()\n",
    "Podemos eliminar un elemento do dicionario usando a instrución do e indicando\n",
    "que elemento do dicionario queremos eliminar.\n",
    "do dicionario['clave1'] # Eliminará o elemento con clave 'crave1'\n",
    "Funcións aplicables a dicionarios\n",
    "A continuación, enumeraremos dous das funcións máis utilizadas nos\n",
    "dicionarios.\n",
    " list :\n",
    "devolve unha lista de todas as claves incluídas nun dicionario. Se\n",
    "queremos a lista ordenada, usaremos a función sorted en lugar de list .\n",
    "list(dicionario) # Devolverá ['clave1', 'clave3', 'clave2']\n",
    "sorted(dicionario) # Devolverá ['clave1', 'clave2', 'clave3']\n",
    " in :\n",
    "comproba se unha clave atópase no dicionario.\n",
    "'clave3' in dicionario # Devolverá True"
   ]
  },
  {
   "cell_type": "code",
   "execution_count": null,
   "id": "555d677e",
   "metadata": {},
   "outputs": [],
   "source": []
  },
  {
   "cell_type": "code",
   "execution_count": 172,
   "id": "744fed9e",
   "metadata": {},
   "outputs": [
    {
     "name": "stdout",
     "output_type": "stream",
     "text": [
      " 01_sintaxe_e_tipos_datos_basicos_de_python.ipynb   imaxes\r\n",
      " 02_estruturas_de_datos.ipynb\t\t\t   'Markdown Cheat Sheet.ipynb'\r\n",
      " 03_sentenzas_condicionais_e_iterativas.ipynb\t    markdown-cheat-sheet.md\r\n",
      " Constantes.py\t\t\t\t\t    __pycache__\r\n"
     ]
    }
   ],
   "source": [
    "! ls"
   ]
  },
  {
   "cell_type": "code",
   "execution_count": null,
   "id": "0fe37e95",
   "metadata": {},
   "outputs": [],
   "source": []
  }
 ],
 "metadata": {
  "kernelspec": {
   "display_name": "Python 3 (ipykernel)",
   "language": "python",
   "name": "python3"
  },
  "language_info": {
   "codemirror_mode": {
    "name": "ipython",
    "version": 3
   },
   "file_extension": ".py",
   "mimetype": "text/x-python",
   "name": "python",
   "nbconvert_exporter": "python",
   "pygments_lexer": "ipython3",
   "version": "3.9.12"
  }
 },
 "nbformat": 4,
 "nbformat_minor": 5
}
