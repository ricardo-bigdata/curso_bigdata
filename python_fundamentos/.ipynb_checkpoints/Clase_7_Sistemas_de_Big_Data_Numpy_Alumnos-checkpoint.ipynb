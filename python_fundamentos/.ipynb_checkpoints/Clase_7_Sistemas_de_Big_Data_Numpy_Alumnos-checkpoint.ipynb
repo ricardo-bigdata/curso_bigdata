{
 "cells": [
  {
   "cell_type": "markdown",
   "metadata": {
    "id": "qhZX1m_80Wzk"
   },
   "source": [
    "Instalación de Numpy en Anaconda:\n",
    " \n",
    "**conda install -c anaconda numpy**\n",
    " \n",
    "https://anaconda.org/anaconda/numpy"
   ]
  },
  {
   "cell_type": "markdown",
   "metadata": {
    "id": "Y3O76WKP0x1S"
   },
   "source": [
    "Numpy es una biblioteca de gestión y manipulación de arrays. No contiene funcionalidades de modelado o científicas.\n",
    "\n",
    "Es una herramienta muy potente en convinación con Pandas, Matplot u otras bibliotecas. "
   ]
  },
  {
   "cell_type": "markdown",
   "metadata": {
    "id": "4D58lMdi1fmA"
   },
   "source": [
    "Webs con datos de ejemplo para practicar:\n",
    " \n",
    "https://datahub.io/core/oil-prices#resource-brent-daily\n",
    " \n",
    "https://datahub.io/core/oil-prices\n",
    " \n",
    "https://www.kaggle.com/mabusalah/brent-oil-prices\n",
    " \n"
   ]
  },
  {
   "cell_type": "markdown",
   "metadata": {
    "id": "ol1eLuGO2BjB"
   },
   "source": [
    "Webs interesantes para buscar artículos académicos y trabajos realizados por científicos de datos de la comunidad internacional:\n",
    " \n",
    "https://towardsdatascience.com/machine-learning/home\n",
    " "
   ]
  },
  {
   "cell_type": "markdown",
   "metadata": {
    "id": "29hPOqoK2ZXo"
   },
   "source": [
    "Importación de Numpy para su uso en nuestro proyecto"
   ]
  },
  {
   "cell_type": "code",
   "execution_count": null,
   "metadata": {
    "id": "T9LuKz6w0Ea_"
   },
   "outputs": [],
   "source": [
    "import numpy as np"
   ]
  },
  {
   "cell_type": "code",
   "execution_count": null,
   "metadata": {
    "colab": {
     "base_uri": "https://localhost:8080/",
     "height": 35
    },
    "id": "PfJfFe8y20hS",
    "outputId": "a57ea814-37de-4773-efad-5c14b1f735cb"
   },
   "outputs": [
    {
     "data": {
      "application/vnd.google.colaboratory.intrinsic+json": {
       "type": "string"
      },
      "text/plain": [
       "'1.19.5'"
      ]
     },
     "execution_count": 86,
     "metadata": {
      "tags": []
     },
     "output_type": "execute_result"
    }
   ],
   "source": [
    "np.__version__"
   ]
  },
  {
   "cell_type": "markdown",
   "metadata": {
    "id": "OmyF8mUr23s5"
   },
   "source": [
    "En caso de usar usar un IDE Python como Pycharm\n",
    " \n",
    "https://www.jetbrains.com/es-es/pycharm/\n",
    " \n",
    "o Spyder (viene por defecto con Anaconda) \n",
    " \n",
    "https://www.spyder-ide.org/"
   ]
  },
  {
   "cell_type": "code",
   "execution_count": null,
   "metadata": {
    "colab": {
     "base_uri": "https://localhost:8080/"
    },
    "id": "tLdM-F9f2hF6",
    "outputId": "a3938497-a887-4895-f8e3-f716032b91f9"
   },
   "outputs": [
    {
     "name": "stdout",
     "output_type": "stream",
     "text": [
      "1.19.5\n"
     ]
    }
   ],
   "source": [
    "print(np.__version__)"
   ]
  },
  {
   "cell_type": "markdown",
   "metadata": {
    "id": "Iaq9Pvke4EPn"
   },
   "source": [
    "Algunas razones para emplear Numpy en vez de otras herramientas de Python. \n",
    " \n",
    "Rendimiento.\n",
    " \n",
    "Se considera que Numpy es entre 10 y 100 veces más rápido que sus homólogos de Python.\n",
    " \n",
    "Consume menos recursos hardware"
   ]
  },
  {
   "cell_type": "code",
   "execution_count": null,
   "metadata": {
    "id": "cafyQDf63AEX"
   },
   "outputs": [],
   "source": [
    "# Numpy array \n",
    "my_arr = np.arange(1000000) #\n",
    "# versus python lists\n",
    "my_list = list(range(1000000))"
   ]
  },
  {
   "cell_type": "markdown",
   "metadata": {
    "id": "bnBF14O94PsO"
   },
   "source": [
    "Multiplicación de cada secuencia x 2"
   ]
  },
  {
   "cell_type": "code",
   "execution_count": null,
   "metadata": {
    "colab": {
     "base_uri": "https://localhost:8080/"
    },
    "id": "Ub7pC4Eh39RE",
    "outputId": "5c49452f-dc08-4cf7-95db-c9f536d9bc78"
   },
   "outputs": [
    {
     "name": "stdout",
     "output_type": "stream",
     "text": [
      "CPU times: user 39.5 ms, sys: 120 µs, total: 39.6 ms\n",
      "Wall time: 41.9 ms\n"
     ]
    }
   ],
   "source": [
    "%time for _ in range(10): my_arr2 = my_arr * 2"
   ]
  },
  {
   "cell_type": "code",
   "execution_count": null,
   "metadata": {
    "colab": {
     "base_uri": "https://localhost:8080/"
    },
    "id": "YlM48m_g3-Pt",
    "outputId": "82cc12c8-3edc-4da5-a951-65a7a3ec478a"
   },
   "outputs": [
    {
     "name": "stdout",
     "output_type": "stream",
     "text": [
      "CPU times: user 863 ms, sys: 143 ms, total: 1.01 s\n",
      "Wall time: 1.01 s\n"
     ]
    }
   ],
   "source": [
    "%time for _ in range(10): my_list2 = [x * 2 for x in my_list]"
   ]
  },
  {
   "cell_type": "markdown",
   "metadata": {
    "id": "UwLO1rg15nVF"
   },
   "source": [
    "EJERCICIO\n",
    " \n",
    "Prueba a ejecutar el código anterior en tu equipo y observa la diferencia en cuanto a rendimiento.\n",
    " \n",
    "Los datos pueden ser completamente distintos de los mostrados en el ejemplo, pues dependerán de los recursos de cada pc."
   ]
  },
  {
   "cell_type": "markdown",
   "metadata": {
    "id": "UJcjPTp_5Sfp"
   },
   "source": [
    "EL ARRAY MULTIDIMENSIONAL DE Numpy o ndarray"
   ]
  },
  {
   "cell_type": "code",
   "execution_count": null,
   "metadata": {
    "id": "KwAHa0ew4Ad8"
   },
   "outputs": [],
   "source": [
    "# Generador de valores aleatorios de Numpy\n",
    "# En este caso una matriz o array de 2 filas x 3 columna\n",
    "data = np.random.randn(2, 3)"
   ]
  },
  {
   "cell_type": "code",
   "execution_count": null,
   "metadata": {
    "colab": {
     "base_uri": "https://localhost:8080/"
    },
    "id": "_3nmeycZ5aCl",
    "outputId": "148bc422-feb6-4dbb-9fb5-8dec31d2e7dd"
   },
   "outputs": [
    {
     "data": {
      "text/plain": [
       "array([[-1.84710168,  0.19199294,  1.02248482],\n",
       "       [ 0.56268534,  0.02273202,  1.20341485]])"
      ]
     },
     "execution_count": 12,
     "metadata": {
      "tags": []
     },
     "output_type": "execute_result"
    }
   ],
   "source": [
    "data"
   ]
  },
  {
   "cell_type": "markdown",
   "metadata": {
    "id": "bBpqZuxJ6Tek"
   },
   "source": [
    "EJERCICIO\n",
    " \n",
    "Genera tu propio array"
   ]
  },
  {
   "cell_type": "markdown",
   "metadata": {
    "id": "VaNFkynx6cQn"
   },
   "source": [
    "Aplicación de operaciones sobre los elementos de un array"
   ]
  },
  {
   "cell_type": "code",
   "execution_count": null,
   "metadata": {
    "colab": {
     "base_uri": "https://localhost:8080/"
    },
    "id": "UTKGy4ps6bls",
    "outputId": "9b345478-6fc1-4fdf-d7fa-eb34f5546ed0"
   },
   "outputs": [
    {
     "data": {
      "text/plain": [
       "array([[-3.69420337,  0.38398587,  2.04496964],\n",
       "       [ 1.12537069,  0.04546404,  2.40682969]])"
      ]
     },
     "execution_count": 13,
     "metadata": {
      "tags": []
     },
     "output_type": "execute_result"
    }
   ],
   "source": [
    "data * 2"
   ]
  },
  {
   "cell_type": "markdown",
   "metadata": {
    "id": "SEiIttYl6tsv"
   },
   "source": [
    "EJERCICIO\n",
    " \n",
    "Calcula el cuadrado de los elementos de tu array\n",
    " \n",
    "Puedes usar el operador ** o power\n",
    " \n",
    "https://numpy.org/doc/stable/reference/generated/numpy.power.html\n",
    "# -----------------------------------------------------\n",
    " \n",
    "# -----------------------------------------------------"
   ]
  },
  {
   "cell_type": "code",
   "execution_count": null,
   "metadata": {
    "colab": {
     "base_uri": "https://localhost:8080/"
    },
    "id": "tVL14Uj26DuV",
    "outputId": "6f30bbb4-3694-43f3-ff8c-7705ffd329b6"
   },
   "outputs": [
    {
     "data": {
      "text/plain": [
       "array([[3.41178463e+00, 3.68612874e-02, 1.04547521e+00],\n",
       "       [3.16614796e-01, 5.16744835e-04, 1.44820729e+00]])"
      ]
     },
     "execution_count": 14,
     "metadata": {
      "tags": []
     },
     "output_type": "execute_result"
    }
   ],
   "source": [
    "data**2"
   ]
  },
  {
   "cell_type": "markdown",
   "metadata": {
    "id": "LoBXClPR7c0d"
   },
   "source": [
    "O ..."
   ]
  },
  {
   "cell_type": "code",
   "execution_count": null,
   "metadata": {
    "colab": {
     "base_uri": "https://localhost:8080/"
    },
    "id": "ZZyTXNqs6rED",
    "outputId": "c78bed02-2238-4216-e627-dbba061fa54a"
   },
   "outputs": [
    {
     "data": {
      "text/plain": [
       "array([[3.41178463e+00, 3.68612874e-02, 1.04547521e+00],\n",
       "       [3.16614796e-01, 5.16744835e-04, 1.44820729e+00]])"
      ]
     },
     "execution_count": 15,
     "metadata": {
      "tags": []
     },
     "output_type": "execute_result"
    }
   ],
   "source": [
    "np.power(data,2)"
   ]
  },
  {
   "cell_type": "markdown",
   "metadata": {
    "id": "-Er2MzgfE9Ar"
   },
   "source": [
    "EJERCICIO\n",
    " \n",
    "Calcular e ^ data (exponencial). Puedes usar Numpy exp()"
   ]
  },
  {
   "cell_type": "code",
   "execution_count": null,
   "metadata": {
    "colab": {
     "base_uri": "https://localhost:8080/"
    },
    "id": "YKh3gVwEFAHb",
    "outputId": "a58c86a8-d635-4f37-a27c-34b158bbc653"
   },
   "outputs": [
    {
     "data": {
      "text/plain": [
       "array([[0.15769355, 1.21166196, 2.78009423],\n",
       "       [1.75537998, 1.02299236, 3.33147399]])"
      ]
     },
     "execution_count": 16,
     "metadata": {
      "tags": []
     },
     "output_type": "execute_result"
    }
   ],
   "source": [
    "# Respuesta\n",
    "\n"
   ]
  },
  {
   "cell_type": "markdown",
   "metadata": {
    "id": "cjTzXWv08xyQ"
   },
   "source": [
    "Operaciones entre array (con dimensiones compatibles)"
   ]
  },
  {
   "cell_type": "code",
   "execution_count": null,
   "metadata": {
    "id": "M07SEoi968dy"
   },
   "outputs": [],
   "source": [
    "data2 = range(3)"
   ]
  },
  {
   "cell_type": "code",
   "execution_count": null,
   "metadata": {
    "id": "7ZG4E6lGE_eK"
   },
   "outputs": [],
   "source": [
    "data2 = np.random.randn(3, 2)"
   ]
  },
  {
   "cell_type": "code",
   "execution_count": null,
   "metadata": {
    "colab": {
     "base_uri": "https://localhost:8080/"
    },
    "id": "54bg0KMVEsSJ",
    "outputId": "aa1d0708-cfbe-4f89-fafe-83d727fc41f9"
   },
   "outputs": [
    {
     "data": {
      "text/plain": [
       "array([[ 0.55681427, -0.41209151],\n",
       "       [ 0.51591149, -0.10600363],\n",
       "       [-1.01639346, -0.60587801]])"
      ]
     },
     "execution_count": 19,
     "metadata": {
      "tags": []
     },
     "output_type": "execute_result"
    }
   ],
   "source": [
    "data2"
   ]
  },
  {
   "cell_type": "code",
   "execution_count": null,
   "metadata": {
    "colab": {
     "base_uri": "https://localhost:8080/",
     "height": 172
    },
    "id": "IKVQP76g7zoT",
    "outputId": "3f28eab5-9b4f-4759-b717-0fe5b2deadf6"
   },
   "outputs": [
    {
     "ename": "ValueError",
     "evalue": "ignored",
     "output_type": "error",
     "traceback": [
      "\u001b[0;31m---------------------------------------------------------------------------\u001b[0m",
      "\u001b[0;31mValueError\u001b[0m                                Traceback (most recent call last)",
      "\u001b[0;32m<ipython-input-20-6cab477b6cff>\u001b[0m in \u001b[0;36m<module>\u001b[0;34m()\u001b[0m\n\u001b[0;32m----> 1\u001b[0;31m \u001b[0mnp\u001b[0m\u001b[0;34m.\u001b[0m\u001b[0mpower\u001b[0m\u001b[0;34m(\u001b[0m\u001b[0mdata\u001b[0m\u001b[0;34m,\u001b[0m\u001b[0mdata2\u001b[0m\u001b[0;34m)\u001b[0m\u001b[0;34m\u001b[0m\u001b[0;34m\u001b[0m\u001b[0m\n\u001b[0m",
      "\u001b[0;31mValueError\u001b[0m: operands could not be broadcast together with shapes (2,3) (3,2) "
     ]
    }
   ],
   "source": [
    "np.power(data,data2)"
   ]
  },
  {
   "cell_type": "markdown",
   "metadata": {
    "id": "-ROvtwf28ENc"
   },
   "source": [
    "IMPORTANTE\n",
    " \n",
    "En las operaciones con arrays aplica le álgebra matricial.\n",
    " \n",
    "![imagen.png](data:image/png;base64,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)"
   ]
  },
  {
   "cell_type": "markdown",
   "metadata": {
    "id": "suxsBUs484mg"
   },
   "source": [
    "EJERCICIO\n",
    " \n",
    "Genera un array y prueba a aplicar matemáticas entre los dos:\n",
    " \n",
    "- Suma\n",
    " \n",
    "- Producto\n",
    " \n",
    "- Potencia"
   ]
  },
  {
   "cell_type": "code",
   "execution_count": null,
   "metadata": {
    "id": "cAaOQPWH73wS"
   },
   "outputs": [],
   "source": [
    "data_A = np.random.randn(3, 2)"
   ]
  },
  {
   "cell_type": "code",
   "execution_count": null,
   "metadata": {
    "colab": {
     "base_uri": "https://localhost:8080/"
    },
    "id": "IAjTRWz29SDC",
    "outputId": "b456ad65-4563-419a-ac00-f34ca2381349"
   },
   "outputs": [
    {
     "data": {
      "text/plain": [
       "array([[-1.03228606, -0.45603112],\n",
       "       [ 0.99716538,  0.74181005],\n",
       "       [ 0.87675637, -0.49560294]])"
      ]
     },
     "execution_count": 22,
     "metadata": {
      "tags": []
     },
     "output_type": "execute_result"
    }
   ],
   "source": [
    "data_A"
   ]
  },
  {
   "cell_type": "markdown",
   "metadata": {
    "id": "tkSWVt2s-on4"
   },
   "source": [
    "Multiplicación de arrays"
   ]
  },
  {
   "cell_type": "code",
   "execution_count": null,
   "metadata": {
    "colab": {
     "base_uri": "https://localhost:8080/"
    },
    "id": "Tj2OBwwP_D_e",
    "outputId": "4d697700-eb52-4a20-b393-2e4c0cbb1290"
   },
   "outputs": [
    {
     "data": {
      "text/plain": [
       "array([[3.41178463e+00, 3.68612874e-02, 1.04547521e+00],\n",
       "       [3.16614796e-01, 5.16744835e-04, 1.44820729e+00]])"
      ]
     },
     "execution_count": 23,
     "metadata": {
      "tags": []
     },
     "output_type": "execute_result"
    }
   ],
   "source": [
    "data * data"
   ]
  },
  {
   "cell_type": "markdown",
   "metadata": {
    "id": "hSKTS-3g_IJC"
   },
   "source": [
    "EJERCICIO\n",
    " \n",
    "Prueba a multiplicar data * data_A ...\n",
    " \n",
    "¿Qué resultado obtienes? ¿Qué explicación puede tener?\n",
    " \n",
    "# ---------------------------------------------------"
   ]
  },
  {
   "cell_type": "markdown",
   "metadata": {
    "id": "QYzZeUKv_Zkv"
   },
   "source": [
    "En Numpy la multiplicación de arrays NO es lo mismo que la multiplicación de matrices"
   ]
  },
  {
   "cell_type": "markdown",
   "metadata": {
    "id": "8RW7h96u-3pe"
   },
   "source": [
    "Multiplicación de matrices"
   ]
  },
  {
   "cell_type": "code",
   "execution_count": null,
   "metadata": {
    "colab": {
     "base_uri": "https://localhost:8080/"
    },
    "id": "XuBjmq-M9T7q",
    "outputId": "d218efd8-f803-4d16-c1b1-f9b7241d8abf"
   },
   "outputs": [
    {
     "data": {
      "text/plain": [
       "array([[ 1.65013529, -0.20855814, -1.60429145],\n",
       "       [-1.4244602 ,  0.20831155,  1.91229169],\n",
       "       [-1.89832667,  0.15706497,  0.30005414]])"
      ]
     },
     "execution_count": 24,
     "metadata": {
      "tags": []
     },
     "output_type": "execute_result"
    }
   ],
   "source": [
    "data_A.dot(data )"
   ]
  },
  {
   "cell_type": "code",
   "execution_count": null,
   "metadata": {
    "colab": {
     "base_uri": "https://localhost:8080/"
    },
    "id": "kVt10YXD9XHQ",
    "outputId": "1ee48b6a-d5e2-423c-b519-011e1c59168e"
   },
   "outputs": [
    {
     "data": {
      "text/plain": [
       "array([[ 2.99465611,  0.47801166],\n",
       "       [ 0.49691698, -0.83615512]])"
      ]
     },
     "execution_count": 25,
     "metadata": {
      "tags": []
     },
     "output_type": "execute_result"
    }
   ],
   "source": [
    "data.dot(data_A)"
   ]
  },
  {
   "cell_type": "code",
   "execution_count": null,
   "metadata": {
    "colab": {
     "base_uri": "https://localhost:8080/"
    },
    "id": "SfvUJFM2G_lc",
    "outputId": "820a118a-086e-4712-8ce6-c62c7db76389"
   },
   "outputs": [
    {
     "data": {
      "text/plain": [
       "array([[-1.96868809,  0.1213219 ],\n",
       "       [-0.89810403, -0.96341012]])"
      ]
     },
     "execution_count": 26,
     "metadata": {
      "tags": []
     },
     "output_type": "execute_result"
    }
   ],
   "source": [
    "data.dot(data2)"
   ]
  },
  {
   "cell_type": "markdown",
   "metadata": {
    "id": "O-OSYGX5_0Kd"
   },
   "source": [
    "Operaciones binarias y binarias con arrays"
   ]
  },
  {
   "cell_type": "code",
   "execution_count": null,
   "metadata": {
    "id": "buJMEl0V-lJr"
   },
   "outputs": [],
   "source": [
    "a = np.array([1, 2, 3, 4])\n",
    "# \n",
    "b = np.array([4, 2, 2, 4])"
   ]
  },
  {
   "cell_type": "code",
   "execution_count": null,
   "metadata": {
    "colab": {
     "base_uri": "https://localhost:8080/"
    },
    "id": "rv8Ak-tN_8KT",
    "outputId": "b110b25a-9cdd-4c8d-f6d2-0a701b0d4812"
   },
   "outputs": [
    {
     "data": {
      "text/plain": [
       "array([False,  True, False,  True])"
      ]
     },
     "execution_count": 28,
     "metadata": {
      "tags": []
     },
     "output_type": "execute_result"
    }
   ],
   "source": [
    "a == b"
   ]
  },
  {
   "cell_type": "code",
   "execution_count": null,
   "metadata": {
    "colab": {
     "base_uri": "https://localhost:8080/"
    },
    "id": "7oMb-M4l_8oh",
    "outputId": "90b32e27-4803-4155-aca4-f7c0ba065fc4"
   },
   "outputs": [
    {
     "data": {
      "text/plain": [
       "array([False, False,  True, False])"
      ]
     },
     "execution_count": 29,
     "metadata": {
      "tags": []
     },
     "output_type": "execute_result"
    }
   ],
   "source": [
    "a > b"
   ]
  },
  {
   "cell_type": "code",
   "execution_count": null,
   "metadata": {
    "id": "SKGLL43H__Ng"
   },
   "outputs": [],
   "source": [
    "c = np.array([1, 2, 3, 4])"
   ]
  },
  {
   "cell_type": "code",
   "execution_count": null,
   "metadata": {
    "id": "NtMAC5CFA5TG"
   },
   "outputs": [],
   "source": []
  },
  {
   "cell_type": "code",
   "execution_count": null,
   "metadata": {
    "colab": {
     "base_uri": "https://localhost:8080/"
    },
    "id": "iLUjITcJAQ7a",
    "outputId": "0b4fa453-6f0a-440f-b17c-4925dc84396a"
   },
   "outputs": [
    {
     "data": {
      "text/plain": [
       "False"
      ]
     },
     "execution_count": 31,
     "metadata": {
      "tags": []
     },
     "output_type": "execute_result"
    }
   ],
   "source": [
    "np.array_equal(a, b)"
   ]
  },
  {
   "cell_type": "code",
   "execution_count": null,
   "metadata": {
    "colab": {
     "base_uri": "https://localhost:8080/"
    },
    "id": "L_njbTmAARii",
    "outputId": "ca641de2-3376-440a-b1c9-3e26c5a0b2b5"
   },
   "outputs": [
    {
     "data": {
      "text/plain": [
       "True"
      ]
     },
     "execution_count": 32,
     "metadata": {
      "tags": []
     },
     "output_type": "execute_result"
    }
   ],
   "source": [
    "np.array_equal(a, c)"
   ]
  },
  {
   "cell_type": "markdown",
   "metadata": {
    "id": "fJAo-3LdGZub"
   },
   "source": [
    "Operaciones lógicas"
   ]
  },
  {
   "cell_type": "code",
   "execution_count": null,
   "metadata": {
    "id": "9Auu8wAnAZp5"
   },
   "outputs": [],
   "source": [
    "a = np.array([1, 1, 0, 0], dtype=bool)\n",
    "b = np.array([1, 0, 1, 0], dtype=bool)"
   ]
  },
  {
   "cell_type": "code",
   "execution_count": null,
   "metadata": {
    "colab": {
     "base_uri": "https://localhost:8080/"
    },
    "id": "a_TVMaLgGe5t",
    "outputId": "85c6f796-5efe-4cbf-a0c5-7bc3787a3306"
   },
   "outputs": [
    {
     "data": {
      "text/plain": [
       "array([ True,  True,  True, False])"
      ]
     },
     "execution_count": 93,
     "metadata": {
      "tags": []
     },
     "output_type": "execute_result"
    }
   ],
   "source": [
    "# OR lógico\n",
    "np.logical_or(a, b)"
   ]
  },
  {
   "cell_type": "code",
   "execution_count": null,
   "metadata": {
    "colab": {
     "base_uri": "https://localhost:8080/"
    },
    "id": "jcX4L8TzGgiu",
    "outputId": "c3d59f9d-ac06-4fa3-a113-7732f7bc8761"
   },
   "outputs": [
    {
     "data": {
      "text/plain": [
       "array([ True, False, False, False])"
      ]
     },
     "execution_count": 94,
     "metadata": {
      "tags": []
     },
     "output_type": "execute_result"
    }
   ],
   "source": [
    "# AND lógico\n",
    "np.logical_and(a, b)"
   ]
  },
  {
   "cell_type": "markdown",
   "metadata": {
    "id": "kV4J-SHrG5Lc"
   },
   "source": [
    "EJERCICIO\n",
    " \n",
    "Repite las operaciones binarias y lógicas anteriores. Prueba a experimentar variando los valores."
   ]
  },
  {
   "cell_type": "markdown",
   "metadata": {
    "id": "nZLyu7CWHQJg"
   },
   "source": [
    "Trasposición de arrays"
   ]
  },
  {
   "cell_type": "code",
   "execution_count": null,
   "metadata": {
    "colab": {
     "base_uri": "https://localhost:8080/"
    },
    "id": "78ZeKU2yGhFe",
    "outputId": "2c21b4c3-50a1-475f-d812-f900043167dd"
   },
   "outputs": [
    {
     "data": {
      "text/plain": [
       "array([[-1.84710168,  0.56268534],\n",
       "       [ 0.19199294,  0.02273202],\n",
       "       [ 1.02248482,  1.20341485]])"
      ]
     },
     "execution_count": 36,
     "metadata": {
      "tags": []
     },
     "output_type": "execute_result"
    }
   ],
   "source": [
    "data.T"
   ]
  },
  {
   "cell_type": "markdown",
   "metadata": {
    "id": "OON-fVOBHrdw"
   },
   "source": [
    "Generación de datos de prueba y organización matricial/array"
   ]
  },
  {
   "cell_type": "code",
   "execution_count": null,
   "metadata": {
    "id": "fVbqw94kHT88"
   },
   "outputs": [],
   "source": [
    "# Muy útil en Computer Vision\n",
    "\n",
    "a = np.arange(9).reshape(3, 3)"
   ]
  },
  {
   "cell_type": "code",
   "execution_count": null,
   "metadata": {
    "colab": {
     "base_uri": "https://localhost:8080/"
    },
    "id": "sBRNclPXHjhf",
    "outputId": "4b351416-4dff-4e83-c6b7-02d146b61b9e"
   },
   "outputs": [
    {
     "data": {
      "text/plain": [
       "array([[0, 1, 2],\n",
       "       [3, 4, 5],\n",
       "       [6, 7, 8]])"
      ]
     },
     "execution_count": 97,
     "metadata": {
      "tags": []
     },
     "output_type": "execute_result"
    }
   ],
   "source": [
    "a"
   ]
  },
  {
   "cell_type": "code",
   "execution_count": null,
   "metadata": {
    "id": "elP_OE7HHkL2"
   },
   "outputs": [],
   "source": [
    "# Modificamos el original\n",
    "a.T[0, 2] = 998"
   ]
  },
  {
   "cell_type": "markdown",
   "metadata": {
    "id": "I4zHlpnDImfz"
   },
   "source": [
    "La trasposición de un array genera una vista del original"
   ]
  },
  {
   "cell_type": "code",
   "execution_count": null,
   "metadata": {
    "colab": {
     "base_uri": "https://localhost:8080/"
    },
    "id": "GriaqvWcIBqY",
    "outputId": "11330ec9-a382-4829-b23e-4f9e7a6268f6"
   },
   "outputs": [
    {
     "data": {
      "text/plain": [
       "array([[  0,   3, 998],\n",
       "       [  1,   4,   7],\n",
       "       [  2,   5,   8]])"
      ]
     },
     "execution_count": 7,
     "metadata": {},
     "output_type": "execute_result"
    }
   ],
   "source": [
    "a.T"
   ]
  },
  {
   "cell_type": "code",
   "execution_count": null,
   "metadata": {
    "colab": {
     "base_uri": "https://localhost:8080/"
    },
    "id": "qulC2hzVIDGl",
    "outputId": "df2d6af9-64ed-4e6a-d9cb-c55ae7b49304"
   },
   "outputs": [
    {
     "data": {
      "text/plain": [
       "array([[  0,   1,   2],\n",
       "       [  3,   4,   5],\n",
       "       [998,   7,   8]])"
      ]
     },
     "execution_count": 100,
     "metadata": {
      "tags": []
     },
     "output_type": "execute_result"
    }
   ],
   "source": [
    "a"
   ]
  },
  {
   "cell_type": "markdown",
   "metadata": {
    "id": "FwRS-is4I1pM"
   },
   "source": [
    "EJERCICIO\n",
    " \n",
    "Experimenta con la operación de trasposición "
   ]
  },
  {
   "cell_type": "markdown",
   "metadata": {
    "id": "3me5BJd1Jx6Z"
   },
   "source": [
    "Operaciones de triangulación de un array"
   ]
  },
  {
   "cell_type": "markdown",
   "metadata": {
    "id": "f3NRyqTfJ5fo"
   },
   "source": [
    "## Triangular superior triu\n",
    "numpy.triu\n",
    "\n",
    "**numpy.triu(m, k=0)**\n",
    "\n",
    "Upper triangle of an array.\n",
    "\n",
    "Return a copy of a matrix with the elements below the k-th diagonal zeroed."
   ]
  },
  {
   "cell_type": "code",
   "execution_count": null,
   "metadata": {
    "colab": {
     "base_uri": "https://localhost:8080/"
    },
    "id": "NIRotqGoIMGZ",
    "outputId": "c34d9043-bbdc-455f-f045-1d94b5b54b74"
   },
   "outputs": [
    {
     "data": {
      "text/plain": [
       "array([[ 1,  2,  3],\n",
       "       [ 4,  5,  6],\n",
       "       [ 0,  8,  9],\n",
       "       [ 0,  0, 12]])"
      ]
     },
     "execution_count": 101,
     "metadata": {
      "tags": []
     },
     "output_type": "execute_result"
    }
   ],
   "source": [
    "np.triu([[1,2,3],[4,5,6],[7,8,9],[10,11,12]], -1)"
   ]
  },
  {
   "cell_type": "code",
   "execution_count": null,
   "metadata": {
    "colab": {
     "base_uri": "https://localhost:8080/"
    },
    "id": "gK-8sWZXLoGt",
    "outputId": "3c52b7cc-bfae-4700-eec3-bd368cd1a162"
   },
   "outputs": [
    {
     "data": {
      "text/plain": [
       "array([[ 1,  2,  3],\n",
       "       [ 4,  5,  6],\n",
       "       [ 0,  8,  9],\n",
       "       [ 0,  0, 12]])"
      ]
     },
     "execution_count": 3,
     "metadata": {},
     "output_type": "execute_result"
    }
   ],
   "source": [
    "m = [[1,2,3],[4,5,6],[7,8,9],[10,11,12]]\n",
    "np.triu(m, -1)"
   ]
  },
  {
   "cell_type": "markdown",
   "metadata": {
    "id": "TM-FKrKOJ-ib"
   },
   "source": [
    "## Triangular inferior tril\n",
    " \n",
    "**numpy.tril(m, k=0)**\n",
    " \n",
    "Lower triangle of an array.\n",
    " \n",
    "Return a copy of an array with elements above the k-th diagonal zeroed."
   ]
  },
  {
   "cell_type": "code",
   "execution_count": null,
   "metadata": {
    "colab": {
     "base_uri": "https://localhost:8080/"
    },
    "id": "CWTCk-WeJcUL",
    "outputId": "98e40a0a-fafb-4edd-9f72-fd9be9e4a7c1"
   },
   "outputs": [
    {
     "data": {
      "text/plain": [
       "array([[ 0,  0,  0],\n",
       "       [ 4,  0,  0],\n",
       "       [ 7,  8,  0],\n",
       "       [10, 11, 12]])"
      ]
     },
     "execution_count": 42,
     "metadata": {
      "tags": []
     },
     "output_type": "execute_result"
    }
   ],
   "source": [
    "np.tril([[1,2,3],[4,5,6],[7,8,9],[10,11,12]], -1)"
   ]
  },
  {
   "cell_type": "markdown",
   "metadata": {
    "id": "ufPQ9wArKD31"
   },
   "source": [
    "EJERCICIO\n",
    " \n",
    "Prueba a modificar los valores anteriores y experimentar con el valor de k"
   ]
  },
  {
   "cell_type": "markdown",
   "metadata": {
    "id": "ToHEY6V7KsMd"
   },
   "source": [
    "# VISUALIZACIÓN DE LA ESTRUCTURA Y TIPO DE DATOS DE UN OBJETO"
   ]
  },
  {
   "cell_type": "code",
   "execution_count": null,
   "metadata": {
    "colab": {
     "base_uri": "https://localhost:8080/"
    },
    "id": "8Df_QxbhJdgk",
    "outputId": "e4050ca9-6b3e-4c70-bc2c-0556cf6f416b"
   },
   "outputs": [
    {
     "data": {
      "text/plain": [
       "(2, 3)"
      ]
     },
     "execution_count": 102,
     "metadata": {
      "tags": []
     },
     "output_type": "execute_result"
    }
   ],
   "source": [
    "# Nos muestra la configuración del array\n",
    "\n",
    "data.shape"
   ]
  },
  {
   "cell_type": "markdown",
   "metadata": {
    "id": "_VJCqcHrMvJS"
   },
   "source": [
    "### Ejercicio\n",
    "Encuentra el tipo de datos que contiene el array \"data\""
   ]
  },
  {
   "cell_type": "code",
   "execution_count": null,
   "metadata": {
    "colab": {
     "base_uri": "https://localhost:8080/"
    },
    "id": "KGw1bD7RKzi0",
    "outputId": "3b04950b-e07f-42e7-fe6f-1070dd1f27a2"
   },
   "outputs": [
    {
     "data": {
      "text/plain": [
       "dtype('float64')"
      ]
     },
     "execution_count": 44,
     "metadata": {
      "tags": []
     },
     "output_type": "execute_result"
    }
   ],
   "source": [
    "# Respuesta\n",
    "\n",
    "\n"
   ]
  },
  {
   "cell_type": "markdown",
   "metadata": {
    "id": "UrdA980gLMbQ"
   },
   "source": [
    "Creación de arrays a partir de objetos tipo lista"
   ]
  },
  {
   "cell_type": "code",
   "execution_count": null,
   "metadata": {
    "id": "WWAZd7ZlK4Xk"
   },
   "outputs": [],
   "source": [
    "data1 = [6, 7.5, 8, 0, 1]"
   ]
  },
  {
   "cell_type": "code",
   "execution_count": null,
   "metadata": {
    "id": "7kGDj_BAMWBE"
   },
   "outputs": [],
   "source": [
    "arr1 = np.array(data1)"
   ]
  },
  {
   "cell_type": "markdown",
   "metadata": {
    "id": "6YTrDzxTLwq_"
   },
   "source": [
    "### EJERCICIO\n",
    " \n",
    "¿Qué diferencia entre data1 y arr1?\n",
    " \n",
    "# ------------------------------------------------"
   ]
  },
  {
   "cell_type": "code",
   "execution_count": null,
   "metadata": {
    "colab": {
     "base_uri": "https://localhost:8080/"
    },
    "id": "xvNQefwQMsda",
    "outputId": "6f8469ca-83bd-47a1-9233-7dd5f9a03427"
   },
   "outputs": [
    {
     "data": {
      "text/plain": [
       "[6, 7.5, 8, 0, 1]"
      ]
     },
     "execution_count": 104,
     "metadata": {
      "tags": []
     },
     "output_type": "execute_result"
    }
   ],
   "source": [
    "# Respuesta\n",
    "\n"
   ]
  },
  {
   "cell_type": "code",
   "execution_count": null,
   "metadata": {
    "colab": {
     "base_uri": "https://localhost:8080/"
    },
    "id": "F6yFcvmPLqfT",
    "outputId": "e79cba4d-9f8d-4eb0-f16c-19553ab9fdf1"
   },
   "outputs": [
    {
     "data": {
      "text/plain": [
       "array([6. , 7.5, 8. , 0. , 1. ])"
      ]
     },
     "execution_count": 106,
     "metadata": {
      "tags": []
     },
     "output_type": "execute_result"
    }
   ],
   "source": [
    "# Respuesta\n",
    "\n"
   ]
  },
  {
   "cell_type": "markdown",
   "metadata": {
    "id": "9Ypo4RR2OA-n"
   },
   "source": [
    "## Arrays a partir de listas de listas"
   ]
  },
  {
   "cell_type": "code",
   "execution_count": null,
   "metadata": {
    "id": "8f_oa8caLsAE"
   },
   "outputs": [],
   "source": [
    "# Lista de listas\n",
    "data2 = [[1, 2, 3, 4], [5, 6, 7, 8]]"
   ]
  },
  {
   "cell_type": "code",
   "execution_count": null,
   "metadata": {
    "id": "VZE_Tj1_MgiT"
   },
   "outputs": [],
   "source": [
    "arr2 = np.array(data2)"
   ]
  },
  {
   "cell_type": "code",
   "execution_count": null,
   "metadata": {
    "colab": {
     "base_uri": "https://localhost:8080/"
    },
    "id": "ICqSnbbxMiuT",
    "outputId": "1f34a184-16b9-4af8-9cf7-b8a468ca521b"
   },
   "outputs": [
    {
     "data": {
      "text/plain": [
       "array([[1, 2, 3, 4],\n",
       "       [5, 6, 7, 8]])"
      ]
     },
     "execution_count": 51,
     "metadata": {
      "tags": []
     },
     "output_type": "execute_result"
    }
   ],
   "source": [
    "arr2"
   ]
  },
  {
   "cell_type": "code",
   "execution_count": null,
   "metadata": {
    "id": "lzIdkeq8MjuL"
   },
   "outputs": [],
   "source": [
    "data2_A = [[1, 2, 3, 4], [5, 6, 7]]"
   ]
  },
  {
   "cell_type": "markdown",
   "metadata": {
    "id": "oNoRHnTKOQkb"
   },
   "source": [
    "### Ejercicio\n",
    "Calcula el cuadrado de los elementos de \"data2_A\""
   ]
  },
  {
   "cell_type": "code",
   "execution_count": null,
   "metadata": {
    "id": "WR_fZajLO9u6"
   },
   "outputs": [],
   "source": [
    "# Respuesta\n",
    "\n",
    "\n"
   ]
  },
  {
   "cell_type": "markdown",
   "metadata": {
    "id": "9FGTv5tkM-MV"
   },
   "source": [
    "EJERCICIO\n",
    " \n",
    "Convierte data2_A en un array\n",
    " \n",
    "¿Qué observas en la salida? ¿A qué se debe?\n",
    " \n",
    "# -----------------------------------"
   ]
  },
  {
   "cell_type": "code",
   "execution_count": null,
   "metadata": {
    "colab": {
     "base_uri": "https://localhost:8080/"
    },
    "id": "oTM4CXNHM18j",
    "outputId": "4888a7d2-9660-4052-c21f-fc2f7b307be8"
   },
   "outputs": [
    {
     "name": "stderr",
     "output_type": "stream",
     "text": [
      "/usr/local/lib/python3.7/dist-packages/ipykernel_launcher.py:1: VisibleDeprecationWarning: Creating an ndarray from ragged nested sequences (which is a list-or-tuple of lists-or-tuples-or ndarrays with different lengths or shapes) is deprecated. If you meant to do this, you must specify 'dtype=object' when creating the ndarray\n",
      "  \"\"\"Entry point for launching an IPython kernel.\n"
     ]
    }
   ],
   "source": [
    "arr2_A = np.array(data2_A)"
   ]
  },
  {
   "cell_type": "markdown",
   "metadata": {
    "id": "c0TcednPOzY1"
   },
   "source": [
    "### Ejercicio\n",
    "\n",
    "Convierte data2_A en un array sin avisos o errores"
   ]
  },
  {
   "cell_type": "code",
   "execution_count": null,
   "metadata": {
    "id": "-NfIF75kPD_j"
   },
   "outputs": [],
   "source": [
    "# Respuesta\n",
    "\n",
    "\n"
   ]
  },
  {
   "cell_type": "code",
   "execution_count": null,
   "metadata": {
    "colab": {
     "base_uri": "https://localhost:8080/"
    },
    "id": "z5XLXEfvN1gs",
    "outputId": "8a9c8f9b-9aff-4f92-f76f-28440b502940"
   },
   "outputs": [
    {
     "data": {
      "text/plain": [
       "array([list([1, 2, 3, 4]), list([5, 6, 7])], dtype=object)"
      ]
     },
     "execution_count": 12,
     "metadata": {},
     "output_type": "execute_result"
    }
   ],
   "source": [
    "\n",
    "arr2_A"
   ]
  },
  {
   "cell_type": "markdown",
   "metadata": {
    "id": "-nWUlrTiNMYT"
   },
   "source": [
    "Las listas de listas se pueden convertir en arrays siempre y cuando todas ellas tengan la misma longitud"
   ]
  },
  {
   "cell_type": "markdown",
   "metadata": {
    "id": "4Xk2vtYNZdbk"
   },
   "source": [
    "## Verificar el tipo de datos que contiene nuestro array"
   ]
  },
  {
   "cell_type": "code",
   "execution_count": null,
   "metadata": {
    "colab": {
     "base_uri": "https://localhost:8080/"
    },
    "id": "cvRx51m_Y9-6",
    "outputId": "de757058-c0d1-4655-fc6b-bd55130cfb40"
   },
   "outputs": [
    {
     "data": {
      "text/plain": [
       "dtype('float64')"
      ]
     },
     "execution_count": 74,
     "metadata": {
      "tags": []
     },
     "output_type": "execute_result"
    }
   ],
   "source": [
    "arr1.dtype"
   ]
  },
  {
   "cell_type": "code",
   "execution_count": null,
   "metadata": {
    "colab": {
     "base_uri": "https://localhost:8080/"
    },
    "id": "CEfTi8x2Y-Yc",
    "outputId": "096b18c1-9790-447f-f68c-59dcc83da0ec"
   },
   "outputs": [
    {
     "data": {
      "text/plain": [
       "dtype('int32')"
      ]
     },
     "execution_count": 75,
     "metadata": {
      "tags": []
     },
     "output_type": "execute_result"
    }
   ],
   "source": [
    "arr2.dtype"
   ]
  },
  {
   "cell_type": "markdown",
   "metadata": {
    "id": "CczEyI2EZjNn"
   },
   "source": [
    "Hay otras formas de crear e inicializar arrays como zeros, ones, empty o arange"
   ]
  },
  {
   "cell_type": "code",
   "execution_count": null,
   "metadata": {
    "colab": {
     "base_uri": "https://localhost:8080/"
    },
    "id": "ZbeL9rEGY_rx",
    "outputId": "7c233440-726e-4457-852b-4421dc754177"
   },
   "outputs": [
    {
     "data": {
      "text/plain": [
       "array([0., 0., 0., 0., 0., 0., 0., 0., 0., 0.])"
      ]
     },
     "execution_count": 76,
     "metadata": {
      "tags": []
     },
     "output_type": "execute_result"
    }
   ],
   "source": [
    "# Muy usado en Computer Vision\n",
    "\n",
    "np.zeros(10)"
   ]
  },
  {
   "cell_type": "code",
   "execution_count": null,
   "metadata": {
    "colab": {
     "base_uri": "https://localhost:8080/"
    },
    "id": "vwkbgA2bZqJc",
    "outputId": "3c94dea7-6e5f-4936-aeba-20eaed744174"
   },
   "outputs": [
    {
     "data": {
      "text/plain": [
       "array([[0., 0., 0., 0., 0., 0.],\n",
       "       [0., 0., 0., 0., 0., 0.],\n",
       "       [0., 0., 0., 0., 0., 0.]])"
      ]
     },
     "execution_count": 59,
     "metadata": {
      "tags": []
     },
     "output_type": "execute_result"
    }
   ],
   "source": [
    "np.zeros((3, 6))"
   ]
  },
  {
   "cell_type": "code",
   "execution_count": null,
   "metadata": {
    "colab": {
     "base_uri": "https://localhost:8080/"
    },
    "id": "DUK9B1HQaCOY",
    "outputId": "bb7c08e6-9274-4566-8018-907162453c69"
   },
   "outputs": [
    {
     "data": {
      "text/plain": [
       "array([[1., 1., 1., 1., 1., 1.],\n",
       "       [1., 1., 1., 1., 1., 1.],\n",
       "       [1., 1., 1., 1., 1., 1.]])"
      ]
     },
     "execution_count": 77,
     "metadata": {
      "tags": []
     },
     "output_type": "execute_result"
    }
   ],
   "source": [
    "np.ones((3, 6))"
   ]
  },
  {
   "cell_type": "code",
   "execution_count": null,
   "metadata": {
    "colab": {
     "base_uri": "https://localhost:8080/"
    },
    "id": "IHzgTCMIZs3U",
    "outputId": "1ab48d42-94b5-4a09-a2e7-d1853a119f47"
   },
   "outputs": [
    {
     "data": {
      "text/plain": [
       "array([[[4.9e-324, 9.9e-324],\n",
       "        [1.5e-323, 2.0e-323],\n",
       "        [2.5e-323, 3.0e-323]],\n",
       "\n",
       "       [[3.5e-323, 4.0e-323],\n",
       "        [4.4e-323, 4.9e-323],\n",
       "        [5.4e-323, 5.9e-323]]])"
      ]
     },
     "execution_count": 78,
     "metadata": {
      "tags": []
     },
     "output_type": "execute_result"
    }
   ],
   "source": [
    "# Creación de un array con ceros o \"basura\" numérica\n",
    "np.empty((2, 3, 2))"
   ]
  },
  {
   "cell_type": "code",
   "execution_count": null,
   "metadata": {
    "colab": {
     "base_uri": "https://localhost:8080/"
    },
    "id": "PA0mRm7ZZvCU",
    "outputId": "1f8f9872-ca8a-4f71-d166-24bbe3fbc794"
   },
   "outputs": [
    {
     "data": {
      "text/plain": [
       "array([ 0,  1,  2,  3,  4,  5,  6,  7,  8,  9, 10, 11, 12, 13, 14])"
      ]
     },
     "execution_count": 112,
     "metadata": {
      "tags": []
     },
     "output_type": "execute_result"
    }
   ],
   "source": [
    "np.arange(15)"
   ]
  },
  {
   "cell_type": "markdown",
   "metadata": {
    "id": "Nhx00BF4aS_l"
   },
   "source": [
    "## Hasta ahora hemos dejado que Numpy infiriera el tipo de dato de nuestro array a partir de los datos de las lista.\n",
    "## Ahora vamos a ver como podemos controlar el tipo de dato con la opción, dtype (data type)."
   ]
  },
  {
   "cell_type": "code",
   "execution_count": null,
   "metadata": {
    "id": "YZL4kxvraIks"
   },
   "outputs": [],
   "source": [
    "arr1 = np.array([1, 2, 3], dtype=np.float64)\n",
    "arr2 = np.array([1, 2, 3], dtype=np.int32)"
   ]
  },
  {
   "cell_type": "code",
   "execution_count": null,
   "metadata": {
    "colab": {
     "base_uri": "https://localhost:8080/"
    },
    "id": "cXBvo8jFa7b1",
    "outputId": "2483209a-e21e-48bf-8f08-f20c48b7b0b0"
   },
   "outputs": [
    {
     "data": {
      "text/plain": [
       "dtype('float64')"
      ]
     },
     "execution_count": 114,
     "metadata": {
      "tags": []
     },
     "output_type": "execute_result"
    }
   ],
   "source": [
    "arr1.dtype"
   ]
  },
  {
   "cell_type": "code",
   "execution_count": null,
   "metadata": {
    "colab": {
     "base_uri": "https://localhost:8080/"
    },
    "id": "uycCJqkTa8ZJ",
    "outputId": "f969522d-f619-4a41-ee37-125abd696599"
   },
   "outputs": [
    {
     "data": {
      "text/plain": [
       "dtype('int32')"
      ]
     },
     "execution_count": 115,
     "metadata": {
      "tags": []
     },
     "output_type": "execute_result"
    }
   ],
   "source": [
    "arr2.dtype"
   ]
  },
  {
   "cell_type": "code",
   "execution_count": null,
   "metadata": {
    "id": "RRnCdr_ia_Ik"
   },
   "outputs": [],
   "source": [
    "arr2_ABC = np.array([1, 2, 3], dtype=np.complex128) # 128-bit complex floating-point number"
   ]
  },
  {
   "cell_type": "code",
   "execution_count": null,
   "metadata": {
    "colab": {
     "base_uri": "https://localhost:8080/"
    },
    "id": "UXcXh4b8bgGj",
    "outputId": "fea0ec90-49c6-4bf1-cbab-98d9771a4a99"
   },
   "outputs": [
    {
     "data": {
      "text/plain": [
       "dtype('complex128')"
      ]
     },
     "execution_count": 117,
     "metadata": {
      "tags": []
     },
     "output_type": "execute_result"
    }
   ],
   "source": [
    "arr2_ABC.dtype"
   ]
  },
  {
   "cell_type": "markdown",
   "metadata": {
    "id": "WZ_olQnxblhB"
   },
   "source": [
    "Tipos de datos\n",
    " \n",
    "https://numpy.org/doc/stable/reference/arrays.dtypes.html?highlight=dtype"
   ]
  },
  {
   "cell_type": "code",
   "execution_count": null,
   "metadata": {
    "id": "C5QRqOW0c67n"
   },
   "outputs": [],
   "source": []
  },
  {
   "cell_type": "markdown",
   "metadata": {
    "id": "oV0Ke1PYcyKH"
   },
   "source": [
    "EJERCICIO\n",
    " \n",
    "Prueba a reescribir las operaciones anteriores cambiando los tipos de datos"
   ]
  },
  {
   "cell_type": "markdown",
   "metadata": {
    "id": "MVMKK5AkcpLs"
   },
   "source": [
    "Conversión de tipos de datos con el método astype"
   ]
  },
  {
   "cell_type": "code",
   "execution_count": null,
   "metadata": {
    "colab": {
     "base_uri": "https://localhost:8080/"
    },
    "id": "hyJJ4OjRbid1",
    "outputId": "10249a52-1aea-4a91-f255-c55ce214847f"
   },
   "outputs": [
    {
     "data": {
      "text/plain": [
       "dtype('int64')"
      ]
     },
     "execution_count": 118,
     "metadata": {
      "tags": []
     },
     "output_type": "execute_result"
    }
   ],
   "source": [
    "arr = np.array([1, 2, 3, 4, 5])\n",
    "arr.dtype"
   ]
  },
  {
   "cell_type": "code",
   "execution_count": null,
   "metadata": {
    "id": "4fSOmcASdART"
   },
   "outputs": [],
   "source": [
    "float_arr = arr.astype(np.float64)"
   ]
  },
  {
   "cell_type": "code",
   "execution_count": null,
   "metadata": {
    "colab": {
     "base_uri": "https://localhost:8080/"
    },
    "id": "OZK9HK09dEia",
    "outputId": "9fa34bc3-075f-4dc9-f222-bf6905e829fe"
   },
   "outputs": [
    {
     "data": {
      "text/plain": [
       "dtype('float64')"
      ]
     },
     "execution_count": 120,
     "metadata": {
      "tags": []
     },
     "output_type": "execute_result"
    }
   ],
   "source": [
    "float_arr.dtype"
   ]
  },
  {
   "cell_type": "code",
   "execution_count": null,
   "metadata": {
    "colab": {
     "base_uri": "https://localhost:8080/"
    },
    "id": "pTPJYldbS533",
    "outputId": "06d6e608-9e4a-46e1-fa10-d758a358ce8a"
   },
   "outputs": [
    {
     "data": {
      "text/plain": [
       "array([1., 2., 3., 4., 5.])"
      ]
     },
     "execution_count": 121,
     "metadata": {
      "tags": []
     },
     "output_type": "execute_result"
    }
   ],
   "source": [
    "float_arr"
   ]
  },
  {
   "cell_type": "markdown",
   "metadata": {
    "id": "_DK3TDb8dG33"
   },
   "source": [
    "### EJERCICIO\n",
    " \n",
    "Convierte el array anterior a tipo de dato char con (string_) o a unicode (unicode_)"
   ]
  },
  {
   "cell_type": "markdown",
   "metadata": {
    "id": "iQulOIcxeXCY"
   },
   "source": [
    "# ------------------------------------------------------\n",
    " \n",
    "# ------------------------------------------------------\n",
    " \n"
   ]
  },
  {
   "cell_type": "code",
   "execution_count": null,
   "metadata": {
    "colab": {
     "base_uri": "https://localhost:8080/"
    },
    "id": "LpcLSCIpdV0Y",
    "outputId": "d42666b4-2c68-4a26-9eac-537fc58c8b10"
   },
   "outputs": [
    {
     "data": {
      "text/plain": [
       "dtype('int64')"
      ]
     },
     "execution_count": 122,
     "metadata": {
      "tags": []
     },
     "output_type": "execute_result"
    }
   ],
   "source": [
    "arr_A = np.array([1, 2, 3, 4, 5])\n",
    "arr_A.dtype"
   ]
  },
  {
   "cell_type": "code",
   "execution_count": null,
   "metadata": {
    "id": "YK4BILXXddPH"
   },
   "outputs": [],
   "source": [
    "# Respuesta\n",
    "\n"
   ]
  },
  {
   "cell_type": "code",
   "execution_count": null,
   "metadata": {
    "colab": {
     "base_uri": "https://localhost:8080/"
    },
    "id": "glQKAU07dFpb",
    "outputId": "a5009c28-1cbb-4170-e8e6-b53a60d75ebe"
   },
   "outputs": [
    {
     "data": {
      "text/plain": [
       "dtype('S21')"
      ]
     },
     "execution_count": 124,
     "metadata": {
      "tags": []
     },
     "output_type": "execute_result"
    }
   ],
   "source": [
    "string_arr_A.dtype"
   ]
  },
  {
   "cell_type": "code",
   "execution_count": null,
   "metadata": {
    "id": "ZmIIdzn1dyJK"
   },
   "outputs": [],
   "source": [
    "# Respuesta\n",
    "\n"
   ]
  },
  {
   "cell_type": "code",
   "execution_count": null,
   "metadata": {
    "colab": {
     "base_uri": "https://localhost:8080/"
    },
    "id": "5xGKJtUxeMSa",
    "outputId": "7fe7b6c2-f31e-4e98-ca0e-bd495899e625"
   },
   "outputs": [
    {
     "data": {
      "text/plain": [
       "dtype('<U21')"
      ]
     },
     "execution_count": 126,
     "metadata": {
      "tags": []
     },
     "output_type": "execute_result"
    }
   ],
   "source": [
    "unicode_arr_A.dtype"
   ]
  },
  {
   "cell_type": "markdown",
   "metadata": {
    "id": "qCqn_j4NenVx"
   },
   "source": [
    "### EJERCICIO\n",
    " \n",
    "Convierte el array siguiente a entero (int32)"
   ]
  },
  {
   "cell_type": "code",
   "execution_count": null,
   "metadata": {
    "id": "AbZqCYcxePM6"
   },
   "outputs": [],
   "source": [
    "arr = np.array([3.7, -1.2, -2.6, 0.5, 12.9, 10.1])"
   ]
  },
  {
   "cell_type": "markdown",
   "metadata": {
    "id": "imU-unwte8PO"
   },
   "source": [
    "¿Qué observas en el resultado?"
   ]
  },
  {
   "cell_type": "code",
   "execution_count": null,
   "metadata": {
    "colab": {
     "base_uri": "https://localhost:8080/"
    },
    "id": "kPyN-b4KfDUx",
    "outputId": "a14bb078-8e3d-4447-b322-e10519faa263"
   },
   "outputs": [
    {
     "data": {
      "text/plain": [
       "array([ 3.7, -1.2, -2.6,  0.5, 12.9, 10.1])"
      ]
     },
     "execution_count": 128,
     "metadata": {
      "tags": []
     },
     "output_type": "execute_result"
    }
   ],
   "source": [
    "arr"
   ]
  },
  {
   "cell_type": "code",
   "execution_count": null,
   "metadata": {
    "colab": {
     "base_uri": "https://localhost:8080/"
    },
    "id": "uq2zy9IAfN2_",
    "outputId": "e977a34d-4960-40c9-e926-069be11d1c90"
   },
   "outputs": [
    {
     "data": {
      "text/plain": [
       "array([ 3, -1, -2,  0, 12, 10], dtype=int32)"
      ]
     },
     "execution_count": 129,
     "metadata": {
      "tags": []
     },
     "output_type": "execute_result"
    }
   ],
   "source": [
    "# Respuesta\n",
    "\n",
    "\n"
   ]
  },
  {
   "cell_type": "markdown",
   "metadata": {
    "id": "zFtA_nx9fQcv"
   },
   "source": [
    "La parte decimal se pierde.\n",
    " \n",
    "Cuidado. Siempre que sea posible, evitar la conversión entre tipos de datos"
   ]
  },
  {
   "cell_type": "markdown",
   "metadata": {
    "id": "VJUXXUl1fpxm"
   },
   "source": [
    "## Importación de datos desde ficheros de texto o como cadenas string y conversión en datos numéricos"
   ]
  },
  {
   "cell_type": "code",
   "execution_count": null,
   "metadata": {
    "id": "Xygu6FH0fOeK"
   },
   "outputs": [],
   "source": [
    "numeric_strings = np.array(['1.25', '-9.6', '42'], dtype=np.string_)"
   ]
  },
  {
   "cell_type": "code",
   "execution_count": null,
   "metadata": {
    "colab": {
     "base_uri": "https://localhost:8080/"
    },
    "id": "8ko6cNxsfywK",
    "outputId": "07a7d56f-8e0c-498e-81c1-00e3fce8ead4"
   },
   "outputs": [
    {
     "data": {
      "text/plain": [
       "array([ 1.25, -9.6 , 42.  ])"
      ]
     },
     "execution_count": 131,
     "metadata": {
      "tags": []
     },
     "output_type": "execute_result"
    }
   ],
   "source": [
    "numeric_strings.astype(float)"
   ]
  },
  {
   "cell_type": "markdown",
   "metadata": {
    "id": "6pN6a2GdgBgM"
   },
   "source": [
    "EJERCICIO\n",
    " \n",
    "Crea un array de cadenas de texto (representado números) y conviértelo a datos númericos."
   ]
  },
  {
   "cell_type": "markdown",
   "metadata": {
    "id": "P8uVs2O4hqDt"
   },
   "source": [
    "Comprobamos que el tipo de dato del array se ha convertido a numérico"
   ]
  },
  {
   "cell_type": "code",
   "execution_count": null,
   "metadata": {
    "id": "5CEpwtxOf6xZ"
   },
   "outputs": [],
   "source": [
    "# Respuesta\n",
    "\n"
   ]
  },
  {
   "cell_type": "code",
   "execution_count": null,
   "metadata": {
    "colab": {
     "base_uri": "https://localhost:8080/",
     "height": 199
    },
    "id": "22CjbVcChQPK",
    "outputId": "e4d53d8a-b005-4c3a-e93c-4fd5b60e5843"
   },
   "outputs": [
    {
     "ename": "UFuncTypeError",
     "evalue": "ignored",
     "output_type": "error",
     "traceback": [
      "\u001b[0;31m---------------------------------------------------------------------------\u001b[0m",
      "\u001b[0;31mUFuncTypeError\u001b[0m                            Traceback (most recent call last)",
      "\u001b[0;32m<ipython-input-133-95eaff882ef3>\u001b[0m in \u001b[0;36m<module>\u001b[0;34m()\u001b[0m\n\u001b[0;32m----> 1\u001b[0;31m \u001b[0marray_A\u001b[0m \u001b[0;34m=\u001b[0m \u001b[0mnumeric_strings_A\u001b[0m \u001b[0;34m*\u001b[0m \u001b[0;36m2\u001b[0m\u001b[0;34m\u001b[0m\u001b[0;34m\u001b[0m\u001b[0m\n\u001b[0m\u001b[1;32m      2\u001b[0m \u001b[0marray_A\u001b[0m\u001b[0;34m\u001b[0m\u001b[0;34m\u001b[0m\u001b[0m\n",
      "\u001b[0;31mUFuncTypeError\u001b[0m: ufunc 'multiply' did not contain a loop with signature matching types (dtype('S4'), dtype('S4')) -> dtype('S4')"
     ]
    }
   ],
   "source": [
    "array_A = numeric_strings_A * 2\n",
    "array_A"
   ]
  },
  {
   "cell_type": "code",
   "execution_count": null,
   "metadata": {
    "id": "LB935Yv8gcbg"
   },
   "outputs": [],
   "source": [
    "array_B = numeric_strings.astype(float)"
   ]
  },
  {
   "cell_type": "code",
   "execution_count": null,
   "metadata": {
    "colab": {
     "base_uri": "https://localhost:8080/"
    },
    "id": "AKmD3zW3gi4A",
    "outputId": "45bd62a8-2514-455c-da81-c47800a249f0"
   },
   "outputs": [
    {
     "data": {
      "text/plain": [
       "array([ 1.25, -9.6 , 42.  ])"
      ]
     },
     "execution_count": 135,
     "metadata": {
      "tags": []
     },
     "output_type": "execute_result"
    }
   ],
   "source": [
    "array_B"
   ]
  },
  {
   "cell_type": "code",
   "execution_count": null,
   "metadata": {
    "colab": {
     "base_uri": "https://localhost:8080/"
    },
    "id": "iZKMcsPqhDK4",
    "outputId": "e80ca379-e8ad-42e0-df02-647e4de90214"
   },
   "outputs": [
    {
     "data": {
      "text/plain": [
       "array([  2.5, -19.2,  84. ])"
      ]
     },
     "execution_count": 136,
     "metadata": {
      "tags": []
     },
     "output_type": "execute_result"
    }
   ],
   "source": [
    "array_B * 2"
   ]
  },
  {
   "cell_type": "markdown",
   "metadata": {
    "id": "-2kB4piOiusG"
   },
   "source": [
    "## INDEXADO Y TROCEADO/EXTRACCIÓN DE DATOS DE ARRAYS"
   ]
  },
  {
   "cell_type": "code",
   "execution_count": null,
   "metadata": {
    "id": "2Fa1DGnbhFi4"
   },
   "outputs": [],
   "source": [
    "arr = np.arange(10)"
   ]
  },
  {
   "cell_type": "code",
   "execution_count": null,
   "metadata": {
    "colab": {
     "base_uri": "https://localhost:8080/"
    },
    "id": "4kifdqvNi5XL",
    "outputId": "10765bdb-689f-44a0-d6e3-985a953fe0d8"
   },
   "outputs": [
    {
     "data": {
      "text/plain": [
       "array([0, 1, 2, 3, 4, 5, 6, 7, 8, 9])"
      ]
     },
     "execution_count": 33,
     "metadata": {
      "tags": []
     },
     "output_type": "execute_result"
    }
   ],
   "source": [
    "arr"
   ]
  },
  {
   "cell_type": "code",
   "execution_count": null,
   "metadata": {
    "colab": {
     "base_uri": "https://localhost:8080/"
    },
    "id": "-WtMKr5Ti6Dp",
    "outputId": "1d9f9072-d1d9-476d-8341-bdfe005faac5"
   },
   "outputs": [
    {
     "data": {
      "text/plain": [
       "9"
      ]
     },
     "execution_count": 5,
     "metadata": {
      "tags": []
     },
     "output_type": "execute_result"
    }
   ],
   "source": [
    "# Extraer un dato de un array\n",
    "arr[9]"
   ]
  },
  {
   "cell_type": "code",
   "execution_count": null,
   "metadata": {
    "colab": {
     "base_uri": "https://localhost:8080/"
    },
    "id": "roOYIVUqjBjw",
    "outputId": "69f36aaa-9ef6-45ad-b624-f9157a69f08d"
   },
   "outputs": [
    {
     "data": {
      "text/plain": [
       "array([5, 6, 7])"
      ]
     },
     "execution_count": 34,
     "metadata": {
      "tags": []
     },
     "output_type": "execute_result"
    }
   ],
   "source": [
    "# Extraer una porción de datos de un array\n",
    "arr[5:8] # [5, 6, 7]"
   ]
  },
  {
   "cell_type": "code",
   "execution_count": null,
   "metadata": {
    "colab": {
     "base_uri": "https://localhost:8080/"
    },
    "id": "lX_UHzwKnSn0",
    "outputId": "d3363841-7f01-4fd3-8220-9c11cc5f8f2a"
   },
   "outputs": [
    {
     "name": "stdout",
     "output_type": "stream",
     "text": [
      "(array([5]),)\n"
     ]
    }
   ],
   "source": [
    "result = np.where(arr == 5)\n",
    "\n",
    "print(result)"
   ]
  },
  {
   "cell_type": "code",
   "execution_count": null,
   "metadata": {
    "id": "AlGcdRM6jZwE"
   },
   "outputs": [],
   "source": [
    "# Modificar los datos de una posición del array\n",
    "arr[5] = 120"
   ]
  },
  {
   "cell_type": "markdown",
   "metadata": {
    "id": "JJwyFkLPpL_t"
   },
   "source": [
    "Filtrar/buscar los elementos de un array en función de criterios definidos por nosotros"
   ]
  },
  {
   "cell_type": "code",
   "execution_count": null,
   "metadata": {
    "colab": {
     "base_uri": "https://localhost:8080/"
    },
    "id": "UIPRWr4VpPJ0",
    "outputId": "c5de5a41-7e83-4b5f-daf7-42dc4434b163"
   },
   "outputs": [
    {
     "name": "stdout",
     "output_type": "stream",
     "text": [
      "Índices de los elementos con valor > 16\n",
      "(array([ 6, 13]),)\n"
     ]
    }
   ],
   "source": [
    "arr_largo = np.array([11, 12, 13, 14, 15, 16, 17, 15, 11, 12, 14, 15, 16, 17])\n",
    "result = np.where((arr_largo > 16))\n",
    "\n",
    "print(\"Índices de los elementos con valor > 16\", result, sep='\\n')"
   ]
  },
  {
   "cell_type": "markdown",
   "metadata": {
    "id": "WP1GGqLPp8vp"
   },
   "source": [
    "### EJERCICIO\n",
    " \n",
    "Encuentra la posición en el array de los elementos con valor (>= 12 y <= 16)"
   ]
  },
  {
   "cell_type": "code",
   "execution_count": null,
   "metadata": {
    "colab": {
     "base_uri": "https://localhost:8080/"
    },
    "id": "iAZ6yW1KqXaW",
    "outputId": "7689efe3-e22f-4218-adbb-e8f76d392071"
   },
   "outputs": [
    {
     "name": "stdout",
     "output_type": "stream",
     "text": [
      "Elementos con valor >= 12 y <= 16\n",
      "(array([ 1,  2,  3,  4,  5,  7,  9, 10, 11, 12]),)\n"
     ]
    }
   ],
   "source": [
    "arr_largo = np.array([11, 12, 13, 14, 15, 16, 17, 15, 11, 12, 14, 15, 16, 17])\n",
    "\n",
    "# Respuesta\n",
    "\n",
    "\n"
   ]
  },
  {
   "cell_type": "code",
   "execution_count": null,
   "metadata": {
    "colab": {
     "base_uri": "https://localhost:8080/"
    },
    "id": "_mdtzbrsjhfz",
    "outputId": "baa90483-7bd3-40b3-cc05-461987557570"
   },
   "outputs": [
    {
     "data": {
      "text/plain": [
       "array([0, 1, 2, 3, 4, 5, 6, 7, 8, 9])"
      ]
     },
     "execution_count": 11,
     "metadata": {
      "tags": []
     },
     "output_type": "execute_result"
    }
   ],
   "source": [
    "arr"
   ]
  },
  {
   "cell_type": "code",
   "execution_count": null,
   "metadata": {
    "id": "Xt8tYohajJ6I"
   },
   "outputs": [],
   "source": [
    "# Modificar los datos de una porción del array\n",
    "arr[5:8] = 12"
   ]
  },
  {
   "cell_type": "code",
   "execution_count": null,
   "metadata": {
    "colab": {
     "base_uri": "https://localhost:8080/"
    },
    "id": "C4bI8aZLjTdv",
    "outputId": "a02a9c69-d9a3-4007-93ee-c20e324ef31e"
   },
   "outputs": [
    {
     "data": {
      "text/plain": [
       "array([11, 12, 13, 14, 15, 12, 12, 12, 11, 12, 14, 15, 16, 17])"
      ]
     },
     "execution_count": 31,
     "metadata": {
      "tags": []
     },
     "output_type": "execute_result"
    }
   ],
   "source": [
    "arr"
   ]
  },
  {
   "cell_type": "markdown",
   "metadata": {
    "id": "f6pFcOIij0wV"
   },
   "source": [
    "IMPORTANTE\n",
    " \n",
    "A diferencia de las lista de Python, los slices de arrays, son vistas de los mismos, no copias, por lo tanto cualquier modificación de la vista resulta en una modificación del original. Ejemplo:"
   ]
  },
  {
   "cell_type": "code",
   "execution_count": null,
   "metadata": {
    "id": "280hNACHjUSv"
   },
   "outputs": [],
   "source": [
    "arr_slice = arr[5:8]"
   ]
  },
  {
   "cell_type": "code",
   "execution_count": null,
   "metadata": {
    "colab": {
     "base_uri": "https://localhost:8080/"
    },
    "id": "uNWSVQxdjxC7",
    "outputId": "e9da74e4-5786-4d1b-f705-01c76e1aa663"
   },
   "outputs": [
    {
     "data": {
      "text/plain": [
       "array([5, 6, 7])"
      ]
     },
     "execution_count": 165,
     "metadata": {
      "tags": []
     },
     "output_type": "execute_result"
    }
   ],
   "source": [
    "arr_slice"
   ]
  },
  {
   "cell_type": "markdown",
   "metadata": {
    "id": "Oz-W2_iekWCs"
   },
   "source": [
    "EJERCICIO\n",
    " \n",
    "Crea un array como el del ejemplo anterior y prueba modificar una porción del mismo y observar que el valor original del array ha sido modificado."
   ]
  },
  {
   "cell_type": "markdown",
   "metadata": {
    "id": "qKYMvIkikpcK"
   },
   "source": [
    "Si queremos preservar el original, es mejor crear una copia temporal y trabajar sobre ella."
   ]
  },
  {
   "cell_type": "code",
   "execution_count": null,
   "metadata": {
    "id": "fZrYm3FAjziQ"
   },
   "outputs": [],
   "source": [
    "arr = np.arange(10)"
   ]
  },
  {
   "cell_type": "code",
   "execution_count": null,
   "metadata": {
    "colab": {
     "base_uri": "https://localhost:8080/"
    },
    "id": "dFHWJd-uk3pX",
    "outputId": "125dbc46-cf91-4a1d-c882-4540abaf5ac4"
   },
   "outputs": [
    {
     "data": {
      "text/plain": [
       "array([0, 1, 2, 3, 4, 5, 6, 7, 8, 9])"
      ]
     },
     "execution_count": 13,
     "metadata": {
      "tags": []
     },
     "output_type": "execute_result"
    }
   ],
   "source": [
    "arr"
   ]
  },
  {
   "cell_type": "code",
   "execution_count": null,
   "metadata": {
    "id": "hYpNc7Hwk4gv"
   },
   "outputs": [],
   "source": [
    "# Respuesta\n",
    "\n",
    "\n",
    "\n"
   ]
  },
  {
   "cell_type": "code",
   "execution_count": null,
   "metadata": {
    "colab": {
     "base_uri": "https://localhost:8080/"
    },
    "id": "lsJo6RQ8k75X",
    "outputId": "416d84f1-7ab1-4dae-dccc-363b6c1e5fde"
   },
   "outputs": [
    {
     "data": {
      "text/plain": [
       "array([0, 1, 2, 3, 4, 5, 6, 7, 8, 9])"
      ]
     },
     "execution_count": 15,
     "metadata": {
      "tags": []
     },
     "output_type": "execute_result"
    }
   ],
   "source": [
    "arr_AB"
   ]
  },
  {
   "cell_type": "code",
   "execution_count": null,
   "metadata": {
    "id": "30W3M8VNk9KG"
   },
   "outputs": [],
   "source": [
    "# Respuesta. \n",
    "\n",
    "\n",
    "\n"
   ]
  },
  {
   "cell_type": "code",
   "execution_count": null,
   "metadata": {
    "colab": {
     "base_uri": "https://localhost:8080/"
    },
    "id": "dcstJ0e-lBYW",
    "outputId": "3b33a192-86e9-4382-a3a5-8a725a86ee6f"
   },
   "outputs": [
    {
     "data": {
      "text/plain": [
       "array([ 0,  1,  2,  3,  4, 12, 12, 12,  8,  9])"
      ]
     },
     "execution_count": 17,
     "metadata": {
      "tags": []
     },
     "output_type": "execute_result"
    }
   ],
   "source": [
    "arr"
   ]
  },
  {
   "cell_type": "code",
   "execution_count": null,
   "metadata": {
    "colab": {
     "base_uri": "https://localhost:8080/"
    },
    "id": "G4ikn4F8lCG2",
    "outputId": "de05c0bd-a18f-4e8f-a0fd-efbd336f3582"
   },
   "outputs": [
    {
     "data": {
      "text/plain": [
       "array([0, 1, 2, 3, 4, 5, 6, 7, 8, 9])"
      ]
     },
     "execution_count": 18,
     "metadata": {
      "tags": []
     },
     "output_type": "execute_result"
    }
   ],
   "source": [
    "arr_AB"
   ]
  },
  {
   "cell_type": "markdown",
   "metadata": {
    "id": "_MOGWa75mqz6"
   },
   "source": [
    "IMPORTANTE\n",
    " \n",
    "Note that np.copy is a shallow copy and will not copy object elements within arrays.\n",
    " \n",
    "https://numpy.org/doc/stable/reference/generated/numpy.copy.html?highlight=copy#numpy.copy"
   ]
  },
  {
   "cell_type": "markdown",
   "metadata": {
    "id": "F-v4nyAam0uC"
   },
   "source": [
    "To ensure all elements within an object array are copied, use copy.deepcopy."
   ]
  },
  {
   "cell_type": "code",
   "execution_count": null,
   "metadata": {
    "id": "1TxXuBTHlDqG"
   },
   "outputs": [],
   "source": [
    " a = np.array([1, 'm', [2, 3, 4]], dtype=object)"
   ]
  },
  {
   "cell_type": "code",
   "execution_count": null,
   "metadata": {
    "id": "PCmjPAuxm8Ql"
   },
   "outputs": [],
   "source": [
    "import copy\n",
    "\n",
    "c = copy.deepcopy(a)"
   ]
  },
  {
   "cell_type": "code",
   "execution_count": null,
   "metadata": {
    "id": "5ywe1od8m9uV"
   },
   "outputs": [],
   "source": [
    "c[2][0] = 10"
   ]
  },
  {
   "cell_type": "code",
   "execution_count": null,
   "metadata": {
    "colab": {
     "base_uri": "https://localhost:8080/"
    },
    "id": "jiMYmm4bnI7l",
    "outputId": "d45f3e65-6b17-4beb-84dc-18e51aa36b27"
   },
   "outputs": [
    {
     "data": {
      "text/plain": [
       "array([1, 'm', list([10, 3, 4])], dtype=object)"
      ]
     },
     "execution_count": 45,
     "metadata": {
      "tags": []
     },
     "output_type": "execute_result"
    }
   ],
   "source": [
    "c"
   ]
  },
  {
   "cell_type": "code",
   "execution_count": null,
   "metadata": {
    "colab": {
     "base_uri": "https://localhost:8080/"
    },
    "id": "o-LgBAJDnKk9",
    "outputId": "eb219e27-f579-4b37-e872-a77cb2d15590"
   },
   "outputs": [
    {
     "data": {
      "text/plain": [
       "array([1, 'm', list([2, 3, 4])], dtype=object)"
      ]
     },
     "execution_count": 46,
     "metadata": {
      "tags": []
     },
     "output_type": "execute_result"
    }
   ],
   "source": [
    "a"
   ]
  },
  {
   "cell_type": "markdown",
   "metadata": {
    "id": "Xfq9bNYznpzj"
   },
   "source": [
    "Otros métodos para copiar arrays\n",
    " \n",
    " \n",
    "ndarray.copy  Preferred method for creating an array copy\n",
    " \n",
    "https://numpy.org/doc/stable/reference/generated/numpy.ndarray.copy.html#numpy.ndarray.copy"
   ]
  },
  {
   "cell_type": "markdown",
   "metadata": {
    "id": "Q9wb3LozorJT"
   },
   "source": [
    "IMPORTANTE\n",
    " \n",
    "Modificando una porción o slice, estamos modificando el original.\n",
    " \n",
    "-----------------------"
   ]
  },
  {
   "cell_type": "markdown",
   "metadata": {
    "id": "RA3NX_3LsLXT"
   },
   "source": [
    "ARRAYS MULTIDIMENSIONALES\n",
    " \n",
    "-------------"
   ]
  },
  {
   "cell_type": "markdown",
   "metadata": {
    "id": "u3fyTcs3t6KE"
   },
   "source": [
    "![image.png](data:image/png;base64,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)"
   ]
  },
  {
   "cell_type": "code",
   "execution_count": null,
   "metadata": {
    "id": "uG7lKcFNohe-"
   },
   "outputs": [],
   "source": [
    "arr2d = np.array([[1, 2, 3], [4, 5, 6], [7, 8, 9]])"
   ]
  },
  {
   "cell_type": "code",
   "execution_count": null,
   "metadata": {
    "colab": {
     "base_uri": "https://localhost:8080/"
    },
    "id": "4WWaTxTnsQbH",
    "outputId": "bfa9a51c-30da-41ed-d185-94c06245facb"
   },
   "outputs": [
    {
     "data": {
      "text/plain": [
       "array([[1, 2, 3],\n",
       "       [4, 5, 6],\n",
       "       [7, 8, 9]])"
      ]
     },
     "execution_count": 48,
     "metadata": {
      "tags": []
     },
     "output_type": "execute_result"
    }
   ],
   "source": [
    "arr2d"
   ]
  },
  {
   "cell_type": "markdown",
   "metadata": {
    "id": "VY--cXsOsxdQ"
   },
   "source": [
    "En los arrays multidimensionales, los índices representan subarrays"
   ]
  },
  {
   "cell_type": "code",
   "execution_count": null,
   "metadata": {
    "colab": {
     "base_uri": "https://localhost:8080/"
    },
    "id": "k9vl6QWpstJl",
    "outputId": "63d07231-e4e8-4165-ae08-bb3cbb7dd40b"
   },
   "outputs": [
    {
     "data": {
      "text/plain": [
       "array([1, 2, 3])"
      ]
     },
     "execution_count": 49,
     "metadata": {
      "tags": []
     },
     "output_type": "execute_result"
    }
   ],
   "source": [
    "arr2d[0]"
   ]
  },
  {
   "cell_type": "markdown",
   "metadata": {
    "id": "zNgtuGRnsWr1"
   },
   "source": [
    "Para seleccionar elementos individuales de una array, necesitamos pasar un índice completo indicando subarray y elemento dentro de ese subconjunto. Ejemplo:\n",
    " \n",
    "![imagen.png](data:image/png;base64,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)"
   ]
  },
  {
   "cell_type": "code",
   "execution_count": null,
   "metadata": {
    "id": "MiMCpAbpsSec"
   },
   "outputs": [],
   "source": [
    "arr2d[0][2]"
   ]
  },
  {
   "cell_type": "code",
   "execution_count": null,
   "metadata": {
    "id": "Bd5Im5KgtcJr"
   },
   "outputs": [],
   "source": [
    "arr2d[0, 2]"
   ]
  },
  {
   "cell_type": "markdown",
   "metadata": {
    "id": "KQw9UnedvNHg"
   },
   "source": [
    "### EJERCICIO\n",
    " \n",
    "En el array 2D siguiente, accede a los elemento (0, 0) y (2, 2)"
   ]
  },
  {
   "cell_type": "code",
   "execution_count": null,
   "metadata": {
    "colab": {
     "base_uri": "https://localhost:8080/"
    },
    "id": "xSib_RwrsvBr",
    "outputId": "cb241d07-72c0-424c-ee79-0a57167e1a8c"
   },
   "outputs": [
    {
     "name": "stdout",
     "output_type": "stream",
     "text": [
      "[0,0] 1 y [2,2] 9\n"
     ]
    }
   ],
   "source": [
    "arr2d = np.array([[1, 2, 3], [4, 5, 6], [7, 8, 9]])\n",
    "\n",
    "# Respuesta\n",
    "\n",
    "\n"
   ]
  },
  {
   "cell_type": "markdown",
   "metadata": {
    "id": "7OURj6nUuNt5"
   },
   "source": [
    "**Arrays tridimensionales**"
   ]
  },
  {
   "cell_type": "markdown",
   "metadata": {
    "id": "eK_yrE4yuis8"
   },
   "source": [
    "![image.png](data:image/png;base64,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)"
   ]
  },
  {
   "cell_type": "code",
   "execution_count": null,
   "metadata": {
    "id": "ANNmMc2xtlON"
   },
   "outputs": [],
   "source": [
    "arr3d = np.array([[[1, 2, 3], [4, 5, 6]], [[7, 8, 9], [10, 11, 12]]])"
   ]
  },
  {
   "cell_type": "code",
   "execution_count": null,
   "metadata": {
    "id": "lO4kXwyFu4lC"
   },
   "outputs": [],
   "source": [
    "arr3d"
   ]
  },
  {
   "cell_type": "markdown",
   "metadata": {
    "id": "NxkWLi0OwNrI"
   },
   "source": [
    "### EJERCICIO\n",
    " \n",
    "En el array 3D anterior, extrae el número 4.\n",
    " \n",
    "  \n",
    "  # ----------------------------------------------\n",
    "# ----------------------------------------------"
   ]
  },
  {
   "cell_type": "code",
   "execution_count": null,
   "metadata": {
    "id": "n68rWjzVwfAG"
   },
   "outputs": [],
   "source": [
    "# Respuesta \n",
    "\n"
   ]
  },
  {
   "cell_type": "markdown",
   "metadata": {
    "id": "oaHKCZzix0dW"
   },
   "source": [
    "------------"
   ]
  },
  {
   "cell_type": "code",
   "execution_count": null,
   "metadata": {
    "id": "PJUXBps-wBGr"
   },
   "outputs": [],
   "source": [
    "arr2 = np.array([[1, 2, 3], [4, 5, 6], [7, 8, 9]])"
   ]
  },
  {
   "cell_type": "code",
   "execution_count": null,
   "metadata": {
    "id": "b7D2UXX5x4vR"
   },
   "outputs": [],
   "source": [
    "arr2 "
   ]
  },
  {
   "cell_type": "markdown",
   "metadata": {
    "id": "bF-Z7ovRyOUc"
   },
   "source": [
    "### EJERCICIO\n",
    " \n",
    "Del array 2D anterior extraer los elementos:\n",
    " \n",
    "([4, 5, 6],\n",
    " \n",
    " [7, 8, 9])\n",
    " \n",
    "# --------------------------\n",
    " \n",
    "# --------------------------"
   ]
  },
  {
   "cell_type": "code",
   "execution_count": null,
   "metadata": {
    "colab": {
     "base_uri": "https://localhost:8080/"
    },
    "id": "w9F4L9_Vx_xZ",
    "outputId": "b438dc0c-0573-41b6-cebb-f0a1a81de5d7"
   },
   "outputs": [
    {
     "data": {
      "text/plain": [
       "array([[4, 5, 6],\n",
       "       [7, 8, 9]])"
      ]
     },
     "execution_count": 54,
     "metadata": {
      "tags": []
     },
     "output_type": "execute_result"
    }
   ],
   "source": [
    "# Respuesta\n",
    "\n",
    "\n"
   ]
  },
  {
   "cell_type": "markdown",
   "metadata": {
    "id": "oN7PcFNqzHyP"
   },
   "source": [
    "###EJERCICIO\n",
    " \n",
    "Del array del ejercicio anterior, ahora extrae el subset\n",
    " \n",
    "([[2, 3],\n",
    " \n",
    " [5, 6]])\n",
    " \n",
    "# ------------------------------------"
   ]
  },
  {
   "cell_type": "code",
   "execution_count": null,
   "metadata": {
    "id": "Dg6EX4eMz9IU"
   },
   "outputs": [],
   "source": [
    "# Respuesta\n",
    "\n",
    "\n"
   ]
  },
  {
   "cell_type": "markdown",
   "metadata": {
    "id": "9TM5zGKK035c"
   },
   "source": [
    "### EJERCICIO\n",
    " \n",
    "Extrae ahora el subarray [4, 5]\n",
    " \n",
    "# ----------------------------------------"
   ]
  },
  {
   "cell_type": "code",
   "execution_count": null,
   "metadata": {
    "id": "wGdtnp8y1DbV"
   },
   "outputs": [],
   "source": [
    "# Respuesta\n",
    "\n"
   ]
  },
  {
   "cell_type": "markdown",
   "metadata": {
    "id": "K13ksT2D2jYh"
   },
   "source": [
    "### EJERCICIO\n",
    " \n",
    "Extrae ahora el subarray siguiente:\n",
    " \n",
    "([[1],\n",
    " \n",
    " [4],\n",
    "  \n",
    "  [7]])\n",
    " \n",
    "# -----------------------------------------------"
   ]
  },
  {
   "cell_type": "code",
   "execution_count": null,
   "metadata": {
    "id": "g-qM5P780yRi"
   },
   "outputs": [],
   "source": [
    "# Respuesta\n",
    "\n",
    "\n"
   ]
  },
  {
   "cell_type": "markdown",
   "metadata": {
    "id": "OeHtFOIr3il_"
   },
   "source": [
    "### EJERCICIO\n",
    " \n",
    "En el array 2D anterior \"arr2d\", modifica todos los valores de las columnas 1 y 2, estableciendo su nuevo valor a cero.\n",
    " \n",
    "# ------------------------------------------------\n",
    " \n",
    "# --------------------------------------------------"
   ]
  },
  {
   "cell_type": "code",
   "execution_count": null,
   "metadata": {
    "id": "zuETrCAV28Pm"
   },
   "outputs": [],
   "source": [
    "# Respuesta\n",
    "\n",
    "\n"
   ]
  },
  {
   "cell_type": "code",
   "execution_count": null,
   "metadata": {
    "id": "xQaUqYcG36F_"
   },
   "outputs": [],
   "source": [
    "arr2d"
   ]
  },
  {
   "cell_type": "markdown",
   "metadata": {
    "id": "hVeJyomT88LV"
   },
   "source": [
    "# MÉTODOS MATEMÁTICOS Y FINANCIEROS DENTRO NUMPY\n",
    " \n",
    "----------------"
   ]
  },
  {
   "cell_type": "code",
   "execution_count": null,
   "metadata": {
    "id": "I_ox4c4-5d2F"
   },
   "outputs": [],
   "source": [
    "arr = np.random.randn(5, 4)"
   ]
  },
  {
   "cell_type": "code",
   "execution_count": null,
   "metadata": {
    "colab": {
     "base_uri": "https://localhost:8080/"
    },
    "id": "opbJngVs9Rkt",
    "outputId": "ef356053-858c-4cd5-cfd8-be6ec0823191"
   },
   "outputs": [
    {
     "data": {
      "text/plain": [
       "array([[-0.66285158,  0.10864492,  0.48452559,  1.09375111],\n",
       "       [ 0.00398659,  1.12393356,  0.55653468,  0.54058878],\n",
       "       [-0.101417  , -0.46752106,  0.07316046,  0.67795059],\n",
       "       [-1.25573671,  1.34105721,  0.29973207,  1.41649319],\n",
       "       [ 0.07022598,  0.07131572, -0.48837788,  0.19573367]])"
      ]
     },
     "execution_count": 4,
     "metadata": {
      "tags": []
     },
     "output_type": "execute_result"
    }
   ],
   "source": [
    "arr"
   ]
  },
  {
   "cell_type": "code",
   "execution_count": null,
   "metadata": {
    "colab": {
     "base_uri": "https://localhost:8080/"
    },
    "id": "jbhfaaSe9S9b",
    "outputId": "1e795920-ee02-4965-c2a3-57189e226ffb"
   },
   "outputs": [
    {
     "data": {
      "text/plain": [
       "0.10486021246297125"
      ]
     },
     "execution_count": 59,
     "metadata": {
      "tags": []
     },
     "output_type": "execute_result"
    }
   ],
   "source": [
    "# Si no especificamos fila o columna calcula la media sobre el total de elementos\n",
    "np.mean(arr)"
   ]
  },
  {
   "cell_type": "markdown",
   "metadata": {
    "id": "Wp5e26Vb-PPZ"
   },
   "source": [
    " numpy.mean(a, axis=None, dtype=None, out=None, keepdims=<no value>)\n",
    " \n",
    "Returns the average of the array elements. The average is taken over the flattened array by default, otherwise over the specified axis. "
   ]
  },
  {
   "cell_type": "code",
   "execution_count": null,
   "metadata": {
    "colab": {
     "base_uri": "https://localhost:8080/"
    },
    "id": "7CZpM71T99fG",
    "outputId": "63d928be-1e18-4cc0-c5ec-f9dd472c5463"
   },
   "outputs": [
    {
     "data": {
      "text/plain": [
       "0.10486021246297125"
      ]
     },
     "execution_count": 60,
     "metadata": {
      "tags": []
     },
     "output_type": "execute_result"
    }
   ],
   "source": [
    "# También puede ser usada como un método\n",
    "arr.mean()"
   ]
  },
  {
   "cell_type": "code",
   "execution_count": null,
   "metadata": {
    "colab": {
     "base_uri": "https://localhost:8080/"
    },
    "id": "TyAGIeC5-iZz",
    "outputId": "5f99278e-bad9-4f32-f04b-e0571a3e01f3"
   },
   "outputs": [
    {
     "data": {
      "text/plain": [
       "array([ 0.25601751,  0.5562609 ,  0.04554325,  0.45038644, -0.03777563])"
      ]
     },
     "execution_count": 5,
     "metadata": {
      "tags": []
     },
     "output_type": "execute_result"
    }
   ],
   "source": [
    "# Media de los elementos de cada FILA\n",
    "arr.mean(axis=1)"
   ]
  },
  {
   "cell_type": "code",
   "execution_count": null,
   "metadata": {
    "colab": {
     "base_uri": "https://localhost:8080/"
    },
    "id": "fDTyKtST-tBK",
    "outputId": "b22b6a22-490e-4970-e98f-4dc241dced54"
   },
   "outputs": [
    {
     "data": {
      "text/plain": [
       "array([-0.38915854,  0.43548607,  0.18511498,  0.78490347])"
      ]
     },
     "execution_count": 6,
     "metadata": {
      "tags": []
     },
     "output_type": "execute_result"
    }
   ],
   "source": [
    "# Media de los elementos de cada COLUMNA\n",
    "arr.mean(axis=0)"
   ]
  },
  {
   "cell_type": "markdown",
   "metadata": {
    "id": "wGSOD-mU8vjW"
   },
   "source": [
    "![image.png](data:image/png;base64,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)"
   ]
  },
  {
   "cell_type": "markdown",
   "metadata": {
    "id": "t7WOnKYz84yh"
   },
   "source": [
    "![image.png](data:image/png;base64,iVBORw0KGgoAAAANSUhEUgAAAowAAAFVCAYAAABl6r6sAAAgAElEQVR4Aex9B3xWRdZ+qOq63/bdT3fX7eXvp64VFaUISm+i0juoICiKVAGpKmJFRTqBJHQEBKT3mtB7JyTUAOkh5U3e8vx/z5k7b25iYFEBE3IuTObeuXNnzjxz3pnnnik3BHooAoqAIqAIKAKKgCKgCCgCV0Ag5Ar39JYioAgoAoqAIqAIKAKKgCIAJYyqBIqAIqAIKAKKgCKgCCgCV0RACeMV4dGbioAioAgoAoqAIqAIKAJKGFUHFAFFQBFQBBQBRUARUASuiIASxivCozcVAUVAEVAEFAFFQBFQBJQwqg4oAoqAIqAIKAKKgCKgCFwRASWMV4RHbyoCioAioAgoAoqAIqAIKGFUHVAEFAFF4EdCwOfz5ck5EAjAOr/fL/fccWwY49yoIycnJ5gV86UMNzL/YOZ6oggoAj8qAkoYf1T4NXNFQBEo7giQfJGUuYnh5TDxer1y60aRNksMKZvN28pmyau9Vl8RUARubgSUMN7c9aulUwQUgUKMAIlYfuJFkmYJmr2Xn6xZknm9i2bzd8vpPr/e+Wv6ioAiUHgQUMJYeOpCJVEEFIFihoCbCJKI0bkPe+3xeGQY2B3fHe9GnpOsWsvjjcxX81IEFIEfFwEljD8u/pq7IqAIKAJCwNyWOxKyy5FDhl/u3rWGknJkZ2cHk7UWRwa4w4MR9EQRUARuWgSUMN60VasFUwQUgaKAAEmY22LnJmWUPyMjQ+Y4kiTmv3cjyucmp5xr+WPJcSPKqnkoAorA5RFQwnh5bPSOIqAIKAI3BAESQTcZpPUuJSUF6enpSExMDMpgh6gZ4D4PRrjGJ1YmykBHuTg8zsNNcq9xtpqcIqAIFEIElDAWwkpRkRQBRaB4IGAJGUtrCSCteBs3bsSwYcPQrFkz8VNTUwUQxr/RRI0WzoEDB6JatWp48803sWzZsqCsxaOWtJSKgCJABJQwqh4oAoqAInAFBCyRI1GzZI0+h2btdUHEzx3Gc5sOfXvP+jZ7ez1t2jTUrl0bt9xyC2rWrAkSRpuXHRK21+59EplO/mvGs+nyPq/ts5c7Z/xLly7h0KFDmDRpEv7f//t/CAkJwUMPPSTX7jJY2dVXBBSBmxsBJYw3d/1q6RQBReAHIGCJFZOwpIu+O9wSQXufcTMzMyVXdxgDOJxr40sE1x8bzmdmzJiB+vXr41e/+hWef/55nD9/XvJ0zyd0PSqnvGfTyH+voGsrm5v42vRJFnft2iUWxdtuuw0lS5bET37yEzz77LOYPHmyzKu0cQtKW8MUAUXg5kNACePNV6daIkVAEbhGCFhSRYJoz0mU6Ow1s7Ln1meY29KXn8jxmnEt8XQ/x2f3798vpPGDDz7AwoULkZWVFYxr07bp81n380zT3nOTOnd++WW2clh/x44daNmyJR555BHcd999+Otf/4p//vOfqFu3LsaOHRtMn+nooQgoAsUDASWMxaOetZSKgCLwAxBwkzA3+XMTMy4IIUFjmI3jJnJ2Gxr7DMVhupbUMa6NY8MYJ/8iE96z95kP0+NzNk/rMw7T5DXvMx3GZRgd79v8GIeyMDwtLQ3h4eH4zW9+g8qVK2Pu3Ll47bXXUKdOHTRq1EiGpPmcuxw/AFp9VBFQBIoIAkoYi0hFqZiKgCJw4xGwJKqgnOPi4tC3b188+uijMs+wevXqeO6558QCt3Xr1qBFkGmMGjVK4owbN07mBZKsWZK2fft2jB49Gn369MH06dMlK6Y9a9YsDBgwQNKzQ9y8mZycjFWrVqFp06ayEIVzHKtUqRIkc0ePHpU0Fi1aJHE4tE3ZatSogVq1aolvr59++mm0bt0aH330EQ4ePBgsZmxsrAw9r1ixAufOncPw4cNRsWJFyWPixIlBEht8QE8UAUXgpkdACeNNX8VaQEVAEfghCNCSZomjtexFR0eL5e3JJ5+UuX133nkn/ud//gdlypQRYvX+++/j5MmTQatft27dZNEIiRoJF+cI8iD5Gzx4MMqXLy/zA0NDQ8XyR8L5+uuv47e//a2QNG5pQwshLYBLly5F586d8Yc//AG33norfv3rX+NnP/sZ7rnnHjDfw4cPS9okn3fffTf++Mc/Spzf/e53oJz0me4dd9yBn//85zLk3KlTJ6xfvz6P1ZBl5kFiO2LECLCsHKYeP358UH6JoH8UAUWgWCCghLFYVLMWUhFQBL4vApYk8nmekwj269cPjz32GCIiIkDyyNXEq1evxoQJE1CuXDn83//9H2bPni37KPK5qKgoIYBcxEJL3YkTJ2Tl88qVK8VC+ec//1nmKtq8mFavXr1k3iAXvSQlJYn4JI2NGzfGP/7xD3z44YdiadyzZ48sUNm7dy/Onj0r8x0Zmee0GnLxyrZt27Bz507YuAxjfM6VpOynTp0KLtThs5YsWnmYFwkj8x4zZkxwKFuE0j+KgCJQLBBQwlgsqlkLqQgoAj8UAVr3aG0jeaPF7dVXX0VCQoKQK4bzIJnkvD+uKv7kk0+EGDKcm3Bv2LBBSOa//vUvIV2ffvop2rZtKxa+evXqIT4+XtIgSYuMjETPnj2FeHKYm/MKeXB7nQcffFCslbRGcmNvHpbgyYVr3qO9vpJvZWca7nmJNk3OV+SQdaVKlWSIm4teLBZXSlfvKQKKwM2FgBLGm6s+tTSKgCJwDREgabLEySZr5xNy5TIPa4Wz97l/Ireiee+998SCZ+NxGJrEi/dJ+m6//XYZUu7QoQOWL18etAwyv82bN4uFkcPMtOqRmPJg3lWrVkXp0qXRtWtX2eA7vwxWHis7fRK8/Ie7XHzGxnE/Z+NwqJtEmLJwHibjWnJpn2P67nP7bP589VoRUASKJgJKGItmvanUioAicAMRIBFykyF+/YTzDPv37y9fY3nppZdkXiEthpxb+Mtf/lKGrbk9jT04nMzFLF9++SV++tOfipWQQ9S0FJJ80VkySgsjh6T//ve/i1WP+dESyDjffPMNunfvLqSTw9/t27cXayQtmvZ55smFMfwyC+cntmvXTuK9+OKL4vMZEtUWLVrIs5xXyaFpS/LcZWXYxx9/LBZGDo9zDqMlpbZsjON+xlot7X31FQFFoOgjoISx6NehlkARUARuIAK0GHIFMi183JuQw88lSpQQEkjLIr+I8pe//EUWoHAOIYmUtcZRTC5a4UIUxqMFcc6cOd+SnnMYe/fuLYtWXnjhBRmKdkfavXu37JHINCz5fOCBB2TYm/GYJ4npn/70J1nYwsU4/GoMN9+mX7ZsWbGC8vl///vf6Nixo8zBLIjo2SFpzr3k8DjnMFpiaokjCaP7WRvullnPFQFFoGgjoISxaNefSq8IKALXEQFrcbNZcC7hli1b0KpVK9nMmt975vAxt59Zt26dELaHH35YiNk777wjC07sXodMg4tkaN3jammuWCbRpBWQC1I4ZE3SRbLFFcskjFw8w70PuUqastjhbabF703TisiFMyR8TzzxBBo2bCh5MA3OteS8SQ53k+CSqFJOXvOcbvHixZIXF8FcvHjRFjNoaWQA5eeiFw6FcysfDklbOWg1tYfbwsiw/NjZeOorAopA0URACWPRrDeVWhFQBG4AApb0kMjxnKuJSZg4VMwtbbj6mYclhSRSXMBCSx5XUtu9Dfk8V0Zz82t+j5nWPw5j0xLJfRxJDi1hYz4ckmYY8+FWNnZxC/PifSsXr5k2vz1drVo1WUBDAmrj27jWF2GdPwWF8ZbbGmrjc0iacxibNGkiG3fbcOtbeehb4mjDbBz1FQFFoGgjoISxaNefSq8IKALXEQFLfuiTAMXExODzzz8Ht8HhMC+ti9baxhXMM2fOxL333ivDxFz0wq1reNBCyLmK3AOR2/GQeHJF9ciRI2WLHBJHWgztQWslV0lzRXWzZs3EWui25tk8GZ/WRFoQuQE3h6+5+ppzHhlu5Wc8N5mz19a38fiMJXo2Pn2W2VoYw8LC+JgclInP8jl7FEQ47T31FQFFoOgioISx6NadSq4IKALXGQFLpGw2HOYlmSOJ48bXzZs3x5AhQ2Tz7UGDBsmXXzgnkNZHEkYuJLlw4YJ8rYVDxvwu81tvvRW0SHIomKumuYE2F6ZwQQvzpIWRlkIuoHn22WeD2+pwz0d+NYZpcMHN0KFDMXDgQDRo0EC+4MKhYy60saTPyk3fTQBtuA1zX5PwkehyuJ1WUn7Nhl+SoYycE/nMM89IGFd8f/XVV7KQx40TLZ56KAKKwM2HgBLGm69OtUSKgCJwjREgsbIkjIRo6tSpMkT7i1/8QuYhcvEIh5rfeOMN2eC6QoUKsg8jN8w+ffq0DOXSIvn2228LobMWOZIzWgT5LBfC9OjRQwgjN9SmhfH+++8XUsp9HJk/5yzyqzClSpWSRTMhISVl0U3ZMqVQ7ZmncPDAHi55Ab/R4vNDfCFz/oC5oBcA7KUbJpaLcenPmDEDd911l+TBeZaUnT6H2llWOsrL+ZXcDJyH2zrJa4uXOw89VwQUgaKLgBLGolt3KrkioAjcIARIfqzljOccTuZKZn5+j9+B5nAzF5NwWJk+rZD8RB+JHj//x2vOM6RFkcPFdtiWafK7zUuWLJFvR3PxC4d5ubiGK6E51MwwDnfzIPlkGL8oM378REwYH4bQCZMwPXwCNq79BqmJZ0jdQBufxw/x5QN/AT95pAlwwjmI7GO4c1gSy0t+j5pfquEm3SwbF+tMmTIF4eHh8o1pDkszjOXiF2XsYTGy1+orAorAzYOAEsabpy61JIqAInCNEXCTqMslTZLkJkrua3d4QWm5rXDuc+Zlr61v86cVUKyGtBaSGZIRBjIAfzKAdCCQjczsADL9pI7mNrhxN02ODHC8bHvPSbigfPJbDa0MBfl83p2GJcUFxdUwRUARKHoIKGEsenWmEisCisCPhACJmpv4uQlSfsJk77lJI58nkaJv79MXAuiUiefuawYzDtOxz0gYiV+QEXqAAK2QmQgEfMILSQh5Ww5LGEkwXRZGcs38efHanY9Nwvr57/GaZSIu+dOyz6ivCCgCRR8BJYxFvw61BIqAInAdESAJcpM+ZsVrS5BImC7nGNcSMMZxp8Pr/0aw3OTUpmXT8/rcQ86khxncFEcMjtl+wOPcF2iuQBjd6Upc549bVgZRXvfBaxLF/PF4/d/K5U5HzxUBRaBoIKCEsWjUk0qpCCgCPwIClpx916wtuXJvhcMwG870SAbz33cTrfzn+WUhfcv2ATkyDZG2RJLFnODIM0OC65XdhFHWv/jhgz/PHEamn5/8UU4rt1t2nrvly4+PfSZ/uF4rAopA0UVACWPRrTuVXBFQBG4gAiRTbqsir93Dy//NsmbJWEHEzIa5SZm7aPnDJb4ztGymMZI1euH1+/IQRrEJmnFnmjqNk1XUhjAynfxp23JZed1yuM/5nC2zlZ++PfKna8PVVwQUgaKJgBLGollvKrUioAj8yAjkJ0S8dodZ8sSw/OTLxiMBtee2OAyz8XnPfZ/nNl3GJxfM8WXD5/cY6yLnOYpVkMPmTgQ3YZRV0dx2xxBGScMZWnbnY2XJn3/+8IKeoXx0Bd2zz6uvCCgCRQ8BJYxFr85UYkVAEfiRECARIplzkyFLkKxIbpLFc963hyWCvHaHM17+dN152Oetb+LniFUx4Of3nDkATaIG+B2iaH3DILkpI+UwzhDGvPMSraz0rbP5Wd+G07eHxcReq68IKAI3JwJKGG/OetVSKQKKwE2PAMkfV0dnIeDPdvbPMVZF2W6HHFLMjfQtWTRB5JR0eigCioAicLUIKGG8WqQ0niKgCCgChQoBhzCClkbz9Rb7dZcgUWQUMQYawshTSxZzbYSFqlAqjCKgCBRSBJQwFtKKUbEUAUVAEbgyAn5jWZT5iAA31hEXMNv+BHKyzSKXfPMWlTBeGVW9qwgoAgUjoISxYFw0VBFQBBSBQo2AtRbyiy5pXiDeY3Zi5IxGGW7muDTJokMYZRsdh1yKdVFNjIW6flU4RaCwIaCEsbDViMqjCCgCisBVIEBSeP5SNrYci8Pc9ccQvmQvVu45h8Pns5DuA7x+DlXboWhn30V4zQg1ySJv6aEIKAKKwFUioITxKoHSaIqAIqAIFCYEuKblRIoPc7ecwLvh69H9s0WYsGQ/Ik+kIDVgPwtYEGHkUmqHMKqVsTBVqcqiCBRqBJQwFurqUeEUAUVAESgYAc5XPH4JmLH1HAZF7ECXESsxZnk0NsZmItmZz2j4YO6+i+Yr03l2/C44cQ1VBBQBRSAfAkoY8wGil4qAIqAIFAUEOFeRhHHm9gQMnHUIr46JxNg1Z7DpZDaS+GXpAIehuUjaEMaADEeb/RrFwmhuFoWiqoyKgCJQCBBQwlgIKkFFUAQUAUXguyJAC+OJZGDu7gT0nn4Ir4zfji9XxCIq1oNMZ5sdWhitldEMUjuEMffGd81W4ysCikAxRUAJYzGteC22IqAIFG0ESP1ikgP4elc8esw4jI4Tdgph3BqbhWwujg4YspiXMNrJi0W77Cq9IqAI3HgElDDeeMw1R0VAEVAEfjACShh/MISagCKgCHwHBJQwfgewNKoioAgoAoUFASWMhaUmVA5FoHggoISxeNSzllIRUARuMgSUMN5kFarFUQQKOQJKGAt5Bal4ioAioAgUhIASxoJQ0TBFQBG4XggoYbxeyGq6ioAioAhcRwSUMF5HcDVpRUAR+BYCShi/BYkGKAKKgCJQ+BFQwlj460glVARuJgSUMN5MtallUQQUgWKDAAnjiSQ/5u9OQM+ZR/Dy+B0YtfIkIqPTkcnPSDt7MOq2OsVGJbSgisB1RUAJ43WFVxNXBBQBReD6IGAJo3sfRhLGqBMZyOJNJYzXB3hNVREopggoYSymFa/FVgQUgaKNgB2SnrfzYnDjbhLGLTGZ8PCzf0oYi3YFq/SKQCFDQAljIasQFUcRUAQUgatBgIQxNgWwhLHTxF3m04AnMuRLL0wj9wuA/MILn9AvvVwNthpHEVAEvo2AEsZvY6IhioAioAgUegRI/06mAnN3XJA5jCSMny05jk3H0sTCqJ8GLPRVqAIqAkUKASWMRaq6VFhFQBFQBAwCljDO2X5eCCO/Jf3xwsNYdyhJCaMqiSKgCFxzBJQwXnNINUFFQBFQBK4/AnZIevbWc8FV0sPn7cfq/fGy6EUtjNe/DjQHRaA4IaCEsTjVtpb1+iAg+5bYOWLueWIFhJk9TlxzydxzynjOQ33F4b/rATUtOimAGVvOo/vMw+gwfjvembsfy/YlIMPRs7xzGK2uWf0yKKu+WTzU/86/u2DbZ3SLl1xv5aifM4nW3KOeBfUx+JzVQfWLAgJKGItCLamMhReBYAvoAZAOIBMIeICA1zi5dsL8XtM3B9iOehEAN8tjt29JpvoGIMXhanDIBnAgIYAxa2Lx6pR9aDN+B/p9dQDz9yUhxW877dyO3HTi9jq3E1f9U327Gn0rUE8CVDTilyNtGnWSLSF90TefH/CxnTP3GVMW8Aefox7qUVQQUMJYVGpK5SycCFjCGMhGIJCOQIDkMMd5s6bIbD4zAX8OII2naUlJGH3SiLo7bj03HZficDU4ULN2nQ/g46XH8ErEPrSesANvTt+DWbsSkJyHMPLlxOmoxXrNa1p7FOerwVnjXEFP/D7TtgWypK0jUeQZfT8fkzaPmuoJEkqSRrnJF+jgaErhbN5VqrwIKGHMi4deKQJXjQA7Ya/fvHezgaQzTWPuW7ZpEgPgfDK2jXyx9gfM+3YOfEH7IuOpUwyupAO0zLgdO+ZtZwMYOmcfXpq0C21Dd6HL5K0I23waCT5naDBA3fMJPSRN5Ll1pIxXyk/vqT5eSQfYjsnBRo0vxcgUjeIzMiwdJIy5Fka2kbwvbzBklDYNJyn1CjcCShgLd/2odIUcARJBNo5sBEkW2Yln5A5OC4nkPbaLsgiBw9GuZ9wEQM/zEiLFA/AGjCsIC+rZlrN+9Ju6De3HbUPbCTvx0pgNGLf6BOK9Ridtf2yft9f8WfHchquvWHxfHTA6xdaPU3LoczqOVTC+IbMFzB2yDhJGG6eQt/EqXi4CShhzsdAzReC7IcA3aw65eHMQ8GbC6/cIYeS7trU0snFkQyyNqm0gZQ4jw3IngbtuBdtaDcvtdxSLb2PBl5PNsV70DotE25Eb0WZ0FNp/sRKjlh3B+Wxj8ba6Rz1066Li+W08FZPvhgl1K8MPZAlwOYA/zTgfp+U4jZ74NDWaaRBWD4P3v1uLq7F/ZASUMP7IFaDZF2EEONnb6wG8Zt4i20YSxUQvEJcFXMgELtJlAQmZQEKG43ie5Udiph+JGVCnGHwvHTiXBczbnYrXJmxGy5GRaD5qK1p/vh7vfX0Quy4CZzOBC1lGB6mP1tkw0clM1T/9DX4/HWDbFpcNJDkjJtL6BdIBfwbAuY1u0ujMmbVWTN6S+0W4+S+OoithLI61rmW+NgiQMOZkAT7SRDOLJyaNVp8sLD+QgiUHksVfejAFSw+mYemBS8bx/GASltMdSHFcmvqCheJgdOLbOCzbn4xl+1Nh/YUHMzF86Rm0HbsTzcYfQrOJR9F49B50iTiIiVtSMHdvOhYduoQlBy/hm0NZWOi4bw5lOOHM49v5XC5/DedvVfGyesA2bcVxL3aeB+JNE2h2iPDzBZq2REMK3bwx/7mJpH+LCgJKGItKTamchQ8BGZLmUEwAl7zA4URg4d5kfLEsGu9/vR/vLzwo/nvz9+Pd+Yfxzvyj4nj+7vyDYDitQXTvzzusvuLwLT0Y/vWRPHoxbO4hvDvvAN6bcxBD5h3B61MOotmoHWg7ORptp5xEs7G83o6eMw5h0ByjW9Qv6t6Q+ccweMEx8d+ZT32zTvVPf3/fp/1hO3YYYZvOYlvsJSSm++DnFjr+4NKW4BxZsSi6WnBLHF1BeloEEFDCWAQqSUUsxAgEzFyx835gyqZz6D1lB14euxkvjdkkfscxG0D34phIdBgb5bhIuc841nUcbcLUVxyoE1YPOo2JEj0q2I9Ch1Gb8NLYLei74CwGL0/GK+GHZC5jl/Fb0Hn0WnQZvVpcp9HrRA+tvvFawkYbHbT5qa/6V5D+vTxqMzqNjxK9fHH0RnQet9XRvSh0GbMOH83ajEPnPTJPNhAIwO8387PtnMUgYZQV1ZzTqCPShbhXu6xoShgvC43eUASujAAbQc7JSQsAB1OBEUtO4KUxkWg/JhJvTt2LIQuPY/jiGHywKAbDFsfivSXG8dyG8549V99gpTjk4vD+wmgM+yYaBfnDFx7DiMXHMGlDHJbHAusvANN2e/D5ylP4dMkxfDhvDz77Zr+4T745jA8XHcMHi6PFfbzoCOh4rXjn4q2/x7ztEfXu/UUnMGyBact4/d7C49KmDZx7FJ1Cd6D9l+vRd/JGbDiWgaQcrocGcri639lqjPZGIYxiVnT2FrNhV25i9W4hQ0AJYyGrEBWn6CBgCWN8FhB5Cnhn9n60/3wt3gjbjpFrTmHJUQ9WHEzFyoPJ4i87lAy6FYcSsWZ/sriV+5Ow4kAS1FccCtKD1QdTsOpQCgry1x5MxJajSTh4LhMJ2UAqgJgUyPDgxiMJ2HAwDuv3nRa3Zn8cVh6IF11jPmv2XxC3cn+C6p/+/q7Y/qw+nIpVB5KDesjrtYfTMGdnIgYviEanCdvRdewGzNqWgOhkM5fbWBYDebYVE9bIvRdlR2+1MBadni5XUiWMuVjomSLwnRAgYWTDeCLJi8UH0vH29D14ZcxmsQgtOZKBU14gMQfy1s2V03TxPiDJC6RmA2keIMW5r77BSXHIi0NiFsAXkoJ8hqV6gMxsDgEa1eW+jWnUtSwgyQOkUc+yjZ6J/jk6SZxTc1T/VN/y6lt+POK5g0F2Xv3jdXI2cCgRCNuRhl6zjqDT6E0YufwkomJ9SPbZLZ38ebZyUsL4nbqXQhlZCWOhrBYVqiggwOFo7oW3Py4TUyMvolfYTrweuh1jN1zA1nM+pDlDM/wiAoklh2q4mJC+TOXhV7WcjZnVNxtUKw55cbBW7Mv51EHek09POitTqWt2L1DqGkkk9Y66ar7HkZuH4p2LBXFSPL6Nh9Wx/D63Z1p2PAdDFxxHx1EbMfSrw1i695LsAUp943eEjHPeZqioPHVdFoV2XmXMRUAJYy4WeqYIfCcELGHceSYNY1bGouu4Leg2eSem7UzD/ni/dNDBt2ppJfn9aLOBrVzaFpgNqTrFoAAdCPj8uJzjwoJs+3W1gAfwZ8l3zLP9AdlMmZ22VTH6JJK561f5IEOcBArIW3VSf5d+r3mrpQ6STVufusF9ZDefysEni4/ilS83ot+UvZizLRnnuDWttKTUQDpzZdpCgynVzermd2p0NfKPioASxh8Vfs28KCPABo/N4fZTyfhs0RF0+XITeobtxIKDHhxPNt/plS/BcKuJgNh6hDDyOSGMfNNmyxm8sK/f6ism/10HqDrsikWfSBgDZgN5XpMYBhcbiH4ZVeM9UTmJz2cc0qg6qL/D76gD6V5g/wUfxi4/hi6jNqDnxJ2YtvEizmZZimjt2Wz7HMVz2jwljAaSovZXCWNRqzGVt9AgwM6X3/ONjI7HB18fwMtfbkDvKTtlM9szaZYLegEhjOyY7RCN03hKz83i/HdyoHGKJ0aBgA+Xc9y4xGqVTHQgCRQdMx12pjdgyGFQvxyd5LUljJJC8cRWf1NXX+9++R60X3TRx/YMfmT5gJhUYPLqo+g8ciNeHbMFE1afRkymWSWNACdBuCyMtqlzvgwTfHkpNC26CvLfEFDC+N8Q0vuKwGUQYIPHJnH9sWS8NW0X2nyxHn0idmDzGbPQQCYquvYdM8kYi459w75M0hqsCFwVAtQj897h7vxNWPB9pMCU8sYvMIoGKgJXQIAt2flMYPqGY3h55GZ0GLUNI1YcQ6zPzIOUlViOEuaZiuM3VnEljFcAt5DeUsJYSCtGxSr8CLDB48KW5QcT0COJW10AACAASURBVH3KDrQbvRkDZu3BtnPAJTLJHA5Fm86bceXgEKCzqa02mBYU9RUBRaCoIcD2K8UPfBUViw5fbkXzz7Zg2Df7cDQLyCZRdN5JeOpDDgJc7pcnzL7sFLWSF195lTAW37rXkv9ABPiGnQ7I3opdw7aj5cgNeHvGXuw4D2SyYXTerk2D6WRGwiguePsHSqGPKwKKgCJw4xGw7d/c7efQ9vNIvPDhBgxdsBvHs838WSGHwRfmvISR0gYkwo2XW3P8/ggoYfz+2OmTxRwBNpjcLHnZkRS8GbEdrb5Yh/4zdmHnBcgq1YIJI9+ySRqVMBZz9dHiKwJFGgG2fykA5uw4h5dGRqHJR2sx9OtdYmHkzMWAM4RSkIWRpkYzA5dv1noUFQSUMBaVmlI5Cx0CljCuPJaC7hHb0ObzVRg6excOpTrbl2SbgWg2mI6x0ayWdghjbmChK5oKpAgoAorAFRGwhHHejjh0/HIzmn6wAkPmbsHRTMfC6DR8hjBywV/ukLQZm2YKShivCHIhu6mEsZBViIpTdBBgc3cJwIqD8Xh93Eo0HzYXg6ZsxJFkV4PpkMU8hNEZki46JVVJFQFFQBHIiwDbP07JmRN5Aq2HLcRzA2di6Iz1OJHhav+ckRS7nl9ekoUj8mkljHkRLfxXShgLfx2phIUUAdoP2WBGnUjAiAU7MXjqJoxbtBsnkp1VgkGWaC2MzmbJShgLaY2qWIqAInC1CLD949q+VXtPY+iUSPSfvBGhq/bgbDbgYVPnGpLOQxilXSRrVMJ4tVgXlnhKGAtLTagcRQ4BtnvcHDnJBxxOBY5cAqKTzd6M/MQYfLkNouGOljA6wzAmsMiVWwVWBBQBRcC2f/xE4JFU4HAacDjJJy/RObxpnZw6FsVgGNtApx1UKIsMAkoYi0xVFR1B+cmyQIAtw81/sJRsCmlp5BY7fOPmtWksnUZSJnhbLEgazf3igZAtt/qKwI+LANukm7ldyl+2/NfXA/387R8/ZMCXaDm4B63TyNHC6F4V7TSBNqb6RQQBJYxFpKIKs5j5G2L3tT2/OX2fLGLhlzhIDdlQyjIXtoZ+foM1G/Cb7SQYh+sCzVc7Avwsqzjy6psTG9M5F/ayXe53VZDcjOsOty9G7rCifp4fj5utPDdb+Xw+aXGCxWJ9US9v3GHysu0ffSGGwe3DrCWRrZ+Jy+aRUueV/MZJrDl9fwSUMH5/7PRJFwK283QFFYNTNoD8TJb5VJYU2L46S4PJjbvdVkY2mkEDo335LgY4aREVAUXgeiJA4khHwnjjDjvFxmwTZvJlm8g2z2n7gl+6ytv2KWG8cbV0LXNSwngt0SyGaV3ubZaNV05OTh6LTFG3VuSXX2Z1+z2ALxMIGGsi+MYvLhvwZRsLJHLgBy2MxsoYtC6yvS3kFkbW75Vcfkxupmt3ufOXy97LH17Ur2256FsCUpTLxHJcTv4r3bvcM4Ut/HJdjm1/L3f/2oRbwmjJofNRAvsSLS/LxsKY/0XZXl8bOTSVG4WAEsYbhXQxyIeNKRvh4nO43qbtGzXL73qrNhO7zXAMh2S0oSxa2kGd1kMRKKwIkBjSsd2ls9c3Tl5DCM3Xq+xXrHJHVdj+2TYv1zftoS56uXG1dK1yUsJ4rZDUdAQBdwfrPr9Z4THzcpw3bT83puW8RlPa/A2kJYwGKGds+mYF5iYpF3XYupukSMWqGJeru8uFF1VwWB578NxaT23Y9fJzc3WTRWM0yG3/3NNwHIIp8xlNvOslm6Z77RFQwnjtMS1WKdqG177hugvPt117/2b0+Z7M2Ytm8rZ90zYIsLE079mkiWY4mrHNohcuiLEul5AUZozc9eo+L8wyX41sLIuN9986WcazcewzRd1312X+86JeNltf+ctlr2+GurQWRZbVHrbe7PX18nPbOObA9i93LqOdo2h9Sx6D8ZzWUa2M16t2rk+6ShivD67FKtWTJ09i4cKF+PDDD9G7d2/06NEDvXr1knP6N6vr2asP3uzdFz369kXfvn3xdr/+6N+/P/r27Y/effqje+8+6Nm7F3r2Jh490Kv3m+L37tUDb/XsAfrEhun0EvfdsbJp9+7ZB2/16Av6vXuadHjP5E8ZjGM+vN+715viKJe9RznczsrEOu3duyf69OmFt956S8rar9/boPshdRvMl7JdVfkNjsTNOps/y23OHawdbG0ZcuPlxZhls/fo85pl7Nevn9QlfdZtnz59vqXPjGvLkCcN4luAc8fhc/mvGSb12LNXUD9Yh937sI5Mmd+Se7Z+exmd6v2mSw6rS27f5mV1ztG73r2kjNRZlpPldpezZ8+eeWR0y5t7bvG2edDPzdvUi712x7HPWd/9XK6+Gv02eL7Vgzpu9NfgYspNWSzePLd1YjF+q3cfKd/bb7+N/gPeRt/+/Uw5pY4oW165TJ4GI3PPyp8/rjsvU0fyO3frXs++Bf62c/XXpmlwkHD5/Zo85ffobkPyyNpL2lrqIeuN7S4d2+EVK1bg7Nmz17UfchNGQ1eNxZDnlijSt2QxN44dsqavVsbrWknXOHEljNcY0OKWXHZ2NrZv347nn38eP/3pT1GiRAmEhITg1ltvRZkyZVC6dOmb25W5BSElQqTMLGuJkBCULlkKpUoZV7p0SdCVcZzFo0wpg0up0reiROnbQL906bKClY1L3zxfGqXKlEYpuc84ZWGeL4kSt4SgVJkQ3FriNtwe8j/4SchtuLUk45REibIhCClbEiG30JVGSNmyKF3qNtxSsix+UioEt5YOQekyIShRtiRKlCmLEmUoy+2OMzJJvmVKSrySpUKkfMy7REhplAwpgxIlSgXlZpnLli4jrnSpEsEym3I45WU5nLIwT8pEx7zd5bNYGLwcHMqEoEzpENxC2UsZX7AqVRq3lLwVZUqVFTlLlTWYMJ/SpQyuFlOWnfFsuSjzbbfdJnpLfbU6Sx22upxbl6Vxyy23oGTJklLfZW+9BSXKlBYneZUuLfVyS6nSuLVkXsewYJ27nrF1bHFgOW4PKY2fhYRIHYXcGoKQ21hHprw/DSkp94kV66102RBxtg5Fj0rdhjKliMetKF2G9VgWpUqVQNkyJVC6RAhKE7+f3IaQEiVRsnSpoO6yzCwbMbDltLgV5ItuljFYWz0ltpJ3ydtQpiR1zfhGHqPfjEudZT1R/8RRt0tRB4weEFfqLsvN+D8pURa3hxAbo78WF8Yh9sSXjnpj9Yr+bbf8BGVCzO9S6rNMKYSULCF6fFvpW3P1RtopIxfzFPmo945cFk9TPubDuOZ3I/pbNsT8Fp1nzXO3oVSp/0HpUrfn/kYc/af+0jFd0Xur26LfpQU7PsffRUjZ0oKD4CVtgmkLTL2WEj1lvZXlbykkRHwS3W3btiE9nTvEGiu67Zvc1kgb9n19SwbzP2/DDUnMf9cZjVGymB+YQn+thLHQV1HhFjAtLQ1RUVFCGMuVKydvuKNHj8bkyZMRGhqK8PDwm9pNnToVI0eORJcuXfD444/jkYcfRJ/ePTFxwjhEhE/+lnPjERY+BZPCp4sLC5+G8PApiAgLd54JRUQ48Zss+DEuHePYeLw3aep4hEWEYlroTMycOBvTJk1HRBjjTMakKaGYNGUyQsWFY1LEFERMnompk6dhWth4TI0YjfCI8SZeBO9Pw6TwmY6bDso0KWwyJodNQMSUUHz+xcdo26YVnni8PCpVqII33+iJiRMniTxhYWFS5yJ/WDjCJociPGxSsPy23GER4bCO8oROmYJQ5hsxzVU+6gzLYHWHGExGeITBZGpYKHLdZEwNC5cyTZ08BeERExE2hWWaKGV340XZGIfOyDAZlJt1SD8iIkLy/PTTT9G8eXNUrFgRVapUEZ0eO3as6DP1esqUKRJX0mAdRpj0KK/kERaOaZMn53GUkfcYh8/ZZ6gjLJvFgXUzMzQcX4VOxIyw8ZgwbSLGTWc9mjLPCp0s96kLrNewKWPFSR0LhtMQETbNYMI8I6ZKfsxjytRJiJg8FuFhExExfQbGTpyMevWfxSOPPIJatWqJpW38+PGYNGmS4CHlLECHrV7bOqH+ybmUnzo8DVMnT8/jGGb0khhMFp2V54LPUr+NDkwiPqK7oabOieek6ZgROlP0nOmEThuLCdNHI3RqqJSP+E6bbPSGWE6YanRr5pQZmDR2Il54tiHuvfdeVK9bG2/26YXQCRMxPZxyGrxMvRi5bN787Yj+iOwmHvOWeoxgvpOlHpkfn6HeiZMyTUF42HSEhc1GWNjMoD6zbKz/aWETMS0sVNIyv2u2FVavwxExeTrCw2bK7yJ0isEjbMpEBzurQ0afpk+fjjlz5ohuNWvWDP/+97/RvXt3rFu37roTxsLdO6l01xoBJYzXGtFilh4JIy2MTZs2xXPPPYdNmzbJPK/iBENKSgpWrVqFTp06oWPHjti9e7fMi7sSBu43cHtu4rvfvnOHePLGcY3z8C3d3nROOdBjhoLsPes7I0DcykfiMKbZR9IuyLFJ0c+Vh/G8SEw4j5kzp+PVV7uiR/c+2LplJ7Kzec8cbsuF+9zez++788rNj7EuN0z1bWykIDZYyuWFDx7HsWyU79vlZy5S5gK+/pGcnIwJEyaga9euMkwbGRkZFJ3z3uwh08ZsIWyg+IxjMMv1c5+TKM5z9nEpP//Yskg+XnjhR7asNGUZ/Oa+U3/MgZvF0/GcdW50gXPJPMbZLU7E98Lv98qG8YyfmunDJ59+Jjo7ePBgbNmyJVgKdzmDgVdz4i5QQef503DiGM8Pr9RdJgA6blmVW4W+QG5Zzf10mC+IOOV2ILaPBPHwA5988CEaN26MD0Z8gi27duT5zQhmVh+CM44589h15C+LU1G5wczc/JakNvKUKzc7pskZzabGbHxH8NzEghnnBjGOiWfCnJnRzippPsD5jCNGjJCXHE6jWL9+vRLGIJJ6ci0QUMJ4LVAsxmkkJCRIR9OkSRPUrVsXq1evBkkk92D83p1OEcKTZTxz5gy++eYbtGjRAi1bthQ8OBR0pfLbjuDbRbUdg9l6wsazfjB+vgBe2o6SJMN0Sk5Hanqpb5ENkobcjotXDrGS8Fw5EMiBz5uFk7EnxLLWsVNndOz0KlasXIvMTE+QHF8NSTTyu9O2JId3XOHBc/OE/esup3ToDOBj9J1O34cc0JklSa5yMY51Tlw+w46WB3WW53Fxcfjkk0/wyiuv4M0338TKlSuRmUkCA3i9JF3M0Dlsek7+DDXkm59Cc7uCn7FVI6m5i++qTyOdS3YXYWTp6HLjsA4dwkjCBY/gYD/N5gv4zReGAKSkZmLo0HfRrl07mePH325WFj9uaTDJU04JvYo/goO7IK5zF0aSEsvhlMWkzDrLREA+tEnC6w0WjvFYmuCn5wLckYCEy2zbIvXqQMxsLCYBH0l2AEMHDkKdOnUweNi7WLVuLTweD+SeSyae0tk6cd3K1Rsbyfp5IMlXVicBG9Wma3ZjpYSUn3rFfQydn18QD6bFOE6hXPkY/bJb00D00erwxx9/LISR81I3bNighNGFm57+cASUMP5wDIt1CqmpqTJXpk2bNmjYsCGWLl2K+Pj4PCSCROJmdWzQY2OiMW/ePCGLHMrkm31SUpLohd2kuyBfLFT2RoDb8eRdVW4po/kKq+kmLI42ru122NXaeGZDcbsKm37A9ILWSBUAvM6nCeWebAfETsvphK3PcPkerHnwxPFohIZOxksvd0abDi9j4ZKloHXVm2NIIzstp38OkpJg8awlzylnUEaajehkOyLnM4oO2eOKciMf7zsGtoDpZkke2N1Kf0ro5NOL/ESjcYYyG72zcSSNoC4Sa0Oz3ESX56dPn8b777+PV199Fa+//joWL14M6vm3DnbylgX4TV6sM9aDoayWulKm3Ppz14e1MQVlZHr+vGVkHRtdySUVDMsNd2HoNzpEOYgm6WKW4zM+CaPk7/Xh0sV4DHi7H9q3b4v+/fti6dLFoHXVfQihc3TF1qX15Z7DkUw8YuBzcqZdNBuBoLM7BDCOKQfTCdYjv8IeuAT4swwRdHCgrEzT2o1JZ6XeeZ+8WFQjr4C2DujzvzfLg3cHD0G9evXQf9BALF25ApcuXXJImqk31rstV9CXT3m6y8TfQ16dlHqzPFFkpizmt2x+o4YeMk1TZ9QPoxdeqaEMgxGrxQ946aRMrD2z8b9bX4ye2w8BEMi8x3vvvYcnnnhCFmqphTEvNnr1wxFQwvjDMSzWKbAj5Zssh6T5Bs/OlVbH4nL4fTk4EX0M8+fPR9u2bdG6dWuZO2RJM5v0yzmDkcOEgj1P3vjsg+hsGrm4GsuD028GhyXlPiOz9xFLE33TQUsWTkL0guESxvQsDXFojFh4vIaUBYDjR6MxfvxEvPjSK2j7YkcsW7VaiFTAz+fM4SQflNde2/smMfb0jrOdrWx2znQshbKyuOR3rC8ssx2GtWXI7YaFJkhwHiGYjzxv6IQtK4douXCLh7WokTCy4+W81Ndee01egkgweJ8WRhs3x8MO3ak/AdRAmr9O+IStQ3k4iLcZ9uS93HAjJ5+hVMHnLJBOPgyX53gtFw7jcDDi88a+aHyLlzzOP14vMuIv4N3Bg9CuXRv07dsHS5YskhcAljP4YvJt0fLAGrxw4tn6zaWr5iXA4G101l1WyklnpEwHqEu2cBKd9ZUDkqtscIjeYGzjsCjBMgUvTJhc+vxIT0nFu0PfQf369fH24EFiYWS7ZaxyRgHto/l9W548epk/Eq9NMsbntQRQWuozXxccOZ2IrA86ls3eZ7EtHny9kGf5O5G3MJOA0fPc9KxlUSAE5EWnQoUKGDBggA5JW1DUv2YIKGG8ZlAWz4QyMjJk0Qsta7Vr18by5cuRmJgoYLg7HtsB3Ww+O4Yzp0+KhbFVq1YyLL127VqkpF6STiJorchrBBGjAbGQYTWx5OVaGNlF5rVIsPswFjGx4FgrB32xSuYOwArvYs/jWOyM1dAxy7Fvknu5VhXb0VkLkV8+Y+h08rQ0MkGxAAIxR09gwriJeLkjCeNLWLJiOZKTE0HSzIPlodzsHNnx2Q5QwvJYGB1LJsvNSI5MlNXM2LPWKZdFx4lHcZgeJZRuU55lftnIQZZYbyQ/9rc2bevTeiMWSFf6AoD57VrCyCkGw4cPlyHpN954A8uWLROLFO/bOM4TxiorODmWPWtJciCntUgcq4TYCNCsN5Yt11Jk69fszxmQZ4gqdUGeYRksm/DxlFTDWo+ZifNJyiA+uVSFafsChmSQe0gF+QJIvnABQ4cMQuvWLWXbpGXLloC/Z/dBma/kvq0/tKixXLYu7bkpK8tCCOxz9CXMsUSKrkk5aTWltZI0MduZleroF5936tTKJnpv06IeOnufMiNPVoaUs1atGhg4eBDWrFuLS5dMOY3FztQd08jjxNJny2OspcHfU1CnJJKRx1U/8rsUSkj7brZT95Tb6D7rltZSqxP2NcZaXHkt1kzGZ906QwIkzvwnz7EuncPq5gcffAASxoEDB4Lt0PVeJW3zV794IKCEsXjU83UrJckhJ8tz7h5XWnK+18WLF/N1rNct+x8/4YAPp0/FYvbs2WJdJGlcs2YNklPSTKPu9M/WwuD2RXhraXOIi71v+yP6xtrA3sHtbMLGUmcGvpyOlB2X05mY513hZAwkK2J/4rNmWI/xbH/3rTmQTnokjOPGjEfHVzqh/csvYdFyDmF+mzCyM7NpBfMP1hQFsxZGshtHVhZc6JEZsLOWFyE3Ng59J56hQySz5nnSCo+hUCYO4/Kedc6z1rLDQU7K4fGYuYnM3VoPaWHkXnZcwMQ5jIsWLQpOMWA8Ehxadkg2ckvKDMxh69CQcCOOiG0jSKEtQnzO0oVcXGwaeSyxNjspNikRSadjgZJ6NXnZaPTlCGKWKyPDE+MTMHjwQLRt2xpvvdUbJIycf8zDELuAwG1lKcjPTV/OnPgsT0HOxAk+wwRpCZc5odRJx5pNwUVUg4udZGB+B85LDO87LyeMbmWzOdjfjM/HudReDBo0AHXq1BLLsXmpTc4jax6ZXImZchh6XqBO2h+aqcagPpoCsExm8Q6TNNXuAbxC9e0v0FFRWk9JjY1GmfisaBJG58XKuWcsk6bQPr7Muerro48+kt0auOekDkkLNPrnGiKghPEaglkck+LQDrfV4YIPDkmzMS5OQ9LsBbgYZO7cuRALY8vWWLtuA5KSU4OdGJt0sQjkVxCxEBqSwGFdY2nJ5TikFKY7sL0R4xpriCTFmyQMfqeb4eINbrtGMwV5hM8sEhBbigjBuJmAn/O3OCcvUwxazCfTbx5j90bLB1PMkfSdjs4HnI4+iYljx6FTp5fR/sV2WLZiKdLSUuDzZgdfEPgI58nZR61PeVk+UyCnPBLZKaRziwOPdLRQCSFjHArIRzjBSyw0XBDhzHdz7rHILGcemTm86feYeXE5PrEesWyXgsOBTNSRS87MH25Ez46Xq967deuGJUuWmKF3ayV14rKUJBQeP+WloA7/oTWIl0ze+iYrE8cZZLWkJiDPW8LEYW5jDZRnvRmAlyTDjFBaLLK9rCnWZTrgywS8fM7oTqYvt/5kPQ9lEEJJIfi94Rx4/TlISknEEMfCyI27Of/YDr1TUEMaReTgH6vH8lLg5zeMKZipBKu/zC6YpXNuw0xClIO67BDeHA+Qkwn4nEUuznsA64opC04Bp+b8F03ds6zUceflJItlpuHWyY/5GNn8yMxMl3LWr18XXA3Ol1paGE1c1pyrcmwCrEKpRr/oIi171EmpVMbhI/QdYsxzsU4aKJy0DWEMBDJNXCqnJx3wZMrP1uOs+uZvj+n7kIksvxl2lwRogc9OA1jXjgGZKNAFLcUUQ0y2BllaGDmHUS2MBg/9e20RUMJ4bfEsdqkpYbw6wih9i9O4CzkUMkPrgbMa1Ol/2N94fHR+5PjMNihcoRzI4aIApzdy4tIw4/Nk8Y/ZQsWTAZyLR1zkfmxcFIWoLdHYfSoF8UIkSJ5SAc8FeJNPInrPJqxeNBfzv16EVeu2Y8fBGJxNy0GCF6CNyfJOkZt/hDDGYOLYMQ5hbINlKxYjMTHeDJ25NF8WVrhkdHdojGaHz6RDdgxMJCCWgJnBZkvBnISF67BnzQa8aciOO4KYnZHYvGIbNm04ggMnk5FI/kFZpTMnUUwCcs4BnjhEH9iH7VsPYO2OWByKy0IG+26fIWb55fsuhDHbHwCdrd/gmwHZg/38I/NhD89COrjQKmYsgNbiKwU0BNfrQY7XD19WOhAXjXNbN2Pj4k3Ytvk4jh+LR1paDjxe1lAKshOO4+S+zdi8ZhkWLlyEabMWYe7iDdiy+xSOn85AJnkk659vAEIaqUNmQP9i8gUMHmqGpC9HGGUqrCVPTiFtWembujI2aV4LkfQFTFa8dpE4E5/VY4Z5zaKObCAnHYG4GJzaGoXNiyKxad1hHI3z4KLPkCOxJl+KQ0LMTuyOmo+FX4dh5oy5WLIsCjt2xyAuySPvSPLa5AyhC86yAMePjKxcwjhk0GCsWrESaQ5h5OzIIGGUAjj6EySELKMd4DbkkpZob7YPfi8XeXng9XtMeW0BnekItHrzNcZH0sd7OX7g5DGc37wJkcu3YWPUSRyKycS5S9wIKhs+pBudYFxWmC8dWWcOImbnZmxcsxnrIg9h/5l0xGUYcmyVzq2/Shid9kK964KAEsbrAmvxSVQJ49URRtEIdmAyqT/bzF0kAeRwk0M4LImwvtEixxJDUijEkD2ZMy9OLCC8IulIR865YzizZAFGtOuCp/79DBrU74oBo+Zi06mLyBQKeB5pF/chcvlM9O7UDo/ddy/+5/af4b6HHkenbn0wb/UmHE1MB22PdKQk7PKMtSOA09HRQhhf6fQiOnQwFka7GlxoAK1/wtYc8iNyGQuIu1MjqZA+0SFNLK/0tWLB45UhIF6/TyyGYjWUYnL5cAaQeAp7Fk/F+693xpP/qYp6dV/FsC8XYMeRVGTSzCjkLBEIxAL+Qzi2ewF6vNIB9es2R62mb+HzqZtwKilHNnCx+TJ5e1w1YXQselZ+kquc7CwEaNUkhaFVjBZdoTMWG1NWGiH5YkAqIkOdFjLBj8PyfBvIxN6vJuHTl9uj2gNP44WGr+KjkTOx/0SczIvLTonB/vVf4aN+r6B65cfwm9/+L0Ju+Tn++I8H0ax9d4ROW4GDsdlIJcdm+iIo5WDNZuJCwmnHwthattUpyMJoKsZWEN8NOI/TEGBaKj3+LHGGeNl6NNa2PM9SM4hXwJIvM5uUZQ+knseRb8LxUbsWqHZPddSt3Q3DwjZixdFkU0feizi5awW+HNQFtavehzt+cytuv+0nuP/+xzDw3S8wf0UkTqdky+BvFsma+YlIdRLHS550IcYN6tfFOy7CSDhM3TkP0OLPRU10wpSNRlD/HBu+E9/BQ+qKeNL66Lw0OLrN+HRm6gR/4wzwIvrrWfi4XVs8dd/TeLx8U3wZsRo7Y5OQAQ88gTSBzMS9BHjOY/fyCPR+qRkevr8SKtd8CZ9NWY89p7NEDj/bA+asFkZTUfr3uiOghPG6Q3xzZ6CE8cqEUbgLV52SKJIgiqMpzDrT+ZBAmK7H+F5fQLarkaE6f4YztMqOh12c6ejYkdGxb5OB1guHELd4Ot577gXc/bP7UOWpznjjw5mIOpeKLCQiO/MANq0Ix0dDe6B1s8Z47tnn0aFdezRv2QLN27+Efu+PwIzlG3E0KRsXA4Y0sksiqeJQ+KkTxzBx7CgYwtgBy1YsR0qa2W6GJIIEQnpGllEWtJjhVT5rF4tYopgdADK9gAwlipXRwUgWAAlNlU7RdrwSwrLnXAISYrDnq3Ho1ag+/vrLe/BE+XZ4+8MF2HbYg2zyM3b4OXHIurAZ21d/huH9GuP+v92Jf/+jHCo/2w+fTN2Jowk5SPLQqpN3SI9FvVrCKP00SRCr1TAPh2ITWGLQtAAAIABJREFUByJnySLPc8ChZ2NpdEAVcsHKkzFJYefEiSSHNjNv0lkcmjYa7z/fAP/46T/w6KNNMfiz2TgUl46U1HgsmT0e7/Zoj+eqlUOd2tXQsm07dOjYGU2at0P9+k3RpetAjApfiW2HUpFCQ7SAT0S516EH5xPPORbGyxNGX47X0V2jA0aPaTY0crPYrBvrRBeFhZtiCfnhteio0VvG5SB+FvHgk55ERM8bg8ENauLun96DB+9vjb7jNmD1KQ+SclJwaM8yTP10MNrXr4YX6lVD69YvoGGdJ1G3ZmVUr90IXft+gAXrd+FEQoZYjvlbsgexTMtHGNc4FkYru9iy7fQQ6p846jBjGJmprxwKpk/5xUru8xjrobwUmAKKNdcZNja/HY6bk7Hz4Rwcmz4BQxrUxX2/eRD33vscBnw2HxuPxSML3LScv3NHobIvwn9hD+Z8+RZqlLsbt91yF/7yn0Z4d9J6RMZwcRcP83tTwihg6J8bgIASxhsA8s2chRJGIDY29vJzGINv/2RFnLzO+WgcU0qDYTfuTjTXkiF9HjtlxrXz1Hzs9clOTP/DOVAkAQwSwpiwH3HLJmFYi+fwn98/iqerd0PvTxfhYLwPnksxOL59Nt5/60U836A6XuzWG5PnLMLpU9GYP2cKOr/6Cuq80Axd+r+H5TuO4UyWIYzsJJk8LUGnYo46hPFldOjwEpYtXy1zNWkJNAtAaOlkB+lYQ720sDmkkR2iLyDWH+k7hTTYtJ3nBB922OyshUrgUsDMOaQccnAoNiEWsYvC8eGLbfDAnx5HtRpvYOjnq7A7xiEm3hxknTmAHUsnYugbNVH1oV/It5l/+5u/oWqjQfh01iEcTvLJnEfhecE6MllcLWGUzp0MiW8FnCwoBIP0wwxzcl6a2NE4ZElcyJpYpzmcm0Zd8MEfyAbxk1usS8GbpNELpMfhzMzRGN+6GR75w+OoVrMbhoWuxZ7zOTgRcxSfDuuLZ2tVRs0aT+O9Tz7DoeMEIAdHd0firVdfRr1naqBJ626YMGsjDp/JwSXCyhW3MksUOJuchIFDh6BVGzdhTA3O/RMWTHnlJcf69qXHsGQSKBIjls7QK2Lo4MFpFKxTEnhh1LZ8uc/ICuC0BMTOHY3PWr6Ax++qhAqVuuKdKVsRdcGDtMyzWD5vLAZ0eQ0t67fCO++PxP6De3B0+1TMndwPj1eojIp122DAZ5OxZk80Uu00SEcY2qoNYRwAzmF8d+BgWMJImekMv6SM1NtLMuVB5oX6spGTbfTQvrjQz32GL32cn8gXA5775IWAWVNf010jABzCRrYHsTPGYkTj5/DoH57Aw4+0xYcRkVgdnYpksTRzGgXxygTi9+HouggMfLEGHrjrd/jpL+7Df57qiuEzd2PN0Qxk0BjKeZ9qYTQ/Wv17QxBQwnhDYL55M1HCeGXCaGredrYkCZzA7pBA+Xyb6YDYEbHj5ZCah9HZi4mljvG5sIGOHYrYQ2S4SywejCY9XjqQeABxy8fi4zYNUP6flVC9Vg/0HbEE0UkBpF84gC0LvsCbbV9AtWo18NqwkZi3dR9yPAnYvm4e+vR8FRWrVkODVp0wZclm7L/oQbw/98sa3O4mNvYwJo77Eq90ehkd2nfEkuVrkJiaLvMtcztdzr1iJ+rMqxTfsYQ4NhGWlbIbosEvj3DRBjtqLvBgeUkaDbnkCDPnVMpIM8EkDuePIWbuRAxv2QQP3FUeNWr2wKDPl2NnjBeXUrJxePNGTBg6AE0rPIBq9/wK9/wuBHfeHoI///nfqN7qPXwy5wj2J3ll8Yt0/t+bMJL4XTIycRg6J1OIsyUMlNkSDcNfWLEsG4mJs1jF2SKFcgguMvxJTDxCGM9N/QwTWjTCw394Ek/V7IW3x65D1KlsZGRl4vCeSGyJ2ozV6zbjQMx5pHhIWi4h4UgUPun9Ep59+kmUq9IQ/T/7CusOpOAC18iIIGZhxamERAwc+s5/IYxkYB4zh5aWMiGPLAPPfSIzaQtlN2V09Fbq3a0HLKGJQx3PdF565KGMFMTM+AKft3wOj99VARUqdsHgSRuw/hQXjl3ChegdOLrjELZtOIxdh84g25eK7NPzsXZWP1SoWBn/fqw+2vUahq/W7EB8lvkNyXRNh9yRMA58ZwDqN6iNdwcOzEMYKbPRXZaJ+pcM+FLMS1rAK3gF64a2Wb+xMpp5j/w9Or9NGQUgJub3ybqXxVU2A2aSnYnzc8ZjTIvGKP+nynjw4RfxTtg2rI7NBjci4xxG8KXQm4yk/cswaUh7vPDoH/HbkiEIKfUv/KtSV7w/dx82nqEF2hGcpNSlvzqHUdRM/1wnBJQwXidgi0uyShgNYZwz92u0bNUGLfKtkpahWDvcRbKQcwnpF08idt9WbN+wGhs3bcWmbYew69ApxMSlITnTDDSJ/rCDzklDRtwJnDm4A0e2b8bWjRuxfkMUtu07gRMXPTidysFFHh4g/iASlo/FJy1qosLfy6NmjdfxzvhVOJboxakD6zFjRC+0rF0TVZ9piLcnL8bqExeAQCKOb1+A4YN7oGLlCqhY+3l8HrEQO2KTwW9+WNLjRxZiTh7E+HFfyurh9h06YcnydUi55EGWl/PweHAomKwkS8oZf+oYju/bjl2RG7Fp3Vps2bodh46fwumEDCRkWxLI7jgdyEmBN/EM4g/vxeEtm7F9cxQit+7CpoPROJ6ShbMeriGlCS4TuBiDs19Pxoi2LfEgCWPt7hg6eikOXfAjOTEJy6dNRb9WHVHjX/ejaflH0KTiAyh/9+9x34MP4ZnWA/HR1/uxl8PuzopUd4fLUly9hTFb5pn54o/h9KFt2LN1I/jd6fVbdmHn4TM4lQwkeHIxlC/hZCQjKz4GF49sweGoZdi9ZQM2Rm1D1P4zOHIhW3AhvRZSmXIG56eNwMTWTfDQn6rgyRpvoe+XG7H2SBY8QhKIdUBWB8vLAysh6xwu7l2KL9/ugEZ1KuPuCvXQ5aPZWLAnBaecxbpixQJw4WICBv9XC6OxKAayM5ASH4cTB/dhV9R67Ni8Fru378D2vbE4EedBSiZkgY1sTcS5m54kZCadxJnje3Bg50ZErl8p2Ow7GC16npABZHEUl4QqIxWxM0diXNtGeOrPT+DpSh3xTug6rDqeKrrNvMWs5+dgOtE5D5z9BmunD0SFilVw95PPo/PgLzB3415c9BjCaOfJUrtSsvMSxrXLzaIX3uN8RzOMTrJNPYzHpYvHcHz/FkRtWIOoyB3YGLUf2/aeQvS5DCQzfdF0Cp4JeJKRde4ETh3ehUO7t2Lb5g1YvyESkftOIvpCNlLS+ZIgPw4gIwWnZnyOzxrVQfk/VUG5x19Hv/FbseacseaTHMvCtNQTOLB0DAa1qYTKf7odvw0pg1K3P4B/Pf06hszZgTWns8XCKMP8ShgdcNW7EQgoYbwRKN/EeShhJGE8hXlzvkbrlm3QolVLrF2/BgkpZp836Sw4rEcLRHYyEmMPYdGMyXipdWPc8//+jp/94uf4+7/uwfON2uGz0dOx9UAc0tgn0pKTkwTPueNYPWcqerzyEio89gju+N9f4/d/uAsNX2iFD0dGIOpYglgn2PkF4o8jdeUEfNLkaTz+13KoWacrBo5ahGOJWTh7ZB2mjuiOhtWqoVyFuhgweRnWxsYDORdxbu8ShH42AA3q18JTDVtgePhirDuagji/7Ry5tUg2YmIPC2F8pWMnkDAuW7YOqWmZyPJw1S0PDkfTUmjKuXBWBNq2aowHH7oXv/j5T/DnP1PuFvhkVAQ2HTiDFOlLyWLikXbmCNbOm4Ger7yCxx58GHfd+Xvc8fs78Uzd+vhw3ERsPByDJBIM4nLxJE5+NQEjWjXDI3eVR/War6Pf5wuw94IXiclJWLtgHmZ/Forpw0Zi26ypWDrxI3R4vgIqVnoUlZp2w/CvtmN/ik8sqIKby0LDUpw8GYOPP/oguK3O4iXLZCN2khAzTGuHL1OQeXInlkz5Ah2aP4/77v0//O+dd+COu/6KOs+1xydj52DTgQScTDV8h6Q++dRRrF0wHf1e74Aqj92H3//yJ/jzXX/C0/UaY9joadh6KE6GVcVOlXoOp6d/inGtG+OBP1ZB+apvYdCYKGw47kVaDgkLrbhmRJwWPkPYT+PUltkY0rk+Hn3gb7jrsepoO2waZu9KRayJbiy4AT/4GcAhQ4bI/qH9+3JbncVIS79kPh/I5AK0mJn6JPn/evYMvNihHe6952788X9/jT//4feoV7c5Ph45DduPXEC8kCNa6lIRf2Y/Vi6bgddfa4sqVR7D//7ul7jzjt+hdu26+GTEBETuPYdEzs4gpjmZODVzFEa3aIjydzyMShVelLl666IzxOJuhv6tCZP25tNI3zcLEe93QfmKtfBIrZcxeNzXWL3/lOiU2LOd1dKs3+CQdIPaeGfQQLNKmuV0kpQXBloKvfFIO3sAS+eGo9OL7fCf/zyA3/3mTvzprn+ies0X8NHIMGw5ck5IvbwGBBKRde441s6fhT7d30CVihVw129/jTt/+xvUrNcQ73wyWl4c4pKNJZbW8/h5o/ElCeNdT6PcY29gSPg+rD4NnOc0BRLGrLOI2boIX43si76tq6PRI//Efb/5PX7+y8fx78qvYfCszdhwngu2WD9S6WphNDDo3xuAgBLGGwDyzZxFcSeMbLNPnTqDhTPmokPzVmjVuilWrl+KxPREM0Rne6WsczizfxVmj/kAQ3q+jmq1aqJ2o4ao16AqqlV5HFUffQoN672ID0PXYN2+OGSmnELC4VVYNP4DDO7aEc+/0BS1X2iM2g1qonadp9GkYSM0a9EZb385DzPWH8NFLnxNTUT80vEY0bIGHv7Lw6ha51UMHLsAhxNTcHj3V/hicAvUeOZJPPZMPQybshg7TidJ555weA1mjOyPetUr4N7qTdBtzBLM3ZeCU87ejLR5clbdidhojB83Cl06miHpFctWIyP5Enw5nLBP4uIBkqOReGg9Zo35CP16dEX1hnVQu/mzqFa3AipVegTVn6qNeg1exLCx87Hp0GkkXDyG1FPbMGvUhxjSqxdqP9cGVRo0R6MmL6B29SfQvN4zaNWsMfp9MQlf7ziGkymX4Eu7gLhvwjCqVWOUv+tR1Kj2Kvp/vgyRJ3NwPj0dR4/sx7Ht+3Bu507g7FbsWzYS3Vo9jhpV70eNZq/hg+mbsO+iD/zaN+Vm2Zy+V65OnYzGpx++L0Pvb3TrjsXLVyE+xdnyhNsgkRSnRCNp32osDx2O/p3b4tlGLVC57gto2PRZPFnpMZR/tAqeb9QZQ8bMw/ZTiThz7jAunojC3HGfYuAbr6Fps9ao92wjNHu2Fp6rXRl169VAk7YvYdCI6Zi/KRpH0zLh86XgxNwxGN2qGR68ozKefqY/BtHCeCgT5GYiPQUXR6KWhozYTVg4rh/qVfgb/va33+FfTzVA9zGLsORoJk5ytJNxfV5wMQtXuA8ePBRtWrXGwH59sYzfkk7PEgsa1ZbpIeMQzu/7BgsjRuGNzp3xQtMOqFqrIZo0fR4VH38ETz5YHvUatMbAsbOwPfYCPPGnkHRkI2ZGfIw3e72ERm2aiJ4/90JD1K5RFY3rVEPb5i3Rd9g4LIyKRswlLqDxInrqKIS2bolH76qIxyu8gmFh67GOFkbyKFNJEo/bCMVunoeIfu3QqW4VVKrZAe3enoJZm08gOtUQM6/s2egsQqEBM9ODoUM4JF0LA4YMxrJVK4UYEwpaC4V4Z8Qg+cBKLJj4Efp0fRUNGr+MavXboOlzjVH9yfJ4+J670aRle/T5YhqiaJlPP4GkI8sxf8oXePP1zmj18uuoWbcJWjRoiOa1qqJutYfRvE1T9HxvHOZuPoXjHJ8OeHFx7khMaFoPj9xRSQjje2E7se5kjuxKQDtj1vkDmPRJf7zd/RUMerMj3nz2GTR57An8+VcV8VCF1zF81hZsirskln/5SrgzN1SKAYBD0uXLl5d9GNetW6dferHAqH9NEFDCeE1gLL6JKGEETp8kYfwaLzZrhdatG2Pl+sWIz0iUfk5G0DLTkXxiPb6ZNAit61RE/erP4PUB72Lj4SNITj2NyFXzMeC17nj0/ipo9PIQjPtqOfZum48lEUPQqlYl1KhUBW1e64MFm3cg2ZuKkzG7MW74YNR5qjoeqdkWrfuPwdq955B87gIuLAvHiFa1Ue5v5VCrQTchjIfiE3Bg23R8MrAxnq72BB6t0RAfTF2K3WeS4fMk4OLBVfjq87fQoNqT+FvF59Bi2CxM3HwOxzktT1TbI9uGHI+NcQgjt9V5CcuXrUZaYqqQD9kGJpCK1EOrsWTsYLRtUBO1atXBG+9/gFUH9yIlKw5RG5eiR+fuePihZ9Csy0BM/WYZdkbOwbzQQXihWiU8XbU22vf5GF9vPYKES/E4H70Fsz57G8898yQeqt4QrQePxMqjZ5CSloyYeeMxoX0TPPH7h1C7Wle8/cVKRJ418x251YuM03JeZPwmHFjxAd5s9gBqVfo/1Gr2Cj6dEYn9F4FEZ7sUSxhJIEgfSRhHfDgMXTq+iG7d38Si5atwMS3D1KfMQU1A4t5FWDlxMFpWewx1n34G/YePxcrdx5CQfgGrV85Dj1e6oeITdVC3zWuYvWoVdm/9GoumvIeWdaqg4uOV8Gr/jzB/3U54MpJw9mgUJo1+B09VfgIPVnweXYZOwtKjp3E+IwFHvg7F2PZtUO7OynimSi8MGbke6456ZH4cMec2PjJf1J+MQMJhbJrzGV5r9hT+8OuyuPOvf0elZl3x8byt2HUBSORaFKeMLGd8YoJYGEkYB/Xti6WLlyAxwxBGmaMXSELmieWYO7Ib2jesgcoVnsaAD8dj4/6TSMlIxbbNa/F6u3aoWa0uar/YDTNXb8DxbSuwYNwQNG1SDfc98SA69uuPBRujkOH14nTMQYR/PgTVnnwQj1Ssi+7DQ7H04AlkZHtwYsYEhLZug3J3VUb5ip3xXthqrDmcwJ1oKKpDir04sW0VQgd2Qetyf8XDv/sVmrbqi3cnbkDkKT9O5xgCaL/IQlJMMp2ZkeMQxtpCGJeuNht3EwomT8teVuxafDO6N9o3qIKqFZ9Gt8HjsWZHnGyFs2vdUrzUshHKla+ASk1fwezVmxCzez7mje6Gps9VxX8efRxt3hyMhWt2AZeykBazB1NG90ad2uXwr/K18fLQMMzbfVKmbpydMwoTmjZA+T9UwePluYgpEuuj02TVOPwXcGL7YnRtXR/NWjTHuFFfIrTvq+hVvwHu/1NNPFahO4ZP34I1sclIC/hko2+z2EwKIX+UMOZioWfXHgEljNce02KVYnEnjKxsEsavZ36Ndi3aoHWrpli9bikSL6Wazpmd3aULOLpxEj7v1wxVH/4P6jdsjg+mzMeBFG4r4kf6hdM4vDUSM8LDsXJjJPYc3o3I5WPwXu/mePA/5VC7cVcMDV+CqAtpENoSOI+DS8bh3Veb4oEnnkb5Rp0xacVuHIw+jQtr52JU+0Yo/5dHUavWaxgyegEOnr+IfZvC8UGvhqj81JN4tEYTfPjVGuyLzwACaUg8vApzPu+NBk+Xw18eq4Umg0IxcX0MTnIXG9FmN2EcI5a39h3MopeLyWmyEhi013ljcGZdGMb2ao9Kj1RAjRc6YviM5dh2jsPzWci8EIs9kVGYNXMuvlm/AXuObMfaue/jw96N5fu3Tz/XEUMmL8X2cxwuzASyonF0xSR0bVYdD1WuhkeadsIXq/fgYFwSDs8eg/AXm6DiXeVQv2YP9Pt8BdZEZ4vVUMgrcc9JAZI34dCK4ejW6D7UeOJu1Gr6GkbM2oZ9iQHZ0JxDuRz+FSOdlDUvYeS3pL9Zukwsb1zzTLzgP4f9y0fjw+7NUP2pp1C9QWuMmLoU++LSwC2Y05NOYc/mrZg7fR5WbViHYyd2YMXMdzHk9QaoUrUiqj7XBsOnLMPWk9QRrqI4hyNRX6Fzq7ooV74aarbsgVGrt+JQ/EXsnzcJE19uhyf/WAE1KnfFkC/XYN3xLJlf6uE3ooXypMJ7egu2zv4EvVtUw/1/vQMhZX+Nux6qhxcHTMKCLecRz3VFnO/GFejyVRE/zsbHYeg7A9GmdUsMeGsgli5egeSMDPlWscwr9Z5H9KYIDHv9edSu+hSq1nwBH4cvxJ441jmQcDYG+9atwqLZMzFlwUIcPh2N7UsnoffLdfFY1Qp4/PmWeD98IXaeTJH4AU8ConfOw2vtauDBhx5D7RZd8PnC5YhLTUH0nAiMa90Wj/2xMipW6oz3J6/E6iMXkc4vnHCWq2F28Jw/huj18/D/2fsO8CqOc20n96bcJI6T/KmO7Th2Yjtu9CYhIXrvYJpE78V0MIgiRO+40DEYg7EtelcF0XvvIKHeu3Skc3Ta+z/vNzvSQQEb2xgEaPWsZs/s7OzMN7Mz73xtgpZMxbyh/dCu0Xvo2nsSZn0ehuCraUguVE6DBGWKhTc5jDYBxrSS9vOfjJAwAzDKCoFtmo6Yk2sxZUB91POogvrNO2PhZ/twPZGdww67KQVHj4Rjy46dCNgVhtj4GFw4sAYje9WCZ10PeLTqipmf7cLlBBqzkWGZjNgrGzF4QAO88OZbqNdtGBbsCEdagQVR2z7Dcu9OqPlSPVSp2A+z1xzGiehMOJGLzOgjCF4/H94taqNz/0E4cPQEDq6ch+kd26P8PxuhvMdwzPz6LPbFmItE0iW0Kco4jE/V7PvwK1sGGB8+zZ+oN5YBRoqkY7Fp4zb4+HSDT9dO2BcegsxctfWYGC9k3cKpbdMxZUBduFcoD+/eY7Fq/yWcSleiXHGvQ0thu9quLzvtGrZ/NhqDvGvhX29WR5cRH2Hd6VhcMANZ1FtzJCLz1Dqsm9YHXg3q4d91WmHq16EIO3sVsfu2YGnPzvB8uSZaNhoO/8W7cT0lGzePfYkPx7VHPa9aqFq/I6Z/vR+nKcd25iLtagi+XjAcLbwq4Q33Jug9cx3WH41BjOGiRImknVAcxmLAuCdkP1JN+bKZnwNk753DyfV+mNm7FWpUqYvWffywPPQ6LtJ6hgc5fnQbQlcy3NXCHo3tKwdjUIfKKF/DE20GT8eGo5G4QXUyCt1sMci5uBNLJvVF45bN8c/aLTD2yzAciUzBjR1rsaZPJ9T8e3U0bzga4z8MQViERbiGgi1E3pgK5BzGtdDpGNXuHTSuRsA4FAs2nsKlTCDVsO69EzACsTFRWDR3lnAYhw17Hzv27EaupUDAIOzpgCMWRzZNw6ju9eHu1QCtek/A+v2XcT3dDJszXwFVohwxqMiB1XQTuz4dhV5tK6KylyeaD/wA647eRBRdEApdkmGKDMGCD7qjbp1GeLNWG4z+bBuOxyTg3MZPsapPV3i9VANN6wzBlKX7sC+iwBCnK703S8YNnN68AH5d66DC357Fsz//LX7+52rw6DQFizeex6UYO0TlkXp9drXLC4FmYlo8pk6bgG5dO2PSOD/s3ROKnHwTPSRyp2nAfBtHNy/AgHa1UL9eY7TvMxpr953HpQyBzoqzWaisvcWFkDMNgesno6XXq6jgVR9t3p+BzceikUBONdvDkQZT4n5M/aAj3N09UKNpJ4xd/QUi0tMRuWWDAEa3FzxRy7M/Zq4JwYHb2cgoNKzHtQojt7W0sV2jEHs4CL2bNEWNCl7waD8c0zYcxOU0m9rxR1wzKYvlvAIHpvhPE7c6/lMmIyw0GKZcLpaYKa1vYnAp+EP0avk2atWtg/b9fLF2zyVcTbDDxp2FYILVrpxlS6NakrF/80w09Hge79asibbD/LD+8A3EWAALZeiFSUDeUUyd0Abv1qiEis06YdjSDbiVnocbW9eKikGtf9ZFtcq9MPuzg7icmg/YkxG+eSHmDu+J97v7YOayNbidmIwrW1dhlndbvP3P2njH433M+voyDsQqQyox7BHQqz4v/i/jMBbTouzqwVOgDDA+eJo+VTmWAUaHAMavN29D56494OPTBfv3hyE7xzBJtefBmnAS+1YPwagulfDOG2+jbe9J+PxEIq4aWz9zEnLSQpOCRmcubOlXsGu5AlLlqnqi0+j5WHPqOi5a6XiDLIxUmC5uQsD8QfCo447nq3th7Be7sePkZUSEbMIn3TrB6x+eaNtkLPw+CcKt9AIknd+OddN7oVW9eqhSpz3GrwtCeHw2nPYsAYybPhqL9xq5o3qT9+C7chd2XkhBPF3CSW9WO1kQMK5Ywa0BldELAWN6bi6swveMgzX3DHZ/OATj3uNkWAtt+k7B50ficJWYgvmYlSMdsQZFAvIzjmLbiv7o2aY83nbzQOth07H5bAwiLQQJtNBIQvbFPVjlPwgNG3nhH9VrYcSaXdh9LgKXdqzD8t7eqPG8G5rWH41xH4UgPNYhLniKAKMzA8jeh2th0zC2bTm0qFYOjTuMwLyA07iQaUeK0l4TDiPLp+fe2OiYIsA4csQw7NqzE7lmg+tpTQRMl7H70+Ho0aoiqng2RLvBMxBw5CZuZJDnR46VWdyxqPxMsOZfF/Fl56Zvo1KDemg1yg9fnY7AtVwHCpjelgB7dAg+Hu+NRg0a4z+eLTFy9VYcvBWNswErsLJnJ3i9VBVN6w/CpGVhCI3Il3pS582efwsX9n2GD0e0R6N3nsdz//sr/PxXr+Itr0GYtOSwODPPYtcyKkfaSFvAiszMeEyd6iuAccI4PwTuDUNefi6cwkWlnt51BK+big6NKqF6zfpo2WcC1h6+iSu5hu4fDZDEB6UFZmc6svIuIuiLkWjl8SJq1GmN94YsxMYD13E7ywyzhcYqyShMO4y5/r3gXrs2/uneCP2WrMa5pCRc/3oNPvXxQe1/eAlg9P80BPuj86SehGz0x0kYK7voWMnNToYt4jgWD/JBWzcPVGjQC73nbUXw9WwkKrcBcBbSzRGQWwBM9p+JFi1aYJrfROwPCYQpl6Jl8WQ8AAAgAElEQVR8ZpgN5F7DkY0z0NLzFVT0qIXm/X2xPvy6+CIVsjkLYXVyq06WIEvSH9o8A/XcX8C7dbzQeuw0LN9/EZH6e3FmAZaz+HBqV1SoVgWvebVGz7lrcC2tANe2rhP3QZ6vuKOmWw/MXROOy4kmEPSvnvE+ejZuhkkjJiHw4CkU2PIRd2QjZvdpj3df80DVukOxaNNtnEsz9uqhH0/dsMasUwYYn6rp96FXtgwwPnSSP1kvfLoBI8GbDTFx0fhq8zZ06toTPj4+CN+33wUwZsGedBz7PhuMkd4VUe6d8ug4YDpWH4nF8Uw18N8BGB0mFKRcxfYlA9C71Vv4z7sV0WnUTGw4H4Hr4sSafg6TkHEhAOsXDIBXIw/8s1ZDjP9qL3afvojI0M34pGcXeLzkieb1x8BvcTgiMhzIuBKCLfMGoHPDuqju2QLjP9uLA0km2J15SLwcivULxqBtQ3exkp77ZRgO3c4zuFjsr3R/rDiMroBR+2EssFMUmwyn5TKClo7A2A5e8KheEx0HTsLaw9G4lAMUkttm5tRvg4OTNJLhyD+Lrz7qga6t3kF5dw90Gj0HAWeicSXXChOtc51Joiu4atpgNGxUB6951Me4z/dg95kbuLRzPZb06Sr1JGAc+3Ew9sXaRVRbYDc4Q/YUIDtUAOP4thXRqlpFNH1vFOZ+fQrnsqzfABjjsGjOHDHuGTVyuADGzDyK1bkISAXyLmHXp8Ph3fxdVPJogFYDp2J9+FVcSSNgpOm3WYypSTmrPQsFudewcfEwdGj0FsrV8UTrkRPx5akbuJ5HIw1CuFTYYvZh4dguqOVVD6+5t8DoVZtx7GY0Lm1aiRU93oPHi5XFuGf8sn0Iiy6A8LvM0Yg9uxkrJvdAy6ov4/c/fQa/+vU/UL5Wd4yZuwf7L1mQQeaV4UCaQJEtIGoGThty0hMxbQo5jN6Y6OuHoL2hMOVnA06adScLYAxcOwXtG1dCDa9G6DBkGtYfjcL5DAfyhL1FwEjQZYUdOcgtuISdn7+P1p4vws2rFToNWoidJ2IQL8w8orhE5CWGYoZfd3jUb4jX67ZGv5UbcDoxAVc3LMNan86o+3JteNYchIkrwxByOxfZ4pfULJxYtdygGxxWKh2OmFP4anwv+Hi5oVy9bug8LQBbzqcjTkyI2dUsAqdcAeN0v4kI14BRFl9ZgOkGjmychRae/0LlWrXRashkrAm7gqtksiozblEdUbqRWShIPY99X01FnWp/w1u1PNBh4hysPRmBWzbITjPOghQg/YAYmVVxr4G3G3ZE7wUbhAMdufMLLPFpA7eXa6BajW5Yuu0cDl2LxfUTO+DftwVqvVEe7zXuAr+ZC/FlwDrMG9UZ77m/iVf+/CZefaMN2vVZiUUbruB8TB6ybYaEwmVKKQOMLsQou3zgFCgDjA+cpE9Xhk87YOQ+EFHxCjB29umJrt49EL7vAHKyOUvagMI0IOcSLobMxpT3G6BSuXfRqtsoLN51HqdS1fZ4SkxL8TDFu0BKRhSCNvljZB8vvFuxAjoNnoi1B67iuokTPgFJKpIvfo2Pp3dHjQa18Fbjtpi9OQgHz19CbNhmLOntg5r/9EKjBh/Ad8kR3CCjLeIwQpeNwqBW9cV4YezSTQi+nQlzoQmXju7G3PH9lf5W2+5YvO0ITsaZQVinOIwKMN6+g8NIHcYDyDE5hPsiUM12C6c2TsP0fvXhXu1tNPXujSUhZ3EyxQmzsLaIGsk5zIMNOcjPv4XQDRMxoqcXKlavjpYDxmP14Ru4Im73mC4euZcDsXB8H7jXb4DX6rbGrM37cS46CTeDNmB5v66o+aKHcBg/+Ggv9sdYhSNFQKQcK6e7AMbKaFmlMpq0HykcxnPZhQIYSW+C4SIOoxOIjSZgnIfBfftj5NBh4m4mM5uulQlZMgBbJE7snINRfRqhet2GqOszCot3nsH5JG41yDrSmTdNkunF0gS7NQE71kxGn/buqFGvJtoMGYW1By/haq4DZqoimGORcTMUM8b1RZ2m7VC5eQ/M2LAbV6KiEbF1FVZ0b4fq/6iCOg2H4IMV4TiUaIXFmoHUK3uwbV5/+Lj/Ay8990s885NnUblud0xYtBNHruYikdsRG23IkpA/Jk62yTazA7nJKeJmpit1GCdMRNDeQOSZlOU8HFmAORrnQpahX5fasqNKo05DsGzXaZxJshRbF1vNcOZnwiabGSZj54bx6NryXbh71kfb3n74av9tXEsHTLKLTyIyY/Zi+vjOcKtTH5Vb9sTYjXtwOTMDEV99jC+826POi7VQs+b78F19FMHR1Nhlf6dOQ4H4YNR+Qek/NPfmQawa0RkdalZB1aZ9MXhJKIIjLMWA0W4ARrMDk6fOEA5jMWBkTg44ya20xuL6wU/Ru311VKtZHQ19BuGTHadxMQ1irCNtaM8VZ+qqfXNwcs/HaFX7FVT0rIkWg3yxNOwiLuUq+goXMnUfFk1uhzerVEC1dr0xYuVWRKTmIWbHZ1jRtR3c/lkbldwHYEnQNWw+eRa7vpyOIS3fwiu/+hV+8cwv8Mwzv8BP//cZ/PUXz+APzzyDXz7zWzzzzL/xk597onojXyxYtw8X47MNHePiOacMMBbTouzqwVOgDDA+eJo+VTk+zYCRoIQiSALGrzdvgTcBY5eeCN93CLnZ1EekqxP6VotE1Nl1WDq7N2pWq4DaDdtjypKNOBdLLhq30k3DmYP7sHLFMqzdthPbw4MQsmcJZk/qiiqVy6Fhy86YtWKbcBWsdhusedE4tOdjDOjTCJXq1kHtLv2x6fB5RMfEIfHAVizs3hHVX3ZDo8ZjMXrRftzIpB7+dZzbMh+TejZHI48aGDrjE2w4dAE55nwcDt0O3+H90LCuFzr2H43Nh64Ld4VCRGX0Qj+MThAwsoz0w6ispPcjPV1NysJ9c8Qh5tjnWD2tG+q4vwGvZo0wcfl6HL6tXAzlJKfgRFiYbC+4fstmhB8NRnDAbMz+oDM8PaqjZovO+GDlVhyLV8YjtqwbOLltKQZ0aoIqDVrA02c4vjh4EdHJabi8dRWW9fdGzRdrKh3Gj3bhQEyBYT1siF3JYczbj8v7pmNsm2poUbkKmrQfjvkBJ3Ehy4wUOAWA09LUwFASxkYnYNGcBQIYhw0egtDQUGTlZKvdVwhenImIPLEBi6b0hkfd2qhYvy2mLN+OM1F5KHRakZMWhYtHwrBuxcdYt2ENTp8NR9DGDzF1dBfUrlsdHk2bYdrqzeKehW7XbXnROLEvAJ07tMA7Hs3QqMdYbNh3Eqmpybi9ZQWW9miPav+sDq/GwzB+1QGcTOGONlE4v/NDTPOugSp/eAYv/vEvKOfWAtOWByL8iknooAEiQ/ZGSqYJIMVQwgbkJmVh6pRp6NatGyZN9EVQ4C7k5mUA3BuZfgmtqYg4HYCZ47xl+0G3Oi0xbUkATkdlKi3HzEScPhCC9SuWYfm6z3Hu1jns2bYAE4a3Rc2abvBs0hnTlu/CySiTvLfAnIALx9ajW0dPvFXRDa0GTcLckGOIM+cjfvMybPBuC8+/14SHx1D4rVMOqvNM6TgR9iW+/GwBVq5ejLCT55FBPUFHJpKvhsPXuxFauFdD425jMWvTeZxKBJJZSTmUf9A8s7VIh1GJpKnDSD83YqFC8x3EXdqBqaM6oF7t6qhWu4nsjnNKACtgzk/Ggf07sWLVUnz86Qacv3wJZ8PWYnTvBqhV2xPVGnfAxBWbcCI+X9wd2fJTEHXicwzoVAUvl3sbTQaOw+LAU8ixOJG4fQ2WdWqFyi/VQaVaQzFr80nsvXoLV8/tRNiGmVg6ayqmTpiGUaPHY+yIoejdyA11Xn0JL/3mNfzjb/VRxWMwJizYg+CziYjOoebonUcZYLyTHmW/HiwFygDjg6XnU5fb0w4YuclaROxtbNlCx9094NO5Fw6GH0F2Vpri5zgL4MxPREHGWezaOA99fFqhcf0G6DN4DHYGH0ZidCwO7d2LWROnolIld7ToMwSz1q7GkeM7sT1gEbq1b4ym9Ruid6/R2LztAOITE3Dp8lHMnTMGdRq5wattZwye8pHaMi0rGzFhmzG7V0dUfZV7SQ/A6AV7cSGR4uA0pF8Lxmr/gejdph58+g7BnFVf4fDJk/hszUq8P7AfunTrickLVyP8ahpSqPtlcKcIplwBI/0w9u7ZC/TDmJVWKPMujSkIMAqSjmPXen8M6NkIDRq5o/+YMdgUEo64+ESE7A3E1HFT4OZWB826DsTSLzbg2P4ABAd8iO7vNYNXvYbwHjkFa/YeQnxKHM4dD8SyWR+gZaM6qNmmOwbNXIVTkSkw52Ujcu/nWNijHao9XxV0qzPh4x04FE0rcsUVtcgG21lw5B7Gpf3zMLZ9TTSvUgWN2w7Goo1HcSHTREGw/FHU6AoYY4oA40CMGjpSrIdzc6gPx1QEUxnIjjiEfVs+QZdOzVC3WVP0GzENAXuOiuVxaOg2TBo5FHU93dHWpyvWbfoah8M2Y2/AUvTq0BR1a9VEz6EfIGBvGJITb+LS6VAsnDcdXo2aonzDThi7aANO30yALScLkVtWYXGfLnj7haqo3WQ4/Nbsw4mYDNF5C5g3EJ2r/R0v/fQZvPT3f6FT33FYtekILsQWID7HiuQCs4CxZBQiDU4BjMIxZjUsQGayCf5TZijH3b7jBDDmmbIMYMxtLLORFX0IYVs+RI8OzeFZwwNjfadhW8gBRKUkY9+hMPiOGIl6teqjdsuO+CowEMcOb0fAutno5t0c1dzd0Gv4JKzfdQgxGWk4ffEoFs7zRbPGXqhZvx0++PALBEUlI9dpReLWFfi8a1tU/kMleHoNx4wvz+Noog1ZadH4bN5IeDergsZ1q+ADv6k4cv4yLl8+ieCd69CxaR20a9MeQ6Ysx5bTyUi2Ki6f7M8t7eqQbRT9/f3QskUT0OglVIxeNGBUlu85Caew+8v56NOpKWp7eKr2DD6JlIx0HDoUhKFD+8GzTl24N+2CL7eH4OKxndj1+Rz09u6EytU80XOYL9buCEVKpglXzp/EijnD0LJhebxTqy7GfLwO+28ko9BsRfrOz/Bxh5ao8HIdvOs2EFM/PyALKhF323LFip3NIx2y0Ir4rWsxt2M7lHu5Fip69sXHW07hdJIFOca+40zrulMRAaObm5v4YQwPDy/zw/jUzcg/boXLAOOPS98nPvenGzAqETEB4/bNW8StDgHjAQLG7GQDMNKogeLpVMTHnkDQllXwGzMYTeo1gGeNWqhSrgKqVaiCxrVboLP3IHwcsAPHI28jx5SC9LiLCN/yGWZ/MBwdmrRFA69mqF7THeXdKqJh88boOfh9fLxhFw5fjoeZG8mkpOJG6BaM6dgcr/zhBbjVbI/x87fgdLRFRM/Ij0LEsU3Y8IkffLw7o6p7bbxbqSqqe3qiS7fu+HDZahy8GCMiPQoBOaUSYHBSImCMitKOu3ujb88eCAsMRX4WdSoNZg0thJ3JSIs/jr1bl8HfdxDq1nVHDffqqFixIt56sxzq1WkJ7x6jsGDdLhy5ehs5GbHIjjmLsM2fYdrEsWjWwQcVazcSzl21qhXQqmlD9Os/EAvW7sCB66nIKHCgMDMZl7etwNQuLfH6c/9GbY/uGL/gSxy6mSoiV5bXZqernBwU5pzEsT1z0b9xFXi+8SbqNOqKeZ8H4WJatojcySEmn5HPaLG0K2Ac+f4o7N0djNwcw0iC2zWS+5YXg6yo4wjasgwTxw1B08bt4FazMSpUq4Q33nlNdv3o1rU3Fqz6EmcjY5GWFofcxOsI37Ie8yeNQ/v2HVDLqw68alaAp1s51KvfEN0GjcX8dYE4EpEp9XTkZuNCwEr4dWiLvz/7Gqp4dsO0Vbtw4mYMbp0NgX+/Jqj979/ht888IyLM//vDq3j+9ep4260hKtT0QtV69dCke1fMWLsKxyJvIrWwAAKkjcqmp5jg7z8NFElzpxc67iZgtHOHFxEF0+I7FuakswgNWI1pY0aifcuWqFKtKirVrIHXy5dD1Soe8O46CAvXbMHlhAykpMYiM+kKgnd8iql+w9GhU0d4NmiMyh7VUb5qRdRv0Ah9B47G7GUbEX4lGbepteG04GbAEsxv0wSv/eY/KFfRB77LgnEwIgOOgnTEnt6N7Z9OxwCf5qhWozrerVQN5Sq+Be7c09G7C6bOW4y9J6IQST/jTsUVZxXZe6kykm/OxVT/ibKTkZ//FMOtDnmu7N0Gl9GWhqz48zi4Yx2mjhmGZs3aobJ7fVSuXgPlK5ZDpSoV4dN7IKYv2YArMRnIz0lEetQ5hO/cDL+xH6Bjpy6y4KnlVR81qlVH07rV0b9PV8xb/RXCryUhg6+y2REVsALTmjfAq3+uiOdfb41Jy/cg7Fqi7FHNsnAJQ7G3+OPOtyD+67WY1ao1/vWnqni1wnuYvSEQp5PT1TaZUvYywPjET7KlqIJlgLEUNcbjWJQywAhExt7Gjk2bZKcX7y49EH6AgJFO3AqUU2sBL5ST5aAg7RqO7P4CvoP7oW4NN/zn9TdRo0Zd9OoxBqvW7sKZiDhk2cj1cIBbiSEtEmf2fIW5I4eiXZPGeLNqZbxR0wM9hvhi7aZ9uBSbr/TJ6KIlOQ3Rpw9h+fQJ6NG+A8aO9sfKDaG4HFeAbHIACQFNtxF3cR+WzvFHqyZNUKmaG5q91xEzF3yC4xduggxDTqU8Kcq8F2Ds16MH9gUGIzs1U1m0CGi0wkZjFRpApN3CkcCv4DuoK5rVqYE333wT5avVRufuY7Dk82ARx2dxruakV5iFwqQbOBm8GVMmjkfDps3wduVqqOBWC936vo+1ATtx/naasbsF93pLRfSBrVg/dTx6tuqOkcPmYvlXYTh9OxX5VlefihbYCq7j+qmv8eH4gRjdpw9G+85FQMgZRGTR0phpSetiwMhqRMckYKGIpMlhHI29u0KQk2Ok4ebDpCV3e7GnwpZ+Dkf3rMHEgYPRom5TvPLGayhf0w09BwzHqi924VhEhmzdyHwp6i1MuI0Lwbswd8JotGlcB9Ur/AduNaqga89BWPnlbpyLzZEtCwuJePJNuBm6C59Pm4bubfth2Kj52LDnCC5F3sa108FYMeN99H2vIepTh6+KG94qVx0vv1EJL75eHs//+y38s3wl1OvYCVOXLcfBK5cQn5cNs80QYjqAtJRMkPOmAONkMXrJNeXACqWLSd+ZorNpT4cp+grOBO3AhKF9UderGv5T7h28Xc0DPr3HYMna3TgVkS59x2LldoImmJIv4uzBAMydPBRtm9dGxcr/QfnqbujQbRSWbTiAs9EFAtgpJrcXmkT3dqPfePRtMwiDBs3Hmu0ncC05Vy22TLFIvX4QXy2bhf7dOqN61Wp4/a03UadZc8xdtQ4hZ26I/0Vyl2WHPdlykkCUnGMrCsxZmO4/Dq1bcKeX6QgMC0deHnu4FXa6GRJ0RndVJliSb+D4ngBMHDEY9Wt74a23y+Odym5o27knVn6xBSevRSPT7ITaI94CZ04Kzh8Kxjz/D9C+RSNULF8F1arVRpfOPfHZ+q24Em8Wh+n8jmApRGLwVnw56QP06jwIHfv64fP953AmOcdY6NB4KE/xgskhtzhwa+s2rB3jhz5tRqBPn5kICD6BaykZIvrWC5wyDuPjOHM+nmUuA4yPZ7uVmlI/7YCRE0FkTLQAxh5dfFASMJJ1xbnfInpytO6kEUwsbKmxSI24hZiIaNyOTkd8khVkYtEoQSYXzgY2gqkcIC8Z1sQopMVG4kZyAs4npOJmnAnJWUBGARXzDWVDhpZc5CdHIys+Flmp2cjIVj7bODEXUuOpMAUwJ8KWGo2kiOuIvB2N20npSM2zyCREiMAy8NQGEzIxOe/CYQwKRl4OnSbSu7JNfCwW2vNl32nuPpKfFgtLUiRSb13G7chbiE/OQUS8GQk5atcRiryFEyQGIqxnInKSY5CYEIert2NwMz4DkQnZsrd2lln58rMSSdFwpiAZSIpERkwa0lLtig5FLmMcqjgEdo5koDAWOXFXkZuUgOQ0E7KtiiYF8vJ7AMa5yuhl9LBRIpLOzqYFtMLxih3JLQKzAGu0GIcUxsQgOyoBV25cx83EREQkZiEuy4EkqxLtix9CJx0SFgA5aShMjkZq9DXER92SvcgTU/ORyZ0VDV1Dvktc1phy4EhKQXJkJpISLQJWxBDEngFz6g1kJUUgMS4C8fHxiIiOw63oRNyMS8XVqETcSkzFzeQ0JOTnI8uh4B95h8zbYbMjOSlBOG/0w0i3OkF79suWeRowcv9w2R7QkQOYcwBTBrJiLiM1/jquR97ArfgU3IrPQ2IOZA9n9h0pN3sO6Z4fKWVMuHUO8fERiElJR0QikJAHpNvVMwJfud2iKQ1IjEfa7WzExBQK7ehKRwzHCM4LEmFLuwVzcgySo2/jyo2buJ2Wg6vpZiTQOtn1u3GQH87viDrGCjDOMADjRP8ZCAw7IJxUBRjthkiX/YBtmg0UpKAgOQoJEddEL/hqVLy0ZwY3EDI+tUJVUThMtLJOQ0HiNdknPvZ2FOITcxERlYlsM5BmAfK4xuC3SbCemQQkxCEpJgNRaTZE5jnFHyi/NXJaHVITk/JXyp1qzFYgOQ85kQVIijLDZAFyDf+dzFJI5OK9u0wkXWqmxieyIGWA8Yls1odXqacZMJLKHLCjo2OxdcsmdPUuBoxZ2XQLbVX++CgmY0LhZhUAlizAbgIsNAcmAFKuTywOAjWLcHikBYWZpbmNdjgKrcLz4eQoh6HHJJOuoAC+wkyFRcUFKyiUOcrs1BxDQ/xGkapwyJR1ACdBnma7MDUEsHIyYpb6JBdDiaSV427qMAYHhyLbYlN1KyTHjUY8dD2jdAKFOA5aDdvEJx5/WyiCJPPM4GDa6fOFFrQEgRTdc+s9ESUCZOaRbLoMMufquhekGQ6ynWLEwXsqPalBmhmNI9A3R7heBAR0G2ikMMANX1Ksw8h30Xho4dw5GNy3L0YOfR9Be4ORmVMgTcX7ql5UNaAjcu5Inae4rCQ7XfqoEkioQTcoymbd6FCa+gN2WoHbBKzoOlpoueyUHYJV8QkYLKQLuc0GM9ZwM+O00vgmDw6b2kWHCegrULelfi/Ly76XZ+j2EdTxnsNuRl52knDeFGD0R+CeA8jN404vSizqEEoR/NHimw3HspAzlyd6jnxfUdvQTyL9EDp5UnxP6Eu6s54KwJHuBXbV/qyOfBL8V8gHTYBZOexkl9A0lOaWxQhBFN39MI1V1cnghHPhwXpLhvKgMmLiJVsj30IOo6/oME70n4XAsEMwkcNILwZSCD5sgYP5W3MVqJc9w1VPkW+DtabPebts/gKuW5i/SIVZPvZ90sZw5UMak9Y8+byd3yUXMGxPdlSuBY220G2iymtkaljZO2mFTp9ULIpkpB63SiuZlbufMsBIopUdD4ECZYDxIRD5SX7F0w4YOeHERMViy5ZN8O7aBV28u4tIOjObZgbUoVJzksViUZwMchxFbMeJmBwNokKXuU70mDgzqQc1uJE+ZOx9LOJKAhCncqjNSZtu8dTBJygyVfkKGBWuFfdOscLOSVIDNIcVDge1popBGfPgpEggR6yny0+xHQEj/TDSSpqAMSg4FAmZeTIpykQrQJh70NnUVs4ETrpcnICdqjaM4lZvBEjCeZEt3FgKVXYHwZSuE/EkOZicXAudIPhlKuHUOQuk/PIK0lUu+CwBqKKfzUa/j4zTp0zzsOt3M6GLlTTfVAQYuZf0kIEIDQlCtsksgFqDWFEZkC32LCp/g+wkGA0u7ARvDrtwlotpzkQKPEmFjL5RVH4BmmwPBWAdspgw2pF9xMCN0mKiZ8g6KbjBvmZxFFKKqUCKrh/pYLQja84niDtIk6z0OAGMPXw6w3d8MWBkeVkmBQdtQmOhp9CU4CgfTi4MQABO6K8AkLETn4iBi3nULn3IaBNmTlEw+x67ozQowZS0k0pP0Gq2WwRbqeY3OIAFeYBVWeaz5uScswRsT+nIBFeFDpeFgQP5lhxMFx3GZpg4Zc4dgJE0Vn1E89WNBRq/H6EDPWWqb0T6skFP/TqpC31GSdmZB0Xcyk0Tq8b9npSvTaODyAKpmCYUbbPfMi1PXouEnCBdlo9qESALDb1wEKkF+4ixuCoDjPpzKgt/ZAqUAcYfmcBPevZPNWDkrGoH4m7HY+O2TejUjYCxqwEYyflRE4O6ULM25wthMDgcwuXhpMvdK+iihxO5nJyNyIkiRwwWUEuRk45EE0DxQmZwm+hpUfSmnuWUQ0hghZPIinM7bxgTDFNpcMKJihM28xG3MnKDPxVHUHFfODsak1sRYFyB/v0HiludoOB9SMjIlnfLywgIOfFbyTlTdVGwwvgKeN+WbXDajHJJ2VgnVW6WndwYAmDxDW0ld4tcU4JA7p1s0EigEo0ECMAMRETEIpOoARiNaD5DEGZ1mIwddYrvC0EcSu9RpQNux8Zh/rxZGNS/B0YM7Y/QkD3Iysst4sASS4hVuLSJVdqgCI+y3EUiUVVW1VwKqJvtBeLKh3EsuXShIrTA9PmwiB6bUXjxX2iX6lMMSipRcKnozcYlECEVFF+QUE/epxuOnY0R5IyxPxT9dCA9gxzGiVCAcTL2BoYhLy/f0M9TxhSkG9UpLEa/FXBDbqPQmfqqhGw2YUCqzsXyFABsN7uz6H3SA9i3uFgi10zKa4B8AWF8Ll92U2FPpyiZteKb2JW5SJIuSmTIfOStpJ88rD8HTQ5Jq8maZ6HRyyS0bN5KAGNQ6BHlVkfQqvG8gHTqEAplVd8TIKaAnkMAuvHZsSxGeaT9FHQWWCnpKHo2OJFUe2CbiSGLsVggIGc7y45H1PklN9HIUzW3cvdE5Q7FiWepyL23CC4V5rSd4wdz5verP161NWCZlbR0j7J/PwIFygDjj0DUh5Ulhwl9qnfqiVOXQA+GOlTx+hnXsOh5PQDrm/Q0PHQAACAASURBVDorCV3y4X2KhHJycPz4cXTp0gVNmzZFcHAw0tPT1c0n/T9pIIAx9g7AeODAIWRmG4BR05GTnN1QS1SPGZwYBQHIIeK0QPGhjP+c3R35sIvDYjowVvcFExm0tznUziIEk8WAkZwaikvVS2ROlHawwibiXtVn5D2MF3YGE/OS/cfgQDptcBQS7imOmOIwRmH5yhVitUw/jASMGbn5MDuU824xHhBEwn6iwJJwgQiwhA5ELBQFUjTrEGzJuiouJJ8xym68UxWKwJlAUzlCZzachJkvJ1PWXUSnwt5iPcjJLLbcJtkVcCD4IJVIbxfAKF26GDCyDaJjYwQwDujfC8Pf74fgoF3ih9EgqXxzdtljmHBKtYvGcILznSo/gjdpFyJ8Ah0CBadFACPFuUIStjdfynIQbMIs+2gTCDmlDxCwqO+ayVh6s9CHD7BECvjbHAQ7Kk8Bok6qMFCEzHezL0jmiqSkm8OO9Mw0TJ8yCT18vOHrOxF7A0PvChhZB6E5u7DR91gSbiuptrRUHElmbqOYnoBRULXqa4UE5LpvGSoTYowiXEZVPbVnMxdOpCfzU/VhDfl+tjerQRoxLwWSSCNy6o32ZALV2LKo0u2VbzZhqr8fWrRohUlTZiEo9FAxYCwiPvtRsTqBzorlUP2SoU1xu+UbVW1MIyK+h+1Cp/o2AX+K48qy6vKzRkwrTSFv4rfFb4GibJNBH11JlV9uEWDk0+ztrGtxX1E/FLCXhjX2ki4DjJoaZeGDpkAZYHzQFH2I+XHwkQlJ3mlwhoyJR2YjDryG6EgNXcXzBwcyNQQaAzHz4MTMyZaggRODS14yeXH4o5hGJjI1eGdn5+LYsWMCGBs2bChOjjMzM2G1KtHMQyTHI3kV55v42Dhs3LwJXXy8ZWvAAwcOIDc3V0RdRYUSdKDIalwaBNYzgAEgih5gPCcKnryn7hfdloviZ/4rz+II4xH9HvWTt4sP3tOHTqdCTsxiEUrjnkiKpFdgwIAB6NOnDwJpJZ2TJ+LXovxc3stLNUG65s2eZ/QvI7ro2aLZUKdneGd5GOOar3rWWCjdkdZIaARMV8SNYjoVoSZqvsUAtYyOjo7G/Plz0b9/X3Av6d27d4J92nhECqdoUkx/iWQCl0Onl2j5V9yOJZIWlYf1ZZsXH8Vtw2dIz+Jni+8xfXG88TQj9Cns2uJcGZ2Wlga/yRPRo1t3jB8/HkFBIdJv2eaaa6X7nX5v8Tv4bqMthe46byNev/eOcpHuvK9OycslXXF88X19W4f6LcWhkZ9OoEPjvVQNoDrIlClT0LhxY8yYORvhBw5J3dX7dE7Mp5hcxdkY+Rf1LZ1ehTqdpo/kqSPvkp++pdrYWCAVr+qKGpH5kbrF+fKXKqNrQ1Oc7nrMnDlT/DBOmjQJBw8eLPPD6EqcsusfTIEywPiDSfjoMuBgola2HJnIveGpxhU1MHGAoe5cAZwOQsviQZFcHT3c3zkoGbpmepw0RjgOTMJBkqeMCdcB4UgcPXpUnP82a9YMQUFByMjgNmpPzxEXF4ctW7agc+fO6NSpEzRgfNIoQMD46aefon///ujdu7dwk7OysoqAsYhiDfGYK+gozXTQwIj9m4scHgSMtDbt27cv3n//fQQGBgqQYv00eC7NdXItm24H3Ta6/IxPTU3F1KlT0b17d4wbNw4hISHIzycn606ulWt+j+M123XatGkiAZk8mY67Q4uA1ONYn7uVWfdd9tsaNWrA19cXZY6770apsrgfQoEywPhDqPeInyWWKxKkCGBUohDO2ZrzqIQsd3IOnbS+FBlhSdBIlKhFMAoUkoNGJ8gaXDJfptAg02QqkJUswRJF0nv27BFuDElDi1E9YT2pIet5+/ZtbNu2TSberl27CmDUoPlxr7daKLCnAbdu3cLKlSuFu9irVy+ZeLOzs6WdeZ91LXmU9vprAOVa/oSEBMybNw8DBw7E0KFDBRibTNR/dN5RV81FL811LNkerr+pOkLOW48ePYTDSGDM9iRNNMAszXW737Kx7QgUW7ZsKfWl2gzjdN++33xKazr2Q461PAgY3d3d4efnhyNHjhQBY5ZdH67XOq4sLKPA/VCgDDDeD5VKaRqKi5S+j6HnZegNcegg55GnVXS/DDcq1C+iWwoL3T/Q2jBHWepSB4h6R04T4GRcjuF2hc8pjiMhI5XfCRiZrwaMubkmkMPo7e2NFi1aCIeRk87TNCiR80YOo4+Pj9CBK/snRY/TtR0JjNesWVPEYSTAoA4rJ14erml57fq7lH5CUiwNGjnp8oyJicGMGTPQr18/AYy7d++WRRDv6bSluT53K5tuCx0yDRc1EydOBME/RZiUDvDbfdIOiqRZz1atWgmnkYBRc1KftLpOnz5dOIysb1hYWBlgfNIa+BHXpwwwPuIG+CGvLwaMhi4MGYSGqJmgTqZxKlXnRAKZN4D0q0DmLSD9BpB/C8i4CGQy7jqQfR3IuQpkXwWyLgEZV4CMa0Ay70eLcjYV2qlYr9aySvmcul2nTp0SsNS8eXMRa3HSMZuppv7kHxpgbN++XfQ4afxDAE0gxXuP+0GAQZBELkZUVBTWrl0rolqKa7VoT9fTFYy4Xpd2Gmhxnq5HSkoKFi5ciEGDBmHEiBFSz4ICGinQqEP5TiztddLlYzvok3Gac8hrfqf+/v7CGacOI9uTQIppCgsLi0T0Oq/HMWQ9eLKeVJlhyHrm5dE458k4dL9lu5Ez7uXlJZxUqsaQk8rD9Xt0vX4yKFBWi4dFgTLA+LAo/SO8h0IGBeAMZXJGGFa2AlWcFkQf246gBYMROr0rjs/ujjMLB+LYzB44Pa8rTs18D+dnd8HZ2d1wYl53HJ3fU84j83rg+JweODynD8Lnv4/bgWsBczLg4CBLbqTxPocD2ZlZYiXdsWNHWcFT0ZoDlz70ZPWkhqwnwSEnIYIo6vadPXu2aIB+3Out25EhuaYbNmwQDuPw4cPF2ImT8Tcdpb3+LLvmkOp6cBG0ZMkSDB48WAAjJ149KeuQaR9HkTTbQx8EhxRhksNIjhQXOvrQ6Up7+31b+Vgfppk/f76MT+Qcc4Gr2/Hbnn8c7usFD+v64YcfwsPDQ1QMyoxedG8uCx8UBcoA44Oi5CPIh0O/1lWU1xscRmXQR1ckyYjeOhNrOr6MgBbPYVfr32JHuz8joNlvsK3FL7Cz+U8R0uxnCG7+S+xo/Sy2tPk9Nrb9IwJa/wlft/oz1rd+EQsbvIgTH40E8qIMlyhW2R9Zu+koMOXjxIkTwl2rU6cOZs+ejZ07d4reF0Vc+/bte6JPin02btwoOkONGjVC3bp1ZRImDWhE8LjXn3UgGGY9WM/Ro0eL6kGbNm0wa9Ys7N27V0RfpAPT6ZDP8bq0159ldC0ny/31118LWKQIs0OHDsK10X2aaalywHo9Du3L8rJddFkpjuU160BROw1eGjRoIBICcqd27dol9/nc/v37S337fVv/Onz4sNSJVv3U7aOOMUEV+62mybflUZrvs43YltRXZH3owaBSpUqYMGGCLOjKOIyPYGJ+gl9ZBhgf48b9L8DICIJGOS1AYTwyd87E5k5/R1iH57C/3W+xs+2fsbntn7Dzvd9jb/vfIqjVbxHY6vfY3u4v2PTe37HxvRcR0P4lBLR9EV+0fRVLW76Os8vHAwXxajs7+o8j+5LvsDtRaLYIR436e3/5y1/wq1/9Cr/85S/x29/+Fs899xx+85vfPNHns88+K/Vlnf/v//4PzzzzDH7961+D8U9K3VkXnqzfT3/6Uwn/53/+R+rNOLY1T9ZX1/txoQHLz36qy806/P73vwfr97Of/Qz/+7//K32a9eHJtAzZ3r/73e9KfRvrdmGZec3vU9fxF7/4RVGfJR1+/vOfy33SgvVkHR/3Psy6sN5sR56sI0/Gu7b541pPtivLrvsmxx+2HVUMyDEuA4yP8QRfCoteBhhLYaPcb5GID4ndlPjZAHEaNNJq2paK1N3z8aX3v7Gl3V8R1rcCIj8dhyufTcHNDVNw4ws/3PrMD9fXTsWFdbNx9ovZOL9+Ni6umylx19ZOx4mV05B6IhAooKsctbus6xZZlgJzEWB84403hFvRunVrWcnTEIY6fU/ySY4FOVGenp545ZVX8OKLL4KcRnKmnpR6sx1ZT+qA0SnwO++8gxdeeEH82pHT6NrOvKbFvA5LOw1YVi52WD+qVbC8bLu3334br7/+upzknLdv317qxHR8hmlc611a66nLqOvJkGXt1q0b2rZti3LlykmfrVChAmrXri1uoZhG17O01ut+y8V68GSf/etf/wrWk1KAdu3aSbvfbz6lNR3blyf7I7mob775Jl566SVxl0Tu6tMIGF31dKlSoA9eu6pL6fiHEWoVCP0uXUbX8ul7d4vT9x51WAYYH3UL/ID381NQjnWL/SIWOeqlg1xrOtL3LML6jv9CQOu/4eSEFsCtI4A5BShMBiyJgCUdKMxSVtPchcOeJc+JzqI5EchPAWzckcAm1tHGfgPKwawD4p+OAxMHVE5AFHNplzIlP5IfUNVS/SjdsGzatAk9e/aUyYliP+o1PgmH6wBL62H6YaT1MOvKttbGIK51Lc0Dnms59TXLq0/GsT1p9EJ/k9TVpGrF42wkwTbU7agnKtaTYIJudQgeyZFie9LhvE6r6fO4h/wWqbvIhR2twSnGfdLqyf5LXUaqBFH0TjdCT6vRi+u37DoH6e/A9f6P3bdd9Uv5Xup8l9SZ/rHL8CDzLwOMD5KaDzkvBRgVdpNXF3EXCSBtAgpzd8/G5o7/wMbmv8OJsY2AqNOAle516FonS4mZHXSpQ7tqWoKalFsd3rPyvtrKjRt2yTZvxjZd1J3knhS0huZOL1zhckCmvg/dWPB40iaeuzUv60iATP+TBFH0acetEl0Hqrs99zjFsS4c7Oig/IsvvhD9PloQs55PgnsS1s21r9JK+qOPPhI/jLSSpo6YNnDhgM/0PB6ngV+XWYcsP0ET9Ra1Wx3WU9OBob5+nPrq3crK/kt9W45PdDtDnWvWzZUWd3vucYhjH3Qdaz7++GNxq8MFwNMKGO/WbiWB28Ps2+xnd3ufa7vdrcylMa4MMJbGVvkOZdKgUR7RPyS0AdZkZGzxx7bO/8D2ln9QgDHmImCjGx6COlo8K5fc9Odol98aNBI4mmQPX7utQHa4VYDRCZPe1xgOsZzVe0nTDyN989GaVn8g/Fie5JN0J0dq8+bNRSJKTrzkSD0J9Wb9WA8e9MNIDiOtwQmO9Q4orvV0Ta+vXe+XtmupmMs/lo/ugwikNIeRi4F7+ScsbfUpWR5dNcbz0CGvuUsPjSMokmdIQxD2W9eJrGR+j9tvAiqORXSnw40FyHljv9ULncetPiXLq9uXdWRd2W9pJU3H3RyHnkaRtKYJQ9d5SMezf5OOD+Ngm/B0PXSZXON4XbJMJX+XTP8ofpcBxkdB9Qf6Tm3lcpdMbenI2TULO7z/iS3NnsPBUQ2A+BtisGK22VEAp0BEwkarwEUrbCgk31DtKS0OvdnZHbDBBjMKYZWUCmQSbGZmpuPkyZMikqYfRopj6ZbkXh/FXUr52EcRYNCCmBanPCnyItexNH7w35XYesLlc6znqlWrBDBSX4pWmeRSlaxnyd/f9Z0PMz0nD9eT746NjcWCBQvuAIyuImmmLzkJPMwy/5B3ubYN+yiBFME/ASMtpF3b83Gtoyt9OA7xpCia4xNF0xyj2J5PwhjlWgf2S3JSuTUg6/u0A0bd111p5OoG7GH3b0reWBZdLldpBfusjtf9t+RvHf8owzLA+Cip/4PfTbCoAJ1kRR+MroYw9gykbZuBrZ1ewqYmv8ah0fWBxFuSSO/YoqGfMp6xGRCSO8ewB9PXnB3cQIb8RxusxRDTaYOj0AL6YaSIhyJpruD1XtIcvNjhn/STdOfewwSMWjGegJHcGx6Pe/1ZBw5yPMlhXL16tQBGijE58ZLz5trWTM/f+ijt9dflZKjLSl1N+u0jh5FbA5LzRj04TjAlJxn9TGkOdd0Y6smT5U1LSxPASA4j95JmPamTqtPo50pz3e63bARQDRs2FM4b3QxptZn7fb60pnNtK7YX+y0BI/1qHjp06KnlMLK9+K1SjWb9+vWiMkRJkOuGEkzzYx9sHz0e8nujj1667aLePxdndxtPdJkeRvn0u+43LAOM90upUplOA0bCvmKwyF/iTtmeJW51dvu8hN0tn8XJsXWBmPMikrbazQICuaU07WPEV46z0OAs2oULKebXVIc0gCg7sN1WCKeDe1EL4xE5WbkCGGlZqUXS5DA+LQcHA3LeuJc0jQd4cqB+kriseuBiPVesWCEcKQJG6qsSSOn7us1LTmI6vjSGBA56QNflI2CkaI/GPfcyemGdNejQzz1uITmMFNFqkTQXABTVluR8PG71ci0vAQLrM23aNNlLeurUqeJ3k6Lax6mfutap5DX7IoEH60POOD0ZkGP8NOgwlhx7NG1IC36fn332mXgBoJieakPJycmSxFWnUT/zY4b8rrgbGK3z6dqK3iXOnTsnANa1H7rWx/X6xyzbd8m7DDB+F2qVyrQGcrsHYMzaNQvbOz2PHc3/DyfGeAFx5wERNZNbqICm4iYahjI0liGCNDiMBIaycYtejLnEMw0Bw7FjR9CpUwc0b94UewJ3IyMrXR6nUUxRPkb59ONFpDTyLXIPxBsuiYqswIseKK6viirx23iWAfNU2bvUR5BuUWbGu1zrrvQ6XZ83sjSKxVpJzYy8FYeRe0nTvQWBM0VBpRE031kPTRsXWnzDJQevmzdvikiaBi/UY6RV7eMOGFll1UfoVpR9CYiNj5OJt9+A/hg2bBh27dktHGOdToffQK5Sc0tPOjp0nZzI8dBW0r6+vsKFeVJEta4NQK4pgTHdQrG+VKVgv30SDt2urAuv586dK4CRHNX7A4x6/GSo5U0MdbwxRLp8J0I3l4+Al/q8G01dkt7t9g+Kc62/a0ZcBLLdabxG35SvvvqqgEeqm/Bw/Q5cn3vQ1yzfxYsXxesCQSt9vLI8dNNFY1ECSdcFq2t9XK8fdLm+b35lgPH7Uq6UPsePswh82bKQsWOO6DBubfZrHB9bB4g7B9jJf6T4WU2QUhX5qo1BwvULd712rbMRn5ObgeMnDsG7Swc0bdYQe0P3IDkrGYV6z2mmo0jbVlwubmdoc9jVKGPn3rzKAltsq1kEuxMg61PysMHiMEtZHQ4lMnc6lI22um+BHRY16fMRYa86hcNKF0AUpUskCyDIV9WbYnY70/JdditgzgHMmXBmRqEgKwGxKVlIyHEgPc8B+p00WZX2Jg2DWB5NY76SImkCRnJqCBo5UGuRtCvJfpRrFoBn0QCvB3oVctCR06VfsOyit0o8L+xjtsW3nHAg6nYEVq1cjr59eqF3rx4ICQ4EVRIcNnKkXRYH+prht5xs+x9yflv+33TflS4kIenC8HZsDObOn4c+BIwjhmNX4F5k5+YYX4xT0nHJoAHmD2pX3X4lw3tkWjLZt/0m+dnXmc61Wfg7LT0TU/ynwadrd4z3nYi9gcHIzcsvSv9teT+I+6qad/bZe/Xl/46/B5FKRJvN3Et6Glq0aAU/P+4lvQ95eRwdHv3xQ2nIGvD70bSZM2cW3NyqY/LkiQgP3weTKVfuuaa54xo2OLTeunjJoNEjT47GvKfYCq7jnepMxpBhDLmu90vWicOsjmN5lRjWoSRVRhO4ima1nqFrHL9VAisZr4xnNNDSoaIF36QOgjFuZUqwWL9+fVkQcZGk83UFjTpO56/zZBp9T+fLkPE6bcl419/kcJOrTf+Y/+///T8BiwSM1HWnKtfjZpRUBhhdW/dxvC7+PtTAUDSt8ctUgHG796vY0uxZHBtbzwUwKi7ZD6uyAxowdu1cDBgTs5NhEbBH9qSaia2FakK2Oh2iDSlvl1FETRZ6mBJMJzObXfQlOVxRe1KBW6bl8MNTPUezHYI4uW+l0iXHO2eRz0g13FkVKHRSB41GPQbGkguLAEX6m0y6fBQr5oxHx3aNUdGjNlp4D8C8T9biwrU4mBxqCCU85Rs5QFpZhEcNGO/WgLqCDF0O12h9rW4rWmqa3hES0FEFAQ7cjryFT1etQP9+fQQ0hoYEISdL6TAKGmFmRSBUg1GjALosJcN7AN07yvBNaXRFvk9oFI190fXxaAMwksM4fOQIBAYHIScv9440Or2RxfcPdEYlw3vkWDLZt/0WwMjdmYzRwTVMTU+D/9Tp6Nq9G3wnTMLeoEDk5Jpg5SKOX5mD32DxZP9jXN+jmg80+skHjGwZdXBvcIqkyVG9H6MXJS3R46oyfyz2nqH6jYx1HFqN9Z+o/hmdgfc4OrgCRl0W3V/0vfxCu1q0SAZqzNHgkM9okKaf13FafHw3gHa3ZwjmGM+THjuuX78u+td0l6Xz0CBQ/9ZhyXhdFt5nfq4gU9/Tz+jyMmQcdb6pP8lNALjLEA3MyPnlNV08XbhwoQwwaiKWhQ+JAsVjxSMAjBRJZ+H48aPo2rkTmjZtjL2hgUjMSjU4jIY8W48YHBScxQBQPlI9qpATYgw+tMhWQI9cQY5SajVrJ0Ijd9SpuJIc7Ax+oXqSXEtm4lBrZLoBcpB7SBG8iNptRVwWNUBwFZ0KR841xJ4PRsCKOejUvhkqVa+Md6vXQGWPevDu+T4+WbkRRy/FI6UA4ouST7mS/VFyGF3IVzS539HzDPAt7FTSgdxZp6YJ6WL9Rg6fK3CLjLyFVatWoF+/PujTh0YvgWL0QmAhK27jxZrzJkCMPsgIyO4R8t4POZnv9z2LOkMJvBwfFYeFcxZgYJ8BGDFkOIJ2BSI3I0fNmDJrqj6mcOy3c1FVH/6e6e5ozHv9YAV43D1UHCXNiSoO09JSZBLr2tVbdN4CA/cYbnUIHO6d373e893jHwAaNUr6TQG5PJysqWNNdzM0etFW73f7fr5L3De992HdE/xlvGzOnHlwc6uJyZOnIDz8IEwmLsXZ5sWlKbp2qSjjZPw11twaBKrurqQAhIYcl3laUQhKinQWxbm7fkxAodUOm11x5S2GUIlpCy0Famw23HXR0wb3a6fhFU9a7F+7dk2yJfji+JKUlIRLly6JSgFDfWhASQMXGl1evXpVxNEcF9j2FAnfunULlPq4AkxyG+kSjm6WeLJfUC+bEiKO6XyegDY+Pl70XqmCwzR8B/V9GTI9y8qyM7xx40YRR5Li7+XLl4veItUhWGZKori9Kn9Th7GMw6hbsSx8OBRwGQg4YKsPWn3IPz6HkYAxD8ePn4R3Zx80a9IUe0OCiwAjoYCIe63k8CnwaHdYYKdxjcElVBxFY4nqVMY6BcocR4laOP7YAVuhUVHRr9SAsZj7wbrbrBY1ZzkJ7OggyOBwUqZsiL5JGQ4EkDLkAIWRyI49gtXzxmBIj/bo0qsPZixehtCD+/Dx4kUYMHg4vHsPx5SPv8axW3mg7bMCosWTXakGjEI2raOpgSLpZFG+OA29vfvprJGRkVi5cqXoL/bu3bvYrU4xKYomED2R3G/I9xstfN9hcZnvDpS+FcDowhmLEnmxA4iPjsGiOQswqF9/jBk2CiF7A1GQbVIF5Kv4nA6/a6FLpi+uxJ1XOt2dsff4xcLc+9QiSB1StYPpCRinTKHRSxf4+o6DAow50Pe/Kc8Hc+8BdRypO0lDGvx3aDbnG4CxmQEYlVsdpieZ1ZLl+4V3e9+9yvHg49XbBQAa/WXubAUY/SYpwJifpwBjEWlEAuBCd2OBTULwkgCRo7Meoa023a/YZxQHknNMoTFGqzpxfNFjDHXgjdN4KfNg3oUcjg3NFU03gsCZM2eKZTf3/P7Zz35WtN831Xs0R4/AjYCMGyP85S9/wciRI1UWxn/ep9Nyin25FSRBIg8aIHLL2iZNmsh4RVDJg8CRuqxVqlTBn/70J9mP+yc/+YnsIf/yyy/jk08+kXmCuq70PcttQilK5v7q3INd7ydPAxbuw869559//nmpC4EuQS5PisUJTBMTEwXELl68WOpIo5cykbQ0Rdm/h0qBOyaWhw8Ys3PycfzYaXh37oZmTZpjb0gokjPTRftFQCE5fFYzYLMAdgIVKxwugFHGK9aBY0w+7wHEhoyXgVASkMNogGAOW1ar6M2J6o7rAMhnCEypZ+jMhgimOc4xbwl4Tw98HEhz4MiNwKXDWzGoU3M0qVcPvcbNRMDB08g2JyF835cYPXoAqtWugzaDJmPD4QjczAKKtJ9EF9TxaHUYOShzgJbBmdd36X2Mk5MjNvUNCeALlWJp0T2d5s6Q2ELT+XZEDFYuX42+vQegT6/+ogvGAZUAQ/RLDV0qu11xLe8PeBjl1eX+LqGk1W36fUKlRyVcaFH0UyyQuNhoLJo3HwMH9MPIocMQuHc3TNk0ktD0NUKHwTk1+qBMhi5iu/v5zTR3Ozn/3i3+v+K+hUNLEskiSbj76hsiB5jxFElPmeoP764+GD/BF3sMXU0tkmY6pvymkyD0+5+kn4E1SNLvet5n+5stefD390OLlk3g5zcJoWGByMtje+rv5nEN2eddUJgTmD97DtxruMF/0mQc2B8Oc55e6BhITTqEvuazWvqihggOt6QGTxmDi4YT9a2IWNZFhUONO0pSIZILSi+KTuai+rHOk4CUReCinUYf1DGkRTc9EtCNFQEhDUII/KpWrSouaOidgcCRXELu1EPgRrE7OYH6oOiXe8H/+9//Fl+bBGksKzmCTE89xoCAAAFvfIZi6iVLluCtt95CrVq1wAUwPT8wpKEbXaPxoOubgwcPCkAlgKX/WeofMi1Dlpd+TGnsyDhyIem+R3MyhTlhFJJGOHR7RMDZunVrcbFTxmE0iFMWPCQKyKCp38WhXQlpJfpH12EE7gSMLYsAI8UVsiIlSLQWAAVZcKYnA4Vcu1Jp2AazxYocK1DAhaskNzhgFJvaTIK4AAAAIABJREFUC2HKzUNBgRNcJOeZAQsZlsbqUAYlAlErkJNlRb4ZKLQTTFJgnAenPUF0OB35gMWkQB5NZ2TrQ0sanNz20JaFhJvHseOLxejWugUaNW2HMUs2IywyFfmWONy6sAVzpw/Cu5XehnvHgVi08xxOJFiFyyiVIAhGKQCMQjxj8ii6Vn1CJmQO0vq8Ew8ao3eJSBnR/zsuOioeq1auRZ/eA9CrZ38EB+0TI4mSydkLS8bd67cq5Q/9X7Lu3+X3f7+boiRXP4zc6UVbg7tOALy+V73uN176szE56wn6fp/9oekysjLh5z+lCDBShzHXlCfGPPebt6Led6G3a9r/pv13j1Fwlt+hSDTuEhZYyGH0Q/OW5DBOQkgYOYw590x/r3xKxqtBy7U+j+haABrfbcP82bPg7lYV/pMm4kB4KMx5NHqhag97F1d/ROUEdQwZrwGjLnvxkEBbNo6p+RaHhK59Qjo+H9H5FIFELblQ+YrUxxhKdF/noocunQjYBgwYIJ4XCOAIsvhNUe9wyJAhqFChguxaQ7+F+iDIrFmzJsqXLy8A8/Lly7Jg9/T0ROXKlQUsUrytOZMEjORc8h4BI/3GEqSRa0iA2ahRI4nX+TPUIu6SPknJMWQZ9X3XZ3hd0s2Wrg/vkQPK5+iWjACWIulTp06ViaRLErHs949MAX7FRcejBozNERQcipQMutXhmtKwPs5Mwq19e7DSfyKm+fph0sSpmODrh2GjJsJnwGQsWrkVUTHRgDkVyLiOM7tWY7H/SPTyfg/uDduiebex8F8UgJBD15FNjGgrgD0nCof2fIGlC2Zj5rT5CNh2FAmZXM1aYMq8juBNC7HQfwRGD/HHJ8v34kRUBjhFwBqPq8e2Yf2nizHdbzwWTRuFicP7wMu9FqrUbo1xq0NwOMGEQkscEi9vwVfLxsK9xtuo1Ko7Jnx1CPtiLUgxuDVqe8VHBxjZ9MY0UMQNuKM7uGA+piMuJ8TlSbE6Q8bp1f/dQnnO4PjevB2FFavXos+Agejeux92BYYg21RsMa4nBFE11WVzQqzMqRVwt9N1EnrY10XlNWigaRERE4+Z8xaiV/9BGDb6A+wJ2YfMvAKhlU6jafVDy6zLUDLU+WqO4j25b3oh8A2hqH3IIk0NFMK5ByftLLEe9vHpBl/fiQgMJJDKV84EjDGlaKFx1/wZ6dLJvut10eJGU/O7hhzvijlhpOHdfpsshWIN3rRlK0z280dQmFro3Cv9/cbzXQqmGpzmb9DVJRBiWtdQFhw/QAeXz/PrVT4hSDsr5s6ZATf3KvCb7IvwAyHIN2Wrr5yAzvjai9PT0lc3NAlJDrsClRQWFJhtiE3Jwemr0bganYpcmxor2CeF0LLFrJ58DABaBByZjxZPKI0kba2vX3nmzBkx/CA30PUg0OIGAeTC/etf/xLxMAEXD4I9Aj/6M/zjH/8ovjXJmfzDH/4g1+RGugI66ho+99xzInqm/iB1V5nH0qVLUbduXfzud78TEKffT1DoehB4ks4skwah+j4BIuNKxuvf0tbGx8cycdFJkEyjl7Zt25YZvWhCloUPkQL665NXPgrAqHUYu4gOIwFjWhFgtACWbDiTohC6dAHaVHgbb/3jP6hQ3hN1G7RE45Y+qFrHG+P8P8alSyeQGn0Mlw58jTkf9Ebbhu54/bVX8NwL/8Yf/1UZ9Zt0he+kD3H0fAQSMjOQnXIVG1b4o1vbhqjl5oV+Ixbg6MVUFBRkIunGPswb2Q6133oRf/zD62ja2RfrDl5GdIEJOQmnsH3VZPTs3AGVy5dD55YeGNCzFSpXr4GqzTrDf9MRAYxAOjKv7sK2j8agWZ2qqN5uAN7/NAQ7I/ORSENsitoFcj1awKinWD3J3cn1UOM6ObPZFiApH4jOAW7lADdz1RmdB8TkAbG5dw/jTSo+IR84diMBC1ZvhPf749FpwBhsDDuFq4kFiMk1ns8F4vKAqGz1m++SfF3uu/7mNfPlmWT6fqF+/vuGrB/PJDOQagUyHMDF2CxMXrga3oPHofeoqfgq8AhuZzqQbAESCyAh0/NMyQfSvudJI6p7nTrPbCvAM6fw+59s+1wrkGVWIfMy2YGYFBMmzfgQnXoMxuiJs7B170EkZVmL0jH9N77XCuQ9gDPX7kSezYnvGvIZM/WVv+EkzMixABOmzkWjlh0wfsps7Ak7ggyTXfT0vunZ+7lH9ZlvOjVMu1d4t0XUd4njd0/IyJDnzLlzUM3dDRP8JiPsQDhy8k3GorI4jU7PsUMvIOV54RiquctiU/36+I0UrN1zCl+GXcH5eDtic4DUPMBqGLDo9xZPQwZwLFoMKPFz0cKHsJU67cbBa3L0aRBCI5ArV66IIQqtvblz2AsvvIAPP/xQUuvnCOoWLVokYI/cOnIQKVqmQZMGlhq00TCF4u1KlSoJ0KThC/PZsWOHuEGjDiItl/l+vpuWzampqcItVIAcYmxDvURaNXOnFn3yGf0c9RFZfoJf5q/LoevJkL55CRip88i6ETATvPLQ7yp5LTdL0b8ytzqlqDG+V1GKv1RjvfuQRdK5OTh24qj4YWzWtLFYjxEwqtUszYozgeTbOPbph/CpUgmv/PHfeO01T3wwcRFCD13CheupSExIRebtI9i0yhfdu7ZGnWbN4TNsLDaFHMThI+HYu3k9xvTsgtb166N9nxFYvi0QSVmx2Bf6JaaN7YeaVaujTQ8/hF9IQ1pKJKJObcP0Hg1R/k+/wm9+/y9UbD4Qs7cexpmEJGRGHsCaaf3g06GTuDYY2rcxhg5uinK1qqBaO2/M3HYQJxLyAFsuzNcPI2jhZDStWglv1PFBx1mb8Pn5VEQ6gVxDV5IA7VEZvbDpeSo+C3WMOD1SFKQtyZ3i+ofcxFMRmVi6/TgWbT+PhXtvYfqOW5gbGIs5uyIwb+dNzN95867hwt0RmLvjhtyfsfkyxqw6hO4zt6DvvJ2YuP4U5my7gvm7ef865u68hoW7b2LBHuZ3vSjk/QW7bmDerutF8R8FRmJxSDRWHkjAyoNx+PRA3F3DVeGxWHEgFgx1Ov17eXgMVoTH/6Bz1b4YrNofhU/3x2Lj2UxsPJMtv0ctCULXKWvRZ2YApn15DOuOJGPz+Wy5H3AmA5vO5mDLuUxsPZ2KrWeSsPVMyvcKt5xOxOYz6tx0OkGut5xNwo7zqdh1MR0hN/LkDLueh/s5990wSbrQa7kIuZoj14zjbz7PMPxWAQ5GWrD9dBKGzFqHbuMXY/DMz/HR5uPYdS4V+2/my7MHIsxF72Qe/H00xo4T8cCpROBkAnAynqfjjvNEnB36LHnvzt82nEyw4kSiBScTLPcdnkwqxKnEQpxJssjiJDobKHlGZTnBk6D+VpoVI6d+hOY+g/HBrKXYsOcIriUVyCKg5HPf9XdsFhCTZUdstgOJJiCtEMjiAs2pwkw78E1nlg34IWcOxbtWpXLD60lzP0a1es0w0m8Wgo6eRZpF3aPeNaEJT17zpLA6wzip0cnfOh336opzAKGRTkz58izeXxwO/y8vYWVIPEIumXErTeWVZ0grOPIQgOoxSc9lNHiRMYoSBvq8ZTrh4ikROMEiDU8I+v72t7+JAQqNWp599lnR9XvppZewbNmyIp1APk9u3/nz5zFmzBj8/e9/FyOZ8ePHi4iXVtH6IGijYQs5jBRJU7RN1zo8eI86kNzJie//zW9+I+nor5EcTOou8iB4/OKLL0Q8ToMXlvHPf/6zlPOvf/2rXPM3n3/xxRdBoMs6sRwsJw8NBsndpDENDWS4rzkBI0XkPHRa+WE8o5/TcaUhLAOMpaEVfkgZ1Ddo5PAIOIy5WTh24jC8u7yHZk0b/jdgtOYASRE4tnQ2vMuXwxt/K4/q7t5Y8uleRKfQoyHgKEjH7SP/n73vAMviStvOfv/m280m+2U3vRp7qmsSE3tNs2GLHbCAvcRomj2W2FsSC/bYe2+oICCKNBsgYu+KSO/tfeH+r/uZOTC8QaKCAtmZ6zrvmTlzynPKzNzv085ajOjTFO9+VBWfdOmLiatdcT6er6BUpF0/js0zvkf3FvVRtf7n6Dl2Og6dPoUj/h5Y8vMYfFLnYzTuOAQb3E/hbGgAjrn+hm9a1EGlJx7HX558Hm8364IRy/fAI/Q8zhzZgimDOqJjOwc49eyH0UM7YsSwNnj/k+qo1q4zZuw6hBN3koGMNCSG+MHj5/Fo+UE1lK3ZDi1Gr8DCgKu4qL94dQFNsQFGTrrSqxJaxPKZgFHTH+K/bP6X50fgQHA4vv11C5ymbkEfl4Nwmu+Lri5+cHbxRQ+XI+gxL/+4p4sfei/0R6/5/nCaexi9FwSg7+JAyd9rgZ8W6/edXY6A+XvM99Xqm+8r1z0X+El5Y3qfhYHot+QoBi47hoHLAjFoWeA9x4NWHMOQlccxeFUQBq04ga9WMA6675hlv1lxHD+sOo7vV5zAyPUhGLkuFMPXBqHfvEPo53IQfeYcxJDf/DFi7SmM3hiK0RvCcuJRG05hzKYQCWM3PkgchLGbgzFmy0mJx27W4nFbgvDTtlBM3BGKabvPY9qes/nHu89j+p4LmL7nkgB/gn+e24apuy5gys7zmOF6WWJez9x7BT9tOY2BLp5wmr4LfWe7YdjKQEzazrYuYsLWsJwyrI9lZ+27il/db2CuZ7iEOR63MO/ADQkuHjfBMN/zloQFXuFgUOl3i+d6Xcdcr2u433jewRvgH4Y1vrewzvc61vlcx9oj17D+yA2s97uBjX63sDHgFrYfj5L0wTM3odPQOfhq2npMWXcYaw9fw8aAcGzwvYn1fjcfKGbZjf43sYHt+d/ElqO3seNkFHYFx0jYGRSN3SGxBQbX4FgUJuwJisK+0Gi4hcVi76koDJ2zCS36jcNXU1fAZWegpHmeT4T3pRR4XUiSWJ17XkzG/ktJ2H8lGR6XE+BxMR6elxLgeTkFey9mYNv5LMw+FI/+y4LRcZYPHH/1w1dLT2DKjitY458I7wtWhIZn4lZSNpKzc1Vc+E5XIJGx8ZzvLDEyy7bA38cbEyeMFz+FtEKmPiGBVKNGjQTElStXTgAhd2uRcroTbQIp6hV37twZBJRVqlQREbXSdSQYVBw+AkZy9Li/ttoakO9FAjTqKPI+weYnn3widNSsWVM4jzSiIVgkwKTLHVpeU3eyadOmoMU14y+++EJoJsik4Qx9KxJc0vJbAUDSqridBIcUhT/++OMikj527FgOMCWIZl6WK4lAUSYAgAkY1UiU1rgEAEb/HMD4xe8BY0YMEH4egS5T4PRBVXxYoSGatRqKtbuDEUtcg3TE3Q6C1+rJ6NasBspV/RA9x/2MbUfPIUr+oFmAtJsIO7AYE7/rgLc+fAdNu/fGCjdv+JwMxu71i9D6i7r4rI0zZv62FW6um7BjyVQ41quJ8v/3NJ58+RW81+xL9Jo4F2v3emHf2kXo0+YLtGrTHUNHT8Xs6UMwaZwTqjasjvdbtcPMHV4IiUwFsixIOn0Unr/8hDbVPkClOm3ResxSLPI7j8s6CNPAWvHu9JJjoay4izQyYhDLac1QSAOMN/HD3K3oOX0zBi48iD6L/OC8wBfO873hPN/rrnG3uZ7oudAbPRceRtc57uix4BD6/eYrcZ8lvnCadwQ9FwWg54JAdHc5AmcXfwGjTvNYP8FjgMS8z2t1n+m9FgagxwIfCT3nP1jcY75q5/5jlmW7fRf6oLeLD/osOIw+84+g/2JfdP/FU9KdZx+U9L4LfCXut9AP/RYdkXwsQ9AsgPgBYyeXQ3BawDk4rM+BFnNcOOa9FhxBrwV3i49oYJ7jzLGf56OBfwJ3gvX5vnJfnROgq3zqnOC/+5xD0g/2pc8i7Q8B/yTwXPrHPwB6nSpd/kQs0P5MqHPmtQ2so8CwMBD889Bn4bF8494LjsqfFGOck3/xUfReFIhei7W11HORv6wpY8w57rHQT/IxvecCf8nPcvzTxDXI9fsgsZRZ4A9pY76f1NFn8VH0XXJMa2+Bv8Rs625B64sag/uP+Rz1/y1Inqt+S0+i96JjkGfPxV/Sec30vktOSBiwLFjS+yw+jn6Lj2Hg4gAMXOyHQYv8MGCRLwYsDkD/pcfQa+kJdF8ShE4LT6LjomDYLwuDw2+n0H15EHosP47eS33xwyofrPUOg//5cFF3od8Jirj5N5+vbqWzSM5iDnDU/ailJyegXy9nfPhBVbFKpiUyQRPBFXX9Vq1aJdbSBIQKMPITTXEvxcC0VqY/Q+oh0niF59QLVECNgJF5afRCwEiR9ObNm0VkbARx6rNPjiDdhnHPcW7fR5ExDWyUyFiJmUkf85JWtsV0BfDoQocH05lHAUV1n1xLckspRie4NLrVUXkVPSyjyqm0khCbgLEkzEJhaChRgDEfDmN6NBB+FidcJqLnhx+g5tvN0LrTJKzdfx7h6Xy5xOPq6b3YNONrtG9YFeWq1cD3Lmvgce42ImgsLdv2heNawCrM+6kbKr1bDnXbdsb09fvgFXIO/gc2Y6CjHVp1cMT3YyfBZc40zJk8Eh2/sEPt92ui1ueN0LBDW7TqMQhTf12CedOmoPVnX6CtwzeYt3Q7tq2ag/kzv8PH9Wvhg2ZtMGmjGwJvJoiVdtK5Y3CfPRbt6lRHtWaO6DNnKzaGXgd3I+XLUTmoLi6RtFo28nLRfevRapH/4K36jjZ8eVNIcykmEx4ht7An+A52hyVg++lEbAtLwfYzqdh2NrXAeMf5dLm/2Oc6hi3zhMOElbAftxw/bT6GZX5RWHs8GetOpGD10UQ557VKW3MsKU8ar1VYeyIRq4/FYfXxGKw5mn+8OjBW7q89Fo81J2LB62X+EVhyKBwLvW9i8aE7WHj4zgPFLLv4cLgEqetwOJYeicAc98sYMMcV3adsgvO0LRizLhBzD1zR2justevieQ3kcs3cfxUz9l/HjP03Hiw+cB0zDlzHTI8bEn4+cAOz3K+DMcNMt2sFhun7rmGq61VM2nUJE3ZcwE/bz0vMc3XNNAbmGbf1LMZvO4cpe65gzOYw9JnriS7TdqPvPC/hpJJrOnbLGcnPfBN3XsypR9VprJfn47aflzKjNp0Gyw9bF4wR64IxdG2QcGvvHodg+JpQDF0ThuFrwu4a/7D6dL73f1gbhm/WhmHw+jP4dv15DNlwFkPWnsWAVSHo91sQei09JtyxvstPoteiY+jOPyzzA9BjcaCeHlzouM+yIBhD3+XBYCDg6rH4GLrN9y8wOPEP1gOHQDgtOIEei0LQcZYvurmcQO+lp9F32Rk5d5xzFA6zA9HpZz+0nXYIbaYcRPsZPnL+5VRvdJjujc5TDsB+ipvE7ae6o91UD7Sd4Y3WM33QnHkXBKPTsjPovPwsWs8/ii9d/NB2jhfa/OKOXvP3YdZGL+wLDMOVmHQk6bthKdE09Rb5eVLAke8rDRhlIS4qAh9UeQd/eewx0T3kPvUKNPF9Rq4f9RLJZaQYV1kgX7t2DcOHDxfuHi2jaRyzY8cOMYCpXLkyNm3aJG5t1LuRgFHpMJIDSSfcClSyPVUvgR+PJUuWCKAjEKXlNoGf7WEL5FR9Kl3FLMc2VN28pnU2OYwEuRcvUlalHcYyKq0kxiZgLImzcj80FTtgTNB2enHogJbNCBgPyB612v/MVMBCHcYzODZnDJz+8y6qv9UcrR1nYK3nVYSL4nQSws/tx5bpfdG2dkW8WqUqhsxfjQOXokHbOele+h1c81mJOT92Q5m3yuLjNo4Yv9YVR85dxeVT3pg1whld7NuiTdvW6OHcBYMGDYR91/5w7PEVvhv+Dbo5d0bDhk3Q03kw+vT8CnXqt4DjwJnYd+gSTngdwIZ509CoXn3U+PxLjF/jDp9rCcjITERE6AHs+HUYWtR7HzW/7IaRa9zhdSVS6JKXom5iWJyAkePDF7N6KfNaBaarf/t8HYpyvs4FIODlq1DpLP1RTN2nsJsJ+HXpJnTu8x269h+GDXt9cCXaKoYb0RkQfSnGxvPINC2dulT5hehMgCGG5fKJo1g+I/c+mb8UgV2PteJydIa0fykmC1eis3D/sRWX4rJwIS5TwuXELFxNBnzP38KPs5ei27c/os/ISVjp6o2TN2JxPjYDlxKsuBhvwdnoNIRFZyLgeir8b6TD/3rGA8V+V1PB4H8tTYK69r2WinsJ3hcS4XUuHgfCYuAWGvW7sDc4Au6no3PSec28LLMt4Cq+mbEKjj/MxJDpKzF782HsOn5T8hdUZ952YkQk6hp0BztPhGPH0ZvYGngdW/2vYUvANWzxu4rN/lfzj/2uY4vvTWz2u4UtvrfuO97odxvr/O9gbWAk1gfGYN3RKKzxi8Ryn5uik7rQ4xLm778Ixn2nbUHn0UsxZI4rxqw6jHl7z2Pe/gtw2XehcLHbRbjoYb77JTDweu6+85jtehbTtgY9xBCCiZuCMHFTCCZtPiV6xgNn74f92HVgPHbtcfy0IUjiEcv9MHyZL0avCsTIFf7g9aiVARix0lfCsJX++GFlAH5YdQzfrAnC12tC0Xd1GJyWn4b94mAJDkuD4UwwvPwY+iwNwKgNgVjjGYKAM9cRkWiV7VP5nlHvH1sQlHOdbUVSXDQ6t/8Szz/3jHALt23bJqJccumo20e3M3SOTWfYNBThQa4hxcNvv/026tSpI+CLYmUakzg4OIhomiJt+kIkEGR7zE/DFuowsg267OFBbh+daUdEREhMIMn3+KxZs0DdxN69ews9zGsL+qQCvj91MMn7bEsBR+N96i3SEEbVT5+TtJImICWd9C3Je+yHOlgX62QoaYcJGEvajNwvPXw6c45i0GGUnV78ZWvAls2aim++qGgq8hKqEDBGARGhOD5nNHpWfRcfv90CLbrMwqqD13HdShFGAiIvecB1zgB0qlcWFatVx+A5a+F6Lga3qRcjvhZv45bfCriMc0a5qlXxUfvemLLlIE7djkVieBC2LxyBfp2b4r1Kr+PdKu+gYcs26PDNWAybtRCrVy/CqME9UfPNKqhZpR6qfvw53qzVBj1GrsDRsGRcPXEMrotmoXX9umjwaUuM/M0NntdSYEUyLgftwdIpX6F+9XfxcZtumLzFBwE340ShXYZd/wtdbICRYufMFCArmYqgmnN0chgtuXsAczsuBSa1ZaLcX+huL3hZQBDPGfp9+mFcMH8Jevboi969+sPdzQvx8Ymw6srsOctQXrJ80Rr8P+ZZp8ac935OfM462R6DxZKFjMzsBw5plmykWrKRbM1GCreTlB2CgLNXr2PCjFlw6jcAfQd/g+373HA7LgGJmVbJQ7FbkiULCRlWxKRnCxCO0YHx/cTMG5ehWUHTijnBolklK8voWIt2j/HdggLntLaOSMmWYGt5TaMI5iN45704qxbO347H8Ek/o1OvQfhu3DRs2ueNK9EpUgfz307OymPFzfJ5QipAAB+Rqlng0+iD9mI3E7NwM1GLeU2An38M3KKl/B+E8CQgv0Dr9utJAC39ryYCVxKBy/HApXjgYixwMQ64lQZcTgAGj3fBF5374/vJi7Fyjy9O37bgRoqWn2UeNFxKBPILF+IhTv7PRAMPK4Sx7hiA8aUk4GwsMPzndajfbiAGTViClfuCEHwbOHUHCInQwukoIDQSkh4UAZyMAo5HAycigWM8jwKOxgCHowD3CMAlIBkDVwah0y/e6Dr3sOgaT9p1HuT4+94CzkVmIjI5Cyn6loJ8JcqhvSC1U4MeHxMI/CgF2eu6GwMHDhRDEoI6Ot0mV5E+FukUmzqNNFihRTRBFAEfnWfTIKZLly4C/igaZn3cBYY6jRT3Mj5y5IiUIYeRaQSZ1Euk/0fqJo4ePVr0EKn/SC4m26X4mwYwpInW1UbOoNYpzYCFbapDidHVNWMCR9JE4xdyQAlmaSzDdhiTHoJGgmG2SXC8bNky4Tga6zbWWVLOTcBYUmbiQelQD6iULw7AmCJbA3a1d0DLpi3gtt8bUdH6rhgEjBl3gNvBODF3FPp8+B5qVGmNpl1nYonHZVzMIIcrCUl3fBG4fhj6Nn8b71Wrg87fzcYij0u4xi0BabaReg7Ht47HqH5N8Fq1Wqjb+0cs9TqP8OQsIPEsglznYFyf1qj03D/wj3/9C69Wr4d2E2Zj9l4vHPU5gN/G/oDPy7+Fsv/3Gp58pSrebtIL3/3qgdM3gLhLwTi25VcMaNUIjT/5Ar2nr8fG0BgkWeIR5LsJU4b3RK2aH+Gz7sOw2PMizt7JQJpY6hATExEVow4jgeKNE0g4tg0JwfuQdjEAsMRolunZ2r7ZJJWvtxxOo0X/50qwqTsez2UJGNkDNudZ2bh25SoWL1yEAf36o3fPXti/V9tL2vhPmC92HozVeUFLm9kLClpdWh4jAFV1srXCBB3zSx3q/Nr1cEyf8Qv6D/gag4d8Dzd3L3FQT0fGqi0FwnnNMX6QWNXFmBUYY1UfaVLzl18sumI6Dfmdq3lXZbk9m8p3JyYeP46fiI4OXfHDiNFwdfNAQkq6bA/HPKqsym8bqzoLE9O6tqBAcH63+0pf7o/aT7UAo8ZNRpMWbTB24nTs8/BGbBI3tyt4bO/lPmkgp942kF+kuPi294r62tjOuBmz8UHdT0Q9x933GGIz7k6HkipQesA61DizT9wC9boFcLtkwY8bjuGb345gyrYwLD5wCW6hcbiq73il5odjJetX1rJmdKfpUWvcNyarZ0aBInITuW80AROBG4Eit/Gj0QuNRyiKJkAkl5AHjVYGDBgg4lyCP+NBIEjQxbJff/01fHx85DYNS+jPkeW4ewvbJneRO8awXbb53nvvCQeyfPny6NChg+wPrayXFafP9n2m+sBGeI/XxjSW4zaEdNTN3WD+85//SDvkjJK7SHF6jRo1ZAca0rFy5Upx6WPsk7E+Y3pxnpuAsThHvyjaznlKWdmjB4yJ8SkIkK0Bu6B5czru9oLGYSQ7nUqK0cJhDHSSwBwmAAAgAElEQVQZix7VqqJ6FTvYdZmCFZ4XcV04OqlA5iVEHl+FyQNbosbHtVHzi+74YdZGnI2h+28Lwq/6Y/aPXdDyiw9QuX4T9Ji6HN4XksWRLFIv4s7x9Vg+yhkfl/kX/vbUv/CvKnXg+OsqbAo+j/DzJ7Bvzji0/U9lvP7UM/h7mWpo1HcyZm09g1vEtQnXER6wCZP6t0erzz5Bx8GTsGDvUVy/cw37d6/A0G/7osFnTdB9pAv2hyUjIkVzQC1uxoobMFrjELZmAlb2qIElzrURuHQUkHpDXALRUpovLX7k+cFUHz9eawBPc2vBNXMvITvLgmtXL2PxogXo17c3ejh3h9v+vYiLi9H0TLn29G3i7laf2ss4937hHwAu/0IF9fzo3EtWduPGLUydMhN9+/bH14O+xf797oiPS9YcWusAl5xX7eD4cXQfJOYfDpkRjc3LOrgjh0q7x7nJHc+8c2kcb3XOWBlKxcZGY8KE8bC374QRI4bBzU3bMs9iIXTgHwvVr9x6WV4F9p9vHILa/IICCAXPD9eo5gosv5h380unwZm2unNpyzMOHEN9HDPSU/HT+LFo3qwJxo39EV6eB5AsWwNqf/geeAHpK6Dg/hVyfd7D+uYKsmRpozRtxnRUq1Edo7jTyxEfJKdSWqLRkKlv9aiupZxaveKKi/OuwXBy3yOTs+F7IRrztvlizcELCI4CricD8ZRaUA2GMYFmluYyR/uDyDFVTrvV+tEGKiMzV/KhxLcERRQpU1RMi2T6SSQHkMYmFPkSuCnDE3LtCDJ5X95tukUx03lQrEsLZeZnvczDwPoJEtmmKsdrphNoqqDykbPIvLYgkWXVoeg3pvEeyyjOJOniOUXSirPJfvKcaQw08KFY3NimbZ2qzZIQm4CxJMxCYWhQHzyp4xEDRoqMY5Jw4kggOjl2wWetmmO3hxsiYiO1f5t075IeC9w4g0Mu09GkXHm8VaYGPmv1NZbtOYabNOblxzYrFhm3g+HvuhIThw2Gfbt2sHfohoFDvseIH8dgwOCBsHfsjE7dnTF0ugu2+4biWoL2mUb6dWRe9cLu6V+hXpmn8L//+wz+9kYtDJq3G4cvRcMadQb+a39Cz6bv4fmn/x8ee+0ddBy7BOsOXRFxGsW56TdO4PDWpRj3bV8RZzh0c0avXj3g1MMZjj364fuffsGKvccQEpElvsr4GtQYacXMYbREI2ROfyxr8TxWtHwJAdOcgMRr4ocxG5naB1X/mjFSHwr5sBq/cvew/vgi5C4K/MfMnRW4byp3UeALXvtQ5FZie517p2Se2dJLxfoZM2ZJPwcP/ka4IAkJSfoHJL8+qA/J/caGutRzrGLDraI4VX00foz48Ro/fry4DBk5cqRwcqhzpfKoMkXRfkF1KG8D9xsXVKfxHoEE+9myZUuMGzdOLGfZzz/Lwbc+D/7SD2CtOrUxZswYeHkfFPDEdM6lWlrG/HJPSucCb/4hoGUz1VmuRcTi7LUIXLwVi1huv0pLZQGI2ujllteutd/cuoyp5nnpHwETMJb2OVRvAenHoweMGdEaYGzftQs+JWD0dMWd2Ajt5cR/ZJYkWK+FwX3BbLSrUQd1qzWBg9NIbDpwQnSfhO1uSQasSUBqFK4F+2DpzxPQttmnKF/mVTz+xFN4qdxbaNrRWXYZOX4hXBzV8n+wAJ+sKCAyCIeXT4Bjg6qoXLEq3qnTHjPX+uBSDDdCvYbzB5di3JDW+Lh6RZRv0BhDF22FR2i4KGnDSg5nJDIjL8Bv/2Z816cr3qtQBi+/+BLeqlINfb4dg9WuPqInRYYkLQEVc4lcNx7FpsOYGYlLCwdiS+tnsb31cwid3hVI4T40uetAJoLvb13kyY+yfJjzf9NLf/L74QfnvwswztAB42AdMCbogDHPA5ffUJXINAX+FBgkkSUFMD7sAfuzA0Y1txxHAsbatTXAePCgBhiZbsxjPL/b2DOPWis8ty3De7Zpd6vLTP/zjIAJGEv7XOb5fuUCBUm2xCFm5zTscKyArXb/hN/Qz4AbJ8VljAYqCtn5bCAlLgFH/fzRsUsXfN6yOfa770N0dKT2d1csFJKBtCgkXwiF367dcN15GAd9LuHyHYtY6AoF4mia4utEZETfwJWQABzcvwtbNqzF2o1bsGbzTuw5dBRhN6JlmzRNaMKSRG/xgDUayZeOInDfVmzfugsbdnkh5GoMkshSy0pEZtRZhJ1wx27XTVi33wNB4Qm4npQlejsC/7ISpZ6UqGsI8ffCtvUrsXb1GmzdtRc+J87iYmSa6PTQ93+qLsUSsUsWoWPx7fRCoHtl8SBs+/J57GjzPE7P6JYHMIrIjgvBBIwFLnTbD5/GYTQBo+24FDiIJfimCRjvDhg5xwXNswKNnN4/yluCl4BJWhGNgAkYi2ggi62a4gSMdE8QT7c6GmBsYtcc7m77EB8ZmQNSkEHZMf0aJgHWTFEr4j6k4uKFKlvkfJFTR/CVna5Z+9Lil+fIQnqGBSlWTamcKRSJCA6kDk16CpBBC+FkIDMRkJ1ONKwqeYS9lpljRUzxN+ug0jl3JtD4g/yls2tyGhO1WAAsRPmf+akcTgEWzzVxtDSu7ahSzIDxdxzG5FsybuyrCRjv7am0/WCagJH/MPKCjHsbyZKZywSMeefSdr0rIKhi4yzaAkalu/dnWh/G/prnBY+ACRgLHp+Sf7eYAWN8YhyOBPiLDmOz5i1wcK8bkiKidVTH4SPMSgKyCbm0rQAtAhL5EtOyEdzJQWVp7lhC8GZJE9cLykpU1LGzNAXrnLw5ytWaKxlN/EpNbAJPfT9ltkpdS6umIk9H4NTvy7Rm6NLabN0Bt66oTYFzFoEtubUaQGTbDASLpEdT6qYCJvtWvBxGAsatbZ7Ll8OYI3o2OYz6Ass/sv2AmoDRBIz5r5SSmWpcvw8qklZgUcUls6cmVcU9AiZgLO4ZKGz7xQgY2XRsUhx8An3RydEBds1awNv1AJJvx+roitw+CzKQAkt2klg7UohLDqNgQ3rMydC4jTnd4A2rBvYIxphOQKmCvNCEI8k8mjZhzj2OJa1MWV64jRax4FOATwOmOieT7eh2lhpN3MtTs6zkLimyU4oB0FLRmz7/5B+2ANWSARgvL/rqroDR5DDe28Nl/OCyhAkYTcB4byunZOQyrt8HBYzsiQKLxvr4vqMFr7L8LRk9NqkorhEwAWNxjXxRtZuDtFjho9VhZNMxOmC0NwDGpAjqFfINxChLXONkIFOEpCLSJam8r/uEYxq5gJr4gx8rPdCFB7Mq0bUaM4qv9b2TyS+k42Upr9ep6mbhTKtFLtlGzpmAUjq9zgTdRxBQ6uTmtk0aWD7TqonNVdvkjoozcYrCWbL4OYx5jF6SbwnwzSI3V4Ct3iXT6EXN4O9i4weSN03AaALG3y2SEpxgXL9FDRjz6zbb47vaKK7OL5+Z9ucbARMwlvY5LVbAmCUcxiOBPlCA0XOvJ+LvxGuYT/QECciyJKRkZ2hYTmFCOuYW59ya3qE2FQRqGqdPOH4a7hTgmNtVIsgMZGdlCNijTqLcY71Ehjpw1IyY6a+NIug03Z8bVSnJxdTQKrMS9gnglFr09sUfnrJw0XYYEfAovri0hrIo+i6BgJE0mTqM9/5gGz+4LGUCRhMw3vvqKf6cxvVbGMCYX09sQaGxrfzym2l/7hEwAWNpn99cFCXghUBBc51C8PSQraSRhcTkBPj4estWTRRJu+/3RAx3etE5WgRkGndPi0WvTufeqTzsQm43FJpUsXbvbnkUPhSEykwsxrb19rVWCezSBUTlcBL16lkkJ03WAkGicjxryGRYJ4oWxjzo0X/jxo2ynVW3bt3g4eEhjmL124WK+IJW4XcVZUbiwvz+2N72BdFhPPdLDyDxRs46KGqRNLe6Wrhwoez92qtXL/HDSMez6qNSGj8mimYVsy/sJz+8/fr1w5AhQ8StDh0I857Kx7lQ/f7dvJTABEW3ikkiHQdzx4uuXbtixIgRcHd3B/1qqn4Z85bALt0zSXT2PGHCBHCf4bFjxxbp83nPRDykjGquVDx16lTUqlUL3LP40KFDOU6vjXNpPH9IZJnV/klHwASMpX1iFWqRfjxakTSb5G4RPj6H0NWxC5o1s4PrXndERMflbAOlwFUuKFPwkWDM9tABmhJJ67dVHSo2ltK6r0CexhFUxjQ598RzouYCh3QwCELVMuQFq7KxsgKMpDWXy6jaV3Uw5g4L3Dx+8+bNsLe3F8ff3IKKOwk89K2dMiNx/bch2NTy39jY7P9w9mdnIC1C24mDAvgiFElTl4l+GBcvXoz+/fujZ8+e4uiZQEpZTvKjVVo/Rsa54s4LBIx0UD5o0CABjGq3CfavNPVR0apiBSx4TcD4448/yvZrdNzNfXf5B8A2r/F5K43ntJJmP5s1ayYOvPl8Gv/olMY+2dLMPnINT5kyBQ0aNBAH5Z6eniZgtB0o87pQI2ACxkINXwkorIMejZJHDxhTkhMRGOAH7iVNwLjP4yCiU5KFzymkEQNSwkzcJYiLAuA0MTchtcrQRImhVcyPljHkt/WY1Cc3rLpbnkxdfy93u7K8e5ZpVs4CA/XtzLQ2NBG4tE1RdJ6gZWRbymJbjGQoxtZxJzlSBIzk1HTp0gV0mKv2IjX24UHOjSvMtjzSI3BuXl/hMO5u95IGGBOug1u7KU6zEK2PvwyVaJWyj+xQXkV32/p5rQAG6VCAsU+fPiAnlQDDuDOIkVZ1nl+dJSlN0cmYfWW4deuWfHgHDx6M7777TgAjtw1Tyv8EyCpvSepLfrQY+2d7zj5xBxTOJTmM3LOXacY5z6/O0pTGPnPeuMNL8+bNZQeU/fv350gASlNf8qPV1hhl8uTJReK423atmNfmCHAETMBY2tdBMQPGmOhI+PsdQTcHR3kh7zrgjoiEeKTRNQ6F0YppKGCRg03xcKpw+YTTJ6hFubRRmfOfFFWF4vBJLiZSr5CIVGAqRfKaWD73vsYoVFxFFsmtQyuXS6hOg2qMsX6ocopHqoDnpUuXsGnTJgGLBIzkYJB7Y/zwqjqKNM6MxMUFA8RKemvLZzTH3QaRtEV8W+b2XesSYbrONTX0rSC6VD/Yz+XLl2PgwIFwcnLKEe2Rs8GPmQJSPGcZxiX94H6vRg4p6SXHmCLMAQMG4OuvvxYgRY6x7VEa+sd5UIH0qzliGve0nTRpEpydnQUwcqtHtWUe+1Ya+mc7J7bXXJsMnE9uDUiATJUR7lP8Z+gf+8u55MH+cD7r1KkjovfC7PRiO47mtTkCHAETMJb2dZDnm/zoOYxpaSkIDPRHV/vO+LJ1G3gdOSJwkL4OhQcnclvdjoXvtew0IDtFIJ1w6AgqcoxctI+UML9ED1H/aN31vo789ALkVtLAhSY2bF+4l2xToUOFBbM1SClW03TNI8BK5zJm6W3mw33ToBbLapqRjDn81Pui+Id6fRTVBgUF5XyM1Mf6brH6MN8tZrm73UPGHdxe9YPs9EKR9OV5fYGMSEGIlqx0zWkQx6YQHEa2rQ5y3latWiVAimAqMDAQBFwFHXejvaSkk3bVRwUcyR2eO3cuvv32WwwfPhxHjhzJycP+EoCoo6T04250KDrziylmJ8DguqVun4+PT0421lfQ2rtbeyUtnR3ifFFX88svvxTOcUBAgPTzz9A/jreRy/jLL7+gUaNGwlE1dRhzlrN5UkQjYALGIhrIYqsm93suQEFx1yT5oRu9AOK4+8hhdOncCV+2bIXtu/fgdkwUklNikJIYhYykFKQnWpGcnI3klEykp0RLSExNQUJqBqiQrkJyShryhNQUpCanIDUlKU9Q+VNS0pCarALrSdJCagJSGFgu536GnKuyyalJSE5NQGoKg1a/dk+jISWZtKXl0JZTdwrLMaRIYJnLly9j/fr1IpJ2cHAQEWZkZKShbG4fVfv3GvOjroJtGSRcw6mfnbGrw8vY1upZEUln3zwNOidPy0iWuUlPTkF6UhpSkjORnJKh085x4dga+5c/jdT1Yvv8KJ07d050GCmSph7jzp07hUtFrhTzkAvHc8Ysx3NbmkvaNekkQKQOGGlLT0/H2bNnBViQ80ax9O7du8H5ZB4GcqfYR4pvS1p/bOlR80F6eY/95Tn7cefOHVB3sUePHmIk4erqKpxxNZdqTGzrLE3X/BPAufvpp58EMFL0zn5y7jiPpakv+dGqnj32k+uYnFRyGGn04u3tbeowFtuH+c/ZsAkYS/u8FiNgZNMJKck4GRwEJwcHVCxTFlXf/xAf1/gIdWu9j8/rV0fD2nVRr3Yj1KrTGLXqNkKDutXQoN4HqFO3vlwzVqFWvYZQQdLq1UW9OnVRr25tNKhTMyfwmqFu3bo5ZSVfnbqSVrdufWhBK1uvbk09f23Uqcc8LJ+3vty6NBrq1G2EOnUb5lNPTdStV1PqkHrq1cPHH3+Mt99+G6+++iqef/55fPjhh6hXr57QwrigwHYfNLSs8SbmtamIA93K42D3iljQqjza1noH1at/hBq1PkK9BnXRoE5dNKhdH3XraP2pU49jUFsb1zocp4Lbb9iwoXyA+BFiP9966y288MILePHFF/H++++LRWb9+vXBwLpUX3mu0v6ojeK8TxrVXNWuXVsMBmhlWqlSJZlPzinnkzTWrFlT9MOYn+U++eSTPxy/4uwb21Z94zlp5jzynLTXqFEDFStWxL///W+8/PLLePfdd4U7RaMJ5jOWLe5+PGj7nEuu4ddffx3/+te/UK5cOVStWrVUrM176bOaU87Vp59+KmuWzyaBMTmpBP88yIlUh/FcpZmxOQL3MgImYLyXUSrJeXLfA4+cw8imUzLScfJUCJy6OOL1l1+SF9Zrr72CCm+8gLcqvI6KZcuhXNnKKFPuHZQpVxnly72GiuVekRd32XKVULZcBUOoJHnKlqsM3itXrgLKlXsD5cq/LuWkbFnW+YaE8mXL5ZTlh4DX5cuyjArlcsqXLf8GVGCdFcu+jkp6XeXL8V45lClfAWXKV5JAGsqVrSR1Mm9Fofs1lC/3utCj5S8nwKJMmTJ45pln5MP7xBNPCJgqX7689JFxQYF0FxRU2fzyVHvtKUz57EV4OVfCIefKmPX5S6hZ5mnp8xvlXkO5CmVl/Cu+UUHmQMZbH4fcsSq4ffatQoUKAix4TrD4z3/+Uz6+zz77rHyIjTQaz1kuP7pLWhppJk2MCaAILp577jn8/e9/x1NPPSVg6o033pD7BJI8f+2112RcSlpf7kZP2bJlhV7SzjxvvvkmOJ8EUU8++aT80eHcMp8KalzuVmdpSK9cubL0++mnn5a55LzyTx3n+M/QP9UPPmvsz9/+9jdZu+Qc+/v7m4CxJH+7SyFtJmAshZOWh+RiBIykIzY+Dv6BAejiaI9GDevjt6WLceiwJ06HBuHsmVMICQlFcEgYToacwclTYQgJCUFISJAehyD4VJAELT0Up4LDcCrojMRS9lQQToaewMnQ4wg+dULKngoOQVhQKE4HhSIkOEzqDw4JlTpPhQThdPAJCSGnTuDkqVCcCA3FiVNhcs62T4Vo95kvLIjXpIFtBAn4lbqCw6T+80HBOB98DOdCAhF2KhCnQk8iKPQ0jp0+L+HCxcti5ELdITs7O3HdsWzZMnlZnzlzBqdOnSowaP3mmOQfQkNDcbcQftILRyfbY0e7F7Gn/cs4MqoVbga64/TpUwghnSEncTo4RB+nM9o46ePNMTwVrI3Z3dpm+smTJ0UUTbE7RVxjxoxB27Ztpa9Lly6Vftr2kTqcTCuo3pJ0Lzg4WOgNCwsDDXt8fX3x/fffo02bNujYsSPmz58v+pqqT5wP0s9+lqR+3I0W9o/3OJfqnP3kOf1MNm3aVIyYXFxccPToUUlnH1Xeu9VbGtJp2c++0niJXFO6SqJrKOrfqnVqu36N1yW9j+wD5+rChQviD3bYsGHC+TdF0nm+kuZFEY2ACRiLaCCLrZpiBowpaakCGO3tO8HOrhkOerkjOSlOuJ0cE9pcGI1EeC3SETmxaj4DdaMW5epFWVYzHw1TMmVbQW4tSKMWzR2MGLKwYt1AWquXlXOvaO4zrRm+0LCGdtmMxUhF2tINXcR9juYvh8YyFjGY0doQGmksI/tW59ZCC2PdjkerDxBdMOpF0eCFem8EHNQ3UkYUBa2NPzISKKgsMiNxdcnX4laHOoznf+0JpN+RQVG6rEXpVic8PBwrVqwQvT46taahD/tpexhFXn/Uv5JwXxkkKbrph5FGLwQZFO3R6p36fPkdJYH+gmgw0qz6p9Kow0c3LNRhpNEL3SSxnxwPHn8GoxD2g0Yv9KvZvn176S//+LDv93IUNLYl4Z5tH6ZPny7AmPNp6jDajo55XdgRMAFjYUewuMsXM2CkAj0BUudOHdC8WRN4ubshPi5GzIfVh4ckqpAzXHkSdPNl5e5Fz6SyEKCpc7nFC1VEVci0nERlz6yBO2UknVuHKqy7l9HrN5bnudoxxxYgasRoroCysyy4ffs2duzYkeO4+/DhwwKkVP8ViUUeZ0bi2tLB2GD3NNY1fhJnZjkBqbdlHNIzUzRoq8aKWFr6qfUr74AWTBk/jOwL/U0uWbJEuDQEGcrRM++pwLwEyqpMwTWXrLukmQf7OXPmTPTu3TvHcTfXueob+6rylqwe5E8N6eWh6CaAIv10q0OOsaOjoxhJ0K0O/wCovqk4/1pLTyrBIf0wUgLA/nLd5vdHp/T0KC+lap4YExhTb5P9NN3q5B0n86rwI2ACxsKPYfHWoH3jdBoIBh7l1oAQyzyKd5y6dUerlnY4sG8voiNuK3SSOzY6YMlJ0NCLIV8uiNOAGvui3c4pYzz53U1j+VxPOqouDQwaK1D5bdqQ8dTG0QqLvg+2tt+0OFPhfX6AuY80fU1mWwRg0HE3HSB37dpVOFK0Rn3oR2YkriwehJ3tXwIddwuHMemmAEa1DmQQ2dUiAIxXr14VcR65i+SmksOogJSxr+oDZkwrDeeKbiNgpJU0HT3nZzxQGvqUH42qn/QVSuthrluKMNlPWt3eC2c8v3pLahot3+l/0QgY2U8FpEsq3Q9Cl+IwEiCbbnUeZATNMgWNgAkYCxqd0nBPAI4itBgAY2wCfH2OwLFTZ7Ro2gwe+90QH61xGEUcmoc+Race854KOneQQIdAjYFgTw6VR8U51fC+0em3Vp3iKGqcSQUMjXFOBbknet2MNI4iwWImMnTQyLQc8CUNUKydLg7DqSfFvaTpzFrtgELuTVEc/LjfLdAPI/eS3vbl86Dj7tDpXYGE60UKGBW4YF+ox7hgwYIcDiN3BiEwVpwr1V9jGZVWUmPSruhXdF+7dg0zZswQDuM333yTx3G3ylNS+5MfXbY0q2sCRgIpOptX7mY4n0Y/k/nVV9rSyE2kiJaAkTEddyvAyLEoKJSmvrIf3Eua1vyjR4+Wfub3R0fNf2nqm0lryRgBEzCWjHl4cCqIcHKORw8Y01LScTTgmOwl3dKuBTwPeCA+Nk4HVzlsrRwKf3dCHCd9IO0UId8FMCq8p/dXi5hI/UKGXK6iBhT1auUORc9594dmeS0f280FroIF5Z5FdBoJGC0KuCoaJM7SOI3ZEGXzrVu35mwNqPaqlaYf5o8ukt7e9gXxwygiaZ3DmGlNK5K9pI0fFwLjhQsX5uwlTY4Ufb+RI2Xk1qhzY9mHOQxFXbfiMNLfJI1CqJ9K5+x362dRt1/U9dnOh7qOjo4WwEiuuOIwEmCo+0VNR3HVZxRJk/NGzvjddFKLi8YHbZfPmPE54x8dutgh55iO2E3A+KAja5bLbwRMwJjfqJSmNB1AaSQ/esAYGx2jcRjtu6B58xbYv98dkZHRuSNIaxR99xS+2PRLjflI2iVBM34hXMzUQ66Bi7ZTiaA7ojnZgUUzYBENxaw0ICtDqslr3MIXqaZLJy9U7uaSlQFI/kxYspUxjCa8lZ0FuSMKMS7LyW4xhIvK0IZ0qL7oZPMyKxcw0mm3vb19jkiaH171Qn8YseIwbmn9rADGc7/0AJJuCv1WMfohqC3cTi/sAwPBEjmMBIy0NKUOo7u7u3AYZXxzZzzP2cPod1HWaSRW1as4jAow7t27V4Bxfv1UZUpqzP7Z0q2u1V7SCjCSY0zOm+Iwcs5Lar/ulS7231YkzXXLft5rHSU5n3F++ZxOmTJFOIz8A0BOqgkYjU+4eV7YETABY2FHsLjLFzNg5IuXDmIdHbuiuV1LuLl7ICo6VpPeEk0JfYo1p10qLp5GOvNo95muLKp5Lvf5w8As6jyHO8g0ioUJM3P1DHmuFWAhVY4cRlpQMz9hoJafIDNHN9FKWrS9rrV8WTn0qPZJAsuyDGMWIcDYsmVLHh1Gct4e+qHvJU2RNK2kT8/oBhj2krYKVzV37LTh0zi5xrH8Izr5wSR4YD/pkoRbyXXv3l2MB9hPBYxVPczPQ8UqvSTGRtoVMGA/afRCXU3qMBIwUlfT9igN/SPN7KPxUEDQVoeRgJH9tM1vLFsaz8lhJMeNe0kra3Alki6N/SmIZhq90AG9afRS0CiZ9x50BEzA+KAjV1LKad9mnZpHz2GkzpNfgD/sHbqgiV0L7HX3xJ2YWAFTJC2Lbml02MX9nUmhEXBpwM6igQ4FwvQSGu4giLMAVrrKYV06x4uCaIt+L5tCY61e1p2ZMya8T+SSm0/VwWQ61mAgH1H0EdNiAMsdZMdexnHP/di6bisWr3JFyLVURCcBadkayMzgjtUGIx4ag1AkTV0wWpzSnQVFmA/9yIzEpYUDsbXNc9jR5nkNMKaEyxhpfFO9/zrYlqHQrb/vBzCyHwRHFEkvWrQoh8NIq1r20xY42V4/9HEoZAO29CoOIzmpCjBynTOfbd5CNv3Iiiu6jWDQKJKmo2fFYVR5VJlHRuRDaojiZ+pqEjBSJE0raQLGP8thnCcTMP5ZZrVk9sMEjCVzXu6dqhxwxAYZWe4AACAASURBVCKPHjDGJ2qAsZNjFzRu0QKu7p6IiFWAkUiFIE/pGWaKniLBVnqWlqoBSo0Dwq6QY2exapJU6ZE1E1nWdGRnZUjIzEyHNZv91DmQFLmy3yyop0kdFk2MCvG1SHE05c06gNIBEMFlhoDUdMCSAPo1RNwZBHluxOgBA/BZw1Zo2mkolu0KRdgtKxIsQCqsYgwjFOhjbwJGfSBkBkoHZ1EnVVszOkdUpZmAUX+WbMZFjU9pi03AmPeZNALM0jaXJr3FOwImYCze8S9863m+1cUBGOPgF+CLTo4OvwOMGvcwU3M/I7qDdH5M6+dcGEnQlqcLvFCBoyM3+QHTgnKTQy5IZiZ1DfXDqriQuaBQ7hAkUn+RDrt1DqZgTIqnkY6sbNKUBGREIeNiINzXzcLX3Vvgw8rv4IWXquL9JoPgsusCrsQqjiQdfHN/VrrW0egzAWPOLGhDXsqAhu0H1ASMJmCUhVxKfozr1+QwlpJJK6VkmoCxlE5cDtl5vtWPGjBmISExBn4BPr8DjBpZBG8EjMlAViqQlSLgjTpUxFrkMorAWrMlgSWDwE5ZH2eBTrGpfkXRM/OnWTQDFO2KgI8WzDqmZIMUWVs0HUVY9LooOrZmie0HOZusRyufDmQR+CUjK+k2bh/1wt5F0/CdczNUe/NFPPPUv/D3/6uM6u1GYLH7dVyNJ3eRIRkWAkwCRn5XswETMOZZhKVObGv84PK5MgGjCRhz3q+l4MS4fk3AWAomrBSTaALGUjx5Qnqeb3XxAEZ/G8BIHUaNNl03MCNeA40EjtZMWFNTBRcKaNT1AqUbIjJOBzKTNOMTa4ZIktMtSndQA3x0GSNcwewU4TBmKqYiK0lP1Tia6YlAarKIuJXuYRobJMTMZnkN/qWnRCPYzxOT+vVCs/cqokqZJ/HGS39H+TJv4PXKNVC9/XdY4HoWl+8AGVaK0VNgRbK2vaHUZwJG4weLI2x7rS2GkvtrS68JGE3AWHJX6+8pM65fEzD+fnzMlKIbARMwFt1YFk9NxQwYExNiEODvA3vHzmhi11yMXmglLUiO3MXMZCApEpHnguG9fQO8dmyF+64d2LvTFatWbcGCZTvg6nESdyLjYM1IBjLicPWMP7z2bsZvC+fh51/mYfaC1di2zw9B528KV5KwLdsSgXNhR+DleQA7drvD98Q5xCdnAWkpQGoUbh33xuHdW7B2yx7s8z+DGwlWpPA7aEnCzfMnEODrgZ27tsDVfS+2bdiAEd17wOmThujd/lPYf9kAjRvWRKX3PkTtzoOwyO0UbkQRCBFupiMDSaAEXDiMMAGj8YPFh8D2ungejHtv1ZZeEzCagPHeV0/x5zSuXxMwFv98/JkpMAFjaZ/dYgaMyQnROOp/GA4OndHMrjn2u3kiWgAjdfwygbREZEXegMeG5XBo3BCfV/8AzRs0QHu7Nvj809Z4+4Mm+HroLISGXkRGcixirgVj+dwf0bFlA5R99Xn89a9P4aU3qsKu41eYt2IHrt6OgcWajISYUKxcMgF9nB3RvGV7/DB5MU5fS4A1IQbJ5/yxauxA2H9WC5U+aIB2gyZid8B5xKZmICvmMlxX/4JBA5xRv0lT9BsxHvMWb8Cin+Zg5+x5CHVfhz2rp2DEgHaoXfcDVG/nCJe9gbh8JwvpVuoxcgcYirN1hUhTJP07gGj8gJWGx8uWXhMwmoCxNKxbRaNx/ZqAUY2KGT+METABY6FHlS9XJRPVKiOGM4a7NaGw3oPGtvUqgxDVNixxiNk5DTsdK2Cr3ZPwH/oJcOOk7qJGo9G2jvu7zgI5jEf9fNDVvjPsmhEwHhA/jDIAZMOlxSI74gK8ls1Gm2rv4t0Xy6Lqm9XRs+dgzJq7EvOWboeH93GEXzqLg7vXYsr4b9C5Y3P06uuEYaNGYvzEafjmmxFwcOiBLt37YPJsF7j7HkRkzFns2b4I3/fpiro16qFD//E4fPoOUmMiEHncHdN7fYnqr7+Avz5XAR+2H4DFbsdwNSoOSZePYt2sYejapTNqfN4S30xdDK9jV3Du2CUknj0D3DkO3+1T8WOfxqhf8y3UbOsIl/0ncTFGM3qhl0aRRHPaqUZpAkYTMN7fQ1MsuRWoUC5zSITpVqdYpqLIG1Vzy4pNwFjkw2tWaBiBUgMYjQ8F6ee1bZqhXw/tlC/c3JcugSL19GjYwThbw0k6qKDUkuBCATjbWN3LNeWgDiJNMu4tzq8+1qnqRWYc4nZMw26Hcthm9wQCfmgIXD8JMQjR6SrsQMUnxiHA3xdOnRzQqmlz7D2wDxGx0bkcOGsMEBmCo4snwPnD/+DN5z7Ce1U6Y8LcrTgVniz2xtlpMUgKc8XckY6o1bAWPrLrgCGzluPotVjEpyTg8mkfzBreFe0af4Rqn3+OYS4LEHL7MjwP7cLC8d+hcbUP0bLr99jhdxHXLp/B2cM78UPrFnjz/57BY0+/gMqtHTF67T74nruKyCAv/PpNd7Rq3R4tu3+HOZsO42IsQD1IZEcDKf44unc8JvVugE8/qIDarftizt5zCIsHEsSuWgfa5J4yZGeZRi82VtHF8VwWZh3b0mtyGE0OY2HW06Mua1y/JmB81KP/39VeiQeMmZlk4+QexocjN7W4zgyAUffxR5cttMZVYDEHvBlItAV6hblW1ao68gLGhDyA0X9oQ43DmEV/iAZgqSq5z5h1EDD65wDGpth7wFUDjLwpXLjbQMRxBC0Yjd4fVMF/Xm2Cep+OxtzNJ3AxlcYsWUi5cxJBm37EV23ew7u1aqHd8BmY73UOFzI5jhYg6SyObhyHsf0ao2KNamg66AdsOHoMB48exg6XiehQqxqatO2F+Zs9cOiIG9y2LEWXhp/gpb89jcf+9RzetGuHQXPXYbvPSQTuXofB7Zvh8+ad0W3or1h9IBQ3UrVtAoFoIN0HgXtHY3LPumjyYSXUbjEAv+69iFMJFtCUh+Yygo8IFrNokW0CRttn0vb6PpfVI89uS68JGE3A+MgXYSEaNK5fEzAWYiDNon84AiUeMBp7QM6eejgYqz1PjXke1jnbU+3zXOiQfXppdcsXrP6S5Zm+Cwgxk3ao+3rMG+qmOi9MLG3ntq+qojNqiqR3OFbA5hZP4siwz4CbIUIgAS2dVisyFKX3E7MsHXf7+/ujW2dyGDXAeCc2UhsO+sSxRABRQQIYe1Z9Fx9VaIUWHWZi9YHLuGUBMq2xiL/iDbdFQ9ChUXmUq1YN/X9egW2ht3FDOHpWIOMGbngvxsJx3VCx6tuo3rErZu06AM+gEATsXIl+LRqgRRt7jJo5D0vXuGDxoilo9fmnqFzuTVT44CNUt+uIzl9Pwpxl27B+oQs6NGmMz9r2xYh52+EWegvRuqU2EIfsVH8E7BmPic510bTaW6jdsh9mu57FqcQ0AYy0rRbAKP8INFUE061O3lUkz8b9LKRizmtLrwkY9XeJDee4mKfpgZs3HXfnNUSzXe8PPLBmwf+6ESgVgJFA7VGCQ+Mq4MOlgjE951xHZyoPLylQ5m4kFgshGV++BJUqEGRoQOOusmq9zvu7r9epCGMdukh6p2M5bG7xBI4M+wS4eVJE6EUJGLk1YFd7B7Rs1hT73V0RFROpIVECRusdAYwnXEbD6T/vovqbrdHGcTbWeFzBTWHQRSHyjCs2zeyD1nXL4Y0PPsA3Liux72IEIrSRA9Ju49rBZXAZ3Q1l3iyPam0cMGGdG7xPXcIl/72Y1L89HDu1R7d+fTF45FcY9tP3aGPfGc2+bI8uvfrgy87d8LldVwweMhHjRozHZ5+1hp3TWMzdcRInw5PFqyLHA4hHdsoJ+O+agJ+c6qLZR2+jbos+mLv3NE4npvKucBjJxc1hIZs6jDl/4nKWXikDGrYfUBMwmoBRreXSEBvXr8lhLA0zVnppLPGAMVdfUBtkBR7p/PlRHMaHke3xmm0TwFJcbovtcmnSgaIgC4rV9WAEjgaupG0993ItbTEjm2IwFuJ1RgwSdkzEHofXsMPurwgYWge46Q9Y6Xg6HdxvWCuYS/X9nLG5+IQk2UvawcEBds2bws3dFdExETotdKAYAdw+gcC5o+BU9T+o/m5btO7yK9Z5XsZt0TaIwe0ze7B+ck+0qVMBb9f8GKOWrYH75Zu4SS85dMCdGo0I/22Y/9MAlKnyDqq17Y7J6w7i+KVIRJ/3xeqpA9DboalYNdf6vA7snBzRpv/X6DdqPH7+ZTqG9OmFBtXqoWnDNmjStAvervEl2nw1D5sDY3EpSfPIKLu/EDomByNwzxSMd6qPptXfQoNWfbFgbxjCbAGjQfZvchi5EnIP22cm907JPLOl1wSMfHnk5UqVzJm7N6pMDmPeubRd7/c2imYucwSAUgcYjZNmq99ovFfU53zIlEha1c3PpEgmDViNYFL2O7akyd7HWg7mUkGhOy2+HyMXW2MY+UzzJ7+gAOP2SXkB4w0CxkTdcTURm/ZxUH26n5jNEjAeCQiEvaMDmts1hrvbHsRFGQCjJRIID0agyzg4VauGj6t8idZdZ2K9x0VEcXtnxCHxhg+8lg1Hl8/fRoX/vIVeE6Ziy4kzuCNdoy/HGFw8uB4TvnXCa1U+Qm37rzFv13FciclEZlQYvDdMxJDun6Dca0/gmddfxjufNkOHEVMwdfUm7N+zATOG90fDtyrizRfL4+WydVGxrjO6jd0C94tARKYmmpd+c+eXlBAE7puGsc510aT6W2jUohcW7wnDufh0MXqhDqP8VeEPh87kMJocxvt5aIoprwIJxj/gppV0MU1GETer5pbVmhzGIh5cs7o8I1DiASMfBmPgC88WuOXpURFfsG22Z8vRZHp6hrY1nRi5WLNFd1FrnkhCAUTGvFbh9wQK8NNxH+/ez7WB0aWVM4LHTF2HsYsmkvYbRqOX4wD3ddb3dP49NfeeYgSM3Eu6mV1jeLjtQXzUbV3sTktiWkmHwc9lIhw/rIb337FDC8fJWO9+DpHpNNhOQXbsGVw66ILhPeqj8vtvoaFDb0xf74YbafxnnIjk8GPYOHsYHFp8gsofN0GHb+dgx/FbiOXQpl7FZd+VmPptS1R+5X/w+FPP4IX3PoXz5BXY6BuMi2e8sf7nwWj1n1fx6t+ewN9fqIY69pMw6rejOBoJxOrbBWrgjxzGE/DfNxkjnGri04/KoWGzHli6IxTnorNAmK2NHOnKnSiTw6hWrLZ2+GyUpsOWXpPDyHdVXq5UaZpPW1pNDmPeubRd77bjZV6bI3C3ESjxgJGEK4CYkZGBK1euwNfXF8HBwYiLi7tbvx5aOrma4eHhCAwMxO49e+Hm6S27m3h4HkRQUBAi79yGVXQXuQ+yBhb5+VTAjrEBaxSKTmO9v/tEMyEzAdE7Z2Bbl0rY1OJp+Az7QjN60cX5pKUwB5uIT0gRDmPHLjaAUQBzOpAWhezbZ3Bo7kS0fa8K3nnzMzS3H4cNbqG4naJz69KjkX71ADa6DIFD5xZoZNcS3QeNxOod++F1aD+2b1mEwX06oEXTL9DGaRhmrDqEsDuZSCUBGbcQe34/lk12QvXKT+OJJ57HP16vgz7T1uLA2RuIDj8G92XD0LNRJZR76m/4xysf4ctvl2Cu6wVcSJUNBjWgLXg+EZaE4/BxnYxvu3+MulVfQ6PGXfDb1iCcv5NtAIy68ZU+6CZg1AdCX0yl7YNkS68JGE3AWJj34qMua1y/JofxUY/+f1d7RQoYCezuZpyiOHS2MYebC55BAUP1ABg5e0w7deoUXFxc8N577+Gjjz7CpUuXctqzbZdlGXio2Di1ig7Vlm0+pqt7xrpYbuPGjXjxxRfxl//5Kx5/4in89e9P4rnnXhDH1evWrta5i4JABCgSNnJbOprAUAjMa+5LnPcza6Tufs7ZDmukT0BakTBo/gEpyo3aPgVbHStiS6tn4DuiKbIvn6RpsjTOUoU5SH8uYOROLxqHMS76di5N1kRk3jyD/XMmocEbZfHGG7XQqPUQrN7lj4hUiB9GGgnRsCXtWgD8di7FxO97oWmj6qhUuRyeLVMWr737IRq0bI+hU2Zjh88pnI/MQAoHkv3MiELStQDsWjQKn1Utg3/873P49+s1MHbJTgTdjII19TJO7p2DkZ3roeIz/4tnyn+IPlPXYMfJ2wi3aPqLMgZEz1mpyEo+Ba9dU9G384eoUukZVK/TEks2BOBqFJCiW5ZnZOu6qyZglD9t6jlRa8n2WqWX1NiWXhMwmoCxpK7V/Ogyrl8TMOY3QmZaUY1AkQBGpUtoXLgkkCDONk0BNYIw3uO1SsuvU8byPj4++O677/DYY4/hySefFI6ebRnmJyfSFiQqGpk/v/aM7RgBohGI3rhxA/Pnz4ejoyOqVauGzz//HF27OaFnrz5o3bIVXnzhObRr3QKHvD2QmBgvltLpOlCkKJO7hKQpH41ZQGamVUSbIsGjkTMByH3FdBSuACNrp9OXVB000uAkCom7Z2K7Q0VstHsaR4Y3AcLPCFsvW7E6bQfwPq8VYOzURQOM1GGMMQJG7iUdexuXD7pizsiRGDN2HmYudkVgWLhw7AjCBLhaU4HU20i6GCigcd7E7zH4q57o6NwXXYeMwbi5K7HjSBAuxqQJcBMy6TCdeodxV3HBezsWThyBkd/+iJFj58Dj5CXcSkoGsqIQFeYOjxXTMXXYIHw/YTrW+YQgKCJZ2tdAMyeDsulUIO0qLoTswPqlYzDtp28xfdZS+J2IQHhcNpKsGq2aLmnuQJkcxrx/fYzPUu4oldwzW3pNwGgCxpK7Wn9PmXH9moDx9+NjphTdCBQJYFTkKHBFQKYWsQJuCiCqvCqd18zLoIBcenp6DufQWFdYWBimTJki3L233noLFy5cEGCo2lWxbd2qTdvYSJOiQeVR9Ktr1u3q6ooKFSqgbNmyWLx4MQgg+am0WLNx6KA3yrzyMp59+in07uWE48ePCneRXEUBijp3igBSPq8CDrNzDCc0HToNMEoGvrMlT8Gxql8DMWS76YGuezJiEL9zOrbZV8BmAsbvPwPCQ7WdXlJTyHotNJuTgNHPn0YvncXoRVlJ5wDZzHQgk0AsDtbICMQnALcTgSTiWWVAIpg3XQNsWamANRnpSTGIi41ETFISIhOTEZOSJiJojiUDgZ5wJsV1TzqQkghERyEjPgnRMQmia5iWlQFkE4jGAIl3kBEbgdupCYgnZ1SvR7MU5y49JIY/CUBWJDISryAtKQJRsWlCp2rTgixYYNWmRpfpm4BRVrR6VHKe/ZyEEn5i+6ybgJHPQV69txI+hQWSZ+ow5p1L2/Ve4OCZN80RMIxAoQFjWhp5Z7mHAm1M4cK0vWY608gFVIcxj0qzjckhjIiIwOnTp+Ht7Q0PDw/Ex/Ozn3sY6yQYVMBRcRcZK1Cq7hnbVvdYI2lXnEq+cAhW582bh3//+9+oUaOGiMOZTzAGgJioaPTr5Yy3K5XHm5XLY82aVcK0Yi+F70cf1gQ5fBdnWbVdQqjryG/tAwYWU2CUdeeANHHdQ65ZDO5smYItncphW5tncei7T4GrJwBLOpBBixINduWO4P2f0Ura3z8Qjg6dYde8sfhhpONuAlhBYRygNG7pkihb6QmO5W44BNAcB+YjHQJeszSn4lbNj6UGQ7KQnWXRLc4J1rQ+KwBntZJlmw2k0Au4Vlc2KDJOh5XGPWwjjZbW2r10ZCKZITsFFmTAYk0GsjOI+rVALqMlHrByI0BN9EwqWZwx+2UhZ5PO2bXvqrk1oI2RS2n7INnSawJGEzDe/5uw+EoY16/JYSy+efhvaLnQgFENkgJgvL5586boG9Iw5ezZs3J+8eJF3LlzR0CYAnAxMTE4d+6c5E9KShK/huQu8iCQo9uH8+fPg2XVQRDHcjQ84UGQp0Ary7A9Gp+EhIRIINAjBygxkTaukLzUfaQ+JMEnw5kzZyRmGgPLMo3lSBeP3bt3o3fv3qI/+fXXXwt97AdBDUXLyYlJ2LRxLT5vVB9/eewx/PLLrBz9RUJqAiQ5qHdnSQIsceBOLBoo0faOJuC7n0AAw9Fi4HkO+BLAyKrjEO/6KzbaV8LGNs/j4LAmsF45qTsR14CYRtSD/yYkJCHAzx/d7DuiZbPGspd0eFy0JmZmtUR4DARi2Ra1/bKMG/tu4VjIFnsacGY/CLIZBDAKB5FAkpVkwiowLyuHy6jl0QdBGIUZyBRhM9vTgJ3GPdQwaTrIMUzWCxg5sjkNCji1kibyEgleLdofA7ZlzbZogJHZpXGYgFENhL6MjB+wB19Zj66kLb0mYDQB46NbfYVvybh+TcBY+PE0a7j7CBQaMBKkGTl3vKaeIXUMn3vuOQkvvfQSWrdujUWLFokYl+Qw37p161CzZk3RCVyxYkUeq2eCzQULFqB58+YC1AgeU1JSsGPHDtEdbNGihYBN1sUHhvcOHz4s+Z999lk8//zzeOaZZ/DKK6+gV69e2L59u4DFkydPokuXLqhatarQxvsvvPCChFdffVXE3eQiUvT86aefYtOmTQJKSV/jxo3RtGlT/PLLLyCw5XeSmCHTkgVyIUNPBaO7Y2cBjBMn/iQ+CimCJtQRbEHOHp1mW6KBjJtaoJ/CrGjAGn3/sTVOxLewJGsANDMaYLDEaKA0/SZSXadhu0N5rLf7Jw6PbArcDM7h1nE3msIeBIxH/fzh1LkjWjVrDNcD+3ArPjoX8BF3CTPZIo7CpUlplmCMIF4Db8SFmRZAdD51DqTgEGHr6TctGtfQIsBRA8nkUgpnmIMs+qKZsJCnS4CaaYE1g38qNHBHLqFWljxfGsxkCPfSaiXnOVO3audc5QJ3mThOnj7XattHNsYyPEyRtI6c9cVk/IAVdn09ivK29JqA0QSMj2LdFVUbxvVrAsaiGlWznvxGoNCA0VgpuXLLly8XgFarVi0BVw0bNhQRLi2bv/jiC+zdu1c+8FzkBH+fffYZKlasiFatWiE0NFSqIzdwzpw5co/i34kTJwrYi4yMFNBJQEdASPCnHhaCRQJVAtC3334bjRo1kvIEeZMmTQINZghs2cYPP/yAtm3b4pNPPhGaSAMNWAgGmZ/pbdq0wcCBA0X0zXK//vor6tatiw4dOmDp0qU5XE0FINLTM3HubBj69+6B//c/j+HHH0chMjpKxNLa55RoJRlIu4O4UC/c8FqD2MOrkHL4N6QdXoL0Q0vuO2aZDO/fYPFeAqv3QgkW74VIO/wb4n3WIePwMlz/pQM87F/AzhaP48jwBsDtk4A1RcCb0sUzzuH9nifGa4CxR8eOaNO0MXZ7uOFmfKxwADWQrHEYKcrNIHQmAJTvEcEWwWKybLjHfWeIKzVOqZ6HFxYrspXcnxXqomtCOlorW5EpNbNOcgJTkIU0XmgMSQF6rIZ1J4vRihVZFEFL3Xo7OXt/U0ORPEyGLGRm61zYzGyRmhMfihRdBon0Ew1nmYDR5DDe72PzyPOr96RREmQ67n7k0/BQGlRzy8pNwPhQhtisVB+BIgGM5PAwTJ8+XSyYyYHjQaDFQBFw586d8Ze//AWDBw/GiRMnhMNIYLh//368//77ePrpp7FmzRr5+NLPIgHdX//6VwFnycnJoo94/fp1kNNXvnx5vP766yJ+VjM5cuRI0BBm+PDh8PPzgyrD9sn9Mz5UfGlSjK1icjsZKO5m4D0GpvFg2RkzZgjHkUCSrn14n/iFOYg90tIyEHwyCH379BIO49ChwxGfnCKi6HQiGZ6Ruxh1Fh4LRmOOcyOs6FEb23t+iN093sMe5/fuO2aZPT3exV7nt+Hm9Cb2Ob+JfT3ew86e1bC+Tz1s7V0dh5xexxH7p+DZ9nEc+e5jIDxQ3xrQIuJVNX4PGivA6Nyps85hdMOtuNhcDiORmuBEHTBy0DhgBG1i70zQlSn5NfhFQyDdmzbz6dxZAZ+8INgkaNShnQVpsGRTH1MTG1P8L1q1HHJ6GLJqzbE11s8qxU8mq2Ai1Ul1F0c0gKHIWfQU9bzSoNac1jbBJXVzqftYggDj9i+fx+kZ3YAUqmoQTpOjqxs1kf4cUKxxT2Xx5gyqNs4F/bLP9IFKKUHfvn3Ro0cPuLm5iVTA+GzJfNkAyILqLQn3bOk3OYxcMNo6LwnzU1gaTKOXvHNpu94LO75m+f+eESg0YFT/WAkYaYhCbh6BnYgJ9XFknp9++gn//Oc/RRxMfUBlUBIVFYVhw4YJZ7BJkybo3r07+vXrJxxCOzs7HD9+XPKyKtZLDmblypVF1Ez9R3UQiP7jH/+Q8jSK4aFoI7hTBwGkOnhf5WGa8UFiuvGaIJgcxnbt2omonICU31uCEOIOgsPTp8+gT6++eOyx/8HosRMREZ8k91NFdElrYW4tEordY7pgyqcvY5ndK9hs9wx2NP8ndjb75wPET2JriyewtcXfsbP5/0rY0fwJbGz+byxvWQarWr4E15aP46jDE/D68jEcH1UHuOar6xPqYEINxgPGCQkJ8Dl0GN0du2h7SR9wR1RcrIZHOEA62FJCXsESWbSKp6VxphZnE6JpgmCOuYw7QaPk065Zzjad3EAGqUsvpwu+tXZ1UbTUreNQnufWwzpV0GmiP1CDUFqGRQErFUuiQpHauty6dSu4nzb/GB08eBAcl3s5VH/vFhdYR2YkLi/6ClvbPIetrZ9FyPQuQFqEiMoJGDk2Ar451Zo9kaTlSdfH7W7tM109I3z+qCZCwOjk5CSAkYZn6r6qw0izSiupMWm1fdZpXDd58mQMGDAA1FemVITzyT4Yj5LaJyNdil5Fu4qZznfv2LFjZS5HjBiBffv2iSGhMY+xrtJ4zn7y/T9u3Dg0a9ZMvk+enp7Sd94rjX0y0qy+s0zjwXVbp04djBkzBl5eXsI4kRuGH5VXxYZb5qk5AgWOQKEBo1p0auEy5j86Gr7cunVLjE24I8uQIUOEK0h9ws2bNwtRLEsAFxAQgNGjR4vOIX0sUueReobr168Xwxdm5kv9GBYctgAAIABJREFU8uXLwnEsU6YMKlWqJAYqvMd6CEgp9uZLYebMmcJ9JAeThjY8FFBkPTSaoUscfhgYaEBDWnnOlyhjluPHUJVjnXwQCQjoUkdxGAk/JVgtOBt2Br2cnPH4//tffD98FCITUwQwElQKtCRgjAvD8cUjsLX/p3D/qgE8B9SCd/+PHygcHPAxDnz1ETy++hDeA97H4f7v43C/j+AxoBb2DPoM+7+qi8B+lXC485PYZfcYAobXBa4fBXQrX0F1QtuD/3CuyRG2t7cXcT45xsWxA8+D96DgklxbBQWuJ3KkCBj5Z6dbt24CGGNjY4VDXVBZ3vujo6DyyLwjgHFnp1ewrc1zuDC3N5B0U1B6Hg4jmykEh5F95HPA549rv3///sJh5IeXz4h69u+lP3/U3+K+z77wXUD3XQSMVHOhOy3jmi6N/VQ0q5jjTJH0hAkTZM0OHTpU/gBQF5wH59yYt7jnpTDt8889+0m991GjRoHrlu9vJUEqTN0lpawyFuW6pTrYjz/+iCNHjpiAsaRM0J+EjkIDRjUOBA7kGtJYhaCQgO7NN9/Eu+++KwYmNERRHMYNGzbIP3a+lHgwphiZgOzxxx8X0TUXPA/1UDMPP8yrV6/GG2+8IXXTmlkdBHgEK9RFpI7jO++8I21TH5Hb+PEgfeT+kINZv359uU/6VKhSpYqUIwfz/7d3HeBRFV0bPz/bL6ICFixIV8ResIsFkY4ECL0rxS4W7FL8pIiggL2LWJCuKL2GEop0CL2EGkoS0jZb8v7PO/eezc2ShCSEzW44N8/N3Dt3ypl3Zve+e86cmZo1a5p5jH/++aeRgUvqPPDAA2jVqhW+/PJL4/TCMvku9njS4U5NwraY9ejZuSPOKlECr73yKpJT0swOLySMxjzoSzFL3WRsWYK06EnIWDkFnrXTkbZ+ZoHPlPWzkbZuNjxrpyFjzT/AmqnAmhlIXzcfWP03dn/2JGZ0rIDfG56DBW8+BsSuNuomH5eiKYSDhGHJkiXo0KGDcThiH5CQS98WQhUhXwTHJR24qGEkcZ4xY0YWgnHKGuCJQ8zI7hjX7BKzMPv6oZ2AY7F+wkjzuqXqLThhdJIGEkaapLt3727IMYkUNW/8jDKds88D708ZBidZMImws40kjPwxOWjQIKNJpYZxypQpx/Un8whRPkkRTml2yil9ESgzP6ckUPyRw6k8gcT4lAoWxMJJpvr16wdarNhOaozF6iT45BQGUcwCVSUKDclMwsh5/9QY09JGshx4sK08JAx8rveKQE4InDRhJAmTgwO0V69exnRbsWJFQxS5IwoJGT2RS5UqZTyi+YHlL1n5kDI/CSO9ks8880wzD5JfZLKkjZTPOVQ0SZMwUsvI5Xb4knLKQE0jHW3o/ELySZJK7SVfdjy4jA4Jba1atYxcJIn0mOY8Sp4kmpwLee+996Jly5bGu5r5vvnmG2Mmp9f2sGHDTJ2s23pJ+pB2LB6rlixEj45tUPKsEvhwwPtITIw3Ti+cTseT6wnCS9N0EuA6YhbWNvMaubh0gU5O0uNaMiyX6wfSAzvRKt8sln0AxyYNwJRO1+L3RqUw/826wO5VNmG0dpkRbAsakjCy70iUGjdubL6k+GWciU1BSw6NfDJGcwvpjEVSwXl9Tz75pPmBIj90csvHZyd1eOKw54eXDWGkhnHjx12A9Djb3G/PUWUV9mkFlsFd4k5UvzW+rVQ0Sf/yyy/GTEvtGz/v8uJlisD2BN6fqK6ifi7y8sfnyJEjjdPbyy+/bFZfkGeBL+iiljm/9Us7mI8WGDoU8vuQJls6Dsp3qbPf81tHKKUXUs92cv45v7v5fSUauVCStaCysE/ZXwzpnEklCRUuShgLiqjmywmBkyaMLJjkj7uu8GVJTSLJHr2RadrlMxI/zlOkswq1MNyLWb54+cKhtzTnRZFwkLBxqRt6VPPXEl9SPPjBJ+n7/vvv/U4v9MqWQ74IaTriSdPyuHHjjGn7pptuMvUKaeQva5oMaYrmy4GnmKGdJmnnPDQSVf5CpUc312P0k1n7ZZx46BDGjP4R7Vo0QqUry+DnH7+yaaL1vjZ+Hnypmgt68aYDrlTb44KT7Qpwco4fATAycKKavZ801xDkvMm0g0iaPBiTW1fEuAYlsei1R4Edy6xnNEubCYaCYMFCEkZ6oFPzSkclahvlkD6R+3AM2YbcThJDYkCtIscwtW906uLBMZtb3rzgk1t+MUmPjShr9gqP+aSrIYzi9FIYGkZnn/Ezws+uzO3jVBJ5ITNduJIMYkzZRX5+H1CT+vzzz4OmWk65kEN+CMh9uIXSRsrN72Z61fJ7m4Rx2bJl/uaEezv9DbEvOLeeS7vReZHtdOIQmDbc7mXs8rM4fPhwowzh+1bnMIZbT4a+vCdNGDlYScD4a4aEinMQ6S3Ng8/kpcg5jPSE5jwvrm0oc4I4j4YvIJqB6elM0wHnSHEexp133mnm1QiMnFtEL2mSNpq8af6WDz5Dfsk5X2B0iiF5pbaTGkUSRvkilHQin9QhIZ9LGn6x8kuGE4m5viRV/lxQnIdxgM4AYnftQZvIZripRjU80agOZs2aYs9u5IvI8j0grzNeunZoyJ5UWMDQcEV/Xtsbm7Mq6eXgPoyESQMNYZzYsBSWvFYb2L7cIoziFOHPW7ALkmoSJM45vfXWW9GlSxfz44B9yZdQuJ/UWOd28kVEUsH9xTmNgRp1Ekc6E3DeVG55+exE+OSWf+R7z+OP7vdiZpcqmNmhIsZ3vwcj3nga/fv3RZ9+76Bv/z7o16cv+vXpj759PkCfvv9Dn37vmdMff4I+4ueRMrCdr776qtG6U3vPtvKHEz8TfM50vJb2sP1yHcohNTGUmxootoN9xmW3+F1GJzdaK6iBYzrBgunYvnBpI/GnrM4+Yn/SbElHw9tuu80sQSaaRrZPsAjlvsuLbGwn282l02hJYsjpM+xnOojwWW5nXuooyjQcu9IWjmFa6WghYzynYqlJumDvNc2VPQInTRhZLMkf567RhEtPZf66oTaCWkQSQv5Cp/aQZJLrGNJLmmSMJhGap/lBpsmak5E5wElAOEH57LPPNh8GWZ+Rv/xpGr7qqquMWVpIG0kfNZU0pwhx5JxKfmD4YY6IiDAklI44coiG00kYeS2npJOQWiQu+8N9pElYP//8c6z8d61/Ueg5cxbjsiuvwuVXXYmhIz7CrtjtcHu4QLTP0iqSNNpOq27uZmeTxkwvX/H2zV9oeSHTBZgkMd2sacgVDek5TMKY+OcQ/NX+WkxoeDGiX68HxK4z68+wfvqOnyxppWmHZn4SRs4d5bSDc889F+edd57RNnNKQDifJUuWRG4n28blnzj9gSHHOOP4OeCZW14+OxE2/IGS03nVOSXQv1ZpQxjndK6C9x+4ENdeUALnnns2zj73TFxU+kKUKnkBSpW8EBeULI2SF1yMkqXON6c//gT9QxmlHfw8sm95coks9jGvpQ3SHoaUWeJDOZT2cdxSZv6oZRz7kdNj/vOf/5h7PmNbGUr7mDaU20bZKKuc0kbG0xLE/uPJtsr4ZV/zOdOec845Id++vODP7yX2I8cv28t+JSa8zkv+UE8j45HtlO8f/mCn6V0Jo7zBNSwMBE6aMIoWjgSRJIqaB/5ipRaCWj3OG+EvOjq08JcPTdJ0euHB+VCMo3fzc889Z7wTqQEkCaGWkuZpekzTSYUmZM4V46LZjOOXmRBG1s1fkqyDcw+5+DYX7qbTDddr5AR2pmW5JISiZXQCKJpKieM900o8Q1mfjWXTvH7LzXfg4YcboNbDjfDAQ/Vw/8OPYcCwTxCzazviUxIz18EjO5NVWLheYAZpoo8b4zkeSIJ8hGR7TG5YHxeUsbbO85ilp2kRj8eRSUMwiVsDPl4SS3rXBfbGwOv2WMv92KRV2lyQkF9INE2yX9n31DDyFy/n0nAeGJcjCueT7cjtZBvZXrabWnGOfY5Xmvq4+HxuefnsRNjklv+nj97GhGcexPROlTC1zdWY8vxD+GngGxg5cjiGfvwhhn0yFJ8M+xifDBuOj4d9imEfjzRxWeJP0D80cbEd9I5mOzn1gP3MzzY1jPxssQ0iJ9PznnPF8tK+E7X/VD9n//G7hvLSsY2maGrXWrRoYb5L6BzHdlIbxbbJmOaqCadatsIun/JLv3B5JF5zVYk77rjDfGdSM85pQIxnWunLwpYjmOXxfcH6+B7i+4QaOG7IwHaGw/jMK1Z0xOTJZd9oraOWXDWMBXmjaZ7cEDhpwijki+SKmia+QPglW65cObP1HrWHNENzbhfnBPGLl5OrSd7EgYXOAtQuyrxAlkkSwl9JJH2ce0JiQo0kvZZJCDnHkQSOB03NNHlzK0L+yqIJ+rLLLjPXrH/mzJlZMKCsPCTM8jDgxpmG5Jh1sQ2cF1mq1EUod+k1KFv6atS85yEMGDYc67bvNMtR0xWIdNDUJMTOkDv+4xPOIbS9WPPBEf3EU4iivVwKS2Sd9Mim5tAs5eNNwuHJH2Fy22oY3/BCLO5dx9Iw+rz+tDSRn8xBk7Q4vXCnHK7lRk0wsRLyz74O1ZMyUjNN+ailZsh7OZ3xvKbmmmORadlGnnTG4o8gOv5w2SXOZ6RmnVpsKSenkGUW9ERyLLZ9+axxehnXpDTWfdQRSNhltjh0uVOQ7nEhPY2nG640H9JcXqSlp5rTH3+C+tkGnvzBxHnKJFSc88Z1GOlVyx9xlN/ZPtH2C54FbV8w8rFtlJMnr/l557xpkki2k9NjOMeac5spj7QtGLIVRh3SLyyL1ww5ZtlOTiWiqZrjltMqJk+ebOLYRufnojDkKKoy+N3GtvDHDskxHSBpDaMCQvAoKtkKo17pX+lTjltZVocrgoiG0fkec16fzHe/5j39EDhpwkjIOAB5cvDyi5XavLVr1xoCSccULlPBc//+/ea5EENqBvmcxI9fUlIWQ37IGc/n9IbmwbmETEfSxjqkXn5YaG5etWqVcbaJiYnBhg0bzF7TnMfIsngynZRtLvLxj21jGTzYRsq1OWYTtqzfhHUr1yNm41bEHU1Eaga4k7E5SeBMjYGEkZ7N1uqNFqMsZMJIsmh81z2JRsP4V9vKZlHw6NcesbykvW5DZCmFRZ3zAURAUpJ4OrpQw0gPcu7+QXx4SP+EcsgxIdpkaZpTXmc75LmETMeDY5sOVtSk0zTPyeYk0vJc0mcXOuvK77U4vYxvfqlZh9G5rI7H5yq0hbulHSTG3333nZmjyflu7GtO1ZDn0j6nVj6/bQp2espMeZ1jgN8lQ4cONe3khgCcNiP9KW0LtpwFrU/6RPLLdyDjSZpIpLisDud688cev5sljeQJ55Dt5Pc228l5qZyixA0m2M5wbpfIzvHI/uI9Dzr10MrGOYxOL2l5zjTOa5NJ/ykCeUSgUAgj65Iv3bzUy1/y/BDLwGVeIXROYiblSihf1lIH0/KQLzhes0zRiEj5Em8SU/vmMvo3uc1z6KzfXNOxhF4vPA0J9JmNNdIzLMImhNF8lPlPTqMmlD1JJORyJ7zOe5hp5xbGaeW39k0hJz2CxIkf4J82V+PP+ufi31cfAHYtAzxcnLdwvKT5IiVhpNMHv5CpXaPmorgd7G/neGL75J6EkQt388VL0sgvahLpU3544vwaRi6rs2FY51OycLe0gz/UaOKj6ZKEkX0dlHaKAEEK2Z80OXNqAZcJo0ZKfuQGSYRTVo2MWVbAz6kQRtG8USPlTHPKBAliwXwfsJ2cF8/pBvxBR0tBcTyUMBbHXg2dNp00YRQzTk5N4pePEC0heM60orVzxjmv+VzyM57lCbmUdLzP6UuO5JD5pQxnOifRlLICQ+evt8BnFllMs9ZW5DI29kLJ5IXU3qXZ+xgLT2TII/NeyCE1fiR7+Qstk7aQVbPfjF2zve0fnV5swsitA5e/5iCMNsG1RSpwQA0TTdJODSPNsXIQ71A+ZWw4Q+cYCbxmusA4mjC5exG1izwLc2vA3LCjhnHrF8+Ay+pwa0CnhpEzZK3F4ukQZTnNm90W7e0U/VsGnqB/2I/SXmr6OZeRc/porg3UMEo6+awJVrm1oaifyTiVdlKenTt3Gk0NiXG4axilTySUvuE9P6fUuPHHHj2mqUl1ahjDof/YjtxO9ivfOySK/EFLj2hxrnT2eW5lhPIzaQNDHk6TtGoYbVA0KDQETpowOiWRDxbjeC1kMDBe8sgXUnb3zCOHfMkFEkXGSx2SliHzkug5nwUSPynTmS+na6aV9CxHyjILcXtIGLmeYiZhNArELMTQIok0T2eSReva0hKSXlJLWIBQzNtmDUY7v1TitkzSk9pVxthG52Ph648AsauokjVyiDw5tTsv8c45jJwjRBIhhNHZh3kpK5TSUHYZX9L3gfJJ+4QwUrvIk4QxKJo3T9yJCaOMhZPYGlDaeSLCKPgIXpJP4sMlJGGkhpHzFwMJY7i1KVBe5z01jCSM/JHD+eI0SVPDGO795xxnbC+VBmwnp8ww5Jz2oHw+nYKcwmu2UfqVznYyh1EJ4ykE/TQt+qQJowxUhvyikXvBk3EkbhIvGj8+F/LFNPIlxXim5TNJYy4c/yStU2PpLENkYRZnGpGBafNjlnbK7xDDvhRzsK3VM7yPC3Pb7NCYmKlJtOYzOt7fwhitcviAR75CIZm2lpEmckaxDIZuOr0MwYT2lTGm8fmY/0ZtYM8as74PkxQGYeQXb+AcxnAijOxbjgcZG3YvHBc4x5TpJvsHEeOdhFE0jEF5IdkmaZnD6DRJ+zWM7Gj7tAKORXusMiIPh2CTV8Io6SXMQxVFmiRQTs6dFpO0EEb2J9MFpi1SwQtQucjPkJ9Tat74I4dzGGl6L24mabaT895JFGUOY3EkjDIUqGGUOYzz589XpxcBRsNCQeCkCaOQN6c0JHsSL19Q8txJ1CQNnznTMV6eSTxDiXNqDpmX8UIwpR6mccYxjbNuZ3mSJ7dQ0ktdvCfh4jxFuutw3qKfqJGs8aHb1jraDi40O/sPSW9rfhgv7+/8hFYxDrLKuuX0E8aKGNPkPES98RCwZ6W1ywzTSEV+ofJ/kRthzH9pRZ+DY8b5A8E5hrKTjuOABENM0jTvcY5Uds4g2eU/URzLz+mkSZpe0sEmjJy/yJUNSDC4Bqt8Liknj8D7E7WxKJ9TZsorGFMW9idfvFzZQQhjoNNLUcpckLqz6xs6pwlhpIYx0CQteQpSXyjl4fc+CSPnMNIk7SSM0u85haHUjrzI4iSMqmHMC2KaJj8InDRhZGX8sAW+WJ1fNnwmLxERTiYdO9PJh1bSSJmS1/mccyelbknPMJBMZhfHcqRMZ97srkWGwGcsg5yQZJGnMQaT/DFSCBu1pGIylmV0zEObrFlsTxRABQpZHU9z2OX563cn4cjkwZjQviL+aHweFr7+EBC7wiaM+dMySRWBocxhbNOmlVm2wjJJH82xLZTV0Arzj0A5D7kXAC3NrElh2pa9zHzkx8Gkc5bJ68zysj5hedb+3q7EQ4jdsQErli7A7FnTMGPGLMyYvQBrN+/GniPJpvdEdjMmOCHQtOF4L+n8zGHMKk8+79yWSXp801zmMAoeJ2GSFqno9MKF80mkOIeRhDE7YszPBg8JJX+ohoFyUmNM54HsCGNg2lBtU05yOeUXpxdqGIUw8gegfOc50+ZUXjjEkzCSKAphpLMWfwAUl8PZT845jLqsTnHp4dBpR6EQxtBpTnAl4WtRiIrNHSwBHC/prGRFCFHhySlVWSUGlO+ON4RR5jAu7s05jLaGkebrQjgSjsVjcfQitGnXEg0a1MP06TNx6HCC0byKl7jbWOh9/rUfXayaZNpnTVWwsGOkxywFY2li6bRhLW1unnN/xbRUs0sNvD6z86GJ50LoNmk3fo+8oRO8Vai1JyPpvNkFhzvgWPtvW3nd1vzT1DhsXvw3Ro14Gy0b1sT1VS5H2Ysvx4131EGHVz7ExCU7sS8FSLJnGhjYTBssAss5b/SSpjmaGkb+spetLwsB4pyLcFte0iSMEyMuwfohHYGUfYYgE0O/6ZmyniRhJG5cVofrMNIZhBpG/jhgO50vLAobeJ9zA0LjSaC81DCSMGbn9BKYNjRacGIpRG7nD2WapEmkhDDKsjqSRvKcuPTQTkHlBNvJ3cZkDmNx8Xon8s5+4hxGMUkrYQztcRmO0ilhDMdec8osxMjEide1rZnjTi+TB4OEcXzDC7C4d22LMHpJ5RzaO2d5+bxOOJaYhTDOmEbCmOgnh1Q2kZt64DZ/JHXGME/Nnttae9Mo67wkX15w/UAnYXTLXFCzIbeH9k5DfjzpGcZJ3eexNL0p8BlNr2GP9opBRlNCfJjHnhbA5jHKgs2N5J3rsXHWWAx8qSMiH78DDevUREREfbRv1xmt2z2Dlt3ewjPvfY7vJy3Ghn2pSBL5KZfXYmGhQBgnNVXCmM+h60/ufOEyUgkjPy9ZiYgfrDC8UMKYtS8Dx3sYdqmKXEQIKGEsIuALrdoiJoyyDmPbtq2NhpGE8fChBEMKLWJoW4TNUuYuE08lIOjVTc9y8i5bA2aiM+jBTTJrz2O12R1N/YZ4eizCaDbmJuk0ZNCDFKQiBWnweawNu30ZVDN6LHZKfmw0qtaL0FpehsvNpGD/6pkY/+l7aPzwPbj33vvx5sBPMHneEmzeuglTJ/2Bd3q9iMcfqYtOz76NsfPWYUu8G/FCGo30MMuwFLWGUQmj3RkFCAJfoEoYlTAWYBgVWRbn+FUNY5F1w2lRsRLGcO/mIiaMxxKSEL14qX8dRkMYDx81ij5jEk2n2ZdnIpCRZDR7aUYDSEJHszPAe/8qStQ6cqmiDA+4bFGG24N0l2XOlrmixszvSwLciUB6iklLY3a6matImuqC10dal2p5JbE+2yTrnyLAin3pQNoB7Fm3GONGj8KPo8djwYa92HIkDemeBGxdPhNjPnoP9e64FQ83aYf+P/2FmVv340CA1Vs1jFkGYRYTWTh8vJwvXMqrhFEJYziMW5HROX6VMAoqGp4KBJQwngpUg1lmlnd1kE3SGUByfAqWLVqOdm3am3XOZkyz1mE0ZJEaPhLAtATg8FbExSzHnh2x2L5rH3bt3oYtWzZhzaZYxOyIh4tqR7bFnYiMuB04vG0DNq1eiTWr1mLpmm1YexDYmWo7GHmSAN9heA9tQsKOGOzdug17DsbjmDcDHjcJZAISD67Bge1rsHvzfuzf60aiG0h0p8Hrikdy3C7E7d2NrVt2Yte+w0hMTkeG2zLTk5Ra+wAl4mjMAkwb1heNbr0JNz/aGF0/+QG/r9+O3facSfFfUsKYZRAqYQzm5z+PdQmpkPmJzKZzGPMIXognk76lmEoYQ7yzwlw8JYxh3oGGZPnbUBSEMRXLFq0IIIxxttHWZdaCxP6t2PDnDxj4bCc82+VpPNn9RTzZoyeatW6Nhxu0xBt9h2JTzDYgNRk4ugfzJozGi091Ra177kOlCpVx2z0Po0vvwfhx+r846OYOOi54EjZj+m8fY3DvF/H2S73xxY+TsWV/Erzpx5ByYD0mf9cfb/Vsi5bNn8I7g37Egi37EU+9Z9oeLJv6Kz7s3xet2/fA0B8nY1HMPmu9Mh81i1RHspJYbI8ah59ffwYPX1sNle6vh7ZDvsYv67dhJ/c1J0eyeZISRiWM/o9giF4IqVDCaC3crU4vITpQVayQRkAJY0h3Tx6Ey/KuLgrCaGkY27Ztj/oNG2D69Kk4fNgmjJxH6EkEYjdgyVeD0eHum3Fz5Ztxy+210aLDU+jxcm90eeF1fPXtT9gXswLbls/EtPG/4fXX3kCDZp3QIKIdGtd5FM0b1EZEZGu89N5AjJn7L1bH7sexxB0Y++0HeKVTS9R7sA669voE0ZuS4ElNQPym+fisVys8fmMFXHr1zajVvje+XrgW210pSDuwDBNG9sZTbVvjrocb4YUPf8C8rUeQSldunwtIp/YyHp64VZj984d4odGjqF7uKlz3aHM899U4/LV5L/bY629K7yhhzDIIVcMoAyOEQiWM6iUtw1HGgtxrqAjkFQEljHlFKlTTZXlXFw1hjF68HG3atUX9hvUwbYYQRjqnUMN4FIhdh1XfDkHH225EhTLXosr1tfHa+59g1vK12LLvMOKPHoR79yKM+vAFtG3VDPc93gxPvv4x/pq3BjErl2LRlNHo3bMD6tatg3qdnsegnycg9shuLJj5Owa9+jQeuasWGnXsj+krjuDowVjsWDgW/Vo9glvKnI//lK6IKo27od+UJVgeF4eDG6biu/e6oGNkSzzSpBP6jfobq49mIDndJozeeOBIDHZE/Y63OjXA7RWuwgUXXIaaET0weOJiLIw9igRZTokkE+r0EvgCCrwP1Y+OyBUor85h1DmMMjbCIXSOXzVJh0OPha+MShjDt+8syYuSMAKg08uSJUvRql1b1G1UD//MnIpDR+LsNQBdQOpBYO86rP5yINrfWAPVr7obd9bqihGjZyEmLhXJnAd5dDu2z/4UfXs8hFvvuh2Nur+GD39fiHUHvfC5jiFt9wr8+elb6NGqHm54sD46vj0E0/9dgbmLpuOHof1Q++578XDzV/DTP2uwaeMyLJn8FZ577B6UP/u/KHFeaVRs3Bm9fpqGySs2YMO8sejXtTEaNmiGVj3ew2eT52Jbij1v0X0MiN+GTdN+wMdPN8PDVcuhZMmyuLjafWjy0keYuPIQtiV6kSxL/djzLlXDmGUQqoYxBL9ThFSoSVpN0jIWQnCYqkghjoASxhDvoBOKl+VdHWQNI2B2TFgcvQQt27fG44Yw/m0TRkrOpXOOAAfWYc2XA9Hlpltwa7W6eLjxm/jx7/XY77ZWvTl2YCXmfP882jx6GSrdeC16fvAZJv67D/u5lA49S1x7EDPlU7z/dDNUvrEmand+GT/OXoR5q1bgn1+/QOv6j6JOs24Y+PUYTP7rF/z+7QC0r13ZeRjHAAAgAElEQVQLFUtfgtJVq+O6RpHo8P7X+H7yAkz/9Qd0rv8Iatdrh14DfsLUlduw18WlfDxAyl5sX/Abhj/fHI9XLIsLS5RAiQsr4faIF/D211OxfJ8PybZ20biB28RRCWOWQaiE8YQf2uAnEJKghFEJo4yF4I9CrTHcEVDCGO49mOVdHXzCyIW7Fy5d5CeM02Y4CaMHcO032xH+O6KvIYw1azTD4y0HY9SMHRZh9KZi/6aZGD+yKyIfK4fr7rwBb4z8HrPW7cFBD3CMviWew9i/aDS+fa8rql9/E2o2ao/+v07BPytXY8XcCXilS2M0j2yBZ19/DQOGvYmBH76OZk0jceedtfBI4/qo1bQpmnR4Fe8P/hmfDhiJOvfVQ50WvTD8j6VYsScZST46w8Ti8Nq/8EO/DmheszyuPOtcnH/21Sh7Y0P0+nQK/ll9AHvSgBTOX6TFTtypfWqSDnwBBd6H+kcsUF41SatJOtTHrFM+5/hVk7QTGb0ubASUMBY2osEurwgJI6s+mhSPKJsw0iRtOb0ctj2IfYD3ILB/JVZ+2hddb74Vd93cCvXbfoLRM/din1m/xo196//B6A/boHGtsqh8e3W89flPiNp8wMwVpEbPlX4QO+d/Z+YeXlutBu5s0An9fpuBJXsPYfuGefjk7Y7o3OpxNGr8ECI7NkSXXt3R7KmX0br7K3jr3ZfxVNeWqP1AI7Ru9gK6tH8Fd9zdDBE9PsLouduwPT4NHk8iEjfPwNTPX0HrByuifKkz8N8SZXDN9fXRqtcITFp5EDsSYXZ5IU80UxdpjjbrSSphdL6wOPwD74P9kchvfYHyKmFUwpjfMVSU6Z3jVwljUfZE8a9bCWO493GIEEbOYaSXNNdhjI87ahFGI9sR4NC/WPn5u+h8Uw3cfkML1GvzMX6Ztc8skcMdX45tX4C/PnsSTR+6BBVvuwGvjByF6RsOYa+HS2+nA7692Bf1Hb56uxOqVr8Nd0U8h35j5yP6wBEkxK3DpC9746U29+GWKqVQtcY1qNmgMZq8PAhvfvYzxv/xFQa93AEPV6uBW6+5E9VvaIAqNdugw9s/YNqaA0hxJSJl7zLM+vINPF//Flx1wdk485zSKHdTA/ToNwp/LdmJ2CTgWLplPifHNRvHcCFws5WNEkbnC4sfp8D7UP+IBcqrhFEJY6iPWad8zvGrhNGJjF4XNgJKGAsb0WCXFwKEkSZpekk3rN8As6dOR8LBBGtDFbOP9AH44pZi1ZdvocvNNXDHjZF4vO3HGD0rFvvJvjxe+A6sxerJ76Nn5A2oeNO1aNSzN775ZzkOm0W00wDXdiz4/QO82LYOrrnuLtTv+T+Mit6KbeleuJK2YeU/IzC4x2O4+ZISuPiiUrji1ofxRL+v8dnMaKxaOAmj+jyJRteWR5WS5VCq3F2oUe8FvPr5dKw9mIbkI5uxZ/FoDOtRDw9XugiXlC6HG+5vhm7v/4Cpa48iMcNyiOEe2NQuJsNrQllnnN2tcxizDEIljMH+DshDfUIqdA6jzmGUsZCHYaNJFIEsCChhzAJHGN5keVcHdw4jq6ZJmoSxbdu2aFyvEeb9PRNJBxJg7w0Ib8YBeA8vxcov3kCnm6rilhua4LHWQzB65nbs4w6ALOTYfsT9+yuGvRGBR2rfg/vqN8WrAz7Fiu37EJd8EJs3RWHg293Q8LEHcNsjrfH0wJ8xf8cRHEUG0tN2Yv+q8fj17TaoVe5slD33UlxY6SG0+XgsxsbEYv+WBZg+/AU8eVcFVL3gPJx7xS147NmP8OnUddiXloG02KWI+ukdtL6vMi4/pwRKX14NjTq+ilFTo7HtiA+JqQCbs90Ds/7iEaTAg1SYF6+NvRLGLINQCWMIfo0ISVDCqIRRxkIIDlMVKcQRUMIY4h10QvGyvKuDSxgpG51e6CVNwujXMNIkbaxa/HcEqQdWYOrQV1H76ktR/oo7cX+DXvhxyirsSQbSqarzpgGpW7B69g/4auRAdOz6JGrVbYImrdqjbpPHEdmmIerUuR89nn0Bw374C1OW7cY+bsYCH3zeA0javQjjBj6DWleejwvPuAjnlb0NPUeMxfw9R+BN3ILoXz5Ajzo1cMV5JXBG2cro0O8rjF+2DYdSUhGz4DcMfa4hapT9D86lV/R/SuHsMpVx0321cVet+nisTis82rgTWr0+AIPGTsSizSvhQgrcXk9I7fQyMeISrB/SEUjZx02yjde38TDn+GA32HtpM84fn2Xs5D7S+JLZsWMHvvrqK/To0QNdu3bF9OnTER8ffxxBDLcXUqC8apJWk3Tun4bQeuocv2qSDq2+KW7SKGEM9x7N8tLPJAom2hOPI5MHY1K7yhjf8AIs7l0biF0JeK19k7NkLSAOsg5j5sLd9JI+YC1TY5bVOYbUw7sxbfR36N6iBeo91gwvvDYIf81dhQQuq0MhOBnQR6+SvYhZtRDffjEcXTp3xIMP1cINt9yM+x95BF2feQ7fjB6Lfzfvw1GXZSb2GiaUiqS4LZg7/gu82L4x7r21Jpo264Kv/5iB2IRU+NL2I2b5ZAzp+xzq1n0Q9Vp2wkc/TMDanQeQkpaMdQsn49O+PdH4wZtw67XlcUON6ri+xs2oXK0GKla9CVWuuwPX3/EQ6rTqgj4jv8aCtWtxJD3d7DdNEzXFDwUNIwnjuo9yIIwGY5lWqoQxcKg7X7h8poRRCWPgGAnle+f4VcIYyj0V/rIpYQz3PszC+oJPGJPjkxC9eKmZw0gv6b9n/Y0D8fvhNZSKO70kA143jh04iHXLVmF59CrExOzE3sOpSMsA3GaeI7V1XLMxBb6kOMTt3Ij1/y7Bwqi5mDd/EeYsWo5l67dj16FkpPos5xOr2XyxeQBvEpIPbcbmVVFYPG8e/l22Drv3JCA1jQs5HkNq0k5s2b4CC5cuwOI1G6xy3D6405PhSdyLA1uXY030dETP/QcL507H3DmzMGfOPMyZvxh/z1qIafOjEbVyPWJiD+Jwmg8yn5FTMIuUMHrisO3LZzE2oiyUMBb8g+x84bIUJYxKGAs+moKf0zl+lTAGH//TqUYljOHe2yFLGLnmDFWIaYDPA6TThmxW4jbzFkn8SLhokTaHz21tJehNBXw805DhS6dPDJLcQJLXWgPReCmTNHo88Hld8NGcnZFiaSi9SYDHhwyu5mObYOlnDSQgA4nwwNIMGl8bkj3K5eZ8y0TAx7wp8KWnIj09Dalp6TiW4kaSy2s8pFPs+pMpj8eHFAdxLTINoxJGGT0nFTpfuCxICaMSxpMaUEHO7By/ShiDDP5pVp0SxnDv8CImjDRJRy9ekqlhnDkVB4+KSZqaQ2oAfdZq1+kWi6PIJIw0jPsJI9MZLWMq4E0BDBl0Gw0eV68hyROi589D7WJGuk0YkwGfyxTI6YU0dVvQuIyWMSPjGDLgNnUassdCTAISW5bsNgTVmv9nyUXtp017WZM5mU1OgV4JoyBhfZicL7Bw+HgFyquEUQljOIxbkdE5fpUwCioangoElDCeClSDWWaWd3XwTdLHEhKzIYz2XtKcY0h1H98/ZFkMbSJHAiaE0TQhwwv4SP5I8Hhaq2IbrmkvbcP0jGWczysEzyZ8nJdpHmTWYUGTSTdJGIX4GbKYAXi9IpjFH5mHaRgroZXCchexGkFnGzfc6ZzFWIRzGFXDWCifNOcLlwUqYVTCWCgDK0iFOMevEsYggX6aVqOEMdw7PgQI45Illpc0F+7+Z8Z0HDxKwmhr8HhB+3C6FxkuNzzpbtuH1yKMJGVWE8gCOY+RpJHmaWoPucezRdxIC4XA+dObGBJHFzLc6WZCJHmn4agZtq7QRFhpPN5UuHxpcDMBC7HJq4/E0SaJDNN9GUjz+eDK8MKDDMur2LBdvkgpha05tctRDaPVI/JRcr7AJC6Uw0B5lTAqYQzl8Room3P8KmEMREfvCxMBJYyFiWZRlJXlXV0EGsbEeCxZYq3D6CeMRw5bJJCy8d1jqegcJM0Hejinet1weX0gYbMOEjkhY5mEUcgcqRrTmi9Imwh6PZyjyLR2XazPTsN0Pr9t2iJ71DLKsjLcQprZmIT7QwshlfooozeDlNEiiSYv5z0yo8/WnmaohtH5wmI/Bt5L74ZqGCivEkYljKE6VrOTyzl+lTBmh5DGFRYCShgLC8miKsdPtihA0RPGadNn4tDho5loUD7jCm0TOZ8Hbm86qLszhMzmk4bv+eiwYmihzf4s8sFn5rmQRbJQEktD5CzTNZV9HlqlGW0On0Vc+O6zSSQ1l76MVPjMvEerUFqxpXxm5b1FGH1GQpJFIYw+ymaIqi0QPXKUMB5HEJ0vMOmNUA4D5VXCqIQxlMdroGzO8auEMRAdvS9MBJQwFiaaRVEW2Y7/CD5hPHr0MKKjF6N9+/ZmL2k/YaSZlwxM2JiEtmmXJCyQMPqbccKL4wmjxSjt+kx+Vu5ggwYnxlkOLsent0RlVlncWsiiFVovUVO0tMWUac15GzNmDDp37oxWrVph/vz5SEhIOGEr8pKAL4OcTrgPYsfXz5tldSY0LYu1QzqYhbtJbCkzibkTf0tsjhEHLnkQQl5INL1//vnn6NmzJ7p06WIW7k5MTITbTdJuHZKWd85dReR5KIeUnd73e/bswcCBA007X3jhBUydOhXHjh0z813DrU054c12HD58GAMGDDBj9p133sE///yDpKQkk4VYOPs1p3LCId7lcqF///5o0KAB3nvvPcyePRvJycnhIHqeZGRfsT95fvjhh6hVqxb69OmDefPmZdtO52c0TxVoIkXARkAJY7gPBZu0WM0IPmFMSDhqTNKtW7dG3bp1MXXaDBw4eCgLUXGSFkvdl1VOavSEg524O2yVoV/DSBJobTFothn04xFAGE0q5s2GMPort8s2pNYiXUIWJYmEIrDXm4Ft27bhjz/+MISRO96QMPJlTPJxSg9PHGJGdjeEcVyT0lg/tBOQsMsQZZFb5GRoyZ4/wuh8ubCdX3zxhZ8wTps2zRApJ7Fwpj+lbS+kwgP7iC9dEsZBgwaZdvbq1csQKe5oIwfbyDYzbbgcgf1C2Y8ePYq+ffuiTZs2ePfdd/H333+buHBq14nwZ1vS0tIMYXziiSdMOGPGDPCHTiAmJyorHJ5z3NasWRNvvfUW5syZ4/8B4JS9OLbb2T69PnUIKGE8ddgGp2SyAP+RlYghGDu9HEswhJGatUaNGmHBgoWIj09EeroHJFMkcdYpmjIvMujMkmHpFzknMbuTX2rO0zIF0wTsPOkc4zbpOA+Rp5kPadJYzjPiAMPQ5KVTjTltU7WpnHMSWa5dHuc5OmUUnaNdvqGiUheAvXv3YuLEiebF27JlSyxevNgQKXaLsw2FfU0N4+7vXsK4ZpeAhHHT8CeNhtHtdsEHOhexXRTU6Qhk63UlPgDnQBn9QwtAbGwsvvvuO3Tr1g2dOnXCrFmzjAZDSBfz8gXN8FS3PVDOgt5L+0Rmyr97926jqWE7n3/+eaNhpMbY8qi3+lRIVUHrDWY+tlH6RdrJkG2i5q1du3ZG88b+pIaR7Qyn9uWGJdtOck/NYr169fwaRmodeeSWNxyesZ+c/fXRRx/hrrvuMhrGBQsW5EoY2T49FIH8IKCEMT9ohWLaLJ/54BNGmqQXLlxgyFKLFi2wYsUK/8smZ7iyambYhMDz+LxO7V/gtcw7tMqxnGAsT2uWKxpMqxJxqrFrMJ7OEkcqaGsmjZbRShMomzjFMJ4HtU/UKj7zzDN4+umnsWHDBvOSOuVfyJ44Qxh/b3Ixxj9RBltGdgPS4+DlkkNm7qXD9FxADSNfSEIeDh06hAkTJuCVV17Byy+/jHXr1vlJlA1F2AXsI75w09O5aJN1sD+///57vP7660bztmrVKnnkJ8NCHv0PQvwiu7GYkpKCjz/+2GhSaZpevny5vxUkWdnl8ScIowv2FU211KSyvStXrjTSh1sf5gS5fD75fOTIkXjggQeM5pimd5li4Mwr/Sqh85leKwK5IaCEMTd0wuGZsBYja/AJ47HkJCxashiRkZG47777MPzjTzBn9kwsXLjQaB6jFi2E82Q8z0VRi00o91ELFyPwlGeLFi5A4GnKsON5PX9RNOYtijbkddHCeYiOmoslUfNMmXwWtTDa1Lls/gJER83DoihbDlPGvKzlR1E+PqeMmWegfLyPjo42JsuhQ4fi8ccfN1qMb7/91piD+EzaUNBw0aJFyOncOH8SFvZtjkkty2FSs0sx/61G2DhrPJYti8bi6CjMmjPTtMNgHbXUYBC1aAF4sn2BfZCdjKybGlOG1KL269cPERERRpvMlxPzONNIGYyT61AOuSQUZY2KivK3g6SYmsXGjRujefPm+OyzzzB37lzzo4BaG8kTLm2U9kk/8p5toMmSc1GpeaPGmNMNiAPHLdMyTSj3XV5kIwnmjzlqix988EE89dRTpj+ZtzA+n3mR4VSmYRt4Ll261PTds88+i5tvvhmck8oxK3M1neRQriUMh9ecyhgaCChhDI1+KLgURUwY09JdWLh4kXm5nn322Shb5mJcU/4qVKx4DapUqYSKlSvYJ68roVKlKuasXLEKrJNxVnzFSlWQ5axcCZUrVkLlShWynJUqVbDzVEJVPq9YCeWrVEH5KiynAqpWLI9qFa82IcsrX7kaKlaqZuq77poKqFbBym/JUwGVKpfPLN8uT+QTeTNDaYdVF2W/+uqrUbp0aZQoUcKcV1xxBSpUqIDKlSv75bTaKG3Ne1ixYkXkdN52dUkMePRSzOpaFVHdqmNEw/K4u/yFuPrqK1G+wpW4/obqFn4Vq6BSxWsNBtIfBlfGG+xzloftqFatGq677jpcfvnl+L//+z9/O8uVK+eXjeVQTimPbS+M9kt5pzKsUqUKqlatatpZvXp1045zzjnHtPOMM87ApZdeatoiaZie8vD+VMpVGGVLnzB09gdlL1++PM4991zTzrPOOgtlypQx45btY9prrrkm5Nt3Iow4dtnWM88807Tz/PPPx8UXX2z6WPrxRGWE8nN+9/Azeu2115rx+9///hfsS1o7qGHk/E0eTnLovC74i0dzno4IKGEM914vYsKY7vZiy9btGD58ODp06ICmTzRG40YN0LxZE0S2jEALczZHs5aRaNEyEpGRrRDZog1a+k/GNTcayhaRrcCzWcs2JmT6li0i0TKyOVq3iDAhr6nNNOVERqI1n7eIREQrns1Nna0jm6JNiwi0bmHVG9GK5bLOVmjXLBJtmtv1tWyOFvZplSnlWjJmytnK5BVZ2K6WkRGmrubNI0BTfNOmTdGsWTMjG7VSjOOZWS7Lzv/JsnI6n3qiFr5rcyNmdK6MaW3L44fWNdCjcS20IhbNm6AZMTP4sD1tDQbSXn/8CWSSNtGpqUmTJka7yHmabK+0j6G0uSBtLMo80k+Un04RbC9Pto9yMZ7tpraRcdSu8uQzYlKUsuelbmcfsd+kvZRd2sn2sO08pV/5nOnzUkeop5HxyfZIf0ofhrrsJ5KPc8eZhuZ29l/Dhg3NihWjRo0yzngy1cJJEp0m7HB//an8wUVACWNw8S782oqYMLJ6t8eHAwcOmC3VtmyOwcYN67B500ZsjFmLjRvXY0MMz43m3LhxEzZu2IIYc25CzIaNiNm4Hhs3bjTnho2bIKfE8bmcEsc0LGsz82/YiHWb1mPtpvWmzpiNa7F5w1qTh/Wui7HKZPot6zeaPJlyZSOfXTbTZ5HTlpXly7l+/Vps377dyL5p0yZs3boV69evx5YtW/xtEpkLEsbExCCnM27tAqwY1AaTW1xuTNIrPmiFgyvnYsuWTdi0ZYPB3eC7wcJ8w8Ytdl+st3BnvI17TiHbxLmKDJmG7aO3NK8pF+MZSn6RVe5DPRR5JWT7pO8Yx2vOSd28ebNpu6QTXMKlfZRT+pDXbCfbxZDxMmbZTl7zZFtDvX15kY9t4WeUfSnt5HVxaB/7kG1iP65du9Y/Tvl9TMcep0OavHyUMAoSGuYXASWM+UUs1NIXMWEkHPz1ypNfRJxIzi8pTpqnty5/4R5/eowX9fHx2aXNPc7tsp673OngmZ6eZk7u8yzlW/FWOqaXPPI895CyBspg1cG6rHayrdmfx+cNLCv3+5zKZTxS9mLrFz0xPqKM8ZJe92EHIH47vD4XXO4UpHtc8LrS4U3zIN3lgyvdA5c7zZx5xSG3+vnsZNtX1PmLe/tOhG9xb39xbx/7l8RQTt7z+5ffxU6tYqi9tlSe8ERACWN49lum1CFAGDOFybwSEpkZUzyvpJ05hae01e44bP/qGUxqcSkmPlEWG4d2BpJ2G09vb0a6WVrH6X7OoWItSm5vpZhl7GQvaU7tkvjsc2lsuCAg/ZhTGC7tyEnOnNol8TnlC5d4aQcJopLEcOm18JVTCWP49p0leZaXfvC9pMMdvrCW3x2HbV8+jQnNyh5HGLkOI5fWOVnCGNb4qPCKgCKgCCgChYaAEsZCg7KICipiwii/cANDQSMwXu+zLkh+Mngg/SC2fN7DmKTHNy6NDR91Ao5xpxeP0S4awmgW6M6ALGDOxbxJJmW19JOpX/MWXl8qloplQcaAfM86QymHGkc9FIHCREAJY2GiWRRlFTFhLIoma502Ag4N44QmZbKYpFXDqKNEETi9ESBx1EMRKEwElDAWJppFUVaW7wQ1SRdFFxRZnTZhnNj8EjVJF1knaMWKQNEhoKSw6LA/HWtWwhjuva6EMdx7sODyu+OMlzTnMFLDmK1JmuPDPq3A+lEhcQWvXHMqAopAUSMg5udAOXKKD0yn94pAfhBQwpgftEIxrRLGUOyV4MgUQBidXtLWXtLq9BKcjtBaFAFFQBEo/ggoYQz3PlbCGO49WCD5jSnKdcC/DqPf6SVxZ1anF1u7SI2iahgLBLVmUgQUAUVAEQCghDHch4ESxnDvwTzLL2YmQxaZy9Ywch3GP5tdhs2fPAkkxyphzDOimlARUAQUAUUgrwgoYcwrUqGaTgljqPZMocglC/JyBx2ecm9Io00YxzUtjbENL8L6IR2zEEYu3u2fq6gaxkLpDy1EEVAEFIHTFQEljOHe80oYw70HCy6/Ow47vn7WLNw9rtHFFmG012HUOYwFh1VzKgKKgCKgCByPgBLG4zEJrxgljOHVX4UgLbWLZlFe1wGzcDeX1Zkccam1DqO9l7TH59KdXgoBay1CEVAEFAFFwEJACWO4jwQljOHeg7nKLyZoCf3zF5nLHWcII03SdHqJGdYFSN1r5jCqhjFXWPWhIqAIKAKKQD4RUMKYT8BCLrkSxpDrkmAIZIij6wB2fvMcqGH07/SSssdPGM0WgBwf9mkFug5jMPpH61AEFAFFoLghoISxWPUo9w61TsMjPfE4PHkwJrWrjLGNLsDi3rWB2FWAJ53qKUMspPlM77W5hSnDJhmGbNjxfJ6Zxp9YitCwQAhIn/l5nUBuIpwaxQyfB57UY0g7vA/JsZuAzXOxZVgHTGhaBn82vQjr3m8CbJyOYztWIeHANrhSjgIZjrUYTZeRMOoeswXqKs2kCCgCisBpjIASxuLS+U6CZ3vEwhuPQ399iHFtK2Nco4uw6LXHgF2rAa8L8B0DMpItUgKAFNJlQlsDxY3rvTwtYuixnzMNrw2rIe8wzLS4gBjsdvhsQucxMBJX9gMhNxHSp/wZYK498B3Zie1zxmDdqP7Y/vVLWPj83ZjZphxmtLgAK1+8AbEjOmHDN72xevK3SI3bDmS4rDp8HsDngxc+03/abcHua61PEVAEFIHwRkAJY3j3n61RdBC4TIUVSBjj/hxsCOPYxhcj6rU6wO61gNcNeDIJI8mJkBUPbA2UIYuZhJFEJs0+DWGUepR5nMQI8gEkchkeQxKJMU8/ISe2Nilnd1ArnHFoK/bN/hlrhj+LBS89jDmdqmFem8swv1VJLO16OVY8dwuW9WuBVX98guQ9G23CyH6UeizCmEVTfBIt0KyKgCKgCCgCpwcCShjDvJ+N4oltkAshcozzHMGRPz/E+HZVMK5JaUT1bgDExtgWZ9sk7Ujv537ZlCWEkoTGmDSNqZOxhsmEOYpFJb5NGI3mzyKLxDeLhpFKSB/gNp3jAZL3I2XtdKz7sjd+b1sD/7S8AlGtL8bSdhdgTqsLMDHyCiz5X1vsmDMG6fH7MvuHGuMMajKpZVTFcFH1uNarCCgCikC4IqCEMVx7zn7p8+VvCAbbIUTPkAsf4InDkckfYELbazC28UWI6l3PTxipRzTJ+I+cz5nXcc1Llk9qyJP35irDDfhIb5QwFngIEUxD5CwSJ9pFgzFZIqH1WoSR2JsIbxJwdBP2//0FJna/H9PbXonFrUthaduSmNXyQkxoXxVbR78L7+7VQIbb361WYRbB1zmMBe4xzagIKAKKwGmLgBLGMO56IXN+jREj/KcbcO9D/IS+mNT6CoxveD4Wv2rPYfTQPEky4TP6powMshKvmShHJ4uMDGvOnMc2VZNm+OsgieGEOi/Tu4VBhjGKRSg6+8om60LK/TgbwmiTxgxxUeLk1FTzQ8C16h8sGdQJUd2uQ1Tk+eac0+EKzO79KBIW/ASkxpmGsTye1sF+Nx1oV8xrPRQBRUARUAQUgRMjoITxxBiFbAqLMGaaGHmfSRg9hjAmTO6PyW2uxMTGFyK69+PAbnpJ0xHCMkn71+vz6xCFUDiKEhLKR8JAyCa94l0TshCFtmCCqw2jQGtYJDWP5rT6IT0DSDPayDQzNxV71iDur+FY/tp9xuFlRkQpLHr2FsR8+xLcMbMAT4rh9ST7PC2touX4kkkaQxselU4RUAQUAUUgdBBQwhg6fVEASSyPZjExWgTSoVGiSfqvQRjHOYxPXIJFr9cFdv0LuJMBL11YqGV0g+v1ZdDdgnsP+9IsU7OX126LFAqTYSh8UuIMSy2A6JrFQsAmjdJ3Vl9mkkVjkqYzTIY1x9HQP1+qmcuI7Quw+QnVoUMAABZjSURBVJMO+LtdeUxpdTVW9WsK19LfgMObjQZYuohhFsJoKxa163QQKgKKgCKgCOQVASWMeUUqJNPxzS86JEsTlXnHR3E4+OcAjGlbCWMaXYTolx8Cts4GknYCSduB1F1ASqx18jp1B5Bsn0m7gKS9QOoRwJUIpKcCJJE0aZJpCHFU1nFyI4P42RpGP6ljn9raRV4yibXkkf1jwOcCPElA6m7sG/s+JvW8C+M63YZ1I58HDnPZpKOmfyyiKOJxZHDeqdV3LDPrc0mnoSKgCCgCioAicDwCShiPxySMYo7XMJIWkAgYIunZh7jJ/TGxXXlMb3EhortVxebBLbHukyfx7yddsGbkU4gZ1g2bh3XHhuFPYcPIJ7F+RFesG94F64Z1w+phzyLqoxewe/qPgGcf4I1DBpLgMX+200wYoRWSouZGGB3P6BAjTjGG9dFL3R2Po4vGYtV3b2ER++mvr4A07vSSCrfHHgemDI4KUs5Mwsgxwlg+1kMRUAQUAUVAETgRAkoYT4RQiD+nVsrSTFkv/0zCyLUW9yHurw8wtk15/NXkPEx7oiSmtLwCvza7DL9GXoaxLS/DpMaXYHKjSzDuiTL4o1lZjIkojTERZTCmyRUY1aQCRjasgsXDXwSSNwLYDy+S4IIbaeDsRyUcJz08HKTQQtRe7ki8pG3tI7EWwmh+EDCf1wV37HocjP4Lu2b8hvhVswF6UcNjluExZNDMe2SZNmG061PCeNI9pwUoAoqAInBaIaCEMYy723AG0SgadmBplSwNI+cfHsDOiQPxc9tqGNe0NKZEXGy2kfu9yUUY1/wijG3yf5j6RBlMbXIJJjUrg/EtS2Nc5MUY36IMJkSUw5iICviqSVX8+8UrgGsLgDh4kIwU+JBiL+JtVxvGKBat6DZ/M6Q/K2G0zf4Ohxj5MWD1L9m6D0hPBo4dBA5uh+/QLv9SOly30fSNWS+TZJGnZd9mPMvgqf1XtP2vtSsCioAiEC4IKGEMl57KRk558VvEwJpbKHHGbOlLRMK/k7H8i5cQM6IndnzaDTs/fxo7v+iBnV8/iW2fdcKuEU9h54insOWLJxHzZVdzbv68K7aN7I4tI57DqhGv4OAsLtOyCz73QaQh2ez4Qm2XEo5sOiWfUewv6+TkQmoCRcPof2ASSBqnRpkZuRqSIY6c1+hKAnxeUx7JpTnoDS/bAypRFFQ0VAQUAUVAEcgnAkoY8wlYqCW3zNHWLh7cyYNsQcyX3DcYGXSO2A+44izP2hSG+4CUXda8xPRDgPsw4D0I+PYD3r2AOxZIo8PLfiDpIJAWD9Az18xd9Bqi6FO2WChDIZMwsteyagJtJulQAzINT5JLi1Byy0CWYTkjyTqLVpwVz7hMzaKYta2yJbNVnP5XBBQBRUARUARyQkAJY07IhEE8CQF5mzm4BI7Zl9iKE+qR6kqz1FBMmMbFti2+4fNaC3fL7DYXMuACKSY1UjRnc+Fvhj4gzW2cdtN9GZlaRS7eLWxHZNAwXwgIfFYfZvaERQqzahitjjteA8m8PH3se2Nytkijfycf6XAum5lpmLa8sM3+0jb5zJfkmlgRUAQUAUXgdENACWMY9zgJh19jZJZhydQwkRyQQohDDMkdFU2GP5g1t0kNrb2F/VpKB7nwk0GbFwoxYWjMomZbQCkwjEEsQtGPJ4zU4jrmGkoChqY35WeAvcOOg7N7aZIm2Xe7DMm3/OczOT1372FvcfVNjhnzg8As4K6EsQiHgFatCCgCikDYIKCEMWy66nhBsxBGsz6iEEbLc9oQO/jgof3YJh9UKpmd/WzNlEUWbeJntgjM1Gwxi5tbUpNs2ISDeS3WyTxKGI/vlfzF2N3iIITWHEZ/vMFbMLe1kLaJ2fwIsK3KPi66TsKYzoXXLRIoJF/K4r1NRy3C6OWOP0oY89djmloRUAQUgdMTASWMYd7vQgYMIaSG0E8wcm+YP59J5iANAfklnYSZpTKPI1/mA73KJwI+n882KVuYcm9vagSPPwTz7HB3PLPzBvYZ7y0NMX8UcKxY44X1cw9xOSx5MuvgvcfjAUM5nOklTkNFQBFQBBSB4ouAEsbi27fasjBAgETMeQSSN+ezU3mdn3qVLJ7KntCyFQFFQBEITQSUMIZmv6hUikAWjd6pgsPrpc4x60FCSALJZ4FEkvckudnly1qK3ikCioAioAgUJwSUMBan3tS2hCUCbrcbPOUgYSsKLZ6QxMC6hUAGxou8GioCioAioAgUfwSUMBb/PtYWhhkC1N4Fk5wJUXTCRC1ierrxp/ZHO2XKLo8/oV4oAoqAIqAIFDsElDAWuy7VBoUTAtQsCvmSa5HfSdAkrrBD1pFbPSSOOT3PKb6wZdTyFAFFQBFQBIoeASWMRd8HKoEikAUBmTuYJTIIN4GmcaeZnKQ2N/IYBPG0CkVAEVAEFIEiREAJYxGCr1UrAkRACGJaWho2bNiAyZMn488//8Ty5ctPOUBOUiiVJSUlYeHChRg5ciSGDBmCQYMG4aOPPsKoUaMQHR2Nw4cPB8UhR+TRUBFQBBQBRaDoEVDCWPR9oBKEOAJiMqaYNMPynodzriHjxEQroTOfNFGeCVGTe9HejRgxAvfffz+qV6+O999/H6mp3P3FqpdpnfVI/Qx5sAy55r3IKWWbRPY/ZzkSz/ITEhKwfv16dOvWDf/5z39QokQJnHnmmTjrrLNQrlw5E08y6axH8muoCCgCioAiUHwRUMJYfPtWW1YICAjpYlEkeSRVJEtC+BjPe2c6EjQ+F1JF5xHG8XQeLMsZx/R9+vRBtWrVULVqVTz33HOGMEq9Uhfz8ZRDZJJ7qTe7e6ecfM76Gcc81CzOmDEDLVq0wAMPPICePXuiX79+GDBgAPr374/GjRvj8ssvN/HUfgqZlXo0VAQUAUVAESi+CChhLL59qy0rZASc5I5FO0lbIBGTqrOLJzkTouZMx7Q//PADmjZtakjb4MGDjadyYL3MIyRUZBCPZt5Lel7Lc5FXyKQzns9Y99q1a/Hmm2/ijDPOQMOGDbFt2zYRzxDgr7/+Gueffz5uvPFGQyKdz/0J9UIRUAQUAUWgWCKghLFYdqs2qrAQEPIlxI/ELDtyxnROgsb0Ti0kn7tc3MnZOqRcZxyfHDp0CLGxsdi9e7cxDzvLZFrJJ+WIXExHMsh7ZxzTCTmUeMaJvEI8jx07ht9//x2dOnXC9ddfj4EDBxoNotTHvLNnz0b9+vUNYWzQoAHWrFkjYmioCCgCioAiUMwRUMJYzDtYm1c4CAj5I4GKi4vDrFmzjBPIL7/8gj/++ANjxowxDis06wpBoxML5/uNHTvWkEAn2aRUGzduRFRUFJYsWYK9e/caQY8ePYodO3Zg1apVhjQ6SR5JXUxMjKmP9f7222/49ddfMX78eOzcudNPZDdv3oyJEycamSgb01E+npSFxJBxU6ZMwerVqw0xTElJwVtvvWXmTzZv3tyUGYjc1q1bMWzYMNxyyy1mPuOCBQsCk+i9IqAIKAKKQDFFQAljMe1YbVbhICAmXCktPj7ekLHbbrvNOITQfEvHkLJly+K1114z5I/kkic1hTTtXnTRRWZuIsmZaOwYcm5g3bp10aFDB0MCqUGcNGkSOnfuDGrw/ve//5lymJbPpk2bhmeeeQZXXnmlMRvTGYV1ly9fHl9++aXRTpJgfvzxx6hYsaJxVqF8PJmWTixOR5arrrrKOLGsWLECiYmJRo4aNWqgV69emDlzpjTZL/P+/fsN2WTbS5UqZUizP5FeKAKKgCKgCBRrBJQwFuvu1cYVFgJ08KBG8KeffsKrr76K559/Hq+88greeOMNtGvXDvfddx/uuecePPvss/65fySXdBapUqUKbr75ZkMQxXRMzeOjjz5qzLtffPEFqBXkQc1hkyZNcMcdd+DFF1/0m7VJPnlfs2ZNtGnTBj169DBy0DHmvffeM0SVGk0e8+bNw7vvvmuIH/O8/PLLRtaXXnrJH/L6gw8+MBpKmsGTk5PxxBNPGHM0vbMXL17sd9oR0szldKjNvOuuu1C6dGlMnz7d1Kf/FAFFQBFQBIo/AkoYi38fawsLAQGSP5qOScDoRSwEjwSQROrnn382ns2XXnop/v77b1Mjn3HdwnfeeQfnnXceHnnkEWN6prmZWjyadhs1agSaoWUu4+jRow0BpZcySR/N0DyWLl1qyByXtiGZE1O1aCyZhmZlOeS5mMcZ70wr5FLSczmdZs2amTaQYLKtPCQ/QxJLmrhvv/12XHDBBUoYBTwNFQFFQBE4DRBQwngadLI28eQQoHlZCBPNyk6yyHhq4LZs2WKI1LnnnmvmB5IE8uBzmnxFm0hz80MPPYRrrrkGTz31FCZMmOBfnoZpqWFs27atWdaGHsuydA3nC3K5nf/+978YN26cn2BKy0gQnSSRZQUezjjRGkpI0ksiTIcXak0XLVqUJTsx4NxNykcNIwkjl+DRQxFQBBQBReD0QEAJ4+nRz9rKAiIgJEu0cyRlJE7U+M2dO9c4rdBx5ccffzQaQ65T+O2335o0QsYY0uz82GOP4bLLLjPzDkm4vvrqK1DTx7KlHmrwaHKuVauW0TAKYeQOMDR9k9B1797dmMZZP8nonj17DGmV+ugAQ5M3SSbN03PmzMH8+fONvMzDe55cS5FEl/WTMEZGRhpSSqLKNvFge0kWeVDLSscZmtcpP8vSQxFQBBQBReD0QEAJ4+nRz9rKAiIgRI5kjMSKJIzzFOkwQjNzyZIlTcj1CemAUrlyZUMe6SDCQ4gmNY7cao8OKNRC0qll2bJlJo3UQbM0TdKtWrUyGkaasul1zYNpOI+RJJNOL6yrTJkyuPPOO413s9RHT2x6MnOtRJK6iy++2KydSCcVOt9ceOGF5p4hZeXi3Fweh+ZsElXOt+S8S8omsovmkkSZGlHOr2S7xfRuBNR/ioAioAgoAsUaASWMxbp7tXGFhQCdQrhlHkkcnVvomELTMT2cSbR4T9J49dVXG9JHcicHiRc9nDn/kYSMWkZ6GnN5G9EgSloud8NyqWGkpo/18iBpI2ml4w0dXSIiIsDlb2666Sbcfffd+P77783SOkxLZxSSWmoMST45N5Hm5pYtW5pT7uk4QwK6a9cuUw/XYLzuuuvQtWtXs+SOyET5WT+X1fnmm29w7733GrIp8xwlnYaKgCKgCCgCxRcBJYzFt2+1ZYWAAMkStXtcG3HIkCFGo0eTLE3BjBdHE5qMObePGj2ap6mNE6JF8kgPZGr9nn76adxwww1mb2Zq9+jAQi2iEEOuq0gCynmOJIzinCJaPjZJrlk/l/Lhsjrctu+7774zazHyuTjRONM781E250HnGpbFfaxJiKmllEPyrVy50pBVzsckGeXOMHooAoqAIqAInB4IKGE8PfpZW3mSCJDYdenSBdWrVzdL6JBAkrDxINmiMwi1h5dccokhjGJKJnGkmZl7Q5OM0Wv6888/N/MZWVbHjh39ntAsi1sDkjBSi0cvac4f5CkEj1pG1suTRG7o0KFGK8jtBJlXiGd2zRXix2dSjpjaWT7lZDkkvdQ+cs6izF9kHhJhztFkO0aMGOHXaGZXl8YpAoqAIqAIFC8ElDAWr/7U1pwiBGiO7tevn9EOkuhxgW0uM7N9+3ZMnTrVzCPkkjo0N3OtxgMHDhjNIef8kQByruELL7xgSB4JJkkj5xFeccUVxkFFyBw1jDRJc73Ft99+2xBAkkNqGunMwiV5uIcz6920aZNZi7FOnTpmjUc6qsi2hYRBtJMCidTBeyGMvBYCSgeYPn36GFJIkzjbwbmMjGfItRvZRprh6VQj2lUpX0NFQBFQBBSB4ouAEsbi27faskJCQMgVtYU0I9OBhA4n1LZxXURq5agNZByXvaGmjgSTJlzu9ELnGC7yTe2iHCR9dHw5++yzUa9ePbMUD59xXiPNyySMzEPNH4npqFGjULt2baPBZJ1cloeON9Rcsn6WLVpIJ2kUTaSEUj/bxCMwpANM7969DcHl4twktCSJbBtl4pI79BDPTZMpdWioCCgCioAiUHwQUMJYfPpSW3KKEBACRg3dn3/+aczIJG90NuG8xb59+xrCRzMuCSW1b7t37zakkQSLDirUQtK8S+ImJI1aRjqacLs/7vHMg8Rv8ODBRrvIJWyY9siRI6ZeruFITSXN1VwEnLvLcKkdmorFSzqQGOYXEhJByk/nHi4DxLo4p5F1cXcbykeZTrae/Mql6RUBRUARUASKFgEljEWLv9YeBgiQ6Ik5l+SRu6Iw5DxFejmLpzNDmbsoJJN5OReQJEs0gCRbPJiGZmPu4yzpmY518WRe3vPgPckc09IUTKcWhowT2ZhOypY8JnMu/4T8OZOwDGkfzeeUm3JKO5lW2uLMp9eKgCKgCCgCxRcBJYzFt2+1ZYWAgJOAsTghcLwmoeNBciVEz0Q4/jnJnFwzrZAvZ/mMIzGTOCGRvJc4Fs1rIXq8ZjrmE3mkemceicstpHwkgiKn1CWhtJ3lMl1+y8+tbn2mCCgCioAiENoIKGEM7f5R6YoYASFJIgZJUmCcPGNIskXi5iRTTC8aOQmdeQLLC7xnmYzj6SzXWYbzmnVkV48zjVyzPJbvJInyLFAOiddQEVAEFAFF4PRDQAnj6dfn2uICIEBi5SRrck1SJSQxsFjGSzrnM8ZLPolnnJA85uE9DwklnTMUAinlSZnZ1enMl9s1y+LpLMN5LXWwDF7roQgoAoqAInB6IKCE8fToZ21lAREQUsbsToJEckdNopA8PncSK96LiVjiaTrmtTOP89opYk5EkfmdpE3KltBZhtTvjAu8drYv8Jncs+zs5MkuTvJoqAgoAoqAIlC8EFDCWLz6U1tzChEgucqO4AWSrkAiKXMRA0WT3VhIvJiH5QQefBZYPglcdgSReXN7Fli2857tknqcZQTKxGdKFJ3I6bUioAgoAqcHAkoYT49+1laeBALZET4nwRNS5SRxQrqccU6iJXkolvOa90JKnXkZz/yBZTCNM07SBeZlfF4P5g3MH1h3dmnyWr6mUwQUAUVAEQg/BJQwhl+fqcSKgCKgCCgCioAioAgEFQEljEGFWytTBBQBRUARUAQUAUUg/BBQwhh+faYSKwKKgCKgCCgCioAiEFQElDAGFW6tTBFQBBQBRUARUAQUgfBDQAlj+PWZSqwIKAKKgCKgCCgCikBQEVDCGFS4tTJFQBFQBBQBRUARUATCDwEljOHXZyqxIqAIKAKKgCKgCCgCQUVACWNQ4dbKFAFFQBFQBBQBRUARCD8ElDCGX5+pxIqAIqAIKAKKgCKgCAQVASWMQYVbK1MEFAFFQBFQBBQBRSD8EFDCGH59phIrAoqAIqAIKAKKgCIQVASUMAYVbq1MEVAEFAFFQBFQBBSB8ENACWP49ZlKrAgoAoqAIqAIKAKKQFARUMIYVLi1MkVAEVAEFAFFQBFQBMIPASWM4ddnKrEioAgoAoqAIqAIKAJBRUAJY1Dh1soUAUVAEVAEFAFFQBEIPwSUMIZfn6nEioAioAgoAoqAIqAIBBUBJYxBhVsrUwQUAUVAEVAEFAFFIPwQUMIYfn2mEisCioAioAgoAoqAIhBUBJQwBhVurUwRUAQUAUVAEVAEFIHwQ0AJY/j1mUqsCCgCioAioAgoAopAUBH4f08EB5YLib+bAAAAAElFTkSuQmCC)"
   ]
  },
  {
   "cell_type": "code",
   "execution_count": null,
   "metadata": {
    "id": "623XKlIO-yUr"
   },
   "outputs": [],
   "source": []
  },
  {
   "cell_type": "markdown",
   "metadata": {
    "id": "8AwnJA9Q_wZo"
   },
   "source": [
    "### EJERCICIO\n",
    " \n",
    "En el array anterior, calcula la suma (sum) de los elementos de cada fila y de cada columna.\n",
    " \n",
    "# ---------------------------------------------------\n",
    " \n",
    "# ---------------------------------------------------"
   ]
  },
  {
   "cell_type": "code",
   "execution_count": null,
   "metadata": {
    "id": "iDhbxEqpAMn4"
   },
   "outputs": [],
   "source": [
    "# Respuesta. Suma elementos por columnas\n",
    "\n"
   ]
  },
  {
   "cell_type": "code",
   "execution_count": null,
   "metadata": {
    "id": "eCazRZxdAFYy"
   },
   "outputs": [],
   "source": [
    "# Respuesta. Suma elementos por filas\n",
    "\n"
   ]
  },
  {
   "cell_type": "markdown",
   "metadata": {
    "id": "Q_xnPslQBP84"
   },
   "source": [
    "cumsum y cumprod no agregan sino que producen un nuevo array con los acumulados de los elementos anteriores.\n",
    " \n",
    "Muy útil al utilizar tablas de frecuencias en estadística"
   ]
  },
  {
   "cell_type": "code",
   "execution_count": null,
   "metadata": {
    "id": "xLqEdCbpAGBD"
   },
   "outputs": [],
   "source": [
    "arr = np.array([0, 1, 2, 3, 4, 5, 6, 7])"
   ]
  },
  {
   "cell_type": "code",
   "execution_count": null,
   "metadata": {
    "colab": {
     "base_uri": "https://localhost:8080/"
    },
    "id": "BOCCtLHxBqU7",
    "outputId": "4a7c1264-ad96-4579-8203-b10cf710f9d3"
   },
   "outputs": [
    {
     "data": {
      "text/plain": [
       "array([ 0,  1,  3,  6, 10, 15, 21, 28])"
      ]
     },
     "execution_count": 28,
     "metadata": {
      "tags": []
     },
     "output_type": "execute_result"
    }
   ],
   "source": [
    "arr.cumsum()"
   ]
  },
  {
   "cell_type": "code",
   "execution_count": null,
   "metadata": {
    "colab": {
     "base_uri": "https://localhost:8080/"
    },
    "id": "UKhspXz2BrnB",
    "outputId": "bf54730d-d8f5-44fb-d2c9-03167e5e5bd6"
   },
   "outputs": [
    {
     "data": {
      "text/plain": [
       "array([0, 0, 0, 0, 0, 0, 0, 0])"
      ]
     },
     "execution_count": 29,
     "metadata": {
      "tags": []
     },
     "output_type": "execute_result"
    }
   ],
   "source": [
    "arr.cumprod()"
   ]
  },
  {
   "cell_type": "code",
   "execution_count": null,
   "metadata": {
    "id": "FtBZZqkqHpv8"
   },
   "outputs": [],
   "source": [
    "arr = np.array([[0, 1, 2], [3, 4, 5], [6, 7, 8]])"
   ]
  },
  {
   "cell_type": "code",
   "execution_count": null,
   "metadata": {
    "colab": {
     "base_uri": "https://localhost:8080/"
    },
    "id": "VgUqEHzdHxVH",
    "outputId": "5c6d5a30-5749-42f7-8f5c-290440b6d750"
   },
   "outputs": [
    {
     "data": {
      "text/plain": [
       "array([[0, 1, 2],\n",
       "       [3, 4, 5],\n",
       "       [6, 7, 8]])"
      ]
     },
     "execution_count": 14,
     "metadata": {},
     "output_type": "execute_result"
    }
   ],
   "source": [
    "arr"
   ]
  },
  {
   "cell_type": "markdown",
   "metadata": {
    "id": "ZT_FjAwQIBS3"
   },
   "source": [
    "EJERCICIO\n",
    " \n",
    "Calcula la suma acumulada por filas y por columnas\n",
    " \n",
    "# ----------------------------------------"
   ]
  },
  {
   "cell_type": "code",
   "execution_count": null,
   "metadata": {
    "colab": {
     "base_uri": "https://localhost:8080/"
    },
    "id": "BsHRD5WSH3XL",
    "outputId": "b52dc279-b580-4f67-c888-b5fd034e69e3"
   },
   "outputs": [
    {
     "data": {
      "text/plain": [
       "array([[ 0,  1,  3],\n",
       "       [ 3,  7, 12],\n",
       "       [ 6, 13, 21]])"
      ]
     },
     "execution_count": 15,
     "metadata": {},
     "output_type": "execute_result"
    }
   ],
   "source": [
    "# Respuesta. Por columnas\n",
    "\n"
   ]
  },
  {
   "cell_type": "code",
   "execution_count": null,
   "metadata": {
    "colab": {
     "base_uri": "https://localhost:8080/"
    },
    "id": "4CUvQL9yH-Xe",
    "outputId": "5b6b44f8-e263-4665-d126-96e02aeb0f00"
   },
   "outputs": [
    {
     "data": {
      "text/plain": [
       "array([[ 0,  1,  2],\n",
       "       [ 3,  5,  7],\n",
       "       [ 9, 12, 15]])"
      ]
     },
     "execution_count": 16,
     "metadata": {},
     "output_type": "execute_result"
    }
   ],
   "source": [
    "# Respuesta. Por filas\n",
    "\n"
   ]
  },
  {
   "cell_type": "markdown",
   "metadata": {
    "id": "LolIXn4mKQ7K"
   },
   "source": [
    "# ORDENACIÓN DE ARRAYS\n",
    " \n",
    "------------------------"
   ]
  },
  {
   "cell_type": "code",
   "execution_count": null,
   "metadata": {
    "colab": {
     "base_uri": "https://localhost:8080/"
    },
    "id": "MQ1Tx7eMJdAm",
    "outputId": "b6697bed-4443-4dfe-d0fd-a8f3191eb645"
   },
   "outputs": [
    {
     "data": {
      "text/plain": [
       "array([[-0.14984572,  1.65486611, -0.18487064],\n",
       "       [-0.93373856, -0.38466797,  1.6925693 ],\n",
       "       [ 0.84559708,  0.95991856,  0.61948919]])"
      ]
     },
     "execution_count": 17,
     "metadata": {},
     "output_type": "execute_result"
    }
   ],
   "source": [
    "arr = np.random.randn(3,3)\n",
    "arr"
   ]
  },
  {
   "cell_type": "code",
   "execution_count": null,
   "metadata": {
    "colab": {
     "base_uri": "https://localhost:8080/"
    },
    "id": "SigY3zcbGND-",
    "outputId": "97e67f3f-cda1-40e7-a0c0-824716df0cd4"
   },
   "outputs": [
    {
     "data": {
      "text/plain": [
       "array([[-0.14984572,  1.65486611, -0.18487064],\n",
       "       [-0.93373856, -0.38466797,  1.6925693 ],\n",
       "       [ 0.84559708,  0.95991856,  0.61948919]])"
      ]
     },
     "execution_count": 18,
     "metadata": {},
     "output_type": "execute_result"
    }
   ],
   "source": [
    "copia_arr = arr.copy()\n",
    "copia_arr"
   ]
  },
  {
   "cell_type": "code",
   "execution_count": null,
   "metadata": {
    "colab": {
     "base_uri": "https://localhost:8080/"
    },
    "id": "QRqyMGXtKn3e",
    "outputId": "bacf15c4-18ee-47fc-9cef-81d57a081d29"
   },
   "outputs": [
    {
     "data": {
      "text/plain": [
       "array([[-0.18487064, -0.14984572,  1.65486611],\n",
       "       [-0.93373856, -0.38466797,  1.6925693 ],\n",
       "       [ 0.61948919,  0.84559708,  0.95991856]])"
      ]
     },
     "execution_count": 19,
     "metadata": {},
     "output_type": "execute_result"
    }
   ],
   "source": [
    "# Ordenando de forma creciente por fila\n",
    "arr.sort()\n",
    "arr"
   ]
  },
  {
   "cell_type": "code",
   "execution_count": null,
   "metadata": {
    "colab": {
     "base_uri": "https://localhost:8080/"
    },
    "id": "Av8H8yUtLsO1",
    "outputId": "787079de-8c81-4441-8621-e323091dabad"
   },
   "outputs": [
    {
     "data": {
      "text/plain": [
       "array([[ 0.61948919,  0.84559708,  0.95991856],\n",
       "       [-0.93373856, -0.38466797,  1.6925693 ],\n",
       "       [-0.18487064, -0.14984572,  1.65486611]])"
      ]
     },
     "execution_count": 20,
     "metadata": {},
     "output_type": "execute_result"
    }
   ],
   "source": [
    "copia_ordenada = np.sort(copia_arr)[::-1]\n",
    "copia_ordenada"
   ]
  },
  {
   "cell_type": "markdown",
   "metadata": {
    "id": "uk6vNo8Ml73Y"
   },
   "source": [
    "Funcionamiento de la ordenación de arrays multidimensionales en orden inverso.\n",
    " \n",
    "![imagen.png](data:image/png;base64,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)"
   ]
  },
  {
   "cell_type": "code",
   "execution_count": null,
   "metadata": {
    "colab": {
     "base_uri": "https://localhost:8080/"
    },
    "id": "9SU_dWH7m-Ik",
    "outputId": "c01a9e14-d605-40b6-85c3-0af9412263d5"
   },
   "outputs": [
    {
     "data": {
      "text/plain": [
       "array([[ 0.90089805, -0.01948627, -0.64887346],\n",
       "       [-0.52120221,  0.83201558, -1.01005155],\n",
       "       [ 1.01673012,  1.55243286,  1.3296292 ]])"
      ]
     },
     "execution_count": 21,
     "metadata": {},
     "output_type": "execute_result"
    }
   ],
   "source": [
    "# Array original. Sin ordenar\n",
    "arr_2 = np.random.randn(3,3)\n",
    "arr_2"
   ]
  },
  {
   "cell_type": "code",
   "execution_count": null,
   "metadata": {
    "colab": {
     "base_uri": "https://localhost:8080/"
    },
    "id": "I8mNfSElA6um",
    "outputId": "4222204b-fc98-4aa8-e718-3e98842c16f8"
   },
   "outputs": [
    {
     "data": {
      "text/plain": [
       "array([[ 0.90089805, -0.01948627, -0.64887346],\n",
       "       [-0.52120221,  0.83201558, -1.01005155],\n",
       "       [ 1.01673012,  1.55243286,  1.3296292 ]])"
      ]
     },
     "execution_count": 22,
     "metadata": {},
     "output_type": "execute_result"
    }
   ],
   "source": [
    "# Ordenando por la segunda columna\n",
    "# Esta es la forma que se considera más elegante de ordenar un array por una de sus columnas\n",
    "# Esta es una ordenación in-place, es decir el array queda modificado.\n",
    "# Recordad realizar una copia si queréis consevar el original\n",
    "\n",
    "arr_2[arr_2[:,1].argsort()]"
   ]
  }
 ],
 "metadata": {
  "colab": {
   "collapsed_sections": [],
   "name": "Clase_4_EAE_Numpy_Alumnos.ipynb",
   "provenance": []
  },
  "kernelspec": {
   "display_name": "Python 3 (ipykernel)",
   "language": "python",
   "name": "python3"
  },
  "language_info": {
   "codemirror_mode": {
    "name": "ipython",
    "version": 3
   },
   "file_extension": ".py",
   "mimetype": "text/x-python",
   "name": "python",
   "nbconvert_exporter": "python",
   "pygments_lexer": "ipython3",
   "version": "3.9.13"
  }
 },
 "nbformat": 4,
 "nbformat_minor": 1
}
