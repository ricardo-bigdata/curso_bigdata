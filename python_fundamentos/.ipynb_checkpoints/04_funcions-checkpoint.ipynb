{
 "cells": [
  {
   "cell_type": "markdown",
   "id": "bbca4bd0",
   "metadata": {},
   "source": [
    "# 04 Funcións\n",
    "## Contidos\n",
    "\n",
    "- Definición de funcións\n",
    "    - Sentenza def\n",
    "    - Parámetros e argumentos\n",
    "      - Parámetros indeterminados\n",
    "    - Retorno de valores\n",
    "    - Documentar funcións\n",
    "- Librarías estándar incluídas en Python\n",
    "    - math\n",
    "    - sys\n",
    "    - os\n",
    "    - random\n",
    "- Funcións anónimas\n",
    "    - Expresións lambda\n",
    "    - Función filter\n",
    "    - Función map"
   ]
  },
  {
   "cell_type": "markdown",
   "id": "e6ca43ec",
   "metadata": {},
   "source": [
    "## Definición de funcións\n",
    "\n",
    "As funcións permítennos encapsular un bloque de instrucións para que poidamos utilizalo varias veces dentro dos nosos programas. Para facer isto, é necesario identificar ese bloque de instrucións usando a sintaxe de funcións que inclúe Python. \n",
    "\n",
    "### Sentenza def\n",
    "\n",
    "As funcións defínense coa sentenza `def`. Esta palabra chave indica a Python que imos crear un obxecto executable que poderá ser chamado máis adiante durante a execución do programa. \n",
    "\n",
    "O formato para definir unha función en Python é:\n",
    "\n",
    "`def nome_función(arg1, arg2,...):\n",
    "    sentenza_1\n",
    "    sentenza_2\n",
    "    ...  \n",
    "    return obxecto_a_devolver`"
   ]
  },
  {
   "cell_type": "markdown",
   "id": "ea4fedc4",
   "metadata": {},
   "source": [
    "A palabra reservada `def`, vai seguida de\n",
    "\n",
    "- O **nome** que queiramos darlle á función. Este nome será o identificador que nos permitirá chamar á función máis adiante. \n",
    "\n",
    "- A **lista de parámetros** que terá a función, **separados por comas e entre paréntese**. Estes parámetros serán valores ou obxectos que se necesitarán para executa-a función. No caso de que a función non necesitase parámetros, o contido das parénteses estará baleira `()`. \n",
    "\n",
    "- Ó final da declaración da función usaremos **dous puntos (`:`)** para comezar a escribi-las sentenzas que se executarán. \n",
    "\n",
    "- O **bloque de sentenzas debe ter unha sangría de 4 espazos** con respecto á definición da función para que Python entenda que son instrucións que pertencen á función. \n",
    "\n",
    "- No **caso de que a función teña que devolver un valor, usaremos a palabra reservada `return` xunto co identificador ou a expresión que devolverá o valor**.\n",
    " \n",
    "\n",
    "Por exemplo, unha función que calcule a área dun rectángulo necesita dous datos, a súa base e a súa altura, estes dous datos serán os parámetros da función; e para devolve-lo resultado do cálculo úsase a sentenza `return`."
   ]
  },
  {
   "cell_type": "code",
   "execution_count": 1,
   "id": "133b2c3d",
   "metadata": {},
   "outputs": [],
   "source": [
    "def area_rectangulo(base, altura):\n",
    "    area = (base * altura)\n",
    "    return area"
   ]
  },
  {
   "cell_type": "markdown",
   "id": "d5d80a4c",
   "metadata": {},
   "source": [
    "Para executa-la función só hai que usa-lo nome da función e inserta-los valores da base e a altura:"
   ]
  },
  {
   "cell_type": "code",
   "execution_count": 2,
   "id": "380cf36e",
   "metadata": {},
   "outputs": [
    {
     "data": {
      "text/plain": [
       "30"
      ]
     },
     "execution_count": 2,
     "metadata": {},
     "output_type": "execute_result"
    }
   ],
   "source": [
    "area_rectangulo(6, 5) # devolve 30"
   ]
  },
  {
   "cell_type": "markdown",
   "id": "57054f11",
   "metadata": {},
   "source": [
    "### Parámetros e argumentos\n",
    "Pode haber funcións sen parámetros, pero polo xeral necesítase introducir información ás funcións para que poidan realiza-la acción desexada. \n",
    "\n",
    "Conceptualmente hai que diferenciar entre os ***parámetros***, que son os valores que se definen nunha función,\n",
    "e os ***argumentos***, que son os valores que se pasan á función no momento da execución.\n",
    "\n",
    "No exemplo anterior, cando declaramos a función *area_rectangulo*, os elementos *base* e *altura* eran os parámetros. Lopgo, cando indicamos que a base era *6* e a altura *5*, eses valores son os argumentos da función.\n",
    "\n",
    "Cando se chama a unha función existen dúas formas de pasarlle os argumentos:\n",
    "\n",
    "- ***Argumentos por posición***: os argumentos envíanse na mesma orde na que se definiron os parámetros. Esta é a forma usada para chamar á función *area_rectangulo* no exemplo anterior.\n",
    "\n",
    "\n",
    "- ***Argumentos por nome***: os argumentos envíanse utilizando os nomes dos parámetros que se asignaron na función. Para iso, úsase o nome do parámetro, seguido do símbolo igual (`=`) e do argumento. No exemplo anterior sería da seguinte forma:"
   ]
  },
  {
   "cell_type": "code",
   "execution_count": 5,
   "id": "d4e60fdc",
   "metadata": {},
   "outputs": [
    {
     "data": {
      "text/plain": [
       "30"
      ]
     },
     "execution_count": 5,
     "metadata": {},
     "output_type": "execute_result"
    }
   ],
   "source": [
    "area_rectangulo(base=6, altura=5) # devolve 30"
   ]
  },
  {
   "cell_type": "markdown",
   "id": "2a302565",
   "metadata": {},
   "source": [
    "Cando unha función ten definidos uns parámetros, é obrigatorio á hora de chamala, que a función reciba o mesmo número de argumentos; no caso de que non recibise algún deses argumentos, Python devolvería un erro de tipo. \n",
    "\n",
    "Asemade, no momento de declarar unha función, pódese asignar un **valor por defecto a cada parámetro**. Este valor por defecto **usarase só se non se indicou un argumento no parámetro correspondente**.\n",
    "\n",
    "Para asignar un valor por defecto a un parámetro, defínese o nome do parámetro, seguido polo símbolo `=` e o valor por defecto que se lle queira dar. "
   ]
  },
  {
   "cell_type": "code",
   "execution_count": 7,
   "id": "c88d300e",
   "metadata": {},
   "outputs": [],
   "source": [
    "# definición dunha función con 2 parámetros por defecto\n",
    "def area_rectangulo(base=4, altura=2):\n",
    "    area = (base * altura)\n",
    "    return area"
   ]
  },
  {
   "cell_type": "markdown",
   "id": "8de317e6",
   "metadata": {},
   "source": [
    "Se se chamase á función *area_rectangulo* sen ningún argumento, usaría os valores por defecto que se predefiniron para calcula-la área."
   ]
  },
  {
   "cell_type": "code",
   "execution_count": 19,
   "id": "bae0ab35",
   "metadata": {},
   "outputs": [
    {
     "data": {
      "text/plain": [
       "8"
      ]
     },
     "execution_count": 19,
     "metadata": {},
     "output_type": "execute_result"
    }
   ],
   "source": [
    "area_rectangulo() # devolve 8"
   ]
  },
  {
   "cell_type": "markdown",
   "id": "836d2c89",
   "metadata": {},
   "source": [
    "Tamén podemos indicar unicamente un dos parámetros. \n",
    "\n",
    "No caso de que o fagamos por posición, recoñecerá que ese argumento é o do primeiro parámetro, *base*; en cambio, se utilizamos os argumentos por nome, podemos aplicalo a calquera dos\n",
    "dous parámetros."
   ]
  },
  {
   "cell_type": "code",
   "execution_count": 17,
   "id": "5aa6a8ab",
   "metadata": {},
   "outputs": [
    {
     "data": {
      "text/plain": [
       "4"
      ]
     },
     "execution_count": 17,
     "metadata": {},
     "output_type": "execute_result"
    }
   ],
   "source": [
    "area_rectangulo(2) # devolve 4"
   ]
  },
  {
   "cell_type": "code",
   "execution_count": 18,
   "id": "b3b803e7",
   "metadata": {},
   "outputs": [
    {
     "data": {
      "text/plain": [
       "12"
      ]
     },
     "execution_count": 18,
     "metadata": {},
     "output_type": "execute_result"
    }
   ],
   "source": [
    "area_rectangulo(altura=3) # devolve 12"
   ]
  },
  {
   "cell_type": "markdown",
   "id": "9526d044",
   "metadata": {},
   "source": [
    "Moitas das funcións que existen en Python teñen parámetros con valores por defecto, polo que é importante revisa-la documentación dunha función para saber como van se-los argumentos da función antes de usala."
   ]
  },
  {
   "cell_type": "markdown",
   "id": "5260a954",
   "metadata": {},
   "source": [
    "#### Parámetros indeterminados\n",
    "\n",
    "Pódese ter que definir unha **función que necesite un número variable de argumentos**. Para estes casos Python permite usar **parámetros indeterminados nas funcións**. \n",
    "\n",
    "Estes parámetros permiten incluír tantos argumentos como se queira no momento da execución da función.\n",
    "\n",
    "Ó igual que cos parámetros normais, existen dúas maneiras de asigna-los argumentos:\n",
    "\n",
    "- **Argumentos por posición**: débense defini-los parámetros como unha lista dinámica. Para iso, á hora de defini-lo parámetro, inclúese un asterisco (`*`) antes do nome do parámetro. Os parámetros indeterminados recibiranse por posición. A estes parámetros pódeselles pasar calquera tipo de dato en cada función."
   ]
  },
  {
   "cell_type": "code",
   "execution_count": 42,
   "id": "9ab602ab",
   "metadata": {},
   "outputs": [
    {
     "name": "stdout",
     "output_type": "stream",
     "text": [
      "1\n",
      "5\n",
      "15\n",
      "65\n"
     ]
    }
   ],
   "source": [
    "def imprime_numeros(*args):\n",
    "    for numero in args:\n",
    "        print(numero)\n",
    "        \n",
    "imprime_numeros(1, 5, 15, 65)      "
   ]
  },
  {
   "cell_type": "markdown",
   "id": "9ea8f497",
   "metadata": {},
   "source": [
    "- **Argumentos por nome**: para recibir varios argumentos por nome, sen sabe-la cantidade, é necesario defini-los parámetros como un dicionario dinámico. Para iso úsase dous asteriscos (`**`) antes do nome do parámetro."
   ]
  },
  {
   "cell_type": "code",
   "execution_count": 43,
   "id": "fb33fa96",
   "metadata": {},
   "outputs": [
    {
     "name": "stdout",
     "output_type": "stream",
     "text": [
      "argumento1 => Ola\n",
      "argumento2 => 365\n",
      "argumento3 => [1, 2, 3, 4, 5]\n",
      "argumento4 => 15.67\n"
     ]
    }
   ],
   "source": [
    "def imprime_valores(**args):\n",
    "    for argumento in args:\n",
    "        print(argumento, '=>', args[argumento])\n",
    "        \n",
    "imprime_valores(argumento1='Ola', argumento2=365, argumento3=[1,2,3,4,5], argumento4=15.67)"
   ]
  },
  {
   "cell_type": "markdown",
   "id": "40ca4ab0",
   "metadata": {},
   "source": [
    "Incluso é posible combina-las dúas formas de declarar parámetros normais coas formas de declarar parámetros indeterminados, á hora de declarar unha función."
   ]
  },
  {
   "cell_type": "code",
   "execution_count": 44,
   "id": "1a1d4ac0",
   "metadata": {},
   "outputs": [
    {
     "name": "stdout",
     "output_type": "stream",
     "text": [
      "A  Marianico  gústalle o seguinte: \n",
      " can\n",
      "doces\n",
      "camiñar a estopa\n",
      "['caldo', 'marisco', 'orellas']\n"
     ]
    }
   ],
   "source": [
    "def imprime_gustos(nome_persoa, animal, **args):\n",
    "    print('A ',nome_persoa, ' gústalle o seguinte: \\n', animal)\n",
    "    for argumento in args:\n",
    "        print(args[argumento])\n",
    "        \n",
    "imprime_gustos('Marianico', 'can', argumento1='doces', argumento2='camiñar a estopa', argumento3=['caldo','marisco','orellas'])"
   ]
  },
  {
   "cell_type": "markdown",
   "id": "83dec314",
   "metadata": {},
   "source": [
    "### Retorno de valores"
   ]
  },
  {
   "cell_type": "markdown",
   "id": "01da9e26",
   "metadata": {},
   "source": [
    "Para devolver un ou varios valores, as funcións utilizan a sentenza `return`."
   ]
  },
  {
   "cell_type": "code",
   "execution_count": 45,
   "id": "b6f48846",
   "metadata": {},
   "outputs": [
    {
     "data": {
      "text/plain": [
       "16"
      ]
     },
     "execution_count": 45,
     "metadata": {},
     "output_type": "execute_result"
    }
   ],
   "source": [
    "# Cálculo da potencia entre dous números.\n",
    "def potencia(base, exponente):\n",
    "    return base ** exponente\n",
    "\n",
    "potencia (2,4) # devolve 16"
   ]
  },
  {
   "cell_type": "markdown",
   "id": "d649bee1",
   "metadata": {},
   "source": [
    "Hai que ter en conta que **a instrución `return` debe sé-la última instrución en executarse, xa que nese momento Python sae da función**.\n",
    "\n",
    "En Python, **as funcións poden devolver máis dun valor á vez**; para facer isto, só hai que separar con comas tódo-los valores que se queiran devolver despois da sentenza `return`"
   ]
  },
  {
   "cell_type": "code",
   "execution_count": 46,
   "id": "b6f85ce4",
   "metadata": {},
   "outputs": [
    {
     "name": "stdout",
     "output_type": "stream",
     "text": [
      "('Ola', 365, ['Brais', 'Manolo', 'Uxía', 'Xonxa'])\n"
     ]
    }
   ],
   "source": [
    "# función que devolve tres obxectos de diferentes tipos\n",
    "def exemplo():\n",
    "    return \"Ola\", 365, ['Brais','Manolo','Uxía', 'Xonxa']\n",
    "\n",
    "print(exemplo())"
   ]
  },
  {
   "cell_type": "markdown",
   "id": "fb1f3367",
   "metadata": {},
   "source": [
    "Cando se devolve máis dun valor nunha función, o que se obtén é unha tupla con tódo-los valores. Por este motivo, se se quere que cada un dos resultados estea nunha variable distinta, é necesario facer un desempaquetado da tupla. "
   ]
  },
  {
   "cell_type": "code",
   "execution_count": 52,
   "id": "fd10bacd",
   "metadata": {},
   "outputs": [
    {
     "name": "stdout",
     "output_type": "stream",
     "text": [
      "var1 =  Ola \n",
      "var2 =  365 \n",
      "var3 =  ['Brais', 'Manolo', 'Uxía', 'Xonxa']\n"
     ]
    }
   ],
   "source": [
    "var1, var2, var3 = exemplo() # devolve var1 = “Ola”, var2 = 365, var3 = ['Brais', 'Manolo', 'Uxía', 'Xonxa']\n",
    "\n",
    "print('var1 = ', var1, '\\nvar2 = ', var2, '\\nvar3 = ', var3)"
   ]
  },
  {
   "cell_type": "markdown",
   "id": "629f4643",
   "metadata": {},
   "source": [
    "### Documentar funcións"
   ]
  },
  {
   "cell_type": "markdown",
   "id": "c3b9e05a",
   "metadata": {},
   "source": [
    "As funcións encapsulan un comportamento dentro dun identificador e outros/as usuarios/as non terían porqué acceder ó código dunha función para saber que é o que se quere facer. Para poder documenta-las funcións utilízanse os `docstring`.\n",
    "\n",
    "En Python tódo-los obxectos contan cunha variable por defecto chamada `doc`, que nos permite acceder á documentación do obxecto correspondente. \n",
    "\n",
    "Para documentar unha función usando os `docstring`, unicamente hai que incluír un comentario inmediatamente despois da cabeceira da función."
   ]
  },
  {
   "cell_type": "code",
   "execution_count": 58,
   "id": "e3daa6e7",
   "metadata": {},
   "outputs": [],
   "source": [
    "def potencia(base, exponente):\n",
    "    \"\"\"\n",
    "    Función que calcula a potencia de dous números.\n",
    "    \n",
    "    Argumentos:\n",
    "        base ‐‐ base da operación.\n",
    "        exponente ‐‐ expoñente da operación.\n",
    "    \"\"\"\n",
    "    return base ** exponente"
   ]
  },
  {
   "cell_type": "markdown",
   "id": "2c63104b",
   "metadata": {},
   "source": [
    "Documentando desta forma as funcións, pódese usa-la sentenza `help()` co nome da función para ver que documentación ten."
   ]
  },
  {
   "cell_type": "code",
   "execution_count": 59,
   "id": "b63b07d2",
   "metadata": {},
   "outputs": [
    {
     "name": "stdout",
     "output_type": "stream",
     "text": [
      "Help on function potencia in module __main__:\n",
      "\n",
      "potencia(base, exponente)\n",
      "    Función que calcula a potencia de dous números.\n",
      "    \n",
      "    Argumentos:\n",
      "        base ‐‐ base da operación.\n",
      "        exponente ‐‐ expoñente da operación.\n",
      "\n"
     ]
    }
   ],
   "source": [
    "help(potencia)"
   ]
  },
  {
   "cell_type": "markdown",
   "id": "4a4185da",
   "metadata": {},
   "source": [
    "Na guía de estilos oficial de Python (PEP8), hai varias regras e consellos para documentar correctamente o código usando os `docstring`: https://peps.python.org/pep-0008/"
   ]
  },
  {
   "cell_type": "markdown",
   "id": "63a35fc1",
   "metadata": {},
   "source": [
    "## Librarías estándar incluídas en Python\n",
    "Python conta con múltiples módulos que inclúen diferentes funcións que completan as básicas."
   ]
  },
  {
   "cell_type": "markdown",
   "id": "b9bcc5bd",
   "metadata": {},
   "source": [
    "### módulo math\n",
    "O módulo math é un **módulo matemático** que inclúe numerosas funcións matemáticas. Para utilizar estas funcións é necesario importa-lo módulo `math` ó principio do código usando a sentenza `import`"
   ]
  },
  {
   "cell_type": "code",
   "execution_count": 60,
   "id": "3fd46ec5",
   "metadata": {},
   "outputs": [],
   "source": [
    "import math"
   ]
  },
  {
   "cell_type": "markdown",
   "id": "0129fe1b",
   "metadata": {},
   "source": [
    "As principias funcións deste módulo, agrupadas por tipos son as seguintes:\n",
    "\n",
    "- Funcións aritméticas\n",
    "Operacións aritméticas como calcula-los valores superiores ou inferiores dun número, cálculos factoriais ou o máximo común divisor. \n",
    "\n",
    "As funcións máis importantes son:\n",
    "\n",
    "    - fabs(x) : esta función\n",
    "    \n",
    "devolve o valor absoluto do valor x.\n",
    "math.fabs(‐1234) # Devolverá 1234\n",
    " gcd(x,e) : esta función\n",
    "devolve o máximo común divisor de dous valores x e e.\n",
    "math.gcd(34, 82) # Devolverá 2\n",
    " floor(x) : esta función devolve o valor enteiro máis grande que sexa menor ou igual\n",
    "a x .\n",
    "math.floor(245.89) # Devolverá 245\n",
    " ceil(x) : esta función devolve o valor enteiro máis pequeno que sexa maior ou igual\n",
    "a x.\n",
    "math.ceil(245.89) # Devolverá 246\n",
    " factorial(x) : esta función\n",
    "calcula a factorial do número x.\n",
    "math.factorial(5) # Devolverá 120\n",
    " trunc(x) : esta función\n",
    "devolve a parte enteira do número x.\n",
    "math.trunc(5.7836) # Devolverá 5"
   ]
  },
  {
   "cell_type": "code",
   "execution_count": null,
   "id": "9b657a6f",
   "metadata": {},
   "outputs": [],
   "source": []
  },
  {
   "cell_type": "code",
   "execution_count": null,
   "id": "2359684a",
   "metadata": {},
   "outputs": [],
   "source": []
  },
  {
   "cell_type": "code",
   "execution_count": 1,
   "id": "038f7743",
   "metadata": {},
   "outputs": [
    {
     "name": "stdout",
     "output_type": "stream",
     "text": [
      " 01_sintaxe_e_tipos_datos_basicos_de_python.ipynb   imaxes\r\n",
      " 02_estruturas_de_datos.ipynb\t\t\t   'Markdown Cheat Sheet.ipynb'\r\n",
      " 03_sentenzas_condicionais_e_iterativas.ipynb\t    markdown-cheat-sheet.md\r\n",
      " 04_funcions.ipynb\t\t\t\t    __pycache__\r\n",
      " Constantes.py\r\n"
     ]
    }
   ],
   "source": [
    "! ls"
   ]
  },
  {
   "cell_type": "code",
   "execution_count": null,
   "id": "8de909ed",
   "metadata": {},
   "outputs": [],
   "source": []
  }
 ],
 "metadata": {
  "kernelspec": {
   "display_name": "Python 3 (ipykernel)",
   "language": "python",
   "name": "python3"
  },
  "language_info": {
   "codemirror_mode": {
    "name": "ipython",
    "version": 3
   },
   "file_extension": ".py",
   "mimetype": "text/x-python",
   "name": "python",
   "nbconvert_exporter": "python",
   "pygments_lexer": "ipython3",
   "version": "3.9.13"
  }
 },
 "nbformat": 4,
 "nbformat_minor": 5
}
