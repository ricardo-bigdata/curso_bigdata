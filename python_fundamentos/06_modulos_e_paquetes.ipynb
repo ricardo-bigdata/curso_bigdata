{
 "cells": [
  {
   "cell_type": "markdown",
   "id": "f99cbc93",
   "metadata": {},
   "source": [
    "# 06 Módulos e paquetes\n",
    "## Contidos\n",
    "\n",
    "- Módulos\n",
    "    - Creación de módulos\n",
    "    - Importación de módulos completos: *import*\n",
    "        - Abreviado dos *namespaces* mediante *alias*\n",
    "    - Importación de só partes de módulos (sen utilizar *namespaces*): *from*\n",
    "- if \\_\\_name\\_\\_ == “\\_\\_main\\_\\_”:\n",
    "- Paquetes\n",
    "    - Creación de paquetes\n",
    "    - Importación de paquetes\n",
    "    - Importación de módulos de paquetes: *from*\n",
    "- Documentar módulos e paquetes"
   ]
  },
  {
   "cell_type": "markdown",
   "id": "f2eb3f98",
   "metadata": {},
   "source": [
    "---"
   ]
  },
  {
   "cell_type": "markdown",
   "id": "3082990a",
   "metadata": {},
   "source": [
    "Os conceptos principais do sistema de importación son os de ***módulos*** e ***paquetes***.\n",
    "\n",
    "O uso de módulos e paquetes **permite organiza-lo código en diferentes scripts e, ademais, crear unha organización de cartafois para almacenar cada un destes scripts**. \n",
    "\n",
    "En proxectos grandes é necesario dividi-lo código en diferentes scripts para organizalo. O máis normal é organiza-lo código en scripts que teñan funcións ou variables cunha mesma funcionalidade.\n",
    "\n",
    "Os ***módulos*** son cada un dos ficheiros de python, polo xeral coa extensión `.py`, que creamos nun proxecto. Estes ficheiros conteñen elementos como variables ou funcións, e clases. \n",
    "\n",
    "E un ***paquete*** é, basicamente, un cartafol que no seu interior contén módulos ou outros paquetes.\n",
    "\n",
    "Usando as palabras reservadas `from` e `import`, pódense utilizar variables, funcións, clases, excepcións e calquera outro obxecto que estean dentro dun módulo ou paquete.\n",
    "\n",
    "Dividi-lo código en módulos permítenos organizar un conxunto de elementos pola súa funcionalidade.\n",
    "\n",
    "\n",
    "Outra forma de organización do código é utiliza-la programación orientada a obxectos para encapsula-la información en obxectos e crear diferentes operacións que nos permitan traballar con eles."
   ]
  },
  {
   "cell_type": "markdown",
   "id": "35c15173",
   "metadata": {},
   "source": [
    "## Módulos\n",
    "Traballando dende o intérprete de Python as definicións que se fagan (funcións e variables) pérdense en canto se sae do mesmo e se volve a entrar. Polo tanto, para escribir programas é mellor utilizar un editor de texto para redacta-lo código e executalo con ese arquivo como entrada para o intérprete; a isto chámaselle ***crear un script***. \n",
    "\n",
    "A medida que un programa creza, pode ser necesario separalo en varios arquivos para que o mantemento sexa máis sinxelo. \n",
    "\n",
    "E tamén podería quererse que unha función útil creada por nós, se poida usar en distintos programas sen copiala en cada programa.\n",
    "\n",
    "Para soportar isto, Python ten unha maneira de por definicións nun arquivo e usalos nun script ou nunha instancia do intérprete: este tipo de ficheiros chámase ***módulo***; as definicións dun módulo poden ser importadas a outros módulos ou ó módulo principal (a colección de variables ás que se ten acceso nun script executado no nivel superior e no modo interactivo).\n",
    "\n",
    "Un módulo é un ficheiro contendo definicións e declaracións de Python. O nome de arquivo é o nome do módulo co sufixo `.py` agregado. \n",
    "\n",
    "Dentro dun módulo, o nome do mesmo módulo (como cadea) está dispoñible no valor da variable global `__name__`."
   ]
  },
  {
   "cell_type": "markdown",
   "id": "d752d0db",
   "metadata": {},
   "source": [
    "### Creación de módulos\n",
    "Crear un módulo é tan sinxelo como gardar nun ficheiro con extensión `.py` o código que se queira que o conforme.\n",
    "\n",
    "Imaxinemos que queremos crear un módulo que conteña dúas funcións que nos permiten calcula-lo perímetro dunha circunferencia e a área do círculo contido nunha circunferencia. Para iso, crearemos un script chamado *circunferencia.py* que conterá o seguinte código:"
   ]
  },
  {
   "cell_type": "markdown",
   "id": "09f5038c",
   "metadata": {},
   "source": [
    "    # Módulo circunferencia.py\n",
    "    import math\n",
    "    def perimetro(radio):\n",
    "        return 2 * math.pi * radio\n",
    "    def area(radio):\n",
    "        return math.pi * radio ** 2`"
   ]
  },
  {
   "cell_type": "markdown",
   "id": "470a265d",
   "metadata": {},
   "source": [
    "Este módulo contén as funcións *perímetro()* e *area()* que, a partir do valor do radio, obteñen os valores correspondentes. Para o número `pi`, hai que ua-lo módulo `math` que xa ven incluído con Python."
   ]
  },
  {
   "cell_type": "markdown",
   "id": "510d76d4",
   "metadata": {},
   "source": [
    "### Importación de módulos completos: *import*\n",
    "Para poder utiliza-las funcións incluídas nun módulo é necesario importa-lo devandito módulo. Python ten a sentenza `import` que, seguida do nome do módulo (**sen a extensión** `.py`), permítenos utilizar todo o código implementado no módulo indicado. \n",
    "\n",
    "Por convención, tódolos `import` deben ir sempre ó comezo do arquivo. Na guía de estilo de Python, explícanse as convencións para importación, no documento *PEP 8*, https://peps.python.org/pep-0008/: \n",
    "- A importación de módulos debe realizarse ó comenzo do documento, en orde alfabético de paquetes e módulos.\n",
    "- Primeiro deben importarse os módulos propios de Python, logo, os módulos de terceiros e finalmente, os módulos propios da aplicación.\n",
    "- Entre cada bloque de *imports*, debe deixarse unha liña en branco.\n",
    "\n",
    "\n",
    "É importante ter en conta que o módulo ten que ser accesible polo script que o importe; se non está accesible, devolverá un erro indicando que non sabe onde se atopa:\n",
    "\n",
    "`ModuleNotFoundError: No module named 'circunferencia'`\n",
    "\n",
    "O primeiro lugar onde Python buscará cando lle indicamos que debe importar un módulo é no cartafol local de traballo (*current working directory*), é dicir o cartafol dende o que se executa o programa.\n",
    "\n",
    "Se Python non atopa o módulo no directorio actual de traballo, buscará nos cartafoles `lib` e `lib/site-packages`, que se atopan no directorio de instalación de Python. De modo que calquera módulo que se atope dentro dalgunha deses dous cartafoles poderá ser importado desde calquera localización\n",
    "\n",
    "Por exemplo, para importa-lo módulo circunferencia para facer algúns cálculos comezaremo-lo noso código coa seguinte sentenza:\n",
    "\n",
    "`import circunferencia`"
   ]
  },
  {
   "cell_type": "code",
   "execution_count": 1,
   "id": "7c18d213",
   "metadata": {},
   "outputs": [
    {
     "name": "stdout",
     "output_type": "stream",
     "text": [
      "aritmetica  cadrado.py\tcircunferencia.py  figuras  __pycache__  rectangulo.py\n"
     ]
    }
   ],
   "source": [
    "! ls codigo/05"
   ]
  },
  {
   "cell_type": "code",
   "execution_count": 2,
   "id": "603e6db5",
   "metadata": {},
   "outputs": [
    {
     "name": "stdout",
     "output_type": "stream",
     "text": [
      "Antes de incluí-la ruta na que localiza-lo módulo: \n",
      " ['/home/ricardo/MEGA/MEGAsync/repositoriogithub/bigdata/python_fundamentos', '/usr/lib/python38.zip', '/usr/lib/python3.8', '/usr/lib/python3.8/lib-dynload', '', '/home/ricardo/.local/lib/python3.8/site-packages', '/usr/local/lib/python3.8/dist-packages', '/usr/lib/python3/dist-packages', '/usr/lib/python3.8/dist-packages', '/usr/lib/python3/dist-packages/IPython/extensions', '/home/ricardo/.ipython']\n",
      "-----------------\n",
      " Logo de incluí-la ruta na que localiza-lo módulo: \n",
      " ['/home/ricardo/MEGA/MEGAsync/repositoriogithub/bigdata/python_fundamentos', '/usr/lib/python38.zip', '/usr/lib/python3.8', '/usr/lib/python3.8/lib-dynload', '', '/home/ricardo/.local/lib/python3.8/site-packages', '/usr/local/lib/python3.8/dist-packages', '/usr/lib/python3/dist-packages', '/usr/lib/python3.8/dist-packages', '/usr/lib/python3/dist-packages/IPython/extensions', '/home/ricardo/.ipython', 'codigo/05']\n"
     ]
    }
   ],
   "source": [
    "\"\"\" Como paso previo, dado que neste caso o ficheiro a importar non está no cartafol base, \n",
    "    senón nun subdirectorio \"codigo/05\"\n",
    "    agregaremo-la ruta a ese subdirectorio \"codigo/05\" usando a orde: sys.path.append('codigo/05')\n",
    "A variable de ruta \"path\" contén os directorios nos que o intérprete de Python busca polos módulos que se importan.\"\"\"\n",
    "import sys\n",
    "print('Antes de incluí-la ruta na que localiza-lo módulo: \\n', sys.path)\n",
    "\n",
    "# Engádese unha nova ruta na que o intérprete de python busque módulos \n",
    "sys.path.append('codigo/05')\n",
    "print('-----------------\\n', 'Logo de incluí-la ruta na que localiza-lo módulo: \\n', sys.path)\n",
    "\n",
    "import circunferencia"
   ]
  },
  {
   "cell_type": "markdown",
   "id": "5ae3a9d1",
   "metadata": {},
   "source": [
    "Unha vez feito isto, podemos acceder ó código do módulo *circunferencia*, usando o **nome do módulo seguido dun punto** (`.`) para acceder ás funcións.\n",
    "\n",
    "Por exemplo, para calcula-lo perímetro dunha circunferencia cun radio de 2 unidades:"
   ]
  },
  {
   "cell_type": "code",
   "execution_count": 3,
   "id": "0eda8431",
   "metadata": {},
   "outputs": [
    {
     "data": {
      "text/plain": [
       "12.566370614359172"
      ]
     },
     "execution_count": 3,
     "metadata": {},
     "output_type": "execute_result"
    }
   ],
   "source": [
    "circunferencia.perimetro(2) # devolve 12.566370614359172"
   ]
  },
  {
   "cell_type": "markdown",
   "id": "6c376bb8",
   "metadata": {},
   "source": [
    "Esta forma de chamar á función *perimetro* realízase mediante o ***namespace***. O namespace (espazo de nomes) é o nome que se indica despois da instrución `import` e que será a ruta do módulo. \n",
    "\n",
    "Na sentenza `import` podemos incluír máis dun módulo, separándoos con comas:\n",
    "\n",
    "`import modulo1, modulo2, modulo3, …, moduloN`"
   ]
  },
  {
   "cell_type": "code",
   "execution_count": 4,
   "id": "f1517822",
   "metadata": {},
   "outputs": [
    {
     "name": "stdout",
     "output_type": "stream",
     "text": [
      "aritmetica  cadrado.py\tcircunferencia.py  figuras  __pycache__  rectangulo.py\n"
     ]
    }
   ],
   "source": [
    "! ls codigo/05"
   ]
  },
  {
   "cell_type": "markdown",
   "id": "d4cbd3b7",
   "metadata": {},
   "source": [
    "Supoñendo que temos outro módulo chamado *rectangulo*, que calcula a área e o perímetro de calquera rectángulo; para poder importa-los dous módulos (o de *circunferencia* e o de *rectangulo*) no noso programa, executariamo-la seguinte sentenza:"
   ]
  },
  {
   "cell_type": "code",
   "execution_count": 5,
   "id": "8844f79d",
   "metadata": {},
   "outputs": [],
   "source": [
    "import circunferencia, rectangulo"
   ]
  },
  {
   "cell_type": "markdown",
   "id": "872c3b48",
   "metadata": {},
   "source": [
    "E para chamar ás funcións dos diferentes módulos deberiamos usa-lo namespace de cada módulo, é dicir, para chamar á función `area()` de cada módulo, deberiamos facelo da seguinte maneira:"
   ]
  },
  {
   "cell_type": "code",
   "execution_count": 6,
   "id": "97ac48da",
   "metadata": {},
   "outputs": [
    {
     "data": {
      "text/plain": [
       "20"
      ]
     },
     "execution_count": 6,
     "metadata": {},
     "output_type": "execute_result"
    }
   ],
   "source": [
    "rectangulo.area(10, 2)"
   ]
  },
  {
   "cell_type": "code",
   "execution_count": 7,
   "id": "6240b456",
   "metadata": {},
   "outputs": [
    {
     "data": {
      "text/plain": [
       "50.26548245743669"
      ]
     },
     "execution_count": 7,
     "metadata": {},
     "output_type": "execute_result"
    }
   ],
   "source": [
    "circunferencia.area(4)"
   ]
  },
  {
   "cell_type": "markdown",
   "id": "dc52ab49",
   "metadata": {},
   "source": [
    "#### Abreviado dos *namespaces* mediante *alias* #### \n",
    "\n",
    "O uso dos namespace ás veces pode ser un pouco tedioso, sobre todo se o nome dos módulos é complexo ou moi longo. Para solucionar isto, **Python permite definir uns *alias* nos nomes dos módulos á hora de importalos**. Así, basta con usa-los alias á hora de chama-los módulos dentro do código.\n",
    "\n",
    "Unha restrición que existe co uso dos alias é que non podemos facer importacións múltiples nunha única sentenza, senón que debemos face-las importacións dunha nunha. \n",
    "\n",
    "Para definir un alias a un módulo importado, úsase a palabra reservada `as` seguida do alias que se queira asignar ó modulo.\n",
    "\n",
    "`import módulo as mod`"
   ]
  },
  {
   "cell_type": "markdown",
   "id": "8d5486ed",
   "metadata": {},
   "source": [
    "De seguido imos importar cun alias os módulos *circunferencia* e *rectangulo* e executaremo-las funcións para calcula-las áreas usando os alias que definamos:"
   ]
  },
  {
   "cell_type": "code",
   "execution_count": 8,
   "id": "7ee3d588",
   "metadata": {},
   "outputs": [],
   "source": [
    "# Como anteriormente xa indicamos que busque os módulos a importar na ruta axeitada, saberá onde localizalos e importalos\n",
    "# import sys\n",
    "# sys.path.append('codigo/05')"
   ]
  },
  {
   "cell_type": "code",
   "execution_count": 9,
   "id": "eccae1d5",
   "metadata": {},
   "outputs": [
    {
     "name": "stdout",
     "output_type": "stream",
     "text": [
      "A área da circunferencia é:  50.26548245743669\n",
      "A área do rectángulo é:  20\n"
     ]
    }
   ],
   "source": [
    "import circunferencia as cir\n",
    "import rectangulo as rec\n",
    "\n",
    "area_circunferencia = cir.area(4)\n",
    "area_rectangulo = rec.area(10, 2)\n",
    "\n",
    "print('A área da circunferencia é: ', area_circunferencia)\n",
    "print('A área do rectángulo é: ', area_rectangulo)"
   ]
  },
  {
   "cell_type": "markdown",
   "id": "801f9fec",
   "metadata": {},
   "source": [
    "Como vemos, isto nos permite que a forma de chamar ós módulos sexa máis sinxela e o código máis lexible."
   ]
  },
  {
   "cell_type": "markdown",
   "id": "55a1203e",
   "metadata": {},
   "source": [
    "### Importación de só partes de  módulos (sen utilizar *namespaces*): from ### \n",
    "É posible importar dun módulo só os elementos que se desexan utilizar usando a instrución `from` seguida do namespace, a instrución `import` e o elemento ou elementos que se queren importar.\n",
    "\n",
    "`from modulo1 import funcion1, funcion2`\n",
    "\n",
    "Deste xeito pódese utilizar directamente o elemento (función ou obxecto) sen por o seu *namespace*:\n",
    "\n",
    "`print(funcion1)`\n"
   ]
  },
  {
   "cell_type": "code",
   "execution_count": 10,
   "id": "3ff7d1ed",
   "metadata": {},
   "outputs": [
    {
     "data": {
      "text/plain": [
       "24"
      ]
     },
     "execution_count": 10,
     "metadata": {},
     "output_type": "execute_result"
    }
   ],
   "source": [
    "# Como anteriormente xa indicamos que busque os módulos a importar na ruta axeitada, saberá onde localizalos e importalos\n",
    "# import sys\n",
    "# sys.path.append('codigo/05')\n",
    "from rectangulo import area, perimetro\n",
    "perimetro(10,2)"
   ]
  },
  {
   "cell_type": "markdown",
   "id": "7beb0fd5",
   "metadata": {},
   "source": [
    "Ó usa-la forma `from ... import ...`, indicámoslle a Python especificamente que obxectos queremos importar dun módulo en particular; logo, os obxectos importados incorpóranse ó noso arquivo como calquera outro obxecto definido dentro del. Por esta razón, non é necesario (nin posible) usa-lo prefijo do *namespace* con este método."
   ]
  },
  {
   "cell_type": "markdown",
   "id": "88a25e0d",
   "metadata": {},
   "source": [
    "Para soluciona-lo caso de que haxa elementos importados dende módulos diferentes que teñan os mesmos nomes, utilízanse ***alias***:\n",
    "\n",
    "`from modulo1 import CONSTANTE_1 as C1, funcion_2 as f2`\n",
    "\n",
    "`from paquete.subpaquete.modulo1 import CONSTANTE_1 as CS1, CONSTANTE_2 as CS2`"
   ]
  },
  {
   "cell_type": "code",
   "execution_count": 11,
   "id": "24b616ff",
   "metadata": {},
   "outputs": [
    {
     "data": {
      "text/plain": [
       "24"
      ]
     },
     "execution_count": 11,
     "metadata": {},
     "output_type": "execute_result"
    }
   ],
   "source": [
    "from rectangulo import area as rec_area, perimetro as rec_perimetro\n",
    "rec_perimetro(10,2)"
   ]
  },
  {
   "cell_type": "markdown",
   "id": "0bf8ca09",
   "metadata": {},
   "source": [
    "De forma alternativa (pero non recomendable), tamén é posible importar tódolos elementos dun módulo, sen utilizar seu *namespace* pero tampouco *alias*. É decir, que se accederá a tódolos elementos importados co seu nome orixinal:\n",
    "\n",
    "`from modulo1 import *`\n",
    "\n",
    "`print(funcion1)`"
   ]
  },
  {
   "cell_type": "markdown",
   "id": "d8ef5f86",
   "metadata": {},
   "source": [
    "Ás veces, en cambio, usa-lo nome do módulo como prefixo é aclaratorio, polo que convén usar `import` a secas. Por exemplo, a función `choice()` (elixir) dentro do módulo estándar `random` (aleatorio), selecciona un elemento aleatoriamente da lista que se lle pase como argumento; se se opta por `from random import choice`, usaríase a función desta maneira:\n",
    "\n",
    "`print(choice([1, 2, 3, 4, 5]))`\n",
    "\n",
    "Vendo esta liña de código, non se sabe con que criterio `choice()` selecciona un elemento, pero, en cambio, isto estaría máis claro:\n",
    "\n",
    "`print(random.choice([1, 2, 3, 4, 5]))`"
   ]
  },
  {
   "cell_type": "markdown",
   "id": "7bba2dee",
   "metadata": {},
   "source": [
    "## if \\_\\_name\\_\\_ == \"\\_\\_main\\_\\_\":\n",
    "Cando o intérprete le un arquivo de código, executa todo o código global que se atopa nel, o que implica crear variables globais e obxetos para toda función ou clase definida nese arquivo.\n",
    "\n",
    "**Cando se importen módulos**, é importante ter incluída esta expresión ó principio ou ó final do arquivo **para permitir que se carguen as funcións deses módulos pero sen que se executen no intre da carga**, senón cando se invoquen explicitamente no código do programa principal.\n",
    "\n",
    "Basicamente, o que se fai usando `if __name__ == “__main__”:` é ver se o módulo foi executado directamente (main) ou non (importado); se se executou como programa principal, executa o código dentro do condicional.\n",
    "\n",
    "É dicir, incluíndo estra expresión e tódolos ficheiros de código, só se executa directamente o código do programa principal, ou cando a libraría se execute explicitamente, en vez de ser cargada por outro programa.\n",
    "\n",
    "Mediante este mecanismo, posibilítase escribir un módulo (un arquivo .py) que se poida executar directamente pero que, alternativamente, tamén se poida importar para reutiliza-las súas funcións, clases, métodos, etc, noutro módulo.\n",
    "A súa sintaxe é:\n",
    "\n",
    "    if __name__ == “__main__”:\n",
    "        # (bloque de código a executar cano este módulo é o principal)\n",
    "    else\n",
    "        # (bloque de código a executar cando este módulo é importado)"
   ]
  },
  {
   "cell_type": "markdown",
   "id": "69f03ed1",
   "metadata": {},
   "source": [
    "A forma máis habitual de uso é definir no módulo principal unha función principal na que se executen sentenzas ou se invoque a outras funcións, e chamar a esa función principal dende dentro do `if __name__ = \"__main__\":`, que pode atoparse ó principio ou ó final do arquivo de código, sengundo interese."
   ]
  },
  {
   "cell_type": "code",
   "execution_count": 12,
   "id": "59b46c54",
   "metadata": {},
   "outputs": [
    {
     "name": "stdout",
     "output_type": "stream",
     "text": [
      "Requirement already satisfied: pyjokes in /home/ricardo/.local/lib/python3.8/site-packages (0.6.0)\n"
     ]
    }
   ],
   "source": [
    "# instalamos unha libraría de chistes para poder botar unhas risas... ;-D\n",
    "! pip install pyjokes"
   ]
  },
  {
   "cell_type": "code",
   "execution_count": 13,
   "id": "e616feeb",
   "metadata": {},
   "outputs": [
    {
     "name": "stdout",
     "output_type": "stream",
     "text": [
      "Ola meus!!! Aí vai un chiste\n",
      "Que berra un informatico que se esta a afogar na praia? F1, F1!\n"
     ]
    }
   ],
   "source": [
    "# Módulo principal\n",
    "import pyjokes\n",
    "\n",
    "def funcion_principal():\n",
    "  print('Ola meus!!! Aí vai un chiste')\n",
    "  print(dame_un_chiste('gl'))\n",
    "  \n",
    "\n",
    "def dame_un_chiste(idioma):\n",
    "  return(pyjokes.get_joke(language=idioma, category=\"neutral\"))\n",
    "\n",
    "if __name__ == '__main__':\n",
    "  funcion_principal()"
   ]
  },
  {
   "cell_type": "markdown",
   "id": "d51f43b4",
   "metadata": {},
   "source": [
    "Os módulos secundarios ou librarías a importar terían tamén ó final a expresión, sen nada no if, en caso de que simplemente contivesen definicións de funcións, ou o nome da súa propia función principal, se se quixese que executasen algo, cando se invocasen directamente, pero que, como xa se explicou, non se quere executar nada, cando se importe dende outro módulo."
   ]
  },
  {
   "cell_type": "code",
   "execution_count": 14,
   "id": "20b605d6",
   "metadata": {},
   "outputs": [
    {
     "name": "stdout",
     "output_type": "stream",
     "text": [
      "Son un módulo secundario e non vou imprimir nada se se me importa \n",
      " Pero se se me executa directamente... si que imprimo algo!!! \n",
      " que para iso teño a miña condición if __name__ == \"__main__\"\n",
      "3\n"
     ]
    }
   ],
   "source": [
    "# Módulo secundario\n",
    "\n",
    "def exemplo_funcion_X(param1,param2):\n",
    "    return param1 + param2\n",
    "\n",
    "print('Son un módulo secundario e non vou imprimir nada se se me importa','\\n','Pero se se me executa directamente... si que imprimo algo!!!','\\n', 'que para iso teño a miña condición if __name__ == \"__main__\"')\n",
    "\n",
    "if __name__ == \"__main__\":\n",
    "    print(exemplo_funcion_X(1,2))"
   ]
  },
  {
   "cell_type": "code",
   "execution_count": 15,
   "id": "c7fce721",
   "metadata": {},
   "outputs": [
    {
     "name": "stdout",
     "output_type": "stream",
     "text": [
      "Son un módulo secundario e non vou imprimir nada se se me importa \n",
      " Pero se se me executa directamente... si que imprimo algo!!! \n",
      " que para iso teño a miña condición if __name__ == \"__main__\"\n",
      "3\n"
     ]
    }
   ],
   "source": [
    "# Módulo secundario\n",
    "if __name__ == \"__main__\":\n",
    "    def exemplo_funcion_Y(param1,param2):\n",
    "        return param1 + param2\n",
    "\n",
    "    print('Son un módulo secundario e non vou imprimir nada se se me importa','\\n','Pero se se me executa directamente... si que imprimo algo!!!','\\n', 'que para iso teño a miña condición if __name__ == \"__main__\"')\n",
    "     \n",
    "    print(exemplo_funcion_Y(1,2))"
   ]
  },
  {
   "cell_type": "markdown",
   "id": "fd1e00c8",
   "metadata": {},
   "source": [
    "Se importamo-lo módulo secundario coa expresión, coa expresión ``if __name__ == \"__main__\":``, tal e como o temos agora mesmo, todo funcionaría como desexamos:\n",
    "non se executa nada dese módulo importado, salvo as funcións que se invoquen dende o módulo principal."
   ]
  },
  {
   "cell_type": "code",
   "execution_count": 16,
   "id": "789a59fc",
   "metadata": {},
   "outputs": [
    {
     "name": "stdout",
     "output_type": "stream",
     "text": [
      "Antes de incluí-la ruta na que localiza-lo módulo: \n",
      " ['/home/ricardo/MEGA/MEGAsync/repositoriogithub/bigdata/python_fundamentos', '/usr/lib/python38.zip', '/usr/lib/python3.8', '/usr/lib/python3.8/lib-dynload', '', '/home/ricardo/.local/lib/python3.8/site-packages', '/usr/local/lib/python3.8/dist-packages', '/usr/lib/python3/dist-packages', '/usr/lib/python3.8/dist-packages', '/usr/lib/python3/dist-packages/IPython/extensions', '/home/ricardo/.ipython', 'codigo/05']\n",
      "-----------------\n",
      " Logo de incluí-la ruta na que localiza-lo módulo: \n",
      " ['/home/ricardo/MEGA/MEGAsync/repositoriogithub/bigdata/python_fundamentos', '/usr/lib/python38.zip', '/usr/lib/python3.8', '/usr/lib/python3.8/lib-dynload', '', '/home/ricardo/.local/lib/python3.8/site-packages', '/usr/local/lib/python3.8/dist-packages', '/usr/lib/python3/dist-packages', '/usr/lib/python3.8/dist-packages', '/usr/lib/python3/dist-packages/IPython/extensions', '/home/ricardo/.ipython', 'codigo/05', 'codigo/06']\n"
     ]
    }
   ],
   "source": [
    "\"\"\" Como paso previo, dado que neste caso o ficheiro a importar non está no cartafol base, \n",
    "    senón nun subdirectorio \"codigo/06\"\n",
    "    agregaremo-la ruta a ese subdirectorio \"codigo/06\" usando a orde: sys.path.append('codigo/06')\n",
    "A variable de ruta \"path\" contén os directorios nos que o intérprete de Python busca polos módulos que se importan.\"\"\"\n",
    "\n",
    "print('Antes de incluí-la ruta na que localiza-lo módulo: \\n', sys.path)\n",
    "\n",
    "# Engádese unha nova ruta na que o intérprete de python busque módulos \n",
    "sys.path.append('codigo/06')\n",
    "print('-----------------\\n', 'Logo de incluí-la ruta na que localiza-lo módulo: \\n', sys.path)\n",
    "\n",
    "# import modulo_secundario\n",
    "# import modulo_secundario_sen"
   ]
  },
  {
   "cell_type": "markdown",
   "id": "e65d2b80",
   "metadata": {},
   "source": [
    "Vexamos como o módulo importado no seguinte exemplo ten a sentenza: ``if __name__ == \"__main__\"'):``"
   ]
  },
  {
   "cell_type": "code",
   "execution_count": 17,
   "id": "a2e52e93",
   "metadata": {},
   "outputs": [
    {
     "name": "stdout",
     "output_type": "stream",
     "text": [
      "# Módulo modulo_secundario.py\n",
      "def exemplo_funcion_Z(param1,param2):\n",
      "    return param1 + param2\n",
      "\n",
      "if __name__ == \"__main__\":\n",
      "    print('Son un módulo secundario e non vou imprimir nada se se me importa','\\n','Pero se se me executa directamente... si que imprimo algo!!!','\\n', 'que para iso teño a miña condición if __name__ == \"__main__\":')\n",
      "    print(exemplo_funcion_Z(1,2))\n"
     ]
    }
   ],
   "source": [
    "! cat codigo/06/modulo_secundario.py"
   ]
  },
  {
   "cell_type": "markdown",
   "id": "3860ec55",
   "metadata": {},
   "source": [
    "E como diciamos, o resultado da execución é o desexado..."
   ]
  },
  {
   "cell_type": "code",
   "execution_count": 18,
   "id": "fb2155e5",
   "metadata": {},
   "outputs": [
    {
     "name": "stdout",
     "output_type": "stream",
     "text": [
      "Ola meus!!! Non é momento de chistes\n",
      "3\n"
     ]
    }
   ],
   "source": [
    "# Módulo principal\n",
    "import modulo_secundario\n",
    "def funcion_principal_1():\n",
    "  print('Ola meus!!! Non é momento de chistes')\n",
    "  print(modulo_secundario.exemplo_funcion_Z(1,2))\n",
    "\n",
    "if __name__ == '__main__':\n",
    "  funcion_principal_1()"
   ]
  },
  {
   "cell_type": "markdown",
   "id": "64283a9f",
   "metadata": {},
   "source": [
    "Sen embargo, cando no módulo importado non se inclúe a sentenza ``if __name__ == “__main__”:`` a importación ten outras consecuencias."
   ]
  },
  {
   "cell_type": "code",
   "execution_count": 19,
   "id": "16a0db23",
   "metadata": {},
   "outputs": [
    {
     "name": "stdout",
     "output_type": "stream",
     "text": [
      "# Módulo modulo_secundario_sen.py\n",
      "\n",
      "def exemplo_funcion_Y(param1,param2):\n",
      "    return param1 + param2\n",
      "\n",
      "print('Son un módulo secundario que vou imprimir algo tanto se se me importa como se se me executa directamente!!!','\\n', 'porque non teño a miña condición if __name__ == \"__main__\":')\n",
      "     \n",
      "print(exemplo_funcion_Y(10,20))\n"
     ]
    }
   ],
   "source": [
    "! cat codigo/06/modulo_secundario_sen.py"
   ]
  },
  {
   "cell_type": "markdown",
   "id": "ab4a8e94",
   "metadata": {},
   "source": [
    "O resultado non é o desexable, xa que execútase o código do módulo importado, en vez de só a función invocada..."
   ]
  },
  {
   "cell_type": "code",
   "execution_count": 20,
   "id": "9dc1179c",
   "metadata": {},
   "outputs": [
    {
     "name": "stdout",
     "output_type": "stream",
     "text": [
      "Son un módulo secundario que vou imprimir algo tanto se se me importa como se se me executa directamente!!! \n",
      " porque non teño a miña condición if __name__ == \"__main__\":\n",
      "30\n"
     ]
    }
   ],
   "source": [
    "# Módulo principal\n",
    "import modulo_secundario_sen\n",
    "\n",
    "def funcion_principal_2():\n",
    "  print('Ola meus!!! Non é momento de chistes')\n",
    "  print(modulo_secundario_sen.exemplo_funcion_Y(1,2))\n",
    "\n",
    "  if __name__ == '__main__':\n",
    "    funcion_principal_2()"
   ]
  },
  {
   "cell_type": "markdown",
   "id": "c2097224",
   "metadata": {},
   "source": [
    "## Paquetes\n",
    "Un paquete é, basicamente, un cartafol que contén varios módulos.\n",
    "\n",
    "Un paquete normal é unha cartafol dentro do que hai varios ficheiros `.py`, sendo cada un deles un módulo.\n",
    "\n",
    "Para proxectos grandes, é necesario agrupar diferentes módulos en cartafoles. Así, pódense cargar varios módulos que teñen funcionalidades similares."
   ]
  },
  {
   "attachments": {
    "estrutura_paquete_python.png": {
     "image/png": "[encoded data removed]"
    }
   },
   "cell_type": "markdown",
   "id": "af607fe1",
   "metadata": {},
   "source": [
    "### Creación de paquetes\n",
    "Todo paquete debería ter un ficheiro Python chamado `__init__.py` que **pode estar baleiro**, non ten porqué conter ningunha instrución (en python2 se non existise ese ficheiro daríase un erro ó importalo, pero en python3 xa non). Con todo, é aconsellable que o ficheiro `__init__.py` inclúa os `import` de tódo-los módulos que están incluídos no paquete. \n",
    "\n",
    "Un exemplo de estrutura de paquete sería o seguinte:\n",
    "![estrutura_paquete_python.png](attachment:estrutura_paquete_python.png)"
   ]
  },
  {
   "cell_type": "markdown",
   "id": "31e8c60a",
   "metadata": {},
   "source": [
    "### Importación de paquetes"
   ]
  },
  {
   "cell_type": "markdown",
   "id": "d56844ca",
   "metadata": {},
   "source": [
    "Para ese exemplo, o ficheiro `__init__.py` debería incluí-las seguintes instrucións para que con só importa-lo paquete se importen tódolos seus módulos:\n",
    "\n",
    "`import modulo1, modulo2`"
   ]
  },
  {
   "cell_type": "markdown",
   "id": "14b2ecf5",
   "metadata": {},
   "source": [
    "Cando se importa un paquete regular, este arquivo `__init__.py` execútase implicitamente, e os obxectos que define están vinculados a nomes no *namespace* do paquete."
   ]
  },
  {
   "attachments": {
    "estrutura_paquete_figuras.png": {
     "image/png": "[encoded data removed]"
    }
   },
   "cell_type": "markdown",
   "id": "c70d5910",
   "metadata": {},
   "source": [
    "Para o exemplo anterior de módulos de figuras xeométricas, poderiamos incluí-los módulos *circunferencia* e *rectangulo* nun paquete chamado *figuras*. Para iso, fariamos unha estrutura de ficheiros do seguinte xeito:\n",
    "\n",
    "\n",
    "![estrutura_paquete_figuras.png](attachment:estrutura_paquete_figuras.png)"
   ]
  },
  {
   "cell_type": "code",
   "execution_count": 21,
   "id": "d19e803c",
   "metadata": {},
   "outputs": [
    {
     "name": "stdout",
     "output_type": "stream",
     "text": [
      "\u001b[01;34mfiguras\u001b[00m\n",
      "├── circunferencia.py\n",
      "├── __init__.py\n",
      "├── rectangulo.py\n",
      "└── \u001b[01;34m__pycache__\u001b[00m\n",
      "    ├── __init__.cpython-39.pyc\n",
      "    └── __init__.cpython-38.pyc\n",
      "\n",
      "1 directory, 5 files\n"
     ]
    }
   ],
   "source": [
    "! cd codigo/05; tree -t figuras; cd ../.."
   ]
  },
  {
   "cell_type": "markdown",
   "id": "6400375a",
   "metadata": {},
   "source": [
    "O ficheiro `__init__.py` podería incluí-la orde de importa-los 2 módulos que temos: *circunferencia* e *rectangulo*:\n",
    "\n",
    "`# __init__.py\n",
    "import circunferencia\n",
    "import rectangulo\n",
    "`"
   ]
  },
  {
   "cell_type": "code",
   "execution_count": 22,
   "id": "6a0e6249",
   "metadata": {},
   "outputs": [
    {
     "name": "stdout",
     "output_type": "stream",
     "text": [
      "# __init__.py\n",
      "import circunferencia\n",
      "import rectangulo\n"
     ]
    }
   ],
   "source": [
    "! cat ./codigo/05/figuras/__init__.py"
   ]
  },
  {
   "cell_type": "markdown",
   "id": "be43ca6e",
   "metadata": {},
   "source": [
    "Para importar un paquete basta con usa-la instrución `import` seguida do nome do paquete ou paquetes (separados por comas) que se queiran importar:\n",
    "\n",
    "`import paquete1, paquete2, ..., paqueteN`\n",
    "\n",
    "Para o noso exemplo podemos importa-lo paquete *figuras* e logo executar algunha das funcións de cálculo definidas nos módulos *circunferencia* ou *rectangulo* que se inclúen no paquete."
   ]
  },
  {
   "cell_type": "code",
   "execution_count": 23,
   "id": "2fbb276f",
   "metadata": {},
   "outputs": [],
   "source": [
    "# Como anteriormente xa indicamos que busque os módulos a importar na ruta axeitada, saberá onde localizalos e importalos\n",
    "# import sys\n",
    "# sys.path.append('codigo/05')\n",
    "import figuras  # impórtase o paquete figuras e como no seu ficheiro __init__.py se importan os módulos, estes están dispoñibles"
   ]
  },
  {
   "cell_type": "markdown",
   "id": "5bab4cdd",
   "metadata": {},
   "source": [
    "Unha vez importado o paquete para executa-las funcións desexadas hai que usa-lo nome do paquete, seguido do nome do módulo e por último a función que se queira executar, é dicir, hai que usa-lo nome totalmente cualificado (*FQN*) que referencia o *namespace*:"
   ]
  },
  {
   "cell_type": "code",
   "execution_count": 24,
   "id": "f99d0577",
   "metadata": {},
   "outputs": [
    {
     "data": {
      "text/plain": [
       "20"
      ]
     },
     "execution_count": 24,
     "metadata": {},
     "output_type": "execute_result"
    }
   ],
   "source": [
    "figuras.rectangulo.area(10,2)  # tras importa-lo paquete, tamén se importaron seus módulos, polo que as funcións están dispoñibles"
   ]
  },
  {
   "cell_type": "code",
   "execution_count": 25,
   "id": "487b4e8a",
   "metadata": {},
   "outputs": [
    {
     "data": {
      "text/plain": [
       "314.1592653589793"
      ]
     },
     "execution_count": 25,
     "metadata": {},
     "output_type": "execute_result"
    }
   ],
   "source": [
    "figuras.circunferencia.area(10)"
   ]
  },
  {
   "cell_type": "markdown",
   "id": "82e14393",
   "metadata": {},
   "source": [
    "### Importación de módulos de paquetes: *from*"
   ]
  },
  {
   "cell_type": "markdown",
   "id": "6bcb7a09",
   "metadata": {},
   "source": [
    "Hai outra forma de importa-los módulos que se atopan incluídos en paquetes que **simplifica a invocación das funcións dos módulos importados**, para que non sexa necesario usa-lo nome do paquete, seguido do nome do módulo e, por último, o nome da función a executar."
   ]
  },
  {
   "cell_type": "markdown",
   "id": "79206150",
   "metadata": {},
   "source": [
    "Unha forma de simplificar isto consiste en usar a palabra reservada `from` na importación para que nos indique onde se atopan os módulos que queremos importar. Para iso usaremos unha das seguintes sintaxes de importación.\n",
    "\n",
    "- `from paquete import modulo1, modulo2, …, moduloN` \n",
    "\n",
    "Permite importar algúns módulos do paquete, para o que basta con po-los nomes dos módulos que queremos importar separados por comas. \n",
    "\n",
    "- `from paquete import *` \n",
    "\n",
    "En vez de concretar módulos, usa o asterisco (`*`) para indicar que importamos tódolos módulos que existen dentro do paquete."
   ]
  },
  {
   "cell_type": "markdown",
   "id": "b61e3900",
   "metadata": {},
   "source": [
    "Usando calquera destas dúas formas, xa non é necesario usa-lo nome do paquete á hora de executar funcións dos módulos que importemos. \n",
    "\n",
    "Por exemplo, para usa-las funcións do paquete figuras:"
   ]
  },
  {
   "cell_type": "code",
   "execution_count": 26,
   "id": "b25878c1",
   "metadata": {},
   "outputs": [
    {
     "data": {
      "text/plain": [
       "314.1592653589793"
      ]
     },
     "execution_count": 26,
     "metadata": {},
     "output_type": "execute_result"
    }
   ],
   "source": [
    "# Como anteriormente xa indicamos que busque os módulos a importar na ruta axeitada, saberá onde localizalos e importalos\n",
    "# import sys\n",
    "# sys.path.append('codigo/05')\n",
    "from figuras import *\n",
    "circunferencia.area(10)\n"
   ]
  },
  {
   "cell_type": "code",
   "execution_count": 27,
   "id": "b7f3e066",
   "metadata": {},
   "outputs": [
    {
     "data": {
      "text/plain": [
       "20"
      ]
     },
     "execution_count": 27,
     "metadata": {},
     "output_type": "execute_result"
    }
   ],
   "source": [
    "rectangulo.area(10, 2)"
   ]
  },
  {
   "cell_type": "markdown",
   "id": "a488fd23",
   "metadata": {},
   "source": [
    "Tamén pódense usa-los alias nesta estrutura para importar módulos, aínda que habería que importa-los módulos dun nun. Para iso, inclúese a palabra reservada `as` seguida do alias que se queira utilizar para módulo:\n",
    "`from paquete import modulo as mod`"
   ]
  },
  {
   "cell_type": "code",
   "execution_count": 28,
   "id": "7f563f6c",
   "metadata": {},
   "outputs": [
    {
     "data": {
      "text/plain": [
       "314.1592653589793"
      ]
     },
     "execution_count": 28,
     "metadata": {},
     "output_type": "execute_result"
    }
   ],
   "source": [
    "# Como anteriormente xa indicamos que busque os módulos a importar na ruta axeitada, saberá onde localizalos e importalos\n",
    "# import sys\n",
    "# sys.path.append('codigo/05')\n",
    "from figuras import circunferencia as cir\n",
    "from figuras import rectangulo as rec\n",
    "cir.area(10)\n"
   ]
  },
  {
   "cell_type": "code",
   "execution_count": 29,
   "id": "4a65e7ca",
   "metadata": {},
   "outputs": [
    {
     "data": {
      "text/plain": [
       "20"
      ]
     },
     "execution_count": 29,
     "metadata": {},
     "output_type": "execute_result"
    }
   ],
   "source": [
    "rec.area(10, 2)"
   ]
  },
  {
   "cell_type": "markdown",
   "id": "2c590332",
   "metadata": {},
   "source": [
    "É posible crear **paquetes dentro doutros paquetes**. \n",
    "\n",
    "Para importa-los módulos que hai dentro de paquetes incluídos noutros paquetes utilízanse as formas que vimos anteriormente, pero separando os nomes da ruta dos paquetes por puntos(`.`):\n",
    "\n",
    "`from paquete.subpaquete import *`"
   ]
  },
  {
   "cell_type": "code",
   "execution_count": 30,
   "id": "a429e29a",
   "metadata": {},
   "outputs": [
    {
     "name": "stdout",
     "output_type": "stream",
     "text": [
      "\u001b[01;34mcodigo/05/aritmetica\u001b[00m\n",
      "├── \u001b[01;34mavanzada\u001b[00m\n",
      "│   ├── __init__.py\n",
      "│   ├── multiplicadivide.py\n",
      "│   └── \u001b[01;34m__pycache__\u001b[00m\n",
      "│       ├── __init__.cpython-39.pyc\n",
      "│       ├── multiplicadivide.cpython-39.pyc\n",
      "│       ├── __init__.cpython-38.pyc\n",
      "│       └── multiplicadivide.cpython-38.pyc\n",
      "├── __init__.py\n",
      "├── sumaresta.py\n",
      "└── \u001b[01;34m__pycache__\u001b[00m\n",
      "    ├── __init__.cpython-39.pyc\n",
      "    ├── sumaresta.cpython-39.pyc\n",
      "    ├── __init__.cpython-38.pyc\n",
      "    └── sumaresta.cpython-38.pyc\n",
      "\n",
      "3 directories, 12 files\n"
     ]
    }
   ],
   "source": [
    "! tree -t codigo/05/aritmetica;"
   ]
  },
  {
   "cell_type": "code",
   "execution_count": 31,
   "id": "ec204094",
   "metadata": {},
   "outputs": [
    {
     "data": {
      "text/plain": [
       "5"
      ]
     },
     "execution_count": 31,
     "metadata": {},
     "output_type": "execute_result"
    }
   ],
   "source": [
    "# Anteriormente xa indicaramos que buscase os módulos a importar nunha ruta concreta, pero os subcartafois \n",
    "# non saberá localizalos para importalos, polo que haberá que engadir eses subcartafois ás rutas dos módulos \n",
    "# import sys\n",
    "# sys.path.append('codigo/05')\n",
    "sys.path.append('codigo/05/aritmetica')\n",
    "import aritmetica\n",
    "aritmetica.sumaresta.sumar(2,3)"
   ]
  },
  {
   "cell_type": "code",
   "execution_count": 32,
   "id": "8c7d0cf5",
   "metadata": {},
   "outputs": [
    {
     "data": {
      "text/plain": [
       "6"
      ]
     },
     "execution_count": 32,
     "metadata": {},
     "output_type": "execute_result"
    }
   ],
   "source": [
    "# import sys\n",
    "# sys.path.append('codigo/05')\n",
    "# sys.path.append('codigo/05/aritmetica')\n",
    "from aritmetica.avanzada import multiplicadivide\n",
    "multiplicadivide.multiplicar(2,3)"
   ]
  },
  {
   "cell_type": "code",
   "execution_count": 33,
   "id": "257abe32",
   "metadata": {},
   "outputs": [
    {
     "data": {
      "text/plain": [
       "6"
      ]
     },
     "execution_count": 33,
     "metadata": {},
     "output_type": "execute_result"
    }
   ],
   "source": [
    "from aritmetica.avanzada import *\n",
    "multiplicadivide.multiplicar(2,3)"
   ]
  },
  {
   "cell_type": "markdown",
   "id": "b7d73370",
   "metadata": {},
   "source": [
    "## Documentar módulos e paquetes\n",
    "É posible documenta-los módulos do mesmo xeito que as funcións, usando os *docstring*.\n",
    "\n",
    "O **docstring** dun módulo debe estar na primeira liña deste. Para iso, escribiremos esta documentación usando as dobres comiñas (`“`) tres veces para inicia-a documentación e outras tres veces para pechala. Esta documentación pode ocupar máis dunha liña.\n",
    "Por exemplo, o docstring do módulo cadrado podería ser deste xeito:\n",
    "\n",
    "`# Módulo cadrado.py \n",
    "\n",
    "\"\"\"Módulo cadrado: \n",
    "\n",
    "Inclúe as funcións que nos permiten obter dun cadrado: \n",
    "\n",
    " o  perímetro  \n",
    " \n",
    " a área  \n",
    " \n",
    "\"\"\" \n",
    "\n",
    "def perimetro(lado): \n",
    "    return (4 * lado) \n",
    "    \n",
    "def area(lado): \n",
    "    return lado**2 \n",
    "    \n",
    "`"
   ]
  },
  {
   "cell_type": "code",
   "execution_count": 34,
   "id": "9e1272c4",
   "metadata": {},
   "outputs": [
    {
     "name": "stdout",
     "output_type": "stream",
     "text": [
      "# Módulo cadrado.py\n",
      "\"\"\"Módulo cadrado:\n",
      "Inclúe as funcións que nos permiten obter dun cadrado:\n",
      "- o  perímetro \n",
      "- a área \n",
      "\"\"\"\n",
      "def perimetro(lado):\n",
      "    return (4 * lado)\n",
      "def area(lado):\n",
      "    return lado**2\n"
     ]
    }
   ],
   "source": [
    "! cat ./codigo/05/cadrado.py"
   ]
  },
  {
   "cell_type": "markdown",
   "id": "f5ec242d",
   "metadata": {},
   "source": [
    "A gran vantaxe de utilizar docstring consiste en que podemos consultar esta documentación coa instrución `help()` e incluí-lo nome do módulo do que queremos consulta-la documentación."
   ]
  },
  {
   "cell_type": "code",
   "execution_count": 35,
   "id": "4dd1aaac",
   "metadata": {},
   "outputs": [
    {
     "name": "stdout",
     "output_type": "stream",
     "text": [
      "Help on module cadrado:\n",
      "\n",
      "NAME\n",
      "    cadrado\n",
      "\n",
      "DESCRIPTION\n",
      "    Módulo cadrado:\n",
      "    Inclúe as funcións que nos permiten obter dun cadrado:\n",
      "    - o  perímetro \n",
      "    - a área\n",
      "\n",
      "FUNCTIONS\n",
      "    area(lado)\n",
      "    \n",
      "    perimetro(lado)\n",
      "\n",
      "FILE\n",
      "    /home/ricardo/MEGA/MEGAsync/repositoriogithub/bigdata/python_fundamentos/codigo/05/cadrado.py\n",
      "\n",
      "\n"
     ]
    }
   ],
   "source": [
    "# Como anteriormente xa indicamos que busque os módulos a importar na ruta axeitada, saberá onde localizalos e importalos\n",
    "# import sys\n",
    "# sys.path.append('codigo/05')\n",
    "import cadrado\n",
    "help(cadrado)"
   ]
  },
  {
   "cell_type": "code",
   "execution_count": 36,
   "id": "f3271e04",
   "metadata": {},
   "outputs": [
    {
     "data": {
      "text/plain": [
       "25"
      ]
     },
     "execution_count": 36,
     "metadata": {},
     "output_type": "execute_result"
    }
   ],
   "source": [
    "cadrado.area(5)"
   ]
  },
  {
   "cell_type": "code",
   "execution_count": 37,
   "id": "0d55ad31",
   "metadata": {},
   "outputs": [
    {
     "data": {
      "text/plain": [
       "20"
      ]
     },
     "execution_count": 37,
     "metadata": {},
     "output_type": "execute_result"
    }
   ],
   "source": [
    "cadrado.perimetro(5)"
   ]
  },
  {
   "cell_type": "markdown",
   "id": "eb659ed1",
   "metadata": {},
   "source": [
    "### Documentar paquetes\n",
    "Tamén é posible incluír esta documentación nos paquetes. Para iso, o *docstring* debe estar incluído na primeira liña do arquivo ***__init__.py*** do paquete. \n",
    "Ó executa-la instrución `help()` co nome do paquete devolverano-la documentación que escribimos."
   ]
  },
  {
   "cell_type": "code",
   "execution_count": 38,
   "id": "c59e94c1",
   "metadata": {},
   "outputs": [
    {
     "name": "stdout",
     "output_type": "stream",
     "text": [
      "Help on package aritmetica:\n",
      "\n",
      "NAME\n",
      "    aritmetica\n",
      "\n",
      "DESCRIPTION\n",
      "    Paquete aritmetica:\n",
      "    Inclúe as funcións que nos permiten obter dunha parella de números:\n",
      "     a suma \n",
      "     a resta\n",
      "\n",
      "PACKAGE CONTENTS\n",
      "    avanzada (package)\n",
      "    sumaresta\n",
      "\n",
      "FILE\n",
      "    /home/ricardo/MEGA/MEGAsync/repositoriogithub/bigdata/python_fundamentos/codigo/05/aritmetica/__init__.py\n",
      "\n",
      "\n"
     ]
    }
   ],
   "source": [
    "# Anteriormente xa indicaramos que buscase os módulos a importar nunha ruta concreta, os subcartafois non saberá localizalos\n",
    "# para importalos, polo que haberá que engadir eses subcartafois ás rutas dos módulos \n",
    "#import sys\n",
    "sys.path.append('codigo/05/aritmetica')\n",
    "import aritmetica\n",
    "help(aritmetica)"
   ]
  },
  {
   "cell_type": "code",
   "execution_count": 39,
   "id": "d82d7d99",
   "metadata": {},
   "outputs": [
    {
     "name": "stdout",
     "output_type": "stream",
     "text": [
      "Help on module sumaresta:\n",
      "\n",
      "NAME\n",
      "    sumaresta\n",
      "\n",
      "DESCRIPTION\n",
      "    Módulo sumaresta:\n",
      "    Inclúe as funcións que nos permiten realiza-las operacións aritméticas básicas con 2 números:\n",
      "     sumar 2 valores \n",
      "     restar o segundo valor ó primeiro\n",
      "\n",
      "FUNCTIONS\n",
      "    restar(a, b)\n",
      "    \n",
      "    sumar(a, b)\n",
      "\n",
      "FILE\n",
      "    /home/ricardo/MEGA/MEGAsync/repositoriogithub/bigdata/python_fundamentos/codigo/05/aritmetica/sumaresta.py\n",
      "\n",
      "\n"
     ]
    }
   ],
   "source": [
    "help(aritmetica.sumaresta)"
   ]
  },
  {
   "cell_type": "code",
   "execution_count": 40,
   "id": "32bf7edf",
   "metadata": {},
   "outputs": [
    {
     "data": {
      "text/plain": [
       "11"
      ]
     },
     "execution_count": 40,
     "metadata": {},
     "output_type": "execute_result"
    }
   ],
   "source": [
    "aritmetica.sumaresta.sumar(5,6)"
   ]
  },
  {
   "cell_type": "code",
   "execution_count": 41,
   "id": "b4bcaa5f",
   "metadata": {},
   "outputs": [
    {
     "data": {
      "text/plain": [
       "30"
      ]
     },
     "execution_count": 41,
     "metadata": {},
     "output_type": "execute_result"
    }
   ],
   "source": [
    "aritmetica.avanzada.multiplicadivide.multiplicar(5,6)"
   ]
  },
  {
   "cell_type": "code",
   "execution_count": 42,
   "id": "eb09311b",
   "metadata": {},
   "outputs": [
    {
     "name": "stdout",
     "output_type": "stream",
     "text": [
      "Help on function multiplicar in module aritmetica.avanzada.multiplicadivide:\n",
      "\n",
      "multiplicar(a, b)\n",
      "\n"
     ]
    }
   ],
   "source": [
    "help(aritmetica.avanzada.multiplicadivide.multiplicar)"
   ]
  }
 ],
 "metadata": {
  "kernelspec": {
   "display_name": "Python 3 (ipykernel)",
   "language": "python",
   "name": "python3"
  },
  "language_info": {
   "codemirror_mode": {
    "name": "ipython",
    "version": 3
   },
   "file_extension": ".py",
   "mimetype": "text/x-python",
   "name": "python",
   "nbconvert_exporter": "python",
   "pygments_lexer": "ipython3",
   "version": "3.8.10"
  }
 },
 "nbformat": 4,
 "nbformat_minor": 5
}
